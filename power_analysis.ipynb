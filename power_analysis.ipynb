{
 "cells": [
  {
   "cell_type": "markdown",
   "metadata": {},
   "source": [
    "# Analysis of performance - power data"
   ]
  },
  {
   "cell_type": "code",
   "execution_count": 2,
   "metadata": {},
   "outputs": [],
   "source": [
    "import pandas as pd\n",
    "import numpy as np\n",
    "import matplotlib.pyplot as plt\n",
    "from sklearn.ensemble import RandomForestRegressor\n",
    "from sklearn.model_selection import train_test_split, GridSearchCV, ShuffleSplit\n",
    "import scipy as sp\n",
    "import pickle as pkl\n",
    "%matplotlib inline"
   ]
  },
  {
   "cell_type": "code",
   "execution_count": 179,
   "metadata": {},
   "outputs": [
    {
     "name": "stdout",
     "output_type": "stream",
     "text": [
      "   Beat  Tag            Timestamp  Global_Rate  Window_Rate  Instant_Rate  \\\n",
      "0     0    0  1527326949297512609     0.000000     0.000000      0.000000   \n",
      "1     1    1  1527326953058903759     0.531718     0.265859      0.265859   \n",
      "2     2    2  1527326956838578947     0.397822     0.265214      0.264573   \n",
      "3     3    3  1527326960616173890     0.353399     0.265049      0.264719   \n",
      "4     4    4  1527326964388316847     0.331328     0.265062      0.265101   \n",
      "\n",
      "   Global_Accuracy  Window_Accuracy  Instant_Accuracy  Global_Power  \\\n",
      "0              1.0              1.0               1.0      0.000000   \n",
      "1              1.0              1.0               1.0      0.793298   \n",
      "2              1.0              1.0               1.0      0.820799   \n",
      "3              1.0              1.0               1.0      0.812252   \n",
      "4              1.0              1.0               1.0      0.808221   \n",
      "\n",
      "   Window_Power  Instant_Power  \n",
      "0      0.000000       0.000000  \n",
      "1      0.793298       0.793298  \n",
      "2      0.820799       0.848168  \n",
      "3      0.812252       0.795190  \n",
      "4      0.808221       0.796125  \n"
     ]
    }
   ],
   "source": [
    "## Import data\n",
    "file_path = '/Users/yzamora/power/initial_combo_logs/heartbeat_0x1-1200000.log'\n",
    "df = pd.read_csv(file_path, sep='\\s+')\n",
    "print (df.head())"
   ]
  },
  {
   "cell_type": "markdown",
   "metadata": {},
   "source": [
    "## Plotting performance vs power using HeartLogs:"
   ]
  },
  {
   "cell_type": "code",
   "execution_count": 180,
   "metadata": {},
   "outputs": [
    {
     "data": {
      "text/plain": [
       "<matplotlib.axes._subplots.AxesSubplot at 0x111a383c8>"
      ]
     },
     "execution_count": 180,
     "metadata": {},
     "output_type": "execute_result"
    },
    {
     "data": {
      "image/png": "[encoded data removed]",
      "text/plain": [
       "<Figure size 432x288 with 1 Axes>"
      ]
     },
     "metadata": {},
     "output_type": "display_data"
    }
   ],
   "source": [
    "power = df['Window_Rate']\n",
    "#removing first row, value = 0 \n",
    "df = df.iloc[1:]\n",
    "#print( power )\n",
    "df.plot(x='Window_Rate', y='Window_Power', style='o')\n"
   ]
  },
  {
   "cell_type": "markdown",
   "metadata": {},
   "source": [
    "## Performance vs power using STREAM.results\n",
    "Using combinations of little and bit cores - 881 Combinations"
   ]
  },
  {
   "cell_type": "code",
   "execution_count": 75,
   "metadata": {},
   "outputs": [
    {
     "name": "stdout",
     "output_type": "stream",
     "text": [
      "  cores    freq      Rate     Power      Energy  WU_PWR_AVG  WU_ENERGY\n",
      "0  0xe6  100000  5.887958  5.439624  461.927430         NaN        NaN\n",
      "1  0xe6  200000  5.888939  5.474008  464.770101         NaN        NaN\n",
      "2  0xe6  400000  5.897709  5.441137  461.291977         NaN        NaN\n",
      "3  0xe6  600000  5.897312  5.442045  461.399975         NaN        NaN\n",
      "4  0xe6  700000  5.908167  5.432657  459.758156         NaN        NaN\n"
     ]
    }
   ],
   "source": [
    "#Import Data\n",
    "#file_path = '/Users/yzamora/power/STREAM_big.results'\n",
    "file_path = '/Users/yzamora/power/all.out'\n",
    "\n",
    "df = pd.read_csv(file_path, sep='\\s+')\n",
    "print (df.head())"
   ]
  },
  {
   "cell_type": "code",
   "execution_count": 76,
   "metadata": {},
   "outputs": [
    {
     "data": {
      "text/plain": [
       "<matplotlib.axes._subplots.AxesSubplot at 0x118cc5860>"
      ]
     },
     "execution_count": 76,
     "metadata": {},
     "output_type": "execute_result"
    },
    {
     "data": {
      "image/png": "[encoded data removed]",
      "text/plain": [
       "<Figure size 432x288 with 1 Axes>"
      ]
     },
     "metadata": {},
     "output_type": "display_data"
    }
   ],
   "source": [
    "\n",
    "df.plot(x='Rate', y='Power',kind='scatter',style='o')\n"
   ]
  },
  {
   "cell_type": "markdown",
   "metadata": {},
   "source": [
    "## Clock Speed vs Number of Cores"
   ]
  },
  {
   "cell_type": "markdown",
   "metadata": {},
   "source": [
    "First Converting Hex to Binary, then getting the number of cores being used\n"
   ]
  },
  {
   "cell_type": "code",
   "execution_count": 77,
   "metadata": {},
   "outputs": [],
   "source": [
    "def convert_to_bin(df):\n",
    "    cores_hex = df['cores'].tolist()\n",
    "    cores_bin = []\n",
    "    big_cores = []\n",
    "    lil_cores = []\n",
    "    total_cores = []\n",
    "    scale = 16 ## equals to hexadecimal\n",
    "    num_of_bits = 8\n",
    "\n",
    "    for i in cores_hex:\n",
    "    #my_hexdata = \"1a\" \n",
    "        bin_val = bin(int(i, scale))[2:].zfill(num_of_bits)\n",
    "        ncores=0\n",
    "        nlittle=0\n",
    "        nbig=0\n",
    "        for j in range(len(bin_val)): \n",
    "            ncores+=int(bin_val[j])\n",
    "            if j<4: nbig+=int(bin_val[j])\n",
    "            else: nlittle+=int(bin_val[j])\n",
    "        #print(bin_val+\" big, little, total: \"+str(nbig)+\" \"+str(nlittle)+\" \"+str(ncores))\n",
    "        cores_bin.append(bin_val)\n",
    "        big_cores.append(nbig)\n",
    "        lil_cores.append(nlittle)\n",
    "        total_cores.append(ncores)\n",
    "\n",
    "\n",
    "    #print (cores_bin)\n",
    "    df['big_cores'] = big_cores\n",
    "    df['lil_cores'] = lil_cores\n",
    "    df['total_cores'] = total_cores\n",
    "    \n",
    "\n",
    "    print(df.head())\n",
    "    return df\n",
    "\n"
   ]
  },
  {
   "cell_type": "code",
   "execution_count": 78,
   "metadata": {},
   "outputs": [],
   "source": [
    "#Creating columns for core positions\n",
    "import numpy\n",
    "def create_col(df):\n",
    "    \n",
    "    \n",
    "    new_cols = {  'core-0': [], \n",
    "                  'core-1': [],  \n",
    "                  'core-2': [], \n",
    "                  'core-3': [], \n",
    "                  'core-4': [], \n",
    "                  'core-5': [], \n",
    "                  'core-6': [],\n",
    "                  'core-7': [] }\n",
    "    \n",
    "    current_row = []\n",
    "    cores_hex = df['cores'].tolist()\n",
    "    cores_bin = []\n",
    "    big_cores = []\n",
    "    lil_cores = []\n",
    "    total_cores = []\n",
    "    scale = 16 ## equals to hexadecimal\n",
    "    num_of_bits = 8\n",
    "\n",
    "    for i in cores_hex:\n",
    "    #my_hexdata = \"1a\" \n",
    "        bin_val = bin(int(i, scale))[2:].zfill(num_of_bits)\n",
    "        ncores=0\n",
    "        nlittle=0\n",
    "        nbig=0\n",
    "        for j in range(len(bin_val)):\n",
    "            dict_key = 'core-'+str(j)\n",
    "            new_cols[ dict_key ].append( int( bin_val[ j ] ) )\n",
    "            ncores+=int(bin_val[j])\n",
    "            if j<4: nbig+=int(bin_val[j])\n",
    "            else: nlittle+=int(bin_val[j])\n",
    "        #print(bin_val+\" big, little, total: \"+str(nbig)+\" \"+str(nlittle)+\" \"+str(ncores))\n",
    "        cores_bin.append(bin_val)\n",
    "        big_cores.append(nbig)\n",
    "        lil_cores.append(nlittle)\n",
    "        total_cores.append(ncores)\n",
    "\n",
    "\n",
    "    #print (cores_bin)\n",
    "    df['big_cores'] = big_cores\n",
    "    df['lil_cores'] = lil_cores\n",
    "    df['total_cores'] = total_cores\n",
    "\n",
    "    for j in range(len(bin_val)):\n",
    "        dict_key = 'core-'+str(j)\n",
    "        df[dict_key] = new_cols[dict_key]\n",
    "    \n",
    "    print(df)\n",
    "    return df\n",
    "    "
   ]
  },
  {
   "cell_type": "code",
   "execution_count": 150,
   "metadata": {},
   "outputs": [
    {
     "name": "stdout",
     "output_type": "stream",
     "text": [
      "    cores     freq      Rate     Power      Energy  WU_PWR_AVG  WU_ENERGY  \\\n",
      "0    0xe6   100000  5.887958  5.439624  461.927430         NaN        NaN   \n",
      "1    0xe6   200000  5.888939  5.474008  464.770101         NaN        NaN   \n",
      "2    0xe6   400000  5.897709  5.441137  461.291977         NaN        NaN   \n",
      "3    0xe6   600000  5.897312  5.442045  461.399975         NaN        NaN   \n",
      "4    0xe6   700000  5.908167  5.432657  459.758156         NaN        NaN   \n",
      "5    0xe6   800000  5.893648  5.440728  461.575041         NaN        NaN   \n",
      "6    0xe6  1000000  5.892087  5.463399  463.621307         NaN        NaN   \n",
      "7    0xe6  1200000  5.879515  5.468053  465.008695         NaN        NaN   \n",
      "8    0xe6  1400000  5.890988  5.457655  463.220651         NaN        NaN   \n",
      "9    0xda   100000  5.904099  5.387178  456.223404         NaN        NaN   \n",
      "10   0xda   200000  5.900255  5.434772  460.553992         NaN        NaN   \n",
      "11   0xda   400000  5.891115  5.452016  462.731679         NaN        NaN   \n",
      "12   0xda   600000  5.890124  5.460129  463.498338         NaN        NaN   \n",
      "13   0xda   700000  5.886829  5.464754  464.150520         NaN        NaN   \n",
      "14   0xda   800000  5.889059  5.475984  464.928564         NaN        NaN   \n",
      "15   0xda  1000000  5.897247  5.458857  462.830828         NaN        NaN   \n",
      "16   0xda  1200000  5.874792  5.485718  466.885618         NaN        NaN   \n",
      "17   0xda  1400000  5.889206  5.465076  463.990417         NaN        NaN   \n",
      "18   0x2d   100000  5.217183  3.554354  340.638979         NaN        NaN   \n",
      "19   0x2d   200000  5.214908  3.516393  337.147892         NaN        NaN   \n",
      "20   0x2d   400000  5.218577  3.497162  335.068336         NaN        NaN   \n",
      "21   0x2d   600000  5.221351  3.504558  335.598576         NaN        NaN   \n",
      "22   0x2d   700000  5.217522  3.504021  335.793486         NaN        NaN   \n",
      "23   0x2d   800000  5.223293  3.503279  335.351382         NaN        NaN   \n",
      "24   0x2d  1000000  5.220663  3.503156  335.508460         NaN        NaN   \n",
      "25   0x2d  1200000  5.222721  3.507025  335.746791         NaN        NaN   \n",
      "26   0x2d  1400000  5.220195  3.505391  335.752659         NaN        NaN   \n",
      "27   0x7e   100000  5.865554  5.631357  480.036017         NaN        NaN   \n",
      "28   0x7e   200000  5.849438  5.722359  489.136947         NaN        NaN   \n",
      "29   0x7e   400000  5.854089  5.751586  491.244685         NaN        NaN   \n",
      "..    ...      ...       ...       ...         ...         ...        ...   \n",
      "851  0x4e  1000000  5.250843  3.444827  328.026072         NaN        NaN   \n",
      "852  0x4e  1200000  5.245897  3.452810  329.095953         NaN        NaN   \n",
      "853  0x4e  1400000  5.247637  3.443291  328.079865         NaN        NaN   \n",
      "854  0xa9   100000  6.159271  4.526939  367.489664         NaN        NaN   \n",
      "855  0xa9   200000  6.156690  4.586772  372.502762         NaN        NaN   \n",
      "856  0xa9   400000  6.157651  4.583316  372.163884         NaN        NaN   \n",
      "857  0xa9   600000  6.155979  4.593227  373.070164         NaN        NaN   \n",
      "858  0xa9   700000  6.156774  4.582739  372.170191         NaN        NaN   \n",
      "859  0xa9   800000  6.154952  4.593637  373.165939         NaN        NaN   \n",
      "860  0xa9  1000000  6.157669  4.586491  372.420775         NaN        NaN   \n",
      "861  0xa9  1200000  6.158964  4.570123  371.013553         NaN        NaN   \n",
      "862  0xa9  1400000  6.155409  4.596238  373.349195         NaN        NaN   \n",
      "863  0x1e   100000  5.254973  3.487709  331.848187         NaN        NaN   \n",
      "864  0x1e   200000  5.254573  3.471489  330.330230         NaN        NaN   \n",
      "865  0x1e   400000  5.253329  3.466142  329.899423         NaN        NaN   \n",
      "866  0x1e   600000  5.251251  3.476953  331.059470         NaN        NaN   \n",
      "867  0x1e   700000  5.254311  3.472912  330.481958         NaN        NaN   \n",
      "868  0x1e   800000  5.254340  3.473696  330.554827         NaN        NaN   \n",
      "869  0x1e  1000000  5.253418  3.471254  330.380417         NaN        NaN   \n",
      "870  0x1e  1200000  5.253360  3.470936  330.353622         NaN        NaN   \n",
      "871  0x1e  1400000  5.251410  3.477935  331.142886         NaN        NaN   \n",
      "872  0xd3   100000  5.891107  5.298956  449.741471         NaN        NaN   \n",
      "873  0xd3   200000  5.893966  5.382740  456.631291         NaN        NaN   \n",
      "874  0xd3   400000  5.903506  5.400578  457.404113         NaN        NaN   \n",
      "875  0xd3   600000  5.893485  5.417686  459.633229         NaN        NaN   \n",
      "876  0xd3   700000  5.893981  5.411821  459.097222         NaN        NaN   \n",
      "877  0xd3   800000  5.895936  5.421249  459.744142         NaN        NaN   \n",
      "878  0xd3  1000000  5.896034  5.427183  460.239771         NaN        NaN   \n",
      "879  0xd3  1200000  5.895737  5.430571  460.550434         NaN        NaN   \n",
      "880  0xd3  1400000  5.894369  5.441322  461.569388         NaN        NaN   \n",
      "\n",
      "     big_cores  lil_cores  total_cores  core-0  core-1  core-2  core-3  \\\n",
      "0            3          2            5       1       1       1       0   \n",
      "1            3          2            5       1       1       1       0   \n",
      "2            3          2            5       1       1       1       0   \n",
      "3            3          2            5       1       1       1       0   \n",
      "4            3          2            5       1       1       1       0   \n",
      "5            3          2            5       1       1       1       0   \n",
      "6            3          2            5       1       1       1       0   \n",
      "7            3          2            5       1       1       1       0   \n",
      "8            3          2            5       1       1       1       0   \n",
      "9            3          2            5       1       1       0       1   \n",
      "10           3          2            5       1       1       0       1   \n",
      "11           3          2            5       1       1       0       1   \n",
      "12           3          2            5       1       1       0       1   \n",
      "13           3          2            5       1       1       0       1   \n",
      "14           3          2            5       1       1       0       1   \n",
      "15           3          2            5       1       1       0       1   \n",
      "16           3          2            5       1       1       0       1   \n",
      "17           3          2            5       1       1       0       1   \n",
      "18           1          3            4       0       0       1       0   \n",
      "19           1          3            4       0       0       1       0   \n",
      "20           1          3            4       0       0       1       0   \n",
      "21           1          3            4       0       0       1       0   \n",
      "22           1          3            4       0       0       1       0   \n",
      "23           1          3            4       0       0       1       0   \n",
      "24           1          3            4       0       0       1       0   \n",
      "25           1          3            4       0       0       1       0   \n",
      "26           1          3            4       0       0       1       0   \n",
      "27           3          3            6       0       1       1       1   \n",
      "28           3          3            6       0       1       1       1   \n",
      "29           3          3            6       0       1       1       1   \n",
      "..         ...        ...          ...     ...     ...     ...     ...   \n",
      "851          1          3            4       0       1       0       0   \n",
      "852          1          3            4       0       1       0       0   \n",
      "853          1          3            4       0       1       0       0   \n",
      "854          2          2            4       1       0       1       0   \n",
      "855          2          2            4       1       0       1       0   \n",
      "856          2          2            4       1       0       1       0   \n",
      "857          2          2            4       1       0       1       0   \n",
      "858          2          2            4       1       0       1       0   \n",
      "859          2          2            4       1       0       1       0   \n",
      "860          2          2            4       1       0       1       0   \n",
      "861          2          2            4       1       0       1       0   \n",
      "862          2          2            4       1       0       1       0   \n",
      "863          1          3            4       0       0       0       1   \n",
      "864          1          3            4       0       0       0       1   \n",
      "865          1          3            4       0       0       0       1   \n",
      "866          1          3            4       0       0       0       1   \n",
      "867          1          3            4       0       0       0       1   \n",
      "868          1          3            4       0       0       0       1   \n",
      "869          1          3            4       0       0       0       1   \n",
      "870          1          3            4       0       0       0       1   \n",
      "871          1          3            4       0       0       0       1   \n",
      "872          3          2            5       1       1       0       1   \n",
      "873          3          2            5       1       1       0       1   \n",
      "874          3          2            5       1       1       0       1   \n",
      "875          3          2            5       1       1       0       1   \n",
      "876          3          2            5       1       1       0       1   \n",
      "877          3          2            5       1       1       0       1   \n",
      "878          3          2            5       1       1       0       1   \n",
      "879          3          2            5       1       1       0       1   \n",
      "880          3          2            5       1       1       0       1   \n",
      "\n",
      "     core-4  core-5  core-6  core-7  \n",
      "0         0       1       1       0  \n",
      "1         0       1       1       0  \n",
      "2         0       1       1       0  \n",
      "3         0       1       1       0  \n",
      "4         0       1       1       0  \n",
      "5         0       1       1       0  \n",
      "6         0       1       1       0  \n",
      "7         0       1       1       0  \n",
      "8         0       1       1       0  \n",
      "9         1       0       1       0  \n",
      "10        1       0       1       0  \n",
      "11        1       0       1       0  \n",
      "12        1       0       1       0  \n",
      "13        1       0       1       0  \n",
      "14        1       0       1       0  \n",
      "15        1       0       1       0  \n",
      "16        1       0       1       0  \n",
      "17        1       0       1       0  \n",
      "18        1       1       0       1  \n",
      "19        1       1       0       1  \n",
      "20        1       1       0       1  \n",
      "21        1       1       0       1  \n",
      "22        1       1       0       1  \n",
      "23        1       1       0       1  \n",
      "24        1       1       0       1  \n",
      "25        1       1       0       1  \n",
      "26        1       1       0       1  \n",
      "27        1       1       1       0  \n",
      "28        1       1       1       0  \n",
      "29        1       1       1       0  \n",
      "..      ...     ...     ...     ...  \n",
      "851       1       1       1       0  \n",
      "852       1       1       1       0  \n",
      "853       1       1       1       0  \n",
      "854       1       0       0       1  \n",
      "855       1       0       0       1  \n",
      "856       1       0       0       1  \n",
      "857       1       0       0       1  \n",
      "858       1       0       0       1  \n",
      "859       1       0       0       1  \n",
      "860       1       0       0       1  \n",
      "861       1       0       0       1  \n",
      "862       1       0       0       1  \n",
      "863       1       1       1       0  \n",
      "864       1       1       1       0  \n",
      "865       1       1       1       0  \n",
      "866       1       1       1       0  \n",
      "867       1       1       1       0  \n",
      "868       1       1       1       0  \n",
      "869       1       1       1       0  \n",
      "870       1       1       1       0  \n",
      "871       1       1       1       0  \n",
      "872       0       0       1       1  \n",
      "873       0       0       1       1  \n",
      "874       0       0       1       1  \n",
      "875       0       0       1       1  \n",
      "876       0       0       1       1  \n",
      "877       0       0       1       1  \n",
      "878       0       0       1       1  \n",
      "879       0       0       1       1  \n",
      "880       0       0       1       1  \n",
      "\n",
      "[881 rows x 18 columns]\n",
      "    cores     freq      Rate     Power      Energy  WU_PWR_AVG  WU_ENERGY  \\\n",
      "0    0xe6   100000  5.887958  5.439624  461.927430         NaN        NaN   \n",
      "1    0xe6   200000  5.888939  5.474008  464.770101         NaN        NaN   \n",
      "2    0xe6   400000  5.897709  5.441137  461.291977         NaN        NaN   \n",
      "3    0xe6   600000  5.897312  5.442045  461.399975         NaN        NaN   \n",
      "4    0xe6   700000  5.908167  5.432657  459.758156         NaN        NaN   \n",
      "5    0xe6   800000  5.893648  5.440728  461.575041         NaN        NaN   \n",
      "6    0xe6  1000000  5.892087  5.463399  463.621307         NaN        NaN   \n",
      "7    0xe6  1200000  5.879515  5.468053  465.008695         NaN        NaN   \n",
      "8    0xe6  1400000  5.890988  5.457655  463.220651         NaN        NaN   \n",
      "9    0xda   100000  5.904099  5.387178  456.223404         NaN        NaN   \n",
      "10   0xda   200000  5.900255  5.434772  460.553992         NaN        NaN   \n",
      "11   0xda   400000  5.891115  5.452016  462.731679         NaN        NaN   \n",
      "12   0xda   600000  5.890124  5.460129  463.498338         NaN        NaN   \n",
      "13   0xda   700000  5.886829  5.464754  464.150520         NaN        NaN   \n",
      "14   0xda   800000  5.889059  5.475984  464.928564         NaN        NaN   \n",
      "15   0xda  1000000  5.897247  5.458857  462.830828         NaN        NaN   \n",
      "16   0xda  1200000  5.874792  5.485718  466.885618         NaN        NaN   \n",
      "17   0xda  1400000  5.889206  5.465076  463.990417         NaN        NaN   \n",
      "18   0x2d   100000  5.217183  3.554354  340.638979         NaN        NaN   \n",
      "19   0x2d   200000  5.214908  3.516393  337.147892         NaN        NaN   \n",
      "20   0x2d   400000  5.218577  3.497162  335.068336         NaN        NaN   \n",
      "21   0x2d   600000  5.221351  3.504558  335.598576         NaN        NaN   \n",
      "22   0x2d   700000  5.217522  3.504021  335.793486         NaN        NaN   \n",
      "23   0x2d   800000  5.223293  3.503279  335.351382         NaN        NaN   \n",
      "24   0x2d  1000000  5.220663  3.503156  335.508460         NaN        NaN   \n",
      "25   0x2d  1200000  5.222721  3.507025  335.746791         NaN        NaN   \n",
      "26   0x2d  1400000  5.220195  3.505391  335.752659         NaN        NaN   \n",
      "27   0x7e   100000  5.865554  5.631357  480.036017         NaN        NaN   \n",
      "28   0x7e   200000  5.849438  5.722359  489.136947         NaN        NaN   \n",
      "29   0x7e   400000  5.854089  5.751586  491.244685         NaN        NaN   \n",
      "..    ...      ...       ...       ...         ...         ...        ...   \n",
      "851  0x4e  1000000  5.250843  3.444827  328.026072         NaN        NaN   \n",
      "852  0x4e  1200000  5.245897  3.452810  329.095953         NaN        NaN   \n",
      "853  0x4e  1400000  5.247637  3.443291  328.079865         NaN        NaN   \n",
      "854  0xa9   100000  6.159271  4.526939  367.489664         NaN        NaN   \n",
      "855  0xa9   200000  6.156690  4.586772  372.502762         NaN        NaN   \n",
      "856  0xa9   400000  6.157651  4.583316  372.163884         NaN        NaN   \n",
      "857  0xa9   600000  6.155979  4.593227  373.070164         NaN        NaN   \n",
      "858  0xa9   700000  6.156774  4.582739  372.170191         NaN        NaN   \n",
      "859  0xa9   800000  6.154952  4.593637  373.165939         NaN        NaN   \n",
      "860  0xa9  1000000  6.157669  4.586491  372.420775         NaN        NaN   \n",
      "861  0xa9  1200000  6.158964  4.570123  371.013553         NaN        NaN   \n",
      "862  0xa9  1400000  6.155409  4.596238  373.349195         NaN        NaN   \n",
      "863  0x1e   100000  5.254973  3.487709  331.848187         NaN        NaN   \n",
      "864  0x1e   200000  5.254573  3.471489  330.330230         NaN        NaN   \n",
      "865  0x1e   400000  5.253329  3.466142  329.899423         NaN        NaN   \n",
      "866  0x1e   600000  5.251251  3.476953  331.059470         NaN        NaN   \n",
      "867  0x1e   700000  5.254311  3.472912  330.481958         NaN        NaN   \n",
      "868  0x1e   800000  5.254340  3.473696  330.554827         NaN        NaN   \n",
      "869  0x1e  1000000  5.253418  3.471254  330.380417         NaN        NaN   \n",
      "870  0x1e  1200000  5.253360  3.470936  330.353622         NaN        NaN   \n",
      "871  0x1e  1400000  5.251410  3.477935  331.142886         NaN        NaN   \n",
      "872  0xd3   100000  5.891107  5.298956  449.741471         NaN        NaN   \n",
      "873  0xd3   200000  5.893966  5.382740  456.631291         NaN        NaN   \n",
      "874  0xd3   400000  5.903506  5.400578  457.404113         NaN        NaN   \n",
      "875  0xd3   600000  5.893485  5.417686  459.633229         NaN        NaN   \n",
      "876  0xd3   700000  5.893981  5.411821  459.097222         NaN        NaN   \n",
      "877  0xd3   800000  5.895936  5.421249  459.744142         NaN        NaN   \n",
      "878  0xd3  1000000  5.896034  5.427183  460.239771         NaN        NaN   \n",
      "879  0xd3  1200000  5.895737  5.430571  460.550434         NaN        NaN   \n",
      "880  0xd3  1400000  5.894369  5.441322  461.569388         NaN        NaN   \n",
      "\n",
      "     big_cores  lil_cores  total_cores  core-0  core-1  core-2  core-3  \\\n",
      "0            3          2            5       1       1       1       0   \n",
      "1            3          2            5       1       1       1       0   \n",
      "2            3          2            5       1       1       1       0   \n",
      "3            3          2            5       1       1       1       0   \n",
      "4            3          2            5       1       1       1       0   \n",
      "5            3          2            5       1       1       1       0   \n",
      "6            3          2            5       1       1       1       0   \n",
      "7            3          2            5       1       1       1       0   \n",
      "8            3          2            5       1       1       1       0   \n",
      "9            3          2            5       1       1       0       1   \n",
      "10           3          2            5       1       1       0       1   \n",
      "11           3          2            5       1       1       0       1   \n",
      "12           3          2            5       1       1       0       1   \n",
      "13           3          2            5       1       1       0       1   \n",
      "14           3          2            5       1       1       0       1   \n",
      "15           3          2            5       1       1       0       1   \n",
      "16           3          2            5       1       1       0       1   \n",
      "17           3          2            5       1       1       0       1   \n",
      "18           1          3            4       0       0       1       0   \n",
      "19           1          3            4       0       0       1       0   \n",
      "20           1          3            4       0       0       1       0   \n",
      "21           1          3            4       0       0       1       0   \n",
      "22           1          3            4       0       0       1       0   \n",
      "23           1          3            4       0       0       1       0   \n",
      "24           1          3            4       0       0       1       0   \n",
      "25           1          3            4       0       0       1       0   \n",
      "26           1          3            4       0       0       1       0   \n",
      "27           3          3            6       0       1       1       1   \n",
      "28           3          3            6       0       1       1       1   \n",
      "29           3          3            6       0       1       1       1   \n",
      "..         ...        ...          ...     ...     ...     ...     ...   \n",
      "851          1          3            4       0       1       0       0   \n",
      "852          1          3            4       0       1       0       0   \n",
      "853          1          3            4       0       1       0       0   \n",
      "854          2          2            4       1       0       1       0   \n",
      "855          2          2            4       1       0       1       0   \n",
      "856          2          2            4       1       0       1       0   \n",
      "857          2          2            4       1       0       1       0   \n",
      "858          2          2            4       1       0       1       0   \n",
      "859          2          2            4       1       0       1       0   \n",
      "860          2          2            4       1       0       1       0   \n",
      "861          2          2            4       1       0       1       0   \n",
      "862          2          2            4       1       0       1       0   \n",
      "863          1          3            4       0       0       0       1   \n",
      "864          1          3            4       0       0       0       1   \n",
      "865          1          3            4       0       0       0       1   \n",
      "866          1          3            4       0       0       0       1   \n",
      "867          1          3            4       0       0       0       1   \n",
      "868          1          3            4       0       0       0       1   \n",
      "869          1          3            4       0       0       0       1   \n",
      "870          1          3            4       0       0       0       1   \n",
      "871          1          3            4       0       0       0       1   \n",
      "872          3          2            5       1       1       0       1   \n",
      "873          3          2            5       1       1       0       1   \n",
      "874          3          2            5       1       1       0       1   \n",
      "875          3          2            5       1       1       0       1   \n",
      "876          3          2            5       1       1       0       1   \n",
      "877          3          2            5       1       1       0       1   \n",
      "878          3          2            5       1       1       0       1   \n",
      "879          3          2            5       1       1       0       1   \n",
      "880          3          2            5       1       1       0       1   \n",
      "\n",
      "     core-4  core-5  core-6  core-7  \n",
      "0         0       1       1       0  \n",
      "1         0       1       1       0  \n",
      "2         0       1       1       0  \n",
      "3         0       1       1       0  \n",
      "4         0       1       1       0  \n",
      "5         0       1       1       0  \n",
      "6         0       1       1       0  \n",
      "7         0       1       1       0  \n",
      "8         0       1       1       0  \n",
      "9         1       0       1       0  \n",
      "10        1       0       1       0  \n",
      "11        1       0       1       0  \n",
      "12        1       0       1       0  \n",
      "13        1       0       1       0  \n",
      "14        1       0       1       0  \n",
      "15        1       0       1       0  \n",
      "16        1       0       1       0  \n",
      "17        1       0       1       0  \n",
      "18        1       1       0       1  \n",
      "19        1       1       0       1  \n",
      "20        1       1       0       1  \n",
      "21        1       1       0       1  \n",
      "22        1       1       0       1  \n",
      "23        1       1       0       1  \n",
      "24        1       1       0       1  \n",
      "25        1       1       0       1  \n",
      "26        1       1       0       1  \n",
      "27        1       1       1       0  \n",
      "28        1       1       1       0  \n",
      "29        1       1       1       0  \n",
      "..      ...     ...     ...     ...  \n",
      "851       1       1       1       0  \n",
      "852       1       1       1       0  \n",
      "853       1       1       1       0  \n",
      "854       1       0       0       1  \n",
      "855       1       0       0       1  \n",
      "856       1       0       0       1  \n",
      "857       1       0       0       1  \n",
      "858       1       0       0       1  \n",
      "859       1       0       0       1  \n",
      "860       1       0       0       1  \n",
      "861       1       0       0       1  \n",
      "862       1       0       0       1  \n",
      "863       1       1       1       0  \n",
      "864       1       1       1       0  \n",
      "865       1       1       1       0  \n",
      "866       1       1       1       0  \n",
      "867       1       1       1       0  \n",
      "868       1       1       1       0  \n",
      "869       1       1       1       0  \n",
      "870       1       1       1       0  \n",
      "871       1       1       1       0  \n",
      "872       0       0       1       1  \n",
      "873       0       0       1       1  \n",
      "874       0       0       1       1  \n",
      "875       0       0       1       1  \n",
      "876       0       0       1       1  \n",
      "877       0       0       1       1  \n",
      "878       0       0       1       1  \n",
      "879       0       0       1       1  \n",
      "880       0       0       1       1  \n",
      "\n",
      "[881 rows x 18 columns]\n"
     ]
    }
   ],
   "source": [
    "#create_col(df)\n",
    "\n",
    "df = create_col(df)\n",
    "\n",
    "print(df)\n",
    "#df = convert_to_bin(df)\n",
    "#df.plot(x='total_cores', y='Rate',kind='scatter',style='o')"
   ]
  },
  {
   "cell_type": "markdown",
   "metadata": {},
   "source": [
    "## Preliminary data analysis"
   ]
  },
  {
   "cell_type": "code",
   "execution_count": 144,
   "metadata": {},
   "outputs": [],
   "source": [
    "import matplotlib.pyplot as plt\n",
    "from numpy.random import random\n",
    "from mpl_toolkits.mplot3d import Axes3D\n"
   ]
  },
  {
   "cell_type": "code",
   "execution_count": 151,
   "metadata": {},
   "outputs": [
    {
     "data": {
      "text/plain": [
       "Text(0.5,0,'Core Rate')"
      ]
     },
     "execution_count": 151,
     "metadata": {},
     "output_type": "execute_result"
    },
    {
     "data": {
      "image/png": "[encoded data removed]",
      "text/plain": [
       "<Figure size 432x288 with 1 Axes>"
      ]
     },
     "metadata": {},
     "output_type": "display_data"
    }
   ],
   "source": [
    "#colors = ['b', 'c']\n",
    "\n",
    "colors=['blue', 'c', 'y', 'm', 'r']\n",
    "core_lil = df['lil_cores'].values\n",
    "core_rate = df['Rate'].values\n",
    "core_big = df['big_cores'].values\n",
    "core_power = df['Power'].values\n",
    "core_all = df['total_cores'].values\n",
    "ax = plt.subplot(111,projection='3d')\n",
    "ax.plot(core_rate, core_big, core_power,'x', label ='Big Cores')\n",
    "ax.plot(core_rate, core_lil, core_power,'.', label ='Little Cores')\n",
    "ax.plot(core_rate, core_all, core_power,'o', label ='All Cores')\n",
    "\n",
    "ax.legend()\n",
    "#plt.legend(loc='upper center', numpoints=1, ncol=3, fontsize=10, bbox_to_anchor=(0, 0))\n",
    "ax.set_zlabel('Core Power')\n",
    "ax.set_ylabel(\"Number of Cores\")\n",
    "ax.set_xlabel(\"Core Rate\")\n",
    "\n"
   ]
  },
  {
   "cell_type": "code",
   "execution_count": null,
   "metadata": {},
   "outputs": [],
   "source": []
  },
  {
   "cell_type": "markdown",
   "metadata": {},
   "source": [
    "### Cleaning up data\n",
    "Removing hex cores, nan cores, big cores, and little cores"
   ]
  },
  {
   "cell_type": "code",
   "execution_count": 65,
   "metadata": {},
   "outputs": [],
   "source": [
    "df = df.drop(columns=['cores','WU_PWR_AVG','WU_ENERGY','big_cores','lil_cores','total_cores'])\n",
    "#"
   ]
  },
  {
   "cell_type": "code",
   "execution_count": 66,
   "metadata": {},
   "outputs": [
    {
     "name": "stdout",
     "output_type": "stream",
     "text": [
      "     freq      Rate     Power      Energy  core-0  core-1  core-2  core-3  \\\n",
      "0  100000  5.887958  5.439624  461.927430       1       1       1       0   \n",
      "1  200000  5.888939  5.474008  464.770101       1       1       1       0   \n",
      "2  400000  5.897709  5.441137  461.291977       1       1       1       0   \n",
      "3  600000  5.897312  5.442045  461.399975       1       1       1       0   \n",
      "4  700000  5.908167  5.432657  459.758156       1       1       1       0   \n",
      "\n",
      "   core-4  core-5  core-6  core-7  \n",
      "0       0       1       1       0  \n",
      "1       0       1       1       0  \n",
      "2       0       1       1       0  \n",
      "3       0       1       1       0  \n",
      "4       0       1       1       0  \n",
      "X size: (881, 9)\n",
      "y size (881,)\n"
     ]
    }
   ],
   "source": [
    "print(df.head())\n",
    "X = df[['freq','core-0','core-1','core-2','core-3','core-4','core-5','core-6','core-7']]\n",
    "y = df['Power']\n",
    "\n",
    "print (\"X size:\", X.shape)\n",
    "print (\"y size\", y.shape)"
   ]
  },
  {
   "cell_type": "markdown",
   "metadata": {},
   "source": [
    "## Using Random Forest Regressor"
   ]
  },
  {
   "cell_type": "code",
   "execution_count": 67,
   "metadata": {},
   "outputs": [],
   "source": [
    "model = GridSearchCV(RandomForestRegressor(n_estimators=100),\n",
    "                     param_grid=dict(max_features=range(4,9)),\n",
    "                     scoring='neg_mean_squared_error',\n",
    "                    cv=10)\n",
    "#CV = how it does cross validation, 10 = 10 fold cross validation"
   ]
  },
  {
   "cell_type": "code",
   "execution_count": 40,
   "metadata": {},
   "outputs": [
    {
     "data": {
      "text/plain": [
       "GridSearchCV(cv=10, error_score='raise',\n",
       "       estimator=RandomForestRegressor(bootstrap=True, criterion='mse', max_depth=None,\n",
       "           max_features='auto', max_leaf_nodes=None,\n",
       "           min_impurity_decrease=0.0, min_impurity_split=None,\n",
       "           min_samples_leaf=1, min_samples_split=2,\n",
       "           min_weight_fraction_leaf=0.0, n_estimators=100, n_jobs=1,\n",
       "           oob_score=False, random_state=None, verbose=0, warm_start=False),\n",
       "       fit_params=None, iid=True, n_jobs=1,\n",
       "       param_grid={'max_features': range(4, 9)}, pre_dispatch='2*n_jobs',\n",
       "       refit=True, return_train_score='warn',\n",
       "       scoring='neg_mean_squared_error', verbose=0)"
      ]
     },
     "execution_count": 40,
     "metadata": {},
     "output_type": "execute_result"
    }
   ],
   "source": [
    "model.fit(X, y)"
   ]
  },
  {
   "cell_type": "code",
   "execution_count": 42,
   "metadata": {},
   "outputs": [
    {
     "data": {
      "text/plain": [
       "Text(0,0.5,'RMSD')"
      ]
     },
     "execution_count": 42,
     "metadata": {},
     "output_type": "execute_result"
    },
    {
     "data": {
      "image/png": "[encoded data removed]",
      "text/plain": [
       "<Figure size 432x288 with 1 Axes>"
      ]
     },
     "metadata": {},
     "output_type": "display_data"
    }
   ],
   "source": [
    "fig, ax = plt.subplots()\n",
    "ax.scatter(model.cv_results_['param_max_features'].data,\n",
    "          np.sqrt(-1 * model.cv_results_['mean_test_score']))\n",
    "ax.set_xlabel('Max. Features')\n",
    "ax.set_ylabel('RMSD')"
   ]
  },
  {
   "cell_type": "markdown",
   "metadata": {},
   "source": [
    "### Get the best model based on these parameter selections"
   ]
  },
  {
   "cell_type": "code",
   "execution_count": 43,
   "metadata": {},
   "outputs": [
    {
     "name": "stdout",
     "output_type": "stream",
     "text": [
      "{'max_features': 7}\n"
     ]
    }
   ],
   "source": [
    "print (model.best_params_)"
   ]
  },
  {
   "cell_type": "code",
   "execution_count": 44,
   "metadata": {},
   "outputs": [],
   "source": [
    "model = model.best_estimator_"
   ]
  },
  {
   "cell_type": "code",
   "execution_count": 45,
   "metadata": {},
   "outputs": [
    {
     "data": {
      "text/plain": [
       "[('freq', 0.005141380560061249),\n",
       " ('core-0', 0.22098372425380855),\n",
       " ('core-1', 0.23404515216345423),\n",
       " ('core-2', 0.23077547977679727),\n",
       " ('core-3', 0.2845228426259923),\n",
       " ('core-4', 0.006765489810998698),\n",
       " ('core-5', 0.008226617206375896),\n",
       " ('core-6', 0.005215498930094958),\n",
       " ('core-7', 0.004323814672416559)]"
      ]
     },
     "execution_count": 45,
     "metadata": {},
     "output_type": "execute_result"
    }
   ],
   "source": [
    "list(zip(X.columns,model.feature_importances_))"
   ]
  },
  {
   "cell_type": "markdown",
   "metadata": {},
   "source": [
    "## Estimating Prediction Accuracy"
   ]
  },
  {
   "cell_type": "code",
   "execution_count": 46,
   "metadata": {},
   "outputs": [],
   "source": [
    "all_y_test = np.zeros((0,))\n",
    "all_y_pred = np.zeros((0,))\n",
    "#given options and list of data, returns the indices of training and test sets \n",
    "for train_inds, test_inds in ShuffleSplit(n_splits=5, test_size=0.1).split(X,y):\n",
    "    # Split off the train and test set\n",
    "    X_test, y_test = X.iloc[test_inds, :], y[test_inds]\n",
    "    X_train, y_train = X.iloc[train_inds, :], y[train_inds]\n",
    "    \n",
    "    # Train the model\n",
    "    model.fit(X_train, y_train)\n",
    "    y_pred = model.predict(X_test)\n",
    "    \n",
    "    # Append the results\n",
    "    all_y_test = np.concatenate((all_y_test, y_test))\n",
    "    #print (all_y_test)\n",
    "    all_y_pred = np.concatenate((all_y_pred, y_pred))"
   ]
  },
  {
   "cell_type": "markdown",
   "metadata": {},
   "source": [
    "### Print out Scores"
   ]
  },
  {
   "cell_type": "code",
   "execution_count": 47,
   "metadata": {},
   "outputs": [
    {
     "name": "stdout",
     "output_type": "stream",
     "text": [
      "R: 0.9980409734889292\n",
      "MAE: 0.020510500236561216 Watts?\n",
      "RMSE: 0.04528094184589769 Watts?\n"
     ]
    }
   ],
   "source": [
    "print (\"R:\", sp.stats.pearsonr(all_y_test, all_y_pred)[0])\n",
    "print (\"MAE:\", np.abs(all_y_test - all_y_pred).mean(), 'Watts?')\n",
    "print (\"RMSE:\", np.sqrt(np.power(all_y_test - all_y_pred, 2).mean()), 'Watts?')"
   ]
  },
  {
   "cell_type": "code",
   "execution_count": 48,
   "metadata": {},
   "outputs": [],
   "source": [
    "# Make a plot"
   ]
  },
  {
   "cell_type": "code",
   "execution_count": 49,
   "metadata": {},
   "outputs": [
    {
     "data": {
      "image/png": "[encoded data removed]",
      "text/plain": [
       "<Figure size 252x252 with 1 Axes>"
      ]
     },
     "metadata": {},
     "output_type": "display_data"
    }
   ],
   "source": [
    "fig, ax = plt.subplots()\n",
    "\n",
    "# Make the plot\n",
    "ax.scatter(all_y_test, all_y_pred, alpha=0.5)\n",
    "\n",
    "# Make it pretty\n",
    "ax.set_xlim(ax.get_xlim())\n",
    "ax.set_ylim(ax.get_xlim())\n",
    "\n",
    "ax.set_xlabel('True Power (Watts?)')\n",
    "ax.set_ylabel('Pred. Power (Watts?)')\n",
    "\n",
    "fig.set_size_inches(3.5, 3.5)\n",
    "\n",
    "# Add in the goal line\n",
    "ax.plot(ax.get_xlim(), ax.get_ylim(), 'k--');"
   ]
  },
  {
   "cell_type": "markdown",
   "metadata": {},
   "source": [
    "### Train the model and save it"
   ]
  },
  {
   "cell_type": "code",
   "execution_count": 50,
   "metadata": {},
   "outputs": [
    {
     "data": {
      "text/plain": [
       "RandomForestRegressor(bootstrap=True, criterion='mse', max_depth=None,\n",
       "           max_features=7, max_leaf_nodes=None, min_impurity_decrease=0.0,\n",
       "           min_impurity_split=None, min_samples_leaf=1,\n",
       "           min_samples_split=2, min_weight_fraction_leaf=0.0,\n",
       "           n_estimators=100, n_jobs=1, oob_score=False, random_state=None,\n",
       "           verbose=0, warm_start=False)"
      ]
     },
     "execution_count": 50,
     "metadata": {},
     "output_type": "execute_result"
    }
   ],
   "source": [
    "model.fit(X,y)"
   ]
  },
  {
   "cell_type": "markdown",
   "metadata": {},
   "source": [
    "## Example use of prediction model"
   ]
  },
  {
   "cell_type": "code",
   "execution_count": 51,
   "metadata": {},
   "outputs": [],
   "source": [
    "pkl.dump(model, open('power_pred-model.pkl', 'wb'))"
   ]
  },
  {
   "cell_type": "code",
   "execution_count": 53,
   "metadata": {},
   "outputs": [
    {
     "name": "stdout",
     "output_type": "stream",
     "text": [
      "RandomForestRegressor(bootstrap=True, criterion='mse', max_depth=None,\n",
      "           max_features=7, max_leaf_nodes=None, min_impurity_decrease=0.0,\n",
      "           min_impurity_split=None, min_samples_leaf=1,\n",
      "           min_samples_split=2, min_weight_fraction_leaf=0.0,\n",
      "           n_estimators=100, n_jobs=1, oob_score=False, random_state=None,\n",
      "           verbose=0, warm_start=False)\n"
     ]
    },
    {
     "data": {
      "text/plain": [
       "array([3.54858848])"
      ]
     },
     "execution_count": 53,
     "metadata": {},
     "output_type": "execute_result"
    }
   ],
   "source": [
    "with open (\"power_pred-model.pkl\", 'rb') as fp:\n",
    "    model2 = pkl.load(fp)\n",
    "print (model2)\n",
    "model2.predict([[400000,0,1,0,0,0,0,0,1]])"
   ]
  },
  {
   "cell_type": "markdown",
   "metadata": {},
   "source": [
    "## Looking at little cores and big cores relationships\n",
    "Function plot_biglil plots rate vs number of cores for both big, little, and core combinations"
   ]
  },
  {
   "cell_type": "code",
   "execution_count": 54,
   "metadata": {},
   "outputs": [],
   "source": [
    "def plot_biglil(df):\n",
    "    fig = plt.figure()\n",
    "    ax1 = fig.add_subplot(111)\n",
    "    ax1.scatter(x=(df['Rate']),y=(df['big_cores']), label='Big Cores')\n",
    "    ax1.scatter(x=(df['Rate']),y=(df['lil_cores']), label='Little Cores')\n",
    "    ax1.scatter(x=(df['Rate']),y=(df['total_cores']), label='Total Cores')\n",
    "    plt.legend(loc='best');\n",
    "    ax1.set_xlabel(\"Rate\")\n",
    "    ax1.set_ylabel(\"Core Count\")\n",
    "    plt.show()\n"
   ]
  },
  {
   "cell_type": "code",
   "execution_count": 25,
   "metadata": {},
   "outputs": [],
   "source": [
    "#print (df)\n"
   ]
  },
  {
   "cell_type": "markdown",
   "metadata": {},
   "source": [
    "## New Results 'bigger results' of bit and little cores\n",
    "Running with various core combinations:\n",
    "10001 10001 , 1100 1100, 1010 1010, 1000 1000, 1111 1111, 1000 1111, 1010 1111, 1111 0001, 1111 0101, 0101 0101\n",
    "\n",
    "Frequency Combinations: 1200000, 1300000, 1400000, 1500000, 1600000, 1700000, 2000000"
   ]
  },
  {
   "cell_type": "code",
   "execution_count": 55,
   "metadata": {},
   "outputs": [
    {
     "name": "stdout",
     "output_type": "stream",
     "text": [
      "    cores     freq      Rate     Power      Energy  WU_PWR_AVG  WU_ENERGY\n",
      "876  0xd3   700000  5.893981  5.411821  459.097222         NaN        NaN\n",
      "877  0xd3   800000  5.895936  5.421249  459.744142         NaN        NaN\n",
      "878  0xd3  1000000  5.896034  5.427183  460.239771         NaN        NaN\n",
      "879  0xd3  1200000  5.895737  5.430571  460.550434         NaN        NaN\n",
      "880  0xd3  1400000  5.894369  5.441322  461.569388         NaN        NaN\n"
     ]
    }
   ],
   "source": [
    "#Import Data\n",
    "#file_path = '/Users/yzamora/power/STREAM.results'\n",
    "file_path = '/Users/yzamora/power/all.out'\n",
    "\n",
    "long_df = pd.read_csv(file_path, sep='\\s+')\n",
    "print (long_df.tail())"
   ]
  },
  {
   "cell_type": "code",
   "execution_count": 56,
   "metadata": {},
   "outputs": [
    {
     "name": "stdout",
     "output_type": "stream",
     "text": [
      "  cores    freq      Rate     Power      Energy  WU_PWR_AVG  WU_ENERGY  \\\n",
      "0  0xe6  100000  5.887958  5.439624  461.927430         NaN        NaN   \n",
      "1  0xe6  200000  5.888939  5.474008  464.770101         NaN        NaN   \n",
      "2  0xe6  400000  5.897709  5.441137  461.291977         NaN        NaN   \n",
      "3  0xe6  600000  5.897312  5.442045  461.399975         NaN        NaN   \n",
      "4  0xe6  700000  5.908167  5.432657  459.758156         NaN        NaN   \n",
      "\n",
      "   big_cores  lil_cores  total_cores  \n",
      "0          3          2            5  \n",
      "1          3          2            5  \n",
      "2          3          2            5  \n",
      "3          3          2            5  \n",
      "4          3          2            5  \n",
      "    cores     freq      Rate     Power      Energy  WU_PWR_AVG  WU_ENERGY  \\\n",
      "0    0xe6   100000  5.887958  5.439624  461.927430         NaN        NaN   \n",
      "1    0xe6   200000  5.888939  5.474008  464.770101         NaN        NaN   \n",
      "2    0xe6   400000  5.897709  5.441137  461.291977         NaN        NaN   \n",
      "3    0xe6   600000  5.897312  5.442045  461.399975         NaN        NaN   \n",
      "4    0xe6   700000  5.908167  5.432657  459.758156         NaN        NaN   \n",
      "5    0xe6   800000  5.893648  5.440728  461.575041         NaN        NaN   \n",
      "6    0xe6  1000000  5.892087  5.463399  463.621307         NaN        NaN   \n",
      "7    0xe6  1200000  5.879515  5.468053  465.008695         NaN        NaN   \n",
      "8    0xe6  1400000  5.890988  5.457655  463.220651         NaN        NaN   \n",
      "9    0xda   100000  5.904099  5.387178  456.223404         NaN        NaN   \n",
      "10   0xda   200000  5.900255  5.434772  460.553992         NaN        NaN   \n",
      "11   0xda   400000  5.891115  5.452016  462.731679         NaN        NaN   \n",
      "12   0xda   600000  5.890124  5.460129  463.498338         NaN        NaN   \n",
      "13   0xda   700000  5.886829  5.464754  464.150520         NaN        NaN   \n",
      "14   0xda   800000  5.889059  5.475984  464.928564         NaN        NaN   \n",
      "15   0xda  1000000  5.897247  5.458857  462.830828         NaN        NaN   \n",
      "16   0xda  1200000  5.874792  5.485718  466.885618         NaN        NaN   \n",
      "17   0xda  1400000  5.889206  5.465076  463.990417         NaN        NaN   \n",
      "18   0x2d   100000  5.217183  3.554354  340.638979         NaN        NaN   \n",
      "19   0x2d   200000  5.214908  3.516393  337.147892         NaN        NaN   \n",
      "20   0x2d   400000  5.218577  3.497162  335.068336         NaN        NaN   \n",
      "21   0x2d   600000  5.221351  3.504558  335.598576         NaN        NaN   \n",
      "22   0x2d   700000  5.217522  3.504021  335.793486         NaN        NaN   \n",
      "23   0x2d   800000  5.223293  3.503279  335.351382         NaN        NaN   \n",
      "24   0x2d  1000000  5.220663  3.503156  335.508460         NaN        NaN   \n",
      "25   0x2d  1200000  5.222721  3.507025  335.746791         NaN        NaN   \n",
      "26   0x2d  1400000  5.220195  3.505391  335.752659         NaN        NaN   \n",
      "27   0x7e   100000  5.865554  5.631357  480.036017         NaN        NaN   \n",
      "28   0x7e   200000  5.849438  5.722359  489.136947         NaN        NaN   \n",
      "29   0x7e   400000  5.854089  5.751586  491.244685         NaN        NaN   \n",
      "..    ...      ...       ...       ...         ...         ...        ...   \n",
      "851  0x4e  1000000  5.250843  3.444827  328.026072         NaN        NaN   \n",
      "852  0x4e  1200000  5.245897  3.452810  329.095953         NaN        NaN   \n",
      "853  0x4e  1400000  5.247637  3.443291  328.079865         NaN        NaN   \n",
      "854  0xa9   100000  6.159271  4.526939  367.489664         NaN        NaN   \n",
      "855  0xa9   200000  6.156690  4.586772  372.502762         NaN        NaN   \n",
      "856  0xa9   400000  6.157651  4.583316  372.163884         NaN        NaN   \n",
      "857  0xa9   600000  6.155979  4.593227  373.070164         NaN        NaN   \n",
      "858  0xa9   700000  6.156774  4.582739  372.170191         NaN        NaN   \n",
      "859  0xa9   800000  6.154952  4.593637  373.165939         NaN        NaN   \n",
      "860  0xa9  1000000  6.157669  4.586491  372.420775         NaN        NaN   \n",
      "861  0xa9  1200000  6.158964  4.570123  371.013553         NaN        NaN   \n",
      "862  0xa9  1400000  6.155409  4.596238  373.349195         NaN        NaN   \n",
      "863  0x1e   100000  5.254973  3.487709  331.848187         NaN        NaN   \n",
      "864  0x1e   200000  5.254573  3.471489  330.330230         NaN        NaN   \n",
      "865  0x1e   400000  5.253329  3.466142  329.899423         NaN        NaN   \n",
      "866  0x1e   600000  5.251251  3.476953  331.059470         NaN        NaN   \n",
      "867  0x1e   700000  5.254311  3.472912  330.481958         NaN        NaN   \n",
      "868  0x1e   800000  5.254340  3.473696  330.554827         NaN        NaN   \n",
      "869  0x1e  1000000  5.253418  3.471254  330.380417         NaN        NaN   \n",
      "870  0x1e  1200000  5.253360  3.470936  330.353622         NaN        NaN   \n",
      "871  0x1e  1400000  5.251410  3.477935  331.142886         NaN        NaN   \n",
      "872  0xd3   100000  5.891107  5.298956  449.741471         NaN        NaN   \n",
      "873  0xd3   200000  5.893966  5.382740  456.631291         NaN        NaN   \n",
      "874  0xd3   400000  5.903506  5.400578  457.404113         NaN        NaN   \n",
      "875  0xd3   600000  5.893485  5.417686  459.633229         NaN        NaN   \n",
      "876  0xd3   700000  5.893981  5.411821  459.097222         NaN        NaN   \n",
      "877  0xd3   800000  5.895936  5.421249  459.744142         NaN        NaN   \n",
      "878  0xd3  1000000  5.896034  5.427183  460.239771         NaN        NaN   \n",
      "879  0xd3  1200000  5.895737  5.430571  460.550434         NaN        NaN   \n",
      "880  0xd3  1400000  5.894369  5.441322  461.569388         NaN        NaN   \n",
      "\n",
      "     big_cores  lil_cores  total_cores  \n",
      "0            3          2            5  \n",
      "1            3          2            5  \n",
      "2            3          2            5  \n",
      "3            3          2            5  \n",
      "4            3          2            5  \n",
      "5            3          2            5  \n",
      "6            3          2            5  \n",
      "7            3          2            5  \n",
      "8            3          2            5  \n",
      "9            3          2            5  \n",
      "10           3          2            5  \n",
      "11           3          2            5  \n",
      "12           3          2            5  \n",
      "13           3          2            5  \n",
      "14           3          2            5  \n",
      "15           3          2            5  \n",
      "16           3          2            5  \n",
      "17           3          2            5  \n",
      "18           1          3            4  \n",
      "19           1          3            4  \n",
      "20           1          3            4  \n",
      "21           1          3            4  \n",
      "22           1          3            4  \n",
      "23           1          3            4  \n",
      "24           1          3            4  \n",
      "25           1          3            4  \n",
      "26           1          3            4  \n",
      "27           3          3            6  \n",
      "28           3          3            6  \n",
      "29           3          3            6  \n",
      "..         ...        ...          ...  \n",
      "851          1          3            4  \n",
      "852          1          3            4  \n",
      "853          1          3            4  \n",
      "854          2          2            4  \n",
      "855          2          2            4  \n",
      "856          2          2            4  \n",
      "857          2          2            4  \n",
      "858          2          2            4  \n",
      "859          2          2            4  \n",
      "860          2          2            4  \n",
      "861          2          2            4  \n",
      "862          2          2            4  \n",
      "863          1          3            4  \n",
      "864          1          3            4  \n",
      "865          1          3            4  \n",
      "866          1          3            4  \n",
      "867          1          3            4  \n",
      "868          1          3            4  \n",
      "869          1          3            4  \n",
      "870          1          3            4  \n",
      "871          1          3            4  \n",
      "872          3          2            5  \n",
      "873          3          2            5  \n",
      "874          3          2            5  \n",
      "875          3          2            5  \n",
      "876          3          2            5  \n",
      "877          3          2            5  \n",
      "878          3          2            5  \n",
      "879          3          2            5  \n",
      "880          3          2            5  \n",
      "\n",
      "[881 rows x 10 columns]\n"
     ]
    }
   ],
   "source": [
    "long_df = convert_to_bin(long_df)\n",
    "print (long_df)"
   ]
  },
  {
   "cell_type": "code",
   "execution_count": 57,
   "metadata": {},
   "outputs": [
    {
     "data": {
      "image/png": "[encoded data removed]",
      "text/plain": [
       "<Figure size 432x288 with 1 Axes>"
      ]
     },
     "metadata": {},
     "output_type": "display_data"
    }
   ],
   "source": [
    "plot_biglil(long_df)"
   ]
  },
  {
   "cell_type": "markdown",
   "metadata": {},
   "source": [
    "## Using only Mixed Cores (No all big or all little)"
   ]
  },
  {
   "cell_type": "code",
   "execution_count": 59,
   "metadata": {},
   "outputs": [
    {
     "name": "stdout",
     "output_type": "stream",
     "text": [
      "<bound method NDFrame.head of     cores     freq      Rate     Power      Energy  WU_PWR_AVG  WU_ENERGY\n",
      "0    0xe6   100000  5.887958  5.439624  461.927430         NaN        NaN\n",
      "1    0xe6   200000  5.888939  5.474008  464.770101         NaN        NaN\n",
      "2    0xe6   400000  5.897709  5.441137  461.291977         NaN        NaN\n",
      "3    0xe6   600000  5.897312  5.442045  461.399975         NaN        NaN\n",
      "4    0xe6   700000  5.908167  5.432657  459.758156         NaN        NaN\n",
      "5    0xe6   800000  5.893648  5.440728  461.575041         NaN        NaN\n",
      "6    0xe6  1000000  5.892087  5.463399  463.621307         NaN        NaN\n",
      "7    0xe6  1200000  5.879515  5.468053  465.008695         NaN        NaN\n",
      "8    0xe6  1400000  5.890988  5.457655  463.220651         NaN        NaN\n",
      "9    0xda   100000  5.904099  5.387178  456.223404         NaN        NaN\n",
      "10   0xda   200000  5.900255  5.434772  460.553992         NaN        NaN\n",
      "11   0xda   400000  5.891115  5.452016  462.731679         NaN        NaN\n",
      "12   0xda   600000  5.890124  5.460129  463.498338         NaN        NaN\n",
      "13   0xda   700000  5.886829  5.464754  464.150520         NaN        NaN\n",
      "14   0xda   800000  5.889059  5.475984  464.928564         NaN        NaN\n",
      "15   0xda  1000000  5.897247  5.458857  462.830828         NaN        NaN\n",
      "16   0xda  1200000  5.874792  5.485718  466.885618         NaN        NaN\n",
      "17   0xda  1400000  5.889206  5.465076  463.990417         NaN        NaN\n",
      "18   0x2d   100000  5.217183  3.554354  340.638979         NaN        NaN\n",
      "19   0x2d   200000  5.214908  3.516393  337.147892         NaN        NaN\n",
      "20   0x2d   400000  5.218577  3.497162  335.068336         NaN        NaN\n",
      "21   0x2d   600000  5.221351  3.504558  335.598576         NaN        NaN\n",
      "22   0x2d   700000  5.217522  3.504021  335.793486         NaN        NaN\n",
      "23   0x2d   800000  5.223293  3.503279  335.351382         NaN        NaN\n",
      "24   0x2d  1000000  5.220663  3.503156  335.508460         NaN        NaN\n",
      "25   0x2d  1200000  5.222721  3.507025  335.746791         NaN        NaN\n",
      "26   0x2d  1400000  5.220195  3.505391  335.752659         NaN        NaN\n",
      "27   0x7e   100000  5.865554  5.631357  480.036017         NaN        NaN\n",
      "28   0x7e   200000  5.849438  5.722359  489.136947         NaN        NaN\n",
      "29   0x7e   400000  5.854089  5.751586  491.244685         NaN        NaN\n",
      "..    ...      ...       ...       ...         ...         ...        ...\n",
      "851  0x4e  1000000  5.250843  3.444827  328.026072         NaN        NaN\n",
      "852  0x4e  1200000  5.245897  3.452810  329.095953         NaN        NaN\n",
      "853  0x4e  1400000  5.247637  3.443291  328.079865         NaN        NaN\n",
      "854  0xa9   100000  6.159271  4.526939  367.489664         NaN        NaN\n",
      "855  0xa9   200000  6.156690  4.586772  372.502762         NaN        NaN\n",
      "856  0xa9   400000  6.157651  4.583316  372.163884         NaN        NaN\n",
      "857  0xa9   600000  6.155979  4.593227  373.070164         NaN        NaN\n",
      "858  0xa9   700000  6.156774  4.582739  372.170191         NaN        NaN\n",
      "859  0xa9   800000  6.154952  4.593637  373.165939         NaN        NaN\n",
      "860  0xa9  1000000  6.157669  4.586491  372.420775         NaN        NaN\n",
      "861  0xa9  1200000  6.158964  4.570123  371.013553         NaN        NaN\n",
      "862  0xa9  1400000  6.155409  4.596238  373.349195         NaN        NaN\n",
      "863  0x1e   100000  5.254973  3.487709  331.848187         NaN        NaN\n",
      "864  0x1e   200000  5.254573  3.471489  330.330230         NaN        NaN\n",
      "865  0x1e   400000  5.253329  3.466142  329.899423         NaN        NaN\n",
      "866  0x1e   600000  5.251251  3.476953  331.059470         NaN        NaN\n",
      "867  0x1e   700000  5.254311  3.472912  330.481958         NaN        NaN\n",
      "868  0x1e   800000  5.254340  3.473696  330.554827         NaN        NaN\n",
      "869  0x1e  1000000  5.253418  3.471254  330.380417         NaN        NaN\n",
      "870  0x1e  1200000  5.253360  3.470936  330.353622         NaN        NaN\n",
      "871  0x1e  1400000  5.251410  3.477935  331.142886         NaN        NaN\n",
      "872  0xd3   100000  5.891107  5.298956  449.741471         NaN        NaN\n",
      "873  0xd3   200000  5.893966  5.382740  456.631291         NaN        NaN\n",
      "874  0xd3   400000  5.903506  5.400578  457.404113         NaN        NaN\n",
      "875  0xd3   600000  5.893485  5.417686  459.633229         NaN        NaN\n",
      "876  0xd3   700000  5.893981  5.411821  459.097222         NaN        NaN\n",
      "877  0xd3   800000  5.895936  5.421249  459.744142         NaN        NaN\n",
      "878  0xd3  1000000  5.896034  5.427183  460.239771         NaN        NaN\n",
      "879  0xd3  1200000  5.895737  5.430571  460.550434         NaN        NaN\n",
      "880  0xd3  1400000  5.894369  5.441322  461.569388         NaN        NaN\n",
      "\n",
      "[881 rows x 7 columns]>\n"
     ]
    }
   ],
   "source": [
    "#Import Data\n",
    "file_path = '/Users/yzamora/power/all.out'\n",
    "df_mixed = pd.read_csv(file_path, sep='\\s+')\n",
    "print(df_mixed.head)"
   ]
  },
  {
   "cell_type": "code",
   "execution_count": null,
   "metadata": {},
   "outputs": [],
   "source": []
  }
 ],
 "metadata": {
  "kernelspec": {
   "display_name": "Python 3",
   "language": "python",
   "name": "python3"
  },
  "language_info": {
   "codemirror_mode": {
    "name": "ipython",
    "version": 3
   },
   "file_extension": ".py",
   "mimetype": "text/x-python",
   "name": "python",
   "nbconvert_exporter": "python",
   "pygments_lexer": "ipython3",
   "version": "3.6.4"
  }
 },
 "nbformat": 4,
 "nbformat_minor": 2
}
