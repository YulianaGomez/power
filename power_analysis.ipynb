{
 "cells": [
  {
   "cell_type": "markdown",
   "metadata": {},
   "source": [
    "# Analysis of performance - power data"
   ]
  },
  {
   "cell_type": "code",
   "execution_count": 99,
   "metadata": {},
   "outputs": [],
   "source": [
    "import pandas as pd\n",
    "import numpy as np\n",
    "import matplotlib.pyplot as plt\n",
    "from sklearn.ensemble import RandomForestRegressor\n",
    "from sklearn.model_selection import train_test_split, GridSearchCV, ShuffleSplit\n",
    "import scipy as sp\n",
    "import pickle as pkl\n",
    "%matplotlib inline"
   ]
  },
  {
   "cell_type": "code",
   "execution_count": 179,
   "metadata": {},
   "outputs": [
    {
     "name": "stdout",
     "output_type": "stream",
     "text": [
      "   Beat  Tag            Timestamp  Global_Rate  Window_Rate  Instant_Rate  \\\n",
      "0     0    0  1527326949297512609     0.000000     0.000000      0.000000   \n",
      "1     1    1  1527326953058903759     0.531718     0.265859      0.265859   \n",
      "2     2    2  1527326956838578947     0.397822     0.265214      0.264573   \n",
      "3     3    3  1527326960616173890     0.353399     0.265049      0.264719   \n",
      "4     4    4  1527326964388316847     0.331328     0.265062      0.265101   \n",
      "\n",
      "   Global_Accuracy  Window_Accuracy  Instant_Accuracy  Global_Power  \\\n",
      "0              1.0              1.0               1.0      0.000000   \n",
      "1              1.0              1.0               1.0      0.793298   \n",
      "2              1.0              1.0               1.0      0.820799   \n",
      "3              1.0              1.0               1.0      0.812252   \n",
      "4              1.0              1.0               1.0      0.808221   \n",
      "\n",
      "   Window_Power  Instant_Power  \n",
      "0      0.000000       0.000000  \n",
      "1      0.793298       0.793298  \n",
      "2      0.820799       0.848168  \n",
      "3      0.812252       0.795190  \n",
      "4      0.808221       0.796125  \n"
     ]
    }
   ],
   "source": [
    "## Import data\n",
    "file_path = '/Users/yzamora/power/initial_combo_logs/heartbeat_0x1-1200000.log'\n",
    "df = pd.read_csv(file_path, sep='\\s+')\n",
    "print (df.head())"
   ]
  },
  {
   "cell_type": "markdown",
   "metadata": {},
   "source": [
    "## Plotting performance vs power using HeartLogs:"
   ]
  },
  {
   "cell_type": "code",
   "execution_count": 180,
   "metadata": {},
   "outputs": [
    {
     "data": {
      "text/plain": [
       "<matplotlib.axes._subplots.AxesSubplot at 0x111a383c8>"
      ]
     },
     "execution_count": 180,
     "metadata": {},
     "output_type": "execute_result"
    },
    {
     "data": {
      "image/png": "[encoded data removed]",
      "text/plain": [
       "<Figure size 432x288 with 1 Axes>"
      ]
     },
     "metadata": {},
     "output_type": "display_data"
    }
   ],
   "source": [
    "power = df['Window_Rate']\n",
    "#removing first row, value = 0 \n",
    "df = df.iloc[1:]\n",
    "#print( power )\n",
    "df.plot(x='Window_Rate', y='Window_Power', style='o')\n"
   ]
  },
  {
   "cell_type": "markdown",
   "metadata": {},
   "source": [
    "## Performance vs power using STREAM.results"
   ]
  },
  {
   "cell_type": "code",
   "execution_count": 68,
   "metadata": {},
   "outputs": [
    {
     "name": "stdout",
     "output_type": "stream",
     "text": [
      "  cores    freq      Rate     Power      Energy  WU_PWR_AVG  WU_ENERGY\n",
      "0  0xe6  100000  5.887958  5.439624  461.927430         NaN        NaN\n",
      "1  0xe6  200000  5.888939  5.474008  464.770101         NaN        NaN\n",
      "2  0xe6  400000  5.897709  5.441137  461.291977         NaN        NaN\n",
      "3  0xe6  600000  5.897312  5.442045  461.399975         NaN        NaN\n",
      "4  0xe6  700000  5.908167  5.432657  459.758156         NaN        NaN\n"
     ]
    }
   ],
   "source": [
    "#Import Data\n",
    "file_path = '/Users/yzamora/power/STREAM_big.results'\n",
    "df = pd.read_csv(file_path, sep='\\s+')\n",
    "print (df.head())"
   ]
  },
  {
   "cell_type": "code",
   "execution_count": 69,
   "metadata": {},
   "outputs": [
    {
     "data": {
      "text/plain": [
       "<matplotlib.axes._subplots.AxesSubplot at 0x10f0c45f8>"
      ]
     },
     "execution_count": 69,
     "metadata": {},
     "output_type": "execute_result"
    },
    {
     "data": {
      "image/png": "[encoded data removed]",
      "text/plain": [
       "<Figure size 432x288 with 1 Axes>"
      ]
     },
     "metadata": {},
     "output_type": "display_data"
    }
   ],
   "source": [
    "\n",
    "df.plot(x='Rate', y='Power',kind='scatter',style='o')\n"
   ]
  },
  {
   "cell_type": "markdown",
   "metadata": {},
   "source": [
    "## Clock Speed vs Number of Cores"
   ]
  },
  {
   "cell_type": "markdown",
   "metadata": {},
   "source": [
    "First Converting Hex to Binary, then getting the number of cores being used\n"
   ]
  },
  {
   "cell_type": "code",
   "execution_count": 70,
   "metadata": {},
   "outputs": [],
   "source": [
    "def convert_to_bin(df):\n",
    "    cores_hex = df['cores'].tolist()\n",
    "    cores_bin = []\n",
    "    big_cores = []\n",
    "    lil_cores = []\n",
    "    total_cores = []\n",
    "    scale = 16 ## equals to hexadecimal\n",
    "    num_of_bits = 8\n",
    "\n",
    "    for i in cores_hex:\n",
    "    #my_hexdata = \"1a\" \n",
    "        bin_val = bin(int(i, scale))[2:].zfill(num_of_bits)\n",
    "        ncores=0\n",
    "        nlittle=0\n",
    "        nbig=0\n",
    "        for j in range(len(bin_val)): \n",
    "            ncores+=int(bin_val[j])\n",
    "            if j<4: nbig+=int(bin_val[j])\n",
    "            else: nlittle+=int(bin_val[j])\n",
    "        #print(bin_val+\" big, little, total: \"+str(nbig)+\" \"+str(nlittle)+\" \"+str(ncores))\n",
    "        cores_bin.append(bin_val)\n",
    "        big_cores.append(nbig)\n",
    "        lil_cores.append(nlittle)\n",
    "        total_cores.append(ncores)\n",
    "\n",
    "\n",
    "    #print (cores_bin)\n",
    "    df['big_cores'] = big_cores\n",
    "    df['lil_cores'] = lil_cores\n",
    "    df['total_cores'] = total_cores\n",
    "    \n",
    "\n",
    "    print(df.head())\n",
    "    return df\n",
    "\n"
   ]
  },
  {
   "cell_type": "code",
   "execution_count": 71,
   "metadata": {},
   "outputs": [],
   "source": [
    "#Creating columns for core positions\n",
    "import numpy\n",
    "def create_col(df):\n",
    "    \n",
    "    \n",
    "    new_cols = {  'core-0': [], \n",
    "                  'core-1': [],  \n",
    "                  'core-2': [], \n",
    "                  'core-3': [], \n",
    "                  'core-4': [], \n",
    "                  'core-5': [], \n",
    "                  'core-6': [],\n",
    "                  'core-7': [] }\n",
    "    \n",
    "    current_row = []\n",
    "    cores_hex = df['cores'].tolist()\n",
    "    cores_bin = []\n",
    "    big_cores = []\n",
    "    lil_cores = []\n",
    "    total_cores = []\n",
    "    scale = 16 ## equals to hexadecimal\n",
    "    num_of_bits = 8\n",
    "\n",
    "    for i in cores_hex:\n",
    "    #my_hexdata = \"1a\" \n",
    "        bin_val = bin(int(i, scale))[2:].zfill(num_of_bits)\n",
    "        ncores=0\n",
    "        nlittle=0\n",
    "        nbig=0\n",
    "        for j in range(len(bin_val)):\n",
    "            dict_key = 'core-'+str(j)\n",
    "            new_cols[ dict_key ].append( int( bin_val[ j ] ) )\n",
    "            ncores+=int(bin_val[j])\n",
    "            if j<4: nbig+=int(bin_val[j])\n",
    "            else: nlittle+=int(bin_val[j])\n",
    "        #print(bin_val+\" big, little, total: \"+str(nbig)+\" \"+str(nlittle)+\" \"+str(ncores))\n",
    "        cores_bin.append(bin_val)\n",
    "        big_cores.append(nbig)\n",
    "        lil_cores.append(nlittle)\n",
    "        total_cores.append(ncores)\n",
    "\n",
    "\n",
    "    #print (cores_bin)\n",
    "    df['big_cores'] = big_cores\n",
    "    df['lil_cores'] = lil_cores\n",
    "    df['total_cores'] = total_cores\n",
    "\n",
    "    for j in range(len(bin_val)):\n",
    "        dict_key = 'core-'+str(j)\n",
    "        df[dict_key] = new_cols[dict_key]\n",
    "    \n",
    "    print(df)\n",
    "    return df\n",
    "    "
   ]
  },
  {
   "cell_type": "code",
   "execution_count": 72,
   "metadata": {},
   "outputs": [
    {
     "name": "stdout",
     "output_type": "stream",
     "text": [
      "    cores     freq      Rate     Power      Energy  WU_PWR_AVG  WU_ENERGY  \\\n",
      "0    0xe6   100000  5.887958  5.439624  461.927430         NaN        NaN   \n",
      "1    0xe6   200000  5.888939  5.474008  464.770101         NaN        NaN   \n",
      "2    0xe6   400000  5.897709  5.441137  461.291977         NaN        NaN   \n",
      "3    0xe6   600000  5.897312  5.442045  461.399975         NaN        NaN   \n",
      "4    0xe6   700000  5.908167  5.432657  459.758156         NaN        NaN   \n",
      "5    0xe6   800000  5.893648  5.440728  461.575041         NaN        NaN   \n",
      "6    0xe6  1000000  5.892087  5.463399  463.621307         NaN        NaN   \n",
      "7    0xe6  1200000  5.879515  5.468053  465.008695         NaN        NaN   \n",
      "8    0xe6  1400000  5.890988  5.457655  463.220651         NaN        NaN   \n",
      "9    0xaa   100000  5.994764  4.567958  380.995561         NaN        NaN   \n",
      "10   0xaa   200000  6.142090  4.639552  377.685050         NaN        NaN   \n",
      "11   0xaa   400000  6.132738  4.633690  377.782892         NaN        NaN   \n",
      "12   0xaa   600000  6.141388  4.623678  376.435819         NaN        NaN   \n",
      "13   0xaa   700000  6.150250  4.626373  376.112558         NaN        NaN   \n",
      "14   0xaa   800000  6.153646  4.633241  376.462877         NaN        NaN   \n",
      "15   0xaa  1000000  6.146352  4.626859  376.390352         NaN        NaN   \n",
      "16   0xaa  1200000  6.149373  4.627930  376.292823         NaN        NaN   \n",
      "17   0xaa  1400000  6.146780  4.625277  376.235757         NaN        NaN   \n",
      "18   0xda   100000  5.904099  5.387178  456.223404         NaN        NaN   \n",
      "19   0xda   200000  5.900255  5.434772  460.553992         NaN        NaN   \n",
      "20   0xda   400000  5.891115  5.452016  462.731679         NaN        NaN   \n",
      "21   0xda   600000  5.890124  5.460129  463.498338         NaN        NaN   \n",
      "22   0xda   700000  5.886829  5.464754  464.150520         NaN        NaN   \n",
      "23   0xda   800000  5.889059  5.475984  464.928564         NaN        NaN   \n",
      "24   0xda  1000000  5.897247  5.458857  462.830828         NaN        NaN   \n",
      "25   0xda  1200000  5.874792  5.485718  466.885618         NaN        NaN   \n",
      "26   0xda  1400000  5.889206  5.465076  463.990417         NaN        NaN   \n",
      "27   0x2d   100000  5.217183  3.554354  340.638979         NaN        NaN   \n",
      "28   0x2d   200000  5.214908  3.516393  337.147892         NaN        NaN   \n",
      "29   0x2d   400000  5.218577  3.497162  335.068336         NaN        NaN   \n",
      "..    ...      ...       ...       ...         ...         ...        ...   \n",
      "294  0x54  1000000  6.088327  4.468155  366.944101         NaN        NaN   \n",
      "295  0x54  1200000  6.097478  4.507249  369.599375         NaN        NaN   \n",
      "296  0x54  1400000  6.088277  4.477994  367.755257         NaN        NaN   \n",
      "297  0xad   100000  6.034685  4.562658  378.035834         NaN        NaN   \n",
      "298  0xad   200000  6.046815  4.563643  377.358968         NaN        NaN   \n",
      "299  0xad   400000  6.044632  4.566314  377.716361         NaN        NaN   \n",
      "300  0xad   600000  6.044181  4.572143  378.226414         NaN        NaN   \n",
      "301  0xad   700000  6.030730  4.559864  378.052396         NaN        NaN   \n",
      "302  0xad   800000  6.040648  4.544741  376.179574         NaN        NaN   \n",
      "303  0xad  1000000  6.045420  4.554075  376.654791         NaN        NaN   \n",
      "304  0xad  1200000  6.041073  4.553013  376.837861         NaN        NaN   \n",
      "305  0xad  1400000  6.039815  4.555131  377.091509         NaN        NaN   \n",
      "306  0x6a   100000  6.174490  4.640739  375.799154         NaN        NaN   \n",
      "307  0x6a   200000  6.171046  4.626884  374.886335         NaN        NaN   \n",
      "308  0x6a   400000  6.164684  4.634310  375.875444         NaN        NaN   \n",
      "309  0x6a   600000  6.170460  4.617938  374.197057         NaN        NaN   \n",
      "310  0x6a   700000  6.167497  4.622381  374.736889         NaN        NaN   \n",
      "311  0x6a   800000  6.170670  4.640095  375.979473         NaN        NaN   \n",
      "312  0x6a  1000000  6.165902  4.622566  374.848961         NaN        NaN   \n",
      "313  0x6a  1200000  6.164713  4.614088  374.233451         NaN        NaN   \n",
      "314  0x6a  1400000  6.175551  4.636197  375.366908         NaN        NaN   \n",
      "315  0x76   100000  5.910233  5.398751  456.728935         NaN        NaN   \n",
      "316  0x76   200000  5.902755  5.467117  463.098706         NaN        NaN   \n",
      "317  0x76   400000  5.911290  5.473726  462.989092         NaN        NaN   \n",
      "318  0x76   600000  5.913044  5.477113  463.138102         NaN        NaN   \n",
      "319  0x76   700000  5.910549  5.472407  462.935533         NaN        NaN   \n",
      "320  0x76   800000  5.911411  5.467792  462.477329         NaN        NaN   \n",
      "321  0x76  1000000  5.897223  5.482840  464.865879         NaN        NaN   \n",
      "322  0x76  1200000  5.912836  5.473673  462.863094         NaN        NaN   \n",
      "323  0x76  1400000  5.901099  5.489728  465.144104         NaN        NaN   \n",
      "\n",
      "     big_cores  lil_cores  total_cores  core-0  core-1  core-2  core-3  \\\n",
      "0            3          2            5       1       1       1       0   \n",
      "1            3          2            5       1       1       1       0   \n",
      "2            3          2            5       1       1       1       0   \n",
      "3            3          2            5       1       1       1       0   \n",
      "4            3          2            5       1       1       1       0   \n",
      "5            3          2            5       1       1       1       0   \n",
      "6            3          2            5       1       1       1       0   \n",
      "7            3          2            5       1       1       1       0   \n",
      "8            3          2            5       1       1       1       0   \n",
      "9            2          2            4       1       0       1       0   \n",
      "10           2          2            4       1       0       1       0   \n",
      "11           2          2            4       1       0       1       0   \n",
      "12           2          2            4       1       0       1       0   \n",
      "13           2          2            4       1       0       1       0   \n",
      "14           2          2            4       1       0       1       0   \n",
      "15           2          2            4       1       0       1       0   \n",
      "16           2          2            4       1       0       1       0   \n",
      "17           2          2            4       1       0       1       0   \n",
      "18           3          2            5       1       1       0       1   \n",
      "19           3          2            5       1       1       0       1   \n",
      "20           3          2            5       1       1       0       1   \n",
      "21           3          2            5       1       1       0       1   \n",
      "22           3          2            5       1       1       0       1   \n",
      "23           3          2            5       1       1       0       1   \n",
      "24           3          2            5       1       1       0       1   \n",
      "25           3          2            5       1       1       0       1   \n",
      "26           3          2            5       1       1       0       1   \n",
      "27           1          3            4       0       0       1       0   \n",
      "28           1          3            4       0       0       1       0   \n",
      "29           1          3            4       0       0       1       0   \n",
      "..         ...        ...          ...     ...     ...     ...     ...   \n",
      "294          2          1            3       0       1       0       1   \n",
      "295          2          1            3       0       1       0       1   \n",
      "296          2          1            3       0       1       0       1   \n",
      "297          2          3            5       1       0       1       0   \n",
      "298          2          3            5       1       0       1       0   \n",
      "299          2          3            5       1       0       1       0   \n",
      "300          2          3            5       1       0       1       0   \n",
      "301          2          3            5       1       0       1       0   \n",
      "302          2          3            5       1       0       1       0   \n",
      "303          2          3            5       1       0       1       0   \n",
      "304          2          3            5       1       0       1       0   \n",
      "305          2          3            5       1       0       1       0   \n",
      "306          2          2            4       0       1       1       0   \n",
      "307          2          2            4       0       1       1       0   \n",
      "308          2          2            4       0       1       1       0   \n",
      "309          2          2            4       0       1       1       0   \n",
      "310          2          2            4       0       1       1       0   \n",
      "311          2          2            4       0       1       1       0   \n",
      "312          2          2            4       0       1       1       0   \n",
      "313          2          2            4       0       1       1       0   \n",
      "314          2          2            4       0       1       1       0   \n",
      "315          3          2            5       0       1       1       1   \n",
      "316          3          2            5       0       1       1       1   \n",
      "317          3          2            5       0       1       1       1   \n",
      "318          3          2            5       0       1       1       1   \n",
      "319          3          2            5       0       1       1       1   \n",
      "320          3          2            5       0       1       1       1   \n",
      "321          3          2            5       0       1       1       1   \n",
      "322          3          2            5       0       1       1       1   \n",
      "323          3          2            5       0       1       1       1   \n",
      "\n",
      "     core-4  core-5  core-6  core-7  \n",
      "0         0       1       1       0  \n",
      "1         0       1       1       0  \n",
      "2         0       1       1       0  \n",
      "3         0       1       1       0  \n",
      "4         0       1       1       0  \n",
      "5         0       1       1       0  \n",
      "6         0       1       1       0  \n",
      "7         0       1       1       0  \n",
      "8         0       1       1       0  \n",
      "9         1       0       1       0  \n",
      "10        1       0       1       0  \n",
      "11        1       0       1       0  \n",
      "12        1       0       1       0  \n",
      "13        1       0       1       0  \n",
      "14        1       0       1       0  \n",
      "15        1       0       1       0  \n",
      "16        1       0       1       0  \n",
      "17        1       0       1       0  \n",
      "18        1       0       1       0  \n",
      "19        1       0       1       0  \n",
      "20        1       0       1       0  \n",
      "21        1       0       1       0  \n",
      "22        1       0       1       0  \n",
      "23        1       0       1       0  \n",
      "24        1       0       1       0  \n",
      "25        1       0       1       0  \n",
      "26        1       0       1       0  \n",
      "27        1       1       0       1  \n",
      "28        1       1       0       1  \n",
      "29        1       1       0       1  \n",
      "..      ...     ...     ...     ...  \n",
      "294       0       1       0       0  \n",
      "295       0       1       0       0  \n",
      "296       0       1       0       0  \n",
      "297       1       1       0       1  \n",
      "298       1       1       0       1  \n",
      "299       1       1       0       1  \n",
      "300       1       1       0       1  \n",
      "301       1       1       0       1  \n",
      "302       1       1       0       1  \n",
      "303       1       1       0       1  \n",
      "304       1       1       0       1  \n",
      "305       1       1       0       1  \n",
      "306       1       0       1       0  \n",
      "307       1       0       1       0  \n",
      "308       1       0       1       0  \n",
      "309       1       0       1       0  \n",
      "310       1       0       1       0  \n",
      "311       1       0       1       0  \n",
      "312       1       0       1       0  \n",
      "313       1       0       1       0  \n",
      "314       1       0       1       0  \n",
      "315       0       1       1       0  \n",
      "316       0       1       1       0  \n",
      "317       0       1       1       0  \n",
      "318       0       1       1       0  \n",
      "319       0       1       1       0  \n",
      "320       0       1       1       0  \n",
      "321       0       1       1       0  \n",
      "322       0       1       1       0  \n",
      "323       0       1       1       0  \n",
      "\n",
      "[324 rows x 18 columns]\n",
      "  cores    freq      Rate     Power      Energy  WU_PWR_AVG  WU_ENERGY  \\\n",
      "0  0xe6  100000  5.887958  5.439624  461.927430         NaN        NaN   \n",
      "1  0xe6  200000  5.888939  5.474008  464.770101         NaN        NaN   \n",
      "2  0xe6  400000  5.897709  5.441137  461.291977         NaN        NaN   \n",
      "3  0xe6  600000  5.897312  5.442045  461.399975         NaN        NaN   \n",
      "4  0xe6  700000  5.908167  5.432657  459.758156         NaN        NaN   \n",
      "\n",
      "   big_cores  lil_cores  total_cores  core-0  core-1  core-2  core-3  core-4  \\\n",
      "0          3          2            5       1       1       1       0       0   \n",
      "1          3          2            5       1       1       1       0       0   \n",
      "2          3          2            5       1       1       1       0       0   \n",
      "3          3          2            5       1       1       1       0       0   \n",
      "4          3          2            5       1       1       1       0       0   \n",
      "\n",
      "   core-5  core-6  core-7  \n",
      "0       1       1       0  \n",
      "1       1       1       0  \n",
      "2       1       1       0  \n",
      "3       1       1       0  \n",
      "4       1       1       0  \n"
     ]
    }
   ],
   "source": [
    "#print(create_col(df))\n",
    "\n",
    "df = create_col(df)\n",
    "\n",
    "print(df.head())\n",
    "#df = convert_to_bin(df)\n",
    "#df.plot(x='total_cores', y='Rate',kind='scatter',style='o')"
   ]
  },
  {
   "cell_type": "code",
   "execution_count": 73,
   "metadata": {},
   "outputs": [],
   "source": [
    "df = df.drop(columns=['cores','WU_PWR_AVG','WU_ENERGY','big_cores','lil_cores','total_cores'])\n",
    "#"
   ]
  },
  {
   "cell_type": "code",
   "execution_count": 75,
   "metadata": {},
   "outputs": [
    {
     "name": "stdout",
     "output_type": "stream",
     "text": [
      "     freq      Rate     Power      Energy  core-0  core-1  core-2  core-3  \\\n",
      "0  100000  5.887958  5.439624  461.927430       1       1       1       0   \n",
      "1  200000  5.888939  5.474008  464.770101       1       1       1       0   \n",
      "2  400000  5.897709  5.441137  461.291977       1       1       1       0   \n",
      "3  600000  5.897312  5.442045  461.399975       1       1       1       0   \n",
      "4  700000  5.908167  5.432657  459.758156       1       1       1       0   \n",
      "\n",
      "   core-4  core-5  core-6  core-7  \n",
      "0       0       1       1       0  \n",
      "1       0       1       1       0  \n",
      "2       0       1       1       0  \n",
      "3       0       1       1       0  \n",
      "4       0       1       1       0  \n",
      "X size: (324, 9)\n",
      "y size (324,)\n"
     ]
    }
   ],
   "source": [
    "print(df.head())\n",
    "X = df[['freq','core-0','core-1','core-2','core-3','core-4','core-5','core-6','core-7']]\n",
    "y = df['Power']\n",
    "\n",
    "print (\"X size:\", X.shape)\n",
    "print (\"y size\", y.shape)"
   ]
  },
  {
   "cell_type": "markdown",
   "metadata": {},
   "source": [
    "## Using Random Forest Regressor"
   ]
  },
  {
   "cell_type": "code",
   "execution_count": 78,
   "metadata": {},
   "outputs": [],
   "source": [
    "model = GridSearchCV(RandomForestRegressor(n_estimators=100),\n",
    "                     param_grid=dict(max_features=range(4,9)),\n",
    "                     scoring='neg_mean_squared_error',\n",
    "                    cv=10)\n",
    "#CV = how it does cross validation, 10 = 10 fold cross validation"
   ]
  },
  {
   "cell_type": "code",
   "execution_count": 79,
   "metadata": {},
   "outputs": [
    {
     "data": {
      "text/plain": [
       "GridSearchCV(cv=10, error_score='raise',\n",
       "       estimator=RandomForestRegressor(bootstrap=True, criterion='mse', max_depth=None,\n",
       "           max_features='auto', max_leaf_nodes=None,\n",
       "           min_impurity_decrease=0.0, min_impurity_split=None,\n",
       "           min_samples_leaf=1, min_samples_split=2,\n",
       "           min_weight_fraction_leaf=0.0, n_estimators=100, n_jobs=1,\n",
       "           oob_score=False, random_state=None, verbose=0, warm_start=False),\n",
       "       fit_params=None, iid=True, n_jobs=1,\n",
       "       param_grid={'max_features': range(4, 9)}, pre_dispatch='2*n_jobs',\n",
       "       refit=True, return_train_score='warn',\n",
       "       scoring='neg_mean_squared_error', verbose=0)"
      ]
     },
     "execution_count": 79,
     "metadata": {},
     "output_type": "execute_result"
    }
   ],
   "source": [
    "model.fit(X, y)"
   ]
  },
  {
   "cell_type": "code",
   "execution_count": 80,
   "metadata": {},
   "outputs": [
    {
     "data": {
      "text/plain": [
       "Text(0,0.5,'RMSD')"
      ]
     },
     "execution_count": 80,
     "metadata": {},
     "output_type": "execute_result"
    },
    {
     "data": {
      "image/png": "[encoded data removed]",
      "text/plain": [
       "<Figure size 432x288 with 1 Axes>"
      ]
     },
     "metadata": {},
     "output_type": "display_data"
    }
   ],
   "source": [
    "fig, ax = plt.subplots()\n",
    "ax.scatter(model.cv_results_['param_max_features'].data,\n",
    "          np.sqrt(-1 * model.cv_results_['mean_test_score']))\n",
    "ax.set_xlabel('Max. Features')\n",
    "ax.set_ylabel('RMSD')"
   ]
  },
  {
   "cell_type": "markdown",
   "metadata": {},
   "source": [
    "### Get the best model based on these parameter selections"
   ]
  },
  {
   "cell_type": "code",
   "execution_count": 81,
   "metadata": {},
   "outputs": [
    {
     "name": "stdout",
     "output_type": "stream",
     "text": [
      "{'max_features': 6}\n"
     ]
    }
   ],
   "source": [
    "print (model.best_params_)"
   ]
  },
  {
   "cell_type": "code",
   "execution_count": 82,
   "metadata": {},
   "outputs": [],
   "source": [
    "model = model.best_estimator_"
   ]
  },
  {
   "cell_type": "code",
   "execution_count": 85,
   "metadata": {},
   "outputs": [
    {
     "data": {
      "text/plain": [
       "[('freq', 0.006801986244920458),\n",
       " ('core-0', 0.28350999417975464),\n",
       " ('core-1', 0.18567900207154509),\n",
       " ('core-2', 0.21229163884185692),\n",
       " ('core-3', 0.18227792169383927),\n",
       " ('core-4', 0.03660615676891571),\n",
       " ('core-5', 0.028733003693891118),\n",
       " ('core-6', 0.03142758326900978),\n",
       " ('core-7', 0.0326727132362671)]"
      ]
     },
     "execution_count": 85,
     "metadata": {},
     "output_type": "execute_result"
    }
   ],
   "source": [
    "list(zip(X.columns,model.feature_importances_))"
   ]
  },
  {
   "cell_type": "markdown",
   "metadata": {},
   "source": [
    "## Estimating Prediction Accuracy"
   ]
  },
  {
   "cell_type": "code",
   "execution_count": 86,
   "metadata": {},
   "outputs": [],
   "source": [
    "all_y_test = np.zeros((0,))\n",
    "all_y_pred = np.zeros((0,))\n",
    "#given options and list of data, returns the indices of training and test sets \n",
    "for train_inds, test_inds in ShuffleSplit(n_splits=5, test_size=0.1).split(X,y):\n",
    "    # Split off the train and test set\n",
    "    X_test, y_test = X.iloc[test_inds, :], y[test_inds]\n",
    "    X_train, y_train = X.iloc[train_inds, :], y[train_inds]\n",
    "    \n",
    "    # Train the model\n",
    "    model.fit(X_train, y_train)\n",
    "    y_pred = model.predict(X_test)\n",
    "    \n",
    "    # Append the results\n",
    "    all_y_test = np.concatenate((all_y_test, y_test))\n",
    "    #print (all_y_test)\n",
    "    all_y_pred = np.concatenate((all_y_pred, y_pred))"
   ]
  },
  {
   "cell_type": "markdown",
   "metadata": {},
   "source": [
    "### Print out Scores"
   ]
  },
  {
   "cell_type": "code",
   "execution_count": 89,
   "metadata": {},
   "outputs": [
    {
     "name": "stdout",
     "output_type": "stream",
     "text": [
      "R: 0.9994624207923504\n",
      "MAE: 0.01708844425762417 Watts?\n",
      "RMSE: 0.027753820154113394 Watts?\n"
     ]
    }
   ],
   "source": [
    "print (\"R:\", sp.stats.pearsonr(all_y_test, all_y_pred)[0])\n",
    "print (\"MAE:\", np.abs(all_y_test - all_y_pred).mean(), 'Watts?')\n",
    "print (\"RMSE:\", np.sqrt(np.power(all_y_test - all_y_pred, 2).mean()), 'Watts?')"
   ]
  },
  {
   "cell_type": "code",
   "execution_count": 90,
   "metadata": {},
   "outputs": [],
   "source": [
    "# Make a plot"
   ]
  },
  {
   "cell_type": "code",
   "execution_count": 93,
   "metadata": {},
   "outputs": [
    {
     "data": {
      "image/png": "[encoded data removed]",
      "text/plain": [
       "<Figure size 252x252 with 1 Axes>"
      ]
     },
     "metadata": {},
     "output_type": "display_data"
    }
   ],
   "source": [
    "fig, ax = plt.subplots()\n",
    "\n",
    "# Make the plot\n",
    "ax.scatter(all_y_test, all_y_pred, alpha=0.5)\n",
    "\n",
    "# Make it pretty\n",
    "ax.set_xlim(ax.get_xlim())\n",
    "ax.set_ylim(ax.get_xlim())\n",
    "\n",
    "ax.set_xlabel('True Power (Watts?)')\n",
    "ax.set_ylabel('Pred. Power (Watts?)')\n",
    "\n",
    "fig.set_size_inches(3.5, 3.5)\n",
    "\n",
    "# Add in the goal line\n",
    "ax.plot(ax.get_xlim(), ax.get_ylim(), 'k--');"
   ]
  },
  {
   "cell_type": "markdown",
   "metadata": {},
   "source": [
    "### Train the model and save it"
   ]
  },
  {
   "cell_type": "code",
   "execution_count": 100,
   "metadata": {},
   "outputs": [
    {
     "data": {
      "text/plain": [
       "RandomForestRegressor(bootstrap=True, criterion='mse', max_depth=None,\n",
       "           max_features=6, max_leaf_nodes=None, min_impurity_decrease=0.0,\n",
       "           min_impurity_split=None, min_samples_leaf=1,\n",
       "           min_samples_split=2, min_weight_fraction_leaf=0.0,\n",
       "           n_estimators=100, n_jobs=1, oob_score=False, random_state=None,\n",
       "           verbose=0, warm_start=False)"
      ]
     },
     "execution_count": 100,
     "metadata": {},
     "output_type": "execute_result"
    }
   ],
   "source": [
    "model.fit(X,y)"
   ]
  },
  {
   "cell_type": "code",
   "execution_count": 102,
   "metadata": {},
   "outputs": [],
   "source": [
    "pkl.dump(model, open('power_pred-model.pkl', 'wb'))"
   ]
  },
  {
   "cell_type": "code",
   "execution_count": 109,
   "metadata": {},
   "outputs": [
    {
     "name": "stdout",
     "output_type": "stream",
     "text": [
      "RandomForestRegressor(bootstrap=True, criterion='mse', max_depth=None,\n",
      "           max_features=6, max_leaf_nodes=None, min_impurity_decrease=0.0,\n",
      "           min_impurity_split=None, min_samples_leaf=1,\n",
      "           min_samples_split=2, min_weight_fraction_leaf=0.0,\n",
      "           n_estimators=100, n_jobs=1, oob_score=False, random_state=None,\n",
      "           verbose=0, warm_start=False)\n"
     ]
    },
    {
     "data": {
      "text/plain": [
       "array([5.01023878])"
      ]
     },
     "execution_count": 109,
     "metadata": {},
     "output_type": "execute_result"
    }
   ],
   "source": [
    "with open (\"power_pred-model.pkl\", 'rb') as fp:\n",
    "    model2 = pkl.load(fp)\n",
    "print (model2)\n",
    "model2.predict([[150000,1,1,0,0,1,1,0,0]])"
   ]
  },
  {
   "cell_type": "markdown",
   "metadata": {},
   "source": [
    "## Looking at little cores and big cores relationships\n",
    "Function plot_biglil plots rate vs number of cores for both big, little, and core combinations"
   ]
  },
  {
   "cell_type": "code",
   "execution_count": 95,
   "metadata": {},
   "outputs": [],
   "source": [
    "def plot_biglil(df):\n",
    "    fig = plt.figure()\n",
    "    ax1 = fig.add_subplot(111)\n",
    "    ax1.scatter(x=(df['Rate']),y=(df['big_cores']), label='Big Cores')\n",
    "    ax1.scatter(x=(df['Rate']),y=(df['lil_cores']), label='Little Cores')\n",
    "    ax1.scatter(x=(df['Rate']),y=(df['total_cores']), label='Total Cores')\n",
    "    plt.legend(loc='best');\n",
    "    ax1.set_xlabel(\"Rate\")\n",
    "    ax1.set_ylabel(\"Core Count\")\n",
    "    plt.show()\n"
   ]
  },
  {
   "cell_type": "code",
   "execution_count": 96,
   "metadata": {},
   "outputs": [],
   "source": [
    "#print (df)\n"
   ]
  },
  {
   "cell_type": "markdown",
   "metadata": {},
   "source": [
    "## New Results 'bigger results' of bit and little cores\n",
    "Running with various core combinations:\n",
    "10001 10001 , 1100 1100, 1010 1010, 1000 1000, 1111 1111, 1000 1111, 1010 1111, 1111 0001, 1111 0101, 0101 0101\n",
    "\n",
    "Frequency Combinations: 1200000, 1300000, 1400000, 1500000, 1600000, 1700000, 2000000"
   ]
  },
  {
   "cell_type": "code",
   "execution_count": 97,
   "metadata": {},
   "outputs": [
    {
     "name": "stdout",
     "output_type": "stream",
     "text": [
      "   cores     freq      Rate     Power      Energy  WU_PWR_AVG  WU_ENERGY\n",
      "65  0x55  1600000  5.893376  4.612486  391.327924         NaN        NaN\n",
      "66  0x55  1500000  5.895988  4.602915  390.342841         NaN        NaN\n",
      "67  0x55  1400000  5.868398  4.597875  391.748605         NaN        NaN\n",
      "68  0x55  1300000  5.888496  4.601728  390.738706         NaN        NaN\n",
      "69  0x55  1200000  5.876194  4.600005  391.409825         NaN        NaN\n"
     ]
    }
   ],
   "source": [
    "#Import Data\n",
    "file_path = '/Users/yzamora/power/STREAM.results'\n",
    "long_df = pd.read_csv(file_path, sep='\\s+')\n",
    "print (long_df.tail())"
   ]
  },
  {
   "cell_type": "code",
   "execution_count": 98,
   "metadata": {},
   "outputs": [
    {
     "name": "stdout",
     "output_type": "stream",
     "text": [
      "  cores     freq      Rate     Power      Energy  WU_PWR_AVG  WU_ENERGY  \\\n",
      "0  0x99  2000000  5.670083  4.539333  400.287916         NaN        NaN   \n",
      "1  0x99  1700000  5.892192  4.610204  391.212691         NaN        NaN   \n",
      "2  0x99  1600000  5.892635  4.589785  389.450600         NaN        NaN   \n",
      "3  0x99  1500000  5.995669  4.610535  384.488650         NaN        NaN   \n",
      "4  0x99  1400000  5.958496  4.611672  386.982460         NaN        NaN   \n",
      "\n",
      "   big_cores  lil_cores  total_cores  \n",
      "0          2          2            4  \n",
      "1          2          2            4  \n",
      "2          2          2            4  \n",
      "3          2          2            4  \n",
      "4          2          2            4  \n",
      "   cores     freq      Rate     Power      Energy  WU_PWR_AVG  WU_ENERGY  \\\n",
      "0   0x99  2000000  5.670083  4.539333  400.287916         NaN        NaN   \n",
      "1   0x99  1700000  5.892192  4.610204  391.212691         NaN        NaN   \n",
      "2   0x99  1600000  5.892635  4.589785  389.450600         NaN        NaN   \n",
      "3   0x99  1500000  5.995669  4.610535  384.488650         NaN        NaN   \n",
      "4   0x99  1400000  5.958496  4.611672  386.982460         NaN        NaN   \n",
      "5   0x99  1300000  5.732148  4.970313  433.546983         NaN        NaN   \n",
      "6   0x99  1200000  5.822093  4.590873  394.262795         NaN        NaN   \n",
      "7   0xcc  2000000  5.864689  4.582897  390.719466         NaN        NaN   \n",
      "8   0xcc  1700000  5.909134  4.592290  388.575240         NaN        NaN   \n",
      "9   0xcc  1600000  5.905549  4.595279  389.064351         NaN        NaN   \n",
      "10  0xcc  1500000  5.950931  4.598936  386.404442         NaN        NaN   \n",
      "11  0xcc  1400000  5.932163  4.596988  387.462649         NaN        NaN   \n",
      "12  0xcc  1300000  5.937689  4.589966  386.510938         NaN        NaN   \n",
      "13  0xcc  1200000  5.910555  4.574640  386.988926         NaN        NaN   \n",
      "14  0xaa  2000000  5.898871  4.604300  390.269216         NaN        NaN   \n",
      "15  0xaa  1700000  5.925686  4.633080  390.931877         NaN        NaN   \n",
      "16  0xaa  1600000  5.934976  4.620309  389.243938         NaN        NaN   \n",
      "17  0xaa  1500000  5.916816  4.608742  389.461281         NaN        NaN   \n",
      "18  0xaa  1400000  5.940782  4.618809  388.737440         NaN        NaN   \n",
      "19  0xaa  1300000  5.811915  4.530324  389.744226         NaN        NaN   \n",
      "20  0xaa  1200000  5.904905  4.603884  389.835258         NaN        NaN   \n",
      "21  0x88  2000000  5.258260  3.515919  334.323112         NaN        NaN   \n",
      "22  0x88  1700000  5.268969  3.488728  331.063541         NaN        NaN   \n",
      "23  0x88  1600000  5.268257  3.485024  330.756657         NaN        NaN   \n",
      "24  0x88  1500000  5.265022  3.487925  331.235331         NaN        NaN   \n",
      "25  0x88  1400000  5.266870  3.489434  331.262437         NaN        NaN   \n",
      "26  0x88  1300000  5.264081  3.476794  330.237367         NaN        NaN   \n",
      "27  0x88  1200000  5.259103  3.484719  331.303386         NaN        NaN   \n",
      "28  0xff  2000000  5.362694  6.249501  582.682849         NaN        NaN   \n",
      "29  0xff  1700000  5.366766  6.084923  566.907327         NaN        NaN   \n",
      "..   ...      ...       ...       ...         ...         ...        ...   \n",
      "40  0x8f  1300000  4.947481  3.436335  347.281169         NaN        NaN   \n",
      "41  0x8f  1200000  4.956723  3.436988  346.699290         NaN        NaN   \n",
      "42  0xaf  2000000  5.772235  4.539018  393.176547         NaN        NaN   \n",
      "43  0xaf  1700000  5.782146  4.584531  396.438149         NaN        NaN   \n",
      "44  0xaf  1600000  5.798658  4.607615  397.299897         NaN        NaN   \n",
      "45  0xaf  1500000  5.811977  4.611589  396.731312         NaN        NaN   \n",
      "46  0xaf  1400000  5.783783  4.599225  397.596562         NaN        NaN   \n",
      "47  0xaf  1300000  5.781958  4.604420  398.170903         NaN        NaN   \n",
      "48  0xaf  1200000  5.797935  4.624307  398.789137         NaN        NaN   \n",
      "49  0xf1  2000000  5.217567  6.016493  576.561125         NaN        NaN   \n",
      "50  0xf1  1700000  5.204510  5.937535  570.421956         NaN        NaN   \n",
      "51  0xf1  1600000  5.217389  5.924068  567.722985         NaN        NaN   \n",
      "52  0xf1  1500000  5.202579  5.920320  568.978865         NaN        NaN   \n",
      "53  0xf1  1400000  5.209976  5.927559  568.866058         NaN        NaN   \n",
      "54  0xf1  1300000  5.212609  5.920430  567.894750         NaN        NaN   \n",
      "55  0xf1  1200000  5.213410  5.920549  567.819132         NaN        NaN   \n",
      "56  0xf5  2000000  5.248603  6.012932  572.812346         NaN        NaN   \n",
      "57  0xf5  1700000  5.248796  5.991688  570.767599         NaN        NaN   \n",
      "58  0xf5  1600000  5.250616  5.982077  569.654648         NaN        NaN   \n",
      "59  0xf5  1500000  5.253432  5.967581  567.969295         NaN        NaN   \n",
      "60  0xf5  1400000  5.239691  5.986291  571.244213         NaN        NaN   \n",
      "61  0xf5  1300000  5.253173  5.987719  569.914088         NaN        NaN   \n",
      "62  0xf5  1200000  5.247463  5.973545  569.183859         NaN        NaN   \n",
      "63  0x55  2000000  5.821495  4.666556  400.803495         NaN        NaN   \n",
      "64  0x55  1700000  5.848394  4.621612  395.117785         NaN        NaN   \n",
      "65  0x55  1600000  5.893376  4.612486  391.327924         NaN        NaN   \n",
      "66  0x55  1500000  5.895988  4.602915  390.342841         NaN        NaN   \n",
      "67  0x55  1400000  5.868398  4.597875  391.748605         NaN        NaN   \n",
      "68  0x55  1300000  5.888496  4.601728  390.738706         NaN        NaN   \n",
      "69  0x55  1200000  5.876194  4.600005  391.409825         NaN        NaN   \n",
      "\n",
      "    big_cores  lil_cores  total_cores  \n",
      "0           2          2            4  \n",
      "1           2          2            4  \n",
      "2           2          2            4  \n",
      "3           2          2            4  \n",
      "4           2          2            4  \n",
      "5           2          2            4  \n",
      "6           2          2            4  \n",
      "7           2          2            4  \n",
      "8           2          2            4  \n",
      "9           2          2            4  \n",
      "10          2          2            4  \n",
      "11          2          2            4  \n",
      "12          2          2            4  \n",
      "13          2          2            4  \n",
      "14          2          2            4  \n",
      "15          2          2            4  \n",
      "16          2          2            4  \n",
      "17          2          2            4  \n",
      "18          2          2            4  \n",
      "19          2          2            4  \n",
      "20          2          2            4  \n",
      "21          1          1            2  \n",
      "22          1          1            2  \n",
      "23          1          1            2  \n",
      "24          1          1            2  \n",
      "25          1          1            2  \n",
      "26          1          1            2  \n",
      "27          1          1            2  \n",
      "28          4          4            8  \n",
      "29          4          4            8  \n",
      "..        ...        ...          ...  \n",
      "40          1          4            5  \n",
      "41          1          4            5  \n",
      "42          2          4            6  \n",
      "43          2          4            6  \n",
      "44          2          4            6  \n",
      "45          2          4            6  \n",
      "46          2          4            6  \n",
      "47          2          4            6  \n",
      "48          2          4            6  \n",
      "49          4          1            5  \n",
      "50          4          1            5  \n",
      "51          4          1            5  \n",
      "52          4          1            5  \n",
      "53          4          1            5  \n",
      "54          4          1            5  \n",
      "55          4          1            5  \n",
      "56          4          2            6  \n",
      "57          4          2            6  \n",
      "58          4          2            6  \n",
      "59          4          2            6  \n",
      "60          4          2            6  \n",
      "61          4          2            6  \n",
      "62          4          2            6  \n",
      "63          2          2            4  \n",
      "64          2          2            4  \n",
      "65          2          2            4  \n",
      "66          2          2            4  \n",
      "67          2          2            4  \n",
      "68          2          2            4  \n",
      "69          2          2            4  \n",
      "\n",
      "[70 rows x 10 columns]\n"
     ]
    }
   ],
   "source": [
    "long_df = convert_to_bin(long_df)\n",
    "print (long_df)"
   ]
  },
  {
   "cell_type": "code",
   "execution_count": 9,
   "metadata": {},
   "outputs": [
    {
     "data": {
      "image/png": "[encoded data removed]",
      "text/plain": [
       "<Figure size 432x288 with 1 Axes>"
      ]
     },
     "metadata": {},
     "output_type": "display_data"
    }
   ],
   "source": [
    "plot_biglil(long_df)"
   ]
  },
  {
   "cell_type": "markdown",
   "metadata": {},
   "source": [
    "## Using only Mixed Cores (No all big or all little)"
   ]
  },
  {
   "cell_type": "code",
   "execution_count": 5,
   "metadata": {},
   "outputs": [
    {
     "name": "stdout",
     "output_type": "stream",
     "text": [
      "<bound method NDFrame.head of     cores     freq      Rate     Power      Energy  WU_PWR_AVG  WU_ENERGY\n",
      "0    0xe6   100000  5.887958  5.439624  461.927430         NaN        NaN\n",
      "1    0xe6   200000  5.888939  5.474008  464.770101         NaN        NaN\n",
      "2    0xe6   400000  5.897709  5.441137  461.291977         NaN        NaN\n",
      "3    0xe6   600000  5.897312  5.442045  461.399975         NaN        NaN\n",
      "4    0xe6   700000  5.908167  5.432657  459.758156         NaN        NaN\n",
      "5    0xe6   800000  5.893648  5.440728  461.575041         NaN        NaN\n",
      "6    0xe6  1000000  5.892087  5.463399  463.621307         NaN        NaN\n",
      "7    0xe6  1200000  5.879515  5.468053  465.008695         NaN        NaN\n",
      "8    0xe6  1400000  5.890988  5.457655  463.220651         NaN        NaN\n",
      "9    0xaa   100000  5.994764  4.567958  380.995561         NaN        NaN\n",
      "10   0xaa   200000  6.142090  4.639552  377.685050         NaN        NaN\n",
      "11   0xaa   400000  6.132738  4.633690  377.782892         NaN        NaN\n",
      "12   0xaa   600000  6.141388  4.623678  376.435819         NaN        NaN\n",
      "13   0xaa   700000  6.150250  4.626373  376.112558         NaN        NaN\n",
      "14   0xaa   800000  6.153646  4.633241  376.462877         NaN        NaN\n",
      "15   0xaa  1000000  6.146352  4.626859  376.390352         NaN        NaN\n",
      "16   0xaa  1200000  6.149373  4.627930  376.292823         NaN        NaN\n",
      "17   0xaa  1400000  6.146780  4.625277  376.235757         NaN        NaN\n",
      "18   0xda   100000  5.904099  5.387178  456.223404         NaN        NaN\n",
      "19   0xda   200000  5.900255  5.434772  460.553992         NaN        NaN\n",
      "20   0xda   400000  5.891115  5.452016  462.731679         NaN        NaN\n",
      "21   0xda   600000  5.890124  5.460129  463.498338         NaN        NaN\n",
      "22   0xda   700000  5.886829  5.464754  464.150520         NaN        NaN\n",
      "23   0xda   800000  5.889059  5.475984  464.928564         NaN        NaN\n",
      "24   0xda  1000000  5.897247  5.458857  462.830828         NaN        NaN\n",
      "25   0xda  1200000  5.874792  5.485718  466.885618         NaN        NaN\n",
      "26   0xda  1400000  5.889206  5.465076  463.990417         NaN        NaN\n",
      "27   0x2d   100000  5.217183  3.554354  340.638979         NaN        NaN\n",
      "28   0x2d   200000  5.214908  3.516393  337.147892         NaN        NaN\n",
      "29   0x2d   400000  5.218577  3.497162  335.068336         NaN        NaN\n",
      "..    ...      ...       ...       ...         ...         ...        ...\n",
      "294  0x54  1000000  6.088327  4.468155  366.944101         NaN        NaN\n",
      "295  0x54  1200000  6.097478  4.507249  369.599375         NaN        NaN\n",
      "296  0x54  1400000  6.088277  4.477994  367.755257         NaN        NaN\n",
      "297  0xad   100000  6.034685  4.562658  378.035834         NaN        NaN\n",
      "298  0xad   200000  6.046815  4.563643  377.358968         NaN        NaN\n",
      "299  0xad   400000  6.044632  4.566314  377.716361         NaN        NaN\n",
      "300  0xad   600000  6.044181  4.572143  378.226414         NaN        NaN\n",
      "301  0xad   700000  6.030730  4.559864  378.052396         NaN        NaN\n",
      "302  0xad   800000  6.040648  4.544741  376.179574         NaN        NaN\n",
      "303  0xad  1000000  6.045420  4.554075  376.654791         NaN        NaN\n",
      "304  0xad  1200000  6.041073  4.553013  376.837861         NaN        NaN\n",
      "305  0xad  1400000  6.039815  4.555131  377.091509         NaN        NaN\n",
      "306  0x6a   100000  6.174490  4.640739  375.799154         NaN        NaN\n",
      "307  0x6a   200000  6.171046  4.626884  374.886335         NaN        NaN\n",
      "308  0x6a   400000  6.164684  4.634310  375.875444         NaN        NaN\n",
      "309  0x6a   600000  6.170460  4.617938  374.197057         NaN        NaN\n",
      "310  0x6a   700000  6.167497  4.622381  374.736889         NaN        NaN\n",
      "311  0x6a   800000  6.170670  4.640095  375.979473         NaN        NaN\n",
      "312  0x6a  1000000  6.165902  4.622566  374.848961         NaN        NaN\n",
      "313  0x6a  1200000  6.164713  4.614088  374.233451         NaN        NaN\n",
      "314  0x6a  1400000  6.175551  4.636197  375.366908         NaN        NaN\n",
      "315  0x76   100000  5.910233  5.398751  456.728935         NaN        NaN\n",
      "316  0x76   200000  5.902755  5.467117  463.098706         NaN        NaN\n",
      "317  0x76   400000  5.911290  5.473726  462.989092         NaN        NaN\n",
      "318  0x76   600000  5.913044  5.477113  463.138102         NaN        NaN\n",
      "319  0x76   700000  5.910549  5.472407  462.935533         NaN        NaN\n",
      "320  0x76   800000  5.911411  5.467792  462.477329         NaN        NaN\n",
      "321  0x76  1000000  5.897223  5.482840  464.865879         NaN        NaN\n",
      "322  0x76  1200000  5.912836  5.473673  462.863094         NaN        NaN\n",
      "323  0x76  1400000  5.901099  5.489728  465.144104         NaN        NaN\n",
      "\n",
      "[324 rows x 7 columns]>\n"
     ]
    }
   ],
   "source": [
    "#Import Data\n",
    "file_path = '/Users/yzamora/power/STREAM_results_mixed/STREAM.results'\n",
    "df_mixed = pd.read_csv(file_path, sep='\\s+')\n",
    "print(df_mixed.head)"
   ]
  }
 ],
 "metadata": {
  "kernelspec": {
   "display_name": "Python 3",
   "language": "python",
   "name": "python3"
  },
  "language_info": {
   "codemirror_mode": {
    "name": "ipython",
    "version": 3
   },
   "file_extension": ".py",
   "mimetype": "text/x-python",
   "name": "python",
   "nbconvert_exporter": "python",
   "pygments_lexer": "ipython3",
   "version": "3.6.4"
  }
 },
 "nbformat": 4,
 "nbformat_minor": 2
}
