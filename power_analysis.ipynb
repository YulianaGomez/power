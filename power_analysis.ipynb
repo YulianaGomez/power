{
 "cells": [
  {
   "cell_type": "markdown",
   "metadata": {},
   "source": [
    "# Analysis of performance - power data"
   ]
  },
  {
   "cell_type": "code",
   "execution_count": 84,
   "metadata": {},
   "outputs": [],
   "source": [
    "import pandas as pd\n",
    "import numpy as np\n",
    "import matplotlib.pyplot as plt\n",
    "%matplotlib inline"
   ]
  },
  {
   "cell_type": "code",
   "execution_count": 85,
   "metadata": {},
   "outputs": [
    {
     "name": "stdout",
     "output_type": "stream",
     "text": [
      "   Beat  Tag            Timestamp  Global_Rate  Window_Rate  Instant_Rate  \\\n",
      "0     0    0  1527326949297512609     0.000000     0.000000      0.000000   \n",
      "1     1    1  1527326953058903759     0.531718     0.265859      0.265859   \n",
      "2     2    2  1527326956838578947     0.397822     0.265214      0.264573   \n",
      "3     3    3  1527326960616173890     0.353399     0.265049      0.264719   \n",
      "4     4    4  1527326964388316847     0.331328     0.265062      0.265101   \n",
      "\n",
      "   Global_Accuracy  Window_Accuracy  Instant_Accuracy  Global_Power  \\\n",
      "0              1.0              1.0               1.0      0.000000   \n",
      "1              1.0              1.0               1.0      0.793298   \n",
      "2              1.0              1.0               1.0      0.820799   \n",
      "3              1.0              1.0               1.0      0.812252   \n",
      "4              1.0              1.0               1.0      0.808221   \n",
      "\n",
      "   Window_Power  Instant_Power  \n",
      "0      0.000000       0.000000  \n",
      "1      0.793298       0.793298  \n",
      "2      0.820799       0.848168  \n",
      "3      0.812252       0.795190  \n",
      "4      0.808221       0.796125  \n"
     ]
    }
   ],
   "source": [
    "## Import data\n",
    "file_path = '/Users/yzamora/Desktop/summer_power/initial_combo_logs/heartbeat_0x1-1200000.log'\n",
    "df = pd.read_csv(file_path, sep='\\s+')\n",
    "print (df.head())"
   ]
  },
  {
   "cell_type": "markdown",
   "metadata": {},
   "source": [
    "## Plotting performance vs power using HeartLogs:"
   ]
  },
  {
   "cell_type": "code",
   "execution_count": 86,
   "metadata": {},
   "outputs": [
    {
     "data": {
      "text/plain": [
       "<matplotlib.axes._subplots.AxesSubplot at 0x10f8d97f0>"
      ]
     },
     "execution_count": 86,
     "metadata": {},
     "output_type": "execute_result"
    },
    {
     "data": {
      "image/png": "[encoded data removed]",
      "text/plain": [
       "<Figure size 432x288 with 1 Axes>"
      ]
     },
     "metadata": {},
     "output_type": "display_data"
    }
   ],
   "source": [
    "power = df['Window_Rate']\n",
    "#removing first row, value = 0 \n",
    "df = df.iloc[1:]\n",
    "#print( power )\n",
    "df.plot(x='Window_Rate', y='Window_Power', style='o')\n"
   ]
  },
  {
   "cell_type": "markdown",
   "metadata": {},
   "source": [
    "## Performance vs power using STREAM.results"
   ]
  },
  {
   "cell_type": "code",
   "execution_count": 87,
   "metadata": {},
   "outputs": [
    {
     "name": "stdout",
     "output_type": "stream",
     "text": [
      "  cores     freq      Rate     Power      Energy  WU_PWR_AVG  WU_ENERGY\n",
      "0  0xFF  2000000  3.411315  5.467605  801.392332         NaN        NaN\n",
      "1  0xFF  1900000  3.411923  4.292187  628.998114         NaN        NaN\n",
      "2  0xFF  1800000  3.430406  3.656366  532.934723         NaN        NaN\n",
      "3  0xFF  1400000  3.434256  3.643640  530.484470         NaN        NaN\n",
      "4  0xFF  1300000  3.427420  3.644682  531.694592         NaN        NaN\n"
     ]
    }
   ],
   "source": [
    "#Import Data\n",
    "file_path = '/Users/yzamora/Desktop/summer_power/initial_combo_logs/STREAM.results'\n",
    "df = pd.read_csv(file_path, sep='\\s+')\n",
    "print (df.head())"
   ]
  },
  {
   "cell_type": "code",
   "execution_count": 100,
   "metadata": {},
   "outputs": [
    {
     "data": {
      "text/plain": [
       "<matplotlib.axes._subplots.AxesSubplot at 0x10fc84e48>"
      ]
     },
     "execution_count": 100,
     "metadata": {},
     "output_type": "execute_result"
    },
    {
     "data": {
      "image/png": "[encoded data removed]",
      "text/plain": [
       "<Figure size 432x288 with 1 Axes>"
      ]
     },
     "metadata": {},
     "output_type": "display_data"
    }
   ],
   "source": [
    "\n",
    "df.plot(x='Rate', y='Power',kind='scatter',style='o')\n"
   ]
  },
  {
   "cell_type": "markdown",
   "metadata": {},
   "source": [
    "## Clock Speed vs Number of Cores"
   ]
  },
  {
   "cell_type": "markdown",
   "metadata": {},
   "source": [
    "First Converting Hex to Binary, then getting the number of cores being used\n"
   ]
  },
  {
   "cell_type": "code",
   "execution_count": 101,
   "metadata": {},
   "outputs": [
    {
     "name": "stdout",
     "output_type": "stream",
     "text": [
      "  cores     freq      Rate     Power      Energy  WU_PWR_AVG  WU_ENERGY  \\\n",
      "0  0xFF  2000000  3.411315  5.467605  801.392332         NaN        NaN   \n",
      "1  0xFF  1900000  3.411923  4.292187  628.998114         NaN        NaN   \n",
      "2  0xFF  1800000  3.430406  3.656366  532.934723         NaN        NaN   \n",
      "3  0xFF  1400000  3.434256  3.643640  530.484470         NaN        NaN   \n",
      "4  0xFF  1300000  3.427420  3.644682  531.694592         NaN        NaN   \n",
      "\n",
      "  cores_bin  big_cores  lil_cores  total_cores  \n",
      "0  11111111          4          4            8  \n",
      "1  11111111          4          4            8  \n",
      "2  11111111          4          4            8  \n",
      "3  11111111          4          4            8  \n",
      "4  11111111          4          4            8  \n"
     ]
    }
   ],
   "source": [
    "cores_hex = df['cores'].tolist()\n",
    "cores_bin = []\n",
    "big_cores = []\n",
    "lil_cores = []\n",
    "total_cores = []\n",
    "scale = 16 ## equals to hexadecimal\n",
    "num_of_bits = 8\n",
    "\n",
    "for i in cores_hex:\n",
    "#my_hexdata = \"1a\" \n",
    "    bin_val = bin(int(i, scale))[2:].zfill(num_of_bits)\n",
    "    ncores=0\n",
    "    nlittle=0\n",
    "    nbig=0\n",
    "    for j in range(len(bin_val)): \n",
    "        ncores+=int(bin_val[j])\n",
    "        if j<4: nbig+=int(bin_val[j])\n",
    "        else: nlittle+=int(bin_val[j])\n",
    "    #print(bin_val+\" big, little, total: \"+str(nbig)+\" \"+str(nlittle)+\" \"+str(ncores))\n",
    "    cores_bin.append(bin_val)\n",
    "    big_cores.append(nbig)\n",
    "    lil_cores.append(nlittle)\n",
    "    total_cores.append(ncores)\n",
    "    \n",
    "    \n",
    "#print (cores_bin)\n",
    "df['big_cores'] = big_cores\n",
    "df['lil_cores'] = lil_cores\n",
    "df['total_cores'] = total_cores\n",
    "\n",
    "print(df.head())\n",
    "\n"
   ]
  },
  {
   "cell_type": "code",
   "execution_count": 104,
   "metadata": {},
   "outputs": [
    {
     "data": {
      "text/plain": [
       "<matplotlib.axes._subplots.AxesSubplot at 0x10f365390>"
      ]
     },
     "execution_count": 104,
     "metadata": {},
     "output_type": "execute_result"
    },
    {
     "data": {
      "image/png": "[encoded data removed]",
      "text/plain": [
       "<Figure size 432x288 with 1 Axes>"
      ]
     },
     "metadata": {},
     "output_type": "display_data"
    }
   ],
   "source": [
    "df.plot(x='total_cores', y='Rate',kind='scatter',style='o')"
   ]
  },
  {
   "cell_type": "code",
   "execution_count": 92,
   "metadata": {},
   "outputs": [
    {
     "name": "stdout",
     "output_type": "stream",
     "text": [
      "  cores     freq      Rate     Power      Energy  WU_PWR_AVG  WU_ENERGY  \\\n",
      "0  0xFF  2000000  3.411315  5.467605  801.392332         NaN        NaN   \n",
      "1  0xFF  1900000  3.411923  4.292187  628.998114         NaN        NaN   \n",
      "2  0xFF  1800000  3.430406  3.656366  532.934723         NaN        NaN   \n",
      "3  0xFF  1400000  3.434256  3.643640  530.484470         NaN        NaN   \n",
      "4  0xFF  1300000  3.427420  3.644682  531.694592         NaN        NaN   \n",
      "\n",
      "  cores_bin  \n",
      "0  11111111  \n",
      "1  11111111  \n",
      "2  11111111  \n",
      "3  11111111  \n",
      "4  11111111  \n"
     ]
    }
   ],
   "source": []
  },
  {
   "cell_type": "code",
   "execution_count": null,
   "metadata": {},
   "outputs": [],
   "source": []
  }
 ],
 "metadata": {
  "kernelspec": {
   "display_name": "Python 3",
   "language": "python",
   "name": "python3"
  },
  "language_info": {
   "codemirror_mode": {
    "name": "ipython",
    "version": 3
   },
   "file_extension": ".py",
   "mimetype": "text/x-python",
   "name": "python",
   "nbconvert_exporter": "python",
   "pygments_lexer": "ipython3",
   "version": "3.6.4"
  }
 },
 "nbformat": 4,
 "nbformat_minor": 2
}
