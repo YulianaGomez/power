{
 "cells": [
  {
   "cell_type": "markdown",
   "metadata": {},
   "source": [
    "# Analysis of performance - power data"
   ]
  },
  {
   "cell_type": "code",
   "execution_count": 2,
   "metadata": {},
   "outputs": [],
   "source": [
    "import pandas as pd\n",
    "import numpy as np\n",
    "import matplotlib.pyplot as plt\n",
    "%matplotlib inline"
   ]
  },
  {
   "cell_type": "code",
   "execution_count": 3,
   "metadata": {},
   "outputs": [
    {
     "name": "stdout",
     "output_type": "stream",
     "text": [
      "   Beat  Tag            Timestamp  Global_Rate  Window_Rate  Instant_Rate  \\\n",
      "0     0    0  1527326949297512609     0.000000     0.000000      0.000000   \n",
      "1     1    1  1527326953058903759     0.531718     0.265859      0.265859   \n",
      "2     2    2  1527326956838578947     0.397822     0.265214      0.264573   \n",
      "3     3    3  1527326960616173890     0.353399     0.265049      0.264719   \n",
      "4     4    4  1527326964388316847     0.331328     0.265062      0.265101   \n",
      "\n",
      "   Global_Accuracy  Window_Accuracy  Instant_Accuracy  Global_Power  \\\n",
      "0              1.0              1.0               1.0      0.000000   \n",
      "1              1.0              1.0               1.0      0.793298   \n",
      "2              1.0              1.0               1.0      0.820799   \n",
      "3              1.0              1.0               1.0      0.812252   \n",
      "4              1.0              1.0               1.0      0.808221   \n",
      "\n",
      "   Window_Power  Instant_Power  \n",
      "0      0.000000       0.000000  \n",
      "1      0.793298       0.793298  \n",
      "2      0.820799       0.848168  \n",
      "3      0.812252       0.795190  \n",
      "4      0.808221       0.796125  \n"
     ]
    }
   ],
   "source": [
    "## Import data\n",
    "file_path = '/Users/yzamora/power/initial_combo_logs/heartbeat_0x1-1200000.log'\n",
    "df = pd.read_csv(file_path, sep='\\s+')\n",
    "print (df.head())"
   ]
  },
  {
   "cell_type": "markdown",
   "metadata": {},
   "source": [
    "## Plotting performance vs power using HeartLogs:"
   ]
  },
  {
   "cell_type": "code",
   "execution_count": 4,
   "metadata": {},
   "outputs": [
    {
     "data": {
      "text/plain": [
       "<matplotlib.axes._subplots.AxesSubplot at 0x10d0a2cc0>"
      ]
     },
     "execution_count": 4,
     "metadata": {},
     "output_type": "execute_result"
    },
    {
     "data": {
      "image/png": "[encoded data removed]",
      "text/plain": [
       "<Figure size 432x288 with 1 Axes>"
      ]
     },
     "metadata": {},
     "output_type": "display_data"
    }
   ],
   "source": [
    "power = df['Window_Rate']\n",
    "#removing first row, value = 0 \n",
    "df = df.iloc[1:]\n",
    "#print( power )\n",
    "df.plot(x='Window_Rate', y='Window_Power', style='o')\n"
   ]
  },
  {
   "cell_type": "markdown",
   "metadata": {},
   "source": [
    "## Performance vs power using STREAM.results"
   ]
  },
  {
   "cell_type": "code",
   "execution_count": 6,
   "metadata": {},
   "outputs": [
    {
     "name": "stdout",
     "output_type": "stream",
     "text": [
      "  cores     freq      Rate     Power      Energy  WU_PWR_AVG  WU_ENERGY\n",
      "0  0xFF  2000000  3.411315  5.467605  801.392332         NaN        NaN\n",
      "1  0xFF  1900000  3.411923  4.292187  628.998114         NaN        NaN\n",
      "2  0xFF  1800000  3.430406  3.656366  532.934723         NaN        NaN\n",
      "3  0xFF  1400000  3.434256  3.643640  530.484470         NaN        NaN\n",
      "4  0xFF  1300000  3.427420  3.644682  531.694592         NaN        NaN\n"
     ]
    }
   ],
   "source": [
    "#Import Data\n",
    "file_path = '/Users/yzamora/power/initial_combo_logs/STREAM.results'\n",
    "df = pd.read_csv(file_path, sep='\\s+')\n",
    "print (df.head())"
   ]
  },
  {
   "cell_type": "code",
   "execution_count": 7,
   "metadata": {},
   "outputs": [
    {
     "data": {
      "text/plain": [
       "<matplotlib.axes._subplots.AxesSubplot at 0x10d3a6588>"
      ]
     },
     "execution_count": 7,
     "metadata": {},
     "output_type": "execute_result"
    },
    {
     "data": {
      "image/png": "[encoded data removed]",
      "text/plain": [
       "<Figure size 432x288 with 1 Axes>"
      ]
     },
     "metadata": {},
     "output_type": "display_data"
    }
   ],
   "source": [
    "\n",
    "df.plot(x='Rate', y='Power',kind='scatter',style='o')\n"
   ]
  },
  {
   "cell_type": "markdown",
   "metadata": {},
   "source": [
    "## Clock Speed vs Number of Cores"
   ]
  },
  {
   "cell_type": "markdown",
   "metadata": {},
   "source": [
    "First Converting Hex to Binary, then getting the number of cores being used\n"
   ]
  },
  {
   "cell_type": "code",
   "execution_count": 5,
   "metadata": {},
   "outputs": [],
   "source": [
    "def convert_to_bin(df):\n",
    "    cores_hex = df['cores'].tolist()\n",
    "    cores_bin = []\n",
    "    big_cores = []\n",
    "    lil_cores = []\n",
    "    total_cores = []\n",
    "    scale = 16 ## equals to hexadecimal\n",
    "    num_of_bits = 8\n",
    "\n",
    "    for i in cores_hex:\n",
    "    #my_hexdata = \"1a\" \n",
    "        bin_val = bin(int(i, scale))[2:].zfill(num_of_bits)\n",
    "        ncores=0\n",
    "        nlittle=0\n",
    "        nbig=0\n",
    "        for j in range(len(bin_val)): \n",
    "            ncores+=int(bin_val[j])\n",
    "            if j<4: nbig+=int(bin_val[j])\n",
    "            else: nlittle+=int(bin_val[j])\n",
    "        #print(bin_val+\" big, little, total: \"+str(nbig)+\" \"+str(nlittle)+\" \"+str(ncores))\n",
    "        cores_bin.append(bin_val)\n",
    "        big_cores.append(nbig)\n",
    "        lil_cores.append(nlittle)\n",
    "        total_cores.append(ncores)\n",
    "\n",
    "\n",
    "    #print (cores_bin)\n",
    "    df['big_cores'] = big_cores\n",
    "    df['lil_cores'] = lil_cores\n",
    "    df['total_cores'] = total_cores\n",
    "\n",
    "    print(df.head())\n",
    "    return df\n",
    "\n"
   ]
  },
  {
   "cell_type": "code",
   "execution_count": 9,
   "metadata": {},
   "outputs": [
    {
     "data": {
      "text/plain": [
       "<matplotlib.axes._subplots.AxesSubplot at 0x10d4202b0>"
      ]
     },
     "execution_count": 9,
     "metadata": {},
     "output_type": "execute_result"
    },
    {
     "data": {
      "image/png": "[encoded data removed]",
      "text/plain": [
       "<Figure size 432x288 with 1 Axes>"
      ]
     },
     "metadata": {},
     "output_type": "display_data"
    }
   ],
   "source": [
    "df = convert_to_bin(df)\n",
    "df.plot(x='total_cores', y='Rate',kind='scatter',style='o')"
   ]
  },
  {
   "cell_type": "markdown",
   "metadata": {},
   "source": [
    "## Looking at little cores and big cores relationships\n",
    "Funtion plot_biglil plots rate vs number of cores for both big, little, and core combinations"
   ]
  },
  {
   "cell_type": "code",
   "execution_count": 8,
   "metadata": {},
   "outputs": [],
   "source": [
    "def plot_biglil(df):\n",
    "    fig = plt.figure()\n",
    "    ax1 = fig.add_subplot(111)\n",
    "    ax1.scatter(x=(df['Rate']),y=(df['big_cores']), label='Big Cores')\n",
    "    ax1.scatter(x=(df['Rate']),y=(df['lil_cores']), label='Little Cores')\n",
    "    ax1.scatter(x=(df['Rate']),y=(df['total_cores']), label='Total Cores')\n",
    "    plt.legend(loc='best');\n",
    "    ax1.set_xlabel(\"Rate\")\n",
    "    ax1.set_ylabel(\"Core Count\")\n",
    "    plt.show()\n"
   ]
  },
  {
   "cell_type": "code",
   "execution_count": 19,
   "metadata": {},
   "outputs": [
    {
     "name": "stdout",
     "output_type": "stream",
     "text": [
      "   cores     freq      Rate     Power       Energy  WU_PWR_AVG  WU_ENERGY  \\\n",
      "0   0xFF  2000000  3.411315  5.467605   801.392332         NaN        NaN   \n",
      "1   0xFF  1900000  3.411923  4.292187   628.998114         NaN        NaN   \n",
      "2   0xFF  1800000  3.430406  3.656366   532.934723         NaN        NaN   \n",
      "3   0xFF  1400000  3.434256  3.643640   530.484470         NaN        NaN   \n",
      "4   0xFF  1300000  3.427420  3.644682   531.694592         NaN        NaN   \n",
      "5   0xFF  1200000  3.436005  3.652799   531.547274         NaN        NaN   \n",
      "6   0x7F  2000000  3.278213  4.520206   689.431311         NaN        NaN   \n",
      "7   0x7F  1900000  3.343341  3.622456   541.741917         NaN        NaN   \n",
      "8   0x7F  1800000  3.428370  3.130300   456.528899         NaN        NaN   \n",
      "9   0x7F  1400000  3.430004  3.129436   456.185396         NaN        NaN   \n",
      "10  0x7F  1300000  3.430376  3.130472   456.286955         NaN        NaN   \n",
      "11  0x7F  1200000  3.416229  3.174222   464.579766         NaN        NaN   \n",
      "12  0x3F  2000000  3.452596  3.758281   544.268616         NaN        NaN   \n",
      "13  0x3F  1900000  3.528991  3.054680   432.797753         NaN        NaN   \n",
      "14  0x3F  1800000  3.598741  2.659925   369.563063         NaN        NaN   \n",
      "15  0x3F  1400000  3.597696  2.659525   369.614933         NaN        NaN   \n",
      "16  0x3F  1300000  3.596739  2.658430   369.561114         NaN        NaN   \n",
      "17  0x3F  1200000  3.598630  2.662349   369.911296         NaN        NaN   \n",
      "18  0x1F  2000000  3.204564  2.869973   447.794425         NaN        NaN   \n",
      "19  0x1F  1900000  3.224541  2.357658   365.580335         NaN        NaN   \n",
      "20  0x1F  1800000  3.227771  2.070898   320.793697         NaN        NaN   \n",
      "21  0x1F  1400000  3.226003  2.064778   320.020974         NaN        NaN   \n",
      "22  0x1F  1300000  3.226040  2.063580   319.831581         NaN        NaN   \n",
      "23  0x1F  1200000  3.227357  2.064575   319.855314         NaN        NaN   \n",
      "24   0xF  2000000  0.945243  1.339900   708.759533         NaN        NaN   \n",
      "25   0xF  1900000  0.939723  1.101538   586.097086         NaN        NaN   \n",
      "26   0xF  1800000  0.936719  0.956766   510.700641         NaN        NaN   \n",
      "27   0xF  1400000  0.948718  0.958947   505.390864         NaN        NaN   \n",
      "28   0xF  1300000  0.953481  0.947730   496.984115         NaN        NaN   \n",
      "29   0xF  1200000  0.952688  0.948397   497.747861         NaN        NaN   \n",
      "30   0x7  2000000  0.763768  1.285196   841.352276         NaN        NaN   \n",
      "31   0x7  1900000  0.764631  1.048629   685.709094         NaN        NaN   \n",
      "32   0x7  1800000  0.764505  0.915652   598.852798         NaN        NaN   \n",
      "33   0x7  1400000  0.764865  0.914681   597.936207         NaN        NaN   \n",
      "34   0x7  1300000  0.763599  0.914148   598.578534         NaN        NaN   \n",
      "35   0x7  1200000  0.766463  0.915028   596.915953         NaN        NaN   \n",
      "36   0x3  2000000  0.524645  1.237020  1178.911356         NaN        NaN   \n",
      "37   0x3  1900000  0.524188  1.001146   954.949319         NaN        NaN   \n",
      "38   0x3  1800000  0.524560  0.868367   827.709883         NaN        NaN   \n",
      "39   0x3  1400000  0.524839  0.865559   824.594775         NaN        NaN   \n",
      "40   0x3  1300000  0.524457  0.864367   824.058973         NaN        NaN   \n",
      "41   0x3  1200000  0.524807  0.863208   822.405107         NaN        NaN   \n",
      "42   0x1  2000000  0.266127  1.171542  2201.095686         NaN        NaN   \n",
      "43   0x1  1900000  0.266131  0.941001  1767.928118         NaN        NaN   \n",
      "44   0x1  1800000  0.265933  0.812220  1527.113951         NaN        NaN   \n",
      "45   0x1  1400000  0.266007  0.810494  1523.444803         NaN        NaN   \n",
      "46   0x1  1300000  0.266025  0.812456  1527.029413         NaN        NaN   \n",
      "47   0x1  1200000  0.265927  0.814290  1531.040435         NaN        NaN   \n",
      "\n",
      "    big_cores  lil_cores  total_cores  \n",
      "0           4          4            8  \n",
      "1           4          4            8  \n",
      "2           4          4            8  \n",
      "3           4          4            8  \n",
      "4           4          4            8  \n",
      "5           4          4            8  \n",
      "6           3          4            7  \n",
      "7           3          4            7  \n",
      "8           3          4            7  \n",
      "9           3          4            7  \n",
      "10          3          4            7  \n",
      "11          3          4            7  \n",
      "12          2          4            6  \n",
      "13          2          4            6  \n",
      "14          2          4            6  \n",
      "15          2          4            6  \n",
      "16          2          4            6  \n",
      "17          2          4            6  \n",
      "18          1          4            5  \n",
      "19          1          4            5  \n",
      "20          1          4            5  \n",
      "21          1          4            5  \n",
      "22          1          4            5  \n",
      "23          1          4            5  \n",
      "24          0          4            4  \n",
      "25          0          4            4  \n",
      "26          0          4            4  \n",
      "27          0          4            4  \n",
      "28          0          4            4  \n",
      "29          0          4            4  \n",
      "30          0          3            3  \n",
      "31          0          3            3  \n",
      "32          0          3            3  \n",
      "33          0          3            3  \n",
      "34          0          3            3  \n",
      "35          0          3            3  \n",
      "36          0          2            2  \n",
      "37          0          2            2  \n",
      "38          0          2            2  \n",
      "39          0          2            2  \n",
      "40          0          2            2  \n",
      "41          0          2            2  \n",
      "42          0          1            1  \n",
      "43          0          1            1  \n",
      "44          0          1            1  \n",
      "45          0          1            1  \n",
      "46          0          1            1  \n",
      "47          0          1            1  \n"
     ]
    }
   ],
   "source": [
    "print (df)\n"
   ]
  },
  {
   "cell_type": "markdown",
   "metadata": {},
   "source": [
    "## New Results 'bigger results' of bit and little cores\n",
    "Running with various core combinations:\n",
    "10001 10001 , 1100 1100, 1010 1010, 1000 1000, 1111 1111, 1000 1111, 1010 1111, 1111 0001, 1111 0101, 0101 0101\n",
    "\n",
    "Frequency Combinations: 1200000, 1300000, 1400000, 1500000, 1600000, 1700000, 2000000"
   ]
  },
  {
   "cell_type": "code",
   "execution_count": 11,
   "metadata": {},
   "outputs": [
    {
     "name": "stdout",
     "output_type": "stream",
     "text": [
      "   cores     freq      Rate     Power      Energy  WU_PWR_AVG  WU_ENERGY\n",
      "65  0x55  1600000  5.893376  4.612486  391.327924         NaN        NaN\n",
      "66  0x55  1500000  5.895988  4.602915  390.342841         NaN        NaN\n",
      "67  0x55  1400000  5.868398  4.597875  391.748605         NaN        NaN\n",
      "68  0x55  1300000  5.888496  4.601728  390.738706         NaN        NaN\n",
      "69  0x55  1200000  5.876194  4.600005  391.409825         NaN        NaN\n"
     ]
    }
   ],
   "source": [
    "#Import Data\n",
    "file_path = '/Users/yzamora/power/STREAM.results'\n",
    "long_df = pd.read_csv(file_path, sep='\\s+')\n",
    "print (long_df.tail())"
   ]
  },
  {
   "cell_type": "code",
   "execution_count": 7,
   "metadata": {},
   "outputs": [
    {
     "name": "stdout",
     "output_type": "stream",
     "text": [
      "  cores     freq      Rate     Power      Energy  WU_PWR_AVG  WU_ENERGY  \\\n",
      "0  0x99  2000000  5.670083  4.539333  400.287916         NaN        NaN   \n",
      "1  0x99  1700000  5.892192  4.610204  391.212691         NaN        NaN   \n",
      "2  0x99  1600000  5.892635  4.589785  389.450600         NaN        NaN   \n",
      "3  0x99  1500000  5.995669  4.610535  384.488650         NaN        NaN   \n",
      "4  0x99  1400000  5.958496  4.611672  386.982460         NaN        NaN   \n",
      "\n",
      "   big_cores  lil_cores  total_cores  \n",
      "0          2          2            4  \n",
      "1          2          2            4  \n",
      "2          2          2            4  \n",
      "3          2          2            4  \n",
      "4          2          2            4  \n",
      "   cores     freq      Rate     Power      Energy  WU_PWR_AVG  WU_ENERGY  \\\n",
      "0   0x99  2000000  5.670083  4.539333  400.287916         NaN        NaN   \n",
      "1   0x99  1700000  5.892192  4.610204  391.212691         NaN        NaN   \n",
      "2   0x99  1600000  5.892635  4.589785  389.450600         NaN        NaN   \n",
      "3   0x99  1500000  5.995669  4.610535  384.488650         NaN        NaN   \n",
      "4   0x99  1400000  5.958496  4.611672  386.982460         NaN        NaN   \n",
      "5   0x99  1300000  5.732148  4.970313  433.546983         NaN        NaN   \n",
      "6   0x99  1200000  5.822093  4.590873  394.262795         NaN        NaN   \n",
      "7   0xcc  2000000  5.864689  4.582897  390.719466         NaN        NaN   \n",
      "8   0xcc  1700000  5.909134  4.592290  388.575240         NaN        NaN   \n",
      "9   0xcc  1600000  5.905549  4.595279  389.064351         NaN        NaN   \n",
      "10  0xcc  1500000  5.950931  4.598936  386.404442         NaN        NaN   \n",
      "11  0xcc  1400000  5.932163  4.596988  387.462649         NaN        NaN   \n",
      "12  0xcc  1300000  5.937689  4.589966  386.510938         NaN        NaN   \n",
      "13  0xcc  1200000  5.910555  4.574640  386.988926         NaN        NaN   \n",
      "14  0xaa  2000000  5.898871  4.604300  390.269216         NaN        NaN   \n",
      "15  0xaa  1700000  5.925686  4.633080  390.931877         NaN        NaN   \n",
      "16  0xaa  1600000  5.934976  4.620309  389.243938         NaN        NaN   \n",
      "17  0xaa  1500000  5.916816  4.608742  389.461281         NaN        NaN   \n",
      "18  0xaa  1400000  5.940782  4.618809  388.737440         NaN        NaN   \n",
      "19  0xaa  1300000  5.811915  4.530324  389.744226         NaN        NaN   \n",
      "20  0xaa  1200000  5.904905  4.603884  389.835258         NaN        NaN   \n",
      "21  0x88  2000000  5.258260  3.515919  334.323112         NaN        NaN   \n",
      "22  0x88  1700000  5.268969  3.488728  331.063541         NaN        NaN   \n",
      "23  0x88  1600000  5.268257  3.485024  330.756657         NaN        NaN   \n",
      "24  0x88  1500000  5.265022  3.487925  331.235331         NaN        NaN   \n",
      "25  0x88  1400000  5.266870  3.489434  331.262437         NaN        NaN   \n",
      "26  0x88  1300000  5.264081  3.476794  330.237367         NaN        NaN   \n",
      "27  0x88  1200000  5.259103  3.484719  331.303386         NaN        NaN   \n",
      "28  0xff  2000000  5.362694  6.249501  582.682849         NaN        NaN   \n",
      "29  0xff  1700000  5.366766  6.084923  566.907327         NaN        NaN   \n",
      "..   ...      ...       ...       ...         ...         ...        ...   \n",
      "40  0x8f  1300000  4.947481  3.436335  347.281169         NaN        NaN   \n",
      "41  0x8f  1200000  4.956723  3.436988  346.699290         NaN        NaN   \n",
      "42  0xaf  2000000  5.772235  4.539018  393.176547         NaN        NaN   \n",
      "43  0xaf  1700000  5.782146  4.584531  396.438149         NaN        NaN   \n",
      "44  0xaf  1600000  5.798658  4.607615  397.299897         NaN        NaN   \n",
      "45  0xaf  1500000  5.811977  4.611589  396.731312         NaN        NaN   \n",
      "46  0xaf  1400000  5.783783  4.599225  397.596562         NaN        NaN   \n",
      "47  0xaf  1300000  5.781958  4.604420  398.170903         NaN        NaN   \n",
      "48  0xaf  1200000  5.797935  4.624307  398.789137         NaN        NaN   \n",
      "49  0xf1  2000000  5.217567  6.016493  576.561125         NaN        NaN   \n",
      "50  0xf1  1700000  5.204510  5.937535  570.421956         NaN        NaN   \n",
      "51  0xf1  1600000  5.217389  5.924068  567.722985         NaN        NaN   \n",
      "52  0xf1  1500000  5.202579  5.920320  568.978865         NaN        NaN   \n",
      "53  0xf1  1400000  5.209976  5.927559  568.866058         NaN        NaN   \n",
      "54  0xf1  1300000  5.212609  5.920430  567.894750         NaN        NaN   \n",
      "55  0xf1  1200000  5.213410  5.920549  567.819132         NaN        NaN   \n",
      "56  0xf5  2000000  5.248603  6.012932  572.812346         NaN        NaN   \n",
      "57  0xf5  1700000  5.248796  5.991688  570.767599         NaN        NaN   \n",
      "58  0xf5  1600000  5.250616  5.982077  569.654648         NaN        NaN   \n",
      "59  0xf5  1500000  5.253432  5.967581  567.969295         NaN        NaN   \n",
      "60  0xf5  1400000  5.239691  5.986291  571.244213         NaN        NaN   \n",
      "61  0xf5  1300000  5.253173  5.987719  569.914088         NaN        NaN   \n",
      "62  0xf5  1200000  5.247463  5.973545  569.183859         NaN        NaN   \n",
      "63  0x55  2000000  5.821495  4.666556  400.803495         NaN        NaN   \n",
      "64  0x55  1700000  5.848394  4.621612  395.117785         NaN        NaN   \n",
      "65  0x55  1600000  5.893376  4.612486  391.327924         NaN        NaN   \n",
      "66  0x55  1500000  5.895988  4.602915  390.342841         NaN        NaN   \n",
      "67  0x55  1400000  5.868398  4.597875  391.748605         NaN        NaN   \n",
      "68  0x55  1300000  5.888496  4.601728  390.738706         NaN        NaN   \n",
      "69  0x55  1200000  5.876194  4.600005  391.409825         NaN        NaN   \n",
      "\n",
      "    big_cores  lil_cores  total_cores  \n",
      "0           2          2            4  \n",
      "1           2          2            4  \n",
      "2           2          2            4  \n",
      "3           2          2            4  \n",
      "4           2          2            4  \n",
      "5           2          2            4  \n",
      "6           2          2            4  \n",
      "7           2          2            4  \n",
      "8           2          2            4  \n",
      "9           2          2            4  \n",
      "10          2          2            4  \n",
      "11          2          2            4  \n",
      "12          2          2            4  \n",
      "13          2          2            4  \n",
      "14          2          2            4  \n",
      "15          2          2            4  \n",
      "16          2          2            4  \n",
      "17          2          2            4  \n",
      "18          2          2            4  \n",
      "19          2          2            4  \n",
      "20          2          2            4  \n",
      "21          1          1            2  \n",
      "22          1          1            2  \n",
      "23          1          1            2  \n",
      "24          1          1            2  \n",
      "25          1          1            2  \n",
      "26          1          1            2  \n",
      "27          1          1            2  \n",
      "28          4          4            8  \n",
      "29          4          4            8  \n",
      "..        ...        ...          ...  \n",
      "40          1          4            5  \n",
      "41          1          4            5  \n",
      "42          2          4            6  \n",
      "43          2          4            6  \n",
      "44          2          4            6  \n",
      "45          2          4            6  \n",
      "46          2          4            6  \n",
      "47          2          4            6  \n",
      "48          2          4            6  \n",
      "49          4          1            5  \n",
      "50          4          1            5  \n",
      "51          4          1            5  \n",
      "52          4          1            5  \n",
      "53          4          1            5  \n",
      "54          4          1            5  \n",
      "55          4          1            5  \n",
      "56          4          2            6  \n",
      "57          4          2            6  \n",
      "58          4          2            6  \n",
      "59          4          2            6  \n",
      "60          4          2            6  \n",
      "61          4          2            6  \n",
      "62          4          2            6  \n",
      "63          2          2            4  \n",
      "64          2          2            4  \n",
      "65          2          2            4  \n",
      "66          2          2            4  \n",
      "67          2          2            4  \n",
      "68          2          2            4  \n",
      "69          2          2            4  \n",
      "\n",
      "[70 rows x 10 columns]\n"
     ]
    }
   ],
   "source": [
    "long_df = convert_to_bin(long_df)\n",
    "print (long_df)"
   ]
  },
  {
   "cell_type": "code",
   "execution_count": 9,
   "metadata": {},
   "outputs": [
    {
     "data": {
      "image/png": "[encoded data removed]",
      "text/plain": [
       "<Figure size 432x288 with 1 Axes>"
      ]
     },
     "metadata": {},
     "output_type": "display_data"
    }
   ],
   "source": [
    "plot_biglil(long_df)"
   ]
  },
  {
   "cell_type": "code",
   "execution_count": null,
   "metadata": {},
   "outputs": [],
   "source": []
  }
 ],
 "metadata": {
  "kernelspec": {
   "display_name": "Python 3",
   "language": "python",
   "name": "python3"
  },
  "language_info": {
   "codemirror_mode": {
    "name": "ipython",
    "version": 3
   },
   "file_extension": ".py",
   "mimetype": "text/x-python",
   "name": "python",
   "nbconvert_exporter": "python",
   "pygments_lexer": "ipython3",
   "version": "3.6.4"
  }
 },
 "nbformat": 4,
 "nbformat_minor": 2
}
