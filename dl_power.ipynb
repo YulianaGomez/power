{
 "cells": [
  {
   "cell_type": "code",
   "execution_count": 7,
   "metadata": {},
   "outputs": [
    {
     "name": "stdout",
     "output_type": "stream",
     "text": [
      "Importing Jupyter notebook from power_analysis.ipynb\n"
     ]
    }
   ],
   "source": [
    "import numpy\n",
    "import pandas as pd\n",
    "from keras.models import Sequential\n",
    "from keras.layers import Dense\n",
    "from keras.wrappers.scikit_learn import KerasRegressor\n",
    "from sklearn.model_selection import cross_val_score\n",
    "from sklearn.model_selection import KFold\n",
    "from sklearn.preprocessing import StandardScaler\n",
    "from sklearn.pipeline import Pipeline\n",
    "import nbimporter\n",
    "import power_analysis"
   ]
  },
  {
   "cell_type": "markdown",
   "metadata": {},
   "source": [
    "## Developing a Baseline Neural Network Model\n",
    "Creating a baseline model for the regression problem using the Scikit-learn wrapper by the Keras library"
   ]
  },
  {
   "cell_type": "code",
   "execution_count": 11,
   "metadata": {},
   "outputs": [
    {
     "name": "stdout",
     "output_type": "stream",
     "text": [
      "  cores    freq      Rate     Power      Energy  WU_PWR_AVG  WU_ENERGY\n",
      "0  0xe6  100000  5.887958  5.439624  461.927430         NaN        NaN\n",
      "1  0xe6  200000  5.888939  5.474008  464.770101         NaN        NaN\n",
      "2  0xe6  400000  5.897709  5.441137  461.291977         NaN        NaN\n",
      "3  0xe6  600000  5.897312  5.442045  461.399975         NaN        NaN\n",
      "4  0xe6  700000  5.908167  5.432657  459.758156         NaN        NaN\n"
     ]
    }
   ],
   "source": [
    "#Import Data\n",
    "file_path = '/Users/yzamora/power/STREAM_big.results'\n",
    "df = pd.read_csv(file_path, sep='\\s+')\n",
    "print (df.head())"
   ]
  },
  {
   "cell_type": "code",
   "execution_count": 12,
   "metadata": {},
   "outputs": [
    {
     "name": "stdout",
     "output_type": "stream",
     "text": [
      "    cores     freq      Rate     Power      Energy  WU_PWR_AVG  WU_ENERGY  \\\n",
      "0    0xe6   100000  5.887958  5.439624  461.927430         NaN        NaN   \n",
      "1    0xe6   200000  5.888939  5.474008  464.770101         NaN        NaN   \n",
      "2    0xe6   400000  5.897709  5.441137  461.291977         NaN        NaN   \n",
      "3    0xe6   600000  5.897312  5.442045  461.399975         NaN        NaN   \n",
      "4    0xe6   700000  5.908167  5.432657  459.758156         NaN        NaN   \n",
      "5    0xe6   800000  5.893648  5.440728  461.575041         NaN        NaN   \n",
      "6    0xe6  1000000  5.892087  5.463399  463.621307         NaN        NaN   \n",
      "7    0xe6  1200000  5.879515  5.468053  465.008695         NaN        NaN   \n",
      "8    0xe6  1400000  5.890988  5.457655  463.220651         NaN        NaN   \n",
      "9    0xaa   100000  5.994764  4.567958  380.995561         NaN        NaN   \n",
      "10   0xaa   200000  6.142090  4.639552  377.685050         NaN        NaN   \n",
      "11   0xaa   400000  6.132738  4.633690  377.782892         NaN        NaN   \n",
      "12   0xaa   600000  6.141388  4.623678  376.435819         NaN        NaN   \n",
      "13   0xaa   700000  6.150250  4.626373  376.112558         NaN        NaN   \n",
      "14   0xaa   800000  6.153646  4.633241  376.462877         NaN        NaN   \n",
      "15   0xaa  1000000  6.146352  4.626859  376.390352         NaN        NaN   \n",
      "16   0xaa  1200000  6.149373  4.627930  376.292823         NaN        NaN   \n",
      "17   0xaa  1400000  6.146780  4.625277  376.235757         NaN        NaN   \n",
      "18   0xda   100000  5.904099  5.387178  456.223404         NaN        NaN   \n",
      "19   0xda   200000  5.900255  5.434772  460.553992         NaN        NaN   \n",
      "20   0xda   400000  5.891115  5.452016  462.731679         NaN        NaN   \n",
      "21   0xda   600000  5.890124  5.460129  463.498338         NaN        NaN   \n",
      "22   0xda   700000  5.886829  5.464754  464.150520         NaN        NaN   \n",
      "23   0xda   800000  5.889059  5.475984  464.928564         NaN        NaN   \n",
      "24   0xda  1000000  5.897247  5.458857  462.830828         NaN        NaN   \n",
      "25   0xda  1200000  5.874792  5.485718  466.885618         NaN        NaN   \n",
      "26   0xda  1400000  5.889206  5.465076  463.990417         NaN        NaN   \n",
      "27   0x2d   100000  5.217183  3.554354  340.638979         NaN        NaN   \n",
      "28   0x2d   200000  5.214908  3.516393  337.147892         NaN        NaN   \n",
      "29   0x2d   400000  5.218577  3.497162  335.068336         NaN        NaN   \n",
      "..    ...      ...       ...       ...         ...         ...        ...   \n",
      "294  0x54  1000000  6.088327  4.468155  366.944101         NaN        NaN   \n",
      "295  0x54  1200000  6.097478  4.507249  369.599375         NaN        NaN   \n",
      "296  0x54  1400000  6.088277  4.477994  367.755257         NaN        NaN   \n",
      "297  0xad   100000  6.034685  4.562658  378.035834         NaN        NaN   \n",
      "298  0xad   200000  6.046815  4.563643  377.358968         NaN        NaN   \n",
      "299  0xad   400000  6.044632  4.566314  377.716361         NaN        NaN   \n",
      "300  0xad   600000  6.044181  4.572143  378.226414         NaN        NaN   \n",
      "301  0xad   700000  6.030730  4.559864  378.052396         NaN        NaN   \n",
      "302  0xad   800000  6.040648  4.544741  376.179574         NaN        NaN   \n",
      "303  0xad  1000000  6.045420  4.554075  376.654791         NaN        NaN   \n",
      "304  0xad  1200000  6.041073  4.553013  376.837861         NaN        NaN   \n",
      "305  0xad  1400000  6.039815  4.555131  377.091509         NaN        NaN   \n",
      "306  0x6a   100000  6.174490  4.640739  375.799154         NaN        NaN   \n",
      "307  0x6a   200000  6.171046  4.626884  374.886335         NaN        NaN   \n",
      "308  0x6a   400000  6.164684  4.634310  375.875444         NaN        NaN   \n",
      "309  0x6a   600000  6.170460  4.617938  374.197057         NaN        NaN   \n",
      "310  0x6a   700000  6.167497  4.622381  374.736889         NaN        NaN   \n",
      "311  0x6a   800000  6.170670  4.640095  375.979473         NaN        NaN   \n",
      "312  0x6a  1000000  6.165902  4.622566  374.848961         NaN        NaN   \n",
      "313  0x6a  1200000  6.164713  4.614088  374.233451         NaN        NaN   \n",
      "314  0x6a  1400000  6.175551  4.636197  375.366908         NaN        NaN   \n",
      "315  0x76   100000  5.910233  5.398751  456.728935         NaN        NaN   \n",
      "316  0x76   200000  5.902755  5.467117  463.098706         NaN        NaN   \n",
      "317  0x76   400000  5.911290  5.473726  462.989092         NaN        NaN   \n",
      "318  0x76   600000  5.913044  5.477113  463.138102         NaN        NaN   \n",
      "319  0x76   700000  5.910549  5.472407  462.935533         NaN        NaN   \n",
      "320  0x76   800000  5.911411  5.467792  462.477329         NaN        NaN   \n",
      "321  0x76  1000000  5.897223  5.482840  464.865879         NaN        NaN   \n",
      "322  0x76  1200000  5.912836  5.473673  462.863094         NaN        NaN   \n",
      "323  0x76  1400000  5.901099  5.489728  465.144104         NaN        NaN   \n",
      "\n",
      "     big_cores  lil_cores  total_cores  core-0  core-1  core-2  core-3  \\\n",
      "0            3          2            5       1       1       1       0   \n",
      "1            3          2            5       1       1       1       0   \n",
      "2            3          2            5       1       1       1       0   \n",
      "3            3          2            5       1       1       1       0   \n",
      "4            3          2            5       1       1       1       0   \n",
      "5            3          2            5       1       1       1       0   \n",
      "6            3          2            5       1       1       1       0   \n",
      "7            3          2            5       1       1       1       0   \n",
      "8            3          2            5       1       1       1       0   \n",
      "9            2          2            4       1       0       1       0   \n",
      "10           2          2            4       1       0       1       0   \n",
      "11           2          2            4       1       0       1       0   \n",
      "12           2          2            4       1       0       1       0   \n",
      "13           2          2            4       1       0       1       0   \n",
      "14           2          2            4       1       0       1       0   \n",
      "15           2          2            4       1       0       1       0   \n",
      "16           2          2            4       1       0       1       0   \n",
      "17           2          2            4       1       0       1       0   \n",
      "18           3          2            5       1       1       0       1   \n",
      "19           3          2            5       1       1       0       1   \n",
      "20           3          2            5       1       1       0       1   \n",
      "21           3          2            5       1       1       0       1   \n",
      "22           3          2            5       1       1       0       1   \n",
      "23           3          2            5       1       1       0       1   \n",
      "24           3          2            5       1       1       0       1   \n",
      "25           3          2            5       1       1       0       1   \n",
      "26           3          2            5       1       1       0       1   \n",
      "27           1          3            4       0       0       1       0   \n",
      "28           1          3            4       0       0       1       0   \n",
      "29           1          3            4       0       0       1       0   \n",
      "..         ...        ...          ...     ...     ...     ...     ...   \n",
      "294          2          1            3       0       1       0       1   \n",
      "295          2          1            3       0       1       0       1   \n",
      "296          2          1            3       0       1       0       1   \n",
      "297          2          3            5       1       0       1       0   \n",
      "298          2          3            5       1       0       1       0   \n",
      "299          2          3            5       1       0       1       0   \n",
      "300          2          3            5       1       0       1       0   \n",
      "301          2          3            5       1       0       1       0   \n",
      "302          2          3            5       1       0       1       0   \n",
      "303          2          3            5       1       0       1       0   \n",
      "304          2          3            5       1       0       1       0   \n",
      "305          2          3            5       1       0       1       0   \n",
      "306          2          2            4       0       1       1       0   \n",
      "307          2          2            4       0       1       1       0   \n",
      "308          2          2            4       0       1       1       0   \n",
      "309          2          2            4       0       1       1       0   \n",
      "310          2          2            4       0       1       1       0   \n",
      "311          2          2            4       0       1       1       0   \n",
      "312          2          2            4       0       1       1       0   \n",
      "313          2          2            4       0       1       1       0   \n",
      "314          2          2            4       0       1       1       0   \n",
      "315          3          2            5       0       1       1       1   \n",
      "316          3          2            5       0       1       1       1   \n",
      "317          3          2            5       0       1       1       1   \n",
      "318          3          2            5       0       1       1       1   \n",
      "319          3          2            5       0       1       1       1   \n",
      "320          3          2            5       0       1       1       1   \n",
      "321          3          2            5       0       1       1       1   \n",
      "322          3          2            5       0       1       1       1   \n",
      "323          3          2            5       0       1       1       1   \n",
      "\n",
      "     core-4  core-5  core-6  core-7  \n",
      "0         0       1       1       0  \n",
      "1         0       1       1       0  \n",
      "2         0       1       1       0  \n",
      "3         0       1       1       0  \n",
      "4         0       1       1       0  \n",
      "5         0       1       1       0  \n",
      "6         0       1       1       0  \n",
      "7         0       1       1       0  \n",
      "8         0       1       1       0  \n",
      "9         1       0       1       0  \n",
      "10        1       0       1       0  \n",
      "11        1       0       1       0  \n",
      "12        1       0       1       0  \n",
      "13        1       0       1       0  \n",
      "14        1       0       1       0  \n",
      "15        1       0       1       0  \n",
      "16        1       0       1       0  \n",
      "17        1       0       1       0  \n",
      "18        1       0       1       0  \n",
      "19        1       0       1       0  \n",
      "20        1       0       1       0  \n",
      "21        1       0       1       0  \n",
      "22        1       0       1       0  \n",
      "23        1       0       1       0  \n",
      "24        1       0       1       0  \n",
      "25        1       0       1       0  \n",
      "26        1       0       1       0  \n",
      "27        1       1       0       1  \n",
      "28        1       1       0       1  \n",
      "29        1       1       0       1  \n",
      "..      ...     ...     ...     ...  \n",
      "294       0       1       0       0  \n",
      "295       0       1       0       0  \n",
      "296       0       1       0       0  \n",
      "297       1       1       0       1  \n",
      "298       1       1       0       1  \n",
      "299       1       1       0       1  \n",
      "300       1       1       0       1  \n",
      "301       1       1       0       1  \n",
      "302       1       1       0       1  \n",
      "303       1       1       0       1  \n",
      "304       1       1       0       1  \n",
      "305       1       1       0       1  \n",
      "306       1       0       1       0  \n",
      "307       1       0       1       0  \n",
      "308       1       0       1       0  \n",
      "309       1       0       1       0  \n",
      "310       1       0       1       0  \n",
      "311       1       0       1       0  \n",
      "312       1       0       1       0  \n",
      "313       1       0       1       0  \n",
      "314       1       0       1       0  \n",
      "315       0       1       1       0  \n",
      "316       0       1       1       0  \n",
      "317       0       1       1       0  \n",
      "318       0       1       1       0  \n",
      "319       0       1       1       0  \n",
      "320       0       1       1       0  \n",
      "321       0       1       1       0  \n",
      "322       0       1       1       0  \n",
      "323       0       1       1       0  \n",
      "\n",
      "[324 rows x 18 columns]\n"
     ]
    }
   ],
   "source": [
    "df = power_analysis.create_col(df)\n"
   ]
  },
  {
   "cell_type": "code",
   "execution_count": 13,
   "metadata": {},
   "outputs": [],
   "source": [
    "df = df.drop(columns=['cores','WU_PWR_AVG','WU_ENERGY','big_cores','lil_cores','total_cores'])\n"
   ]
  },
  {
   "cell_type": "code",
   "execution_count": 15,
   "metadata": {},
   "outputs": [
    {
     "name": "stdout",
     "output_type": "stream",
     "text": [
      "     freq      Rate     Power      Energy  core-0  core-1  core-2  core-3  \\\n",
      "0  100000  5.887958  5.439624  461.927430       1       1       1       0   \n",
      "1  200000  5.888939  5.474008  464.770101       1       1       1       0   \n",
      "2  400000  5.897709  5.441137  461.291977       1       1       1       0   \n",
      "3  600000  5.897312  5.442045  461.399975       1       1       1       0   \n",
      "4  700000  5.908167  5.432657  459.758156       1       1       1       0   \n",
      "\n",
      "   core-4  core-5  core-6  core-7  \n",
      "0       0       1       1       0  \n",
      "1       0       1       1       0  \n",
      "2       0       1       1       0  \n",
      "3       0       1       1       0  \n",
      "4       0       1       1       0  \n",
      "X size: (324, 9)\n",
      "y size (324,)\n"
     ]
    }
   ],
   "source": [
    "print(df.head())\n",
    "X = df[['freq','core-0','core-1','core-2','core-3','core-4','core-5','core-6','core-7']]\n",
    "y = df['Power']\n",
    "\n",
    "print (\"X size:\", X.shape)\n",
    "print (\"y size\", y.shape)"
   ]
  },
  {
   "cell_type": "code",
   "execution_count": 20,
   "metadata": {},
   "outputs": [],
   "source": [
    "# define base model\n",
    "def baseline_model():\n",
    "    # create model\n",
    "    model = Sequential()\n",
    "    model.add(Dense(9, input_dim=9, kernel_initializer='normal', activation='relu'))\n",
    "    model.add(Dense(1, kernel_initializer='normal'))\n",
    "    # Compile model\n",
    "    model.compile(loss='mean_squared_error', optimizer='adam')\n",
    "    return model"
   ]
  },
  {
   "cell_type": "code",
   "execution_count": 21,
   "metadata": {},
   "outputs": [],
   "source": [
    "# fix random seed for reproducibility\n",
    "seed = 7\n",
    "numpy.random.seed(seed)\n",
    "# evaluate model with standardized dataset\n",
    "estimator = KerasRegressor(build_fn=baseline_model, epochs=100, batch_size=5, verbose=0)"
   ]
  },
  {
   "cell_type": "code",
   "execution_count": 22,
   "metadata": {},
   "outputs": [
    {
     "name": "stdout",
     "output_type": "stream",
     "text": [
      "Results: -681.98 (1596.00) MSE\n"
     ]
    }
   ],
   "source": [
    "kfold = KFold(n_splits=10, random_state=seed)\n",
    "results = cross_val_score(estimator, X, y, cv=kfold)\n",
    "print(\"Results: %.2f (%.2f) MSE\" % (results.mean(), results.std()))"
   ]
  },
  {
   "cell_type": "markdown",
   "metadata": {},
   "source": [
    "## Tuning Network Topology"
   ]
  },
  {
   "cell_type": "code",
   "execution_count": 23,
   "metadata": {},
   "outputs": [],
   "source": [
    "# define the model\n",
    "def larger_model():\n",
    "    # create model\n",
    "    model = Sequential()\n",
    "    model.add(Dense(9, input_dim=9, kernel_initializer='normal', activation='relu'))\n",
    "    model.add(Dense(6, kernel_initializer='normal', activation='relu'))\n",
    "    model.add(Dense(1, kernel_initializer='normal'))\n",
    "    # Compile model\n",
    "    model.compile(loss='mean_squared_error', optimizer='adam')\n",
    "    return model"
   ]
  },
  {
   "cell_type": "code",
   "execution_count": 25,
   "metadata": {},
   "outputs": [
    {
     "name": "stdout",
     "output_type": "stream",
     "text": [
      "Larger: -0.09 (0.09) MSE\n"
     ]
    }
   ],
   "source": [
    "numpy.random.seed(seed)\n",
    "estimators = []\n",
    "estimators.append(('standardize', StandardScaler()))\n",
    "estimators.append(('mlp', KerasRegressor(build_fn=larger_model, epochs=50, batch_size=5, verbose=0)))\n",
    "pipeline = Pipeline(estimators)\n",
    "kfold = KFold(n_splits=10, random_state=seed)\n",
    "results = cross_val_score(pipeline, X, y, cv=kfold)\n",
    "print(\"Larger: %.2f (%.2f) MSE\" % (results.mean(), results.std()))"
   ]
  },
  {
   "cell_type": "markdown",
   "metadata": {},
   "source": [
    "### Wider Network Topology\n",
    "Increasing the representational capability of the model "
   ]
  },
  {
   "cell_type": "code",
   "execution_count": 27,
   "metadata": {},
   "outputs": [],
   "source": [
    "# define wider model\n",
    "def wider_model():\n",
    "    # create model\n",
    "    model = Sequential()\n",
    "    model.add(Dense(20, input_dim=9, kernel_initializer='normal', activation='relu'))\n",
    "    model.add(Dense(1, kernel_initializer='normal'))\n",
    "    # Compile model\n",
    "    model.compile(loss='mean_squared_error', optimizer='adam')\n",
    "    return model"
   ]
  },
  {
   "cell_type": "code",
   "execution_count": 29,
   "metadata": {},
   "outputs": [
    {
     "name": "stdout",
     "output_type": "stream",
     "text": [
      "Wider: -0.12 (0.11) MSE\n"
     ]
    }
   ],
   "source": [
    "numpy.random.seed(seed)\n",
    "estimators = []\n",
    "estimators.append(('standardize', StandardScaler()))\n",
    "estimators.append(('mlp', KerasRegressor(build_fn=wider_model, epochs=100, batch_size=5, verbose=0)))\n",
    "pipeline = Pipeline(estimators)\n",
    "kfold = KFold(n_splits=10, random_state=seed)\n",
    "results = cross_val_score(pipeline, X, y, cv=kfold)\n",
    "print(\"Wider: %.2f (%.2f) MSE\" % (results.mean(), results.std()))"
   ]
  },
  {
   "cell_type": "code",
   "execution_count": null,
   "metadata": {},
   "outputs": [],
   "source": []
  }
 ],
 "metadata": {
  "kernelspec": {
   "display_name": "Python 3",
   "language": "python",
   "name": "python3"
  },
  "language_info": {
   "codemirror_mode": {
    "name": "ipython",
    "version": 3
   },
   "file_extension": ".py",
   "mimetype": "text/x-python",
   "name": "python",
   "nbconvert_exporter": "python",
   "pygments_lexer": "ipython3",
   "version": "3.6.4"
  }
 },
 "nbformat": 4,
 "nbformat_minor": 2
}
