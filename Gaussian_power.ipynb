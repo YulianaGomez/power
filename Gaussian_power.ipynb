{
 "cells": [
  {
   "cell_type": "code",
   "execution_count": 37,
   "metadata": {},
   "outputs": [],
   "source": [
    "import numpy as np\n",
    "from matplotlib import pyplot as plt\n",
    "\n",
    "from sklearn.gaussian_process import GaussianProcessRegressor\n",
    "from sklearn.gaussian_process.kernels import RBF, ConstantKernel as C\n",
    "\n",
    "import pandas as pd\n",
    "import nbimporter\n",
    "import power_analysis\n",
    "from sklearn.model_selection import train_test_split, GridSearchCV, ShuffleSplit\n",
    "import scipy as sp\n",
    "import pickle as pkl\n",
    "%matplotlib inline\n",
    "\n",
    "np.random.seed(1)"
   ]
  },
  {
   "cell_type": "code",
   "execution_count": 16,
   "metadata": {},
   "outputs": [],
   "source": [
    "def f(x):\n",
    "    \"\"\"The function to predict.\"\"\"\n",
    "    return x * np.sin(x)"
   ]
  },
  {
   "cell_type": "code",
   "execution_count": 17,
   "metadata": {},
   "outputs": [
    {
     "name": "stdout",
     "output_type": "stream",
     "text": [
      "  cores    freq      Rate     Power      Energy  WU_PWR_AVG  WU_ENERGY\n",
      "0  0xe6  100000  5.887958  5.439624  461.927430         NaN        NaN\n",
      "1  0xe6  200000  5.888939  5.474008  464.770101         NaN        NaN\n",
      "2  0xe6  400000  5.897709  5.441137  461.291977         NaN        NaN\n",
      "3  0xe6  600000  5.897312  5.442045  461.399975         NaN        NaN\n",
      "4  0xe6  700000  5.908167  5.432657  459.758156         NaN        NaN\n"
     ]
    }
   ],
   "source": [
    "#Import Data\n",
    "#file_path = '/Users/yzamora/power/STREAM_big.results'\n",
    "file_path = '/Users/yzamora/power/all.out'\n",
    "df = pd.read_csv(file_path, sep='\\s+')\n",
    "print (df.head())"
   ]
  },
  {
   "cell_type": "code",
   "execution_count": 18,
   "metadata": {},
   "outputs": [
    {
     "name": "stdout",
     "output_type": "stream",
     "text": [
      "    cores     freq      Rate     Power      Energy  WU_PWR_AVG  WU_ENERGY  \\\n",
      "0    0xe6   100000  5.887958  5.439624  461.927430         NaN        NaN   \n",
      "1    0xe6   200000  5.888939  5.474008  464.770101         NaN        NaN   \n",
      "2    0xe6   400000  5.897709  5.441137  461.291977         NaN        NaN   \n",
      "3    0xe6   600000  5.897312  5.442045  461.399975         NaN        NaN   \n",
      "4    0xe6   700000  5.908167  5.432657  459.758156         NaN        NaN   \n",
      "5    0xe6   800000  5.893648  5.440728  461.575041         NaN        NaN   \n",
      "6    0xe6  1000000  5.892087  5.463399  463.621307         NaN        NaN   \n",
      "7    0xe6  1200000  5.879515  5.468053  465.008695         NaN        NaN   \n",
      "8    0xe6  1400000  5.890988  5.457655  463.220651         NaN        NaN   \n",
      "9    0xda   100000  5.904099  5.387178  456.223404         NaN        NaN   \n",
      "10   0xda   200000  5.900255  5.434772  460.553992         NaN        NaN   \n",
      "11   0xda   400000  5.891115  5.452016  462.731679         NaN        NaN   \n",
      "12   0xda   600000  5.890124  5.460129  463.498338         NaN        NaN   \n",
      "13   0xda   700000  5.886829  5.464754  464.150520         NaN        NaN   \n",
      "14   0xda   800000  5.889059  5.475984  464.928564         NaN        NaN   \n",
      "15   0xda  1000000  5.897247  5.458857  462.830828         NaN        NaN   \n",
      "16   0xda  1200000  5.874792  5.485718  466.885618         NaN        NaN   \n",
      "17   0xda  1400000  5.889206  5.465076  463.990417         NaN        NaN   \n",
      "18   0x2d   100000  5.217183  3.554354  340.638979         NaN        NaN   \n",
      "19   0x2d   200000  5.214908  3.516393  337.147892         NaN        NaN   \n",
      "20   0x2d   400000  5.218577  3.497162  335.068336         NaN        NaN   \n",
      "21   0x2d   600000  5.221351  3.504558  335.598576         NaN        NaN   \n",
      "22   0x2d   700000  5.217522  3.504021  335.793486         NaN        NaN   \n",
      "23   0x2d   800000  5.223293  3.503279  335.351382         NaN        NaN   \n",
      "24   0x2d  1000000  5.220663  3.503156  335.508460         NaN        NaN   \n",
      "25   0x2d  1200000  5.222721  3.507025  335.746791         NaN        NaN   \n",
      "26   0x2d  1400000  5.220195  3.505391  335.752659         NaN        NaN   \n",
      "27   0x7e   100000  5.865554  5.631357  480.036017         NaN        NaN   \n",
      "28   0x7e   200000  5.849438  5.722359  489.136947         NaN        NaN   \n",
      "29   0x7e   400000  5.854089  5.751586  491.244685         NaN        NaN   \n",
      "..    ...      ...       ...       ...         ...         ...        ...   \n",
      "556  0x6b   100000  6.079709  4.623613  380.249169         NaN        NaN   \n",
      "557  0x6b   200000  6.082629  4.585490  376.932780         NaN        NaN   \n",
      "558  0x6b   400000  6.083342  4.570231  375.634598         NaN        NaN   \n",
      "559  0x6b   600000  6.078204  4.582674  376.975804         NaN        NaN   \n",
      "560  0x6b   700000  6.082823  4.573280  375.917213         NaN        NaN   \n",
      "561  0x6b   800000  6.077764  4.576958  376.532603         NaN        NaN   \n",
      "562  0x6b  1000000  6.084003  4.570978  375.655313         NaN        NaN   \n",
      "563  0x6b  1200000  6.086356  4.570246  375.449822         NaN        NaN   \n",
      "564  0x6b  1400000  6.083299  4.567618  375.422572         NaN        NaN   \n",
      "565  0x5b   100000  6.087015  4.564581  374.943812         NaN        NaN   \n",
      "566  0x5b   200000  6.084492  4.570182  375.559733         NaN        NaN   \n",
      "567  0x5b   400000  6.082248  4.568532  375.562569         NaN        NaN   \n",
      "568  0x5b   600000  6.085122  4.563634  374.982853         NaN        NaN   \n",
      "569  0x5b   700000  6.084321  4.565869  375.215809         NaN        NaN   \n",
      "570  0x5b   800000  6.087066  4.574966  375.793654         NaN        NaN   \n",
      "571  0x5b  1000000  6.083627  4.565847  375.256920         NaN        NaN   \n",
      "572  0x5b  1200000  6.084983  4.565373  375.133960         NaN        NaN   \n",
      "573  0x5b  1400000  5.898591  4.724952  400.515281         NaN        NaN   \n",
      "574  0x13   100000  5.413353  3.538540  326.834062         NaN        NaN   \n",
      "575  0x13   200000  5.412244  3.526898  325.825770         NaN        NaN   \n",
      "576  0x13   400000  5.413580  3.509376  324.127020         NaN        NaN   \n",
      "577  0x13   600000  5.413208  3.518169  324.961308         NaN        NaN   \n",
      "578  0x13   700000  5.411627  3.515561  324.815336         NaN        NaN   \n",
      "579  0x13   800000  5.413196  3.514465  324.619885         NaN        NaN   \n",
      "580  0x13  1000000  5.412957  3.513339  324.530285         NaN        NaN   \n",
      "581  0x13  1200000  5.408136  3.511839  324.680753         NaN        NaN   \n",
      "582  0x13  1400000  5.399939  3.513004  325.281687         NaN        NaN   \n",
      "583  0xed   100000  5.955748  5.586214  468.976630         NaN        NaN   \n",
      "584  0xed   200000  5.949501  5.682053  477.523143         NaN        NaN   \n",
      "585  0xed   400000  5.956326  5.701876  478.639989         NaN        NaN   \n",
      "\n",
      "     big_cores  lil_cores  total_cores  core-0  core-1  core-2  core-3  \\\n",
      "0            3          2            5       1       1       1       0   \n",
      "1            3          2            5       1       1       1       0   \n",
      "2            3          2            5       1       1       1       0   \n",
      "3            3          2            5       1       1       1       0   \n",
      "4            3          2            5       1       1       1       0   \n",
      "5            3          2            5       1       1       1       0   \n",
      "6            3          2            5       1       1       1       0   \n",
      "7            3          2            5       1       1       1       0   \n",
      "8            3          2            5       1       1       1       0   \n",
      "9            3          2            5       1       1       0       1   \n",
      "10           3          2            5       1       1       0       1   \n",
      "11           3          2            5       1       1       0       1   \n",
      "12           3          2            5       1       1       0       1   \n",
      "13           3          2            5       1       1       0       1   \n",
      "14           3          2            5       1       1       0       1   \n",
      "15           3          2            5       1       1       0       1   \n",
      "16           3          2            5       1       1       0       1   \n",
      "17           3          2            5       1       1       0       1   \n",
      "18           1          3            4       0       0       1       0   \n",
      "19           1          3            4       0       0       1       0   \n",
      "20           1          3            4       0       0       1       0   \n",
      "21           1          3            4       0       0       1       0   \n",
      "22           1          3            4       0       0       1       0   \n",
      "23           1          3            4       0       0       1       0   \n",
      "24           1          3            4       0       0       1       0   \n",
      "25           1          3            4       0       0       1       0   \n",
      "26           1          3            4       0       0       1       0   \n",
      "27           3          3            6       0       1       1       1   \n",
      "28           3          3            6       0       1       1       1   \n",
      "29           3          3            6       0       1       1       1   \n",
      "..         ...        ...          ...     ...     ...     ...     ...   \n",
      "556          2          3            5       0       1       1       0   \n",
      "557          2          3            5       0       1       1       0   \n",
      "558          2          3            5       0       1       1       0   \n",
      "559          2          3            5       0       1       1       0   \n",
      "560          2          3            5       0       1       1       0   \n",
      "561          2          3            5       0       1       1       0   \n",
      "562          2          3            5       0       1       1       0   \n",
      "563          2          3            5       0       1       1       0   \n",
      "564          2          3            5       0       1       1       0   \n",
      "565          2          3            5       0       1       0       1   \n",
      "566          2          3            5       0       1       0       1   \n",
      "567          2          3            5       0       1       0       1   \n",
      "568          2          3            5       0       1       0       1   \n",
      "569          2          3            5       0       1       0       1   \n",
      "570          2          3            5       0       1       0       1   \n",
      "571          2          3            5       0       1       0       1   \n",
      "572          2          3            5       0       1       0       1   \n",
      "573          2          3            5       0       1       0       1   \n",
      "574          1          2            3       0       0       0       1   \n",
      "575          1          2            3       0       0       0       1   \n",
      "576          1          2            3       0       0       0       1   \n",
      "577          1          2            3       0       0       0       1   \n",
      "578          1          2            3       0       0       0       1   \n",
      "579          1          2            3       0       0       0       1   \n",
      "580          1          2            3       0       0       0       1   \n",
      "581          1          2            3       0       0       0       1   \n",
      "582          1          2            3       0       0       0       1   \n",
      "583          3          3            6       1       1       1       0   \n",
      "584          3          3            6       1       1       1       0   \n",
      "585          3          3            6       1       1       1       0   \n",
      "\n",
      "     core-4  core-5  core-6  core-7  \n",
      "0         0       1       1       0  \n",
      "1         0       1       1       0  \n",
      "2         0       1       1       0  \n",
      "3         0       1       1       0  \n",
      "4         0       1       1       0  \n",
      "5         0       1       1       0  \n",
      "6         0       1       1       0  \n",
      "7         0       1       1       0  \n",
      "8         0       1       1       0  \n",
      "9         1       0       1       0  \n",
      "10        1       0       1       0  \n",
      "11        1       0       1       0  \n",
      "12        1       0       1       0  \n",
      "13        1       0       1       0  \n",
      "14        1       0       1       0  \n",
      "15        1       0       1       0  \n",
      "16        1       0       1       0  \n",
      "17        1       0       1       0  \n",
      "18        1       1       0       1  \n",
      "19        1       1       0       1  \n",
      "20        1       1       0       1  \n",
      "21        1       1       0       1  \n",
      "22        1       1       0       1  \n",
      "23        1       1       0       1  \n",
      "24        1       1       0       1  \n",
      "25        1       1       0       1  \n",
      "26        1       1       0       1  \n",
      "27        1       1       1       0  \n",
      "28        1       1       1       0  \n",
      "29        1       1       1       0  \n",
      "..      ...     ...     ...     ...  \n",
      "556       1       0       1       1  \n",
      "557       1       0       1       1  \n",
      "558       1       0       1       1  \n",
      "559       1       0       1       1  \n",
      "560       1       0       1       1  \n",
      "561       1       0       1       1  \n",
      "562       1       0       1       1  \n",
      "563       1       0       1       1  \n",
      "564       1       0       1       1  \n",
      "565       1       0       1       1  \n",
      "566       1       0       1       1  \n",
      "567       1       0       1       1  \n",
      "568       1       0       1       1  \n",
      "569       1       0       1       1  \n",
      "570       1       0       1       1  \n",
      "571       1       0       1       1  \n",
      "572       1       0       1       1  \n",
      "573       1       0       1       1  \n",
      "574       0       0       1       1  \n",
      "575       0       0       1       1  \n",
      "576       0       0       1       1  \n",
      "577       0       0       1       1  \n",
      "578       0       0       1       1  \n",
      "579       0       0       1       1  \n",
      "580       0       0       1       1  \n",
      "581       0       0       1       1  \n",
      "582       0       0       1       1  \n",
      "583       1       1       0       1  \n",
      "584       1       1       0       1  \n",
      "585       1       1       0       1  \n",
      "\n",
      "[586 rows x 18 columns]\n"
     ]
    }
   ],
   "source": [
    "df = power_analysis.create_col(df)"
   ]
  },
  {
   "cell_type": "code",
   "execution_count": 19,
   "metadata": {},
   "outputs": [],
   "source": [
    "df = df.drop(columns=['cores','WU_PWR_AVG','WU_ENERGY','big_cores','lil_cores','total_cores'])\n"
   ]
  },
  {
   "cell_type": "code",
   "execution_count": 20,
   "metadata": {},
   "outputs": [
    {
     "name": "stdout",
     "output_type": "stream",
     "text": [
      "     freq      Rate     Power      Energy  core-0  core-1  core-2  core-3  \\\n",
      "0  100000  5.887958  5.439624  461.927430       1       1       1       0   \n",
      "1  200000  5.888939  5.474008  464.770101       1       1       1       0   \n",
      "2  400000  5.897709  5.441137  461.291977       1       1       1       0   \n",
      "3  600000  5.897312  5.442045  461.399975       1       1       1       0   \n",
      "4  700000  5.908167  5.432657  459.758156       1       1       1       0   \n",
      "\n",
      "   core-4  core-5  core-6  core-7  \n",
      "0       0       1       1       0  \n",
      "1       0       1       1       0  \n",
      "2       0       1       1       0  \n",
      "3       0       1       1       0  \n",
      "4       0       1       1       0  \n",
      "X size: (586, 9)\n",
      "y size (586,)\n"
     ]
    }
   ],
   "source": [
    "print(df.head())\n",
    "X = df[['freq','core-0','core-1','core-2','core-3','core-4','core-5','core-6','core-7']]\n",
    "y = df['Power']\n",
    "\n",
    "print (\"X size:\", X.shape)\n",
    "print (\"y size\", y.shape)\n",
    "\n",
    "X = X.values\n",
    "y = y.values"
   ]
  },
  {
   "cell_type": "code",
   "execution_count": 90,
   "metadata": {},
   "outputs": [],
   "source": [
    "#y = f(y_otddher).ravel()"
   ]
  },
  {
   "cell_type": "code",
   "execution_count": 21,
   "metadata": {},
   "outputs": [],
   "source": [
    "#Mesh the input space for evaluations of the real function, the prediction and its MSE\n",
    "x = np.atleast_2d(np.linspace(0, 10, 1000)).T"
   ]
  },
  {
   "cell_type": "code",
   "execution_count": 22,
   "metadata": {},
   "outputs": [],
   "source": [
    "#Instantiate a Gaussian Process Model\n",
    "kernel = C(1.0, (1e-3, 1e3)) * RBF(10, (1e-2, 1e2))\n",
    "gp = GaussianProcessRegressor(kernel=kernel, n_restarts_optimizer=9)"
   ]
  },
  {
   "cell_type": "code",
   "execution_count": 23,
   "metadata": {},
   "outputs": [
    {
     "name": "stderr",
     "output_type": "stream",
     "text": [
      "/usr/local/lib/python3.6/site-packages/sklearn/gaussian_process/gpr.py:457: UserWarning: fmin_l_bfgs_b terminated abnormally with the  state: {'grad': array([  6.5821956 , -90.81746161]), 'task': b'ABNORMAL_TERMINATION_IN_LNSRCH', 'funcalls': 72, 'nit': 9, 'warnflag': 2}\n",
      "  \" state: %s\" % convergence_dict)\n"
     ]
    },
    {
     "data": {
      "text/plain": [
       "GaussianProcessRegressor(alpha=1e-10, copy_X_train=True,\n",
       "             kernel=1**2 * RBF(length_scale=10), n_restarts_optimizer=9,\n",
       "             normalize_y=False, optimizer='fmin_l_bfgs_b',\n",
       "             random_state=None)"
      ]
     },
     "execution_count": 23,
     "metadata": {},
     "output_type": "execute_result"
    }
   ],
   "source": [
    "# Fit to data using Maximum Likelihood Estimation of the parameters\n",
    "gp.fit(X, y)"
   ]
  },
  {
   "cell_type": "code",
   "execution_count": 24,
   "metadata": {},
   "outputs": [
    {
     "name": "stderr",
     "output_type": "stream",
     "text": [
      "/usr/local/lib/python3.6/site-packages/sklearn/gaussian_process/gpr.py:335: UserWarning: Predicted variances smaller than 0. Setting those variances to 0.\n",
      "  warnings.warn(\"Predicted variances smaller than 0. \"\n"
     ]
    }
   ],
   "source": [
    "# Make the prediction on the meshed x-axis (ask for MSE as well)\n",
    "y_pred, sigma = gp.predict(X, return_std=True)"
   ]
  },
  {
   "cell_type": "code",
   "execution_count": 25,
   "metadata": {},
   "outputs": [
    {
     "name": "stdout",
     "output_type": "stream",
     "text": [
      "[5.439624 5.474008 5.441137 5.442045 5.432657 5.440728 5.463399 5.468053\n",
      " 5.457655 5.387178 5.434772 5.452016 5.460129 5.464754 5.475984 5.458857\n",
      " 5.485718 5.465076 3.554354 3.516393 3.497162 3.504558 3.504021 3.503279\n",
      " 3.503156 3.507025 3.505391 5.631357 5.722359 5.751586 5.755745 5.767213\n",
      " 5.774072 5.776001 5.768005 5.760819 3.606425 3.566931 3.544256 3.548901\n",
      " 3.532185 3.542985 3.535022 3.53615  3.533506 5.313466 5.393193 5.407031\n",
      " 5.417774 5.419539 5.42636  5.412325 5.415992 5.414513 5.707672 5.372265\n",
      " 4.453611 5.438244 5.686908 5.716493 5.72856  5.718141 5.739091 4.60921\n",
      " 4.592627 4.570847 4.565692 4.5394   4.527089 4.530073 4.536751 4.558246\n",
      " 4.643959 4.631189 4.624616 4.615869 4.625859 4.625192 4.624035 4.625227\n",
      " 4.623493 3.525383 3.515857 3.520102 3.511202 3.506298 3.505297 3.514647\n",
      " 3.505711 3.514588 3.517186 3.517468 3.512427 3.511876 3.507136 3.516945\n",
      " 3.519063 3.513573 3.510238 3.485358 3.482843 3.47946  3.478801 3.480809\n",
      " 3.487585 3.4761   3.479925 3.483806 5.585309 5.670621 5.706892 5.691267\n",
      " 5.693681 5.718836 5.70904  5.692936 5.71331  3.548628 3.491929 3.481052\n",
      " 3.476025 3.472588 3.480499 3.479141 3.474207 3.476827 3.462287 3.470102\n",
      " 3.469923 3.469402 3.463079 3.459235 3.458236 3.458064 3.464991 3.490516\n",
      " 3.480215 3.48514  3.492272 3.490974 3.481645 3.487033 3.491869 3.481218\n",
      " 4.514938 4.546268 4.576387 4.578194 4.564936 4.563078 4.578591 4.567886\n",
      " 4.565513 3.527277 3.499264 3.496499 3.484841 3.48907  3.4846   3.482128\n",
      " 3.487512 3.482867 4.539802 4.579594 4.590205 4.594353 4.605506 4.585552\n",
      " 4.59013  4.586253 4.582508 4.581371 4.570476 4.578257 4.578715 4.562921\n",
      " 4.57265  4.572175 4.568298 4.561992 5.371506 5.408345 5.40112  5.408169\n",
      " 5.443606 5.414809 5.421283 5.382336 5.401516 5.616729 5.631605 5.616568\n",
      " 5.618423 5.608315 5.623664 5.610013 5.622836 5.616508 4.664388 4.632278\n",
      " 4.621721 4.623267 4.632451 4.638664 4.618371 4.637696 4.63324  4.443401\n",
      " 4.437409 4.440496 4.457105 4.459584 4.436352 4.425737 4.431695 4.452816\n",
      " 4.498422 4.497901 4.498638 4.503504 4.493055 4.494418 4.497856 4.487056\n",
      " 4.502465 5.562746 5.619244 5.619206 5.614197 5.632361 5.611062 5.610995\n",
      " 5.621728 5.608905 5.316347 5.305736 5.310367 5.300079 5.300469 5.303649\n",
      " 5.297762 5.307803 5.315125 5.42045  5.409733 5.446268 5.432373 5.456588\n",
      " 5.436268 5.440411 5.431898 5.458361 4.585578 4.567497 4.539731 4.54778\n",
      " 4.550773 4.547434 4.555683 4.554623 4.550312 5.375154 5.439121 5.431318\n",
      " 5.427496 5.428059 5.444445 5.460793 5.434495 5.444206 4.61013  4.589742\n",
      " 4.586158 4.567289 4.57245  4.563607 4.574076 4.566917 4.558714 4.479941\n",
      " 4.47706  4.4841   4.46732  4.454362 4.475048 4.468155 4.507249 4.477994\n",
      " 4.562658 4.563643 4.566314 4.572143 4.559864 4.544741 4.554075 4.553013\n",
      " 4.555131 4.640739 4.626884 4.63431  4.617938 4.622381 4.640095 4.622566\n",
      " 4.614088 4.636197 5.398751 5.467117 5.473726 5.477113 5.472407 5.467792\n",
      " 5.48284  5.473673 5.489728 4.539333 4.610204 4.589785 4.610535 4.611672\n",
      " 4.970313 4.590873 4.582897 4.59229  4.595279 4.598936 4.596988 4.589966\n",
      " 4.57464  4.6043   4.63308  4.620309 4.608742 4.618809 4.530324 4.603884\n",
      " 3.515919 3.488728 3.485024 3.487925 3.489434 3.476794 3.484719 6.249501\n",
      " 6.084923 6.043343 6.0139   6.022013 6.026209 6.013636 3.519392 3.45404\n",
      " 3.442396 3.438592 3.447252 3.436335 3.436988 4.539018 4.584531 4.607615\n",
      " 4.611589 4.599225 4.60442  4.624307 6.016493 5.937535 5.924068 5.92032\n",
      " 5.927559 5.92043  5.920549 6.012932 5.991688 5.982077 5.967581 5.986291\n",
      " 5.987719 5.973545 4.666556 4.621612 4.612486 4.602915 4.597875 4.601728\n",
      " 4.600005 4.601574 4.69674  4.674682 4.647554 4.645001 4.644647 4.648469\n",
      " 4.648847 4.651529 4.607011 4.605512 4.612057 4.606523 4.609782 4.609644\n",
      " 4.616831 4.608815 4.598687 5.397084 5.458037 5.4603   5.469689 5.462403\n",
      " 5.487203 5.463372 5.482087 5.464314 4.771077 4.734055 4.72176  4.709096\n",
      " 4.711727 4.709517 4.682602 4.687656 4.704098 5.403444 5.438565 5.448194\n",
      " 5.452958 5.456848 5.455334 5.451801 5.455645 5.45692  4.627765 4.596216\n",
      " 4.574762 4.593503 4.583128 4.58041  4.576822 4.580951 4.582527 4.563521\n",
      " 4.562557 4.552582 4.530763 4.524802 4.510919 4.512695 4.534652 4.532074\n",
      " 3.502157 3.484405 3.483063 3.482874 3.483515 3.48087  3.489727 3.481597\n",
      " 3.490961 4.431939 4.422832 4.44249  4.455036 4.459139 4.435943 4.442552\n",
      " 4.452143 4.467533 3.529871 3.51151  3.50858  3.502659 3.497962 3.495718\n",
      " 3.497808 3.49292  3.494279 4.60092  4.6462   4.652774 4.639785 4.655815\n",
      " 4.682653 4.994317 4.686649 4.648919 4.594961 4.60556  4.614091 4.518327\n",
      " 4.590057 4.599579 4.592366 4.608095 4.589286 4.617152 4.627397 4.61959\n",
      " 4.615099 4.616573 4.609954 4.600284 4.604692 4.619151 4.620408 4.607886\n",
      " 4.600459 4.615991 4.628101 4.62896  4.623669 4.611043 4.618951 3.515376\n",
      " 3.498036 3.488743 3.493048 3.488722 3.497181 3.48878  3.501595 3.493394\n",
      " 3.488549 3.488532 3.487535 3.478011 3.486215 3.481922 3.485983 3.487131\n",
      " 3.484431 5.369974 5.441553 5.469037 5.464643 5.466589 5.44636  5.468585\n",
      " 5.458438 5.468872 3.538848 3.507516 3.502401 3.495295 3.497631 3.495265\n",
      " 3.497755 3.496093 3.493486 5.366451 5.455479 5.469893 5.4509   5.462342\n",
      " 5.491596 5.470368 5.501116 5.479924 4.623613 4.58549  4.570231 4.582674\n",
      " 4.57328  4.576958 4.570978 4.570246 4.567618 4.564581 4.570182 4.568532\n",
      " 4.563634 4.565869 4.574966 4.565847 4.565373 4.724952 3.53854  3.526898\n",
      " 3.509376 3.518169 3.515561 3.514465 3.513339 3.511839 3.513004 5.586214\n",
      " 5.682053 5.701876]\n"
     ]
    },
    {
     "data": {
      "image/png": "[encoded data removed]",
      "text/plain": [
       "<Figure size 252x252 with 1 Axes>"
      ]
     },
     "metadata": {},
     "output_type": "display_data"
    }
   ],
   "source": [
    "fig, ax = plt.subplots()\n",
    "\n",
    "# Make the plot\n",
    "ax.scatter(y, y_pred, alpha=0.5)\n",
    "print (y)\n",
    "\n",
    "# Make it pretty\n",
    "ax.set_xlim(ax.get_xlim())\n",
    "ax.set_ylim(ax.get_xlim())\n",
    "\n",
    "ax.set_xlabel('True Power (Watts?)')\n",
    "ax.set_ylabel('Pred. Power (Watts?)')\n",
    "\n",
    "fig.set_size_inches(3.5, 3.5)\n",
    "\n",
    "# Add in the goal line\n",
    "ax.plot(ax.get_xlim(), ax.get_ylim(), 'k--');"
   ]
  },
  {
   "cell_type": "markdown",
   "metadata": {},
   "source": [
    "## Estimating Prediction Accuracy\n",
    "Using cross-validation to train a model on one subset of the training data and evaluate it on antoher"
   ]
  },
  {
   "cell_type": "code",
   "execution_count": 34,
   "metadata": {},
   "outputs": [
    {
     "name": "stderr",
     "output_type": "stream",
     "text": [
      "/usr/local/lib/python3.6/site-packages/sklearn/gaussian_process/gpr.py:457: UserWarning: fmin_l_bfgs_b terminated abnormally with the  state: {'grad': array([-9.64243393e+02, -3.38135819e-33]), 'task': b'ABNORMAL_TERMINATION_IN_LNSRCH', 'funcalls': 59, 'nit': 3, 'warnflag': 2}\n",
      "  \" state: %s\" % convergence_dict)\n",
      "/usr/local/lib/python3.6/site-packages/sklearn/gaussian_process/gpr.py:457: UserWarning: fmin_l_bfgs_b terminated abnormally with the  state: {'grad': array([-77.59963254,  -0.        ]), 'task': b'ABNORMAL_TERMINATION_IN_LNSRCH', 'funcalls': 21, 'nit': 0, 'warnflag': 2}\n",
      "  \" state: %s\" % convergence_dict)\n",
      "/usr/local/lib/python3.6/site-packages/sklearn/gaussian_process/gpr.py:457: UserWarning: fmin_l_bfgs_b terminated abnormally with the  state: {'grad': array([ 1.56064317e+002, -9.18912995e-308]), 'task': b'ABNORMAL_TERMINATION_IN_LNSRCH', 'funcalls': 75, 'nit': 3, 'warnflag': 2}\n",
      "  \" state: %s\" % convergence_dict)\n",
      "/usr/local/lib/python3.6/site-packages/sklearn/gaussian_process/gpr.py:457: UserWarning: fmin_l_bfgs_b terminated abnormally with the  state: {'grad': array([-1008.99269338,    -0.        ]), 'task': b'ABNORMAL_TERMINATION_IN_LNSRCH', 'funcalls': 73, 'nit': 3, 'warnflag': 2}\n",
      "  \" state: %s\" % convergence_dict)\n",
      "/usr/local/lib/python3.6/site-packages/sklearn/gaussian_process/gpr.py:457: UserWarning: fmin_l_bfgs_b terminated abnormally with the  state: {'grad': array([403.66383262, -51.35319654]), 'task': b'ABNORMAL_TERMINATION_IN_LNSRCH', 'funcalls': 58, 'nit': 10, 'warnflag': 2}\n",
      "  \" state: %s\" % convergence_dict)\n",
      "/usr/local/lib/python3.6/site-packages/sklearn/gaussian_process/gpr.py:457: UserWarning: fmin_l_bfgs_b terminated abnormally with the  state: {'grad': array([  22.26830494, 1764.50858565]), 'task': b'ABNORMAL_TERMINATION_IN_LNSRCH', 'funcalls': 77, 'nit': 4, 'warnflag': 2}\n",
      "  \" state: %s\" % convergence_dict)\n",
      "/usr/local/lib/python3.6/site-packages/sklearn/gaussian_process/gpr.py:457: UserWarning: fmin_l_bfgs_b terminated abnormally with the  state: {'grad': array([ -7.4016874 , -19.47885676]), 'task': b'ABNORMAL_TERMINATION_IN_LNSRCH', 'funcalls': 102, 'nit': 20, 'warnflag': 2}\n",
      "  \" state: %s\" % convergence_dict)\n",
      "/usr/local/lib/python3.6/site-packages/sklearn/gaussian_process/gpr.py:457: UserWarning: fmin_l_bfgs_b terminated abnormally with the  state: {'grad': array([1050.88693003,   -0.        ]), 'task': b'ABNORMAL_TERMINATION_IN_LNSRCH', 'funcalls': 47, 'nit': 2, 'warnflag': 2}\n",
      "  \" state: %s\" % convergence_dict)\n",
      "/usr/local/lib/python3.6/site-packages/sklearn/gaussian_process/gpr.py:457: UserWarning: fmin_l_bfgs_b terminated abnormally with the  state: {'grad': array([ 2.63843952e+001, -2.58625287e-300]), 'task': b'ABNORMAL_TERMINATION_IN_LNSRCH', 'funcalls': 52, 'nit': 3, 'warnflag': 2}\n",
      "  \" state: %s\" % convergence_dict)\n",
      "/usr/local/lib/python3.6/site-packages/sklearn/gaussian_process/gpr.py:457: UserWarning: fmin_l_bfgs_b terminated abnormally with the  state: {'grad': array([ 805.03088866, -865.06189649]), 'task': b'ABNORMAL_TERMINATION_IN_LNSRCH', 'funcalls': 47, 'nit': 1, 'warnflag': 2}\n",
      "  \" state: %s\" % convergence_dict)\n",
      "/usr/local/lib/python3.6/site-packages/sklearn/gaussian_process/gpr.py:457: UserWarning: fmin_l_bfgs_b terminated abnormally with the  state: {'grad': array([2074.86737883,   -0.        ]), 'task': b'ABNORMAL_TERMINATION_IN_LNSRCH', 'funcalls': 76, 'nit': 4, 'warnflag': 2}\n",
      "  \" state: %s\" % convergence_dict)\n",
      "/usr/local/lib/python3.6/site-packages/sklearn/gaussian_process/gpr.py:457: UserWarning: fmin_l_bfgs_b terminated abnormally with the  state: {'grad': array([-81.50133095,  47.26486309]), 'task': b'ABNORMAL_TERMINATION_IN_LNSRCH', 'funcalls': 86, 'nit': 4, 'warnflag': 2}\n",
      "  \" state: %s\" % convergence_dict)\n",
      "/usr/local/lib/python3.6/site-packages/sklearn/gaussian_process/gpr.py:457: UserWarning: fmin_l_bfgs_b terminated abnormally with the  state: {'grad': array([1074.39738497,   -0.        ]), 'task': b'ABNORMAL_TERMINATION_IN_LNSRCH', 'funcalls': 58, 'nit': 3, 'warnflag': 2}\n",
      "  \" state: %s\" % convergence_dict)\n",
      "/usr/local/lib/python3.6/site-packages/sklearn/gaussian_process/gpr.py:457: UserWarning: fmin_l_bfgs_b terminated abnormally with the  state: {'grad': array([1074.39753569,   -0.        ]), 'task': b'ABNORMAL_TERMINATION_IN_LNSRCH', 'funcalls': 48, 'nit': 2, 'warnflag': 2}\n",
      "  \" state: %s\" % convergence_dict)\n"
     ]
    }
   ],
   "source": [
    "all_y_test = np.zeros((0,))\n",
    "all_y_pred = np.zeros((0,))\n",
    "for train_inds, test_inds in ShuffleSplit(n_splits=5, test_size=0.1).split(X,y):\n",
    "    # Split off the train and test set\n",
    "    X_test, y_test = X[test_inds, :], y[test_inds]\n",
    "    X_train, y_train = X[train_inds, :], y[train_inds]\n",
    "    #print(test_inds)\n",
    "    #print(X_test.shape)\n",
    "    #print(y_test.shape)\n",
    "    #print(X[test_inds])\n",
    "    #print(X[train_inds, :])\n",
    "    # Train the model\n",
    "    gp.fit(X_train, y_train)\n",
    "    y_pred = gp.predict(X_test)\n",
    "    \n",
    "    # Append the results\n",
    "    all_y_test = np.concatenate((all_y_test, y_test))\n",
    "    all_y_pred = np.concatenate((all_y_pred, y_pred))"
   ]
  },
  {
   "cell_type": "code",
   "execution_count": 38,
   "metadata": {},
   "outputs": [
    {
     "name": "stdout",
     "output_type": "stream",
     "text": [
      "R: 0.08584101277019633\n",
      "MAE: 2.8179220217764915 Watts?\n",
      "RMSE: 3.601351080431655 Watts?\n"
     ]
    }
   ],
   "source": [
    "print (\"R:\", sp.stats.pearsonr(all_y_test, all_y_pred)[0])\n",
    "print (\"MAE:\", np.abs(all_y_test - all_y_pred).mean(), 'Watts?')\n",
    "print (\"RMSE:\", np.sqrt(np.power(all_y_test - all_y_pred, 2).mean()), 'Watts?')"
   ]
  },
  {
   "cell_type": "code",
   "execution_count": 39,
   "metadata": {},
   "outputs": [
    {
     "data": {
      "image/png": "[encoded data removed]",
      "text/plain": [
       "<Figure size 252x252 with 1 Axes>"
      ]
     },
     "metadata": {},
     "output_type": "display_data"
    }
   ],
   "source": [
    "fig, ax = plt.subplots()\n",
    "\n",
    "# Make the plot\n",
    "ax.scatter(all_y_test, all_y_pred, alpha=0.5)\n",
    "\n",
    "# Make it pretty\n",
    "ax.set_xlim(ax.get_xlim())\n",
    "ax.set_ylim(ax.get_xlim())\n",
    "\n",
    "ax.set_xlabel('True Power (Watts?)')\n",
    "ax.set_ylabel('Pred. Power (Watts?)')\n",
    "\n",
    "fig.set_size_inches(3.5, 3.5)\n",
    "\n",
    "# Add in the goal line\n",
    "ax.plot(ax.get_xlim(), ax.get_ylim(), 'k--');"
   ]
  },
  {
   "cell_type": "markdown",
   "metadata": {},
   "source": [
    "## Saving model"
   ]
  },
  {
   "cell_type": "code",
   "execution_count": 40,
   "metadata": {},
   "outputs": [
    {
     "name": "stderr",
     "output_type": "stream",
     "text": [
      "/usr/local/lib/python3.6/site-packages/sklearn/gaussian_process/gpr.py:457: UserWarning: fmin_l_bfgs_b terminated abnormally with the  state: {'grad': array([  6.5821956 , -90.81746161]), 'task': b'ABNORMAL_TERMINATION_IN_LNSRCH', 'funcalls': 72, 'nit': 9, 'warnflag': 2}\n",
      "  \" state: %s\" % convergence_dict)\n"
     ]
    },
    {
     "data": {
      "text/plain": [
       "GaussianProcessRegressor(alpha=1e-10, copy_X_train=True,\n",
       "             kernel=1**2 * RBF(length_scale=10), n_restarts_optimizer=9,\n",
       "             normalize_y=False, optimizer='fmin_l_bfgs_b',\n",
       "             random_state=None)"
      ]
     },
     "execution_count": 40,
     "metadata": {},
     "output_type": "execute_result"
    }
   ],
   "source": [
    "gp.fit(X,y)"
   ]
  },
  {
   "cell_type": "code",
   "execution_count": 42,
   "metadata": {},
   "outputs": [],
   "source": [
    "pkl.dump(gp, open('power_gaus-model.pkl', 'wb'))"
   ]
  },
  {
   "cell_type": "code",
   "execution_count": 44,
   "metadata": {},
   "outputs": [
    {
     "name": "stdout",
     "output_type": "stream",
     "text": [
      "GaussianProcessRegressor(alpha=1e-10, copy_X_train=True,\n",
      "             kernel=1**2 * RBF(length_scale=10), n_restarts_optimizer=9,\n",
      "             normalize_y=False, optimizer='fmin_l_bfgs_b',\n",
      "             random_state=None)\n"
     ]
    },
    {
     "data": {
      "text/plain": [
       "array([3.261986])"
      ]
     },
     "execution_count": 44,
     "metadata": {},
     "output_type": "execute_result"
    }
   ],
   "source": [
    "with open (\"power_gaus-model.pkl\", 'rb') as fp:\n",
    "    model2 = pkl.load(fp)\n",
    "print (model2)\n",
    "model2.predict([[400000,0,1,0,0,0,0,0,1]])"
   ]
  },
  {
   "cell_type": "code",
   "execution_count": 47,
   "metadata": {},
   "outputs": [],
   "source": [
    "# from sklearn.metrics import (brier_score_loss, precision_score, recall_score,\n",
    "#                              f1_score)\n",
    "# print(\"\\tF1: %1.3f\\n\" % f1_score(all_y_test, all_y_pred))\n"
   ]
  },
  {
   "cell_type": "code",
   "execution_count": null,
   "metadata": {},
   "outputs": [],
   "source": []
  }
 ],
 "metadata": {
  "kernelspec": {
   "display_name": "Python 3",
   "language": "python",
   "name": "python3"
  },
  "language_info": {
   "codemirror_mode": {
    "name": "ipython",
    "version": 3
   },
   "file_extension": ".py",
   "mimetype": "text/x-python",
   "name": "python",
   "nbconvert_exporter": "python",
   "pygments_lexer": "ipython3",
   "version": "3.6.4"
  }
 },
 "nbformat": 4,
 "nbformat_minor": 2
}
