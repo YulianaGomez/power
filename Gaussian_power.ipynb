{
 "cells": [
  {
   "cell_type": "code",
   "execution_count": 65,
   "metadata": {},
   "outputs": [],
   "source": [
    "import numpy as np\n",
    "from matplotlib import pyplot as plt\n",
    "\n",
    "from sklearn.gaussian_process import GaussianProcessRegressor\n",
    "from sklearn.gaussian_process.kernels import RBF, ConstantKernel as C\n",
    "\n",
    "import pandas as pd\n",
    "import nbimporter\n",
    "import power_analysis\n",
    "from sklearn.model_selection import train_test_split, GridSearchCV, ShuffleSplit\n",
    "\n",
    "np.random.seed(1)"
   ]
  },
  {
   "cell_type": "code",
   "execution_count": 22,
   "metadata": {},
   "outputs": [],
   "source": [
    "def f(x):\n",
    "    \"\"\"The function to predict.\"\"\"\n",
    "    return x * np.sin(x)"
   ]
  },
  {
   "cell_type": "code",
   "execution_count": 23,
   "metadata": {},
   "outputs": [
    {
     "name": "stdout",
     "output_type": "stream",
     "text": [
      "  cores    freq      Rate     Power      Energy  WU_PWR_AVG  WU_ENERGY\n",
      "0  0xe6  100000  5.887958  5.439624  461.927430         NaN        NaN\n",
      "1  0xe6  200000  5.888939  5.474008  464.770101         NaN        NaN\n",
      "2  0xe6  400000  5.897709  5.441137  461.291977         NaN        NaN\n",
      "3  0xe6  600000  5.897312  5.442045  461.399975         NaN        NaN\n",
      "4  0xe6  700000  5.908167  5.432657  459.758156         NaN        NaN\n"
     ]
    }
   ],
   "source": [
    "#Import Data\n",
    "file_path = '/Users/yzamora/power/STREAM_big.results'\n",
    "df = pd.read_csv(file_path, sep='\\s+')\n",
    "print (df.head())"
   ]
  },
  {
   "cell_type": "code",
   "execution_count": 24,
   "metadata": {},
   "outputs": [
    {
     "name": "stdout",
     "output_type": "stream",
     "text": [
      "    cores     freq      Rate     Power      Energy  WU_PWR_AVG  WU_ENERGY  \\\n",
      "0    0xe6   100000  5.887958  5.439624  461.927430         NaN        NaN   \n",
      "1    0xe6   200000  5.888939  5.474008  464.770101         NaN        NaN   \n",
      "2    0xe6   400000  5.897709  5.441137  461.291977         NaN        NaN   \n",
      "3    0xe6   600000  5.897312  5.442045  461.399975         NaN        NaN   \n",
      "4    0xe6   700000  5.908167  5.432657  459.758156         NaN        NaN   \n",
      "5    0xe6   800000  5.893648  5.440728  461.575041         NaN        NaN   \n",
      "6    0xe6  1000000  5.892087  5.463399  463.621307         NaN        NaN   \n",
      "7    0xe6  1200000  5.879515  5.468053  465.008695         NaN        NaN   \n",
      "8    0xe6  1400000  5.890988  5.457655  463.220651         NaN        NaN   \n",
      "9    0xaa   100000  5.994764  4.567958  380.995561         NaN        NaN   \n",
      "10   0xaa   200000  6.142090  4.639552  377.685050         NaN        NaN   \n",
      "11   0xaa   400000  6.132738  4.633690  377.782892         NaN        NaN   \n",
      "12   0xaa   600000  6.141388  4.623678  376.435819         NaN        NaN   \n",
      "13   0xaa   700000  6.150250  4.626373  376.112558         NaN        NaN   \n",
      "14   0xaa   800000  6.153646  4.633241  376.462877         NaN        NaN   \n",
      "15   0xaa  1000000  6.146352  4.626859  376.390352         NaN        NaN   \n",
      "16   0xaa  1200000  6.149373  4.627930  376.292823         NaN        NaN   \n",
      "17   0xaa  1400000  6.146780  4.625277  376.235757         NaN        NaN   \n",
      "18   0xda   100000  5.904099  5.387178  456.223404         NaN        NaN   \n",
      "19   0xda   200000  5.900255  5.434772  460.553992         NaN        NaN   \n",
      "20   0xda   400000  5.891115  5.452016  462.731679         NaN        NaN   \n",
      "21   0xda   600000  5.890124  5.460129  463.498338         NaN        NaN   \n",
      "22   0xda   700000  5.886829  5.464754  464.150520         NaN        NaN   \n",
      "23   0xda   800000  5.889059  5.475984  464.928564         NaN        NaN   \n",
      "24   0xda  1000000  5.897247  5.458857  462.830828         NaN        NaN   \n",
      "25   0xda  1200000  5.874792  5.485718  466.885618         NaN        NaN   \n",
      "26   0xda  1400000  5.889206  5.465076  463.990417         NaN        NaN   \n",
      "27   0x2d   100000  5.217183  3.554354  340.638979         NaN        NaN   \n",
      "28   0x2d   200000  5.214908  3.516393  337.147892         NaN        NaN   \n",
      "29   0x2d   400000  5.218577  3.497162  335.068336         NaN        NaN   \n",
      "..    ...      ...       ...       ...         ...         ...        ...   \n",
      "294  0x54  1000000  6.088327  4.468155  366.944101         NaN        NaN   \n",
      "295  0x54  1200000  6.097478  4.507249  369.599375         NaN        NaN   \n",
      "296  0x54  1400000  6.088277  4.477994  367.755257         NaN        NaN   \n",
      "297  0xad   100000  6.034685  4.562658  378.035834         NaN        NaN   \n",
      "298  0xad   200000  6.046815  4.563643  377.358968         NaN        NaN   \n",
      "299  0xad   400000  6.044632  4.566314  377.716361         NaN        NaN   \n",
      "300  0xad   600000  6.044181  4.572143  378.226414         NaN        NaN   \n",
      "301  0xad   700000  6.030730  4.559864  378.052396         NaN        NaN   \n",
      "302  0xad   800000  6.040648  4.544741  376.179574         NaN        NaN   \n",
      "303  0xad  1000000  6.045420  4.554075  376.654791         NaN        NaN   \n",
      "304  0xad  1200000  6.041073  4.553013  376.837861         NaN        NaN   \n",
      "305  0xad  1400000  6.039815  4.555131  377.091509         NaN        NaN   \n",
      "306  0x6a   100000  6.174490  4.640739  375.799154         NaN        NaN   \n",
      "307  0x6a   200000  6.171046  4.626884  374.886335         NaN        NaN   \n",
      "308  0x6a   400000  6.164684  4.634310  375.875444         NaN        NaN   \n",
      "309  0x6a   600000  6.170460  4.617938  374.197057         NaN        NaN   \n",
      "310  0x6a   700000  6.167497  4.622381  374.736889         NaN        NaN   \n",
      "311  0x6a   800000  6.170670  4.640095  375.979473         NaN        NaN   \n",
      "312  0x6a  1000000  6.165902  4.622566  374.848961         NaN        NaN   \n",
      "313  0x6a  1200000  6.164713  4.614088  374.233451         NaN        NaN   \n",
      "314  0x6a  1400000  6.175551  4.636197  375.366908         NaN        NaN   \n",
      "315  0x76   100000  5.910233  5.398751  456.728935         NaN        NaN   \n",
      "316  0x76   200000  5.902755  5.467117  463.098706         NaN        NaN   \n",
      "317  0x76   400000  5.911290  5.473726  462.989092         NaN        NaN   \n",
      "318  0x76   600000  5.913044  5.477113  463.138102         NaN        NaN   \n",
      "319  0x76   700000  5.910549  5.472407  462.935533         NaN        NaN   \n",
      "320  0x76   800000  5.911411  5.467792  462.477329         NaN        NaN   \n",
      "321  0x76  1000000  5.897223  5.482840  464.865879         NaN        NaN   \n",
      "322  0x76  1200000  5.912836  5.473673  462.863094         NaN        NaN   \n",
      "323  0x76  1400000  5.901099  5.489728  465.144104         NaN        NaN   \n",
      "\n",
      "     big_cores  lil_cores  total_cores  core-0  core-1  core-2  core-3  \\\n",
      "0            3          2            5       1       1       1       0   \n",
      "1            3          2            5       1       1       1       0   \n",
      "2            3          2            5       1       1       1       0   \n",
      "3            3          2            5       1       1       1       0   \n",
      "4            3          2            5       1       1       1       0   \n",
      "5            3          2            5       1       1       1       0   \n",
      "6            3          2            5       1       1       1       0   \n",
      "7            3          2            5       1       1       1       0   \n",
      "8            3          2            5       1       1       1       0   \n",
      "9            2          2            4       1       0       1       0   \n",
      "10           2          2            4       1       0       1       0   \n",
      "11           2          2            4       1       0       1       0   \n",
      "12           2          2            4       1       0       1       0   \n",
      "13           2          2            4       1       0       1       0   \n",
      "14           2          2            4       1       0       1       0   \n",
      "15           2          2            4       1       0       1       0   \n",
      "16           2          2            4       1       0       1       0   \n",
      "17           2          2            4       1       0       1       0   \n",
      "18           3          2            5       1       1       0       1   \n",
      "19           3          2            5       1       1       0       1   \n",
      "20           3          2            5       1       1       0       1   \n",
      "21           3          2            5       1       1       0       1   \n",
      "22           3          2            5       1       1       0       1   \n",
      "23           3          2            5       1       1       0       1   \n",
      "24           3          2            5       1       1       0       1   \n",
      "25           3          2            5       1       1       0       1   \n",
      "26           3          2            5       1       1       0       1   \n",
      "27           1          3            4       0       0       1       0   \n",
      "28           1          3            4       0       0       1       0   \n",
      "29           1          3            4       0       0       1       0   \n",
      "..         ...        ...          ...     ...     ...     ...     ...   \n",
      "294          2          1            3       0       1       0       1   \n",
      "295          2          1            3       0       1       0       1   \n",
      "296          2          1            3       0       1       0       1   \n",
      "297          2          3            5       1       0       1       0   \n",
      "298          2          3            5       1       0       1       0   \n",
      "299          2          3            5       1       0       1       0   \n",
      "300          2          3            5       1       0       1       0   \n",
      "301          2          3            5       1       0       1       0   \n",
      "302          2          3            5       1       0       1       0   \n",
      "303          2          3            5       1       0       1       0   \n",
      "304          2          3            5       1       0       1       0   \n",
      "305          2          3            5       1       0       1       0   \n",
      "306          2          2            4       0       1       1       0   \n",
      "307          2          2            4       0       1       1       0   \n",
      "308          2          2            4       0       1       1       0   \n",
      "309          2          2            4       0       1       1       0   \n",
      "310          2          2            4       0       1       1       0   \n",
      "311          2          2            4       0       1       1       0   \n",
      "312          2          2            4       0       1       1       0   \n",
      "313          2          2            4       0       1       1       0   \n",
      "314          2          2            4       0       1       1       0   \n",
      "315          3          2            5       0       1       1       1   \n",
      "316          3          2            5       0       1       1       1   \n",
      "317          3          2            5       0       1       1       1   \n",
      "318          3          2            5       0       1       1       1   \n",
      "319          3          2            5       0       1       1       1   \n",
      "320          3          2            5       0       1       1       1   \n",
      "321          3          2            5       0       1       1       1   \n",
      "322          3          2            5       0       1       1       1   \n",
      "323          3          2            5       0       1       1       1   \n",
      "\n",
      "     core-4  core-5  core-6  core-7  \n",
      "0         0       1       1       0  \n",
      "1         0       1       1       0  \n",
      "2         0       1       1       0  \n",
      "3         0       1       1       0  \n",
      "4         0       1       1       0  \n",
      "5         0       1       1       0  \n",
      "6         0       1       1       0  \n",
      "7         0       1       1       0  \n",
      "8         0       1       1       0  \n",
      "9         1       0       1       0  \n",
      "10        1       0       1       0  \n",
      "11        1       0       1       0  \n",
      "12        1       0       1       0  \n",
      "13        1       0       1       0  \n",
      "14        1       0       1       0  \n",
      "15        1       0       1       0  \n",
      "16        1       0       1       0  \n",
      "17        1       0       1       0  \n",
      "18        1       0       1       0  \n",
      "19        1       0       1       0  \n",
      "20        1       0       1       0  \n",
      "21        1       0       1       0  \n",
      "22        1       0       1       0  \n",
      "23        1       0       1       0  \n",
      "24        1       0       1       0  \n",
      "25        1       0       1       0  \n",
      "26        1       0       1       0  \n",
      "27        1       1       0       1  \n",
      "28        1       1       0       1  \n",
      "29        1       1       0       1  \n",
      "..      ...     ...     ...     ...  \n",
      "294       0       1       0       0  \n",
      "295       0       1       0       0  \n",
      "296       0       1       0       0  \n",
      "297       1       1       0       1  \n",
      "298       1       1       0       1  \n",
      "299       1       1       0       1  \n",
      "300       1       1       0       1  \n",
      "301       1       1       0       1  \n",
      "302       1       1       0       1  \n",
      "303       1       1       0       1  \n",
      "304       1       1       0       1  \n",
      "305       1       1       0       1  \n",
      "306       1       0       1       0  \n",
      "307       1       0       1       0  \n",
      "308       1       0       1       0  \n",
      "309       1       0       1       0  \n",
      "310       1       0       1       0  \n",
      "311       1       0       1       0  \n",
      "312       1       0       1       0  \n",
      "313       1       0       1       0  \n",
      "314       1       0       1       0  \n",
      "315       0       1       1       0  \n",
      "316       0       1       1       0  \n",
      "317       0       1       1       0  \n",
      "318       0       1       1       0  \n",
      "319       0       1       1       0  \n",
      "320       0       1       1       0  \n",
      "321       0       1       1       0  \n",
      "322       0       1       1       0  \n",
      "323       0       1       1       0  \n",
      "\n",
      "[324 rows x 18 columns]\n"
     ]
    }
   ],
   "source": [
    "df = power_analysis.create_col(df)"
   ]
  },
  {
   "cell_type": "code",
   "execution_count": 25,
   "metadata": {},
   "outputs": [],
   "source": [
    "df = df.drop(columns=['cores','WU_PWR_AVG','WU_ENERGY','big_cores','lil_cores','total_cores'])\n"
   ]
  },
  {
   "cell_type": "code",
   "execution_count": 89,
   "metadata": {},
   "outputs": [
    {
     "name": "stdout",
     "output_type": "stream",
     "text": [
      "     freq      Rate     Power      Energy  core-0  core-1  core-2  core-3  \\\n",
      "0  100000  5.887958  5.439624  461.927430       1       1       1       0   \n",
      "1  200000  5.888939  5.474008  464.770101       1       1       1       0   \n",
      "2  400000  5.897709  5.441137  461.291977       1       1       1       0   \n",
      "3  600000  5.897312  5.442045  461.399975       1       1       1       0   \n",
      "4  700000  5.908167  5.432657  459.758156       1       1       1       0   \n",
      "\n",
      "   core-4  core-5  core-6  core-7  \n",
      "0       0       1       1       0  \n",
      "1       0       1       1       0  \n",
      "2       0       1       1       0  \n",
      "3       0       1       1       0  \n",
      "4       0       1       1       0  \n",
      "X size: (324, 9)\n",
      "y size (324,)\n"
     ]
    }
   ],
   "source": [
    "print(df.head())\n",
    "X = df[['freq','core-0','core-1','core-2','core-3','core-4','core-5','core-6','core-7']]\n",
    "y = df['Power']\n",
    "\n",
    "print (\"X size:\", X.shape)\n",
    "print (\"y size\", y.shape)\n",
    "\n",
    "X = X.values\n",
    "y = y.values"
   ]
  },
  {
   "cell_type": "code",
   "execution_count": 90,
   "metadata": {},
   "outputs": [],
   "source": [
    "#y = f(y_other).ravel()"
   ]
  },
  {
   "cell_type": "code",
   "execution_count": 91,
   "metadata": {},
   "outputs": [],
   "source": [
    "# all_y_test = np.zeros((0,))\n",
    "# all_y_pred = np.zeros((0,))\n",
    "# #given options and list of data, returns the indices of training and test sets \n",
    "# for train_inds, test_inds in ShuffleSplit(n_splits=5, test_size=0.1).split(X,y):\n",
    "#     # Split off the train and test set\n",
    "#     X_test, y_test = X.iloc[test_inds, :], y[test_inds]\n",
    "#     X_train, y_train = X.iloc[train_inds, :], y[train_inds]\n",
    "    \n",
    "#     # Train the model\n",
    "#     model.fit(X_train, y_train)\n",
    "#     y_pred = model.predict(X_test)\n",
    "    \n",
    "#     # Append the results\n",
    "#     all_y_test = np.concatenate((all_y_test, y_test))\n",
    "#     #print (all_y_test)\n",
    "#     all_y_pred = np.concatenate((all_y_pred, y_pred))"
   ]
  },
  {
   "cell_type": "code",
   "execution_count": 92,
   "metadata": {},
   "outputs": [],
   "source": [
    "#Mesh the input space for evaluations of the real function, the prediction and its MSE\n",
    "x = np.atleast_2d(np.linspace(0, 10, 1000)).T"
   ]
  },
  {
   "cell_type": "code",
   "execution_count": 93,
   "metadata": {},
   "outputs": [],
   "source": [
    "#Instantiate a Gaussian Process Model\n",
    "kernel = C(1.0, (1e-3, 1e3)) * RBF(10, (1e-2, 1e2))\n",
    "gp = GaussianProcessRegressor(kernel=kernel, n_restarts_optimizer=9)"
   ]
  },
  {
   "cell_type": "code",
   "execution_count": 94,
   "metadata": {},
   "outputs": [
    {
     "data": {
      "text/plain": [
       "GaussianProcessRegressor(alpha=1e-10, copy_X_train=True,\n",
       "             kernel=1**2 * RBF(length_scale=10), n_restarts_optimizer=9,\n",
       "             normalize_y=False, optimizer='fmin_l_bfgs_b',\n",
       "             random_state=None)"
      ]
     },
     "execution_count": 94,
     "metadata": {},
     "output_type": "execute_result"
    }
   ],
   "source": [
    "# Fit to data using Maximum Likelihood Estimation of the parameters\n",
    "gp.fit(X, y)"
   ]
  },
  {
   "cell_type": "code",
   "execution_count": 95,
   "metadata": {},
   "outputs": [],
   "source": [
    "# Make the prediction on the meshed x-axis (ask for MSE as well)\n",
    "y_pred, sigma = gp.predict(X, return_std=True)"
   ]
  },
  {
   "cell_type": "code",
   "execution_count": 96,
   "metadata": {},
   "outputs": [
    {
     "name": "stdout",
     "output_type": "stream",
     "text": [
      "[5.439624 5.474008 5.441137 5.442045 5.432657 5.440728 5.463399 5.468053\n",
      " 5.457655 4.567958 4.639552 4.63369  4.623678 4.626373 4.633241 4.626859\n",
      " 4.62793  4.625277 5.387178 5.434772 5.452016 5.460129 5.464754 5.475984\n",
      " 5.458857 5.485718 5.465076 3.554354 3.516393 3.497162 3.504558 3.504021\n",
      " 3.503279 3.503156 3.507025 3.505391 5.631357 5.722359 5.751586 5.755745\n",
      " 5.767213 5.774072 5.776001 5.768005 5.760819 3.606425 3.566931 3.544256\n",
      " 3.548901 3.532185 3.542985 3.535022 3.53615  3.533506 5.313466 5.393193\n",
      " 5.407031 5.417774 5.419539 5.42636  5.412325 5.415992 5.414513 5.707672\n",
      " 5.372265 4.453611 5.438244 5.686908 5.716493 5.72856  5.718141 5.739091\n",
      " 4.60921  4.592627 4.570847 4.565692 4.5394   4.527089 4.530073 4.536751\n",
      " 4.558246 4.643959 4.631189 4.624616 4.615869 4.625859 4.625192 4.624035\n",
      " 4.625227 4.623493 3.525383 3.515857 3.520102 3.511202 3.506298 3.505297\n",
      " 3.514647 3.505711 3.514588 3.517186 3.517468 3.512427 3.511876 3.507136\n",
      " 3.516945 3.519063 3.513573 3.510238 3.485358 3.482843 3.47946  3.478801\n",
      " 3.480809 3.487585 3.4761   3.479925 3.483806 5.585309 5.670621 5.706892\n",
      " 5.691267 5.693681 5.718836 5.70904  5.692936 5.71331  3.548628 3.491929\n",
      " 3.481052 3.476025 3.472588 3.480499 3.479141 3.474207 3.476827 3.462287\n",
      " 3.470102 3.469923 3.469402 3.463079 3.459235 3.458236 3.458064 3.464991\n",
      " 3.490516 3.480215 3.48514  3.492272 3.490974 3.481645 3.487033 3.491869\n",
      " 3.481218 4.514938 4.546268 4.576387 4.578194 4.564936 4.563078 4.578591\n",
      " 4.567886 4.565513 3.527277 3.499264 3.496499 3.484841 3.48907  3.4846\n",
      " 3.482128 3.487512 3.482867 4.539802 4.579594 4.590205 4.594353 4.605506\n",
      " 4.585552 4.59013  4.586253 4.582508 4.581371 4.570476 4.578257 4.578715\n",
      " 4.562921 4.57265  4.572175 4.568298 4.561992 5.371506 5.408345 5.40112\n",
      " 5.408169 5.443606 5.414809 5.421283 5.382336 5.401516 5.616729 5.631605\n",
      " 5.616568 5.618423 5.608315 5.623664 5.610013 5.622836 5.616508 4.664388\n",
      " 4.632278 4.621721 4.623267 4.632451 4.638664 4.618371 4.637696 4.63324\n",
      " 4.443401 4.437409 4.440496 4.457105 4.459584 4.436352 4.425737 4.431695\n",
      " 4.452816 4.498422 4.497901 4.498638 4.503504 4.493055 4.494418 4.497856\n",
      " 4.487056 4.502465 5.562746 5.619244 5.619206 5.614197 5.632361 5.611062\n",
      " 5.610995 5.621728 5.608905 5.316347 5.305736 5.310367 5.300079 5.300469\n",
      " 5.303649 5.297762 5.307803 5.315125 5.42045  5.409733 5.446268 5.432373\n",
      " 5.456588 5.436268 5.440411 5.431898 5.458361 4.585578 4.567497 4.539731\n",
      " 4.54778  4.550773 4.547434 4.555683 4.554623 4.550312 5.375154 5.439121\n",
      " 5.431318 5.427496 5.428059 5.444445 5.460793 5.434495 5.444206 4.61013\n",
      " 4.589742 4.586158 4.567289 4.57245  4.563607 4.574076 4.566917 4.558714\n",
      " 4.479941 4.47706  4.4841   4.46732  4.454362 4.475048 4.468155 4.507249\n",
      " 4.477994 4.562658 4.563643 4.566314 4.572143 4.559864 4.544741 4.554075\n",
      " 4.553013 4.555131 4.640739 4.626884 4.63431  4.617938 4.622381 4.640095\n",
      " 4.622566 4.614088 4.636197 5.398751 5.467117 5.473726 5.477113 5.472407\n",
      " 5.467792 5.48284  5.473673 5.489728]\n"
     ]
    },
    {
     "data": {
      "image/png": "[encoded data removed]",
      "text/plain": [
       "<Figure size 252x252 with 1 Axes>"
      ]
     },
     "metadata": {},
     "output_type": "display_data"
    }
   ],
   "source": [
    "fig, ax = plt.subplots()\n",
    "\n",
    "# Make the plot\n",
    "ax.scatter(y, y_pred, alpha=0.5)\n",
    "print (y)\n",
    "\n",
    "# Make it pretty\n",
    "ax.set_xlim(ax.get_xlim())\n",
    "ax.set_ylim(ax.get_xlim())\n",
    "\n",
    "ax.set_xlabel('True Power (Watts?)')\n",
    "ax.set_ylabel('Pred. Power (Watts?)')\n",
    "\n",
    "fig.set_size_inches(3.5, 3.5)\n",
    "\n",
    "# Add in the goal line\n",
    "ax.plot(ax.get_xlim(), ax.get_ylim(), 'k--');"
   ]
  },
  {
   "cell_type": "code",
   "execution_count": null,
   "metadata": {},
   "outputs": [],
   "source": []
  },
  {
   "cell_type": "code",
   "execution_count": null,
   "metadata": {},
   "outputs": [],
   "source": []
  }
 ],
 "metadata": {
  "kernelspec": {
   "display_name": "Python 3",
   "language": "python",
   "name": "python3"
  },
  "language_info": {
   "codemirror_mode": {
    "name": "ipython",
    "version": 3
   },
   "file_extension": ".py",
   "mimetype": "text/x-python",
   "name": "python",
   "nbconvert_exporter": "python",
   "pygments_lexer": "ipython3",
   "version": "3.6.4"
  }
 },
 "nbformat": 4,
 "nbformat_minor": 2
}
