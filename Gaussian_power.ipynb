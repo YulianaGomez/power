{
 "cells": [
  {
   "cell_type": "code",
   "execution_count": 64,
   "metadata": {},
   "outputs": [],
   "source": [
    "import numpy as np\n",
    "from matplotlib import pyplot as plt\n",
    "\n",
    "from sklearn.gaussian_process import GaussianProcessRegressor\n",
    "from sklearn.gaussian_process.kernels import RBF, ConstantKernel as C\n",
    "\n",
    "import pandas as pd\n",
    "import nbimporter\n",
    "import power_analysis\n",
    "from sklearn.model_selection import train_test_split, GridSearchCV, ShuffleSplit\n",
    "import scipy as sp\n",
    "import pickle as pkl\n",
    "%matplotlib inline\n",
    "\n",
    "np.random.seed(1)"
   ]
  },
  {
   "cell_type": "markdown",
   "metadata": {},
   "source": [
    "## Gaussian Process Regression\n",
    "Designed to solve regression and probabilistic classification problems\n",
    "\n",
    "The advantages of Gaussian processes are:\n",
    "\n",
    "* The prediction interpolates the observations (at least for regular kernels).\n",
    "* The prediction is probabilistic (Gaussian) so that one can compute empirical confidence intervals and decide based on those if one should refit (online fitting, adaptive fitting) the prediction in some region of interest.\n",
    "* Versatile: different kernels can be specified. Common kernels are provided, but it is also possible to specify custom kernels.\n",
    "\n",
    "The disadvantages of Gaussian processes include:\n",
    "\n",
    "* They are not sparse, i.e., they use the whole samples/features information to perform the prediction.\n",
    "* They lose efficiency in high dimensional spaces – namely when the number of features exceeds a few dozens.\n",
    "\n",
    "source: http://scikit-learn.org/stable/modules/gaussian_process.html"
   ]
  },
  {
   "cell_type": "code",
   "execution_count": 65,
   "metadata": {},
   "outputs": [],
   "source": [
    "def f(x):\n",
    "    \"\"\"The function to predict.\"\"\"\n",
    "    return x * np.sin(x)"
   ]
  },
  {
   "cell_type": "code",
   "execution_count": 66,
   "metadata": {},
   "outputs": [
    {
     "name": "stdout",
     "output_type": "stream",
     "text": [
      "  cores    freq      Rate     Power      Energy  WU_PWR_AVG  WU_ENERGY\n",
      "0  0xe6  100000  5.887958  5.439624  461.927430         NaN        NaN\n",
      "1  0xe6  200000  5.888939  5.474008  464.770101         NaN        NaN\n",
      "2  0xe6  400000  5.897709  5.441137  461.291977         NaN        NaN\n",
      "3  0xe6  600000  5.897312  5.442045  461.399975         NaN        NaN\n",
      "4  0xe6  700000  5.908167  5.432657  459.758156         NaN        NaN\n"
     ]
    }
   ],
   "source": [
    "#Import Data\n",
    "#file_path = '/Users/yzamora/power/STREAM_big.results'\n",
    "file_path = '/Users/yzamora/power/all.out'\n",
    "df = pd.read_csv(file_path, sep='\\s+')\n",
    "print (df.head())"
   ]
  },
  {
   "cell_type": "code",
   "execution_count": 67,
   "metadata": {},
   "outputs": [
    {
     "name": "stdout",
     "output_type": "stream",
     "text": [
      "    cores     freq      Rate     Power      Energy  WU_PWR_AVG  WU_ENERGY  \\\n",
      "0    0xe6   100000  5.887958  5.439624  461.927430         NaN        NaN   \n",
      "1    0xe6   200000  5.888939  5.474008  464.770101         NaN        NaN   \n",
      "2    0xe6   400000  5.897709  5.441137  461.291977         NaN        NaN   \n",
      "3    0xe6   600000  5.897312  5.442045  461.399975         NaN        NaN   \n",
      "4    0xe6   700000  5.908167  5.432657  459.758156         NaN        NaN   \n",
      "5    0xe6   800000  5.893648  5.440728  461.575041         NaN        NaN   \n",
      "6    0xe6  1000000  5.892087  5.463399  463.621307         NaN        NaN   \n",
      "7    0xe6  1200000  5.879515  5.468053  465.008695         NaN        NaN   \n",
      "8    0xe6  1400000  5.890988  5.457655  463.220651         NaN        NaN   \n",
      "9    0xda   100000  5.904099  5.387178  456.223404         NaN        NaN   \n",
      "10   0xda   200000  5.900255  5.434772  460.553992         NaN        NaN   \n",
      "11   0xda   400000  5.891115  5.452016  462.731679         NaN        NaN   \n",
      "12   0xda   600000  5.890124  5.460129  463.498338         NaN        NaN   \n",
      "13   0xda   700000  5.886829  5.464754  464.150520         NaN        NaN   \n",
      "14   0xda   800000  5.889059  5.475984  464.928564         NaN        NaN   \n",
      "15   0xda  1000000  5.897247  5.458857  462.830828         NaN        NaN   \n",
      "16   0xda  1200000  5.874792  5.485718  466.885618         NaN        NaN   \n",
      "17   0xda  1400000  5.889206  5.465076  463.990417         NaN        NaN   \n",
      "18   0x2d   100000  5.217183  3.554354  340.638979         NaN        NaN   \n",
      "19   0x2d   200000  5.214908  3.516393  337.147892         NaN        NaN   \n",
      "20   0x2d   400000  5.218577  3.497162  335.068336         NaN        NaN   \n",
      "21   0x2d   600000  5.221351  3.504558  335.598576         NaN        NaN   \n",
      "22   0x2d   700000  5.217522  3.504021  335.793486         NaN        NaN   \n",
      "23   0x2d   800000  5.223293  3.503279  335.351382         NaN        NaN   \n",
      "24   0x2d  1000000  5.220663  3.503156  335.508460         NaN        NaN   \n",
      "25   0x2d  1200000  5.222721  3.507025  335.746791         NaN        NaN   \n",
      "26   0x2d  1400000  5.220195  3.505391  335.752659         NaN        NaN   \n",
      "27   0x7e   100000  5.865554  5.631357  480.036017         NaN        NaN   \n",
      "28   0x7e   200000  5.849438  5.722359  489.136947         NaN        NaN   \n",
      "29   0x7e   400000  5.854089  5.751586  491.244685         NaN        NaN   \n",
      "..    ...      ...       ...       ...         ...         ...        ...   \n",
      "851  0x4e  1000000  5.250843  3.444827  328.026072         NaN        NaN   \n",
      "852  0x4e  1200000  5.245897  3.452810  329.095953         NaN        NaN   \n",
      "853  0x4e  1400000  5.247637  3.443291  328.079865         NaN        NaN   \n",
      "854  0xa9   100000  6.159271  4.526939  367.489664         NaN        NaN   \n",
      "855  0xa9   200000  6.156690  4.586772  372.502762         NaN        NaN   \n",
      "856  0xa9   400000  6.157651  4.583316  372.163884         NaN        NaN   \n",
      "857  0xa9   600000  6.155979  4.593227  373.070164         NaN        NaN   \n",
      "858  0xa9   700000  6.156774  4.582739  372.170191         NaN        NaN   \n",
      "859  0xa9   800000  6.154952  4.593637  373.165939         NaN        NaN   \n",
      "860  0xa9  1000000  6.157669  4.586491  372.420775         NaN        NaN   \n",
      "861  0xa9  1200000  6.158964  4.570123  371.013553         NaN        NaN   \n",
      "862  0xa9  1400000  6.155409  4.596238  373.349195         NaN        NaN   \n",
      "863  0x1e   100000  5.254973  3.487709  331.848187         NaN        NaN   \n",
      "864  0x1e   200000  5.254573  3.471489  330.330230         NaN        NaN   \n",
      "865  0x1e   400000  5.253329  3.466142  329.899423         NaN        NaN   \n",
      "866  0x1e   600000  5.251251  3.476953  331.059470         NaN        NaN   \n",
      "867  0x1e   700000  5.254311  3.472912  330.481958         NaN        NaN   \n",
      "868  0x1e   800000  5.254340  3.473696  330.554827         NaN        NaN   \n",
      "869  0x1e  1000000  5.253418  3.471254  330.380417         NaN        NaN   \n",
      "870  0x1e  1200000  5.253360  3.470936  330.353622         NaN        NaN   \n",
      "871  0x1e  1400000  5.251410  3.477935  331.142886         NaN        NaN   \n",
      "872  0xd3   100000  5.891107  5.298956  449.741471         NaN        NaN   \n",
      "873  0xd3   200000  5.893966  5.382740  456.631291         NaN        NaN   \n",
      "874  0xd3   400000  5.903506  5.400578  457.404113         NaN        NaN   \n",
      "875  0xd3   600000  5.893485  5.417686  459.633229         NaN        NaN   \n",
      "876  0xd3   700000  5.893981  5.411821  459.097222         NaN        NaN   \n",
      "877  0xd3   800000  5.895936  5.421249  459.744142         NaN        NaN   \n",
      "878  0xd3  1000000  5.896034  5.427183  460.239771         NaN        NaN   \n",
      "879  0xd3  1200000  5.895737  5.430571  460.550434         NaN        NaN   \n",
      "880  0xd3  1400000  5.894369  5.441322  461.569388         NaN        NaN   \n",
      "\n",
      "     big_cores  lil_cores  total_cores  core-0  core-1  core-2  core-3  \\\n",
      "0            3          2            5       1       1       1       0   \n",
      "1            3          2            5       1       1       1       0   \n",
      "2            3          2            5       1       1       1       0   \n",
      "3            3          2            5       1       1       1       0   \n",
      "4            3          2            5       1       1       1       0   \n",
      "5            3          2            5       1       1       1       0   \n",
      "6            3          2            5       1       1       1       0   \n",
      "7            3          2            5       1       1       1       0   \n",
      "8            3          2            5       1       1       1       0   \n",
      "9            3          2            5       1       1       0       1   \n",
      "10           3          2            5       1       1       0       1   \n",
      "11           3          2            5       1       1       0       1   \n",
      "12           3          2            5       1       1       0       1   \n",
      "13           3          2            5       1       1       0       1   \n",
      "14           3          2            5       1       1       0       1   \n",
      "15           3          2            5       1       1       0       1   \n",
      "16           3          2            5       1       1       0       1   \n",
      "17           3          2            5       1       1       0       1   \n",
      "18           1          3            4       0       0       1       0   \n",
      "19           1          3            4       0       0       1       0   \n",
      "20           1          3            4       0       0       1       0   \n",
      "21           1          3            4       0       0       1       0   \n",
      "22           1          3            4       0       0       1       0   \n",
      "23           1          3            4       0       0       1       0   \n",
      "24           1          3            4       0       0       1       0   \n",
      "25           1          3            4       0       0       1       0   \n",
      "26           1          3            4       0       0       1       0   \n",
      "27           3          3            6       0       1       1       1   \n",
      "28           3          3            6       0       1       1       1   \n",
      "29           3          3            6       0       1       1       1   \n",
      "..         ...        ...          ...     ...     ...     ...     ...   \n",
      "851          1          3            4       0       1       0       0   \n",
      "852          1          3            4       0       1       0       0   \n",
      "853          1          3            4       0       1       0       0   \n",
      "854          2          2            4       1       0       1       0   \n",
      "855          2          2            4       1       0       1       0   \n",
      "856          2          2            4       1       0       1       0   \n",
      "857          2          2            4       1       0       1       0   \n",
      "858          2          2            4       1       0       1       0   \n",
      "859          2          2            4       1       0       1       0   \n",
      "860          2          2            4       1       0       1       0   \n",
      "861          2          2            4       1       0       1       0   \n",
      "862          2          2            4       1       0       1       0   \n",
      "863          1          3            4       0       0       0       1   \n",
      "864          1          3            4       0       0       0       1   \n",
      "865          1          3            4       0       0       0       1   \n",
      "866          1          3            4       0       0       0       1   \n",
      "867          1          3            4       0       0       0       1   \n",
      "868          1          3            4       0       0       0       1   \n",
      "869          1          3            4       0       0       0       1   \n",
      "870          1          3            4       0       0       0       1   \n",
      "871          1          3            4       0       0       0       1   \n",
      "872          3          2            5       1       1       0       1   \n",
      "873          3          2            5       1       1       0       1   \n",
      "874          3          2            5       1       1       0       1   \n",
      "875          3          2            5       1       1       0       1   \n",
      "876          3          2            5       1       1       0       1   \n",
      "877          3          2            5       1       1       0       1   \n",
      "878          3          2            5       1       1       0       1   \n",
      "879          3          2            5       1       1       0       1   \n",
      "880          3          2            5       1       1       0       1   \n",
      "\n",
      "     core-4  core-5  core-6  core-7  \n",
      "0         0       1       1       0  \n",
      "1         0       1       1       0  \n",
      "2         0       1       1       0  \n",
      "3         0       1       1       0  \n",
      "4         0       1       1       0  \n",
      "5         0       1       1       0  \n",
      "6         0       1       1       0  \n",
      "7         0       1       1       0  \n",
      "8         0       1       1       0  \n",
      "9         1       0       1       0  \n",
      "10        1       0       1       0  \n",
      "11        1       0       1       0  \n",
      "12        1       0       1       0  \n",
      "13        1       0       1       0  \n",
      "14        1       0       1       0  \n",
      "15        1       0       1       0  \n",
      "16        1       0       1       0  \n",
      "17        1       0       1       0  \n",
      "18        1       1       0       1  \n",
      "19        1       1       0       1  \n",
      "20        1       1       0       1  \n",
      "21        1       1       0       1  \n",
      "22        1       1       0       1  \n",
      "23        1       1       0       1  \n",
      "24        1       1       0       1  \n",
      "25        1       1       0       1  \n",
      "26        1       1       0       1  \n",
      "27        1       1       1       0  \n",
      "28        1       1       1       0  \n",
      "29        1       1       1       0  \n",
      "..      ...     ...     ...     ...  \n",
      "851       1       1       1       0  \n",
      "852       1       1       1       0  \n",
      "853       1       1       1       0  \n",
      "854       1       0       0       1  \n",
      "855       1       0       0       1  \n",
      "856       1       0       0       1  \n",
      "857       1       0       0       1  \n",
      "858       1       0       0       1  \n",
      "859       1       0       0       1  \n",
      "860       1       0       0       1  \n",
      "861       1       0       0       1  \n",
      "862       1       0       0       1  \n",
      "863       1       1       1       0  \n",
      "864       1       1       1       0  \n",
      "865       1       1       1       0  \n",
      "866       1       1       1       0  \n",
      "867       1       1       1       0  \n",
      "868       1       1       1       0  \n",
      "869       1       1       1       0  \n",
      "870       1       1       1       0  \n",
      "871       1       1       1       0  \n",
      "872       0       0       1       1  \n",
      "873       0       0       1       1  \n",
      "874       0       0       1       1  \n",
      "875       0       0       1       1  \n",
      "876       0       0       1       1  \n",
      "877       0       0       1       1  \n",
      "878       0       0       1       1  \n",
      "879       0       0       1       1  \n",
      "880       0       0       1       1  \n",
      "\n",
      "[881 rows x 18 columns]\n"
     ]
    }
   ],
   "source": [
    "df = power_analysis.create_col(df)"
   ]
  },
  {
   "cell_type": "code",
   "execution_count": 68,
   "metadata": {},
   "outputs": [],
   "source": [
    "df = df.drop(columns=['cores','WU_PWR_AVG','WU_ENERGY','big_cores','lil_cores','total_cores'])\n"
   ]
  },
  {
   "cell_type": "code",
   "execution_count": 69,
   "metadata": {},
   "outputs": [
    {
     "name": "stdout",
     "output_type": "stream",
     "text": [
      "     freq      Rate     Power      Energy  core-0  core-1  core-2  core-3  \\\n",
      "0  100000  5.887958  5.439624  461.927430       1       1       1       0   \n",
      "1  200000  5.888939  5.474008  464.770101       1       1       1       0   \n",
      "2  400000  5.897709  5.441137  461.291977       1       1       1       0   \n",
      "3  600000  5.897312  5.442045  461.399975       1       1       1       0   \n",
      "4  700000  5.908167  5.432657  459.758156       1       1       1       0   \n",
      "\n",
      "   core-4  core-5  core-6  core-7  \n",
      "0       0       1       1       0  \n",
      "1       0       1       1       0  \n",
      "2       0       1       1       0  \n",
      "3       0       1       1       0  \n",
      "4       0       1       1       0  \n",
      "X size: (881, 9)\n",
      "y size (881,)\n"
     ]
    }
   ],
   "source": [
    "print(df.head())\n",
    "X = df[['freq','core-0','core-1','core-2','core-3','core-4','core-5','core-6','core-7']]\n",
    "y = df['Power']\n",
    "\n",
    "print (\"X size:\", X.shape)\n",
    "print (\"y size\", y.shape)\n",
    "\n",
    "X = X.values\n",
    "y = y.values"
   ]
  },
  {
   "cell_type": "code",
   "execution_count": 70,
   "metadata": {},
   "outputs": [],
   "source": [
    "#y = f(y_otddher).ravel()"
   ]
  },
  {
   "cell_type": "code",
   "execution_count": 71,
   "metadata": {},
   "outputs": [],
   "source": [
    "#Mesh the input space for evaluations of the real function, the prediction and its MSE\n",
    "x = np.atleast_2d(np.linspace(0, 10, 1000)).T"
   ]
  },
  {
   "cell_type": "markdown",
   "metadata": {},
   "source": [
    "## Instantiate a Gaussian Process Model"
   ]
  },
  {
   "cell_type": "code",
   "execution_count": 72,
   "metadata": {},
   "outputs": [],
   "source": [
    "kernel = C(1.0, (1e-3, 1e3)) * RBF(10, (1e-2, 1e2))\n",
    "gp = GaussianProcessRegressor(kernel=kernel, n_restarts_optimizer=9)"
   ]
  },
  {
   "cell_type": "code",
   "execution_count": 73,
   "metadata": {},
   "outputs": [
    {
     "name": "stderr",
     "output_type": "stream",
     "text": [
      "/usr/local/lib/python3.6/site-packages/sklearn/gaussian_process/gpr.py:457: UserWarning: fmin_l_bfgs_b terminated abnormally with the  state: {'grad': array([1266.91842889,   -0.        ]), 'task': b'ABNORMAL_TERMINATION_IN_LNSRCH', 'funcalls': 48, 'nit': 3, 'warnflag': 2}\n",
      "  \" state: %s\" % convergence_dict)\n",
      "/usr/local/lib/python3.6/site-packages/sklearn/gaussian_process/gpr.py:457: UserWarning: fmin_l_bfgs_b terminated abnormally with the  state: {'grad': array([-781.08307283,   -0.        ]), 'task': b'ABNORMAL_TERMINATION_IN_LNSRCH', 'funcalls': 43, 'nit': 2, 'warnflag': 2}\n",
      "  \" state: %s\" % convergence_dict)\n",
      "/usr/local/lib/python3.6/site-packages/sklearn/gaussian_process/gpr.py:457: UserWarning: fmin_l_bfgs_b terminated abnormally with the  state: {'grad': array([1266.91913997,   -0.        ]), 'task': b'ABNORMAL_TERMINATION_IN_LNSRCH', 'funcalls': 48, 'nit': 3, 'warnflag': 2}\n",
      "  \" state: %s\" % convergence_dict)\n"
     ]
    },
    {
     "data": {
      "text/plain": [
       "GaussianProcessRegressor(alpha=1e-10, copy_X_train=True,\n",
       "             kernel=1**2 * RBF(length_scale=10), n_restarts_optimizer=9,\n",
       "             normalize_y=False, optimizer='fmin_l_bfgs_b',\n",
       "             random_state=None)"
      ]
     },
     "execution_count": 73,
     "metadata": {},
     "output_type": "execute_result"
    }
   ],
   "source": [
    "# Fit to data using Maximum Likelihood Estimation of the parameters\n",
    "gp.fit(X, y)"
   ]
  },
  {
   "cell_type": "code",
   "execution_count": 74,
   "metadata": {},
   "outputs": [
    {
     "name": "stderr",
     "output_type": "stream",
     "text": [
      "/usr/local/lib/python3.6/site-packages/sklearn/gaussian_process/gpr.py:335: UserWarning: Predicted variances smaller than 0. Setting those variances to 0.\n",
      "  warnings.warn(\"Predicted variances smaller than 0. \"\n"
     ]
    }
   ],
   "source": [
    "# Make the prediction on the meshed x-axis (ask for MSE as well)\n",
    "y_pred, sigma = gp.predict(X, return_std=True)"
   ]
  },
  {
   "cell_type": "code",
   "execution_count": 75,
   "metadata": {},
   "outputs": [
    {
     "name": "stdout",
     "output_type": "stream",
     "text": [
      "[5.439624 5.474008 5.441137 5.442045 5.432657 5.440728 5.463399 5.468053\n",
      " 5.457655 5.387178 5.434772 5.452016 5.460129 5.464754 5.475984 5.458857\n",
      " 5.485718 5.465076 3.554354 3.516393 3.497162 3.504558 3.504021 3.503279\n",
      " 3.503156 3.507025 3.505391 5.631357 5.722359 5.751586 5.755745 5.767213\n",
      " 5.774072 5.776001 5.768005 5.760819 3.606425 3.566931 3.544256 3.548901\n",
      " 3.532185 3.542985 3.535022 3.53615  3.533506 5.313466 5.393193 5.407031\n",
      " 5.417774 5.419539 5.42636  5.412325 5.415992 5.414513 5.707672 5.372265\n",
      " 4.453611 5.438244 5.686908 5.716493 5.72856  5.718141 5.739091 4.60921\n",
      " 4.592627 4.570847 4.565692 4.5394   4.527089 4.530073 4.536751 4.558246\n",
      " 4.643959 4.631189 4.624616 4.615869 4.625859 4.625192 4.624035 4.625227\n",
      " 4.623493 3.525383 3.515857 3.520102 3.511202 3.506298 3.505297 3.514647\n",
      " 3.505711 3.514588 3.517186 3.517468 3.512427 3.511876 3.507136 3.516945\n",
      " 3.519063 3.513573 3.510238 3.485358 3.482843 3.47946  3.478801 3.480809\n",
      " 3.487585 3.4761   3.479925 3.483806 5.585309 5.670621 5.706892 5.691267\n",
      " 5.693681 5.718836 5.70904  5.692936 5.71331  3.548628 3.491929 3.481052\n",
      " 3.476025 3.472588 3.480499 3.479141 3.474207 3.476827 3.462287 3.470102\n",
      " 3.469923 3.469402 3.463079 3.459235 3.458236 3.458064 3.464991 3.490516\n",
      " 3.480215 3.48514  3.492272 3.490974 3.481645 3.487033 3.491869 3.481218\n",
      " 4.514938 4.546268 4.576387 4.578194 4.564936 4.563078 4.578591 4.567886\n",
      " 4.565513 3.527277 3.499264 3.496499 3.484841 3.48907  3.4846   3.482128\n",
      " 3.487512 3.482867 4.539802 4.579594 4.590205 4.594353 4.605506 4.585552\n",
      " 4.59013  4.586253 4.582508 4.581371 4.570476 4.578257 4.578715 4.562921\n",
      " 4.57265  4.572175 4.568298 4.561992 5.371506 5.408345 5.40112  5.408169\n",
      " 5.443606 5.414809 5.421283 5.382336 5.401516 5.616729 5.631605 5.616568\n",
      " 5.618423 5.608315 5.623664 5.610013 5.622836 5.616508 4.664388 4.632278\n",
      " 4.621721 4.623267 4.632451 4.638664 4.618371 4.637696 4.63324  4.443401\n",
      " 4.437409 4.440496 4.457105 4.459584 4.436352 4.425737 4.431695 4.452816\n",
      " 4.498422 4.497901 4.498638 4.503504 4.493055 4.494418 4.497856 4.487056\n",
      " 4.502465 5.562746 5.619244 5.619206 5.614197 5.632361 5.611062 5.610995\n",
      " 5.621728 5.608905 5.316347 5.305736 5.310367 5.300079 5.300469 5.303649\n",
      " 5.297762 5.307803 5.315125 5.42045  5.409733 5.446268 5.432373 5.456588\n",
      " 5.436268 5.440411 5.431898 5.458361 4.585578 4.567497 4.539731 4.54778\n",
      " 4.550773 4.547434 4.555683 4.554623 4.550312 5.375154 5.439121 5.431318\n",
      " 5.427496 5.428059 5.444445 5.460793 5.434495 5.444206 4.61013  4.589742\n",
      " 4.586158 4.567289 4.57245  4.563607 4.574076 4.566917 4.558714 4.479941\n",
      " 4.47706  4.4841   4.46732  4.454362 4.475048 4.468155 4.507249 4.477994\n",
      " 4.562658 4.563643 4.566314 4.572143 4.559864 4.544741 4.554075 4.553013\n",
      " 4.555131 4.640739 4.626884 4.63431  4.617938 4.622381 4.640095 4.622566\n",
      " 4.614088 4.636197 5.398751 5.467117 5.473726 5.477113 5.472407 5.467792\n",
      " 5.48284  5.473673 5.489728 4.539333 4.610204 4.589785 4.610535 4.611672\n",
      " 4.970313 4.590873 4.582897 4.59229  4.595279 4.598936 4.596988 4.589966\n",
      " 4.57464  4.6043   4.63308  4.620309 4.608742 4.618809 4.530324 4.603884\n",
      " 3.515919 3.488728 3.485024 3.487925 3.489434 3.476794 3.484719 6.249501\n",
      " 6.084923 6.043343 6.0139   6.022013 6.026209 6.013636 3.519392 3.45404\n",
      " 3.442396 3.438592 3.447252 3.436335 3.436988 4.539018 4.584531 4.607615\n",
      " 4.611589 4.599225 4.60442  4.624307 6.016493 5.937535 5.924068 5.92032\n",
      " 5.927559 5.92043  5.920549 6.012932 5.991688 5.982077 5.967581 5.986291\n",
      " 5.987719 5.973545 4.666556 4.621612 4.612486 4.602915 4.597875 4.601728\n",
      " 4.600005 4.601574 4.69674  4.674682 4.647554 4.645001 4.644647 4.648469\n",
      " 4.648847 4.651529 4.607011 4.605512 4.612057 4.606523 4.609782 4.609644\n",
      " 4.616831 4.608815 4.598687 5.397084 5.458037 5.4603   5.469689 5.462403\n",
      " 5.487203 5.463372 5.482087 5.464314 4.771077 4.734055 4.72176  4.709096\n",
      " 4.711727 4.709517 4.682602 4.687656 4.704098 5.403444 5.438565 5.448194\n",
      " 5.452958 5.456848 5.455334 5.451801 5.455645 5.45692  4.627765 4.596216\n",
      " 4.574762 4.593503 4.583128 4.58041  4.576822 4.580951 4.582527 4.563521\n",
      " 4.562557 4.552582 4.530763 4.524802 4.510919 4.512695 4.534652 4.532074\n",
      " 3.502157 3.484405 3.483063 3.482874 3.483515 3.48087  3.489727 3.481597\n",
      " 3.490961 4.431939 4.422832 4.44249  4.455036 4.459139 4.435943 4.442552\n",
      " 4.452143 4.467533 3.529871 3.51151  3.50858  3.502659 3.497962 3.495718\n",
      " 3.497808 3.49292  3.494279 4.60092  4.6462   4.652774 4.639785 4.655815\n",
      " 4.682653 4.994317 4.686649 4.648919 4.594961 4.60556  4.614091 4.518327\n",
      " 4.590057 4.599579 4.592366 4.608095 4.589286 4.617152 4.627397 4.61959\n",
      " 4.615099 4.616573 4.609954 4.600284 4.604692 4.619151 4.620408 4.607886\n",
      " 4.600459 4.615991 4.628101 4.62896  4.623669 4.611043 4.618951 3.515376\n",
      " 3.498036 3.488743 3.493048 3.488722 3.497181 3.48878  3.501595 3.493394\n",
      " 3.488549 3.488532 3.487535 3.478011 3.486215 3.481922 3.485983 3.487131\n",
      " 3.484431 5.369974 5.441553 5.469037 5.464643 5.466589 5.44636  5.468585\n",
      " 5.458438 5.468872 3.538848 3.507516 3.502401 3.495295 3.497631 3.495265\n",
      " 3.497755 3.496093 3.493486 5.366451 5.455479 5.469893 5.4509   5.462342\n",
      " 5.491596 5.470368 5.501116 5.479924 4.623613 4.58549  4.570231 4.582674\n",
      " 4.57328  4.576958 4.570978 4.570246 4.567618 4.564581 4.570182 4.568532\n",
      " 4.563634 4.565869 4.574966 4.565847 4.565373 4.724952 3.53854  3.526898\n",
      " 3.509376 3.518169 3.515561 3.514465 3.513339 3.511839 3.513004 5.586214\n",
      " 5.682053 5.701876 3.549093 3.547387 3.549598 3.536197 3.535735 3.535417\n",
      " 3.533109 5.655135 5.755713 5.78008  5.796508 5.830538 5.854131 5.720963\n",
      " 5.718638 5.720947 4.678001 4.650199 4.628585 4.617016 4.614387 4.617809\n",
      " 4.60732  4.601737 4.620208 4.621635 4.623594 4.623803 4.628488 4.626383\n",
      " 4.613771 4.625288 4.60471  4.629428 4.591519 4.582352 4.581332 4.599377\n",
      " 4.590065 4.580791 4.600792 4.58449  4.591089 4.570438 4.581119 4.580854\n",
      " 4.586025 4.595006 4.582498 4.590874 4.58454  4.590333 4.621711 4.61484\n",
      " 4.608898 4.608779 4.610522 4.604679 4.609075 4.615323 4.615505 4.427931\n",
      " 4.446676 4.447266 4.423794 4.430949 4.440118 4.438395 4.43425  4.445803\n",
      " 4.521013 4.531228 4.537452 4.533013 4.533759 4.53058  4.537013 4.543798\n",
      " 4.528731 5.61849  5.68797  5.70829  5.705192 5.711788 5.720252 5.826241\n",
      " 5.712517 5.72333  4.703913 4.659639 4.646164 4.636872 4.633949 4.632067\n",
      " 4.623032 4.626067 4.630847 3.499358 3.495073 3.487391 3.484857 3.476129\n",
      " 3.478133 3.480056 3.485811 3.478184 4.583072 4.606419 4.618014 4.600766\n",
      " 4.613834 4.614217 4.61327  4.611925 4.631832 4.494052 4.493569 4.492627\n",
      " 4.504276 4.491072 4.462092 4.490552 4.497919 4.492616 3.532418 3.519664\n",
      " 3.527982 3.52574  3.519233 3.520701 3.51676  3.509401 3.514643 5.379585\n",
      " 5.453454 5.494664 5.485348 5.499848 5.502839 5.500544 5.510771 5.500251\n",
      " 3.541038 3.497763 3.491162 3.486433 3.482167 3.487145 3.474343 3.475832\n",
      " 3.477057 3.51732  3.514527 3.510454 3.503861 3.512871 3.50219  3.511102\n",
      " 3.50317  3.511278 4.530292 4.568502 4.554211 4.554897 4.55356  4.559319\n",
      " 4.562596 4.56317  4.566162 5.642642 5.701011 5.722245 5.713452 5.713145\n",
      " 5.725247 5.711165 5.713784 5.727609 5.722836 5.718071 5.723279 5.728781\n",
      " 5.715651 5.723562 5.72793  5.712252 5.729198 4.604392 4.56683  4.54314\n",
      " 4.544517 4.535281 4.539558 4.536794 4.545698 4.543586 4.586752 4.594177\n",
      " 4.588144 4.586058 4.594743 4.600946 4.598882 4.607802 4.603465 3.517872\n",
      " 3.494706 3.489696 3.495006 3.493945 3.491415 3.48999  3.491142 3.482771\n",
      " 4.499915 4.528885 4.526007 4.539032 4.53383  4.523393 4.531075 4.533776\n",
      " 4.529808 3.523931 3.506389 3.501498 3.502521 3.494074 3.490115 3.498422\n",
      " 3.498101 3.488385 4.526319 4.575539 4.569646 4.583158 4.597699 4.580278\n",
      " 4.583573 4.580583 4.574147 4.447717 4.417381 4.453212 4.420177 4.442754\n",
      " 4.481505 4.463714 4.458456 4.453143 4.448343 4.452843 4.463402 4.448228\n",
      " 4.463365 4.456516 4.448234 4.45258  4.477054 3.479313 3.451548 3.454908\n",
      " 3.448626 3.443761 3.445648 3.444827 3.45281  3.443291 4.526939 4.586772\n",
      " 4.583316 4.593227 4.582739 4.593637 4.586491 4.570123 4.596238 3.487709\n",
      " 3.471489 3.466142 3.476953 3.472912 3.473696 3.471254 3.470936 3.477935\n",
      " 5.298956 5.38274  5.400578 5.417686 5.411821 5.421249 5.427183 5.430571\n",
      " 5.441322]\n"
     ]
    },
    {
     "data": {
      "image/png": "[encoded data removed]",
      "text/plain": [
       "<Figure size 252x252 with 1 Axes>"
      ]
     },
     "metadata": {},
     "output_type": "display_data"
    }
   ],
   "source": [
    "fig, ax = plt.subplots()\n",
    "\n",
    "# Make the plot\n",
    "ax.scatter(y, y_pred, alpha=0.5)\n",
    "print (y)\n",
    "\n",
    "# Make it pretty\n",
    "ax.set_xlim(ax.get_xlim())\n",
    "ax.set_ylim(ax.get_xlim())\n",
    "\n",
    "ax.set_xlabel('True Power (Watts)')\n",
    "ax.set_ylabel('Pred. Power (Watts)')\n",
    "\n",
    "fig.set_size_inches(3.5, 3.5)\n",
    "\n",
    "# Add in the goal line\n",
    "ax.plot(ax.get_xlim(), ax.get_ylim(), 'k--');"
   ]
  },
  {
   "cell_type": "markdown",
   "metadata": {},
   "source": [
    "## Estimating Prediction Accuracy\n",
    "Using cross-validation to train a model on one subset of the training data and evaluate it on antoher"
   ]
  },
  {
   "cell_type": "code",
   "execution_count": 76,
   "metadata": {},
   "outputs": [
    {
     "name": "stderr",
     "output_type": "stream",
     "text": [
      "/usr/local/lib/python3.6/site-packages/sklearn/gaussian_process/gpr.py:457: UserWarning: fmin_l_bfgs_b terminated abnormally with the  state: {'grad': array([89.66561476, -0.        ]), 'task': b'ABNORMAL_TERMINATION_IN_LNSRCH', 'funcalls': 44, 'nit': 2, 'warnflag': 2}\n",
      "  \" state: %s\" % convergence_dict)\n",
      "/usr/local/lib/python3.6/site-packages/sklearn/gaussian_process/gpr.py:457: UserWarning: fmin_l_bfgs_b terminated abnormally with the  state: {'grad': array([ 2.13719659e+03, -3.67443148e-37]), 'task': b'ABNORMAL_TERMINATION_IN_LNSRCH', 'funcalls': 49, 'nit': 3, 'warnflag': 2}\n",
      "  \" state: %s\" % convergence_dict)\n",
      "/usr/local/lib/python3.6/site-packages/sklearn/gaussian_process/gpr.py:457: UserWarning: fmin_l_bfgs_b terminated abnormally with the  state: {'grad': array([  -4.05196637, -126.36672998]), 'task': b'ABNORMAL_TERMINATION_IN_LNSRCH', 'funcalls': 67, 'nit': 13, 'warnflag': 2}\n",
      "  \" state: %s\" % convergence_dict)\n",
      "/usr/local/lib/python3.6/site-packages/sklearn/gaussian_process/gpr.py:457: UserWarning: fmin_l_bfgs_b terminated abnormally with the  state: {'grad': array([-13.19339003,  18.2713271 ]), 'task': b'ABNORMAL_TERMINATION_IN_LNSRCH', 'funcalls': 113, 'nit': 10, 'warnflag': 2}\n",
      "  \" state: %s\" % convergence_dict)\n",
      "/usr/local/lib/python3.6/site-packages/sklearn/gaussian_process/gpr.py:457: UserWarning: fmin_l_bfgs_b terminated abnormally with the  state: {'grad': array([150.19264899,  -0.        ]), 'task': b'ABNORMAL_TERMINATION_IN_LNSRCH', 'funcalls': 74, 'nit': 4, 'warnflag': 2}\n",
      "  \" state: %s\" % convergence_dict)\n",
      "/usr/local/lib/python3.6/site-packages/sklearn/gaussian_process/gpr.py:457: UserWarning: fmin_l_bfgs_b terminated abnormally with the  state: {'grad': array([167.40206436,  -0.        ]), 'task': b'ABNORMAL_TERMINATION_IN_LNSRCH', 'funcalls': 56, 'nit': 5, 'warnflag': 2}\n",
      "  \" state: %s\" % convergence_dict)\n",
      "/usr/local/lib/python3.6/site-packages/sklearn/gaussian_process/gpr.py:457: UserWarning: fmin_l_bfgs_b terminated abnormally with the  state: {'grad': array([2198.16352983,   -0.        ]), 'task': b'ABNORMAL_TERMINATION_IN_LNSRCH', 'funcalls': 47, 'nit': 2, 'warnflag': 2}\n",
      "  \" state: %s\" % convergence_dict)\n",
      "/usr/local/lib/python3.6/site-packages/sklearn/gaussian_process/gpr.py:457: UserWarning: fmin_l_bfgs_b terminated abnormally with the  state: {'grad': array([-930.08203435,   -0.        ]), 'task': b'ABNORMAL_TERMINATION_IN_LNSRCH', 'funcalls': 57, 'nit': 3, 'warnflag': 2}\n",
      "  \" state: %s\" % convergence_dict)\n",
      "/usr/local/lib/python3.6/site-packages/sklearn/gaussian_process/gpr.py:457: UserWarning: fmin_l_bfgs_b terminated abnormally with the  state: {'grad': array([-2.97655384, 10.52773558]), 'task': b'ABNORMAL_TERMINATION_IN_LNSRCH', 'funcalls': 168, 'nit': 10, 'warnflag': 2}\n",
      "  \" state: %s\" % convergence_dict)\n",
      "/usr/local/lib/python3.6/site-packages/sklearn/gaussian_process/gpr.py:457: UserWarning: fmin_l_bfgs_b terminated abnormally with the  state: {'grad': array([ 2.05688657e+02, -2.35418164e-08]), 'task': b'ABNORMAL_TERMINATION_IN_LNSRCH', 'funcalls': 52, 'nit': 4, 'warnflag': 2}\n",
      "  \" state: %s\" % convergence_dict)\n",
      "/usr/local/lib/python3.6/site-packages/sklearn/gaussian_process/gpr.py:457: UserWarning: fmin_l_bfgs_b terminated abnormally with the  state: {'grad': array([1227.86828554,   -0.        ]), 'task': b'ABNORMAL_TERMINATION_IN_LNSRCH', 'funcalls': 94, 'nit': 5, 'warnflag': 2}\n",
      "  \" state: %s\" % convergence_dict)\n",
      "/usr/local/lib/python3.6/site-packages/sklearn/gaussian_process/gpr.py:457: UserWarning: fmin_l_bfgs_b terminated abnormally with the  state: {'grad': array([  16.30445118, -153.3748787 ]), 'task': b'ABNORMAL_TERMINATION_IN_LNSRCH', 'funcalls': 53, 'nit': 10, 'warnflag': 2}\n",
      "  \" state: %s\" % convergence_dict)\n",
      "/usr/local/lib/python3.6/site-packages/sklearn/gaussian_process/gpr.py:457: UserWarning: fmin_l_bfgs_b terminated abnormally with the  state: {'grad': array([-817.48948853,   -0.        ]), 'task': b'ABNORMAL_TERMINATION_IN_LNSRCH', 'funcalls': 49, 'nit': 3, 'warnflag': 2}\n",
      "  \" state: %s\" % convergence_dict)\n",
      "/usr/local/lib/python3.6/site-packages/sklearn/gaussian_process/gpr.py:457: UserWarning: fmin_l_bfgs_b terminated abnormally with the  state: {'grad': array([ 109.2342827 , -902.54986399]), 'task': b'ABNORMAL_TERMINATION_IN_LNSRCH', 'funcalls': 21, 'nit': 0, 'warnflag': 2}\n",
      "  \" state: %s\" % convergence_dict)\n"
     ]
    }
   ],
   "source": [
    "all_y_test = np.zeros((0,))\n",
    "all_y_pred = np.zeros((0,))\n",
    "for train_inds, test_inds in ShuffleSplit(n_splits=5, test_size=0.1).split(X,y):\n",
    "    # Split off the train and test set\n",
    "    X_test, y_test = X[test_inds, :], y[test_inds]\n",
    "    X_train, y_train = X[train_inds, :], y[train_inds]\n",
    "    #print(test_inds)\n",
    "    #print(X_test.shape)\n",
    "    #print(y_test.shape)\n",
    "    #print(X[test_inds])\n",
    "    #print(X[train_inds, :])\n",
    "    # Train the model\n",
    "    gp.fit(X_train, y_train)\n",
    "    y_pred = gp.predict(X_test)\n",
    "    \n",
    "    # Append the results\n",
    "    all_y_test = np.concatenate((all_y_test, y_test))\n",
    "    all_y_pred = np.concatenate((all_y_pred, y_pred))"
   ]
  },
  {
   "cell_type": "code",
   "execution_count": 77,
   "metadata": {},
   "outputs": [
    {
     "name": "stdout",
     "output_type": "stream",
     "text": [
      "R: 0.001008808576221049\n",
      "MAE: 4.579280204494382 Watts\n",
      "RMSE: 4.6543361293446495 Watts\n"
     ]
    }
   ],
   "source": [
    "print (\"R:\", sp.stats.pearsonr(all_y_test, all_y_pred)[0])\n",
    "print (\"MAE:\", np.abs(all_y_test - all_y_pred).mean(), 'Watts')\n",
    "print (\"RMSE:\", np.sqrt(np.power(all_y_test - all_y_pred, 2).mean()), 'Watts')"
   ]
  },
  {
   "cell_type": "code",
   "execution_count": 78,
   "metadata": {},
   "outputs": [
    {
     "data": {
      "image/png": "[encoded data removed]",
      "text/plain": [
       "<Figure size 252x252 with 1 Axes>"
      ]
     },
     "metadata": {},
     "output_type": "display_data"
    }
   ],
   "source": [
    "fig, ax = plt.subplots()\n",
    "\n",
    "# Make the plot\n",
    "ax.scatter(all_y_test, all_y_pred, alpha=0.5)\n",
    "\n",
    "# Make it pretty\n",
    "ax.set_xlim(ax.get_xlim())\n",
    "ax.set_ylim(ax.get_xlim())\n",
    "\n",
    "ax.set_xlabel('True Power (Watts)')\n",
    "ax.set_ylabel('Pred. Power (Watts)')\n",
    "\n",
    "fig.set_size_inches(3.5, 3.5)\n",
    "\n",
    "# Add in the goal line\n",
    "ax.plot(ax.get_xlim(), ax.get_ylim(), 'k--');"
   ]
  },
  {
   "cell_type": "markdown",
   "metadata": {},
   "source": [
    "## Saving model"
   ]
  },
  {
   "cell_type": "code",
   "execution_count": 79,
   "metadata": {},
   "outputs": [
    {
     "name": "stderr",
     "output_type": "stream",
     "text": [
      "/usr/local/lib/python3.6/site-packages/sklearn/gaussian_process/gpr.py:457: UserWarning: fmin_l_bfgs_b terminated abnormally with the  state: {'grad': array([1266.91842889,   -0.        ]), 'task': b'ABNORMAL_TERMINATION_IN_LNSRCH', 'funcalls': 48, 'nit': 3, 'warnflag': 2}\n",
      "  \" state: %s\" % convergence_dict)\n",
      "/usr/local/lib/python3.6/site-packages/sklearn/gaussian_process/gpr.py:457: UserWarning: fmin_l_bfgs_b terminated abnormally with the  state: {'grad': array([-1805.16278495,    -0.        ]), 'task': b'ABNORMAL_TERMINATION_IN_LNSRCH', 'funcalls': 50, 'nit': 3, 'warnflag': 2}\n",
      "  \" state: %s\" % convergence_dict)\n",
      "/usr/local/lib/python3.6/site-packages/sklearn/gaussian_process/gpr.py:457: UserWarning: fmin_l_bfgs_b terminated abnormally with the  state: {'grad': array([  62.51081247, -108.51788472]), 'task': b'ABNORMAL_TERMINATION_IN_LNSRCH', 'funcalls': 51, 'nit': 2, 'warnflag': 2}\n",
      "  \" state: %s\" % convergence_dict)\n"
     ]
    },
    {
     "data": {
      "text/plain": [
       "GaussianProcessRegressor(alpha=1e-10, copy_X_train=True,\n",
       "             kernel=1**2 * RBF(length_scale=10), n_restarts_optimizer=9,\n",
       "             normalize_y=False, optimizer='fmin_l_bfgs_b',\n",
       "             random_state=None)"
      ]
     },
     "execution_count": 79,
     "metadata": {},
     "output_type": "execute_result"
    }
   ],
   "source": [
    "gp.fit(X,y)"
   ]
  },
  {
   "cell_type": "code",
   "execution_count": 80,
   "metadata": {},
   "outputs": [],
   "source": [
    "pkl.dump(gp, open('power_gaus-model.pkl', 'wb'))"
   ]
  },
  {
   "cell_type": "code",
   "execution_count": 81,
   "metadata": {},
   "outputs": [
    {
     "name": "stdout",
     "output_type": "stream",
     "text": [
      "GaussianProcessRegressor(alpha=1e-10, copy_X_train=True,\n",
      "             kernel=1**2 * RBF(length_scale=10), n_restarts_optimizer=9,\n",
      "             normalize_y=False, optimizer='fmin_l_bfgs_b',\n",
      "             random_state=None)\n"
     ]
    },
    {
     "data": {
      "text/plain": [
       "array([3.549093])"
      ]
     },
     "execution_count": 81,
     "metadata": {},
     "output_type": "execute_result"
    }
   ],
   "source": [
    "with open (\"power_gaus-model.pkl\", 'rb') as fp:\n",
    "    model2 = pkl.load(fp)\n",
    "print (model2)\n",
    "model2.predict([[400000,0,1,0,0,0,0,0,1]])"
   ]
  },
  {
   "cell_type": "code",
   "execution_count": 47,
   "metadata": {},
   "outputs": [],
   "source": [
    "# from sklearn.metrics import (brier_score_loss, precision_score, recall_score,\n",
    "#                              f1_score)\n",
    "# print(\"\\tF1: %1.3f\\n\" % f1_score(all_y_test, all_y_pred))\n"
   ]
  },
  {
   "cell_type": "code",
   "execution_count": null,
   "metadata": {},
   "outputs": [],
   "source": []
  }
 ],
 "metadata": {
  "kernelspec": {
   "display_name": "Python 3",
   "language": "python",
   "name": "python3"
  },
  "language_info": {
   "codemirror_mode": {
    "name": "ipython",
    "version": 3
   },
   "file_extension": ".py",
   "mimetype": "text/x-python",
   "name": "python",
   "nbconvert_exporter": "python",
   "pygments_lexer": "ipython3",
   "version": "3.6.4"
  }
 },
 "nbformat": 4,
 "nbformat_minor": 2
}
