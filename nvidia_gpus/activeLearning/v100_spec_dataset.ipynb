{
 "cells": [
  {
   "cell_type": "markdown",
   "metadata": {},
   "source": [
    "# Specified Kernels\n",
    "Creating v100 dataset from kernels found in P100 active learning model"
   ]
  },
  {
   "cell_type": "code",
   "execution_count": 111,
   "metadata": {},
   "outputs": [],
   "source": [
    "import pandas as pd\n",
    "df = pd.read_csv(\"indices_size500_both.txt\", index_col = 0)"
   ]
  },
  {
   "cell_type": "code",
   "execution_count": 112,
   "metadata": {},
   "outputs": [
    {
     "name": "stdout",
     "output_type": "stream",
     "text": [
      "Size of specified kernels (2999, 0)\n"
     ]
    }
   ],
   "source": [
    "print(\"Size of specified kernels\", df.shape)\n",
    "#print(df.index)"
   ]
  },
  {
   "cell_type": "code",
   "execution_count": 113,
   "metadata": {},
   "outputs": [],
   "source": [
    "#df_v100 = pd.read_csv(\"/Users/yzamora/power/nvidia_gpus/all_apps/v100_all_data.csv\", index_col = 0)"
   ]
  },
  {
   "cell_type": "code",
   "execution_count": 114,
   "metadata": {},
   "outputs": [],
   "source": [
    "#df_p100 = pd.read_csv(\"/Users/yzamora/power/nvidia_gpus/all_apps/p100_all_data.csv\", index_col = 0)"
   ]
  },
  {
   "cell_type": "code",
   "execution_count": 115,
   "metadata": {},
   "outputs": [],
   "source": [
    "df_p100 = pd.read_csv('/Users/yzamora/power/nvidia_gpus/all_apps/cor_p100.csv', index_col = 0)\n",
    "df_v100 = pd.read_csv('/Users/yzamora/power/nvidia_gpus/all_apps/cor_v100.csv', index_col = 0)"
   ]
  },
  {
   "cell_type": "code",
   "execution_count": 116,
   "metadata": {},
   "outputs": [],
   "source": [
    "#df_p100 = pd.read_csv('/Users/yzamora/power/nvidia_gpus/all_apps/new_df.csv', index_col = 0)\n",
    "#df_v100 = pd.read_csv('/Users/yzamora/power/nvidia_gpus/all_apps/new_df.csv', index_col = 0)"
   ]
  },
  {
   "cell_type": "code",
   "execution_count": 117,
   "metadata": {},
   "outputs": [
    {
     "name": "stdout",
     "output_type": "stream",
     "text": [
      "(20582, 120)\n",
      "(20582, 120)\n"
     ]
    }
   ],
   "source": [
    "print(df_p100.shape)\n",
    "print(df_v100.shape)"
   ]
  },
  {
   "cell_type": "code",
   "execution_count": null,
   "metadata": {},
   "outputs": [],
   "source": []
  },
  {
   "cell_type": "code",
   "execution_count": null,
   "metadata": {},
   "outputs": [],
   "source": []
  },
  {
   "cell_type": "code",
   "execution_count": 118,
   "metadata": {},
   "outputs": [
    {
     "data": {
      "text/plain": [
       "\"\\ncount = 0\\np = np.array(list(df_p100.index))\\nv = []\\nfor index in index_list_V100:\\n    v.append(index.replace('V', 'P'))\\nv = np.array(v)\\n#v = np.array(list(df_v100.index))\\n#p = [1,2,3,1,2]\\n#v = [1,3,23,24]\\n#print(v)\\nsame = set(p).intersection(v)\\nprint(len(same))\\nprint(len(p))\""
      ]
     },
     "execution_count": 118,
     "metadata": {},
     "output_type": "execute_result"
    }
   ],
   "source": [
    "import numpy as np\n",
    "#debugging lists\n",
    "\"\"\"\n",
    "count = 0\n",
    "p = np.array(list(df_p100.index))\n",
    "v = []\n",
    "for index in index_list_V100:\n",
    "    v.append(index.replace('V', 'P'))\n",
    "v = np.array(v)\n",
    "#v = np.array(list(df_v100.index))\n",
    "#p = [1,2,3,1,2]\n",
    "#v = [1,3,23,24]\n",
    "#print(v)\n",
    "same = set(p).intersection(v)\n",
    "print(len(same))\n",
    "print(len(p))\"\"\""
   ]
  },
  {
   "cell_type": "code",
   "execution_count": 119,
   "metadata": {},
   "outputs": [],
   "source": [
    "# Create index lists\n",
    "index_list_P100 = list(df.index)\n",
    "index_list_V100 = []\n",
    "for index in index_list_P100:\n",
    "    index_list_V100.append(index.replace('P', 'V'))\n",
    "# Initrialize new dataframes\n",
    "df_v100_new = {'index':[]}\n",
    "for col in df_v100.columns:\n",
    "    df_v100_new[col] = []\n",
    "df_p100_new = {'index':[]}\n",
    "for col in df_p100.columns:\n",
    "    df_p100_new[col] = []\n",
    "    "
   ]
  },
  {
   "cell_type": "code",
   "execution_count": 120,
   "metadata": {},
   "outputs": [
    {
     "name": "stdout",
     "output_type": "stream",
     "text": [
      "121\n",
      "121\n",
      "2999\n",
      "2999\n"
     ]
    }
   ],
   "source": [
    "print(len(df_p100_new))\n",
    "print(len(df_v100_new))\n",
    "print(len(index_list_P100))\n",
    "print(len(index_list_V100))"
   ]
  },
  {
   "cell_type": "code",
   "execution_count": 121,
   "metadata": {},
   "outputs": [
    {
     "name": "stdout",
     "output_type": "stream",
     "text": [
      "(2998, 120)\n"
     ]
    }
   ],
   "source": [
    "# Build new v100 dataframe\n",
    "for i, index in enumerate(df_v100.index):\n",
    "    if index in index_list_V100:\n",
    "        df_v100_new['index'].append(index)\n",
    "        for col in df_v100.columns:\n",
    "            df_v100_new[col].append(df_v100[col][i])\n",
    "df_v100_new = pd.DataFrame(df_v100_new).set_index('index')\n",
    "df_v100_new.index.name = None\n",
    "print(df_v100_new.shape)"
   ]
  },
  {
   "cell_type": "code",
   "execution_count": 122,
   "metadata": {},
   "outputs": [
    {
     "name": "stdout",
     "output_type": "stream",
     "text": [
      "(2999, 120)\n"
     ]
    }
   ],
   "source": [
    "# Build new p100 dataframe\n",
    "for i, index in enumerate(df_p100.index):\n",
    "    if index in index_list_P100:\n",
    "        df_p100_new['index'].append(index)\n",
    "        for col in df_p100.columns:\n",
    "            df_p100_new[col].append(df_p100[col][i])\n",
    "df_p100_new = pd.DataFrame(df_p100_new).set_index('index')\n",
    "df_p100_new.index.name = None\n",
    "\n",
    "print(df_p100_new.shape)"
   ]
  },
  {
   "cell_type": "code",
   "execution_count": 123,
   "metadata": {},
   "outputs": [
    {
     "name": "stdout",
     "output_type": "stream",
     "text": [
      "(2999, 120)\n",
      "(2998, 120)\n"
     ]
    }
   ],
   "source": [
    "print(df_p100_new.shape)\n",
    "print(df_v100_new.shape)"
   ]
  },
  {
   "cell_type": "code",
   "execution_count": 25,
   "metadata": {},
   "outputs": [
    {
     "data": {
      "text/plain": [
       "\"\\nfrom_scratch = True\\ndf = pd.read_csv('/Users/yzamora/power/nvidia_gpus/all_apps/all_data.csv', index_col = 0)\\ndf = df.dropna(axis=1,how='any')\\nif from_scratch:\\n    df_check = None\\n    frames = []\\n    frame2 = []\\n    df_v = []\\n    df_p = []\\n    for name, item in df.groupby(['kernelname', 'input']):\\n        df_1 = df[ df['kernelname'] == name[0] ]\\n        df_2 = df_1[ df_1['input'] == name[1] ]\\n        if len(df_2) == 2:\\n            df_v = df_2[df_2['architecture'] == 'V100']\\n            df_p = df_2[df_2['architecture'] == 'P100']\\n            #df_p['ipc'][0] = df_v.iloc[0]['ipc']\\n            frames.append(df_p)\\n            frame2.append(df_v)\\n\\n    new_df = pd.concat(frames)\\n    new_v = pd.concat(frame2)\""
      ]
     },
     "execution_count": 25,
     "metadata": {},
     "output_type": "execute_result"
    }
   ],
   "source": [
    "#Creating two data sets \n",
    "\"\"\"\n",
    "from_scratch = True\n",
    "df = pd.read_csv('/Users/yzamora/power/nvidia_gpus/all_apps/all_data.csv', index_col = 0)\n",
    "df = df.dropna(axis=1,how='any')\n",
    "if from_scratch:\n",
    "    df_check = None\n",
    "    frames = []\n",
    "    frame2 = []\n",
    "    df_v = []\n",
    "    df_p = []\n",
    "    for name, item in df.groupby(['kernelname', 'input']):\n",
    "        df_1 = df[ df['kernelname'] == name[0] ]\n",
    "        df_2 = df_1[ df_1['input'] == name[1] ]\n",
    "        if len(df_2) == 2:\n",
    "            df_v = df_2[df_2['architecture'] == 'V100']\n",
    "            df_p = df_2[df_2['architecture'] == 'P100']\n",
    "            #df_p['ipc'][0] = df_v.iloc[0]['ipc']\n",
    "            frames.append(df_p)\n",
    "            frame2.append(df_v)\n",
    "\n",
    "    new_df = pd.concat(frames)\n",
    "    new_v = pd.concat(frame2)\"\"\""
   ]
  },
  {
   "cell_type": "code",
   "execution_count": 26,
   "metadata": {},
   "outputs": [],
   "source": [
    "#Creating specialized v100 points \n",
    "#run for just kernel names\n",
    "kernel_only = False\n",
    "if kernel_only:\n",
    "    spec_v100 = {}\n",
    "    for ind,row in df.iterrows():\n",
    "        ind = ind.replace('P', 'V')\n",
    "        #import pdb; pdb.set_trace()\n",
    "        if ind in df_v100.index:\n",
    "            spec_v100[ind] = df_v100.loc[ind]\n",
    "if kernel_only:\n",
    "    spec_p100 = {}\n",
    "    for ind,row in df.iterrows():\n",
    "        ind2 = ind.replace('P', 'V')\n",
    "        #import pdb; pdb.set_trace()\n",
    "        if ind in df_p100.index and ind2 in df_v100.index:\n",
    "            spec_p100[ind] = df_p100.loc[ind]\n",
    "\n"
   ]
  },
  {
   "cell_type": "code",
   "execution_count": null,
   "metadata": {},
   "outputs": [],
   "source": []
  },
  {
   "cell_type": "code",
   "execution_count": 94,
   "metadata": {},
   "outputs": [],
   "source": [
    "import pandas as pd\n",
    "#spec_v100_df = pd.DataFrame.from_dict(spec_v100, orient='columns')\n",
    "#spec_p100_df = pd.DataFrame.from_dict(spec_p100, orient='columns')\n",
    "#df_p100_new\n",
    "#df_v100_new\n",
    "df_p100_new.to_csv('spec_PV100_2678.csv')\n",
    "df_v100_new.to_csv('spec_v100_2678.csv')"
   ]
  },
  {
   "cell_type": "code",
   "execution_count": 40,
   "metadata": {},
   "outputs": [],
   "source": [
    "test = pd.read_csv('spec_p100.csv')"
   ]
  },
  {
   "cell_type": "code",
   "execution_count": 42,
   "metadata": {},
   "outputs": [
    {
     "data": {
      "text/plain": [
       "RangeIndex(start=0, stop=9719, step=1)"
      ]
     },
     "execution_count": 42,
     "metadata": {},
     "output_type": "execute_result"
    }
   ],
   "source": [
    "test.index"
   ]
  },
  {
   "cell_type": "code",
   "execution_count": null,
   "metadata": {},
   "outputs": [],
   "source": [
    "#Use if not converting to Dataframe first\n",
    "#saving active learning points - need to put all information\n",
    "\"\"\"\n",
    "import csv\n",
    "with open('spec_v100.csv', 'w') as f:\n",
    "    for key in spec_v100.keys():\n",
    "        f.write(\"%s,%s\\n\"%(key,spec_v100[key]))\n",
    "\"\"\""
   ]
  },
  {
   "cell_type": "code",
   "execution_count": null,
   "metadata": {},
   "outputs": [],
   "source": [
    "\"\"\"\n",
    "with open('spec_p100.csv', 'w') as f:\n",
    "    for key in spec_p100.keys():\n",
    "        f.write(\"%s,%s\\n\"%(key,spec_p100[key]))\n",
    "\"\"\""
   ]
  },
  {
   "cell_type": "code",
   "execution_count": null,
   "metadata": {},
   "outputs": [],
   "source": []
  }
 ],
 "metadata": {
  "kernelspec": {
   "display_name": "Python 3",
   "language": "python",
   "name": "python3"
  },
  "language_info": {
   "codemirror_mode": {
    "name": "ipython",
    "version": 3
   },
   "file_extension": ".py",
   "mimetype": "text/x-python",
   "name": "python",
   "nbconvert_exporter": "python",
   "pygments_lexer": "ipython3",
   "version": "3.6.8"
  }
 },
 "nbformat": 4,
 "nbformat_minor": 2
}
