{
 "cells": [
  {
   "cell_type": "markdown",
   "metadata": {},
   "source": [
    "# Analyzing output from results of CUDA benchmarks"
   ]
  },
  {
   "cell_type": "markdown",
   "metadata": {},
   "source": [
    "## Using old output reading\n",
    "* 0 - Mem total \n",
    "* 2 - Mem used\n",
    "* 4 - Mem Free\n",
    "* 6 - Power Drawed\n",
    "* 8 - Clocks\n",
    "\n",
    "## Using new output reading\n",
    "* 0 - memory total \n",
    "* 1 - memory used \n",
    "* 2 - memory free \n",
    "* 3 - power drawed \n",
    "* 4- clocks "
   ]
  },
  {
   "cell_type": "code",
   "execution_count": 1,
   "metadata": {},
   "outputs": [],
   "source": [
    "#importing necessary libraries\n",
    "import csv\n",
    "import numpy as np\n",
    "import os\n",
    "import glob\n",
    "from collections import defaultdict\n",
    "import matplotlib.pyplot as plt\n",
    "import pylab\n",
    "import pandas as pd"
   ]
  },
  {
   "cell_type": "code",
   "execution_count": 2,
   "metadata": {},
   "outputs": [],
   "source": [
    "#Loading data\n",
    "all_rates = glob.glob(\"combined_results/*.rate\")\n",
    "all_results = glob.glob(\"combined_results/*.results\")\n",
    "#f = open(data_file,\"r\")\n",
    "#average_results()\n",
    "#data_analysis()\n",
    "#rate_data()"
   ]
  },
  {
   "cell_type": "code",
   "execution_count": 3,
   "metadata": {},
   "outputs": [],
   "source": [
    "def splitting_data(f):\n",
    "    lines = f.readlines()\n",
    "    results = []\n",
    "    for x in lines:\n",
    "        results.append(x.split(None))\n",
    "    f.close()\n",
    "    return results\n"
   ]
  },
  {
   "cell_type": "code",
   "execution_count": 4,
   "metadata": {},
   "outputs": [],
   "source": [
    "def average_results(f):\n",
    "    #f = open(\"combined.n6200000b128.results\",\"r\")\n",
    "    next(f)\n",
    "    results = np.array(splitting_data(f))\n",
    "    data_dic = {}\n",
    "    #data_dic = []\n",
    "    data_size = len(results)\n",
    "    for col in range (5):\n",
    "        total = 0\n",
    "        for y in enumerate(results):\n",
    "            #print(y)\n",
    "            total += float(y[1][col])\n",
    "        average = total/data_size\n",
    "\n",
    "        data_dic[col] = (average)\n",
    "\n",
    "    #print (data_dic[2])\n",
    "    return (data_dic)"
   ]
  },
  {
   "cell_type": "code",
   "execution_count": 9,
   "metadata": {},
   "outputs": [],
   "source": [
    "def rate_data(f):\n",
    "    #files = glob.glob(\"*.rate\")\n",
    "    #f = open(\"combined.n1000b512.rate\",\"r\")\n",
    "    results = np.array(splitting_data(f))\n",
    "    #print(results)\n",
    "    all_4 = results[4:]\n",
    "    #print (all_4)\n",
    "    rates = 0\n",
    "    time = 0\n",
    "    for i in all_4:\n",
    "        rates += float(i[1])\n",
    "        time += float(i[2])\n",
    "    average_rate = (rates/4)\n",
    "    average_time = (time/4)\n",
    "    #print (average_rate, average_time)\n",
    "    return average_rate, average_time\n"
   ]
  },
  {
   "cell_type": "code",
   "execution_count": 10,
   "metadata": {},
   "outputs": [],
   "source": [
    "def rate_one(file):\n",
    "    #file_rate = glob.glob(\"*.rate\")\n",
    "    rate_all_data = {\"average rate\": [ ], \"average time\":[ ]}\n",
    "    f = open(file,\"r\")\n",
    "    average_rate, average_time = rate_data(f)\n",
    "    rate_all_data[\"average time\"].append(average_time)\n",
    "    rate_all_data[\"average rate\"].append(average_rate)\n",
    "    #print (rate_all_data)\n",
    "    return rate_all_data\n"
   ]
  },
  {
   "cell_type": "code",
   "execution_count": 11,
   "metadata": {},
   "outputs": [],
   "source": [
    "def results_one(files):\n",
    "    #files = glob.glob(\"*.results\")\n",
    "    num = len(files)\n",
    "    all_data = defaultdict(list)\n",
    "    averages = {}\n",
    "    f = open(files,\"r\")\n",
    "    averages = average_results(f)\n",
    "    #print(\"these are the averages: \\n\")\n",
    "    #print (averages)\n",
    "    for k,v in averages.items():\n",
    "        all_data[k].append(v)\n",
    "    return all_data"
   ]
  },
  {
   "cell_type": "code",
   "execution_count": 12,
   "metadata": {},
   "outputs": [],
   "source": [
    "def spec_file(all_files,all_results):\n",
    "    block_sizes = [128,256,512,1024]\n",
    "    array_sizes = [10000,1000,100]\n",
    "    all_data = {}\n",
    "    rate_all= {}\n",
    "    array_range = []\n",
    "    for f in all_files:\n",
    "        for j in range(100000,1000000,10000):\n",
    "            if str(j) in f:\n",
    "                array_range.append(j)\n",
    "                rate_all[f] = rate_one(f)[\"average time\"]\n",
    "    ##TODO: be able to do rate and results at the same time, want to plot power against average time\n",
    "    array_range_res = []\n",
    "    for f in all_results:\n",
    "        for j in range(100000,1000000,10000):\n",
    "            if str(j) in f:\n",
    "                array_range_res.append(j)\n",
    "                all_data[f] = results_one(f)[3] #3 is power\n",
    "\n",
    "    return all_data,rate_all"
   ]
  },
  {
   "cell_type": "code",
   "execution_count": 13,
   "metadata": {},
   "outputs": [],
   "source": [
    "results_organized, rates_organized = spec_file(all_rates, all_results)"
   ]
  },
  {
   "cell_type": "markdown",
   "metadata": {},
   "source": [
    "### results-contains average power, rate-contains average time"
   ]
  },
  {
   "cell_type": "code",
   "execution_count": 66,
   "metadata": {},
   "outputs": [],
   "source": [
    "#print (results_organized)\n",
    "\n",
    "def by_block(dic_data):\n",
    "    block_sizes = {\"128\": [ ],\"256\":[ ],\"512\":[ ],\"1024\":[ ]}\n",
    "    bits_128 = []\n",
    "    bits_256 = []\n",
    "    bits_512 = []\n",
    "    bits_1024 = []\n",
    "    results_combined = {\"128\": bits_128,\"256\":bits_256,\"512\":bits_512,\"1024\":bits_1024}\n",
    "\n",
    "    example= \"this is 128\"\n",
    "    for k,v in block_sizes.items():\n",
    "        for key,val in dic_data.items():\n",
    "            if k in key:\n",
    "                results_combined[k].append(val)\n",
    "    return results_combined\n",
    "    \n",
    "            "
   ]
  },
  {
   "cell_type": "code",
   "execution_count": 68,
   "metadata": {},
   "outputs": [],
   "source": [
    "block_power = by_block(results_organized)\n",
    "block_\n",
    "#plt.scatter(results_organized.values(),bits_128)"
   ]
  },
  {
   "cell_type": "code",
   "execution_count": 75,
   "metadata": {},
   "outputs": [
    {
     "name": "stdout",
     "output_type": "stream",
     "text": [
      "790\n"
     ]
    },
    {
     "data": {
      "text/plain": [
       "'print (len(bits_1024))# do not use - only 787\\nprint (len(bits_512)) # use\\nprint (len(bits_256)) # use '"
      ]
     },
     "execution_count": 75,
     "metadata": {},
     "output_type": "execute_result"
    }
   ],
   "source": [
    "print (len(block_power['128']))\n",
    "\"\"\"print (len(bits_1024))# do not use - only 787\n",
    "print (len(bits_512)) # use\n",
    "print (len(bits_256)) # use \"\"\""
   ]
  },
  {
   "cell_type": "code",
   "execution_count": null,
   "metadata": {},
   "outputs": [],
   "source": []
  },
  {
   "cell_type": "code",
   "execution_count": 49,
   "metadata": {},
   "outputs": [
    {
     "name": "stdout",
     "output_type": "stream",
     "text": [
      "\n"
     ]
    }
   ],
   "source": []
  },
  {
   "cell_type": "code",
   "execution_count": null,
   "metadata": {},
   "outputs": [],
   "source": []
  },
  {
   "cell_type": "code",
   "execution_count": null,
   "metadata": {},
   "outputs": [],
   "source": []
  }
 ],
 "metadata": {
  "kernelspec": {
   "display_name": "Python 3",
   "language": "python",
   "name": "python3"
  },
  "language_info": {
   "codemirror_mode": {
    "name": "ipython",
    "version": 3
   },
   "file_extension": ".py",
   "mimetype": "text/x-python",
   "name": "python",
   "nbconvert_exporter": "python",
   "pygments_lexer": "ipython3",
   "version": "3.6.4"
  }
 },
 "nbformat": 4,
 "nbformat_minor": 2
}
