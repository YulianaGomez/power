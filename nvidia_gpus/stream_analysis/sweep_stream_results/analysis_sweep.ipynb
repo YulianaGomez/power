{
 "cells": [
  {
   "cell_type": "code",
   "execution_count": 12,
   "metadata": {},
   "outputs": [],
   "source": [
    "import os\n",
    "import pandas as pd\n",
    "import numpy as np"
   ]
  },
  {
   "cell_type": "code",
   "execution_count": 13,
   "metadata": {},
   "outputs": [],
   "source": [
    "# Creating dataframe\n",
    "combined_data = {'inst_exe':[],'ipc_count':[],'array_size':[]}\n"
   ]
  },
  {
   "cell_type": "markdown",
   "metadata": {},
   "source": [
    "## Instructions Executed - The number of instructions executed"
   ]
  },
  {
   "cell_type": "code",
   "execution_count": 14,
   "metadata": {},
   "outputs": [
    {
     "data": {
      "text/plain": [
       "'\\nimport csv\\n#Going through CSV file, finding index of average count, adding all counts of functions together\\nfile = open(\"stream_inst_N100000_B128.csv\" ,\\'r\\')\\n\\ntitle = {}\\nfdata = csv.reader(file)\\nstartadd = False\\nninst = 0\\nfor line_split in fdata:\\n    #print(line_split)\\n    if startadd:\\n        avg_index = title[\\'Avg\\']\\n        ninst += int(line_split[ avg_index ])\\n    else:\\n        if line_split[0] == \\'Device\\' and line_split[1] == \\'Kernel\\':\\n            idx = 0\\n            for term in line_split:\\n                title[term] = idx\\n                idx += 1\\n            startadd = True\\ncombined_data[\\'inst_exe\\'].append(ninst)\\n\\nprint (combined_data)\\n'"
      ]
     },
     "execution_count": 14,
     "metadata": {},
     "output_type": "execute_result"
    }
   ],
   "source": [
    "\"\"\"\n",
    "import csv\n",
    "#Going through CSV file, finding index of average count, adding all counts of functions together\n",
    "file = open(\"stream_inst_N100000_B128.csv\" ,'r')\n",
    "\n",
    "title = {}\n",
    "fdata = csv.reader(file)\n",
    "startadd = False\n",
    "ninst = 0\n",
    "for line_split in fdata:\n",
    "    #print(line_split)\n",
    "    if startadd:\n",
    "        avg_index = title['Avg']\n",
    "        ninst += int(line_split[ avg_index ])\n",
    "    else:\n",
    "        if line_split[0] == 'Device' and line_split[1] == 'Kernel':\n",
    "            idx = 0\n",
    "            for term in line_split:\n",
    "                title[term] = idx\n",
    "                idx += 1\n",
    "            startadd = True\n",
    "combined_data['inst_exe'].append(ninst)\n",
    "\n",
    "print (combined_data)\n",
    "\"\"\""
   ]
  },
  {
   "cell_type": "code",
   "execution_count": 21,
   "metadata": {},
   "outputs": [
    {
     "name": "stdout",
     "output_type": "stream",
     "text": [
      "{'inst_exe': [328260], 'ipc_count': [], 'array_size': ['100000']}\n"
     ]
    }
   ],
   "source": [
    "import csv\n",
    "import glob \n",
    "#Going through CSV file, finding index of average count, adding all counts of functions together\n",
    "combined_data = {}\n",
    "combined_data [] = {'inst_exe':[],'ipc_count':[],'array_size':[]}\n",
    "for filen in glob.glob(\"stream_inst*\"):\n",
    "    file = open(filen ,'r')\n",
    "    array_size = filen.split('_')[2].split('N')[1]\n",
    "    combined_data['array_size'].append(array_size)\n",
    "    title = {}\n",
    "    fdata = csv.reader(file)\n",
    "    startadd = False\n",
    "    ninst = 0\n",
    "    for line_split in fdata:\n",
    "        #print(line_split)\n",
    "        if startadd:\n",
    "            avg_index = title['Avg']\n",
    "            ninst += int(line_split[ avg_index ])\n",
    "        else:\n",
    "            if line_split[0] == 'Device' and line_split[1] == 'Kernel':\n",
    "                idx = 0\n",
    "                for term in line_split:\n",
    "                    title[term] = idx\n",
    "                    idx += 1\n",
    "                startadd = True\n",
    "    combined_data['inst_exe'].append(ninst)\n",
    "    file.close()\n",
    "\n",
    "print (combined_data)\n"
   ]
  },
  {
   "cell_type": "markdown",
   "metadata": {},
   "source": [
    "## Getting IPC Count"
   ]
  },
  {
   "cell_type": "code",
   "execution_count": 37,
   "metadata": {},
   "outputs": [
    {
     "name": "stdout",
     "output_type": "stream",
     "text": [
      "{'inst_exe': [], 'ipc_count': [0.8490608, 0.8399994, 0.8456303999999999, 0.5964706000000001], 'array_size': ['100000', '100000', '100000', '100000'], 'warps_launched': [15680, 15640, 15680, 15640]}\n"
     ]
    }
   ],
   "source": [
    "#Going through CSV file, finding index of average count, adding all counts of functions together\n",
    "combined_data = {'inst_exe':[],'ipc_count':[],'array_size':[], 'warps_launched':[]}\n",
    "\n",
    "for filen in glob.glob(\"stream_ipc*\"):\n",
    "    array_size = filen.split('_')[2].split('N')[1]\n",
    "    block_size = filen.split('_')[3].split('B')[1]\n",
    "    \n",
    "    \n",
    "    file = open(filen ,'r')\n",
    "    combined_data['array_size'].append(array_size)\n",
    "    title = {}\n",
    "    fdata = csv.reader(file)\n",
    "    startevent = False\n",
    "    startipc = False\n",
    "    events = 0\n",
    "    ipc = 0.0\n",
    "    cnt = 0.0\n",
    "    for line_split in fdata:\n",
    "        \n",
    "        #print(line_split)\n",
    "        lsplt = (len(line_split) > 0)\n",
    "        \n",
    "        if startevent:\n",
    "            if lsplt:\n",
    "                avg_index = title['Avg']\n",
    "                events += int(line_split[ avg_index ])\n",
    "            else: startevent = False\n",
    "\n",
    "        if startipc:\n",
    "            if lsplt:\n",
    "                avg_index = title['Avg']\n",
    "                ipc += float(line_split[ avg_index ])\n",
    "                cnt += 1.0\n",
    "            else: startipc = False\n",
    "\n",
    "        elif lsplt and line_split[0] == 'Device' and line_split[1] == 'Kernel':\n",
    "            if line_split[3] == 'Event Name':\n",
    "                startevent = True\n",
    "            else:\n",
    "                startipc = True\n",
    "            idx = 0\n",
    "            for term in line_split:\n",
    "                title[term] = idx\n",
    "                idx += 1\n",
    "            \n",
    "            \n",
    "            \n",
    "    combined_data['warps_launched'].append(events)\n",
    "    combined_data['ipc_count'].append(ipc/cnt) # Average of values\n",
    "    file.close()\n",
    "\n",
    "print (combined_data)\n"
   ]
  },
  {
   "cell_type": "code",
   "execution_count": null,
   "metadata": {},
   "outputs": [],
   "source": []
  }
 ],
 "metadata": {
  "kernelspec": {
   "display_name": "Python 3",
   "language": "python",
   "name": "python3"
  },
  "language_info": {
   "codemirror_mode": {
    "name": "ipython",
    "version": 3
   },
   "file_extension": ".py",
   "mimetype": "text/x-python",
   "name": "python",
   "nbconvert_exporter": "python",
   "pygments_lexer": "ipython3",
   "version": "3.6.4"
  }
 },
 "nbformat": 4,
 "nbformat_minor": 2
}
