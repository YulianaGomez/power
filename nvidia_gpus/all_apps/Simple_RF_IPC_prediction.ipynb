{
 "cells": [
  {
   "cell_type": "code",
   "execution_count": 3,
   "metadata": {},
   "outputs": [],
   "source": [
    "from sklearn.ensemble import RandomForestRegressor\n",
    "import numpy as np\n",
    "import pickle\n",
    "from sklearn.model_selection import train_test_split, GridSearchCV, ShuffleSplit\n"
   ]
  },
  {
   "cell_type": "code",
   "execution_count": 2,
   "metadata": {},
   "outputs": [],
   "source": [
    "\"\"\"model = GridSearchCV(RandomForestRegressor(n_estimators=100),\n",
    "                     param_grid=dict(max_features=range(10,60)),\n",
    "                     scoring='neg_mean_squared_error',\n",
    "                    cv=10)\"\"\"\n",
    "reg = RandomForestRegressor(n_estimators=100, random_state=0)"
   ]
  },
  {
   "cell_type": "code",
   "execution_count": 34,
   "metadata": {},
   "outputs": [],
   "source": [
    "X_train = np.load('/Users/yzamora/Desktop/X_train_fullset.npy')\n",
    "y_train = np.load('/Users/yzamora/Desktop/y_train_fullset.npy')\n"
   ]
  },
  {
   "cell_type": "code",
   "execution_count": 5,
   "metadata": {},
   "outputs": [
    {
     "name": "stdout",
     "output_type": "stream",
     "text": [
      "started training\n",
      "started training\n",
      "started training\n",
      "started training\n",
      "started training\n",
      "started training\n",
      "started training\n",
      "started training\n",
      "started training\n",
      "started training\n",
      "started training\n",
      "started training\n"
     ]
    }
   ],
   "source": [
    "import glob\n",
    "import os\n",
    "\n",
    "basedir = \"/Users/yzamora/Desktop/training_sets/\"\n",
    "outdir = \"/Users/yzamora/Desktop/AL_new_models/\"\n",
    "\n",
    "for x_file in glob.glob(basedir + \"X_train_AL_*per_one.npy\"):\n",
    "    print(\"started training\")\n",
    "    pct = int(os.path.basename(x_file).split(\"_\")[3].split(\"per\")[0])\n",
    "    y_file = basedir + \"y_train_AL_\" + str(pct) + \"per_one.npy\"\n",
    "    X_val_file = basedir + \"X_val_AL_\" + str(pct) + \"per_one.npy\"\n",
    "    y_val_file = basedir + \"y_val_AL_\" + str(pct) + \"per_one.npy\"\n",
    "    X_val = np.load(X_val_file)\n",
    "    y_val = np.load(y_val_file)\n",
    "    X_train = np.load(x_file)\n",
    "    y_train = np.load(y_file)\n",
    "    reg.fit(X_train,y_train)\n",
    "    \n",
    "    filename = outdir + 'RFAL_one_'+ str(pct) + '-POST_best.sav'\n",
    "    pickle.dump(reg,open(filename,'wb'))"
   ]
  },
  {
   "cell_type": "code",
   "execution_count": 32,
   "metadata": {},
   "outputs": [
    {
     "name": "stdout",
     "output_type": "stream",
     "text": [
      "X_train_Random_13per_one.npy y_train_Random_13per_one.npy\n",
      "X_train_Random_5per_one.npy y_train_Random_5per_one.npy\n",
      "X_train_Random_30per_one.npy y_train_Random_30per_one.npy\n",
      "X_train_Random_8per_one.npy y_train_Random_8per_one.npy\n",
      "X_train_Random_23per_one.npy y_train_Random_23per_one.npy\n",
      "X_train_Random_20per_one.npy y_train_Random_20per_one.npy\n",
      "X_train_Random_25per_one.npy y_train_Random_25per_one.npy\n",
      "X_train_Random_28per_one.npy y_train_Random_28per_one.npy\n",
      "X_train_Random_18per_one.npy y_train_Random_18per_one.npy\n",
      "X_train_Random_15per_one.npy y_train_Random_15per_one.npy\n",
      "X_train_Random_10per_one.npy y_train_Random_10per_one.npy\n",
      "X_train_Random_3per_one.npy y_train_Random_3per_one.npy\n"
     ]
    }
   ],
   "source": [
    "import glob\n",
    "import os\n",
    "for i in glob.glob('/Users/yzamora/active_learning/one_RANDOM_indices/X_train*'):\n",
    "    X_val = os.path.basename(i)\n",
    "    y_val = X_val.replace('X_train','y_train')\n",
    "    print(X_val,y_val)"
   ]
  },
  {
   "cell_type": "code",
   "execution_count": 35,
   "metadata": {},
   "outputs": [
    {
     "data": {
      "text/plain": [
       "(4520, 1)"
      ]
     },
     "execution_count": 35,
     "metadata": {},
     "output_type": "execute_result"
    }
   ],
   "source": [
    "y_train.shape"
   ]
  },
  {
   "cell_type": "code",
   "execution_count": 36,
   "metadata": {},
   "outputs": [
    {
     "name": "stderr",
     "output_type": "stream",
     "text": [
      "/Users/yzamora/miniconda3/lib/python3.6/site-packages/ipykernel_launcher.py:1: DataConversionWarning: A column-vector y was passed when a 1d array was expected. Please change the shape of y to (n_samples,), for example using ravel().\n",
      "  \"\"\"Entry point for launching an IPython kernel.\n"
     ]
    },
    {
     "data": {
      "text/plain": [
       "RandomForestRegressor(bootstrap=True, criterion='mse', max_depth=None,\n",
       "           max_features='auto', max_leaf_nodes=None,\n",
       "           min_impurity_decrease=0.0, min_impurity_split=None,\n",
       "           min_samples_leaf=1, min_samples_split=2,\n",
       "           min_weight_fraction_leaf=0.0, n_estimators=100, n_jobs=None,\n",
       "           oob_score=False, random_state=0, verbose=0, warm_start=False)"
      ]
     },
     "execution_count": 36,
     "metadata": {},
     "output_type": "execute_result"
    }
   ],
   "source": [
    "reg.fit(X_train,y_train)"
   ]
  },
  {
   "cell_type": "code",
   "execution_count": 37,
   "metadata": {},
   "outputs": [],
   "source": [
    "import pickle\n",
    "filename = '/Users/yzamora/power/nvidia_gpus/all_apps/deephyper_final_models/RFAL_one_20-POST_best.sav'\n",
    "pickle.dump(reg,open(filename,'wb'))"
   ]
  },
  {
   "cell_type": "code",
   "execution_count": 6,
   "metadata": {},
   "outputs": [],
   "source": [
    "## Test for large training set Random Forest model\n",
    "outdir = \"/Users/yzamora/Desktop/AL_new_models/\"\n",
    "reg = RandomForestRegressor(n_estimators=100, random_state=0)\n",
    "X_train = np.load('/Users/yzamora/Desktop/X_train_fullset.npy')\n",
    "y_train = np.load('/Users/yzamora/Desktop/y_train_fullset.npy')\n",
    "reg.fit(X_train,y_train)\n",
    "filename = outdir + 'RF_fullset.sav'\n",
    "pickle.dump(reg,open(filename,'wb'))"
   ]
  },
  {
   "cell_type": "code",
   "execution_count": null,
   "metadata": {},
   "outputs": [],
   "source": []
  }
 ],
 "metadata": {
  "kernelspec": {
   "display_name": "Python 3",
   "language": "python",
   "name": "python3"
  },
  "language_info": {
   "codemirror_mode": {
    "name": "ipython",
    "version": 3
   },
   "file_extension": ".py",
   "mimetype": "text/x-python",
   "name": "python",
   "nbconvert_exporter": "python",
   "pygments_lexer": "ipython3",
   "version": "3.6.8"
  }
 },
 "nbformat": 4,
 "nbformat_minor": 2
}
