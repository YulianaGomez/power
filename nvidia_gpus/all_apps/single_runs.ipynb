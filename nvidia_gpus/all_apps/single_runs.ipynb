{
 "cells": [
  {
   "cell_type": "markdown",
   "metadata": {},
   "source": [
    "## Going through all metrics to check whether significant (not 0) --\n",
    "Created: September 6, 2018\n",
    "Last worked on: September 14, 2018"
   ]
  },
  {
   "cell_type": "code",
   "execution_count": 1,
   "metadata": {},
   "outputs": [],
   "source": [
    "#ONLY run when there is garbage data in files\n",
    "## Prepping files - Removing random data \n",
    "import re\n",
    "import csv\n",
    "import os\n",
    "import glob\n",
    "\n",
    "for filen_ in glob.glob(\"/home/yzamora/power/nvidia_gpus/all_apps/gaussian_results/*.csv\"):\n",
    "    cmd = \"tr -cd \\'\\\\11\\\\12\\\\15\\\\40-\\\\176\\' < \"+filen_ +\" >\"+ filen_+\".temp\"\n",
    "    cmd2 = \"mv \" + filen_ + \".temp \" + filen_\n",
    "    os.system( cmd )\n",
    "    os.system(cmd2)\n",
    "#string = open(\"/home/yzamora/power/nvidia_gpus/all_apps/gaussian_results/gaussian_N1024.csv\").read()\n",
    "#new_str = re.sub('[^a-zA-Z0-9\\n\\.]', ' ', string)\n",
    "#open('b.txt', 'w').write(new_str)\n",
    "\n",
    "#txt_file = r\"b.txt\"\n",
    "#csv_file = r\"mycsv.csv\"\n",
    "#in_txt = csv.reader(open(txt_file,\"r\"),delimiter =' ')\n",
    "#out_csv = csv.writer(open(csv_file, 'w'))\n",
    "#out_csv.writerows(in_txt)"
   ]
  },
  {
   "cell_type": "markdown",
   "metadata": {},
   "source": [
    "## RUN 3 below only if attaching stream data"
   ]
  },
  {
   "cell_type": "code",
   "execution_count": 37,
   "metadata": {},
   "outputs": [
    {
     "name": "stdout",
     "output_type": "stream",
     "text": [
      "The autoreload extension is already loaded. To reload it, use:\n",
      "  %reload_ext autoreload\n"
     ]
    }
   ],
   "source": [
    "%load_ext autoreload\n",
    "%autoreload 2\n",
    "from __future__ import absolute_import"
   ]
  },
  {
   "cell_type": "code",
   "execution_count": 38,
   "metadata": {},
   "outputs": [],
   "source": [
    "\n",
    "import os\n",
    "import sys\n",
    "import pandas as pd\n",
    "%matplotlib inline\n",
    "\n",
    "module_path = os.path.abspath(os.path.join('..'))\n",
    "if module_path not in sys.path:\n",
    "    sys.path.append(module_path)\n",
    "from all_apps import sweep_an\n",
    "#stream_data = {}\n",
    "combined_stream = sweep_an.all_st()\n",
    "#print(stream_data)\n",
    "\n",
    "\n",
    "#df.plot(x='size', y='dram_read_transactions', kind='scatter')"
   ]
  },
  {
   "cell_type": "code",
   "execution_count": 39,
   "metadata": {},
   "outputs": [],
   "source": [
    "#print(combined_stream)\n",
    "c_stream = {k:v for k,v in combined_stream.items() if 'set_array' not in k}\n",
    "combined_stream = c_stream"
   ]
  },
  {
   "cell_type": "code",
   "execution_count": 40,
   "metadata": {},
   "outputs": [
    {
     "data": {
      "text/plain": [
       "<matplotlib.axes._subplots.AxesSubplot at 0x7f14f6df9d30>"
      ]
     },
     "execution_count": 40,
     "metadata": {},
     "output_type": "execute_result"
    },
    {
     "data": {
      "image/png": "[encoded data removed]",
      "text/plain": [
       "<Figure size 432x288 with 1 Axes>"
      ]
     },
     "metadata": {},
     "output_type": "display_data"
    }
   ],
   "source": [
    "df_s = pd.DataFrame.from_dict(combined_stream,orient=\"index\")\n",
    "df_s.plot(x='size', y='Time(s)', kind='scatter', title='Stream Metric Results')\n",
    "#df_s.plot(x='size', y='dram_read_transactions', kind='scatter',title='Stream Metric Results')\n",
    "#df_s.plot(x='size', y='l2_read_transactions', kind='scatter', title='Stream Metric Results')\n",
    "#df_s.plot(x='l2_read_transactions', y='Time(s)', kind='scatter', title='Stream Metric Results')\n",
    "\n",
    "#print (df_s.head())"
   ]
  },
  {
   "cell_type": "code",
   "execution_count": 41,
   "metadata": {},
   "outputs": [
    {
     "data": {
      "text/plain": [
       "stream_100096_STREAM_Add      100096\n",
       "stream_100096_STREAM_Copy     100096\n",
       "stream_100096_STREAM_Scale    100096\n",
       "stream_100096_STREAM_Triad    100096\n",
       "stream_100224_STREAM_Add      100224\n",
       "Name: size, dtype: int64"
      ]
     },
     "execution_count": 41,
     "metadata": {},
     "output_type": "execute_result"
    }
   ],
   "source": [
    "df_s['size'][0:5]"
   ]
  },
  {
   "cell_type": "code",
   "execution_count": null,
   "metadata": {},
   "outputs": [],
   "source": []
  },
  {
   "cell_type": "markdown",
   "metadata": {},
   "source": [
    "## Going through all single runs"
   ]
  },
  {
   "cell_type": "code",
   "execution_count": 443,
   "metadata": {},
   "outputs": [],
   "source": [
    "#Going through metrics\n",
    "import numbers\n",
    "import glob\n",
    "import os\n",
    "import csv\n",
    "\n",
    "if True:\n",
    "    combined_data_ = {}\n",
    "\n",
    "metric_targets = []\n",
    "all_sig_metrics = []\n",
    "bench_targets = [ \"gaussian\" ,\"gemm\", \"stream\" ]\n",
    "for filen_ in glob.glob(\"/home/yzamora/power/nvidia_gpus/all_apps/mixed_results/*.csv\"):\n",
    "#for filen_ in glob.glob(\"/home/yzamora/power/nvidia_gpus/all_apps/gaussian_results/*.csv\"):\n",
    "    filen = os.path.basename(filen_)\n",
    "    #print (filen)\n",
    "    filen_split = filen.split('.')[0].split('_')\n",
    "    bench_name = filen_split[0]\n",
    "    #metric_name = filen_split[1]\n",
    "    #print(filen_split)\n",
    "    #size_str = filen_split[1].split('N')[1]\n",
    "    \n",
    "    #if not (metric_name in metric_targets): continue\n",
    "    #if not (bench_name in bench_targets): continue\n",
    "    \n",
    "    key_root = bench_name\n",
    "    #print(key_root)\n",
    "    levels = [\"Idle\", \"Low\",\"High\", \"Max\"]\n",
    "    bw_units = [\"GB\", \"MB\", \"KB\" ,\"0B\"]\n",
    "    # Now open the file and look for the data\n",
    "    with open(filen_ ,'r') as file_handle:\n",
    "        #print (file_handle)\n",
    "        data_found = False\n",
    "        ncols = 1\n",
    "        fdata = csv.reader(file_handle)\n",
    "        index_lookup = {}\n",
    "        #print(filen_)\n",
    "        for line_split in fdata:\n",
    "            #print (line_split)\n",
    "            lsplt = (len(line_split) > 0)\n",
    "      \n",
    "            if data_found:\n",
    "                #print(\"data found\")\n",
    "                if lsplt and len(line_split) == ncols:\n",
    "                    #percent - strip off end\n",
    "                    # Get metric name here\n",
    "                    #mname_index = index_lookup['Metric Name']\n",
    "                    #metric_name = line_split[ mname_index ]\n",
    "                    #if not (metric_name in metric_targets): continue\n",
    "                    \n",
    "                    # Read in desired value for the current metric\n",
    "                    target_index = index_lookup['Avg']; value = 0\n",
    "                    metric_name = line_split[index_lookup['Metric Name']]\n",
    "                    #print (line_split[target_index].isdecimal())\n",
    "                    if line_split[target_index].isdecimal():\n",
    "                        if line_split[target_index]!= '0':\n",
    "                            #print(line_split[target_index])\n",
    "                            all_sig_metrics.append(metric_name)\n",
    "                            value = int(line_split[ target_index ])\n",
    "                        \n",
    "                        # Labeled with percentage\n",
    "                    elif \"%\" == line_split[target_index][-1]:\n",
    "                        #print (\"percentage loop\")\n",
    "                        all_sig_metrics.append(metric_name)\n",
    "                        value = float(line_split[ target_index ][0:7]) / 100.0\n",
    "                        \n",
    "                    # Labeled with bandwidth units\n",
    "                    elif line_split[ target_index ][-4:-2] in bw_units:\n",
    "                        # Just take the first \n",
    "                        units = line_split[ target_index ][-4:-2]\n",
    "                        all_sig_metrics.append(metric_name)\n",
    "                        mfact = 1.0\n",
    "                        if   units == \"KB\": mfact = 1024\n",
    "                        elif units == \"MB\": mfact = 1024*1024\n",
    "                        elif units == \"GB\": mfact = 1024*1024*1024\n",
    "                        elif units == \"0B\":  mfact = 1\n",
    "                        value = float(line_split[ target_index ][0:7]) * mfact\n",
    "                    \n",
    "                    # idle, low, max\n",
    "                    elif line_split[ target_index ][-1] == \")\":\n",
    "                        #print (\"low\")\n",
    "                        all_sig_metrics.append(metric_name)\n",
    "                        value = int(line_split[ target_index].split('(')[1].split(\")\")[0])\n",
    "                        \n",
    "                    # otherwise, float\n",
    "                    #elif not(float(line_split[ target_index ]).is_integer()):\n",
    "                    else:\n",
    "                        #print(line_split[ target_index ].split('(')[0])\n",
    "                        #print(\"in float\")\n",
    "                        #print(line_split[ target_index ].split('(')[0])\n",
    "                        value = float(line_split[ target_index ])\n",
    "                    \n",
    "                    \n",
    "                    \n",
    "                    # Parse name of kernel\n",
    "                    kernel_name = line_split[ index_lookup['Kernel'] ].split('(')[0]\n",
    "                    \n",
    "                    # Define kernel-specific key\n",
    "                    key = key_root + \"_\" + kernel_name\n",
    "                    \n",
    "                    # Initialize dict for this key, if it is new\n",
    "                    if not (key in combined_data_): \n",
    "                        combined_data_ [ key ] = {}\n",
    "                        #combined_data_ [ key ][ 'size' ] = int( size_str )\n",
    "                        \n",
    "                    # Store value for the metric being read right now\n",
    "                    combined_data_ [ key ][ metric_name ] = value\n",
    "                    \n",
    "                else: data_found = False\n",
    "\n",
    "\n",
    "            elif lsplt and line_split[0] == 'Device' and line_split[1] == 'Kernel':\n",
    "                # Set flag that we are at the data:\n",
    "                data_found = True\n",
    "                # Set number of columns in table:\n",
    "                ncols = len(line_split)\n",
    "                # Generate an index lookup table:\n",
    "                idx = 0\n",
    "                for term in line_split:\n",
    "                    index_lookup[term] = idx\n",
    "                    idx += 1\n",
    "                #print(index_lookup)\n",
    "#print(combined_data_['huffman_vlc_encode_kernel_sm64huff'])\n"
   ]
  },
  {
   "cell_type": "code",
   "execution_count": 444,
   "metadata": {},
   "outputs": [],
   "source": []
  },
  {
   "cell_type": "markdown",
   "metadata": {},
   "source": [
    "## Comparing metrics of different kernels - returns when values are different"
   ]
  },
  {
   "cell_type": "code",
   "execution_count": 118,
   "metadata": {},
   "outputs": [
    {
     "name": "stdout",
     "output_type": "stream",
     "text": [
      "The autoreload extension is already loaded. To reload it, use:\n",
      "  %reload_ext autoreload\n"
     ]
    }
   ],
   "source": [
    "%load_ext autoreload\n",
    "%autoreload 2\n",
    "from __future__ import absolute_import"
   ]
  },
  {
   "cell_type": "code",
   "execution_count": 119,
   "metadata": {},
   "outputs": [],
   "source": [
    "import os\n",
    "import sys\n",
    "import pandas as pd\n",
    "%matplotlib inline\n"
   ]
  },
  {
   "cell_type": "code",
   "execution_count": 120,
   "metadata": {},
   "outputs": [],
   "source": [
    "\"\"\"def compare_metrics(dict1,dict2,x):\n",
    "    compared ={}\n",
    "    #dict1 = combined_data_['hotspot_calculate_temp']\n",
    "    #dict2 = combined_data_['huffman_vlc_encode_kernel_sm64huff']\n",
    "    if x:\n",
    "        diffkeys = [k for k in dict1 if dict1[k] != dict2[k]]\n",
    "    else:\n",
    "        diffkeys = [k for k in dict1 if dict1[k] == dict2[k]]\n",
    "    for k in diffkeys:\n",
    "        compared[k] =  dict1[k], dict2[k],abs(dict1[k]-dict2[k])\n",
    "\n",
    "    return (compared)\"\"\""
   ]
  },
  {
   "cell_type": "code",
   "execution_count": 244,
   "metadata": {},
   "outputs": [],
   "source": [
    "\"\"\"def compare_all(large_dict,x):\n",
    "    dif = {}\n",
    "    for k,v in large_dict.items():\n",
    "        for k2,v2 in large_dict.items():\n",
    "            if k != k2:\n",
    "                dict_compared = str(k) + \".\" + str(k2)\n",
    "                dif[dict_compared] = compare_metrics(large_dict[k],large_dict[k2],x)\n",
    "    return(dif)\"\"\""
   ]
  },
  {
   "cell_type": "code",
   "execution_count": 311,
   "metadata": {},
   "outputs": [],
   "source": [
    "\"\"\"diff_values = compare_all(use_dic,True)\n",
    "same_values = compare_all(use_dic,False)\"\"\""
   ]
  },
  {
   "cell_type": "code",
   "execution_count": 312,
   "metadata": {},
   "outputs": [],
   "source": [
    "#print(diff_values)"
   ]
  },
  {
   "cell_type": "code",
   "execution_count": 313,
   "metadata": {},
   "outputs": [
    {
     "name": "stdout",
     "output_type": "stream",
     "text": [
      "0\n",
      "[0, 4]\n"
     ]
    }
   ],
   "source": [
    "\"\"\"top_values = [0]\n",
    "print (min(top_values))\n",
    "if min(top_values) < 4:\n",
    "    if len(top_values) == 10:\n",
    "        top_values.remove(min(top_values))\n",
    "    top_values.append(4)\n",
    "print (top_values)\"\"\""
   ]
  },
  {
   "cell_type": "code",
   "execution_count": 314,
   "metadata": {},
   "outputs": [
    {
     "name": "stdout",
     "output_type": "stream",
     "text": [
      "[941141151186.944, 941141151186.944, 949100799328.256, 949100799328.256, 965064119025.664, 965064119025.664, 1131346999115.776, 1131346999115.776, 1269474221096.96, 1269474221096.96]\n"
     ]
    }
   ],
   "source": [
    "\"\"\"#from collections import defaultdict\n",
    "\n",
    "top_dic = []\n",
    "for k,v in diff_values.items():\n",
    "    for k2,v2 in v.items():\n",
    "        if (v2[-1]) > 391601:\n",
    "            #print (k2, v2, k)\n",
    "            if min(top_values) < v2[-1]:\n",
    "                if len(top_values) == 10:\n",
    "                    top_values.remove(min(top_values))\n",
    "                    #top_dic.remove(min(top_dic))\n",
    "                top_values.append(v2[-1])\n",
    "            #top_dic.append((k,k2,v2[-1]))\n",
    "            top_dic.append((k,v2[0],k2,v2[1],v2[-1]))\n",
    "print(sorted(top_values))\n",
    "#print(top_dic)\n",
    "list_sorted = (sorted(top_dic, key=lambda tup:tup[2],reverse=True))\"\"\""
   ]
  },
  {
   "cell_type": "code",
   "execution_count": 315,
   "metadata": {},
   "outputs": [],
   "source": [
    "### Are metrics with large differences in values among different kernels in apps similar to the metrics that are \n",
    "### used in predicting performance? What does it mean if they aren't? What do the metrics tell us about the applications? \n",
    "### Are apps with similar metrics more closely related?"
   ]
  },
  {
   "cell_type": "code",
   "execution_count": 318,
   "metadata": {},
   "outputs": [],
   "source": [
    "\"\"\"top10 = list_sorted[:30]\n",
    "#print(top10)\n",
    "#for c in top10:\n",
    "   # print(c[0].split('.')[0])\"\"\""
   ]
  },
  {
   "cell_type": "code",
   "execution_count": null,
   "metadata": {},
   "outputs": [],
   "source": []
  },
  {
   "cell_type": "code",
   "execution_count": null,
   "metadata": {},
   "outputs": [],
   "source": []
  },
  {
   "cell_type": "code",
   "execution_count": 1,
   "metadata": {},
   "outputs": [],
   "source": [
    "%reload_ext autoreload\n",
    "%autoreload 2\n",
    "from __future__ import absolute_import"
   ]
  },
  {
   "cell_type": "code",
   "execution_count": 5,
   "metadata": {},
   "outputs": [],
   "source": [
    "\n",
    "import os\n",
    "import sys\n",
    "import pandas as pd\n",
    "%matplotlib inline\n",
    "\n",
    "module_path = os.path.abspath(os.path.join('..'))\n",
    "if module_path not in sys.path:\n",
    "    sys.path.append(module_path)\n",
    "from all_apps import compare_metrics\n",
    "\n"
   ]
  },
  {
   "cell_type": "code",
   "execution_count": 6,
   "metadata": {},
   "outputs": [],
   "source": [
    "top_kernels_different = compare_metrics.sort_all(True,30000)\n",
    "top_kernels_similar = compare_metrics.sort_all(False,20)"
   ]
  },
  {
   "cell_type": "code",
   "execution_count": 7,
   "metadata": {},
   "outputs": [],
   "source": [
    "def metric_analysis(list_sorted,size):\n",
    "    top10 = list_sorted[:size]\n",
    "    for c in top10:\n",
    "        print(\"First Kernel: %s, Metric: %s, Metric Value Dif: %5.5f, Metric Value: %5.5f\" % (c[0].split('.')[0],c[2],c[4], c[1]))\n",
    "        print(\"Second Kernel: %s, Metric: %s, Metric Value Dif: %5.5f, Metric Value: %5.5f\" % (c[0].split('.')[1],c[2], c[4],c[3]))\n",
    "        print(\"\\n\")"
   ]
  },
  {
   "cell_type": "code",
   "execution_count": 8,
   "metadata": {},
   "outputs": [
    {
     "name": "stdout",
     "output_type": "stream",
     "text": [
      "('gemm_sgemm_128x128x8_NN_vec.stream_set_array', 4321904839424, 'flop_count_sp', 0, 4321904839424)\n",
      "('gemm_sgemm_128x128x8_NN_vec.stream_STREAM_Copy', 4321904839424, 'flop_count_sp', 0, 4321904839424)\n",
      "('stream_set_array.gemm_sgemm_128x128x8_NN_vec', 0, 'flop_count_sp', 4321904839424, 4321904839424)\n",
      "('stream_STREAM_Copy.gemm_sgemm_128x128x8_NN_vec', 0, 'flop_count_sp', 4321904839424, 4321904839424)\n",
      "('gemm_sgemm_128x128x8_NN_vec.stream_STREAM_Scale', 4321904839424, 'flop_count_sp', 189952, 4321904649472)\n",
      "('gemm_sgemm_128x128x8_NN_vec.stream_STREAM_Add', 4321904839424, 'flop_count_sp', 189952, 4321904649472)\n",
      "('stream_STREAM_Scale.gemm_sgemm_128x128x8_NN_vec', 189952, 'flop_count_sp', 4321904839424, 4321904649472)\n",
      "('stream_STREAM_Add.gemm_sgemm_128x128x8_NN_vec', 189952, 'flop_count_sp', 4321904839424, 4321904649472)\n",
      "('gemm_sgemm_128x128x8_NN_vec.stream_STREAM_Triad', 4321904839424, 'flop_count_sp', 379904, 4321904459520)\n",
      "('stream_STREAM_Triad.gemm_sgemm_128x128x8_NN_vec', 379904, 'flop_count_sp', 4321904839424, 4321904459520)\n",
      "('gemm_sgemm_128x128x8_NN_vec.gemm_sgemm_32x32x32_NN_vec', 4321904839424, 'flop_count_sp', 531404800, 4321373434624)\n",
      "('gemm_sgemm_32x32x32_NN_vec.gemm_sgemm_128x128x8_NN_vec', 531404800, 'flop_count_sp', 4321904839424, 4321373434624)\n",
      "('gemm_sgemm_128x128x8_NN_vec.gemm_maxwell_sgemm_128x64_nn', 4321904839424, 'flop_count_sp', 1441857536, 4320462981888)\n",
      "('gemm_maxwell_sgemm_128x64_nn.gemm_sgemm_128x128x8_NN_vec', 1441857536, 'flop_count_sp', 4321904839424, 4320462981888)\n",
      "('gemm_sgemm_128x128x8_NN_vec.stream_set_array', 2283752222883.84, 'shared_load_throughput', 0.0, 2283752222883.84)\n",
      "('gemm_sgemm_128x128x8_NN_vec.stream_STREAM_Triad', 2283752222883.84, 'shared_load_throughput', 0.0, 2283752222883.84)\n",
      "('gemm_sgemm_128x128x8_NN_vec.stream_STREAM_Scale', 2283752222883.84, 'shared_load_throughput', 0.0, 2283752222883.84)\n",
      "('gemm_sgemm_128x128x8_NN_vec.stream_STREAM_Copy', 2283752222883.84, 'shared_load_throughput', 0.0, 2283752222883.84)\n",
      "('gemm_sgemm_128x128x8_NN_vec.stream_STREAM_Add', 2283752222883.84, 'shared_load_throughput', 0.0, 2283752222883.84)\n",
      "('stream_set_array.gemm_sgemm_128x128x8_NN_vec', 0.0, 'shared_load_throughput', 2283752222883.84, 2283752222883.84)\n"
     ]
    }
   ],
   "source": [
    "#print(top_kernels[:5])\n",
    "for k in top_kernels_different[:20]:\n",
    "    print (k)\n",
    "with open (\"stream_gemm_metric.csv\", 'w') as f:\n",
    "    f.write('\\n'.join('{}, {}, {}, {}, {}'.format(x[0],x[1],x[2],x[3],x[4]) for x in top_kernels_different[:20]))\n",
    "       "
   ]
  },
  {
   "cell_type": "code",
   "execution_count": 63,
   "metadata": {},
   "outputs": [
    {
     "name": "stdout",
     "output_type": "stream",
     "text": [
      "stream_gauss_metric.csv stream_set_array.stream_STREAM_Triad\n",
      "stream_gauss_metric.csv stream_STREAM_Triad.stream_set_array\n",
      "stream_gauss_metric.csv stream_set_array.stream_STREAM_Add\n",
      "stream_gauss_metric.csv stream_STREAM_Add.stream_set_array\n",
      "stream_gauss_metric.csv stream_set_array.stream_STREAM_Copy\n",
      "stream_gauss_metric.csv stream_STREAM_Copy.stream_set_array\n",
      "stream_gauss_metric.csv stream_set_array.stream_STREAM_Scale\n",
      "stream_gauss_metric.csv stream_STREAM_Scale.stream_set_array\n",
      "stream_gauss_metric.csv stream_set_array.stream_STREAM_Triad\n",
      "stream_gauss_metric.csv stream_STREAM_Triad.stream_set_array\n",
      "stream_gauss_metric.csv stream_set_array.stream_STREAM_Add\n",
      "stream_gauss_metric.csv stream_STREAM_Add.stream_set_array\n"
     ]
    }
   ],
   "source": [
    "import glob\n",
    "import csv\n",
    "metric_gaus = []\n",
    "metric_gemm = []\n",
    "all =[]\n",
    "for file in glob.glob(\"/home/yzamora/power/nvidia_gpus/all_apps/metric_comparison/*.csv\"):\n",
    "    with open(file,'r') as f:\n",
    "        data = csv.reader(f)\n",
    "        for line_split in data:\n",
    "            #print (line_split)\n",
    "            \"\"\"if 'stream' in line_split[0] and 'gauss' in line_split[0]:\n",
    "                metric_gaus.append(([line_split[2],line_split[4]]))\n",
    "            if 'stream' in line_split[0] and 'gemm' in line_split[0]:\n",
    "                metric_gemm.append(([line_split[2],line_split[4]]))\"\"\"\n",
    "            if 'stream' in line_split[0]:\n",
    "                if 'gemm' in line_split[0]:\n",
    "                    all.append((['gemm',line_split[2],line_split[4]]))\n",
    "                elif 'gauss' in line_split[0]:\n",
    "                    all.append((['gauss',line_split[2],line_split[4]]))\n",
    "                else:\n",
    "                    print(os.path.basename(file), line_split[0])\n",
    "                    all.append((['stream',line_split[2],line_split[4]]))\n",
    "#print (metric_gaus)\n",
    "#print(metric_gemm)\n",
    "#print(all)"
   ]
  },
  {
   "cell_type": "code",
   "execution_count": 59,
   "metadata": {},
   "outputs": [
    {
     "data": {
      "text/html": [
       "<script>requirejs.config({paths: { 'plotly': ['https://cdn.plot.ly/plotly-latest.min']},});if(!window.Plotly) {{require(['plotly'],function(plotly) {window.Plotly=plotly;});}}</script>"
      ],
      "text/vnd.plotly.v1+html": [
       "<script>requirejs.config({paths: { 'plotly': ['https://cdn.plot.ly/plotly-latest.min']},});if(!window.Plotly) {{require(['plotly'],function(plotly) {window.Plotly=plotly;});}}</script>"
      ]
     },
     "metadata": {},
     "output_type": "display_data"
    },
    {
     "name": "stdout",
     "output_type": "stream",
     "text": [
      "[16, 4, 10, 6]\n"
     ]
    }
   ],
   "source": [
    "from IPython.display import HTML, display\n",
    "import tabulate\n",
    "import plotly\n",
    "import plotly.offline as py\n",
    "import plotly.graph_objs as go\n",
    "py.init_notebook_mode(connected=True)\n",
    "\n",
    "dict_all = {}\n",
    "for i in all:\n",
    "    if i[1] in dict_all:\n",
    "        dict_all[i[1]] += 1\n",
    "    else:\n",
    "        dict_all[i[1]] = 1\n",
    "v = dict_all.values()\n",
    "print (list(v))\n",
    "#print(\"Metric comparisons between Stream kernels and Gaussian and Gemm applications\")\n",
    "#display(HTML(tabulate.tabulate(all, tablefmt='html')))"
   ]
  },
  {
   "cell_type": "code",
   "execution_count": 94,
   "metadata": {},
   "outputs": [
    {
     "data": {
      "text/html": [
       "<table>\n",
       "<tbody>\n",
       "<tr><td>stream</td><td>gld_throughput        </td><td style=\"text-align: right;\">5.23463e+11</td></tr>\n",
       "<tr><td>stream</td><td>gld_throughput        </td><td style=\"text-align: right;\">5.23463e+11</td></tr>\n",
       "<tr><td>stream</td><td>gld_throughput        </td><td style=\"text-align: right;\">5.22833e+11</td></tr>\n",
       "<tr><td>stream</td><td>gld_throughput        </td><td style=\"text-align: right;\">5.22833e+11</td></tr>\n",
       "<tr><td>gauss </td><td>gld_throughput        </td><td style=\"text-align: right;\">5.19374e+11</td></tr>\n",
       "<tr><td>gauss </td><td>gld_throughput        </td><td style=\"text-align: right;\">5.19374e+11</td></tr>\n",
       "<tr><td>gauss </td><td>gld_throughput        </td><td style=\"text-align: right;\">5.18744e+11</td></tr>\n",
       "<tr><td>gauss </td><td>gld_throughput        </td><td style=\"text-align: right;\">5.18744e+11</td></tr>\n",
       "<tr><td>gauss </td><td>gld_throughput        </td><td style=\"text-align: right;\">4.12993e+11</td></tr>\n",
       "<tr><td>gauss </td><td>gld_throughput        </td><td style=\"text-align: right;\">4.12993e+11</td></tr>\n",
       "<tr><td>gauss </td><td>gld_throughput        </td><td style=\"text-align: right;\">4.12363e+11</td></tr>\n",
       "<tr><td>gauss </td><td>gld_throughput        </td><td style=\"text-align: right;\">4.12363e+11</td></tr>\n",
       "<tr><td>stream</td><td>gld_throughput        </td><td style=\"text-align: right;\">2.63502e+11</td></tr>\n",
       "<tr><td>stream</td><td>gld_throughput        </td><td style=\"text-align: right;\">2.63502e+11</td></tr>\n",
       "<tr><td>stream</td><td>gld_throughput        </td><td style=\"text-align: right;\">2.62931e+11</td></tr>\n",
       "<tr><td>stream</td><td>gld_throughput        </td><td style=\"text-align: right;\">2.62931e+11</td></tr>\n",
       "<tr><td>stream</td><td>l2_read_throughput    </td><td style=\"text-align: right;\">2.62107e+11</td></tr>\n",
       "<tr><td>stream</td><td>l2_read_throughput    </td><td style=\"text-align: right;\">2.62107e+11</td></tr>\n",
       "<tr><td>stream</td><td>l2_read_throughput    </td><td style=\"text-align: right;\">2.61791e+11</td></tr>\n",
       "<tr><td>stream</td><td>l2_read_throughput    </td><td style=\"text-align: right;\">2.61791e+11</td></tr>\n",
       "<tr><td>gemm  </td><td>flop_count_sp         </td><td style=\"text-align: right;\">4.3219e+12 </td></tr>\n",
       "<tr><td>gemm  </td><td>flop_count_sp         </td><td style=\"text-align: right;\">4.3219e+12 </td></tr>\n",
       "<tr><td>gemm  </td><td>flop_count_sp         </td><td style=\"text-align: right;\">4.3219e+12 </td></tr>\n",
       "<tr><td>gemm  </td><td>flop_count_sp         </td><td style=\"text-align: right;\">4.3219e+12 </td></tr>\n",
       "<tr><td>gemm  </td><td>flop_count_sp         </td><td style=\"text-align: right;\">4.3219e+12 </td></tr>\n",
       "<tr><td>gemm  </td><td>flop_count_sp         </td><td style=\"text-align: right;\">4.3219e+12 </td></tr>\n",
       "<tr><td>gemm  </td><td>flop_count_sp         </td><td style=\"text-align: right;\">4.3219e+12 </td></tr>\n",
       "<tr><td>gemm  </td><td>flop_count_sp         </td><td style=\"text-align: right;\">4.3219e+12 </td></tr>\n",
       "<tr><td>gemm  </td><td>flop_count_sp         </td><td style=\"text-align: right;\">4.3219e+12 </td></tr>\n",
       "<tr><td>gemm  </td><td>flop_count_sp         </td><td style=\"text-align: right;\">4.3219e+12 </td></tr>\n",
       "<tr><td>gemm  </td><td>shared_load_throughput</td><td style=\"text-align: right;\">2.28375e+12</td></tr>\n",
       "<tr><td>gemm  </td><td>shared_load_throughput</td><td style=\"text-align: right;\">2.28375e+12</td></tr>\n",
       "<tr><td>gemm  </td><td>shared_load_throughput</td><td style=\"text-align: right;\">2.28375e+12</td></tr>\n",
       "<tr><td>gemm  </td><td>shared_load_throughput</td><td style=\"text-align: right;\">2.28375e+12</td></tr>\n",
       "<tr><td>gemm  </td><td>shared_load_throughput</td><td style=\"text-align: right;\">2.28375e+12</td></tr>\n",
       "<tr><td>gemm  </td><td>shared_load_throughput</td><td style=\"text-align: right;\">2.28375e+12</td></tr>\n",
       "</tbody>\n",
       "</table>"
      ],
      "text/plain": [
       "<IPython.core.display.HTML object>"
      ]
     },
     "metadata": {},
     "output_type": "display_data"
    }
   ],
   "source": [
    "from IPython.display import HTML, display\n",
    "import tabulate\n",
    "\n",
    "display(HTML(tabulate.tabulate(list(all), tablefmt='html')))"
   ]
  },
  {
   "cell_type": "code",
   "execution_count": 91,
   "metadata": {},
   "outputs": [
    {
     "data": {
      "image/png": "[encoded data removed]",
      "text/plain": [
       "<Figure size 1440x720 with 1 Axes>"
      ]
     },
     "metadata": {},
     "output_type": "display_data"
    }
   ],
   "source": [
    "import matplotlib.pyplot as plt\n",
    "#data_pd = pd.DataFrame(list(dict_all.items()))\n",
    "plt.figure(figsize=(20,10))\n",
    "plt.bar(range(len(dict_all)), list(dict_all.values()), align='center')\n",
    "plt.xticks(range(len(dict_all)), list(dict_all.keys()))\n",
    "# # for python 2.x:\n",
    "# plt.bar(range(len(D)), D.values(), align='center')  # python 2.x\n",
    "# plt.xticks(range(len(D)), D.keys())  # in python 2.x\n",
    "\n",
    "plt.show()\n",
    "#myplot = data_pd.plot(kind='bar')"
   ]
  },
  {
   "cell_type": "code",
   "execution_count": 448,
   "metadata": {},
   "outputs": [
    {
     "name": "stdout",
     "output_type": "stream",
     "text": [
      "                                       gemm_sgemm_128x128x8_NN_vec  \\\n",
      "achieved_occupancy                                    2.497920e-01   \n",
      "atomic_transactions                                   0.000000e+00   \n",
      "atomic_transactions_per_request                       0.000000e+00   \n",
      "branch_efficiency                                     1.000000e+00   \n",
      "cf_executed                                           1.332659e+08   \n",
      "cf_fu_utilization                                     1.000000e+00   \n",
      "cf_issued                                             1.332659e+08   \n",
      "double_precision_fu_utilization                       0.000000e+00   \n",
      "dram_read_throughput                                  1.670109e+11   \n",
      "dram_read_transactions                                2.471221e+09   \n",
      "dram_utilization                                      3.000000e+00   \n",
      "dram_write_throughput                                 1.414998e+09   \n",
      "dram_write_transactions                               2.093748e+07   \n",
      "eligible_warps_per_cycle                              1.091024e+01   \n",
      "flop_count_dp                                         0.000000e+00   \n",
      "flop_count_dp_add                                     0.000000e+00   \n",
      "flop_count_dp_fma                                     0.000000e+00   \n",
      "flop_count_dp_mul                                     0.000000e+00   \n",
      "flop_count_hp                                         0.000000e+00   \n",
      "flop_count_hp_add                                     0.000000e+00   \n",
      "flop_count_hp_fma                                     0.000000e+00   \n",
      "flop_count_hp_mul                                     0.000000e+00   \n",
      "flop_count_sp                                         4.321905e+12   \n",
      "flop_count_sp_add                                     0.000000e+00   \n",
      "flop_count_sp_fma                                     2.160868e+12   \n",
      "flop_count_sp_mul                                     1.697446e+08   \n",
      "flop_count_sp_special                                 2.611456e+06   \n",
      "flop_dp_efficiency                                    0.000000e+00   \n",
      "flop_hp_efficiency                                    0.000000e+00   \n",
      "flop_sp_efficiency                                    9.582670e-01   \n",
      "...                                                            ...   \n",
      "shared_store_transactions                             1.060904e+09   \n",
      "shared_store_transactions_per_request                 8.924890e-01   \n",
      "shared_utilization                                    3.000000e+00   \n",
      "single_precision_fu_utilization                       1.000000e+01   \n",
      "sm_efficiency                                         9.953010e-01   \n",
      "special_fu_utilization                                1.000000e+00   \n",
      "stall_constant_memory_dependency                      3.300000e-06   \n",
      "stall_exec_dependency                                 1.466400e-03   \n",
      "stall_inst_fetch                                      2.679630e-02   \n",
      "stall_memory_dependency                               4.329000e-04   \n",
      "stall_memory_throttle                                 3.200000e-06   \n",
      "stall_not_selected                                    6.373780e-01   \n",
      "stall_other                                           1.942790e-01   \n",
      "stall_pipe_busy                                       4.077000e-03   \n",
      "stall_sync                                            1.355620e-01   \n",
      "stall_texture                                         7.000000e-07   \n",
      "sysmem_read_throughput                                0.000000e+00   \n",
      "sysmem_read_transactions                              0.000000e+00   \n",
      "sysmem_read_utilization                               0.000000e+00   \n",
      "sysmem_utilization                                    1.000000e+00   \n",
      "sysmem_write_throughput                               3.360000e+02   \n",
      "sysmem_write_transactions                             5.000000e+00   \n",
      "sysmem_write_utilization                              1.000000e+00   \n",
      "tex_cache_hit_rate                                    5.506200e-03   \n",
      "tex_cache_throughput                                  2.852052e+11   \n",
      "tex_cache_transactions                                4.220113e+09   \n",
      "tex_fu_utilization                                    1.000000e+00   \n",
      "tex_utilization                                       2.000000e+00   \n",
      "warp_execution_efficiency                             1.000000e+00   \n",
      "warp_nonpred_execution_efficiency                     9.912040e-01   \n",
      "\n",
      "                                       gemm_maxwell_sgemm_128x64_nn  \\\n",
      "achieved_occupancy                                     2.118520e-01   \n",
      "atomic_transactions                                    0.000000e+00   \n",
      "atomic_transactions_per_request                        0.000000e+00   \n",
      "branch_efficiency                                      1.000000e+00   \n",
      "cf_executed                                            1.459230e+05   \n",
      "cf_fu_utilization                                      1.000000e+00   \n",
      "cf_issued                                              1.459230e+05   \n",
      "double_precision_fu_utilization                        0.000000e+00   \n",
      "dram_read_throughput                                   3.582357e+10   \n",
      "dram_read_transactions                                 2.335500e+05   \n",
      "dram_utilization                                       1.000000e+00   \n",
      "dram_write_throughput                                  2.166607e+10   \n",
      "dram_write_transactions                                1.412500e+05   \n",
      "eligible_warps_per_cycle                               7.664702e+00   \n",
      "flop_count_dp                                          0.000000e+00   \n",
      "flop_count_dp_add                                      0.000000e+00   \n",
      "flop_count_dp_fma                                      0.000000e+00   \n",
      "flop_count_dp_mul                                      0.000000e+00   \n",
      "flop_count_hp                                          0.000000e+00   \n",
      "flop_count_hp_add                                      0.000000e+00   \n",
      "flop_count_hp_fma                                      0.000000e+00   \n",
      "flop_count_hp_mul                                      0.000000e+00   \n",
      "flop_count_sp                                          1.441858e+09   \n",
      "flop_count_sp_add                                      0.000000e+00   \n",
      "flop_count_sp_fma                                      7.201260e+08   \n",
      "flop_count_sp_mul                                      1.605632e+06   \n",
      "flop_count_sp_special                                  0.000000e+00   \n",
      "flop_dp_efficiency                                     0.000000e+00   \n",
      "flop_hp_efficiency                                     0.000000e+00   \n",
      "flop_sp_efficiency                                     7.216920e-01   \n",
      "...                                                             ...   \n",
      "shared_store_transactions                              6.279840e+05   \n",
      "shared_store_transactions_per_request                  1.142653e+00   \n",
      "shared_utilization                                     3.000000e+00   \n",
      "single_precision_fu_utilization                        9.000000e+00   \n",
      "sm_efficiency                                          9.191920e-01   \n",
      "special_fu_utilization                                 0.000000e+00   \n",
      "stall_constant_memory_dependency                       3.118900e-03   \n",
      "stall_exec_dependency                                  3.166810e-02   \n",
      "stall_inst_fetch                                       8.049230e-02   \n",
      "stall_memory_dependency                                1.201670e-01   \n",
      "stall_memory_throttle                                  3.746000e-04   \n",
      "stall_not_selected                                     5.025360e-01   \n",
      "stall_other                                            8.936850e-02   \n",
      "stall_pipe_busy                                        5.031420e-02   \n",
      "stall_sync                                             1.219590e-01   \n",
      "stall_texture                                          0.000000e+00   \n",
      "sysmem_read_throughput                                 0.000000e+00   \n",
      "sysmem_read_transactions                               0.000000e+00   \n",
      "sysmem_read_utilization                                0.000000e+00   \n",
      "sysmem_utilization                                     1.000000e+00   \n",
      "sysmem_write_throughput                                7.669320e+05   \n",
      "sysmem_write_transactions                              5.000000e+00   \n",
      "sysmem_write_utilization                               1.000000e+00   \n",
      "tex_cache_hit_rate                                     5.271610e-01   \n",
      "tex_cache_throughput                                   3.835642e+11   \n",
      "tex_cache_transactions                                 2.500624e+06   \n",
      "tex_fu_utilization                                     2.000000e+00   \n",
      "tex_utilization                                        2.000000e+00   \n",
      "warp_execution_efficiency                              1.000000e+00   \n",
      "warp_nonpred_execution_efficiency                      9.953880e-01   \n",
      "\n",
      "                                       gemm_sgemm_32x32x32_NN_vec  \\\n",
      "achieved_occupancy                                   1.690710e-01   \n",
      "atomic_transactions                                  0.000000e+00   \n",
      "atomic_transactions_per_request                      0.000000e+00   \n",
      "branch_efficiency                                    1.000000e+00   \n",
      "cf_executed                                          4.000000e+04   \n",
      "cf_fu_utilization                                    1.000000e+00   \n",
      "cf_issued                                            4.000000e+04   \n",
      "double_precision_fu_utilization                      0.000000e+00   \n",
      "dram_read_throughput                                 4.073121e+10   \n",
      "dram_read_transactions                               1.026570e+05   \n",
      "dram_utilization                                     1.000000e+00   \n",
      "dram_write_throughput                                3.073199e+10   \n",
      "dram_write_transactions                              7.745600e+04   \n",
      "eligible_warps_per_cycle                             7.135815e+00   \n",
      "flop_count_dp                                        0.000000e+00   \n",
      "flop_count_dp_add                                    0.000000e+00   \n",
      "flop_count_dp_fma                                    0.000000e+00   \n",
      "flop_count_dp_mul                                    0.000000e+00   \n",
      "flop_count_hp                                        0.000000e+00   \n",
      "flop_count_hp_add                                    0.000000e+00   \n",
      "flop_count_hp_fma                                    0.000000e+00   \n",
      "flop_count_hp_mul                                    0.000000e+00   \n",
      "flop_count_sp                                        5.314048e+08   \n",
      "flop_count_sp_add                                    2.867200e+06   \n",
      "flop_count_sp_fma                                    2.626048e+08   \n",
      "flop_count_sp_mul                                    3.328000e+06   \n",
      "flop_count_sp_special                                5.120000e+04   \n",
      "flop_dp_efficiency                                   0.000000e+00   \n",
      "flop_hp_efficiency                                   0.000000e+00   \n",
      "flop_sp_efficiency                                   6.886530e-01   \n",
      "...                                                           ...   \n",
      "shared_store_transactions                            6.208000e+05   \n",
      "shared_store_transactions_per_request                1.709251e+00   \n",
      "shared_utilization                                   3.000000e+00   \n",
      "single_precision_fu_utilization                      9.000000e+00   \n",
      "sm_efficiency                                        8.590950e-01   \n",
      "special_fu_utilization                               1.000000e+00   \n",
      "stall_constant_memory_dependency                     4.896200e-03   \n",
      "stall_exec_dependency                                1.409100e-02   \n",
      "stall_inst_fetch                                     9.859970e-02   \n",
      "stall_memory_dependency                              6.566230e-02   \n",
      "stall_memory_throttle                                3.845000e-04   \n",
      "stall_not_selected                                   6.031810e-01   \n",
      "stall_other                                          3.554610e-02   \n",
      "stall_pipe_busy                                      7.075170e-02   \n",
      "stall_sync                                           1.068860e-01   \n",
      "stall_texture                                        0.000000e+00   \n",
      "sysmem_read_throughput                               0.000000e+00   \n",
      "sysmem_read_transactions                             0.000000e+00   \n",
      "sysmem_read_utilization                              0.000000e+00   \n",
      "sysmem_utilization                                   1.000000e+00   \n",
      "sysmem_write_throughput                              1.983822e+06   \n",
      "sysmem_write_transactions                            5.000000e+00   \n",
      "sysmem_write_utilization                             1.000000e+00   \n",
      "tex_cache_hit_rate                                   2.432310e-02   \n",
      "tex_cache_throughput                                 8.125810e+11   \n",
      "tex_cache_transactions                               2.048000e+06   \n",
      "tex_fu_utilization                                   2.000000e+00   \n",
      "tex_utilization                                      4.000000e+00   \n",
      "warp_execution_efficiency                            1.000000e+00   \n",
      "warp_nonpred_execution_efficiency                    9.882920e-01   \n",
      "\n",
      "                                       gaussian_Fan2  gaussian_Fan1  \\\n",
      "achieved_occupancy                      1.542730e-01   1.876150e-01   \n",
      "atomic_transactions                     0.000000e+00   0.000000e+00   \n",
      "atomic_transactions_per_request         0.000000e+00   0.000000e+00   \n",
      "branch_efficiency                       1.000000e+00   9.998920e-01   \n",
      "cf_executed                             1.130880e+05   9.600000e+01   \n",
      "cf_fu_utilization                       1.000000e+00   1.000000e+00   \n",
      "cf_issued                               1.130880e+05   9.600000e+01   \n",
      "double_precision_fu_utilization         0.000000e+00   0.000000e+00   \n",
      "dram_read_throughput                    1.086047e+10   3.838584e+09   \n",
      "dram_read_transactions                  4.146600e+04   5.240000e+02   \n",
      "dram_utilization                        1.000000e+00   1.000000e+00   \n",
      "dram_write_throughput                   1.211363e+10   1.517723e+10   \n",
      "dram_write_transactions                 4.625100e+04   2.073000e+03   \n",
      "eligible_warps_per_cycle                2.907930e-01   3.842060e-01   \n",
      "flop_count_dp                           0.000000e+00   0.000000e+00   \n",
      "flop_count_dp_add                       0.000000e+00   0.000000e+00   \n",
      "flop_count_dp_fma                       0.000000e+00   0.000000e+00   \n",
      "flop_count_dp_mul                       0.000000e+00   0.000000e+00   \n",
      "flop_count_hp                           0.000000e+00   0.000000e+00   \n",
      "flop_count_hp_add                       0.000000e+00   0.000000e+00   \n",
      "flop_count_hp_fma                       0.000000e+00   0.000000e+00   \n",
      "flop_count_hp_mul                       0.000000e+00   0.000000e+00   \n",
      "flop_count_sp                           6.576960e+05   7.439000e+03   \n",
      "flop_count_sp_add                       0.000000e+00   4.950000e+02   \n",
      "flop_count_sp_fma                       3.288480e+05   3.471000e+03   \n",
      "flop_count_sp_mul                       0.000000e+00   0.000000e+00   \n",
      "flop_count_sp_special                   0.000000e+00   4.950000e+02   \n",
      "flop_dp_efficiency                      0.000000e+00   0.000000e+00   \n",
      "flop_hp_efficiency                      0.000000e+00   0.000000e+00   \n",
      "flop_sp_efficiency                      5.824000e-04   1.336000e-04   \n",
      "...                                              ...            ...   \n",
      "shared_store_transactions               0.000000e+00   0.000000e+00   \n",
      "shared_store_transactions_per_request   0.000000e+00   0.000000e+00   \n",
      "shared_utilization                      0.000000e+00   0.000000e+00   \n",
      "single_precision_fu_utilization         1.000000e+00   1.000000e+00   \n",
      "sm_efficiency                           6.865060e-01   1.128050e-02   \n",
      "special_fu_utilization                  0.000000e+00   1.000000e+00   \n",
      "stall_constant_memory_dependency        8.652300e-03   4.334880e-01   \n",
      "stall_exec_dependency                   2.842380e-01   6.969580e-02   \n",
      "stall_inst_fetch                        9.839550e-02   1.416410e-01   \n",
      "stall_memory_dependency                 5.184530e-01   2.739960e-01   \n",
      "stall_memory_throttle                   3.402380e-02   1.475580e-02   \n",
      "stall_not_selected                      3.330300e-03   1.381500e-02   \n",
      "stall_other                             5.066810e-02   5.016090e-02   \n",
      "stall_pipe_busy                         1.773700e-03   2.445300e-03   \n",
      "stall_sync                              0.000000e+00   0.000000e+00   \n",
      "stall_texture                           4.636000e-04   0.000000e+00   \n",
      "sysmem_read_throughput                  0.000000e+00   0.000000e+00   \n",
      "sysmem_read_transactions                0.000000e+00   0.000000e+00   \n",
      "sysmem_read_utilization                 0.000000e+00   0.000000e+00   \n",
      "sysmem_utilization                      1.000000e+00   1.000000e+00   \n",
      "sysmem_write_throughput                 1.309535e+06   3.659100e+07   \n",
      "sysmem_write_transactions               5.000000e+00   5.000000e+00   \n",
      "sysmem_write_utilization                1.000000e+00   1.000000e+00   \n",
      "tex_cache_hit_rate                      3.777500e-01   5.661470e-02   \n",
      "tex_cache_throughput                    3.246931e+10   9.175344e+08   \n",
      "tex_cache_transactions                  1.239710e+05   1.250000e+02   \n",
      "tex_fu_utilization                      1.000000e+00   1.000000e+00   \n",
      "tex_utilization                         1.000000e+00   1.000000e+00   \n",
      "warp_execution_efficiency               4.984380e-01   9.773330e-01   \n",
      "warp_nonpred_execution_efficiency       4.854560e-01   9.505990e-01   \n",
      "\n",
      "                                       stream_set_array  stream_STREAM_Triad  \\\n",
      "achieved_occupancy                         1.822100e-01         3.391210e-01   \n",
      "atomic_transactions                        0.000000e+00         0.000000e+00   \n",
      "atomic_transactions_per_request            0.000000e+00         0.000000e+00   \n",
      "branch_efficiency                          1.000000e+00         1.000000e+00   \n",
      "cf_executed                                1.187200e+04         1.187200e+04   \n",
      "cf_fu_utilization                          1.000000e+00         1.000000e+00   \n",
      "cf_issued                                  1.187200e+04         1.187200e+04   \n",
      "double_precision_fu_utilization            0.000000e+00         0.000000e+00   \n",
      "dram_read_throughput                       4.585328e+07         3.196690e+09   \n",
      "dram_read_transactions                     8.000000e+00         5.800000e+02   \n",
      "dram_utilization                           1.000000e+00         1.000000e+00   \n",
      "dram_write_throughput                      4.505099e+10         3.690247e+10   \n",
      "dram_write_transactions                    7.860000e+03         6.695000e+03   \n",
      "eligible_warps_per_cycle                   8.135230e-01         7.452400e-01   \n",
      "flop_count_dp                              0.000000e+00         0.000000e+00   \n",
      "flop_count_dp_add                          0.000000e+00         0.000000e+00   \n",
      "flop_count_dp_fma                          0.000000e+00         0.000000e+00   \n",
      "flop_count_dp_mul                          0.000000e+00         0.000000e+00   \n",
      "flop_count_hp                              0.000000e+00         0.000000e+00   \n",
      "flop_count_hp_add                          0.000000e+00         0.000000e+00   \n",
      "flop_count_hp_fma                          0.000000e+00         0.000000e+00   \n",
      "flop_count_hp_mul                          0.000000e+00         0.000000e+00   \n",
      "flop_count_sp                              0.000000e+00         3.799040e+05   \n",
      "flop_count_sp_add                          0.000000e+00         0.000000e+00   \n",
      "flop_count_sp_fma                          0.000000e+00         1.899520e+05   \n",
      "flop_count_sp_mul                          0.000000e+00         0.000000e+00   \n",
      "flop_count_sp_special                      0.000000e+00         0.000000e+00   \n",
      "flop_dp_efficiency                         0.000000e+00         0.000000e+00   \n",
      "flop_hp_efficiency                         0.000000e+00         0.000000e+00   \n",
      "flop_sp_efficiency                         0.000000e+00         5.915000e-03   \n",
      "...                                                 ...                  ...   \n",
      "shared_store_transactions                  0.000000e+00         0.000000e+00   \n",
      "shared_store_transactions_per_request      0.000000e+00         0.000000e+00   \n",
      "shared_utilization                         0.000000e+00         0.000000e+00   \n",
      "single_precision_fu_utilization            2.000000e+00         3.000000e+00   \n",
      "sm_efficiency                              3.674850e-01         3.950940e-01   \n",
      "special_fu_utilization                     0.000000e+00         0.000000e+00   \n",
      "stall_constant_memory_dependency           2.771840e-01         1.680440e-01   \n",
      "stall_exec_dependency                      3.800050e-01         1.350160e-01   \n",
      "stall_inst_fetch                           1.413270e-01         2.967220e-02   \n",
      "stall_memory_dependency                    0.000000e+00         5.744460e-01   \n",
      "stall_memory_throttle                      7.487500e-03         1.158550e-02   \n",
      "stall_not_selected                         2.136160e-02         1.167520e-02   \n",
      "stall_other                                1.671850e-01         6.671260e-02   \n",
      "stall_pipe_busy                            5.448500e-03         2.847000e-03   \n",
      "stall_sync                                 0.000000e+00         0.000000e+00   \n",
      "stall_texture                              0.000000e+00         0.000000e+00   \n",
      "sysmem_read_throughput                     0.000000e+00         0.000000e+00   \n",
      "sysmem_read_transactions                   0.000000e+00         0.000000e+00   \n",
      "sysmem_read_utilization                    0.000000e+00         0.000000e+00   \n",
      "sysmem_utilization                         1.000000e+00         1.000000e+00   \n",
      "sysmem_write_throughput                    2.865821e+07         2.755752e+07   \n",
      "sysmem_write_transactions                  5.000000e+00         5.000000e+00   \n",
      "sysmem_write_utilization                   1.000000e+00         1.000000e+00   \n",
      "tex_cache_hit_rate                         5.000000e-01         5.000000e-01   \n",
      "tex_cache_throughput                       0.000000e+00         2.617310e+11   \n",
      "tex_cache_transactions                     0.000000e+00         4.748800e+04   \n",
      "tex_fu_utilization                         2.000000e+00         4.000000e+00   \n",
      "tex_utilization                            0.000000e+00         1.000000e+00   \n",
      "warp_execution_efficiency                  1.000000e+00         1.000000e+00   \n",
      "warp_nonpred_execution_efficiency          9.444440e-01         9.565210e-01   \n",
      "\n",
      "                                       stream_STREAM_Scale  \\\n",
      "achieved_occupancy                            2.335560e-01   \n",
      "atomic_transactions                           0.000000e+00   \n",
      "atomic_transactions_per_request               0.000000e+00   \n",
      "branch_efficiency                             1.000000e+00   \n",
      "cf_executed                                   1.187200e+04   \n",
      "cf_fu_utilization                             1.000000e+00   \n",
      "cf_issued                                     1.187200e+04   \n",
      "double_precision_fu_utilization               0.000000e+00   \n",
      "dram_read_throughput                          3.875747e+07   \n",
      "dram_read_transactions                        7.000000e+00   \n",
      "dram_utilization                              2.000000e+00   \n",
      "dram_write_throughput                         9.186398e+10   \n",
      "dram_write_transactions                       1.659100e+04   \n",
      "eligible_warps_per_cycle                      8.336870e-01   \n",
      "flop_count_dp                                 0.000000e+00   \n",
      "flop_count_dp_add                             0.000000e+00   \n",
      "flop_count_dp_fma                             0.000000e+00   \n",
      "flop_count_dp_mul                             0.000000e+00   \n",
      "flop_count_hp                                 0.000000e+00   \n",
      "flop_count_hp_add                             0.000000e+00   \n",
      "flop_count_hp_fma                             0.000000e+00   \n",
      "flop_count_hp_mul                             0.000000e+00   \n",
      "flop_count_sp                                 1.899520e+05   \n",
      "flop_count_sp_add                             0.000000e+00   \n",
      "flop_count_sp_fma                             0.000000e+00   \n",
      "flop_count_sp_mul                             1.899520e+05   \n",
      "flop_count_sp_special                         0.000000e+00   \n",
      "flop_dp_efficiency                            0.000000e+00   \n",
      "flop_hp_efficiency                            0.000000e+00   \n",
      "flop_sp_efficiency                            3.046000e-03   \n",
      "...                                                    ...   \n",
      "shared_store_transactions                     0.000000e+00   \n",
      "shared_store_transactions_per_request         0.000000e+00   \n",
      "shared_utilization                            0.000000e+00   \n",
      "single_precision_fu_utilization               2.000000e+00   \n",
      "sm_efficiency                                 4.133240e-01   \n",
      "special_fu_utilization                        0.000000e+00   \n",
      "stall_constant_memory_dependency              2.187520e-01   \n",
      "stall_exec_dependency                         1.772460e-01   \n",
      "stall_inst_fetch                              7.723870e-02   \n",
      "stall_memory_dependency                       4.259870e-01   \n",
      "stall_memory_throttle                         6.921300e-03   \n",
      "stall_not_selected                            1.086730e-02   \n",
      "stall_other                                   8.029860e-02   \n",
      "stall_pipe_busy                               2.687000e-03   \n",
      "stall_sync                                    0.000000e+00   \n",
      "stall_texture                                 0.000000e+00   \n",
      "sysmem_read_throughput                        0.000000e+00   \n",
      "sysmem_read_transactions                      0.000000e+00   \n",
      "sysmem_read_utilization                       0.000000e+00   \n",
      "sysmem_utilization                            1.000000e+00   \n",
      "sysmem_write_throughput                       2.768387e+07   \n",
      "sysmem_write_transactions                     5.000000e+00   \n",
      "sysmem_write_utilization                      1.000000e+00   \n",
      "tex_cache_hit_rate                            5.000000e-01   \n",
      "tex_cache_throughput                          1.314657e+11   \n",
      "tex_cache_transactions                        2.374400e+04   \n",
      "tex_fu_utilization                            3.000000e+00   \n",
      "tex_utilization                               1.000000e+00   \n",
      "warp_execution_efficiency                     1.000000e+00   \n",
      "warp_nonpred_execution_efficiency             9.523800e-01   \n",
      "\n",
      "                                       stream_STREAM_Copy  stream_STREAM_Add  \n",
      "achieved_occupancy                           2.305810e-01       3.053750e-01  \n",
      "atomic_transactions                          0.000000e+00       0.000000e+00  \n",
      "atomic_transactions_per_request              0.000000e+00       0.000000e+00  \n",
      "branch_efficiency                            1.000000e+00       1.000000e+00  \n",
      "cf_executed                                  1.187200e+04       1.187200e+04  \n",
      "cf_fu_utilization                            1.000000e+00       1.000000e+00  \n",
      "cf_issued                                    1.187200e+04       1.187200e+04  \n",
      "double_precision_fu_utilization              0.000000e+00       0.000000e+00  \n",
      "dram_read_throughput                         8.045755e+07       1.513840e+08  \n",
      "dram_read_transactions                       1.400000e+01       2.700000e+01  \n",
      "dram_utilization                             2.000000e+00       2.000000e+00  \n",
      "dram_write_throughput                        1.044286e+11       1.098696e+11  \n",
      "dram_write_transactions                      1.882000e+04       1.995800e+04  \n",
      "eligible_warps_per_cycle                     8.342630e-01       8.504250e-01  \n",
      "flop_count_dp                                0.000000e+00       0.000000e+00  \n",
      "flop_count_dp_add                            0.000000e+00       0.000000e+00  \n",
      "flop_count_dp_fma                            0.000000e+00       0.000000e+00  \n",
      "flop_count_dp_mul                            0.000000e+00       0.000000e+00  \n",
      "flop_count_hp                                0.000000e+00       0.000000e+00  \n",
      "flop_count_hp_add                            0.000000e+00       0.000000e+00  \n",
      "flop_count_hp_fma                            0.000000e+00       0.000000e+00  \n",
      "flop_count_hp_mul                            0.000000e+00       0.000000e+00  \n",
      "flop_count_sp                                0.000000e+00       1.899520e+05  \n",
      "flop_count_sp_add                            0.000000e+00       1.899520e+05  \n",
      "flop_count_sp_fma                            0.000000e+00       0.000000e+00  \n",
      "flop_count_sp_mul                            0.000000e+00       0.000000e+00  \n",
      "flop_count_sp_special                        0.000000e+00       0.000000e+00  \n",
      "flop_dp_efficiency                           0.000000e+00       0.000000e+00  \n",
      "flop_hp_efficiency                           0.000000e+00       0.000000e+00  \n",
      "flop_sp_efficiency                           0.000000e+00       2.960800e-03  \n",
      "...                                                   ...                ...  \n",
      "shared_store_transactions                    0.000000e+00       0.000000e+00  \n",
      "shared_store_transactions_per_request        0.000000e+00       0.000000e+00  \n",
      "shared_utilization                           0.000000e+00       0.000000e+00  \n",
      "single_precision_fu_utilization              2.000000e+00       3.000000e+00  \n",
      "sm_efficiency                                4.129510e-01       4.011310e-01  \n",
      "special_fu_utilization                       0.000000e+00       0.000000e+00  \n",
      "stall_constant_memory_dependency             2.612670e-01       1.042040e-01  \n",
      "stall_exec_dependency                        1.516060e-01       1.768650e-01  \n",
      "stall_inst_fetch                             7.626300e-02       9.843710e-02  \n",
      "stall_memory_dependency                      3.741830e-01       4.587850e-01  \n",
      "stall_memory_throttle                        1.616610e-02       1.861850e-02  \n",
      "stall_not_selected                           1.004920e-02       1.121360e-02  \n",
      "stall_other                                  1.083430e-01       1.282680e-01  \n",
      "stall_pipe_busy                              2.120900e-03       3.607500e-03  \n",
      "stall_sync                                   0.000000e+00       0.000000e+00  \n",
      "stall_texture                                0.000000e+00       0.000000e+00  \n",
      "sysmem_read_throughput                       0.000000e+00       0.000000e+00  \n",
      "sysmem_read_transactions                     0.000000e+00       0.000000e+00  \n",
      "sysmem_read_utilization                      0.000000e+00       0.000000e+00  \n",
      "sysmem_utilization                           1.000000e+00       1.000000e+00  \n",
      "sysmem_write_throughput                      2.774385e+07       2.752428e+07  \n",
      "sysmem_write_transactions                    5.000000e+00       5.000000e+00  \n",
      "sysmem_write_utilization                     1.000000e+00       1.000000e+00  \n",
      "tex_cache_hit_rate                           5.000000e-01       5.000000e-01  \n",
      "tex_cache_throughput                         1.317503e+11       2.614164e+11  \n",
      "tex_cache_transactions                       2.374400e+04       4.748800e+04  \n",
      "tex_fu_utilization                           3.000000e+00       4.000000e+00  \n",
      "tex_utilization                              1.000000e+00       1.000000e+00  \n",
      "warp_execution_efficiency                    1.000000e+00       1.000000e+00  \n",
      "warp_nonpred_execution_efficiency            9.500000e-01       9.565210e-01  \n",
      "\n",
      "[118 rows x 10 columns]\n"
     ]
    }
   ],
   "source": [
    "import pandas as pd\n",
    "%matplotlib inline\n",
    "df = pd.DataFrame.from_dict(combined_data_)\n",
    "print ((df))\n",
    "\n",
    "#df.plot(x='inst_per_warp', y='dram_read_transactions', kind='scatter', title=\"Gauss & Gemm Metric Results\" )\n",
    "#df.plot(x='inst_per_warp', y='l2_read_transactions', kind='scatter', title=\"Gauss & Gemm Metric Results\")"
   ]
  },
  {
   "cell_type": "code",
   "execution_count": 449,
   "metadata": {},
   "outputs": [],
   "source": [
    "executable = \"gaussian\"\n",
    "for file in glob.glob(\"/home/yzamora/power/nvidia_gpus/all_apps/gaussian_time_timing/*.csv\"):\n",
    "    #nf = \"gaussian_N128.csv\"\n",
    "    nf = os.path.basename(file)\n",
    "    filesplt = os.path.basename(nf).split(\".\")[0].split('N')[1]\n",
    "    filename = executable + \"_\" + filesplt\n",
    "    #print(filename)\n",
    "    for key, value in combined_data_.items():\n",
    "        #print(key)\n",
    "        if filename in key:\n",
    "            with open(file) as results:\n",
    "                for l in results:\n",
    "                    if \"Time for CUDA kernel 1\" in l:\n",
    "                        #print(\"in kern\")\n",
    "                        combined_data_[key][\"Time(s)\"] = float(l.split(\":\")[1].split()[0])\n",
    "                \n",
    "#print(combined_data_)"
   ]
  },
  {
   "cell_type": "code",
   "execution_count": 450,
   "metadata": {},
   "outputs": [],
   "source": [
    "#gemm_N128.csv\n",
    "executable = \"gemm_\"\n",
    "for file in glob.glob(\"/home/yzamora/power/nvidia_gpus/all_apps/gemm_timing/*.csv\"):\n",
    "    #print (file)\n",
    "    filesplt = os.path.basename(file).split(\".\")[0].split('N')[1]\n",
    "    filen = executable + filesplt +\"_sge\"\n",
    "    #print(filen)\n",
    "    for key, value in combined_data_.items():      \n",
    "        if filen in key:\n",
    "            with open(file) as results:\n",
    "                for l in results:\n",
    "                    if \"average\" in l:\n",
    "                        combined_data_[key][\"Time(s)\"] = float(l.split(\":\")[2].split()[0])\n",
    "#print(combined_data_)"
   ]
  },
  {
   "cell_type": "code",
   "execution_count": 46,
   "metadata": {},
   "outputs": [
    {
     "name": "stdout",
     "output_type": "stream",
     "text": [
      "stream_100096_STREAM_Add      0.689086\n",
      "stream_100096_STREAM_Copy     0.699040\n",
      "stream_100096_STREAM_Scale    0.708291\n",
      "Name: Time(s), dtype: float64\n"
     ]
    },
    {
     "data": {
      "text/plain": [
       "<matplotlib.axes._subplots.AxesSubplot at 0x7f15093cc160>"
      ]
     },
     "execution_count": 46,
     "metadata": {},
     "output_type": "execute_result"
    },
    {
     "data": {
      "image/png": "[encoded data removed]",
      "text/plain": [
       "<Figure size 432x288 with 1 Axes>"
      ]
     },
     "metadata": {},
     "output_type": "display_data"
    }
   ],
   "source": [
    "#Simple analysis of data\n",
    "import pandas as pd\n",
    "%matplotlib inline\n",
    "#stream_data\n",
    "df = pd.DataFrame.from_dict(combined_data_,orient=\"index\")\n",
    "#df = pd.DataFrame.from_dict(stream_data,orient=\"index\")\n",
    "\n",
    "df = df.dropna()\n",
    "df_s = pd.DataFrame.from_dict(combined_stream,orient=\"index\")\n",
    "#df = pd.DataFrame.from_dict(stream_data,orient=\"index\")\n",
    "\n",
    "df_s = df_s.dropna()\n",
    "print(df_s['Time(s)'][0:3])\n",
    "\n",
    "#print (df.head())\n",
    "\n",
    "df.plot(x='size', y='dram_read_transactions', kind='scatter')\n",
    "#df.plot(x='dram_read_transactions', y='Time(s)', kind='scatter')\n",
    "#df.plot(x='inst_per_warp', y='Time(s)', kind='scatter')\n",
    "#df.plot(x='size', y='Time(s)', kind='scatter')"
   ]
  },
  {
   "cell_type": "raw",
   "metadata": {},
   "source": [
    "import pandas as pd\n",
    "%matplotlib inline\n",
    "\n",
    "\n",
    "df = pd.DataFrame.from_dict(combined_data_,orient=\"index\")\n",
    "#df = pd.DataFrame.from_dict(combined_data_)\n",
    "\n",
    "df.dropna()\n",
    "df_s.dropna()\n",
    "display(df_s.head())\n",
    "print(df_s['Time(s)'][0:3])\n",
    "#df.plot(x='size', y='l2_tex_read_hit_rate', kind='scatter')"
   ]
  },
  {
   "cell_type": "markdown",
   "metadata": {},
   "source": [
    "## Normalizing all data\n"
   ]
  },
  {
   "cell_type": "code",
   "execution_count": 47,
   "metadata": {},
   "outputs": [],
   "source": [
    "\"\"\"column_names = list(df.columns.values)\n",
    "metric_max = {}\n",
    "count =0\n",
    "for columns in df:\n",
    "     metric_max[column_names[count]]= max(df[columns])\n",
    "     count +=1\"\"\"\n",
    "df_norm = (df-df.mean())/(df.std())\n",
    "#df_norm = df_norm.dropna(axis='columns')\n",
    "df_s_norm = (df_s-df_s.mean())/(df_s.std())\n",
    "#df_s_norm = df_s_norm.dropna(axis='columns')\n",
    "#print (df_norm['local_load_transactions_per_request'])"
   ]
  },
  {
   "cell_type": "code",
   "execution_count": 48,
   "metadata": {},
   "outputs": [
    {
     "name": "stdout",
     "output_type": "stream",
     "text": [
      "stream_100096_STREAM_Add     -1.200821\n",
      "stream_100096_STREAM_Copy    -0.384841\n",
      "stream_100096_STREAM_Scale    0.373522\n",
      "Name: Time(s), dtype: float64\n"
     ]
    }
   ],
   "source": [
    "print(df_s_norm['Time(s)'][0:3])"
   ]
  },
  {
   "cell_type": "code",
   "execution_count": 49,
   "metadata": {},
   "outputs": [
    {
     "data": {
      "text/plain": [
       "array([[<matplotlib.axes._subplots.AxesSubplot object at 0x7f1509305e10>]],\n",
       "      dtype=object)"
      ]
     },
     "execution_count": 49,
     "metadata": {},
     "output_type": "execute_result"
    },
    {
     "data": {
      "image/png": "[encoded data removed]",
      "text/plain": [
       "<Figure size 432x288 with 1 Axes>"
      ]
     },
     "metadata": {},
     "output_type": "display_data"
    }
   ],
   "source": [
    "df_norm.hist(column='size')"
   ]
  },
  {
   "cell_type": "markdown",
   "metadata": {},
   "source": [
    "# Further analysis of data - Random forest model, correlation graph, prediction graph"
   ]
  },
  {
   "cell_type": "code",
   "execution_count": 50,
   "metadata": {},
   "outputs": [
    {
     "name": "stdout",
     "output_type": "stream",
     "text": [
      "size                                    -0.045517\n",
      "inst_per_warp                           -0.127429\n",
      "branch_efficiency                             NaN\n",
      "warp_execution_efficiency                     NaN\n",
      "warp_nonpred_execution_efficiency       -0.126700\n",
      "inst_replay_overhead                     0.020343\n",
      "shared_load_transactions_per_request          NaN\n",
      "shared_store_transactions_per_request         NaN\n",
      "local_load_transactions_per_request           NaN\n",
      "local_store_transactions_per_request          NaN\n",
      "gld_transactions_per_request                  NaN\n",
      "gst_transactions_per_request                  NaN\n",
      "shared_store_transactions                     NaN\n",
      "shared_load_transactions                      NaN\n",
      "local_load_transactions                       NaN\n",
      "local_store_transactions                      NaN\n",
      "gld_transactions                        -0.097145\n",
      "gst_transactions                        -0.045517\n",
      "sysmem_read_transactions                      NaN\n",
      "sysmem_write_transactions                     NaN\n",
      "l2_read_transactions                    -0.097091\n",
      "l2_write_transactions                   -0.045525\n",
      "dram_read_transactions                  -0.057663\n",
      "dram_write_transactions                 -0.043050\n",
      "global_hit_rate                               NaN\n",
      "local_hit_rate                                NaN\n",
      "gld_requested_throughput                -0.097504\n",
      "gst_requested_throughput                -0.024449\n",
      "gld_throughput                          -0.097504\n",
      "gst_throughput                          -0.024449\n",
      "                                           ...   \n",
      "stall_memory_throttle                   -0.102020\n",
      "stall_not_selected                      -0.003808\n",
      "l2_tex_write_transactions               -0.045517\n",
      "flop_count_hp                                 NaN\n",
      "flop_count_hp_add                             NaN\n",
      "flop_count_hp_mul                             NaN\n",
      "flop_count_hp_fma                             NaN\n",
      "inst_fp_16                                    NaN\n",
      "ipc                                     -0.016668\n",
      "issued_ipc                              -0.014386\n",
      "issue_slot_utilization                  -0.003347\n",
      "sm_efficiency                           -0.033187\n",
      "achieved_occupancy                      -0.042902\n",
      "eligible_warps_per_cycle                -0.015915\n",
      "shared_utilization                            NaN\n",
      "l2_utilization                          -0.087631\n",
      "tex_utilization                         -0.054972\n",
      "ldst_fu_utilization                           NaN\n",
      "cf_fu_utilization                             NaN\n",
      "tex_fu_utilization                      -0.057710\n",
      "special_fu_utilization                        NaN\n",
      "half_precision_fu_utilization                 NaN\n",
      "single_precision_fu_utilization         -0.034370\n",
      "double_precision_fu_utilization               NaN\n",
      "flop_hp_efficiency                            NaN\n",
      "flop_sp_efficiency                      -0.086396\n",
      "flop_dp_efficiency                            NaN\n",
      "sysmem_read_utilization                       NaN\n",
      "sysmem_write_utilization                      NaN\n",
      "Time(s)                                  1.000000\n",
      "Name: Time(s), Length: 120, dtype: float64\n"
     ]
    },
    {
     "data": {
      "image/png": "[encoded data removed]",
      "text/plain": [
       "<Figure size 288x288 with 1 Axes>"
      ]
     },
     "metadata": {},
     "output_type": "display_data"
    }
   ],
   "source": [
    "import matplotlib.pyplot as plt\n",
    "#plt.matshow(df_norm.corr())\n",
    "df_norm.dropna(how='any')\n",
    "df_s_norm.dropna(how='any')\n",
    "#print(df_s_norm.head())\n",
    "\n",
    "import matplotlib.pyplot as plt\n",
    "plt.matshow(df_s_norm.corr())\n",
    "print(df_s_norm.corr()[\"Time(s)\"])"
   ]
  },
  {
   "cell_type": "code",
   "execution_count": 51,
   "metadata": {},
   "outputs": [
    {
     "data": {
      "text/plain": [
       "'import numpy as np\\nimport seaborn as sns\\nimport matplotlib.pyplot as plt\\nfrom numpy.random import random\\ncorrmat = df_norm.corr()\\nk = 20\\ncols = corrmat.nlargest(k, \"Time(s)\")[\"Time(s)\"].index\\ncm = np.corrcoef(df_norm[cols].values.T)\\nsns.set(font_scale=1.25)\\nhm = sns.heatmap(cm, cbar=True, annot=True, square=True, fmt=\\'.2f\\', annot_kws={\\'size\\': 10}, yticklabels=cols.values, xticklabels=cols.values)\\nplt.rcParams[\\'figure.figsize\\'] = [20, 40]\\nplt.show()'"
      ]
     },
     "execution_count": 51,
     "metadata": {},
     "output_type": "execute_result"
    }
   ],
   "source": [
    "\"\"\"import numpy as np\n",
    "import seaborn as sns\n",
    "import matplotlib.pyplot as plt\n",
    "from numpy.random import random\n",
    "corrmat = df_norm.corr()\n",
    "k = 20\n",
    "cols = corrmat.nlargest(k, \"Time(s)\")[\"Time(s)\"].index\n",
    "cm = np.corrcoef(df_norm[cols].values.T)\n",
    "sns.set(font_scale=1.25)\n",
    "hm = sns.heatmap(cm, cbar=True, annot=True, square=True, fmt='.2f', annot_kws={'size': 10}, yticklabels=cols.values, xticklabels=cols.values)\n",
    "plt.rcParams['figure.figsize'] = [20, 40]\n",
    "plt.show()\"\"\""
   ]
  },
  {
   "cell_type": "markdown",
   "metadata": {},
   "source": [
    "# Random Forest Model"
   ]
  },
  {
   "cell_type": "markdown",
   "metadata": {},
   "source": [
    "### Cleaning up data, converting to dictionary to dataframe, running RF grid search "
   ]
  },
  {
   "cell_type": "code",
   "execution_count": 52,
   "metadata": {},
   "outputs": [],
   "source": [
    "import pandas as  pd\n",
    "import numpy  as  np\n",
    "import matplotlib.pyplot  as plt\n",
    "from sklearn.ensemble import RandomForestRegressor\n",
    "from sklearn.model_selection import train_test_split, GridSearchCV, ShuffleSplit\n",
    "import scipy as sp\n",
    "import pickle as pkl\n",
    "%matplotlib inline"
   ]
  },
  {
   "cell_type": "code",
   "execution_count": 53,
   "metadata": {},
   "outputs": [
    {
     "name": "stdout",
     "output_type": "stream",
     "text": [
      "X size: (119, 4)\n",
      "y size: (119,)\n",
      "X Stream size: (8616, 4)\n",
      "y Stream size: (8616,)\n"
     ]
    }
   ],
   "source": [
    "#df_norm = df_norm.dropna(subset=['Time(s)'])\n",
    "df_norm = df_norm.dropna(subset=['Time(s)'])\n",
    "\n",
    "X  =  df_norm[['inst_per_warp','size','inst_replay_overhead','flop_sp_efficiency']]\n",
    "y = df_norm['Time(s)']\n",
    "print (\"X size:\", X.shape)\n",
    "print ('y size:', y.shape)\n",
    "df_s_norm = df_s_norm.dropna(subset=['Time(s)'])\n",
    "X_s = df_s_norm[['inst_per_warp','size','inst_replay_overhead','flop_sp_efficiency']]\n",
    "y_s = df_s_norm['Time(s)']\n",
    "print (\"X Stream size:\", X_s.shape)\n",
    "print ('y Stream size:', y_s.shape)\n",
    "#print(df_norm.head())"
   ]
  },
  {
   "cell_type": "code",
   "execution_count": 54,
   "metadata": {},
   "outputs": [],
   "source": [
    "model = GridSearchCV(RandomForestRegressor(n_estimators=100),\n",
    "                     param_grid=dict(max_features=range(1,4)),\n",
    "                     scoring='neg_mean_squared_error',\n",
    "                    cv=10)"
   ]
  },
  {
   "cell_type": "code",
   "execution_count": 55,
   "metadata": {},
   "outputs": [
    {
     "data": {
      "text/plain": [
       "GridSearchCV(cv=10, error_score='raise',\n",
       "       estimator=RandomForestRegressor(bootstrap=True, criterion='mse', max_depth=None,\n",
       "           max_features='auto', max_leaf_nodes=None,\n",
       "           min_impurity_decrease=0.0, min_impurity_split=None,\n",
       "           min_samples_leaf=1, min_samples_split=2,\n",
       "           min_weight_fraction_leaf=0.0, n_estimators=100, n_jobs=1,\n",
       "           oob_score=False, random_state=None, verbose=0, warm_start=False),\n",
       "       fit_params=None, iid=True, n_jobs=1,\n",
       "       param_grid={'max_features': range(1, 4)}, pre_dispatch='2*n_jobs',\n",
       "       refit=True, return_train_score='warn',\n",
       "       scoring='neg_mean_squared_error', verbose=0)"
      ]
     },
     "execution_count": 55,
     "metadata": {},
     "output_type": "execute_result"
    }
   ],
   "source": [
    "model.fit(X,y)"
   ]
  },
  {
   "cell_type": "markdown",
   "metadata": {},
   "source": [
    "## Scoring"
   ]
  },
  {
   "cell_type": "code",
   "execution_count": 56,
   "metadata": {},
   "outputs": [
    {
     "data": {
      "text/plain": [
       "array([-0.03872133, -0.10599177, -0.6758937 ])"
      ]
     },
     "execution_count": 56,
     "metadata": {},
     "output_type": "execute_result"
    }
   ],
   "source": [
    "from sklearn.model_selection import cross_val_score\n",
    "#cross_val_score(model, X, y, scoring='neg_median_absolute_error') \n",
    "cross_val_score(model, X, y, scoring='neg_mean_squared_error') \n"
   ]
  },
  {
   "cell_type": "code",
   "execution_count": 57,
   "metadata": {},
   "outputs": [
    {
     "data": {
      "text/plain": [
       "Text(0,0.5,'RMSD')"
      ]
     },
     "execution_count": 57,
     "metadata": {},
     "output_type": "execute_result"
    },
    {
     "data": {
      "image/png": "[encoded data removed]",
      "text/plain": [
       "<Figure size 432x288 with 1 Axes>"
      ]
     },
     "metadata": {},
     "output_type": "display_data"
    }
   ],
   "source": [
    "fig, ax = plt.subplots()\n",
    "ax.scatter(model.cv_results_['param_max_features'].data,\n",
    "          np.sqrt(-1 * model.cv_results_['mean_test_score']))\n",
    "ax.set_xlabel('Max. Features')\n",
    "ax.set_ylabel('RMSD')"
   ]
  },
  {
   "cell_type": "code",
   "execution_count": 58,
   "metadata": {},
   "outputs": [],
   "source": [
    "model = model.best_estimator_\n"
   ]
  },
  {
   "cell_type": "code",
   "execution_count": 59,
   "metadata": {},
   "outputs": [
    {
     "data": {
      "text/plain": [
       "[('inst_per_warp', 0.4703462877864571),\n",
       " ('size', 0.5128281844011725),\n",
       " ('inst_replay_overhead', 0.01413620912586609),\n",
       " ('flop_sp_efficiency', 0.002689318686504339)]"
      ]
     },
     "execution_count": 59,
     "metadata": {},
     "output_type": "execute_result"
    }
   ],
   "source": [
    "list(zip(X.columns,model.feature_importances_))"
   ]
  },
  {
   "cell_type": "markdown",
   "metadata": {},
   "source": [
    "## Testing model with GEMM and Gaussian App\n"
   ]
  },
  {
   "cell_type": "code",
   "execution_count": 60,
   "metadata": {},
   "outputs": [],
   "source": [
    "from sklearn.model_selection import train_test_split\n",
    "all_y_test = np.zeros((0,))\n",
    "all_y_pred = np.zeros((0,))\n",
    "#given options and list of data, returns the indices of training and test sets \n",
    "for train_inds, test_inds in ShuffleSplit(n_splits=5, test_size=0.1).split(X,y):\n",
    "    # Split off the train and test set\n",
    "    X_test, y_test = X.iloc[test_inds, :], y[test_inds]\n",
    "    X_train, y_train = X.iloc[train_inds, :], y[train_inds]\n",
    "    \n",
    "    # Train the model\n",
    "    model.fit(X_train, y_train)\n",
    "    y_pred = model.predict(X_test)\n",
    "    \n",
    "    # Append the results\n",
    "    all_y_test = np.concatenate((all_y_test, y_test))\n",
    "    #print (all_y_test)\n",
    "    all_y_pred = np.concatenate((all_y_pred, y_pred))"
   ]
  },
  {
   "cell_type": "code",
   "execution_count": 61,
   "metadata": {},
   "outputs": [
    {
     "name": "stdout",
     "output_type": "stream",
     "text": [
      "R: 0.9994356902722722\n",
      "MAE: 0.03026957089945948 s\n",
      "RMSE: 0.04839965051964942 s\n"
     ]
    }
   ],
   "source": [
    "print (\"R:\",  sp.stats.pearsonr(all_y_test, all_y_pred)[0])\n",
    "print (\"MAE:\", np.abs(all_y_test - all_y_pred).mean(), 's')\n",
    "print (\"RMSE:\", np.sqrt(np.power(all_y_test - all_y_pred, 2).mean()), 's')"
   ]
  },
  {
   "cell_type": "markdown",
   "metadata": {},
   "source": [
    "## Testing model using streaming data"
   ]
  },
  {
   "cell_type": "code",
   "execution_count": 62,
   "metadata": {},
   "outputs": [],
   "source": [
    "all_ys_test = np.zeros((0,))\n",
    "all_ys_pred = np.zeros((0,))\n",
    "for train_s_inds, test_s_inds in ShuffleSplit(n_splits=5, test_size=0.1).split(X_s,y_s):\n",
    "    #print (test_s_inds)\n",
    "    # Split off the train and test set\n",
    "    X_s_test, y_s_test = X_s.iloc[test_s_inds, :], y_s[test_s_inds]\n",
    "    #print(X_s_test)\n",
    "    #X_train, y_train = X_s.iloc[train_inds, :], y_s[train_inds]\n",
    "    \n",
    "    # Train the model\n",
    "    y_s_pred = model.predict(X_s_test)\n",
    "    \n",
    "    # Append the results\n",
    "    all_ys_test = np.concatenate((all_ys_test, y_s_test))\n",
    "    #print (all_y_test)\n",
    "    all_ys_pred = np.concatenate((all_ys_pred, y_s_pred))"
   ]
  },
  {
   "cell_type": "code",
   "execution_count": 63,
   "metadata": {},
   "outputs": [
    {
     "name": "stdout",
     "output_type": "stream",
     "text": [
      "R: -0.104552537811959\n",
      "MAE: 0.793787691720527 s\n",
      "RMSE: 1.1203057082085268 s\n"
     ]
    }
   ],
   "source": [
    "print (\"R:\",  sp.stats.pearsonr(all_ys_test, all_ys_pred)[0])\n",
    "print (\"MAE:\", np.abs(all_ys_test - all_ys_pred).mean(), 's')\n",
    "print (\"RMSE:\", np.sqrt(np.power(all_ys_test - all_ys_pred, 2).mean()), 's')"
   ]
  },
  {
   "cell_type": "code",
   "execution_count": 64,
   "metadata": {},
   "outputs": [
    {
     "data": {
      "image/png": "[encoded data removed]",
      "text/plain": [
       "<Figure size 252x252 with 1 Axes>"
      ]
     },
     "metadata": {},
     "output_type": "display_data"
    }
   ],
   "source": [
    "fig, ax = plt.subplots()\n",
    "\n",
    "# Make the plot\n",
    "ax.scatter(all_ys_test, all_ys_pred, alpha=0.5)\n",
    "\n",
    "# Make it pretty\n",
    "ax.set_xlim(ax.get_xlim())\n",
    "ax.set_ylim(ax.get_xlim())\n",
    "\n",
    "ax.set_xlabel('True Time (s)')\n",
    "ax.set_ylabel('Pred. Time (s)')\n",
    "\n",
    "fig.set_size_inches(3.5, 3.5)\n",
    "\n",
    "# Add in the goal line\n",
    "ax.plot(ax.get_xlim(), ax.get_ylim(), 'k--');"
   ]
  },
  {
   "cell_type": "markdown",
   "metadata": {},
   "source": [
    "# Trimming down features "
   ]
  },
  {
   "cell_type": "markdown",
   "metadata": {},
   "source": [
    "## Creating model with features with importance of >= 5"
   ]
  },
  {
   "cell_type": "code",
   "execution_count": 30,
   "metadata": {},
   "outputs": [],
   "source": [
    "feature_importance = list(zip(X.columns,model.feature_importances_))\n",
    "correlation = (df_s.corr()[\"Time(s)\"])"
   ]
  },
  {
   "cell_type": "code",
   "execution_count": 31,
   "metadata": {},
   "outputs": [
    {
     "name": "stdout",
     "output_type": "stream",
     "text": [
      "size                                    -0.045517\n",
      "inst_per_warp                           -0.127429\n",
      "branch_efficiency                             NaN\n",
      "warp_execution_efficiency                     NaN\n",
      "warp_nonpred_execution_efficiency       -0.126700\n",
      "inst_replay_overhead                     0.020343\n",
      "shared_load_transactions_per_request          NaN\n",
      "shared_store_transactions_per_request         NaN\n",
      "local_load_transactions_per_request           NaN\n",
      "local_store_transactions_per_request          NaN\n",
      "gld_transactions_per_request                  NaN\n",
      "gst_transactions_per_request                  NaN\n",
      "shared_store_transactions                     NaN\n",
      "shared_load_transactions                      NaN\n",
      "local_load_transactions                       NaN\n",
      "local_store_transactions                      NaN\n",
      "gld_transactions                        -0.097145\n",
      "gst_transactions                        -0.045517\n",
      "sysmem_read_transactions                      NaN\n",
      "sysmem_write_transactions                     NaN\n",
      "l2_read_transactions                    -0.097091\n",
      "l2_write_transactions                   -0.045525\n",
      "dram_read_transactions                  -0.057663\n",
      "dram_write_transactions                 -0.043050\n",
      "global_hit_rate                               NaN\n",
      "local_hit_rate                                NaN\n",
      "gld_requested_throughput                -0.097504\n",
      "gst_requested_throughput                -0.024449\n",
      "gld_throughput                          -0.097504\n",
      "gst_throughput                          -0.024449\n",
      "                                           ...   \n",
      "stall_memory_throttle                   -0.102020\n",
      "stall_not_selected                      -0.003808\n",
      "l2_tex_write_transactions               -0.045517\n",
      "flop_count_hp                                 NaN\n",
      "flop_count_hp_add                             NaN\n",
      "flop_count_hp_mul                             NaN\n",
      "flop_count_hp_fma                             NaN\n",
      "inst_fp_16                                    NaN\n",
      "ipc                                     -0.016668\n",
      "issued_ipc                              -0.014386\n",
      "issue_slot_utilization                  -0.003347\n",
      "sm_efficiency                           -0.033187\n",
      "achieved_occupancy                      -0.042902\n",
      "eligible_warps_per_cycle                -0.015915\n",
      "shared_utilization                            NaN\n",
      "l2_utilization                          -0.087631\n",
      "tex_utilization                         -0.054972\n",
      "ldst_fu_utilization                           NaN\n",
      "cf_fu_utilization                             NaN\n",
      "tex_fu_utilization                      -0.057710\n",
      "special_fu_utilization                        NaN\n",
      "half_precision_fu_utilization                 NaN\n",
      "single_precision_fu_utilization         -0.034370\n",
      "double_precision_fu_utilization               NaN\n",
      "flop_hp_efficiency                            NaN\n",
      "flop_sp_efficiency                      -0.086396\n",
      "flop_dp_efficiency                            NaN\n",
      "sysmem_read_utilization                       NaN\n",
      "sysmem_write_utilization                      NaN\n",
      "Time(s)                                  1.000000\n",
      "Name: Time(s), Length: 120, dtype: float64\n"
     ]
    }
   ],
   "source": [
    "#print(feature_importance)\n",
    "print ((correlation))"
   ]
  },
  {
   "cell_type": "markdown",
   "metadata": {},
   "source": [
    "## Creating feature list dependent on set threshold"
   ]
  },
  {
   "cell_type": "code",
   "execution_count": 32,
   "metadata": {},
   "outputs": [],
   "source": [
    "# Change threshold\n",
    "def feature_list(threshold):\n",
    "\n",
    "    all_met = df.columns.values\n",
    "    #print(combined_data_[\"metrics\"])\n",
    "    #print (correlation[-0.929979])\n",
    "    needed_features = []\n",
    "    for m in all_met:\n",
    "        if correlation[m] >= threshold or correlation[m] <= (-1)*threshold:\n",
    "            needed_features.append(m)\n",
    "    needed_features.remove(\"Time(s)\")\n",
    "    return (needed_features)\n",
    " \n",
    "    \n",
    " \n",
    "   "
   ]
  },
  {
   "cell_type": "code",
   "execution_count": 33,
   "metadata": {},
   "outputs": [
    {
     "name": "stdout",
     "output_type": "stream",
     "text": [
      "0\n",
      "0\n",
      "0\n",
      "0\n",
      "0\n",
      "Number of features from (+-).5 to (+-).9 correlation values\n"
     ]
    }
   ],
   "source": [
    "import numpy as np\n",
    "list_fea = {}\n",
    "count = 0\n",
    "for i in np.arange(.5,1,0.1):\n",
    "    i = format(i,'.1f')\n",
    "    key = \"feature_\" + str(i)\n",
    "    #print (key)\n",
    "    list_fea[\"feature_\" + str(i)] = feature_list(float(i))\n",
    "    print(len(list_fea[\"feature_\" + str(i)]))\n",
    "print(\"Number of features from (+-).5 to (+-).9 correlation values\")"
   ]
  },
  {
   "cell_type": "code",
   "execution_count": 34,
   "metadata": {},
   "outputs": [
    {
     "name": "stdout",
     "output_type": "stream",
     "text": [
      "[]\n"
     ]
    }
   ],
   "source": [
    "feature_95 = feature_list(.95)\n",
    "feature_97 = feature_list(.97)\n",
    "print(feature_95)"
   ]
  },
  {
   "cell_type": "markdown",
   "metadata": {},
   "source": [
    "## Run model function - takes in list of features to use"
   ]
  },
  {
   "cell_type": "code",
   "execution_count": 35,
   "metadata": {},
   "outputs": [],
   "source": [
    "import pandas as pd\n",
    "%matplotlib inline\n",
    "\n",
    "def run_model(cur_features,num_features):   \n",
    "    df = pd.DataFrame.from_dict(combined_data_,orient=\"index\")\n",
    "    #display(df.head())\n",
    "    df = df.dropna()\n",
    "    X = df[cur_features]\n",
    "    y = df['Time(s)']\n",
    "    #df = df.dropna()\n",
    "\n",
    "    #print (df)\n",
    "    print (\"X size:\", X.shape)\n",
    "    print ('y size:', y.shape)\n",
    "    model = GridSearchCV(RandomForestRegressor(n_estimators=100),\n",
    "                         param_grid=dict(max_features=range(2,num_features)),\n",
    "                         scoring='neg_mean_squared_error',\n",
    "                        cv=10)\n",
    "    model.fit(X,y)\n",
    "    model.fit(X,y)\n",
    "    all_y_test = np.zeros((0,))\n",
    "    all_y_pred = np.zeros((0,))\n",
    "    #given options and list of data, returns the indices of training and test sets \n",
    "    for train_inds, test_inds in ShuffleSplit(n_splits=5, test_size=0.1).split(X,y):\n",
    "        # Split off the train and test set\n",
    "        X_test, y_test = X.iloc[test_inds, :], y[test_inds]\n",
    "        X_train, y_train = X.iloc[train_inds, :], y[train_inds]\n",
    "\n",
    "        # Train the model\n",
    "        model.fit(X_train, y_train)\n",
    "        y_pred = model.predict(X_test)\n",
    "\n",
    "        # Append the results\n",
    "        all_y_test = np.concatenate((all_y_test, y_test))\n",
    "        #print (all_y_test)\n",
    "        all_y_pred = np.concatenate((all_y_pred, y_pred))\n",
    "\n",
    "    print (\"R:\",  sp.stats.pearsonr(all_y_test, all_y_pred)[0])\n",
    "    print (\"MAE:\", np.abs(all_y_test - all_y_pred).mean(), 's')\n",
    "    print (\"RMSE:\", np.sqrt(np.power(all_y_test - all_y_pred, 2).mean()), 's')\n",
    "\n",
    "    fig, ax = plt.subplots()\n",
    "\n",
    "    # Make the plot\n",
    "    ax.scatter(all_y_test, all_y_pred, alpha=0.5)\n",
    "\n",
    "    # Make it pretty\n",
    "    ax.set_xlim(ax.get_xlim())\n",
    "    ax.set_ylim(ax.get_xlim())\n",
    "\n",
    "    ax.set_xlabel('True Time (s)')\n",
    "    ax.set_ylabel('Pred. Time (s)')\n",
    "\n",
    "    fig.set_size_inches(3.5, 3.5)\n",
    "\n",
    "    # Add in the goal line\n",
    "    ax.plot(ax.get_xlim(), ax.get_ylim(), 'k--');"
   ]
  },
  {
   "cell_type": "markdown",
   "metadata": {},
   "source": [
    "## .5 Correlation Value"
   ]
  },
  {
   "cell_type": "code",
   "execution_count": 36,
   "metadata": {},
   "outputs": [
    {
     "name": "stdout",
     "output_type": "stream",
     "text": [
      "X size: (119, 0)\n",
      "y size: (119,)\n"
     ]
    },
    {
     "ename": "ValueError",
     "evalue": "Parameter values for parameter (max_features) need to be a non-empty sequence.",
     "output_type": "error",
     "traceback": [
      "\u001b[0;31m--------------------------------------------------------------------------\u001b[0m",
      "\u001b[0;31mValueError\u001b[0m                               Traceback (most recent call last)",
      "\u001b[0;32m<ipython-input-36-a9fd46854f02>\u001b[0m in \u001b[0;36m<module>\u001b[0;34m()\u001b[0m\n\u001b[1;32m      1\u001b[0m \u001b[0;31m#print(list_fea[\"feature_0.5\"])\u001b[0m\u001b[0;34m\u001b[0m\u001b[0;34m\u001b[0m\u001b[0m\n\u001b[0;32m----> 2\u001b[0;31m \u001b[0mrun_model\u001b[0m\u001b[0;34m(\u001b[0m\u001b[0mlist_fea\u001b[0m\u001b[0;34m[\u001b[0m\u001b[0;34m\"feature_0.5\"\u001b[0m\u001b[0;34m]\u001b[0m\u001b[0;34m,\u001b[0m\u001b[0mlen\u001b[0m\u001b[0;34m(\u001b[0m\u001b[0mlist_fea\u001b[0m\u001b[0;34m[\u001b[0m\u001b[0;34m\"feature_0.5\"\u001b[0m\u001b[0;34m]\u001b[0m\u001b[0;34m)\u001b[0m\u001b[0;34m)\u001b[0m\u001b[0;34m\u001b[0m\u001b[0m\n\u001b[0m",
      "\u001b[0;32m<ipython-input-35-20fa32bce6c5>\u001b[0m in \u001b[0;36mrun_model\u001b[0;34m(cur_features, num_features)\u001b[0m\n\u001b[1;32m     16\u001b[0m                          \u001b[0mparam_grid\u001b[0m\u001b[0;34m=\u001b[0m\u001b[0mdict\u001b[0m\u001b[0;34m(\u001b[0m\u001b[0mmax_features\u001b[0m\u001b[0;34m=\u001b[0m\u001b[0mrange\u001b[0m\u001b[0;34m(\u001b[0m\u001b[0;36m2\u001b[0m\u001b[0;34m,\u001b[0m\u001b[0mnum_features\u001b[0m\u001b[0;34m)\u001b[0m\u001b[0;34m)\u001b[0m\u001b[0;34m,\u001b[0m\u001b[0;34m\u001b[0m\u001b[0m\n\u001b[1;32m     17\u001b[0m                          \u001b[0mscoring\u001b[0m\u001b[0;34m=\u001b[0m\u001b[0;34m'neg_mean_squared_error'\u001b[0m\u001b[0;34m,\u001b[0m\u001b[0;34m\u001b[0m\u001b[0m\n\u001b[0;32m---> 18\u001b[0;31m                         cv=10)\n\u001b[0m\u001b[1;32m     19\u001b[0m     \u001b[0mmodel\u001b[0m\u001b[0;34m.\u001b[0m\u001b[0mfit\u001b[0m\u001b[0;34m(\u001b[0m\u001b[0mX\u001b[0m\u001b[0;34m,\u001b[0m\u001b[0my\u001b[0m\u001b[0;34m)\u001b[0m\u001b[0;34m\u001b[0m\u001b[0m\n\u001b[1;32m     20\u001b[0m     \u001b[0mmodel\u001b[0m\u001b[0;34m.\u001b[0m\u001b[0mfit\u001b[0m\u001b[0;34m(\u001b[0m\u001b[0mX\u001b[0m\u001b[0;34m,\u001b[0m\u001b[0my\u001b[0m\u001b[0;34m)\u001b[0m\u001b[0;34m\u001b[0m\u001b[0m\n",
      "\u001b[0;32m~/miniconda3/lib/python3.6/site-packages/sklearn/model_selection/_search.py\u001b[0m in \u001b[0;36m__init__\u001b[0;34m(self, estimator, param_grid, scoring, fit_params, n_jobs, iid, refit, cv, verbose, pre_dispatch, error_score, return_train_score)\u001b[0m\n\u001b[1;32m   1076\u001b[0m             return_train_score=return_train_score)\n\u001b[1;32m   1077\u001b[0m         \u001b[0mself\u001b[0m\u001b[0;34m.\u001b[0m\u001b[0mparam_grid\u001b[0m \u001b[0;34m=\u001b[0m \u001b[0mparam_grid\u001b[0m\u001b[0;34m\u001b[0m\u001b[0m\n\u001b[0;32m-> 1078\u001b[0;31m         \u001b[0m_check_param_grid\u001b[0m\u001b[0;34m(\u001b[0m\u001b[0mparam_grid\u001b[0m\u001b[0;34m)\u001b[0m\u001b[0;34m\u001b[0m\u001b[0m\n\u001b[0m\u001b[1;32m   1079\u001b[0m \u001b[0;34m\u001b[0m\u001b[0m\n\u001b[1;32m   1080\u001b[0m     \u001b[0;32mdef\u001b[0m \u001b[0m_get_param_iterator\u001b[0m\u001b[0;34m(\u001b[0m\u001b[0mself\u001b[0m\u001b[0;34m)\u001b[0m\u001b[0;34m:\u001b[0m\u001b[0;34m\u001b[0m\u001b[0m\n",
      "\u001b[0;32m~/miniconda3/lib/python3.6/site-packages/sklearn/model_selection/_search.py\u001b[0m in \u001b[0;36m_check_param_grid\u001b[0;34m(param_grid)\u001b[0m\n\u001b[1;32m    359\u001b[0m             \u001b[0;32mif\u001b[0m \u001b[0mlen\u001b[0m\u001b[0;34m(\u001b[0m\u001b[0mv\u001b[0m\u001b[0;34m)\u001b[0m \u001b[0;34m==\u001b[0m \u001b[0;36m0\u001b[0m\u001b[0;34m:\u001b[0m\u001b[0;34m\u001b[0m\u001b[0m\n\u001b[1;32m    360\u001b[0m                 raise ValueError(\"Parameter values for parameter ({0}) need \"\n\u001b[0;32m--> 361\u001b[0;31m                                  \"to be a non-empty sequence.\".format(name))\n\u001b[0m\u001b[1;32m    362\u001b[0m \u001b[0;34m\u001b[0m\u001b[0m\n\u001b[1;32m    363\u001b[0m \u001b[0;34m\u001b[0m\u001b[0m\n",
      "\u001b[0;31mValueError\u001b[0m: Parameter values for parameter (max_features) need to be a non-empty sequence."
     ]
    }
   ],
   "source": [
    "#print(list_fea[\"feature_0.5\"])\n",
    "run_model(list_fea[\"feature_0.5\"],len(list_fea[\"feature_0.5\"]))"
   ]
  },
  {
   "cell_type": "markdown",
   "metadata": {},
   "source": [
    "## .6 Correlation Value"
   ]
  },
  {
   "cell_type": "code",
   "execution_count": null,
   "metadata": {},
   "outputs": [],
   "source": [
    "run_model(list_fea[\"feature_0.6\"],len(list_fea[\"feature_0.6\"]))"
   ]
  },
  {
   "cell_type": "markdown",
   "metadata": {},
   "source": [
    "## .7 Correlation Value"
   ]
  },
  {
   "cell_type": "code",
   "execution_count": null,
   "metadata": {},
   "outputs": [],
   "source": [
    "run_model(list_fea[\"feature_0.7\"],len(list_fea[\"feature_0.7\"]))"
   ]
  },
  {
   "cell_type": "markdown",
   "metadata": {},
   "source": [
    "## .8 Correlation Value"
   ]
  },
  {
   "cell_type": "code",
   "execution_count": null,
   "metadata": {},
   "outputs": [],
   "source": [
    "\n",
    "run_model(list_fea[\"feature_0.8\"],len(list_fea[\"feature_0.8\"]))"
   ]
  },
  {
   "cell_type": "markdown",
   "metadata": {},
   "source": [
    "## .9 Correlation Value"
   ]
  },
  {
   "cell_type": "code",
   "execution_count": null,
   "metadata": {},
   "outputs": [],
   "source": [
    "#print(list_fea[\"feature_0.5\"])\n",
    "run_model(list_fea[\"feature_0.9\"],len(list_fea[\"feature_0.9\"]))"
   ]
  },
  {
   "cell_type": "markdown",
   "metadata": {},
   "source": [
    "## .95 Correlation Value"
   ]
  },
  {
   "cell_type": "code",
   "execution_count": null,
   "metadata": {},
   "outputs": [],
   "source": [
    "#len(feature_95)\n",
    "run_model(feature_95,7)"
   ]
  },
  {
   "cell_type": "markdown",
   "metadata": {},
   "source": [
    "## .97 Correlation Value"
   ]
  },
  {
   "cell_type": "code",
   "execution_count": null,
   "metadata": {},
   "outputs": [],
   "source": [
    "run_model(feature_97,len(feature_97))"
   ]
  },
  {
   "cell_type": "markdown",
   "metadata": {},
   "source": [
    "## Plotting learning curve \n",
    "### Both training and test score improve and remain high throughout sampling size"
   ]
  },
  {
   "cell_type": "code",
   "execution_count": null,
   "metadata": {},
   "outputs": [],
   "source": [
    "import numpy as np\n",
    "import matplotlib.pyplot as plt\n",
    "from sklearn.ensemble import RandomForestRegressor\n",
    "from sklearn.naive_bayes import GaussianNB\n",
    "from sklearn.svm import SVC\n",
    "from sklearn.datasets import load_digits\n",
    "from sklearn.model_selection import learning_curve\n",
    "from sklearn.model_selection import ShuffleSplit\n",
    "\n",
    "\n",
    "def plot_learning_curve(estimator, title, X, y, ylim=None, cv=None,\n",
    "                        n_jobs=1, train_sizes=np.linspace(.1, 1.0, 5)):\n",
    "    \"\"\"\n",
    "    Generate a simple plot of the test and training learning curve.\n",
    "\n",
    "    Parameters\n",
    "    ----------\n",
    "    estimator : object type that implements the \"fit\" and \"predict\" methods\n",
    "        An object of that type which is cloned for each validation.\n",
    "\n",
    "    title : string\n",
    "        Title for the chart.\n",
    "\n",
    "    X : array-like, shape (n_samples, n_features)\n",
    "        Training vector, where n_samples is the number of samples and\n",
    "        n_features is the number of features.\n",
    "\n",
    "    y : array-like, shape (n_samples) or (n_samples, n_features), optional\n",
    "        Target relative to X for classification or regression;\n",
    "        None for unsupervised learning.\n",
    "\n",
    "    ylim : tuple, shape (ymin, ymax), optional\n",
    "        Defines minimum and maximum yvalues plotted.\n",
    "\n",
    "    cv : int, cross-validation generator or an iterable, optional\n",
    "        Determines the cross-validation splitting strategy.\n",
    "        Possible inputs for cv are:\n",
    "          - None, to use the default 3-fold cross-validation,\n",
    "          - integer, to specify the number of folds.\n",
    "          - An object to be used as a cross-validation generator.\n",
    "          - An iterable yielding train/test splits.\n",
    "\n",
    "        For integer/None inputs, if ``y`` is binary or multiclass,\n",
    "        :class:`StratifiedKFold` used. If the estimator is not a classifier\n",
    "        or if ``y`` is neither binary nor multiclass, :class:`KFold` is used.\n",
    "\n",
    "        Refer :ref:`User Guide <cross_validation>` for the various\n",
    "        cross-validators that can be used here.\n",
    "\n",
    "    n_jobs : integer, optional\n",
    "        Number of jobs to run in parallel (default 1).\n",
    "    \"\"\"\n",
    "    plt.figure()\n",
    "    plt.title(title)\n",
    "    if ylim is not None:\n",
    "        plt.ylim(*ylim)\n",
    "    plt.xlabel(\"Training examples\")\n",
    "    plt.ylabel(\"Score\")\n",
    "    train_sizes, train_scores, test_scores = learning_curve(\n",
    "        estimator, X, y, cv=cv, n_jobs=n_jobs, train_sizes=train_sizes)\n",
    "    train_scores_mean = np.mean(train_scores, axis=1)\n",
    "    train_scores_std = np.std(train_scores, axis=1)\n",
    "    test_scores_mean = np.mean(test_scores, axis=1)\n",
    "    test_scores_std = np.std(test_scores, axis=1)\n",
    "    plt.grid()\n",
    "\n",
    "    plt.fill_between(train_sizes, train_scores_mean - train_scores_std,\n",
    "                     train_scores_mean + train_scores_std, alpha=0.1,\n",
    "                     color=\"r\")\n",
    "    plt.fill_between(train_sizes, test_scores_mean - test_scores_std,\n",
    "                     test_scores_mean + test_scores_std, alpha=0.1, color=\"g\")\n",
    "    plt.plot(train_sizes, train_scores_mean, 'o-', color=\"r\",\n",
    "             label=\"Training score\")\n",
    "    plt.plot(train_sizes, test_scores_mean, 'o-', color=\"g\",\n",
    "             label=\"Cross-validation score\")\n",
    "\n",
    "    plt.legend(loc=\"best\")\n",
    "    return plt\n",
    "\n",
    "\n",
    "title = \"Learning Curves (Random Forst)\"\n",
    "# Cross validation with 100 iterations to get smoother mean test and train\n",
    "# score curves, each time with 20% data randomly selected as a validation set.\n",
    "cv = ShuffleSplit(n_splits=100, test_size=0.2, random_state=0)\n",
    "\n",
    "estimator = RandomForestRegressor()\n",
    "plot_learning_curve(estimator, title, X, y, ylim=(0.7, 1.01), cv=cv, n_jobs=4)\n",
    "\n",
    "\"\"\"title = \"Learning Curves (SVM, RBF kernel, $\\gamma=0.001$)\"\n",
    "# SVC is more expensive so we do a lower number of CV iterations:\n",
    "cv = ShuffleSplit(n_splits=10, test_size=0.2, random_state=0)\n",
    "estimator = SVC(gamma=0.001)\n",
    "plot_learning_curve(estimator, title, X, y, (0.7, 1.01), cv=cv, n_jobs=4)\"\"\"\n",
    "\n",
    "plt.show()"
   ]
  },
  {
   "cell_type": "code",
   "execution_count": null,
   "metadata": {},
   "outputs": [],
   "source": [
    "## Using this, what can we do with k-means (transfer learning or performance prediction)"
   ]
  }
 ],
 "metadata": {
  "kernelspec": {
   "display_name": "Python 3",
   "language": "python",
   "name": "python3"
  },
  "language_info": {
   "codemirror_mode": {
    "name": "ipython",
    "version": 3
   },
   "file_extension": ".py",
   "mimetype": "text/x-python",
   "name": "python",
   "nbconvert_exporter": "python",
   "pygments_lexer": "ipython3",
   "version": "3.6.5"
  }
 },
 "nbformat": 4,
 "nbformat_minor": 2
}
