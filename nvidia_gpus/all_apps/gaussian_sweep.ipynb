{
 "cells": [
  {
   "cell_type": "code",
   "execution_count": 8,
   "metadata": {},
   "outputs": [
    {
     "name": "stdout",
     "output_type": "stream",
     "text": [
      "{'gemm_128_sgemm_32x32x32_NN_vec': {'size': 128, 'inst_per_warp': 1665.0, 'warp_nonpred_execution_efficiency': 0.963363, 'gld_throughput': 51404745578.9056, 'l2_tex_read_hit_rate': 0.75, 'l2_tex_write_transactions': 2048, 'ipc': 0.521817}, 'gemm_384_sgemm_32x32x32_NN_vec': {'size': 384, 'inst_per_warp': 4121.0, 'warp_nonpred_execution_efficiency': 0.9832559999999999, 'gld_throughput': 625025115750.4, 'l2_tex_read_hit_rate': 0.9077240000000001, 'l2_tex_write_transactions': 18432, 'ipc': 1.695307}, 'gemm_256_sgemm_32x32x32_NN_vec': {'size': 256, 'inst_per_warp': 2893.0, 'warp_nonpred_execution_efficiency': 0.977531, 'gld_throughput': 311006098096.128, 'l2_tex_read_hit_rate': 0.875, 'l2_tex_write_transactions': 8192, 'ipc': 0.923787}, 'gemm_512_sgemm_32x32x32_NN_vec': {'size': 512, 'inst_per_warp': 5349.0, 'warp_nonpred_execution_efficiency': 0.986352, 'gld_throughput': 762839878860.8, 'l2_tex_read_hit_rate': 0.9364490000000001, 'l2_tex_write_transactions': 32768, 'ipc': 1.897122}, 'gemm_640_sgemm_32x32x32_NN_vec': {'size': 640, 'inst_per_warp': 6577.0, 'warp_nonpred_execution_efficiency': 0.988292, 'gld_throughput': 797658104987.648, 'l2_tex_read_hit_rate': 0.95005, 'l2_tex_write_transactions': 51200, 'ipc': 1.975116}, 'gemm_896_maxwell_sgemm_128x64_nn': {'size': 896, 'inst_per_warp': 34370.35574, 'warp_nonpred_execution_efficiency': 0.995389, 'gld_throughput': 672566108749.824, 'l2_tex_read_hit_rate': 0.893926, 'l2_tex_write_transactions': 200900, 'ipc': 1.876595}, 'gemm_768_maxwell_sgemm_128x64_nn': {'size': 768, 'inst_per_warp': 29723.305208, 'warp_nonpred_execution_efficiency': 0.994935, 'gld_throughput': 567539125977.088, 'l2_tex_read_hit_rate': 0.8985339999999999, 'l2_tex_write_transactions': 147600, 'ipc': 1.659671}, 'gemm_1024_maxwell_sgemm_128x64_nn': {'size': 1024, 'inst_per_warp': 38856.096094, 'warp_nonpred_execution_efficiency': 0.995702, 'gld_throughput': 599654743932.928, 'l2_tex_read_hit_rate': 0.855097, 'l2_tex_write_transactions': 262400, 'ipc': 2.003114}, 'gemm_1152_maxwell_sgemm_128x64_nn': {'size': 1152, 'inst_per_warp': 29509.467284, 'warp_nonpred_execution_efficiency': 0.994771, 'gld_throughput': 720366947270.656, 'l2_tex_read_hit_rate': 0.8558530000000001, 'l2_tex_write_transactions': 498150, 'ipc': 1.989403}, 'gemm_1280_maxwell_sgemm_128x64_nn': {'size': 1280, 'inst_per_warp': 32567.922667, 'warp_nonpred_execution_efficiency': 0.995098, 'gld_throughput': 747020440567.808, 'l2_tex_read_hit_rate': 0.8233400000000001, 'l2_tex_write_transactions': 615000, 'ipc': 2.069588}, 'gemm_1408_maxwell_sgemm_128x64_nn': {'size': 1408, 'inst_per_warp': 35713.873967, 'warp_nonpred_execution_efficiency': 0.9953799999999999, 'gld_throughput': 731986981289.984, 'l2_tex_read_hit_rate': 0.815807, 'l2_tex_write_transactions': 744150, 'ipc': 2.07324}, 'gemm_1536_sgemm_128x128x8_NN_vec': {'size': 1536, 'inst_per_warp': 111014.0, 'warp_nonpred_execution_efficiency': 0.9905769999999999, 'gld_throughput': 239092239433.728, 'l2_tex_read_hit_rate': 0.867653, 'l2_tex_write_transactions': 294912, 'ipc': 2.129277}, 'gemm_1664_sgemm_128x128x8_NN_vec': {'size': 1664, 'inst_per_warp': 120198.0, 'warp_nonpred_execution_efficiency': 0.990632, 'gld_throughput': 213202176573.44, 'l2_tex_read_hit_rate': 0.870104, 'l2_tex_write_transactions': 346112, 'ipc': 2.129356}, 'gemm_1792_sgemm_128x128x8_NN_vec': {'size': 1792, 'inst_per_warp': 129382.0, 'warp_nonpred_execution_efficiency': 0.9906780000000001, 'gld_throughput': 247348240318.464, 'l2_tex_read_hit_rate': 0.8550180000000001, 'l2_tex_write_transactions': 401408, 'ipc': 2.139568}, 'gemm_1920_sgemm_128x128x8_NN_vec': {'size': 1920, 'inst_per_warp': 138566.0, 'warp_nonpred_execution_efficiency': 0.990719, 'gld_throughput': 227154377834.496, 'l2_tex_read_hit_rate': 0.8600289999999999, 'l2_tex_write_transactions': 460800, 'ipc': 2.146766}, 'gemm_2048_sgemm_128x128x8_NN_vec': {'size': 2048, 'inst_per_warp': 147750.0, 'warp_nonpred_execution_efficiency': 0.990754, 'gld_throughput': 257876278902.784, 'l2_tex_read_hit_rate': 0.851049, 'l2_tex_write_transactions': 524288, 'ipc': 2.145129}, 'gemm_2176_sgemm_128x128x8_NN_vec': {'size': 2176, 'inst_per_warp': 156934.0, 'warp_nonpred_execution_efficiency': 0.990785, 'gld_throughput': 244211840450.56, 'l2_tex_read_hit_rate': 0.8130240000000001, 'l2_tex_write_transactions': 591872, 'ipc': 2.144322}, 'gemm_2304_sgemm_128x128x8_NN_vec': {'size': 2304, 'inst_per_warp': 166118.0, 'warp_nonpred_execution_efficiency': 0.9908129999999999, 'gld_throughput': 273807386345.472, 'l2_tex_read_hit_rate': 0.82865, 'l2_tex_write_transactions': 663552, 'ipc': 2.151759}, 'gemm_2432_sgemm_128x128x8_NN_vec': {'size': 2432, 'inst_per_warp': 175302.0, 'warp_nonpred_execution_efficiency': 0.990838, 'gld_throughput': 260994425159.68, 'l2_tex_read_hit_rate': 0.7928419999999999, 'l2_tex_write_transactions': 739328, 'ipc': 2.150993}, 'gemm_2560_sgemm_128x128x8_NN_vec': {'size': 2560, 'inst_per_warp': 184486.0, 'warp_nonpred_execution_efficiency': 0.990861, 'gld_throughput': 254120330002.432, 'l2_tex_read_hit_rate': 0.8076990000000001, 'l2_tex_write_transactions': 819200, 'ipc': 2.149082}, 'gemm_2688_sgemm_128x128x8_NN_vec': {'size': 2688, 'inst_per_warp': 193670.0, 'warp_nonpred_execution_efficiency': 0.990881, 'gld_throughput': 280108103368.704, 'l2_tex_read_hit_rate': 0.772669, 'l2_tex_write_transactions': 903168, 'ipc': 2.154509}, 'gemm_2816_sgemm_128x128x8_NN_vec': {'size': 2816, 'inst_per_warp': 202854.0, 'warp_nonpred_execution_efficiency': 0.990899, 'gld_throughput': 272792700321.792, 'l2_tex_read_hit_rate': 0.769508, 'l2_tex_write_transactions': 991232, 'ipc': 2.153012}, 'gemm_2944_sgemm_128x128x8_NN_vec': {'size': 2944, 'inst_per_warp': 212038.0, 'warp_nonpred_execution_efficiency': 0.990916, 'gld_throughput': 269030308970.496, 'l2_tex_read_hit_rate': 0.7654259999999999, 'l2_tex_write_transactions': 1083392, 'ipc': 2.153136}, 'gemm_3072_sgemm_128x128x8_NN_vec': {'size': 3072, 'inst_per_warp': 221222.0, 'warp_nonpred_execution_efficiency': 0.9909319999999999, 'gld_throughput': 266225695326.208, 'l2_tex_read_hit_rate': 0.7292400000000001, 'l2_tex_write_transactions': 1179648, 'ipc': 2.156317}, 'gemm_3200_sgemm_128x128x8_NN_vec': {'size': 3200, 'inst_per_warp': 230406.0, 'warp_nonpred_execution_efficiency': 0.990946, 'gld_throughput': 265017735774.208, 'l2_tex_read_hit_rate': 0.786789, 'l2_tex_write_transactions': 1280000, 'ipc': 2.151975}, 'gemm_3328_sgemm_128x128x8_NN_vec': {'size': 3328, 'inst_per_warp': 239590.0, 'warp_nonpred_execution_efficiency': 0.990959, 'gld_throughput': 264728899223.552, 'l2_tex_read_hit_rate': 0.697656, 'l2_tex_write_transactions': 1384448, 'ipc': 2.157206}}\n"
     ]
    }
   ],
   "source": [
    "import os\n",
    "import pandas as pd\n",
    "import numpy as np\n",
    "\n",
    "import csv\n",
    "import glob\n",
    "\n",
    "combined_data = {}\n",
    "\n",
    "metric_targets = [ \"inst_per_warp\", \n",
    "                  \"gld_throughput\", \n",
    "                  \"warp_nonpred_execution_efficiency\",\n",
    "                  \"l2_tex_read_hit_rate\",\"ipc\",\n",
    "                 \"l2_tex_write_transactions\",\n",
    "                 \"inst_per_warp\"]\n",
    "bench_targets = [ \"gaussian\" ,\"gemm\" ]\n",
    "\n",
    "for filen_ in glob.glob(\"/home/yzamora/power/nvidia_gpus/all_apps/gemm_results/*.csv\"):\n",
    "    \n",
    "    filen = os.path.basename(filen_)\n",
    "    \n",
    "    filen_split = filen.split('.')[0].split('_')\n",
    "    bench_name = filen_split[0]\n",
    "    #metric_name = filen_split[1]\n",
    "    #print(filen_split)\n",
    "    size_str = filen_split[1].split('N')[1]\n",
    "    \n",
    "    #if not (metric_name in metric_targets): continue\n",
    "    if not (bench_name in bench_targets): continue\n",
    "    \n",
    "    key_root = bench_name+\"_\"+size_str\n",
    "    #print(key_root)\n",
    "    \n",
    "    # Now open the file and look for the data\n",
    "    with open(filen_ ,'r') as file_handle:\n",
    "        \n",
    "        data_found = False\n",
    "        ncols = 1\n",
    "        fdata = csv.reader(file_handle)\n",
    "        index_lookup = {}\n",
    "        \n",
    "        for line_split in fdata:\n",
    "            \n",
    "            lsplt = (len(line_split) > 0)\n",
    "\n",
    "            if data_found:\n",
    "                \n",
    "                if lsplt and len(line_split) == ncols:\n",
    "                    #percent - strip off end\n",
    "                    # Get metric name here\n",
    "                    mname_index = index_lookup['Metric Name']\n",
    "                    metric_name = line_split[ mname_index ]\n",
    "                    if not (metric_name in metric_targets): continue\n",
    "                    \n",
    "                    # Read in desired value for the current metric\n",
    "                    target_index = index_lookup['Avg']; value = 0\n",
    "\n",
    "                    # integer value\n",
    "                    if metric_name in [\"l2_tex_write_transactions\" ]:\n",
    "                        value = int(line_split[ target_index ])\n",
    "                        \n",
    "                    # Labeled with percentage\n",
    "                    elif metric_name in [ \"warp_nonpred_execution_efficiency\",\"l2_tex_read_hit_rate\" ]:\n",
    "                        # Just take the first 7 chars and convert to fraction\n",
    "                        value = float(line_split[ target_index ][0:7]) / 100.0\n",
    "                        \n",
    "                    # Labeled with bandwidth units\n",
    "                    elif metric_name in [ \"write\", \"read\", \"gld_throughput\"]:\n",
    "                        # Just take the first \n",
    "                        units = line_split[ target_index ][-4:-2]\n",
    "                        mfact = 1.0\n",
    "                        if   units == \"KB\": mfact = 1024\n",
    "                        elif units == \"MB\": mfact = 1024*1024\n",
    "                        elif units == \"GB\": mfact = 1024*1024*1024\n",
    "                        value = float(line_split[ target_index ][0:7]) * mfact\n",
    "                    \n",
    "                    # otherwise, float\n",
    "                    else:\n",
    "                        value = float(line_split[ target_index ])\n",
    "                    \n",
    "                    # Parse name of kernel\n",
    "                    kernel_name = line_split[ index_lookup['Kernel'] ].split('(')[0]\n",
    "                    \n",
    "                    # Define kernel-specific key\n",
    "                    key = key_root + \"_\" + kernel_name\n",
    "                    \n",
    "                    # Initialize dict for this key, if it is new\n",
    "                    if not (key in combined_data): \n",
    "                        combined_data [ key ] = {}\n",
    "                        combined_data [ key ][ 'size' ] = int( size_str )\n",
    "                    \n",
    "                    # Store value for the metric being read right now\n",
    "                    combined_data [ key ][ metric_name ] = value\n",
    "                    \n",
    "                else: data_found = False\n",
    "\n",
    "\n",
    "            elif lsplt and line_split[0] == 'Device' and line_split[1] == 'Kernel':\n",
    "                # Set flag that we are at the data:\n",
    "                data_found = True\n",
    "                # Set number of columns in table:\n",
    "                ncols = len(line_split)\n",
    "                # Generate an index lookup table:\n",
    "                idx = 0\n",
    "                for term in line_split:\n",
    "                    index_lookup[term] = idx\n",
    "                    idx += 1\n",
    "                    \n",
    "print(combined_data)"
   ]
  },
  {
   "cell_type": "code",
   "execution_count": 13,
   "metadata": {},
   "outputs": [
    {
     "name": "stdout",
     "output_type": "stream",
     "text": [
      "                                   size  inst_per_warp  \\\n",
      "gemm_1024_maxwell_sgemm_128x64_nn  1024   38856.096094   \n",
      "gemm_1152_maxwell_sgemm_128x64_nn  1152   29509.467284   \n",
      "gemm_1280_maxwell_sgemm_128x64_nn  1280   32567.922667   \n",
      "gemm_128_sgemm_32x32x32_NN_vec      128    1665.000000   \n",
      "gemm_1408_maxwell_sgemm_128x64_nn  1408   35713.873967   \n",
      "\n",
      "                                   warp_nonpred_execution_efficiency  \\\n",
      "gemm_1024_maxwell_sgemm_128x64_nn                           0.995702   \n",
      "gemm_1152_maxwell_sgemm_128x64_nn                           0.994771   \n",
      "gemm_1280_maxwell_sgemm_128x64_nn                           0.995098   \n",
      "gemm_128_sgemm_32x32x32_NN_vec                              0.963363   \n",
      "gemm_1408_maxwell_sgemm_128x64_nn                           0.995380   \n",
      "\n",
      "                                   gld_throughput  l2_tex_read_hit_rate  \\\n",
      "gemm_1024_maxwell_sgemm_128x64_nn    5.996547e+11              0.855097   \n",
      "gemm_1152_maxwell_sgemm_128x64_nn    7.203669e+11              0.855853   \n",
      "gemm_1280_maxwell_sgemm_128x64_nn    7.470204e+11              0.823340   \n",
      "gemm_128_sgemm_32x32x32_NN_vec       5.140475e+10              0.750000   \n",
      "gemm_1408_maxwell_sgemm_128x64_nn    7.319870e+11              0.815807   \n",
      "\n",
      "                                   l2_tex_write_transactions       ipc  \n",
      "gemm_1024_maxwell_sgemm_128x64_nn                     262400  2.003114  \n",
      "gemm_1152_maxwell_sgemm_128x64_nn                     498150  1.989403  \n",
      "gemm_1280_maxwell_sgemm_128x64_nn                     615000  2.069588  \n",
      "gemm_128_sgemm_32x32x32_NN_vec                          2048  0.521817  \n",
      "gemm_1408_maxwell_sgemm_128x64_nn                     744150  2.073240  \n"
     ]
    },
    {
     "data": {
      "text/plain": [
       "<matplotlib.axes._subplots.AxesSubplot at 0x7fb8d933a080>"
      ]
     },
     "execution_count": 13,
     "metadata": {},
     "output_type": "execute_result"
    },
    {
     "data": {
      "image/png": "[encoded data removed]",
      "text/plain": [
       "<Figure size 432x288 with 1 Axes>"
      ]
     },
     "metadata": {},
     "output_type": "display_data"
    }
   ],
   "source": [
    "import pandas as pd\n",
    "%matplotlib inline\n",
    "df = pd.DataFrame.from_dict(combined_data,orient=\"index\")\n",
    "print (df.head())\n",
    "\n",
    "df.plot(x='size', y='ipc', kind='scatter')"
   ]
  },
  {
   "cell_type": "code",
   "execution_count": null,
   "metadata": {},
   "outputs": [],
   "source": []
  }
 ],
 "metadata": {
  "kernelspec": {
   "display_name": "Python 3",
   "language": "python",
   "name": "python3"
  },
  "language_info": {
   "codemirror_mode": {
    "name": "ipython",
    "version": 3
   },
   "file_extension": ".py",
   "mimetype": "text/x-python",
   "name": "python",
   "nbconvert_exporter": "python",
   "pygments_lexer": "ipython3",
   "version": "3.6.5"
  }
 },
 "nbformat": 4,
 "nbformat_minor": 2
}
