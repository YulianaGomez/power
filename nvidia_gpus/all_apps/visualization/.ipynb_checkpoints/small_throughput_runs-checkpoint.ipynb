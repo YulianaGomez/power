{
 "cells": [
  {
   "cell_type": "code",
   "execution_count": 1,
   "id": "94ff4f09-94b8-4605-8ffb-e47169afa28f",
   "metadata": {},
   "outputs": [
    {
     "data": {
      "text/html": [
       "<style>.container { width:100% !important; }</style>"
      ],
      "text/plain": [
       "<IPython.core.display.HTML object>"
      ]
     },
     "metadata": {},
     "output_type": "display_data"
    }
   ],
   "source": [
    "import pandas as pd\n",
    "import numpy as np\n",
    "import matplotlib.pyplot as plt\n",
    "from sklearn.metrics import r2_score\n",
    "from sklearn.metrics import mean_squared_error\n",
    "from sklearn.model_selection import train_test_split\n",
    "from sklearn.ensemble import RandomForestClassifier\n",
    "from sklearn.ensemble import RandomForestRegressor\n",
    "from sklearn.metrics import mean_absolute_percentage_error\n",
    "from sklearn.tree import export_graphviz\n",
    "from sklearn.metrics import accuracy_score\n",
    "plt.rc('pdf', fonttype=42)\n",
    "\n",
    "from IPython.core.display import display, HTML\n",
    "display(HTML('<style>.container { width:100% !important; }</style>'))\n",
    "\n",
    "BIG    = 22\n",
    "MEDIUM = 20\n",
    "FIGWIDTH= 12\n",
    "WIDTH = 0.25  # the width of the bars\n",
    "NARROW=0.2\n",
    "\n",
    "XLINE  = 523.21\n",
    "YLINE  = 0.002\n",
    "\n",
    "colors = ['#E27100', '#1b85b8', '#559e83', '#b26167']\n",
    "\n",
    "# Starting to define standardized colors\n",
    "MAE_COLOR =colors[1]\n",
    "TIME_COLOR=colors[0]"
   ]
  },
  {
   "cell_type": "code",
   "execution_count": 2,
   "id": "265e93a1-4f11-483e-b8c8-0361ec67996f",
   "metadata": {},
   "outputs": [
    {
     "data": {
      "text/plain": [
       "(78330, 116)"
      ]
     },
     "execution_count": 2,
     "metadata": {},
     "output_type": "execute_result"
    }
   ],
   "source": [
    "# Combining V100 and P100 on same row for same run\n",
    "# We are deleting cases where there is no run for either of the architectures\n",
    "# Every column name is appended with the name of the architecture (e.g. \"_V100\");\n",
    "# This includes the `master_index` (e.g `master_index_V100`)\n",
    "\n",
    "df_joined = pd.read_parquet('../df_master_joined.parquet')\n",
    "df_joined.master_index_P100 = df_joined.master_index_P100.astype('int64') # Make sure index is integer\n",
    "df_joined.master_index_V100 = df_joined.master_index_V100.astype('int64') # Make sure index is integer\n",
    "df_joined.shape\n",
    "\n",
    "\n",
    "# This is an \"empty\" dataframe (meaning no rows), containing\n",
    "# column names for numerical data only.\n",
    "# The column nmaes can be used to index the columns of the\n",
    "# scaled data (in master_scaled_data.npy)\n",
    "\n",
    "df_columns_only = pd.read_parquet('../df_column_reference.parquet')\n",
    "\n",
    "\n",
    "# This is a 2-D numpy array corresponding to the numerical data in 'df_master.parquet'\n",
    "# The data has been scaled using the StandardScaler in scikitlearn\n",
    "\n",
    "# Notes: \n",
    "#   - The row indices correspond to the `master_index` column of 'df_master.parquet'\n",
    "#   - The columns correspond to the columns in 'df_column_reference.parquet'.\n",
    "#     (e.g. can use `df.get_loc(column-name)` to get the column index)\n",
    "\n",
    "master_data_scaled = np.load('../master_scaled_data.npy')\n",
    "master_data_scaled.shape"
   ]
  },
  {
   "cell_type": "code",
   "execution_count": 15,
   "id": "410bd964-955c-48ac-a31e-e03873643333",
   "metadata": {},
   "outputs": [
    {
     "data": {
      "text/plain": [
       "(5186, 244)"
      ]
     },
     "execution_count": 15,
     "metadata": {},
     "output_type": "execute_result"
    }
   ],
   "source": [
    "temp_col = df_joined['dram_write_throughput_P100'] + df_joined['dram_read_throughput_P100']\n",
    "df_joined= df_joined[temp_col<1e9]\n",
    "df_joined.shape"
   ]
  },
  {
   "cell_type": "code",
   "execution_count": 16,
   "id": "1b616421-5d68-4fba-952f-39cf68ac9b7b",
   "metadata": {},
   "outputs": [],
   "source": [
    "\n",
    "df = df_joined.copy()  # Start with all of df_joined\n",
    "\n",
    "# Target index and values (values are NOT in master_data_scaled)\n",
    "target_index = df['master_index_V100'].values\n",
    "target = df['memory_bound_V100'].values\n",
    "\n",
    "# Training data index and values (values ARE in master_data_scaled)\n",
    "data_index = df['master_index_P100'].values\n",
    "data = master_data_scaled[ data_index ]\n",
    "\n",
    "# Need to drop 'dram_read_throughput' and 'dram_write_throughput'\n",
    "indices = []\n",
    "for i, col in enumerate(df_columns_only.columns):\n",
    "    if col not in ['dram_read_throughput', 'dram_write_throughput','dram_write_transactions','dram_read_transactions']:\n",
    "    #if col not in not_import:\n",
    "        indices.append(i)       \n",
    "data = data[:,indices]"
   ]
  },
  {
   "cell_type": "code",
   "execution_count": 17,
   "id": "86f66023-e7f6-4537-a3db-93101409d125",
   "metadata": {},
   "outputs": [
    {
     "data": {
      "text/plain": [
       "['backprop', 'gaussian', 'hybridsort', 'kmeans', 'leukocyte', 'srad', 'stream']"
      ]
     },
     "execution_count": 17,
     "metadata": {},
     "output_type": "execute_result"
    }
   ],
   "source": [
    "kernels = []\n",
    "for i in df_joined['application_name_V100']:\n",
    "    if i not in kernels:\n",
    "        kernels.append(i)\n",
    "        \n",
    "kernels"
   ]
  },
  {
   "cell_type": "markdown",
   "id": "6699fbe2-359b-4e9e-8405-1c2530d43819",
   "metadata": {},
   "source": [
    "## Baseline"
   ]
  },
  {
   "cell_type": "code",
   "execution_count": 18,
   "id": "d3b56990-706f-457c-9f3f-e776eded02fd",
   "metadata": {},
   "outputs": [
    {
     "name": "stdout",
     "output_type": "stream",
     "text": [
      "Mean Absolute Error: 2.23\n",
      "Mean Absolute Percentage Error: 24362020756112.746\n",
      "R2 Score -0.033853024237231244\n"
     ]
    },
    {
     "data": {
      "text/plain": [
       "Text(0.5,1,'Baseline Memory Throughput - MAE: 2.23')"
      ]
     },
     "execution_count": 18,
     "metadata": {},
     "output_type": "execute_result"
    },
    {
     "data": {
      "image/png": "[encoded data removed]",
      "text/plain": [
       "<Figure size 432x288 with 1 Axes>"
      ]
     },
     "metadata": {
      "needs_background": "light"
     },
     "output_type": "display_data"
    }
   ],
   "source": [
    "V100_throughput = (df_joined['dram_read_throughput_V100'] + df_joined['dram_write_throughput_V100']).values\n",
    "P100_throughput = (df_joined['dram_read_throughput_P100'] + df_joined['dram_write_throughput_P100']).values\n",
    "plt.plot(P100_throughput/1024/1024/1024, V100_throughput/1024/1024/1024,'.')\n",
    "plt.xlabel('P100 Memory Throughput (GB/s)')\n",
    "plt.ylabel('V100 Memory Throughput (GB/s)')\n",
    "errors = abs(V100_throughput - P100_throughput)/1024/1024/1024\n",
    "mean_error = round(np.mean(errors),2)\n",
    "print('Mean Absolute Error:', round(np.mean(errors),2))\n",
    "print('Mean Absolute Percentage Error:',mean_absolute_percentage_error(P100_throughput/1024/1024/1024, V100_throughput/1024/1024/1024))\n",
    "print(\"R2 Score\", r2_score(V100_throughput,P100_throughput))\n",
    "plt.title('Baseline Memory Throughput - MAE: ' + str(mean_error))\n",
    "\n",
    "#plt.savefig('Throughput_Prediction_Figures/predict_result.pdf')"
   ]
  },
  {
   "cell_type": "markdown",
   "id": "feb1cfa4-7b86-4c89-a14a-f7986c0d98fb",
   "metadata": {},
   "source": [
    "## Regression"
   ]
  },
  {
   "cell_type": "code",
   "execution_count": 24,
   "id": "3b896324-e6f4-4e7c-807c-784fe3607637",
   "metadata": {},
   "outputs": [],
   "source": [
    "df_target = (df_joined['dram_read_throughput_V100'] + df_joined['dram_write_throughput_V100']).values\n",
    "# Split the data for training\n",
    "(\n",
    "    X_train, X_test,\n",
    "    y_train, y_test,\n",
    "    #data_index_train, data_index_test,\n",
    "    #target_index_train, target_index_test\n",
    ") = train_test_split(\n",
    "    data,\n",
    "    df_target,\n",
    "    #data_index,\n",
    "    #target_index,\n",
    "    random_state=42,\n",
    "    test_size=.33\n",
    ")"
   ]
  },
  {
   "cell_type": "code",
   "execution_count": 30,
   "id": "ca2fc15a-5d10-45d7-ab10-8fa5972438e8",
   "metadata": {},
   "outputs": [
    {
     "data": {
      "text/plain": [
       "array([ 0.61720703,  0.35669043, 36.40237402, ...,  2.75958695,\n",
       "        3.23506721,  0.19139453])"
      ]
     },
     "execution_count": 30,
     "metadata": {},
     "output_type": "execute_result"
    }
   ],
   "source": [
    "df_target/1024/1024/1024"
   ]
  },
  {
   "cell_type": "code",
   "execution_count": 25,
   "id": "ef9984e4-a37d-4fa9-a321-7b421f203d0a",
   "metadata": {},
   "outputs": [],
   "source": [
    "clf = RandomForestRegressor(n_jobs=2, n_estimators=200, max_depth=100)\n",
    "reg_model = clf.fit(X_train, y_train)"
   ]
  },
  {
   "cell_type": "code",
   "execution_count": 26,
   "id": "e1f75e97-52f0-4a25-b197-54b9c6183e3b",
   "metadata": {},
   "outputs": [],
   "source": [
    "y_test_predict = clf.predict(X_test)\n",
    "\n"
   ]
  },
  {
   "cell_type": "code",
   "execution_count": 27,
   "id": "c6728d42-639e-4f15-a3c0-0b911eb16a5d",
   "metadata": {},
   "outputs": [
    {
     "name": "stdout",
     "output_type": "stream",
     "text": [
      "Mean Absolute Error: 2.28\n",
      "Mean absolute percentage error: 120329850923417.6\n"
     ]
    }
   ],
   "source": [
    "y_test_predict = clf.predict(X_test)\n",
    "errors = abs(y_test_predict - y_test)/1024/1024/1024\n",
    "y_test_predict_gb = y_test_predict/1024/1024/1024\n",
    "y_test_gb = y_test/1024/1024/1024\n",
    "mean_error = round(np.mean(errors),2)\n",
    "print('Mean Absolute Error:', round(np.mean(errors),2))\n",
    "print(\"Mean absolute percentage error:\",mean_absolute_percentage_error(y_test_gb,y_test_predict_gb))"
   ]
  },
  {
   "cell_type": "code",
   "execution_count": 28,
   "id": "4b058fdb-be9e-4955-b353-9a0f47bd836d",
   "metadata": {},
   "outputs": [
    {
     "data": {
      "text/plain": [
       "Text(0,0.5,'Predicted')"
      ]
     },
     "execution_count": 28,
     "metadata": {},
     "output_type": "execute_result"
    },
    {
     "data": {
      "image/png": "[encoded data removed]",
      "text/plain": [
       "<Figure size 432x288 with 1 Axes>"
      ]
     },
     "metadata": {
      "needs_background": "light"
     },
     "output_type": "display_data"
    }
   ],
   "source": [
    "plt.plot(y_test/1024/1024/1024, y_test_predict/1024/1024/1024,'.')\n",
    "plt.xlim(0,100)\n",
    "plt.xlabel('True')\n",
    "plt.ylabel('Predicted')\n",
    "\n"
   ]
  },
  {
   "cell_type": "code",
   "execution_count": 31,
   "id": "9b58fbb6-5e7c-4d72-bff8-74d88806f55a",
   "metadata": {},
   "outputs": [
    {
     "data": {
      "text/plain": [
       "Text(0,0.5,'Predicted')"
      ]
     },
     "execution_count": 31,
     "metadata": {},
     "output_type": "execute_result"
    },
    {
     "data": {
      "image/png": "[encoded data removed]",
      "text/plain": [
       "<Figure size 432x288 with 1 Axes>"
      ]
     },
     "metadata": {
      "needs_background": "light"
     },
     "output_type": "display_data"
    }
   ],
   "source": [
    "plt.plot(y_test, y_test_predict,'.')\n",
    "plt.xlim(0,100)\n",
    "plt.xlabel('True')\n",
    "plt.ylabel('Predicted')"
   ]
  },
  {
   "cell_type": "code",
   "execution_count": 34,
   "id": "84343121-140d-4ee8-b282-5a96c9186aec",
   "metadata": {},
   "outputs": [
    {
     "data": {
      "text/plain": [
       "array([0.24184277, 0.06330791, 1.19785   , ..., 4.26144764, 0.15665611,\n",
       "       0.28125781])"
      ]
     },
     "execution_count": 34,
     "metadata": {},
     "output_type": "execute_result"
    }
   ],
   "source": [
    "y_test/1024/1024/1024"
   ]
  },
  {
   "cell_type": "code",
   "execution_count": 35,
   "id": "32ffc59d-efad-401b-b5a2-c69fb38ed1bb",
   "metadata": {},
   "outputs": [
    {
     "data": {
      "text/plain": [
       "array([0.57578376, 0.07483773, 2.47754891, ..., 2.38492788, 0.14823678,\n",
       "       5.98618464])"
      ]
     },
     "execution_count": 35,
     "metadata": {},
     "output_type": "execute_result"
    }
   ],
   "source": [
    "y_test_predict/1024/1024/1024"
   ]
  },
  {
   "cell_type": "code",
   "execution_count": 38,
   "id": "267f0ed5-df79-4f00-b9b2-39e13a7d0e86",
   "metadata": {},
   "outputs": [],
   "source": [
    "error = abs(y_test/1024/1024/1024 - y_test_predict/1024/1024/1024)"
   ]
  },
  {
   "cell_type": "code",
   "execution_count": 40,
   "id": "f28d73ef-8950-4d9a-910b-34ac856cda8e",
   "metadata": {},
   "outputs": [
    {
     "data": {
      "text/plain": [
       "98.06751842783203"
      ]
     },
     "execution_count": 40,
     "metadata": {},
     "output_type": "execute_result"
    }
   ],
   "source": [
    "max(error)"
   ]
  },
  {
   "cell_type": "code",
   "execution_count": 41,
   "id": "ce7cdf59-cced-441c-b1ef-85ec8f15bdb9",
   "metadata": {},
   "outputs": [
    {
     "data": {
      "text/plain": [
       "2.570470924376407e-05"
      ]
     },
     "execution_count": 41,
     "metadata": {},
     "output_type": "execute_result"
    }
   ],
   "source": [
    "min(error)"
   ]
  },
  {
   "cell_type": "code",
   "execution_count": 43,
   "id": "ce318a3e-e183-4cf1-899f-2e04ba1a9f7e",
   "metadata": {},
   "outputs": [
    {
     "data": {
      "text/plain": [
       "2.2827033370596364"
      ]
     },
     "execution_count": 43,
     "metadata": {},
     "output_type": "execute_result"
    }
   ],
   "source": [
    "np.mean(error)"
   ]
  },
  {
   "cell_type": "code",
   "execution_count": 44,
   "id": "4ddb5ff8-9d91-482d-bdf7-2ac5f1dc2266",
   "metadata": {},
   "outputs": [
    {
     "data": {
      "text/plain": [
       "unique_index\n",
       "bpnn_layerforward_CUDA_-10000_bpnn_layerforward_CUDA        2.050312e+08\n",
       "bpnn_adjust_weights_cuda_-10032_bpnn_adjust_weights_cuda    3.005156e+08\n",
       "bpnn_layerforward_CUDA_-10032_bpnn_layerforward_CUDA        2.182223e+08\n",
       "bpnn_adjust_weights_cuda_-10048_bpnn_adjust_weights_cuda    4.380143e+08\n",
       "bpnn_layerforward_CUDA_-10048_bpnn_layerforward_CUDA        1.922994e+08\n",
       "                                                                ...     \n",
       "STREAM_Scale_N9984_STREAM_Scale                             0.000000e+00\n",
       "STREAM_Triad_N9984_STREAM_Triad                             8.912057e+07\n",
       "set_array_N9984_set_array                                   1.140526e+08\n",
       "STREAM_Scale_N99968_STREAM_Scale                            2.695040e+08\n",
       "set_array_N99968_set_array                                  1.575569e+08\n",
       "Name: dram_write_throughput_P100, Length: 5186, dtype: float64"
      ]
     },
     "execution_count": 44,
     "metadata": {},
     "output_type": "execute_result"
    }
   ],
   "source": [
    "df_joined['dram_write_throughput_P100']"
   ]
  },
  {
   "cell_type": "code",
   "execution_count": 47,
   "id": "d4c0eb84-66ad-4b1d-890e-bbd74670ca5c",
   "metadata": {},
   "outputs": [
    {
     "data": {
      "text/plain": [
       "0.2154541015625"
      ]
     },
     "execution_count": 47,
     "metadata": {},
     "output_type": "execute_result"
    }
   ],
   "source": [
    "max(df_joined['dram_read_throughput_P100'])/1024/1024/1024"
   ]
  },
  {
   "cell_type": "code",
   "execution_count": 48,
   "id": "a78ef177-6321-4be0-aecb-d95a729881b8",
   "metadata": {},
   "outputs": [
    {
     "data": {
      "text/plain": [
       "324.249"
      ]
     },
     "execution_count": 48,
     "metadata": {},
     "output_type": "execute_result"
    }
   ],
   "source": [
    "max(df_joined['dram_read_throughput_V100'])/1024/1024/1024"
   ]
  },
  {
   "cell_type": "code",
   "execution_count": null,
   "id": "654a7cbe-29aa-4ab7-aa12-cf669c5f7973",
   "metadata": {},
   "outputs": [],
   "source": []
  }
 ],
 "metadata": {
  "kernelspec": {
   "display_name": "Python 3",
   "language": "python",
   "name": "python3"
  },
  "language_info": {
   "codemirror_mode": {
    "name": "ipython",
    "version": 3
   },
   "file_extension": ".py",
   "mimetype": "text/x-python",
   "name": "python",
   "nbconvert_exporter": "python",
   "pygments_lexer": "ipython3",
   "version": "3.6.8"
  }
 },
 "nbformat": 4,
 "nbformat_minor": 5
}
