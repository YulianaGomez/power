{
 "cells": [
  {
   "cell_type": "code",
   "execution_count": 11,
   "id": "08ec37ac-c9a2-437a-8669-f6bc8302a0f0",
   "metadata": {},
   "outputs": [
    {
     "data": {
      "text/html": [
       "<style>.container { width:100% !important; }</style>"
      ],
      "text/plain": [
       "<IPython.core.display.HTML object>"
      ]
     },
     "metadata": {},
     "output_type": "display_data"
    }
   ],
   "source": [
    "import pandas as pd\n",
    "import numpy as np\n",
    "\n",
    "from sklearn.model_selection import train_test_split\n",
    "from sklearn.ensemble import RandomForestRegressor\n",
    "from sklearn.metrics import mean_absolute_percentage_error\n",
    "from sklearn.preprocessing import StandardScaler\n",
    "\n",
    "import matplotlib.pyplot as plt\n",
    "plt.rc('pdf', fonttype=42)\n",
    "from IPython.core.display import display, HTML\n",
    "display(HTML('<style>.container { width:100% !important; }</style>'))\n",
    "\n",
    "BIG    = 22\n",
    "MEDIUM = 20\n",
    "FIGWIDTH = 12\n",
    "WIDTH = 0.25  # the width of the bars\n",
    "NARROW = 0.2\n",
    "XLINE  = 523.21\n",
    "YLINE  = 0.002\n",
    "colors = ['#E27100', '#1b85b8', '#559e83', '#b26167']\n",
    "\n",
    "# Starting to define standardized colors\n",
    "MAE_COLOR =colors[1]\n",
    "TIME_COLOR=colors[0]"
   ]
  },
  {
   "cell_type": "code",
   "execution_count": 224,
   "id": "fd824ad5-5838-446d-b01f-69855cb26e05",
   "metadata": {},
   "outputs": [],
   "source": [
    "def get_joined_data():\n",
    "    \"\"\"Returns single (joined) dataframe\"\"\"\n",
    "    \n",
    "    # Combining V100 and P100 on same row for same run\n",
    "    # We are deleting cases where there is no run for either of the architectures\n",
    "    # Every column name is appended with the name of the architecture (e.g. \"_V100\");\n",
    "    # This includes the `master_index` (e.g `master_index_V100`)\n",
    "\n",
    "    df_joined = pd.read_parquet('../df_master_joined.parquet')\n",
    "    df_joined.master_index_P100 = df_joined.master_index_P100.astype('int64') # Make sure index is integer\n",
    "    df_joined.master_index_V100 = df_joined.master_index_V100.astype('int64') # Make sure index is integer\n",
    "    \n",
    "    return df_joined\n",
    "\n",
    "def filter_lt_val(df, val=1e9):\n",
    "    ##temp_col = df['dram_write_throughput_V100'] + df['dram_read_throughput_V100']\n",
    "    #temp_col3 = df_joined['dram_write_throughput_V100'] + df_joined['dram_read_throughput_V100']\n",
    "    #temp_col = df['dram_write_throughput_P100']\n",
    "    #temp_col2 = df['dram_read_throughput_P100']\n",
    "    #temp_col4 = df['dram_write_throughput_V100']\n",
    "    temp_col5 = df['dram_read_throughput_V100'] ## trouble predicting read throughput\n",
    "    #df =df[temp_col>val]\n",
    "    #df =df[temp_col2>val]\n",
    "    #df =df[temp_col4>=val]\n",
    "    df =df[temp_col5>=val]\n",
    "    #df_joined = df_joined[temp_col3>1e9]\n",
    "    #return df[temp_col > val]\n",
    "    return df\n",
    "\n",
    "_columns = None\n",
    "def get_columns():\n",
    "    global _columns\n",
    "    # This is an \"empty\" dataframe (meaning no rows), containing\n",
    "    # column names for numerical data only.\n",
    "    # The column nmaes can be used to index the columns of the\n",
    "    # scaled data (in master_scaled_data.npy)\n",
    "    if _columns is None:\n",
    "        _columns = tuple(pd.read_parquet('../df_column_reference.parquet').columns)\n",
    "    return _columns\n",
    "\n",
    "\n",
    "_scaled_data = None\n",
    "def get_scaled_data(row_index):\n",
    "    global _scaled_data\n",
    "    # This is a 2-D numpy array corresponding to the numerical data in 'df_master.parquet'\n",
    "    # The data has been scaled using the StandardScaler in scikitlearn\n",
    "\n",
    "    # Notes: \n",
    "    #   - The row indices correspond to the `master_index` column of 'df_master.parquet'\n",
    "    #   - The columns correspond to the columns in 'df_column_reference.parquet'.\n",
    "    #     (e.g. can use `df.get_loc(column-name)` to get the column index)\n",
    "\n",
    "    if _scaled_data is None:\n",
    "        _scaled_data = np.load('../master_scaled_data.npy')\n",
    "    return _scaled_data[row_index]\n",
    "\n",
    "def get_data(filter_val=10e9):\n",
    "    \"\"\"Returns full data and target vector\"\"\"\n",
    "    \n",
    "    df = get_joined_data()  # Start with all of df_joined\n",
    "    \n",
    "    df = filter_lt_val(df, filter_val)  # Filter throughput < 1e9\n",
    "    \n",
    "    # Training data index and values (values ARE in master_data_scaled)\n",
    "    data_row_index = df['master_index_P100'].values\n",
    "    data = get_scaled_data(data_row_index)\n",
    "    col_indices = []\n",
    "    for i, col in enumerate(get_columns()):\n",
    "        if col not in ['dram_read_throughput', 'dram_write_throughput','dram_write_transactions','dram_read_transactions']:\n",
    "            col_indices.append(i)\n",
    "    data = data[:, col_indices]\n",
    "\n",
    "    #target_row_index = df['master_index_V100'].values\n",
    "    #target = get_scaled_data(target_row_index)      \n",
    "    #target_col_indices = []\n",
    "    #for i, col in enumerate(get_columns()):\n",
    "    #    if col in ['dram_read_throughput', 'dram_write_throughput']:\n",
    "    #        target_col_indices.append(i)\n",
    "    #target = target[:, target_col_indices[0]] + target[:, target_col_indices[1]]\n",
    "    ref = (df['dram_read_throughput_V100']).values #+ df['dram_write_throughput_V100']).values\n",
    "    scaler = StandardScaler()\n",
    "    scaler.fit(ref.reshape(-1, 1))\n",
    "    target = scaler.transform(ref.reshape(-1, 1)).reshape(ref.shape)\n",
    "\n",
    "    return data, target, scaler"
   ]
  },
  {
   "cell_type": "code",
   "execution_count": 225,
   "id": "2b670428-c667-4f1b-8a2e-d9489e1787c8",
   "metadata": {},
   "outputs": [],
   "source": [
    "data, target, scaler = get_data(filter_val=1e9)\n",
    "\n",
    "# Split the data for training\n",
    "(\n",
    "    X_train, X_test,\n",
    "    y_train, y_test,\n",
    ") = train_test_split(\n",
    "    data,\n",
    "    target,\n",
    "    random_state=42,\n",
    "    test_size=.33\n",
    ")"
   ]
  },
  {
   "cell_type": "code",
   "execution_count": 226,
   "id": "b966b261-5228-4181-90e4-0d30541f959b",
   "metadata": {},
   "outputs": [
    {
     "data": {
      "text/plain": [
       "(18426, 112)"
      ]
     },
     "execution_count": 226,
     "metadata": {},
     "output_type": "execute_result"
    }
   ],
   "source": [
    "data.shape"
   ]
  },
  {
   "cell_type": "code",
   "execution_count": 227,
   "id": "398766d2-1500-4f85-a1b4-cd9459e10fe8",
   "metadata": {},
   "outputs": [],
   "source": [
    "clf = RandomForestRegressor(n_jobs=2, n_estimators=200, max_depth=100)\n",
    "reg_model = clf.fit(X_train, y_train)\n",
    "y_test_predict = clf.predict(X_test)"
   ]
  },
  {
   "cell_type": "code",
   "execution_count": 228,
   "id": "d6b99c46-d947-4bf9-93ed-8bf5c5b8b5fc",
   "metadata": {},
   "outputs": [],
   "source": [
    "y_test_predict = clf.predict(X_test)\n",
    "errors = abs(y_test_predict - y_test)"
   ]
  },
  {
   "cell_type": "code",
   "execution_count": 229,
   "id": "ad537777-e488-4060-a8c6-4c2cd82509d7",
   "metadata": {},
   "outputs": [
    {
     "name": "stdout",
     "output_type": "stream",
     "text": [
      "Mean Absolute Error: 0.08\n",
      "Mean absolute percentage error: 0.2965795736045991\n"
     ]
    }
   ],
   "source": [
    "mean_error = round(np.mean(errors),2)\n",
    "print('Mean Absolute Error:', round(np.mean(errors),2))\n",
    "print(\"Mean absolute percentage error:\", mean_absolute_percentage_error(y_test, y_test_predict))"
   ]
  },
  {
   "cell_type": "code",
   "execution_count": 230,
   "id": "f20f624a-2143-4390-b80c-c622d859ebb9",
   "metadata": {},
   "outputs": [
    {
     "name": "stdout",
     "output_type": "stream",
     "text": [
      "Mean Absolute Error: 10.71\n",
      "Mean absolute percentage error: 0.25553293329980686\n"
     ]
    }
   ],
   "source": [
    "y_test_bytes =  scaler.inverse_transform(y_test)/1e9\n",
    "y_test_predict_bytes =  scaler.inverse_transform(y_test_predict)/1e9\n",
    "errors = abs(y_test_predict_bytes - y_test_bytes)\n",
    "print('Mean Absolute Error:', round(np.mean(errors),2))\n",
    "print(\"Mean absolute percentage error:\", mean_absolute_percentage_error(y_test_bytes, y_test_predict_bytes))"
   ]
  },
  {
   "cell_type": "code",
   "execution_count": 231,
   "id": "0cc3cba0-d72e-452e-8e5b-53062e5a5b82",
   "metadata": {},
   "outputs": [
    {
     "data": {
      "text/plain": [
       "Text(0,0.5,'Predicted')"
      ]
     },
     "execution_count": 231,
     "metadata": {},
     "output_type": "execute_result"
    },
    {
     "data": {
      "image/png": "[encoded data removed]",
      "text/plain": [
       "<Figure size 432x288 with 1 Axes>"
      ]
     },
     "metadata": {
      "needs_background": "light"
     },
     "output_type": "display_data"
    }
   ],
   "source": [
    "plt.plot(y_test_bytes, y_test_predict_bytes,'.')\n",
    "plt.xlabel('True')\n",
    "plt.ylabel('Predicted')"
   ]
  },
  {
   "cell_type": "code",
   "execution_count": 232,
   "id": "483c1786-7488-4d31-91c5-fc3f8137f5f1",
   "metadata": {},
   "outputs": [
    {
     "data": {
      "text/plain": [
       "0.03895942700420391"
      ]
     },
     "execution_count": 232,
     "metadata": {},
     "output_type": "execute_result"
    }
   ],
   "source": [
    "np.mean(errors)/np.mean(y_test_bytes)"
   ]
  },
  {
   "cell_type": "code",
   "execution_count": 233,
   "id": "4a7851e8-ef43-41a3-a446-dce680840ab0",
   "metadata": {},
   "outputs": [
    {
     "data": {
      "text/plain": [
       "1.0177730314240112"
      ]
     },
     "execution_count": 233,
     "metadata": {},
     "output_type": "execute_result"
    }
   ],
   "source": [
    "min(y_test_bytes)"
   ]
  },
  {
   "cell_type": "code",
   "execution_count": 234,
   "id": "7d714a53-b4b8-4ecc-9266-a4588fa8e0f4",
   "metadata": {},
   "outputs": [
    {
     "data": {
      "text/plain": [
       "731.767937957888"
      ]
     },
     "execution_count": 234,
     "metadata": {},
     "output_type": "execute_result"
    }
   ],
   "source": [
    "max(y_test_bytes)"
   ]
  },
  {
   "cell_type": "code",
   "execution_count": null,
   "id": "53b7f5a3-ea2a-4b1a-84e2-dc95c2c2ce46",
   "metadata": {},
   "outputs": [],
   "source": []
  },
  {
   "cell_type": "code",
   "execution_count": null,
   "id": "15b0f1f0-8464-475a-827a-808f3f0fc983",
   "metadata": {},
   "outputs": [],
   "source": []
  }
 ],
 "metadata": {
  "kernelspec": {
   "display_name": "Python 3",
   "language": "python",
   "name": "python3"
  },
  "language_info": {
   "codemirror_mode": {
    "name": "ipython",
    "version": 3
   },
   "file_extension": ".py",
   "mimetype": "text/x-python",
   "name": "python",
   "nbconvert_exporter": "python",
   "pygments_lexer": "ipython3",
   "version": "3.6.8"
  }
 },
 "nbformat": 4,
 "nbformat_minor": 5
}
