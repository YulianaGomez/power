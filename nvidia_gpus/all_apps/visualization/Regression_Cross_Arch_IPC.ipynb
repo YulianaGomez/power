{
 "cells": [
  {
   "cell_type": "code",
   "execution_count": 10,
   "metadata": {},
   "outputs": [],
   "source": [
    "import pandas as pd\n",
    "import numpy as np\n",
    "import matplotlib.pyplot as plt\n",
    "from sklearn.metrics import r2_score\n",
    "from sklearn.metrics import mean_squared_error\n",
    "from sklearn.model_selection import train_test_split\n",
    "from sklearn.ensemble import RandomForestClassifier"
   ]
  },
  {
   "cell_type": "code",
   "execution_count": 11,
   "metadata": {},
   "outputs": [
    {
     "data": {
      "text/html": [
       "<style>.container { width:100% !important; }</style>"
      ],
      "text/plain": [
       "<IPython.core.display.HTML object>"
      ]
     },
     "metadata": {},
     "output_type": "display_data"
    }
   ],
   "source": [
    "from sklearn.tree import export_graphviz\n",
    "plt.rc('pdf', fonttype=42)\n",
    "#import proxima_analysis as pa\n",
    "\n",
    "from IPython.core.display import display, HTML\n",
    "display(HTML('<style>.container { width:100% !important; }</style>'))\n",
    "\n",
    "BIG    = 22\n",
    "MEDIUM = 20\n",
    "FIGWIDTH= 12\n",
    "WIDTH = 0.25  # the width of the bars\n",
    "NARROW=0.2\n",
    "\n",
    "XLINE  = 523.21\n",
    "YLINE  = 0.002\n",
    "\n",
    "colors = ['#E27100', '#1b85b8', '#559e83', '#b26167']\n",
    "\n",
    "# Starting to define standardized colors\n",
    "MAE_COLOR =colors[1]\n",
    "TIME_COLOR=colors[0]"
   ]
  },
  {
   "cell_type": "markdown",
   "metadata": {},
   "source": [
    "# Read in Data"
   ]
  },
  {
   "cell_type": "code",
   "execution_count": 12,
   "metadata": {},
   "outputs": [
    {
     "data": {
      "text/plain": [
       "(78330, 122)"
      ]
     },
     "execution_count": 12,
     "metadata": {},
     "output_type": "execute_result"
    }
   ],
   "source": [
    "# Master dataframe with all columns, including `memory_bound` and `master_index`.\n",
    "# Each row corresponds to distinct architecture and run\n",
    "\n",
    "df_master = pd.read_parquet('../df_master.parquet')\n",
    "df_master.master_index = df_master.master_index.astype('int64') # Make sure index is integer\n",
    "df_master.shape"
   ]
  },
  {
   "cell_type": "code",
   "execution_count": 13,
   "metadata": {},
   "outputs": [
    {
     "data": {
      "text/html": [
       "<div>\n",
       "<style scoped>\n",
       "    .dataframe tbody tr th:only-of-type {\n",
       "        vertical-align: middle;\n",
       "    }\n",
       "\n",
       "    .dataframe tbody tr th {\n",
       "        vertical-align: top;\n",
       "    }\n",
       "\n",
       "    .dataframe thead th {\n",
       "        text-align: right;\n",
       "    }\n",
       "</style>\n",
       "<table border=\"1\" class=\"dataframe\">\n",
       "  <thead>\n",
       "    <tr style=\"text-align: right;\">\n",
       "      <th></th>\n",
       "      <th>inst_per_warp</th>\n",
       "      <th>kernelname</th>\n",
       "      <th>branch_efficiency</th>\n",
       "      <th>warp_execution_efficiency</th>\n",
       "      <th>warp_nonpred_execution_efficiency</th>\n",
       "      <th>inst_replay_overhead</th>\n",
       "      <th>shared_load_transactions_per_request</th>\n",
       "      <th>shared_store_transactions_per_request</th>\n",
       "      <th>local_load_transactions_per_request</th>\n",
       "      <th>local_store_transactions_per_request</th>\n",
       "      <th>...</th>\n",
       "      <th>flop_hp_efficiency</th>\n",
       "      <th>flop_sp_efficiency</th>\n",
       "      <th>flop_dp_efficiency</th>\n",
       "      <th>sysmem_read_utilization</th>\n",
       "      <th>sysmem_write_utilization</th>\n",
       "      <th>architecture</th>\n",
       "      <th>application_name</th>\n",
       "      <th>input</th>\n",
       "      <th>memory_bound</th>\n",
       "      <th>master_index</th>\n",
       "    </tr>\n",
       "  </thead>\n",
       "  <tbody>\n",
       "    <tr>\n",
       "      <th>0</th>\n",
       "      <td>56.00056</td>\n",
       "      <td>bpnn_adjust_weights_cuda</td>\n",
       "      <td>1.0</td>\n",
       "      <td>0.999995</td>\n",
       "      <td>0.999994</td>\n",
       "      <td>0.002058</td>\n",
       "      <td>0.000000</td>\n",
       "      <td>0.000000</td>\n",
       "      <td>0.0</td>\n",
       "      <td>0.0</td>\n",
       "      <td>...</td>\n",
       "      <td>0.0</td>\n",
       "      <td>0.000000</td>\n",
       "      <td>0.047434</td>\n",
       "      <td>0</td>\n",
       "      <td>1</td>\n",
       "      <td>P100</td>\n",
       "      <td>backprop</td>\n",
       "      <td>-100000_bpnn_adjust_weights_cuda</td>\n",
       "      <td>0</td>\n",
       "      <td>0</td>\n",
       "    </tr>\n",
       "    <tr>\n",
       "      <th>1</th>\n",
       "      <td>184.00000</td>\n",
       "      <td>bpnn_layerforward_CUDA</td>\n",
       "      <td>1.0</td>\n",
       "      <td>0.943953</td>\n",
       "      <td>0.761888</td>\n",
       "      <td>0.000633</td>\n",
       "      <td>0.645833</td>\n",
       "      <td>0.696429</td>\n",
       "      <td>0.0</td>\n",
       "      <td>0.0</td>\n",
       "      <td>...</td>\n",
       "      <td>0.0</td>\n",
       "      <td>0.004695</td>\n",
       "      <td>0.000000</td>\n",
       "      <td>0</td>\n",
       "      <td>1</td>\n",
       "      <td>P100</td>\n",
       "      <td>backprop</td>\n",
       "      <td>-100000_bpnn_layerforward_CUDA</td>\n",
       "      <td>0</td>\n",
       "      <td>1</td>\n",
       "    </tr>\n",
       "    <tr>\n",
       "      <th>2</th>\n",
       "      <td>56.00560</td>\n",
       "      <td>bpnn_adjust_weights_cuda</td>\n",
       "      <td>1.0</td>\n",
       "      <td>0.999950</td>\n",
       "      <td>0.999948</td>\n",
       "      <td>0.016234</td>\n",
       "      <td>0.000000</td>\n",
       "      <td>0.000000</td>\n",
       "      <td>0.0</td>\n",
       "      <td>0.0</td>\n",
       "      <td>...</td>\n",
       "      <td>0.0</td>\n",
       "      <td>0.000000</td>\n",
       "      <td>0.043993</td>\n",
       "      <td>0</td>\n",
       "      <td>1</td>\n",
       "      <td>P100</td>\n",
       "      <td>backprop</td>\n",
       "      <td>-10000_bpnn_adjust_weights_cuda</td>\n",
       "      <td>0</td>\n",
       "      <td>2</td>\n",
       "    </tr>\n",
       "    <tr>\n",
       "      <th>3</th>\n",
       "      <td>184.00000</td>\n",
       "      <td>bpnn_layerforward_CUDA</td>\n",
       "      <td>1.0</td>\n",
       "      <td>0.943953</td>\n",
       "      <td>0.761888</td>\n",
       "      <td>0.006918</td>\n",
       "      <td>0.645833</td>\n",
       "      <td>0.696429</td>\n",
       "      <td>0.0</td>\n",
       "      <td>0.0</td>\n",
       "      <td>...</td>\n",
       "      <td>0.0</td>\n",
       "      <td>0.003017</td>\n",
       "      <td>0.000000</td>\n",
       "      <td>0</td>\n",
       "      <td>1</td>\n",
       "      <td>P100</td>\n",
       "      <td>backprop</td>\n",
       "      <td>-10000_bpnn_layerforward_CUDA</td>\n",
       "      <td>0</td>\n",
       "      <td>3</td>\n",
       "    </tr>\n",
       "    <tr>\n",
       "      <th>4</th>\n",
       "      <td>56.00056</td>\n",
       "      <td>bpnn_adjust_weights_cuda</td>\n",
       "      <td>1.0</td>\n",
       "      <td>0.999995</td>\n",
       "      <td>0.999994</td>\n",
       "      <td>0.002492</td>\n",
       "      <td>0.000000</td>\n",
       "      <td>0.000000</td>\n",
       "      <td>0.0</td>\n",
       "      <td>0.0</td>\n",
       "      <td>...</td>\n",
       "      <td>0.0</td>\n",
       "      <td>0.000000</td>\n",
       "      <td>0.048306</td>\n",
       "      <td>0</td>\n",
       "      <td>1</td>\n",
       "      <td>P100</td>\n",
       "      <td>backprop</td>\n",
       "      <td>-100016_bpnn_adjust_weights_cuda</td>\n",
       "      <td>0</td>\n",
       "      <td>4</td>\n",
       "    </tr>\n",
       "    <tr>\n",
       "      <th>...</th>\n",
       "      <td>...</td>\n",
       "      <td>...</td>\n",
       "      <td>...</td>\n",
       "      <td>...</td>\n",
       "      <td>...</td>\n",
       "      <td>...</td>\n",
       "      <td>...</td>\n",
       "      <td>...</td>\n",
       "      <td>...</td>\n",
       "      <td>...</td>\n",
       "      <td>...</td>\n",
       "      <td>...</td>\n",
       "      <td>...</td>\n",
       "      <td>...</td>\n",
       "      <td>...</td>\n",
       "      <td>...</td>\n",
       "      <td>...</td>\n",
       "      <td>...</td>\n",
       "      <td>...</td>\n",
       "      <td>...</td>\n",
       "      <td>...</td>\n",
       "    </tr>\n",
       "    <tr>\n",
       "      <th>78325</th>\n",
       "      <td>123.00000</td>\n",
       "      <td>STREAM_Add</td>\n",
       "      <td>1.0</td>\n",
       "      <td>1.000000</td>\n",
       "      <td>0.952235</td>\n",
       "      <td>0.042877</td>\n",
       "      <td>0.000000</td>\n",
       "      <td>0.000000</td>\n",
       "      <td>0.0</td>\n",
       "      <td>0.0</td>\n",
       "      <td>...</td>\n",
       "      <td>0.0</td>\n",
       "      <td>0.001050</td>\n",
       "      <td>0.000000</td>\n",
       "      <td>0</td>\n",
       "      <td>1</td>\n",
       "      <td>V100</td>\n",
       "      <td>stream</td>\n",
       "      <td>N99968_STREAM_Add</td>\n",
       "      <td>0</td>\n",
       "      <td>78325</td>\n",
       "    </tr>\n",
       "    <tr>\n",
       "      <th>78326</th>\n",
       "      <td>120.00000</td>\n",
       "      <td>STREAM_Copy</td>\n",
       "      <td>1.0</td>\n",
       "      <td>1.000000</td>\n",
       "      <td>0.951041</td>\n",
       "      <td>0.049354</td>\n",
       "      <td>0.000000</td>\n",
       "      <td>0.000000</td>\n",
       "      <td>0.0</td>\n",
       "      <td>0.0</td>\n",
       "      <td>...</td>\n",
       "      <td>0.0</td>\n",
       "      <td>0.000000</td>\n",
       "      <td>0.000000</td>\n",
       "      <td>0</td>\n",
       "      <td>1</td>\n",
       "      <td>V100</td>\n",
       "      <td>stream</td>\n",
       "      <td>N99968_STREAM_Copy</td>\n",
       "      <td>0</td>\n",
       "      <td>78326</td>\n",
       "    </tr>\n",
       "    <tr>\n",
       "      <th>78327</th>\n",
       "      <td>121.00000</td>\n",
       "      <td>STREAM_Scale</td>\n",
       "      <td>1.0</td>\n",
       "      <td>1.000000</td>\n",
       "      <td>0.951446</td>\n",
       "      <td>0.047521</td>\n",
       "      <td>0.000000</td>\n",
       "      <td>0.000000</td>\n",
       "      <td>0.0</td>\n",
       "      <td>0.0</td>\n",
       "      <td>...</td>\n",
       "      <td>0.0</td>\n",
       "      <td>0.001094</td>\n",
       "      <td>0.000000</td>\n",
       "      <td>0</td>\n",
       "      <td>1</td>\n",
       "      <td>V100</td>\n",
       "      <td>stream</td>\n",
       "      <td>N99968_STREAM_Scale</td>\n",
       "      <td>0</td>\n",
       "      <td>78327</td>\n",
       "    </tr>\n",
       "    <tr>\n",
       "      <th>78328</th>\n",
       "      <td>123.00000</td>\n",
       "      <td>STREAM_Triad</td>\n",
       "      <td>1.0</td>\n",
       "      <td>1.000000</td>\n",
       "      <td>0.952235</td>\n",
       "      <td>0.040356</td>\n",
       "      <td>0.000000</td>\n",
       "      <td>0.000000</td>\n",
       "      <td>0.0</td>\n",
       "      <td>0.0</td>\n",
       "      <td>...</td>\n",
       "      <td>0.0</td>\n",
       "      <td>0.002153</td>\n",
       "      <td>0.000000</td>\n",
       "      <td>0</td>\n",
       "      <td>1</td>\n",
       "      <td>V100</td>\n",
       "      <td>stream</td>\n",
       "      <td>N99968_STREAM_Triad</td>\n",
       "      <td>0</td>\n",
       "      <td>78328</td>\n",
       "    </tr>\n",
       "    <tr>\n",
       "      <th>78329</th>\n",
       "      <td>119.00000</td>\n",
       "      <td>set_array</td>\n",
       "      <td>1.0</td>\n",
       "      <td>1.000000</td>\n",
       "      <td>0.950630</td>\n",
       "      <td>0.042920</td>\n",
       "      <td>0.000000</td>\n",
       "      <td>0.000000</td>\n",
       "      <td>0.0</td>\n",
       "      <td>0.0</td>\n",
       "      <td>...</td>\n",
       "      <td>0.0</td>\n",
       "      <td>0.000000</td>\n",
       "      <td>0.000000</td>\n",
       "      <td>0</td>\n",
       "      <td>1</td>\n",
       "      <td>V100</td>\n",
       "      <td>stream</td>\n",
       "      <td>N99968_set_array</td>\n",
       "      <td>0</td>\n",
       "      <td>78329</td>\n",
       "    </tr>\n",
       "  </tbody>\n",
       "</table>\n",
       "<p>78330 rows × 122 columns</p>\n",
       "</div>"
      ],
      "text/plain": [
       "       inst_per_warp                kernelname  branch_efficiency  \\\n",
       "0           56.00056  bpnn_adjust_weights_cuda                1.0   \n",
       "1          184.00000    bpnn_layerforward_CUDA                1.0   \n",
       "2           56.00560  bpnn_adjust_weights_cuda                1.0   \n",
       "3          184.00000    bpnn_layerforward_CUDA                1.0   \n",
       "4           56.00056  bpnn_adjust_weights_cuda                1.0   \n",
       "...              ...                       ...                ...   \n",
       "78325      123.00000                STREAM_Add                1.0   \n",
       "78326      120.00000               STREAM_Copy                1.0   \n",
       "78327      121.00000              STREAM_Scale                1.0   \n",
       "78328      123.00000              STREAM_Triad                1.0   \n",
       "78329      119.00000                 set_array                1.0   \n",
       "\n",
       "       warp_execution_efficiency  warp_nonpred_execution_efficiency  \\\n",
       "0                       0.999995                           0.999994   \n",
       "1                       0.943953                           0.761888   \n",
       "2                       0.999950                           0.999948   \n",
       "3                       0.943953                           0.761888   \n",
       "4                       0.999995                           0.999994   \n",
       "...                          ...                                ...   \n",
       "78325                   1.000000                           0.952235   \n",
       "78326                   1.000000                           0.951041   \n",
       "78327                   1.000000                           0.951446   \n",
       "78328                   1.000000                           0.952235   \n",
       "78329                   1.000000                           0.950630   \n",
       "\n",
       "       inst_replay_overhead  shared_load_transactions_per_request  \\\n",
       "0                  0.002058                              0.000000   \n",
       "1                  0.000633                              0.645833   \n",
       "2                  0.016234                              0.000000   \n",
       "3                  0.006918                              0.645833   \n",
       "4                  0.002492                              0.000000   \n",
       "...                     ...                                   ...   \n",
       "78325              0.042877                              0.000000   \n",
       "78326              0.049354                              0.000000   \n",
       "78327              0.047521                              0.000000   \n",
       "78328              0.040356                              0.000000   \n",
       "78329              0.042920                              0.000000   \n",
       "\n",
       "       shared_store_transactions_per_request  \\\n",
       "0                                   0.000000   \n",
       "1                                   0.696429   \n",
       "2                                   0.000000   \n",
       "3                                   0.696429   \n",
       "4                                   0.000000   \n",
       "...                                      ...   \n",
       "78325                               0.000000   \n",
       "78326                               0.000000   \n",
       "78327                               0.000000   \n",
       "78328                               0.000000   \n",
       "78329                               0.000000   \n",
       "\n",
       "       local_load_transactions_per_request  \\\n",
       "0                                      0.0   \n",
       "1                                      0.0   \n",
       "2                                      0.0   \n",
       "3                                      0.0   \n",
       "4                                      0.0   \n",
       "...                                    ...   \n",
       "78325                                  0.0   \n",
       "78326                                  0.0   \n",
       "78327                                  0.0   \n",
       "78328                                  0.0   \n",
       "78329                                  0.0   \n",
       "\n",
       "       local_store_transactions_per_request  ...  flop_hp_efficiency  \\\n",
       "0                                       0.0  ...                 0.0   \n",
       "1                                       0.0  ...                 0.0   \n",
       "2                                       0.0  ...                 0.0   \n",
       "3                                       0.0  ...                 0.0   \n",
       "4                                       0.0  ...                 0.0   \n",
       "...                                     ...  ...                 ...   \n",
       "78325                                   0.0  ...                 0.0   \n",
       "78326                                   0.0  ...                 0.0   \n",
       "78327                                   0.0  ...                 0.0   \n",
       "78328                                   0.0  ...                 0.0   \n",
       "78329                                   0.0  ...                 0.0   \n",
       "\n",
       "       flop_sp_efficiency  flop_dp_efficiency  sysmem_read_utilization  \\\n",
       "0                0.000000            0.047434                        0   \n",
       "1                0.004695            0.000000                        0   \n",
       "2                0.000000            0.043993                        0   \n",
       "3                0.003017            0.000000                        0   \n",
       "4                0.000000            0.048306                        0   \n",
       "...                   ...                 ...                      ...   \n",
       "78325            0.001050            0.000000                        0   \n",
       "78326            0.000000            0.000000                        0   \n",
       "78327            0.001094            0.000000                        0   \n",
       "78328            0.002153            0.000000                        0   \n",
       "78329            0.000000            0.000000                        0   \n",
       "\n",
       "       sysmem_write_utilization  architecture  application_name  \\\n",
       "0                             1          P100          backprop   \n",
       "1                             1          P100          backprop   \n",
       "2                             1          P100          backprop   \n",
       "3                             1          P100          backprop   \n",
       "4                             1          P100          backprop   \n",
       "...                         ...           ...               ...   \n",
       "78325                         1          V100            stream   \n",
       "78326                         1          V100            stream   \n",
       "78327                         1          V100            stream   \n",
       "78328                         1          V100            stream   \n",
       "78329                         1          V100            stream   \n",
       "\n",
       "                                  input  memory_bound  master_index  \n",
       "0      -100000_bpnn_adjust_weights_cuda             0             0  \n",
       "1        -100000_bpnn_layerforward_CUDA             0             1  \n",
       "2       -10000_bpnn_adjust_weights_cuda             0             2  \n",
       "3         -10000_bpnn_layerforward_CUDA             0             3  \n",
       "4      -100016_bpnn_adjust_weights_cuda             0             4  \n",
       "...                                 ...           ...           ...  \n",
       "78325                 N99968_STREAM_Add             0         78325  \n",
       "78326                N99968_STREAM_Copy             0         78326  \n",
       "78327               N99968_STREAM_Scale             0         78327  \n",
       "78328               N99968_STREAM_Triad             0         78328  \n",
       "78329                  N99968_set_array             0         78329  \n",
       "\n",
       "[78330 rows x 122 columns]"
      ]
     },
     "execution_count": 13,
     "metadata": {},
     "output_type": "execute_result"
    }
   ],
   "source": [
    "df_master"
   ]
  },
  {
   "cell_type": "code",
   "execution_count": 14,
   "metadata": {},
   "outputs": [
    {
     "data": {
      "text/plain": [
       "(32291, 244)"
      ]
     },
     "execution_count": 14,
     "metadata": {},
     "output_type": "execute_result"
    }
   ],
   "source": [
    "# Combining V100 and P100 on same row for same run\n",
    "# We are deleting cases where there is no run for either of the architectures\n",
    "# Every column name is appended with the name of the architecture (e.g. \"_V100\");\n",
    "# This includes the `master_index` (e.g `master_index_V100`)\n",
    "\n",
    "df_joined = pd.read_parquet('../df_master_joined.parquet')\n",
    "df_joined.master_index_P100 = df_joined.master_index_P100.astype('int64') # Make sure index is integer\n",
    "df_joined.master_index_V100 = df_joined.master_index_V100.astype('int64') # Make sure index is integer\n",
    "df_joined.shape"
   ]
  },
  {
   "cell_type": "code",
   "execution_count": 15,
   "metadata": {},
   "outputs": [
    {
     "data": {
      "text/plain": [
       "1.893835"
      ]
     },
     "execution_count": 15,
     "metadata": {},
     "output_type": "execute_result"
    }
   ],
   "source": [
    "max(df_joined['ipc_V100'])\n",
    "max(df_joined['ipc_P100'])"
   ]
  },
  {
   "cell_type": "code",
   "execution_count": 16,
   "metadata": {},
   "outputs": [],
   "source": [
    "v100_membound = df_joined[df_joined['memory_bound_V100']==1]\n",
    "v100_mb_kernels = v100_membound['kernelname_V100']\n",
    "ipc_p100 = v100_membound['ipc_P100']\n",
    "ipc_v100 = v100_membound['ipc_V100']\n",
    "ipc_difference_p100_v100 = ipc_p100 - ipc_v100\n",
    "#ipc_difference_p100_v100[ipc_difference_p100_v100 < 0]"
   ]
  },
  {
   "cell_type": "code",
   "execution_count": 17,
   "metadata": {},
   "outputs": [
    {
     "data": {
      "text/plain": [
       "(78330, 116)"
      ]
     },
     "execution_count": 17,
     "metadata": {},
     "output_type": "execute_result"
    }
   ],
   "source": [
    "# This is an \"empty\" dataframe (meaning no rows), containing\n",
    "# column names for numerical data only.\n",
    "# The column nmaes can be used to index the columns of the\n",
    "# scaled data (in master_scaled_data.npy)\n",
    "\n",
    "df_columns_only = pd.read_parquet('../df_column_reference.parquet')\n",
    "\n",
    "\n",
    "# This is a 2-D numpy array corresponding to the numerical data in 'df_master.parquet'\n",
    "# The data has been scaled using the StandardScaler in scikitlearn\n",
    "\n",
    "# Notes: \n",
    "#   - The row indices correspond to the `master_index` column of 'df_master.parquet'\n",
    "#   - The columns correspond to the columns in 'df_column_reference.parquet'.\n",
    "#     (e.g. can use `df.get_loc(column-name)` to get the column index)\n",
    "\n",
    "master_data_scaled = np.load('../master_scaled_data.npy')\n",
    "master_data_scaled.shape\n"
   ]
  },
  {
   "cell_type": "code",
   "execution_count": 18,
   "metadata": {},
   "outputs": [],
   "source": [
    "kernels = []\n",
    "for i in df_joined['application_name_V100']:\n",
    "    if i not in kernels:\n",
    "        kernels.append(i)"
   ]
  },
  {
   "cell_type": "code",
   "execution_count": 19,
   "metadata": {},
   "outputs": [
    {
     "data": {
      "text/plain": [
       "['backprop', 'gaussian', 'hybridsort', 'kmeans', 'leukocyte', 'srad', 'stream']"
      ]
     },
     "execution_count": 19,
     "metadata": {},
     "output_type": "execute_result"
    }
   ],
   "source": [
    "kernels"
   ]
  },
  {
   "cell_type": "markdown",
   "metadata": {},
   "source": [
    "## Removing one application from training set to be predicted on\n",
    "Options: 'backprop', 'gaussian', 'hybridsort', 'kmeans', 'leukocyte', 'srad'"
   ]
  },
  {
   "cell_type": "code",
   "execution_count": 20,
   "metadata": {},
   "outputs": [],
   "source": [
    "df = df_joined.copy()  \n",
    "kernel_name = 'kmeans'\n",
    "#saving gaussian kernel for input and output testing\n",
    "target_g = df[df['application_name_V100']==kernel_name]\n",
    "input_x = df[df['application_name_P100']==kernel_name]\n",
    "\n",
    "#dropping gaussian kernels from both v100 and p100 data \n",
    "df = df[df.application_name_V100 != kernel_name]\n",
    "df = df[df.application_name_P100 != kernel_name]"
   ]
  },
  {
   "cell_type": "code",
   "execution_count": 21,
   "metadata": {},
   "outputs": [],
   "source": [
    "\n",
    "\n",
    "# Target index and values (values are NOT in master_data_scaled)\n",
    "target_index = df['master_index_V100'].values\n",
    "target = df['memory_bound_V100'].values\n",
    "\n",
    "# Training data index and values (values ARE in master_data_scaled)\n",
    "data_index = df['master_index_P100'].values\n",
    "data = master_data_scaled[ data_index ]\n",
    "\n",
    "# Need to drop 'dram_read_throughput' and 'dram_write_throughput'\n",
    "indices = []\n",
    "for i, col in enumerate(df_columns_only.columns):\n",
    "    if col not in ['dram_read_throughput', 'dram_write_throughput','dram_write_transactions','dram_read_transactions']:\n",
    "    #if col not in not_import:\n",
    "        indices.append(i)       \n",
    "data = data[:,indices]"
   ]
  },
  {
   "cell_type": "code",
   "execution_count": 22,
   "metadata": {},
   "outputs": [],
   "source": [
    "# Split the data for training\n",
    "(\n",
    "    X_train, X_test,\n",
    "    y_train, y_test,\n",
    "    #data_index_train, data_index_test,\n",
    "    #target_index_train, target_index_test\n",
    ") = train_test_split(\n",
    "    data,\n",
    "    target,\n",
    "    #data_index,\n",
    "    #target_index,\n",
    "    random_state=42,\n",
    "    test_size=.33\n",
    ")"
   ]
  },
  {
   "cell_type": "code",
   "execution_count": 23,
   "metadata": {},
   "outputs": [],
   "source": [
    "\n",
    "clf = RandomForestClassifier(n_jobs=2, n_estimators=1000,max_depth=2)\n",
    "#model = clf.fit(X_train, y_train)\n",
    "model = clf.fit(data,target)"
   ]
  },
  {
   "cell_type": "code",
   "execution_count": 24,
   "metadata": {},
   "outputs": [
    {
     "data": {
      "text/plain": [
       "0.9702998846597463"
      ]
     },
     "execution_count": 24,
     "metadata": {},
     "output_type": "execute_result"
    }
   ],
   "source": [
    "# Simple training-set accuracy calculation\n",
    "y_test_predict = clf.predict(X_test)\n",
    "\n",
    "correct = 0\n",
    "for p, t in zip(y_test_predict, y_test):\n",
    "    if p == t:\n",
    "        correct += 1\n",
    "accuracy = correct / len(y_test)\n",
    "accuracy"
   ]
  },
  {
   "cell_type": "code",
   "execution_count": 25,
   "metadata": {},
   "outputs": [
    {
     "data": {
      "image/png": "[encoded data removed]",
      "text/plain": [
       "<Figure size 468x324 with 1 Axes>"
      ]
     },
     "metadata": {
      "needs_background": "light"
     },
     "output_type": "display_data"
    },
    {
     "data": {
      "text/plain": [
       "<Figure size 360x360 with 0 Axes>"
      ]
     },
     "metadata": {},
     "output_type": "display_data"
    }
   ],
   "source": [
    "y = model.feature_importances_\n",
    "width = 0.4\n",
    "#plot\n",
    "fig, ax = plt.subplots() \n",
    "width = 0.4 # the width of the bars \n",
    "ind = np.arange(len(y)) # the x locations for the groups\n",
    "ax.barh(ind, y, width)\n",
    "ax.set_yticks(ind+width/10)\n",
    "ax.set_yticklabels(col, minor=False)\n",
    "plt.title(\"Feature importance in RandomForest Classifier\")\n",
    "plt.xlabel(\"Relative importance\")\n",
    "plt.ylabel(\"feature\") \n",
    "plt.figure(figsize=(5,5))\n",
    "fig.set_size_inches(6.5, 4.5, forward=True)"
   ]
  },
  {
   "cell_type": "code",
   "execution_count": 26,
   "metadata": {},
   "outputs": [
    {
     "ename": "NameError",
     "evalue": "name 'col_names' is not defined",
     "output_type": "error",
     "traceback": [
      "\u001b[0;31m---------------------------------------------------------------------------\u001b[0m",
      "\u001b[0;31mNameError\u001b[0m                                 Traceback (most recent call last)",
      "\u001b[0;32m<ipython-input-26-a3e65a7f2ace>\u001b[0m in \u001b[0;36m<module>\u001b[0;34m\u001b[0m\n\u001b[1;32m      7\u001b[0m \u001b[0;32mfor\u001b[0m \u001b[0mtree_in_forest\u001b[0m \u001b[0;32min\u001b[0m \u001b[0mmodel\u001b[0m\u001b[0;34m.\u001b[0m\u001b[0mestimators_\u001b[0m\u001b[0;34m:\u001b[0m\u001b[0;34m\u001b[0m\u001b[0;34m\u001b[0m\u001b[0m\n\u001b[1;32m      8\u001b[0m     export_graphviz(tree_in_forest,out_file='tree.dot',\n\u001b[0;32m----> 9\u001b[0;31m     \u001b[0mfeature_names\u001b[0m\u001b[0;34m=\u001b[0m\u001b[0mcol_names\u001b[0m\u001b[0;34m,\u001b[0m\u001b[0;34m\u001b[0m\u001b[0;34m\u001b[0m\u001b[0m\n\u001b[0m\u001b[1;32m     10\u001b[0m     \u001b[0mfilled\u001b[0m\u001b[0;34m=\u001b[0m\u001b[0;32mTrue\u001b[0m\u001b[0;34m,\u001b[0m\u001b[0;34m\u001b[0m\u001b[0;34m\u001b[0m\u001b[0m\n\u001b[1;32m     11\u001b[0m     rounded=True)\n",
      "\u001b[0;31mNameError\u001b[0m: name 'col_names' is not defined"
     ]
    }
   ],
   "source": [
    "from sklearn.tree import export_graphviz\n",
    "import six\n",
    "import pydot\n",
    "from sklearn import tree\n",
    "dotfile = six.StringIO()\n",
    "i_tree = 0\n",
    "for tree_in_forest in model.estimators_:\n",
    "    export_graphviz(tree_in_forest,out_file='tree.dot',\n",
    "    feature_names=col_names,\n",
    "    filled=True,\n",
    "    rounded=True)\n",
    "    (graph,) = pydot.graph_from_dot_file('tree.dot')\n",
    "    name = 'tree' + str(i_tree)\n",
    "    graph.write_png(name+  '.png')\n",
    "    os.system('dot -Tpng tree.dot -o tree.png')\n",
    "    i_tree +=1"
   ]
  },
  {
   "cell_type": "code",
   "execution_count": null,
   "metadata": {},
   "outputs": [],
   "source": [
    "df_columns_only.columns.drop(['dram_read_throughput', 'dram_write_throughput','dram_write_transactions','dram_read_transactions'])"
   ]
  },
  {
   "cell_type": "code",
   "execution_count": null,
   "metadata": {},
   "outputs": [],
   "source": [
    "estimator = clf.estimators_[4]\n",
    "export_graphviz(estimator, out_file='tree.dot',feature_names = df_columns_only.columns.drop(['dram_read_throughput', 'dram_write_throughput','dram_write_transactions','dram_read_transactions']),\n",
    "                class_names='memory_bound_V100',rounded=True,\n",
    "                proportion=False, precision=2, filled=True)"
   ]
  },
  {
   "cell_type": "code",
   "execution_count": null,
   "metadata": {
    "tags": []
   },
   "outputs": [],
   "source": [
    "# Convert to png using system command (requires Graphviz)\n",
    "from subprocess import call\n",
    "call(['dot', '-Tpng', 'tree.dot', '-o', 'tree.png', '-Gdpi=600'])\n",
    "\n",
    "# Display in jupyter notebook\n",
    "from IPython.display import Image\n",
    "Image(filename = 'tree.png')"
   ]
  },
  {
   "cell_type": "code",
   "execution_count": null,
   "metadata": {},
   "outputs": [],
   "source": [
    "from dtreeviz.trees import *\n",
    "from IPython.display import Image, display_svg, SVG"
   ]
  },
  {
   "cell_type": "code",
   "execution_count": null,
   "metadata": {},
   "outputs": [],
   "source": [
    "#trees.explain_prediction_path(model, X, feature_names=df_columns_only.columns.drop(['dram_read_throughput', 'dram_write_throughput','dram_write_transactions','dram_read_transactions']),explanation_type=\"sklearn_default\")\n",
    "\n",
    "col_names = df_columns_only.columns.drop(['dram_read_throughput', 'dram_write_throughput','dram_write_transactions','dram_read_transactions'])\n",
    "clf = tree.DecisionTreeClassifier(max_depth=2)\n",
    "clf.fit(X_train,y_train)\n",
    "viz = dtreeviz(clf, \n",
    "               X_train,\n",
    "               y_train,\n",
    "               target_name='memory_bound_V100',\n",
    "               feature_names=col_names, \n",
    "               class_names=[\"True\", \"False\"],\n",
    "               orientation='LR')\n",
    "viz\n",
    "\n"
   ]
  },
  {
   "cell_type": "code",
   "execution_count": null,
   "metadata": {},
   "outputs": [],
   "source": [
    "dtreeviz(clf,\n",
    "         X_train,\n",
    "         y_train,\n",
    "         target_name=\"memory_bound_V00\",\n",
    "         feature_names=col_names,\n",
    "         scale=1.5\n",
    "        )"
   ]
  },
  {
   "cell_type": "code",
   "execution_count": null,
   "metadata": {},
   "outputs": [],
   "source": [
    "viz = dtreeviz(clf,\n",
    "               X_train,\n",
    "               y_train,\n",
    "               target_name='memory_bound_V100',  # this name will be displayed at the leaf node\n",
    "               feature_names=col_names,\n",
    "               title=\"Memory Bound Prediction\",\n",
    "               fontname=\"Arial\",\n",
    "               title_fontsize=16,\n",
    "               colors = {\"title\":\"green\"}\n",
    "              )\n",
    "viz"
   ]
  },
  {
   "cell_type": "markdown",
   "metadata": {},
   "source": [
    "## Predicting kernel that was not in training data"
   ]
  },
  {
   "cell_type": "code",
   "execution_count": null,
   "metadata": {},
   "outputs": [],
   "source": [
    "target_g_data = target_g['memory_bound_V100'].values\n",
    "data_index_m = input_x['master_index_P100'].values\n",
    "data_m = master_data_scaled[data_index_m]\n",
    "data_m = data_m[:,indices]"
   ]
  },
  {
   "cell_type": "code",
   "execution_count": null,
   "metadata": {},
   "outputs": [],
   "source": [
    "# Simple training-set accuracy calculation\n",
    "y_test_predict_m = clf.predict(data_m)\n",
    "correct = 0\n",
    "for p, t in zip(y_test_predict_m, target_g_data):\n",
    "    if p == t:\n",
    "        correct += 1\n",
    "accuracy = correct / len(target_g_data)\n",
    "accuracy"
   ]
  },
  {
   "cell_type": "code",
   "execution_count": null,
   "metadata": {},
   "outputs": [],
   "source": []
  },
  {
   "cell_type": "code",
   "execution_count": null,
   "metadata": {},
   "outputs": [],
   "source": [
    "print('Entire sample size: ', len(data))\n",
    "print('length of training example:',len(X_train))\n",
    "print('length of target input:', len(target_g_data))\n",
    "print('total data of kernel:', len(data_m))"
   ]
  },
  {
   "cell_type": "markdown",
   "metadata": {},
   "source": [
    "Accuracy for predicting <br>\n",
    "1. backprop = 87.04 <br>\n",
    "2. stream = 96.63  <br>\n",
    "3. leukocyte = 66.66 -100 <br>\n",
    "4. hybridsort =  1 <br>\n",
    "5. kmeans = 75.16 <br>\n",
    "6. srad = 62.50<br>"
   ]
  },
  {
   "cell_type": "code",
   "execution_count": null,
   "metadata": {},
   "outputs": [],
   "source": [
    "#dataframe where \n",
    "#Kernel name, accuracy all data, accuracy split data, training size, kernel data points\n",
    "accuracy_results = {'kernel name':[], \n",
    "                    'accuracy - all data':[], \n",
    "                    'accuracy - split':[],\n",
    "                    'training size':[],\n",
    "                    'kernel size':[]}\n",
    "#df_accuracy = pd.DataFrame(accuracy_results)"
   ]
  },
  {
   "cell_type": "code",
   "execution_count": null,
   "metadata": {},
   "outputs": [],
   "source": [
    "accuracy_results['kernel name'] = 'stream'"
   ]
  },
  {
   "cell_type": "code",
   "execution_count": null,
   "metadata": {},
   "outputs": [],
   "source": []
  },
  {
   "cell_type": "code",
   "execution_count": null,
   "metadata": {},
   "outputs": [],
   "source": []
  },
  {
   "cell_type": "code",
   "execution_count": 29,
   "metadata": {},
   "outputs": [],
   "source": [
    "# This is an \"empty\" dataframe (meaning no rows), containing\n",
    "# column names for numerical data only.\n",
    "# The column nmaes can be used to index the columns of the\n",
    "# scaled data (in master_scaled_data.npy)\n",
    "\n",
    "df_columns_only = pd.read_parquet('../df_column_reference.parquet')\n"
   ]
  },
  {
   "cell_type": "code",
   "execution_count": 30,
   "metadata": {},
   "outputs": [
    {
     "data": {
      "text/plain": [
       "(78330, 116)"
      ]
     },
     "execution_count": 30,
     "metadata": {},
     "output_type": "execute_result"
    }
   ],
   "source": [
    "# This is a 2-D numpy array corresponding to the numerical data in 'df_master.parquet'\n",
    "# The data has been scaled using the StandardScaler in scikitlearn\n",
    "\n",
    "# Notes: \n",
    "#   - The row indices correspond to the `master_index` column of 'df_master.parquet'\n",
    "#   - The columns correspond to the columns in 'df_column_reference.parquet'.\n",
    "#     (e.g. can use `df.get_loc(column-name)` to get the column index)\n",
    "\n",
    "master_data_scaled = np.load('../master_scaled_data.npy')\n",
    "master_data_scaled.shape"
   ]
  },
  {
   "cell_type": "code",
   "execution_count": 31,
   "metadata": {},
   "outputs": [],
   "source": [
    "#master_data_scaled"
   ]
  },
  {
   "cell_type": "markdown",
   "metadata": {},
   "source": []
  },
  {
   "cell_type": "code",
   "execution_count": 32,
   "metadata": {},
   "outputs": [
    {
     "data": {
      "text/plain": [
       "array([[-0.0635103 ,  0.38663447,  0.49002807, ...,  1.72897319,\n",
       "         0.        ,  0.        ],\n",
       "       [-0.06273309,  0.38663447, -0.03722028, ..., -0.56821609,\n",
       "         0.        ,  0.        ],\n",
       "       [-0.06351026,  0.38663447,  0.48960471, ...,  1.56235606,\n",
       "         0.        ,  0.        ],\n",
       "       ...,\n",
       "       [-0.06311562,  0.38663447,  0.49007511, ..., -0.56821609,\n",
       "         0.        ,  0.        ],\n",
       "       [-0.06310348,  0.38663447,  0.49007511, ..., -0.56821609,\n",
       "         0.        ,  0.        ],\n",
       "       [-0.06312776,  0.38663447,  0.49007511, ..., -0.56821609,\n",
       "         0.        ,  0.        ]])"
      ]
     },
     "execution_count": 32,
     "metadata": {},
     "output_type": "execute_result"
    }
   ],
   "source": [
    "master_data_scaled"
   ]
  },
  {
   "cell_type": "markdown",
   "metadata": {},
   "source": [
    "# P100 to V100 Memory-bound Classifier"
   ]
  },
  {
   "cell_type": "code",
   "execution_count": 33,
   "metadata": {},
   "outputs": [],
   "source": [
    "from sklearn.model_selection import train_test_split\n",
    "\n",
    "df = df_joined.copy()  # Start with all of df_joined\n",
    "\n",
    "# Target index and values (values are NOT in master_data_scaled)\n",
    "target_index = df['master_index_V100'].values\n",
    "target = df['memory_bound_V100'].values\n",
    "\n",
    "# Training data index and values (values ARE in master_data_scaled)\n",
    "data_index = df['master_index_P100'].values\n",
    "data = master_data_scaled[ data_index ]\n",
    "\n",
    "# Need to drop 'dram_read_throughput' and 'dram_write_throughput'\n",
    "indices = []\n",
    "for i, col in enumerate(df_columns_only.columns):\n",
    "    if col not in ['dram_read_throughput', 'dram_write_throughput','dram_write_transactions','dram_read_transactions']:\n",
    "    #if col not in not_import:\n",
    "        indices.append(i)       \n",
    "data = data[:,indices]"
   ]
  },
  {
   "cell_type": "code",
   "execution_count": 34,
   "metadata": {},
   "outputs": [
    {
     "data": {
      "text/plain": [
       "3235"
      ]
     },
     "execution_count": 34,
     "metadata": {},
     "output_type": "execute_result"
    }
   ],
   "source": [
    "sum(target)"
   ]
  },
  {
   "cell_type": "code",
   "execution_count": 35,
   "metadata": {},
   "outputs": [
    {
     "data": {
      "text/html": [
       "<div>\n",
       "<style scoped>\n",
       "    .dataframe tbody tr th:only-of-type {\n",
       "        vertical-align: middle;\n",
       "    }\n",
       "\n",
       "    .dataframe tbody tr th {\n",
       "        vertical-align: top;\n",
       "    }\n",
       "\n",
       "    .dataframe thead th {\n",
       "        text-align: right;\n",
       "    }\n",
       "</style>\n",
       "<table border=\"1\" class=\"dataframe\">\n",
       "  <thead>\n",
       "    <tr style=\"text-align: right;\">\n",
       "      <th></th>\n",
       "      <th>master_index_V100</th>\n",
       "      <th>memory_bound_V100</th>\n",
       "      <th>master_index_P100</th>\n",
       "    </tr>\n",
       "    <tr>\n",
       "      <th>unique_index</th>\n",
       "      <th></th>\n",
       "      <th></th>\n",
       "      <th></th>\n",
       "    </tr>\n",
       "  </thead>\n",
       "  <tbody>\n",
       "    <tr>\n",
       "      <th>bpnn_adjust_weights_cuda_-100000_bpnn_adjust_weights_cuda</th>\n",
       "      <td>19996</td>\n",
       "      <td>0</td>\n",
       "      <td>0</td>\n",
       "    </tr>\n",
       "    <tr>\n",
       "      <th>bpnn_layerforward_CUDA_-100000_bpnn_layerforward_CUDA</th>\n",
       "      <td>19997</td>\n",
       "      <td>0</td>\n",
       "      <td>1</td>\n",
       "    </tr>\n",
       "    <tr>\n",
       "      <th>bpnn_adjust_weights_cuda_-10000_bpnn_adjust_weights_cuda</th>\n",
       "      <td>19998</td>\n",
       "      <td>0</td>\n",
       "      <td>2</td>\n",
       "    </tr>\n",
       "    <tr>\n",
       "      <th>bpnn_layerforward_CUDA_-10000_bpnn_layerforward_CUDA</th>\n",
       "      <td>19999</td>\n",
       "      <td>0</td>\n",
       "      <td>3</td>\n",
       "    </tr>\n",
       "    <tr>\n",
       "      <th>bpnn_adjust_weights_cuda_-100016_bpnn_adjust_weights_cuda</th>\n",
       "      <td>20000</td>\n",
       "      <td>0</td>\n",
       "      <td>4</td>\n",
       "    </tr>\n",
       "    <tr>\n",
       "      <th>...</th>\n",
       "      <td>...</td>\n",
       "      <td>...</td>\n",
       "      <td>...</td>\n",
       "    </tr>\n",
       "    <tr>\n",
       "      <th>STREAM_Add_N99968_STREAM_Add</th>\n",
       "      <td>78325</td>\n",
       "      <td>0</td>\n",
       "      <td>67320</td>\n",
       "    </tr>\n",
       "    <tr>\n",
       "      <th>STREAM_Copy_N99968_STREAM_Copy</th>\n",
       "      <td>78326</td>\n",
       "      <td>0</td>\n",
       "      <td>67321</td>\n",
       "    </tr>\n",
       "    <tr>\n",
       "      <th>STREAM_Scale_N99968_STREAM_Scale</th>\n",
       "      <td>78327</td>\n",
       "      <td>0</td>\n",
       "      <td>67322</td>\n",
       "    </tr>\n",
       "    <tr>\n",
       "      <th>STREAM_Triad_N99968_STREAM_Triad</th>\n",
       "      <td>78328</td>\n",
       "      <td>0</td>\n",
       "      <td>67323</td>\n",
       "    </tr>\n",
       "    <tr>\n",
       "      <th>set_array_N99968_set_array</th>\n",
       "      <td>78329</td>\n",
       "      <td>0</td>\n",
       "      <td>67324</td>\n",
       "    </tr>\n",
       "  </tbody>\n",
       "</table>\n",
       "<p>32291 rows × 3 columns</p>\n",
       "</div>"
      ],
      "text/plain": [
       "                                                    master_index_V100  \\\n",
       "unique_index                                                            \n",
       "bpnn_adjust_weights_cuda_-100000_bpnn_adjust_we...              19996   \n",
       "bpnn_layerforward_CUDA_-100000_bpnn_layerforwar...              19997   \n",
       "bpnn_adjust_weights_cuda_-10000_bpnn_adjust_wei...              19998   \n",
       "bpnn_layerforward_CUDA_-10000_bpnn_layerforward...              19999   \n",
       "bpnn_adjust_weights_cuda_-100016_bpnn_adjust_we...              20000   \n",
       "...                                                               ...   \n",
       "STREAM_Add_N99968_STREAM_Add                                    78325   \n",
       "STREAM_Copy_N99968_STREAM_Copy                                  78326   \n",
       "STREAM_Scale_N99968_STREAM_Scale                                78327   \n",
       "STREAM_Triad_N99968_STREAM_Triad                                78328   \n",
       "set_array_N99968_set_array                                      78329   \n",
       "\n",
       "                                                    memory_bound_V100  \\\n",
       "unique_index                                                            \n",
       "bpnn_adjust_weights_cuda_-100000_bpnn_adjust_we...                  0   \n",
       "bpnn_layerforward_CUDA_-100000_bpnn_layerforwar...                  0   \n",
       "bpnn_adjust_weights_cuda_-10000_bpnn_adjust_wei...                  0   \n",
       "bpnn_layerforward_CUDA_-10000_bpnn_layerforward...                  0   \n",
       "bpnn_adjust_weights_cuda_-100016_bpnn_adjust_we...                  0   \n",
       "...                                                               ...   \n",
       "STREAM_Add_N99968_STREAM_Add                                        0   \n",
       "STREAM_Copy_N99968_STREAM_Copy                                      0   \n",
       "STREAM_Scale_N99968_STREAM_Scale                                    0   \n",
       "STREAM_Triad_N99968_STREAM_Triad                                    0   \n",
       "set_array_N99968_set_array                                          0   \n",
       "\n",
       "                                                    master_index_P100  \n",
       "unique_index                                                           \n",
       "bpnn_adjust_weights_cuda_-100000_bpnn_adjust_we...                  0  \n",
       "bpnn_layerforward_CUDA_-100000_bpnn_layerforwar...                  1  \n",
       "bpnn_adjust_weights_cuda_-10000_bpnn_adjust_wei...                  2  \n",
       "bpnn_layerforward_CUDA_-10000_bpnn_layerforward...                  3  \n",
       "bpnn_adjust_weights_cuda_-100016_bpnn_adjust_we...                  4  \n",
       "...                                                               ...  \n",
       "STREAM_Add_N99968_STREAM_Add                                    67320  \n",
       "STREAM_Copy_N99968_STREAM_Copy                                  67321  \n",
       "STREAM_Scale_N99968_STREAM_Scale                                67322  \n",
       "STREAM_Triad_N99968_STREAM_Triad                                67323  \n",
       "set_array_N99968_set_array                                      67324  \n",
       "\n",
       "[32291 rows x 3 columns]"
      ]
     },
     "execution_count": 35,
     "metadata": {},
     "output_type": "execute_result"
    }
   ],
   "source": [
    "df[['master_index_V100', 'memory_bound_V100','master_index_P100']]"
   ]
  },
  {
   "cell_type": "code",
   "execution_count": 36,
   "metadata": {},
   "outputs": [],
   "source": [
    "# Split the data for training\n",
    "(\n",
    "    X_train, X_test,\n",
    "    y_train, y_test,\n",
    "    #data_index_train, data_index_test,\n",
    "    #target_index_train, target_index_test\n",
    ") = train_test_split(\n",
    "    data,\n",
    "    target,\n",
    "    #data_index,\n",
    "    #target_index,\n",
    "    random_state=42,\n",
    "    test_size=.33\n",
    ")"
   ]
  },
  {
   "cell_type": "markdown",
   "metadata": {},
   "source": [
    "## Classifier"
   ]
  },
  {
   "cell_type": "code",
   "execution_count": 37,
   "metadata": {},
   "outputs": [],
   "source": [
    "from sklearn.ensemble import RandomForestClassifier\n",
    "\n",
    "clf = RandomForestClassifier(n_jobs=2, n_estimators=1000)\n",
    "model = clf.fit(X_train, y_train)"
   ]
  },
  {
   "cell_type": "code",
   "execution_count": 38,
   "metadata": {},
   "outputs": [
    {
     "data": {
      "text/plain": [
       "(112,)"
      ]
     },
     "execution_count": 38,
     "metadata": {},
     "output_type": "execute_result"
    }
   ],
   "source": [
    "\n",
    "model.feature_importances_.shape\n",
    "#columns_feature = [c for c in df_columns_only.columns if c not in ['dram_read_throughput', 'dram_write_throughput','dram_write_transactions','dram_read_transactions']]\n",
    "#columns_feature = [c for c in df_columns_only.columns if c not in not_import]\n",
    "\n"
   ]
  },
  {
   "cell_type": "code",
   "execution_count": 39,
   "metadata": {},
   "outputs": [
    {
     "ename": "NameError",
     "evalue": "name 'columns_feature' is not defined",
     "output_type": "error",
     "traceback": [
      "\u001b[0;31m---------------------------------------------------------------------------\u001b[0m",
      "\u001b[0;31mNameError\u001b[0m                                 Traceback (most recent call last)",
      "\u001b[0;32m<ipython-input-39-e530184db6d2>\u001b[0m in \u001b[0;36m<module>\u001b[0;34m\u001b[0m\n\u001b[0;32m----> 1\u001b[0;31m import_feat = pd.DataFrame({'Variable':columns_feature,\n\u001b[0m\u001b[1;32m      2\u001b[0m              'Importance':model.feature_importances_}).sort_values(\"Importance\", ascending=False)\n",
      "\u001b[0;31mNameError\u001b[0m: name 'columns_feature' is not defined"
     ]
    }
   ],
   "source": [
    "import_feat = pd.DataFrame({'Variable':columns_feature,\n",
    "             'Importance':model.feature_importances_}).sort_values(\"Importance\", ascending=False)"
   ]
  },
  {
   "cell_type": "code",
   "execution_count": null,
   "metadata": {},
   "outputs": [],
   "source": [
    "import_feat.shape\n",
    "\n",
    "import_feat\n"
   ]
  },
  {
   "cell_type": "code",
   "execution_count": null,
   "metadata": {},
   "outputs": [],
   "source": [
    "not_import = []\n",
    "for x in import_feat.values:\n",
    "    if 0 in x or x[1] < .04:\n",
    "        not_import.append(x[0])\n",
    "len(not_import)\n",
    "#not_import "
   ]
  },
  {
   "cell_type": "code",
   "execution_count": null,
   "metadata": {},
   "outputs": [],
   "source": [
    "# Simple training-set accuracy calculation\n",
    "y_test_predict = clf.predict(X_test)\n",
    "\n",
    "correct = 0\n",
    "for p, t in zip(y_test_predict, y_test):\n",
    "    if p == t:\n",
    "        correct += 1\n",
    "accuracy = correct / len(y_test)\n",
    "accuracy"
   ]
  },
  {
   "cell_type": "code",
   "execution_count": null,
   "metadata": {},
   "outputs": [],
   "source": [
    "from sklearn.metrics import confusion_matrix\n",
    "\n",
    "cm = confusion_matrix(y_test, y_test_predict)\n",
    "cm = cm.astype('float')/cm.sum(axis=1)[:,np.newaxis]\n",
    "print(cm)"
   ]
  },
  {
   "cell_type": "code",
   "execution_count": null,
   "metadata": {},
   "outputs": [],
   "source": [
    "all_prediction = clf.predict(data)\n",
    "all_prediction.sum() / len(all_prediction)"
   ]
  },
  {
   "cell_type": "markdown",
   "metadata": {},
   "source": [
    "## Baseline Comparison"
   ]
  },
  {
   "cell_type": "code",
   "execution_count": null,
   "metadata": {},
   "outputs": [],
   "source": [
    "V100_throughput = (df_joined['dram_read_throughput_V100'] + df_joined['dram_write_throughput_V100']).values\n",
    "P100_throughput = (df_joined['dram_read_throughput_P100'] + df_joined['dram_write_throughput_P100']).values\n",
    "plt.plot(V100_throughput/1024/1024/1024, P100_throughput/1024/1024/1024,'.')\n",
    "plt.xlabel('P100 Throughput')\n",
    "plt.ylabel('V100 Throughput')\n",
    "errors = abs(V100_throughput - P100_throughput)/1024/1024/1024\n",
    "mean_error = round(np.mean(errors),2)\n",
    "print('Mean Absolute Error:', round(np.mean(errors),2))\n",
    "print(\"R2 Score\", r2_score(V100_throughput,P100_throughput))\n",
    "plt.title('Baseline Throughput - MAE: ' + str(mean_error))\n",
    "plt.savefig('Throughput_Prediction_Figures/predict_result.pdf')"
   ]
  },
  {
   "cell_type": "markdown",
   "metadata": {},
   "source": [
    "## Regression"
   ]
  },
  {
   "cell_type": "code",
   "execution_count": null,
   "metadata": {},
   "outputs": [],
   "source": [
    "\"\"\"for i, col in enumerate(df_joined.columns):\n",
    "    print(col)\"\"\""
   ]
  },
  {
   "cell_type": "code",
   "execution_count": 51,
   "metadata": {},
   "outputs": [],
   "source": [
    "df_target = (df_joined['dram_read_throughput_V100'] + df_joined['dram_write_throughput_V100']).values"
   ]
  },
  {
   "cell_type": "code",
   "execution_count": 52,
   "metadata": {},
   "outputs": [
    {
     "ename": "NameError",
     "evalue": "name 'not_import' is not defined",
     "output_type": "error",
     "traceback": [
      "\u001b[0;31m---------------------------------------------------------------------------\u001b[0m",
      "\u001b[0;31mNameError\u001b[0m                                 Traceback (most recent call last)",
      "\u001b[0;32m<ipython-input-52-73afcc5da32e>\u001b[0m in \u001b[0;36m<module>\u001b[0;34m\u001b[0m\n\u001b[0;32m----> 1\u001b[0;31m \u001b[0mnot_import\u001b[0m\u001b[0;34m.\u001b[0m\u001b[0mappend\u001b[0m\u001b[0;34m(\u001b[0m\u001b[0;34m'dram_write_transactions'\u001b[0m\u001b[0;34m)\u001b[0m\u001b[0;34m\u001b[0m\u001b[0;34m\u001b[0m\u001b[0m\n\u001b[0m\u001b[1;32m      2\u001b[0m \u001b[0mnot_import\u001b[0m\u001b[0;34m.\u001b[0m\u001b[0mappend\u001b[0m\u001b[0;34m(\u001b[0m\u001b[0;34m'dram_read_transactions'\u001b[0m\u001b[0;34m)\u001b[0m\u001b[0;34m\u001b[0m\u001b[0;34m\u001b[0m\u001b[0m\n\u001b[1;32m      3\u001b[0m \u001b[0mnot_import\u001b[0m\u001b[0;34m.\u001b[0m\u001b[0mappend\u001b[0m\u001b[0;34m(\u001b[0m\u001b[0;34m'dram_write_throughput'\u001b[0m\u001b[0;34m)\u001b[0m\u001b[0;34m\u001b[0m\u001b[0;34m\u001b[0m\u001b[0m\n\u001b[1;32m      4\u001b[0m \u001b[0mnot_import\u001b[0m\u001b[0;34m.\u001b[0m\u001b[0mappend\u001b[0m\u001b[0;34m(\u001b[0m\u001b[0;34m'dram_read_throughput'\u001b[0m\u001b[0;34m)\u001b[0m\u001b[0;34m\u001b[0m\u001b[0;34m\u001b[0m\u001b[0m\n\u001b[1;32m      5\u001b[0m \u001b[0;31m#not_import.append('l2_tex_write_transactions')\u001b[0m\u001b[0;34m\u001b[0m\u001b[0;34m\u001b[0m\u001b[0;34m\u001b[0m\u001b[0m\n",
      "\u001b[0;31mNameError\u001b[0m: name 'not_import' is not defined"
     ]
    }
   ],
   "source": [
    "not_import.append('dram_write_transactions')\n",
    "not_import.append('dram_read_transactions')\n",
    "not_import.append('dram_write_throughput')\n",
    "not_import.append('dram_read_throughput')\n",
    "#not_import.append('l2_tex_write_transactions')"
   ]
  },
  {
   "cell_type": "code",
   "execution_count": 53,
   "metadata": {},
   "outputs": [],
   "source": [
    "#not_import"
   ]
  },
  {
   "cell_type": "code",
   "execution_count": null,
   "metadata": {},
   "outputs": [],
   "source": [
    "from sklearn.model_selection import train_test_split\n",
    "\n",
    "df = df_joined.copy()  # Start with all of df_joined\n",
    "\n",
    "# Target index and values (values are NOT in master_data_scaled)\n",
    "#target_index = df['master_index_V100'].values\n",
    "target = df_target #df['memory_bound_V100'].values\n",
    "\n",
    "# Training data index and values (values ARE in master_data_scaled)\n",
    "data_index = df['master_index_P100'].values\n",
    "data = master_data_scaled[ data_index ]\n",
    "\n",
    "# Need to drop 'dram_read_throughput' and 'dram_write_throughput'\n",
    "indices = []\n",
    "for i, col in enumerate(df_columns_only.columns):\n",
    "    #if col not in ['dram_read_throughput', 'dram_write_throughput']:\n",
    "    if col not in not_import:\n",
    "        indices.append(i)\n",
    "        print(col)\n",
    "data = data[:,indices]"
   ]
  },
  {
   "cell_type": "code",
   "execution_count": null,
   "metadata": {},
   "outputs": [],
   "source": [
    "df_columns_only"
   ]
  },
  {
   "cell_type": "code",
   "execution_count": null,
   "metadata": {},
   "outputs": [],
   "source": [
    "num_features = data.shape[1]"
   ]
  },
  {
   "cell_type": "code",
   "execution_count": null,
   "metadata": {},
   "outputs": [],
   "source": [
    "#df_joined[['master_index_V100']].tail()"
   ]
  },
  {
   "cell_type": "code",
   "execution_count": null,
   "metadata": {},
   "outputs": [],
   "source": [
    "#df_joined[['master_index_P100']].head()"
   ]
  },
  {
   "cell_type": "code",
   "execution_count": null,
   "metadata": {},
   "outputs": [],
   "source": [
    "# Split the data for training\n",
    "(\n",
    "    X_train, X_test,\n",
    "    y_train, y_test,\n",
    "    #data_index_train, data_index_test,\n",
    "    #target_index_train, target_index_test\n",
    ") = train_test_split(\n",
    "    data,\n",
    "    target,\n",
    "    random_state=42,\n",
    "    test_size=.33\n",
    ")"
   ]
  },
  {
   "cell_type": "code",
   "execution_count": null,
   "metadata": {},
   "outputs": [],
   "source": []
  },
  {
   "cell_type": "code",
   "execution_count": null,
   "metadata": {},
   "outputs": [],
   "source": [
    "y_test_gb = y_test/1024/1024/1024"
   ]
  },
  {
   "cell_type": "code",
   "execution_count": 54,
   "metadata": {},
   "outputs": [],
   "source": [
    "from sklearn.ensemble import RandomForestRegressor\n",
    "\n",
    "clf = RandomForestRegressor(n_jobs=2, n_estimators=1000, max_depth=100)\n",
    "reg_model = clf.fit(X_train, y_train)"
   ]
  },
  {
   "cell_type": "code",
   "execution_count": 43,
   "metadata": {},
   "outputs": [
    {
     "name": "stdout",
     "output_type": "stream",
     "text": [
      "Mean Absolute Error: 0.0\n",
      "Mean absolute percentage error: 48598475851328.44\n"
     ]
    }
   ],
   "source": [
    "from sklearn.metrics import mean_absolute_percentage_error\n",
    "y_test_predict = clf.predict(X_test)\n",
    "errors = abs(y_test_predict - y_test)/1024/1024/1024\n",
    "mean_error = round(np.mean(errors),2)\n",
    "print('Mean Absolute Error:', round(np.mean(errors),2))\n",
    "print(\"Mean absolute percentage error:\",mean_absolute_percentage_error(y_test,y_test_predict))"
   ]
  },
  {
   "cell_type": "code",
   "execution_count": 48,
   "metadata": {},
   "outputs": [],
   "source": [
    "y_test_predict_gb = y_test_predict/1024/1024/1024\n",
    "y_test_gb = y_test/1024/1024/1024"
   ]
  },
  {
   "cell_type": "code",
   "execution_count": 49,
   "metadata": {},
   "outputs": [
    {
     "name": "stdout",
     "output_type": "stream",
     "text": [
      "R2 Score 0.6888438781991464\n",
      "Mean Squared error 1.5651857849994417e-10\n"
     ]
    }
   ],
   "source": [
    "print(\"R2 Score\", r2_score(y_test_gb,y_test_predict_gb))\n",
    "print(\"Mean Squared error\", mean_squared_error(y_test_gb,y_test_predict_gb, squared=False))"
   ]
  },
  {
   "cell_type": "code",
   "execution_count": 50,
   "metadata": {},
   "outputs": [
    {
     "name": "stdout",
     "output_type": "stream",
     "text": [
      "R2 Score 0.6888438781991464\n"
     ]
    },
    {
     "data": {
      "image/png": "[encoded data removed]",
      "text/plain": [
       "<Figure size 432x288 with 1 Axes>"
      ]
     },
     "metadata": {
      "needs_background": "light"
     },
     "output_type": "display_data"
    }
   ],
   "source": [
    "plt.plot(y_test_gb, y_test_predict_gb,'.')\n",
    "plt.xlabel('V100 Throughput')\n",
    "plt.ylabel('V100 Throughput Prediction')\n",
    "plt.title('4 Features - MAE: ' + str(mean_error))\n",
    "print(\"R2 Score\", r2_score(y_test_gb,y_test_predict_gb))\n",
    "#plt.savefig('Throughput_Prediction_Figures/predict_result.pdf')"
   ]
  },
  {
   "cell_type": "code",
   "execution_count": 34,
   "metadata": {},
   "outputs": [
    {
     "data": {
      "text/plain": [
       "'y_test = y_test/1024/1024/1024\\nfor n in y_train:\\n    if n != 0:\\n        print (n)'"
      ]
     },
     "execution_count": 34,
     "metadata": {},
     "output_type": "execute_result"
    }
   ],
   "source": [
    "\"\"\"y_test = y_test/1024/1024/1024\n",
    "for n in y_train:\n",
    "    if n != 0:\n",
    "        print (n)\"\"\""
   ]
  },
  {
   "cell_type": "markdown",
   "metadata": {},
   "source": [
    "## XGBOOST"
   ]
  },
  {
   "cell_type": "code",
   "execution_count": 115,
   "metadata": {},
   "outputs": [],
   "source": [
    "import xgboost as xgb"
   ]
  },
  {
   "cell_type": "code",
   "execution_count": 116,
   "metadata": {},
   "outputs": [],
   "source": [
    "(\n",
    "    X_train, X_test,\n",
    "    y_train, y_test,\n",
    "    #data_index_train, data_index_test,\n",
    "    #target_index_train, target_index_test\n",
    ") = train_test_split(\n",
    "    data,\n",
    "    target,\n",
    "    random_state=42,\n",
    "    test_size=.2\n",
    ")\n",
    "(\n",
    "    X_train, X_val,\n",
    "    y_train, y_val,\n",
    "    #data_index_train, data_index_test,\n",
    "    #target_index_train, target_index_test\n",
    ") = train_test_split(\n",
    "    X_train,\n",
    "    y_train,\n",
    "    random_state=42,\n",
    "    test_size=.25\n",
    ")"
   ]
  },
  {
   "cell_type": "code",
   "execution_count": 117,
   "metadata": {},
   "outputs": [
    {
     "name": "stdout",
     "output_type": "stream",
     "text": [
      "[0]\tvalidation_0-rmse:404770848768.00000\tvalidation_0-mae:296082210816.00000\tvalidation_1-rmse:404292108288.00000\tvalidation_1-mae:295602126848.00000\n",
      "[1]\tvalidation_0-rmse:364561203200.00000\tvalidation_0-mae:266630316032.00000\tvalidation_1-rmse:364200951808.00000\tvalidation_1-mae:266272964608.00000\n",
      "[2]\tvalidation_0-rmse:328359313408.00000\tvalidation_0-mae:240089645056.00000\tvalidation_1-rmse:328098873344.00000\tvalidation_1-mae:239838806016.00000\n",
      "[3]\tvalidation_0-rmse:295807713280.00000\tvalidation_0-mae:216213897216.00000\tvalidation_1-rmse:295636893696.00000\tvalidation_1-mae:216063672320.00000\n",
      "[4]\tvalidation_0-rmse:266504044544.00000\tvalidation_0-mae:194736062464.00000\tvalidation_1-rmse:266455416832.00000\tvalidation_1-mae:194708750336.00000\n",
      "[5]\tvalidation_0-rmse:240146661376.00000\tvalidation_0-mae:175392522240.00000\tvalidation_1-rmse:240233398272.00000\tvalidation_1-mae:175504769024.00000\n",
      "[6]\tvalidation_0-rmse:216433115136.00000\tvalidation_0-mae:157980606464.00000\tvalidation_1-rmse:216651956224.00000\tvalidation_1-mae:158195499008.00000\n",
      "[7]\tvalidation_0-rmse:195123806208.00000\tvalidation_0-mae:142329315328.00000\tvalidation_1-rmse:195461365760.00000\tvalidation_1-mae:142631157760.00000\n",
      "[8]\tvalidation_0-rmse:175964815360.00000\tvalidation_0-mae:128246013952.00000\tvalidation_1-rmse:176441425920.00000\tvalidation_1-mae:128631341056.00000\n",
      "[9]\tvalidation_0-rmse:158737039360.00000\tvalidation_0-mae:115578527744.00000\tvalidation_1-rmse:159370674176.00000\tvalidation_1-mae:116079255552.00000\n",
      "[10]\tvalidation_0-rmse:143272640512.00000\tvalidation_0-mae:104171610112.00000\tvalidation_1-rmse:144064872448.00000\tvalidation_1-mae:104775606272.00000\n",
      "[11]\tvalidation_0-rmse:129343954944.00000\tvalidation_0-mae:93907099648.00000\tvalidation_1-rmse:130324881408.00000\tvalidation_1-mae:94631272448.00000\n",
      "[12]\tvalidation_0-rmse:116840210432.00000\tvalidation_0-mae:84678877184.00000\tvalidation_1-rmse:118007406592.00000\tvalidation_1-mae:85524463616.00000\n",
      "[13]\tvalidation_0-rmse:105612894208.00000\tvalidation_0-mae:76389253120.00000\tvalidation_1-rmse:107020861440.00000\tvalidation_1-mae:77375782912.00000\n",
      "[14]\tvalidation_0-rmse:95532883968.00000\tvalidation_0-mae:68939005952.00000\tvalidation_1-rmse:97206124544.00000\tvalidation_1-mae:70081478656.00000\n",
      "[15]\tvalidation_0-rmse:86484213760.00000\tvalidation_0-mae:62243213312.00000\tvalidation_1-rmse:88442773504.00000\tvalidation_1-mae:63550672896.00000\n",
      "[16]\tvalidation_0-rmse:78398406656.00000\tvalidation_0-mae:56264085504.00000\tvalidation_1-rmse:80694640640.00000\tvalidation_1-mae:57767174144.00000\n",
      "[17]\tvalidation_0-rmse:71163101184.00000\tvalidation_0-mae:50882072576.00000\tvalidation_1-rmse:73805889536.00000\tvalidation_1-mae:52575805440.00000\n",
      "[18]\tvalidation_0-rmse:64656379904.00000\tvalidation_0-mae:46047166464.00000\tvalidation_1-rmse:67733590016.00000\tvalidation_1-mae:47983128576.00000\n",
      "[19]\tvalidation_0-rmse:58829574144.00000\tvalidation_0-mae:41691754496.00000\tvalidation_1-rmse:62325387264.00000\tvalidation_1-mae:43826139136.00000\n",
      "[20]\tvalidation_0-rmse:53621784576.00000\tvalidation_0-mae:37799542784.00000\tvalidation_1-rmse:57611304960.00000\tvalidation_1-mae:40147398656.00000\n",
      "[21]\tvalidation_0-rmse:48981278720.00000\tvalidation_0-mae:34330750976.00000\tvalidation_1-rmse:53529038848.00000\tvalidation_1-mae:36917506048.00000\n",
      "[22]\tvalidation_0-rmse:44844134400.00000\tvalidation_0-mae:31221401600.00000\tvalidation_1-rmse:49940369408.00000\tvalidation_1-mae:34028066816.00000\n",
      "[23]\tvalidation_0-rmse:41161998336.00000\tvalidation_0-mae:28469276672.00000\tvalidation_1-rmse:46842118144.00000\tvalidation_1-mae:31486085120.00000\n",
      "[24]\tvalidation_0-rmse:37836341248.00000\tvalidation_0-mae:26002163712.00000\tvalidation_1-rmse:44172541952.00000\tvalidation_1-mae:29289986048.00000\n",
      "[25]\tvalidation_0-rmse:34851684352.00000\tvalidation_0-mae:23811575808.00000\tvalidation_1-rmse:41930264576.00000\tvalidation_1-mae:27352059904.00000\n",
      "[26]\tvalidation_0-rmse:32215394304.00000\tvalidation_0-mae:21844822016.00000\tvalidation_1-rmse:40040775680.00000\tvalidation_1-mae:25647433728.00000\n",
      "[27]\tvalidation_0-rmse:29817628672.00000\tvalidation_0-mae:20046891008.00000\tvalidation_1-rmse:38437122048.00000\tvalidation_1-mae:24139810816.00000\n",
      "[28]\tvalidation_0-rmse:27683258368.00000\tvalidation_0-mae:18438187008.00000\tvalidation_1-rmse:37077884928.00000\tvalidation_1-mae:22783414272.00000\n",
      "[29]\tvalidation_0-rmse:25746677760.00000\tvalidation_0-mae:16971218944.00000\tvalidation_1-rmse:36012081152.00000\tvalidation_1-mae:21608132608.00000\n",
      "[30]\tvalidation_0-rmse:24059172864.00000\tvalidation_0-mae:15662050304.00000\tvalidation_1-rmse:35113852928.00000\tvalidation_1-mae:20544065536.00000\n",
      "[31]\tvalidation_0-rmse:22490867712.00000\tvalidation_0-mae:14463371264.00000\tvalidation_1-rmse:34347208704.00000\tvalidation_1-mae:19600216064.00000\n",
      "[32]\tvalidation_0-rmse:21091805184.00000\tvalidation_0-mae:13391388672.00000\tvalidation_1-rmse:33732458496.00000\tvalidation_1-mae:18776920064.00000\n",
      "[33]\tvalidation_0-rmse:19847196672.00000\tvalidation_0-mae:12429666304.00000\tvalidation_1-rmse:33224347648.00000\tvalidation_1-mae:18042587136.00000\n",
      "[34]\tvalidation_0-rmse:18685425664.00000\tvalidation_0-mae:11537619968.00000\tvalidation_1-rmse:32848979968.00000\tvalidation_1-mae:17407852544.00000\n",
      "[35]\tvalidation_0-rmse:17648842752.00000\tvalidation_0-mae:10741817344.00000\tvalidation_1-rmse:32606781440.00000\tvalidation_1-mae:16873211904.00000\n",
      "[36]\tvalidation_0-rmse:16742088704.00000\tvalidation_0-mae:10046518272.00000\tvalidation_1-rmse:32367874048.00000\tvalidation_1-mae:16389442560.00000\n",
      "[37]\tvalidation_0-rmse:15893068800.00000\tvalidation_0-mae:9407835136.00000\tvalidation_1-rmse:32198856704.00000\tvalidation_1-mae:15975955456.00000\n",
      "[38]\tvalidation_0-rmse:15150466048.00000\tvalidation_0-mae:8863139840.00000\tvalidation_1-rmse:32072022016.00000\tvalidation_1-mae:15626273792.00000\n",
      "[39]\tvalidation_0-rmse:14465878016.00000\tvalidation_0-mae:8360461312.00000\tvalidation_1-rmse:31989637120.00000\tvalidation_1-mae:15336146944.00000\n",
      "[40]\tvalidation_0-rmse:13808244736.00000\tvalidation_0-mae:7886310400.00000\tvalidation_1-rmse:31968718848.00000\tvalidation_1-mae:15109426176.00000\n",
      "[41]\tvalidation_0-rmse:13238956032.00000\tvalidation_0-mae:7479032320.00000\tvalidation_1-rmse:31942469632.00000\tvalidation_1-mae:14917509120.00000\n",
      "[42]\tvalidation_0-rmse:12676861952.00000\tvalidation_0-mae:7088881152.00000\tvalidation_1-rmse:31958153216.00000\tvalidation_1-mae:14769017856.00000\n",
      "[43]\tvalidation_0-rmse:12153464832.00000\tvalidation_0-mae:6734028800.00000\tvalidation_1-rmse:31976851456.00000\tvalidation_1-mae:14651120640.00000\n",
      "[44]\tvalidation_0-rmse:11679795200.00000\tvalidation_0-mae:6422272512.00000\tvalidation_1-rmse:31986651136.00000\tvalidation_1-mae:14547513344.00000\n",
      "[45]\tvalidation_0-rmse:11241373696.00000\tvalidation_0-mae:6134837760.00000\tvalidation_1-rmse:32038182912.00000\tvalidation_1-mae:14470818816.00000\n",
      "[46]\tvalidation_0-rmse:10836698112.00000\tvalidation_0-mae:5883108864.00000\tvalidation_1-rmse:32103520256.00000\tvalidation_1-mae:14423319552.00000\n",
      "[47]\tvalidation_0-rmse:10413755392.00000\tvalidation_0-mae:5617608192.00000\tvalidation_1-rmse:32162164736.00000\tvalidation_1-mae:14391010304.00000\n",
      "[48]\tvalidation_0-rmse:10057886720.00000\tvalidation_0-mae:5395660288.00000\tvalidation_1-rmse:32235792384.00000\tvalidation_1-mae:14371140608.00000\n",
      "[49]\tvalidation_0-rmse:9697881088.00000\tvalidation_0-mae:5172152832.00000\tvalidation_1-rmse:32283250688.00000\tvalidation_1-mae:14359026688.00000\n",
      "[50]\tvalidation_0-rmse:9335347200.00000\tvalidation_0-mae:4957091328.00000\tvalidation_1-rmse:32337500160.00000\tvalidation_1-mae:14348867584.00000\n",
      "[51]\tvalidation_0-rmse:9006298112.00000\tvalidation_0-mae:4755531264.00000\tvalidation_1-rmse:32416184320.00000\tvalidation_1-mae:14351218688.00000\n",
      "[52]\tvalidation_0-rmse:8711836672.00000\tvalidation_0-mae:4580445184.00000\tvalidation_1-rmse:32497801216.00000\tvalidation_1-mae:14353468416.00000\n",
      "[53]\tvalidation_0-rmse:8408138752.00000\tvalidation_0-mae:4401936896.00000\tvalidation_1-rmse:32569620480.00000\tvalidation_1-mae:14357738496.00000\n",
      "[54]\tvalidation_0-rmse:8118582272.00000\tvalidation_0-mae:4228584192.00000\tvalidation_1-rmse:32659668992.00000\tvalidation_1-mae:14377704448.00000\n",
      "[55]\tvalidation_0-rmse:7857299456.00000\tvalidation_0-mae:4076694016.00000\tvalidation_1-rmse:32728178688.00000\tvalidation_1-mae:14389561344.00000\n",
      "[56]\tvalidation_0-rmse:7599082496.00000\tvalidation_0-mae:3926822144.00000\tvalidation_1-rmse:32801914880.00000\tvalidation_1-mae:14405081088.00000\n",
      "[57]\tvalidation_0-rmse:7356601856.00000\tvalidation_0-mae:3786763520.00000\tvalidation_1-rmse:32874141696.00000\tvalidation_1-mae:14431742976.00000\n",
      "[58]\tvalidation_0-rmse:7118250496.00000\tvalidation_0-mae:3651650048.00000\tvalidation_1-rmse:32938969088.00000\tvalidation_1-mae:14445358080.00000\n",
      "[59]\tvalidation_0-rmse:6884491264.00000\tvalidation_0-mae:3520445952.00000\tvalidation_1-rmse:33011138560.00000\tvalidation_1-mae:14466429952.00000\n",
      "[60]\tvalidation_0-rmse:6671238144.00000\tvalidation_0-mae:3397286144.00000\tvalidation_1-rmse:33069467648.00000\tvalidation_1-mae:14486817792.00000\n",
      "[61]\tvalidation_0-rmse:6473809920.00000\tvalidation_0-mae:3282346752.00000\tvalidation_1-rmse:33145620480.00000\tvalidation_1-mae:14514468864.00000\n",
      "[62]\tvalidation_0-rmse:6288559616.00000\tvalidation_0-mae:3177491456.00000\tvalidation_1-rmse:33194911744.00000\tvalidation_1-mae:14536087552.00000\n",
      "[63]\tvalidation_0-rmse:6104695296.00000\tvalidation_0-mae:3070886144.00000\tvalidation_1-rmse:33244467200.00000\tvalidation_1-mae:14557447168.00000\n",
      "[64]\tvalidation_0-rmse:5911361024.00000\tvalidation_0-mae:2968840192.00000\tvalidation_1-rmse:33307426816.00000\tvalidation_1-mae:14581518336.00000\n",
      "[65]\tvalidation_0-rmse:5734810624.00000\tvalidation_0-mae:2874513920.00000\tvalidation_1-rmse:33379487744.00000\tvalidation_1-mae:14612147200.00000\n",
      "[66]\tvalidation_0-rmse:5562676224.00000\tvalidation_0-mae:2782476800.00000\tvalidation_1-rmse:33432475648.00000\tvalidation_1-mae:14635111424.00000\n",
      "[67]\tvalidation_0-rmse:5404017152.00000\tvalidation_0-mae:2696583936.00000\tvalidation_1-rmse:33469097984.00000\tvalidation_1-mae:14657333248.00000\n",
      "[68]\tvalidation_0-rmse:5238489600.00000\tvalidation_0-mae:2609289216.00000\tvalidation_1-rmse:33527162880.00000\tvalidation_1-mae:14684924928.00000\n",
      "[69]\tvalidation_0-rmse:5083954176.00000\tvalidation_0-mae:2527010304.00000\tvalidation_1-rmse:33577609216.00000\tvalidation_1-mae:14708063232.00000\n",
      "[70]\tvalidation_0-rmse:4938670080.00000\tvalidation_0-mae:2451424768.00000\tvalidation_1-rmse:33621915648.00000\tvalidation_1-mae:14726834176.00000\n",
      "[71]\tvalidation_0-rmse:4787896320.00000\tvalidation_0-mae:2374016000.00000\tvalidation_1-rmse:33680222208.00000\tvalidation_1-mae:14752030720.00000\n",
      "[72]\tvalidation_0-rmse:4650537984.00000\tvalidation_0-mae:2300226560.00000\tvalidation_1-rmse:33733220352.00000\tvalidation_1-mae:14775471104.00000\n",
      "[73]\tvalidation_0-rmse:4518534144.00000\tvalidation_0-mae:2230947840.00000\tvalidation_1-rmse:33785829376.00000\tvalidation_1-mae:14799932416.00000\n",
      "[74]\tvalidation_0-rmse:4392127488.00000\tvalidation_0-mae:2164453632.00000\tvalidation_1-rmse:33821747200.00000\tvalidation_1-mae:14818224128.00000\n",
      "[75]\tvalidation_0-rmse:4266303744.00000\tvalidation_0-mae:2100708864.00000\tvalidation_1-rmse:33861218304.00000\tvalidation_1-mae:14840324096.00000\n",
      "[76]\tvalidation_0-rmse:4141440768.00000\tvalidation_0-mae:2036108672.00000\tvalidation_1-rmse:33898582016.00000\tvalidation_1-mae:14861018112.00000\n",
      "[77]\tvalidation_0-rmse:4023238144.00000\tvalidation_0-mae:1975620352.00000\tvalidation_1-rmse:33934577664.00000\tvalidation_1-mae:14879524864.00000\n",
      "[78]\tvalidation_0-rmse:3906149632.00000\tvalidation_0-mae:1914742784.00000\tvalidation_1-rmse:33963743232.00000\tvalidation_1-mae:14893187072.00000\n",
      "[79]\tvalidation_0-rmse:3788046336.00000\tvalidation_0-mae:1855742208.00000\tvalidation_1-rmse:33990268928.00000\tvalidation_1-mae:14906101760.00000\n",
      "[80]\tvalidation_0-rmse:3679854080.00000\tvalidation_0-mae:1803045632.00000\tvalidation_1-rmse:34028353536.00000\tvalidation_1-mae:14926235648.00000\n",
      "[81]\tvalidation_0-rmse:3580357888.00000\tvalidation_0-mae:1751833216.00000\tvalidation_1-rmse:34060212224.00000\tvalidation_1-mae:14945569792.00000\n",
      "[82]\tvalidation_0-rmse:3488065280.00000\tvalidation_0-mae:1703273600.00000\tvalidation_1-rmse:34094092288.00000\tvalidation_1-mae:14962715648.00000\n",
      "[83]\tvalidation_0-rmse:3391291648.00000\tvalidation_0-mae:1654449408.00000\tvalidation_1-rmse:34125281280.00000\tvalidation_1-mae:14979350528.00000\n",
      "[84]\tvalidation_0-rmse:3301044224.00000\tvalidation_0-mae:1607922944.00000\tvalidation_1-rmse:34153523200.00000\tvalidation_1-mae:14993640448.00000\n",
      "[85]\tvalidation_0-rmse:3216171520.00000\tvalidation_0-mae:1563856128.00000\tvalidation_1-rmse:34183428096.00000\tvalidation_1-mae:15007071232.00000\n",
      "[86]\tvalidation_0-rmse:3131334400.00000\tvalidation_0-mae:1520439808.00000\tvalidation_1-rmse:34210078720.00000\tvalidation_1-mae:15022750720.00000\n",
      "[87]\tvalidation_0-rmse:3046970368.00000\tvalidation_0-mae:1478310400.00000\tvalidation_1-rmse:34236774400.00000\tvalidation_1-mae:15036891136.00000\n",
      "[88]\tvalidation_0-rmse:2967906048.00000\tvalidation_0-mae:1436096256.00000\tvalidation_1-rmse:34261921792.00000\tvalidation_1-mae:15050416128.00000\n",
      "[89]\tvalidation_0-rmse:2894011904.00000\tvalidation_0-mae:1398313344.00000\tvalidation_1-rmse:34279370752.00000\tvalidation_1-mae:15061346304.00000\n",
      "[90]\tvalidation_0-rmse:2815627008.00000\tvalidation_0-mae:1360650752.00000\tvalidation_1-rmse:34309885952.00000\tvalidation_1-mae:15075837952.00000\n",
      "[91]\tvalidation_0-rmse:2741342976.00000\tvalidation_0-mae:1322430080.00000\tvalidation_1-rmse:34328911872.00000\tvalidation_1-mae:15086572544.00000\n",
      "[92]\tvalidation_0-rmse:2671761152.00000\tvalidation_0-mae:1287421824.00000\tvalidation_1-rmse:34354403328.00000\tvalidation_1-mae:15099254784.00000\n",
      "[93]\tvalidation_0-rmse:2599041792.00000\tvalidation_0-mae:1252429184.00000\tvalidation_1-rmse:34379603968.00000\tvalidation_1-mae:15111537664.00000\n",
      "[94]\tvalidation_0-rmse:2530070528.00000\tvalidation_0-mae:1218317952.00000\tvalidation_1-rmse:34402144256.00000\tvalidation_1-mae:15122279424.00000\n",
      "[95]\tvalidation_0-rmse:2466266624.00000\tvalidation_0-mae:1185646592.00000\tvalidation_1-rmse:34419658752.00000\tvalidation_1-mae:15134048256.00000\n",
      "[96]\tvalidation_0-rmse:2400850944.00000\tvalidation_0-mae:1152978816.00000\tvalidation_1-rmse:34440937472.00000\tvalidation_1-mae:15143600128.00000\n",
      "[97]\tvalidation_0-rmse:2335046144.00000\tvalidation_0-mae:1121850240.00000\tvalidation_1-rmse:34460880896.00000\tvalidation_1-mae:15153475584.00000\n",
      "[98]\tvalidation_0-rmse:2277598976.00000\tvalidation_0-mae:1092631552.00000\tvalidation_1-rmse:34478510080.00000\tvalidation_1-mae:15163103232.00000\n",
      "[99]\tvalidation_0-rmse:2213198080.00000\tvalidation_0-mae:1062577664.00000\tvalidation_1-rmse:34498760704.00000\tvalidation_1-mae:15172635648.00000\n",
      "[100]\tvalidation_0-rmse:2152790272.00000\tvalidation_0-mae:1032986048.00000\tvalidation_1-rmse:34513821696.00000\tvalidation_1-mae:15180913664.00000\n",
      "[101]\tvalidation_0-rmse:2099378560.00000\tvalidation_0-mae:1005288704.00000\tvalidation_1-rmse:34529488896.00000\tvalidation_1-mae:15188718592.00000\n",
      "[102]\tvalidation_0-rmse:2044908544.00000\tvalidation_0-mae:978601088.00000\tvalidation_1-rmse:34553106432.00000\tvalidation_1-mae:15198581760.00000\n",
      "[103]\tvalidation_0-rmse:1989631104.00000\tvalidation_0-mae:951464768.00000\tvalidation_1-rmse:34567098368.00000\tvalidation_1-mae:15206275072.00000\n",
      "[104]\tvalidation_0-rmse:1937397504.00000\tvalidation_0-mae:925673024.00000\tvalidation_1-rmse:34581659648.00000\tvalidation_1-mae:15213607936.00000\n",
      "[105]\tvalidation_0-rmse:1884251392.00000\tvalidation_0-mae:900897856.00000\tvalidation_1-rmse:34600173568.00000\tvalidation_1-mae:15221952512.00000\n",
      "[106]\tvalidation_0-rmse:1839735040.00000\tvalidation_0-mae:877295744.00000\tvalidation_1-rmse:34616909824.00000\tvalidation_1-mae:15230105600.00000\n",
      "[107]\tvalidation_0-rmse:1794136960.00000\tvalidation_0-mae:854756096.00000\tvalidation_1-rmse:34636029952.00000\tvalidation_1-mae:15239521280.00000\n",
      "[108]\tvalidation_0-rmse:1749955712.00000\tvalidation_0-mae:832162624.00000\tvalidation_1-rmse:34649718784.00000\tvalidation_1-mae:15248186368.00000\n",
      "[109]\tvalidation_0-rmse:1708700672.00000\tvalidation_0-mae:811640640.00000\tvalidation_1-rmse:34665549824.00000\tvalidation_1-mae:15256784896.00000\n",
      "[110]\tvalidation_0-rmse:1665328000.00000\tvalidation_0-mae:790456448.00000\tvalidation_1-rmse:34677706752.00000\tvalidation_1-mae:15263022080.00000\n",
      "[111]\tvalidation_0-rmse:1625564672.00000\tvalidation_0-mae:770820672.00000\tvalidation_1-rmse:34689331200.00000\tvalidation_1-mae:15268153344.00000\n",
      "[112]\tvalidation_0-rmse:1585451520.00000\tvalidation_0-mae:750401472.00000\tvalidation_1-rmse:34704318464.00000\tvalidation_1-mae:15275641856.00000\n",
      "[113]\tvalidation_0-rmse:1541834496.00000\tvalidation_0-mae:729873536.00000\tvalidation_1-rmse:34719870976.00000\tvalidation_1-mae:15283116032.00000\n",
      "[114]\tvalidation_0-rmse:1509559424.00000\tvalidation_0-mae:713489600.00000\tvalidation_1-rmse:34732007424.00000\tvalidation_1-mae:15289591808.00000\n",
      "[115]\tvalidation_0-rmse:1474730624.00000\tvalidation_0-mae:694716160.00000\tvalidation_1-rmse:34743869440.00000\tvalidation_1-mae:15295597568.00000\n",
      "[116]\tvalidation_0-rmse:1442532864.00000\tvalidation_0-mae:678811584.00000\tvalidation_1-rmse:34756255744.00000\tvalidation_1-mae:15301255168.00000\n",
      "[117]\tvalidation_0-rmse:1407102592.00000\tvalidation_0-mae:660832640.00000\tvalidation_1-rmse:34768580608.00000\tvalidation_1-mae:15307464704.00000\n",
      "[118]\tvalidation_0-rmse:1375073408.00000\tvalidation_0-mae:643409408.00000\tvalidation_1-rmse:34777100288.00000\tvalidation_1-mae:15311991808.00000\n",
      "[119]\tvalidation_0-rmse:1343798656.00000\tvalidation_0-mae:627345536.00000\tvalidation_1-rmse:34788999168.00000\tvalidation_1-mae:15317316608.00000\n",
      "[120]\tvalidation_0-rmse:1311363968.00000\tvalidation_0-mae:610673024.00000\tvalidation_1-rmse:34797752320.00000\tvalidation_1-mae:15321744384.00000\n",
      "[121]\tvalidation_0-rmse:1281205376.00000\tvalidation_0-mae:595504192.00000\tvalidation_1-rmse:34807894016.00000\tvalidation_1-mae:15326963712.00000\n",
      "[122]\tvalidation_0-rmse:1253283200.00000\tvalidation_0-mae:581693184.00000\tvalidation_1-rmse:34816446464.00000\tvalidation_1-mae:15331457024.00000\n",
      "[123]\tvalidation_0-rmse:1226065536.00000\tvalidation_0-mae:567558528.00000\tvalidation_1-rmse:34823827456.00000\tvalidation_1-mae:15335650304.00000\n",
      "[124]\tvalidation_0-rmse:1199962752.00000\tvalidation_0-mae:553908864.00000\tvalidation_1-rmse:34830065664.00000\tvalidation_1-mae:15339557888.00000\n",
      "[125]\tvalidation_0-rmse:1173288192.00000\tvalidation_0-mae:540553984.00000\tvalidation_1-rmse:34840989696.00000\tvalidation_1-mae:15344582656.00000\n",
      "[126]\tvalidation_0-rmse:1146333696.00000\tvalidation_0-mae:527514880.00000\tvalidation_1-rmse:34847133696.00000\tvalidation_1-mae:15348509696.00000\n",
      "[127]\tvalidation_0-rmse:1121691136.00000\tvalidation_0-mae:514880032.00000\tvalidation_1-rmse:34855165952.00000\tvalidation_1-mae:15352177664.00000\n",
      "[128]\tvalidation_0-rmse:1097689216.00000\tvalidation_0-mae:502296896.00000\tvalidation_1-rmse:34862735360.00000\tvalidation_1-mae:15356487680.00000\n",
      "[129]\tvalidation_0-rmse:1075724544.00000\tvalidation_0-mae:489863648.00000\tvalidation_1-rmse:34871263232.00000\tvalidation_1-mae:15360836608.00000\n",
      "[130]\tvalidation_0-rmse:1054383744.00000\tvalidation_0-mae:478144160.00000\tvalidation_1-rmse:34880061440.00000\tvalidation_1-mae:15364743168.00000\n",
      "[131]\tvalidation_0-rmse:1032714624.00000\tvalidation_0-mae:466751072.00000\tvalidation_1-rmse:34886180864.00000\tvalidation_1-mae:15367692288.00000\n",
      "[132]\tvalidation_0-rmse:1012901952.00000\tvalidation_0-mae:455760512.00000\tvalidation_1-rmse:34891841536.00000\tvalidation_1-mae:15370895360.00000\n",
      "[133]\tvalidation_0-rmse:990292032.00000\tvalidation_0-mae:444402240.00000\tvalidation_1-rmse:34899484672.00000\tvalidation_1-mae:15374867456.00000\n",
      "[134]\tvalidation_0-rmse:969031872.00000\tvalidation_0-mae:432902432.00000\tvalidation_1-rmse:34906353664.00000\tvalidation_1-mae:15378889728.00000\n",
      "[135]\tvalidation_0-rmse:949733056.00000\tvalidation_0-mae:422267776.00000\tvalidation_1-rmse:34910842880.00000\tvalidation_1-mae:15382011904.00000\n",
      "[136]\tvalidation_0-rmse:930546752.00000\tvalidation_0-mae:412408384.00000\tvalidation_1-rmse:34917548032.00000\tvalidation_1-mae:15385334784.00000\n",
      "[137]\tvalidation_0-rmse:914283328.00000\tvalidation_0-mae:402801280.00000\tvalidation_1-rmse:34922684416.00000\tvalidation_1-mae:15388301312.00000\n",
      "[138]\tvalidation_0-rmse:897065088.00000\tvalidation_0-mae:393266304.00000\tvalidation_1-rmse:34928963584.00000\tvalidation_1-mae:15391524864.00000\n",
      "[139]\tvalidation_0-rmse:880423616.00000\tvalidation_0-mae:383853376.00000\tvalidation_1-rmse:34934677504.00000\tvalidation_1-mae:15394412544.00000\n",
      "[140]\tvalidation_0-rmse:863625344.00000\tvalidation_0-mae:374710496.00000\tvalidation_1-rmse:34940555264.00000\tvalidation_1-mae:15397725184.00000\n",
      "[141]\tvalidation_0-rmse:850173312.00000\tvalidation_0-mae:366495008.00000\tvalidation_1-rmse:34945875968.00000\tvalidation_1-mae:15400567808.00000\n",
      "[142]\tvalidation_0-rmse:835308736.00000\tvalidation_0-mae:358196320.00000\tvalidation_1-rmse:34952380416.00000\tvalidation_1-mae:15404000256.00000\n",
      "[143]\tvalidation_0-rmse:821084672.00000\tvalidation_0-mae:349481056.00000\tvalidation_1-rmse:34955247616.00000\tvalidation_1-mae:15405725696.00000\n",
      "[144]\tvalidation_0-rmse:808295488.00000\tvalidation_0-mae:342124704.00000\tvalidation_1-rmse:34960117760.00000\tvalidation_1-mae:15408602112.00000\n",
      "[145]\tvalidation_0-rmse:794508608.00000\tvalidation_0-mae:334008256.00000\tvalidation_1-rmse:34964418560.00000\tvalidation_1-mae:15410891776.00000\n",
      "[146]\tvalidation_0-rmse:782024256.00000\tvalidation_0-mae:326498176.00000\tvalidation_1-rmse:34969903104.00000\tvalidation_1-mae:15412979712.00000\n",
      "[147]\tvalidation_0-rmse:770160576.00000\tvalidation_0-mae:319263648.00000\tvalidation_1-rmse:34973745152.00000\tvalidation_1-mae:15414831104.00000\n",
      "[148]\tvalidation_0-rmse:758700480.00000\tvalidation_0-mae:311862624.00000\tvalidation_1-rmse:34977705984.00000\tvalidation_1-mae:15416790016.00000\n",
      "[149]\tvalidation_0-rmse:746822016.00000\tvalidation_0-mae:304700000.00000\tvalidation_1-rmse:34982076416.00000\tvalidation_1-mae:15419075584.00000\n",
      "[150]\tvalidation_0-rmse:735551936.00000\tvalidation_0-mae:297902688.00000\tvalidation_1-rmse:34985324544.00000\tvalidation_1-mae:15420706816.00000\n",
      "[151]\tvalidation_0-rmse:723907776.00000\tvalidation_0-mae:291457120.00000\tvalidation_1-rmse:34989694976.00000\tvalidation_1-mae:15423048704.00000\n",
      "[152]\tvalidation_0-rmse:712639872.00000\tvalidation_0-mae:284709792.00000\tvalidation_1-rmse:34994221056.00000\tvalidation_1-mae:15425083392.00000\n",
      "[153]\tvalidation_0-rmse:702261888.00000\tvalidation_0-mae:278494656.00000\tvalidation_1-rmse:34998788096.00000\tvalidation_1-mae:15427165184.00000\n",
      "[154]\tvalidation_0-rmse:692517440.00000\tvalidation_0-mae:272286048.00000\tvalidation_1-rmse:35002257408.00000\tvalidation_1-mae:15429510144.00000\n",
      "[155]\tvalidation_0-rmse:683029248.00000\tvalidation_0-mae:266531376.00000\tvalidation_1-rmse:35005816832.00000\tvalidation_1-mae:15431528448.00000\n",
      "[156]\tvalidation_0-rmse:674916032.00000\tvalidation_0-mae:261214416.00000\tvalidation_1-rmse:35009302528.00000\tvalidation_1-mae:15433565184.00000\n",
      "[157]\tvalidation_0-rmse:666499968.00000\tvalidation_0-mae:255533712.00000\tvalidation_1-rmse:35011928064.00000\tvalidation_1-mae:15435474944.00000\n",
      "[158]\tvalidation_0-rmse:657855424.00000\tvalidation_0-mae:250306848.00000\tvalidation_1-rmse:35016015872.00000\tvalidation_1-mae:15437872128.00000\n",
      "[159]\tvalidation_0-rmse:650425536.00000\tvalidation_0-mae:245006880.00000\tvalidation_1-rmse:35019587584.00000\tvalidation_1-mae:15439875072.00000\n",
      "[160]\tvalidation_0-rmse:642931008.00000\tvalidation_0-mae:239851504.00000\tvalidation_1-rmse:35023065088.00000\tvalidation_1-mae:15441618944.00000\n",
      "[161]\tvalidation_0-rmse:635924416.00000\tvalidation_0-mae:234732032.00000\tvalidation_1-rmse:35026399232.00000\tvalidation_1-mae:15442812928.00000\n",
      "[162]\tvalidation_0-rmse:628648064.00000\tvalidation_0-mae:229641680.00000\tvalidation_1-rmse:35029356544.00000\tvalidation_1-mae:15443987456.00000\n",
      "[163]\tvalidation_0-rmse:621645312.00000\tvalidation_0-mae:224761488.00000\tvalidation_1-rmse:35032780800.00000\tvalidation_1-mae:15445371904.00000\n",
      "[164]\tvalidation_0-rmse:615159936.00000\tvalidation_0-mae:220415440.00000\tvalidation_1-rmse:35035570176.00000\tvalidation_1-mae:15446902784.00000\n",
      "[165]\tvalidation_0-rmse:609333504.00000\tvalidation_0-mae:216283312.00000\tvalidation_1-rmse:35037843456.00000\tvalidation_1-mae:15448400896.00000\n",
      "[166]\tvalidation_0-rmse:602849216.00000\tvalidation_0-mae:211665248.00000\tvalidation_1-rmse:35039494144.00000\tvalidation_1-mae:15449648128.00000\n",
      "[167]\tvalidation_0-rmse:597358016.00000\tvalidation_0-mae:207417536.00000\tvalidation_1-rmse:35042217984.00000\tvalidation_1-mae:15451068416.00000\n",
      "[168]\tvalidation_0-rmse:591911616.00000\tvalidation_0-mae:203317040.00000\tvalidation_1-rmse:35044917248.00000\tvalidation_1-mae:15452667904.00000\n",
      "[169]\tvalidation_0-rmse:587091200.00000\tvalidation_0-mae:199390480.00000\tvalidation_1-rmse:35047026688.00000\tvalidation_1-mae:15454168064.00000\n",
      "[170]\tvalidation_0-rmse:583353280.00000\tvalidation_0-mae:195909216.00000\tvalidation_1-rmse:35048898560.00000\tvalidation_1-mae:15455301632.00000\n",
      "[171]\tvalidation_0-rmse:578607872.00000\tvalidation_0-mae:192325792.00000\tvalidation_1-rmse:35050590208.00000\tvalidation_1-mae:15456228352.00000\n",
      "[172]\tvalidation_0-rmse:574040768.00000\tvalidation_0-mae:188565728.00000\tvalidation_1-rmse:35053203456.00000\tvalidation_1-mae:15457765376.00000\n",
      "[173]\tvalidation_0-rmse:569369344.00000\tvalidation_0-mae:185048912.00000\tvalidation_1-rmse:35056189440.00000\tvalidation_1-mae:15459465216.00000\n",
      "[174]\tvalidation_0-rmse:565278784.00000\tvalidation_0-mae:181427888.00000\tvalidation_1-rmse:35057496064.00000\tvalidation_1-mae:15460463616.00000\n",
      "[175]\tvalidation_0-rmse:561881280.00000\tvalidation_0-mae:178234592.00000\tvalidation_1-rmse:35059703808.00000\tvalidation_1-mae:15461809152.00000\n",
      "[176]\tvalidation_0-rmse:558036544.00000\tvalidation_0-mae:174654480.00000\tvalidation_1-rmse:35061084160.00000\tvalidation_1-mae:15462614016.00000\n",
      "[177]\tvalidation_0-rmse:554797504.00000\tvalidation_0-mae:171433968.00000\tvalidation_1-rmse:35063758848.00000\tvalidation_1-mae:15463810048.00000\n",
      "[178]\tvalidation_0-rmse:551092224.00000\tvalidation_0-mae:168153456.00000\tvalidation_1-rmse:35065909248.00000\tvalidation_1-mae:15464705024.00000\n",
      "[179]\tvalidation_0-rmse:547958912.00000\tvalidation_0-mae:165013312.00000\tvalidation_1-rmse:35067768832.00000\tvalidation_1-mae:15465497600.00000\n",
      "[180]\tvalidation_0-rmse:544970944.00000\tvalidation_0-mae:162162544.00000\tvalidation_1-rmse:35070210048.00000\tvalidation_1-mae:15466859520.00000\n",
      "[181]\tvalidation_0-rmse:541865280.00000\tvalidation_0-mae:159174544.00000\tvalidation_1-rmse:35072237568.00000\tvalidation_1-mae:15468083200.00000\n",
      "[182]\tvalidation_0-rmse:539123328.00000\tvalidation_0-mae:156326528.00000\tvalidation_1-rmse:35073662976.00000\tvalidation_1-mae:15468843008.00000\n",
      "[183]\tvalidation_0-rmse:536432000.00000\tvalidation_0-mae:153554688.00000\tvalidation_1-rmse:35075616768.00000\tvalidation_1-mae:15469739008.00000\n",
      "[184]\tvalidation_0-rmse:533967136.00000\tvalidation_0-mae:150873888.00000\tvalidation_1-rmse:35077402624.00000\tvalidation_1-mae:15470720000.00000\n",
      "[185]\tvalidation_0-rmse:531582592.00000\tvalidation_0-mae:148147184.00000\tvalidation_1-rmse:35078451200.00000\tvalidation_1-mae:15471516672.00000\n",
      "[186]\tvalidation_0-rmse:528779648.00000\tvalidation_0-mae:145286064.00000\tvalidation_1-rmse:35079057408.00000\tvalidation_1-mae:15472295936.00000\n",
      "[187]\tvalidation_0-rmse:527296448.00000\tvalidation_0-mae:142858400.00000\tvalidation_1-rmse:35080265728.00000\tvalidation_1-mae:15473230848.00000\n",
      "[188]\tvalidation_0-rmse:525791904.00000\tvalidation_0-mae:140536720.00000\tvalidation_1-rmse:35081936896.00000\tvalidation_1-mae:15473957888.00000\n",
      "[189]\tvalidation_0-rmse:523883840.00000\tvalidation_0-mae:137988320.00000\tvalidation_1-rmse:35082711040.00000\tvalidation_1-mae:15474370560.00000\n",
      "[190]\tvalidation_0-rmse:521855872.00000\tvalidation_0-mae:135683056.00000\tvalidation_1-rmse:35083927552.00000\tvalidation_1-mae:15475148800.00000\n",
      "[191]\tvalidation_0-rmse:519733408.00000\tvalidation_0-mae:133391344.00000\tvalidation_1-rmse:35085238272.00000\tvalidation_1-mae:15476200448.00000\n",
      "[192]\tvalidation_0-rmse:517684352.00000\tvalidation_0-mae:131055448.00000\tvalidation_1-rmse:35085516800.00000\tvalidation_1-mae:15476789248.00000\n",
      "[193]\tvalidation_0-rmse:516397152.00000\tvalidation_0-mae:128693920.00000\tvalidation_1-rmse:35086540800.00000\tvalidation_1-mae:15477369856.00000\n",
      "[194]\tvalidation_0-rmse:514964800.00000\tvalidation_0-mae:127046792.00000\tvalidation_1-rmse:35087577088.00000\tvalidation_1-mae:15477786624.00000\n",
      "[195]\tvalidation_0-rmse:513779840.00000\tvalidation_0-mae:125016504.00000\tvalidation_1-rmse:35088441344.00000\tvalidation_1-mae:15478312960.00000\n",
      "[196]\tvalidation_0-rmse:512858528.00000\tvalidation_0-mae:123107200.00000\tvalidation_1-rmse:35088887808.00000\tvalidation_1-mae:15478709248.00000\n",
      "[197]\tvalidation_0-rmse:512037536.00000\tvalidation_0-mae:121359176.00000\tvalidation_1-rmse:35090092032.00000\tvalidation_1-mae:15479188480.00000\n",
      "[198]\tvalidation_0-rmse:510411232.00000\tvalidation_0-mae:119408328.00000\tvalidation_1-rmse:35091214336.00000\tvalidation_1-mae:15479839744.00000\n",
      "[199]\tvalidation_0-rmse:508746240.00000\tvalidation_0-mae:117503096.00000\tvalidation_1-rmse:35092189184.00000\tvalidation_1-mae:15480416256.00000\n",
      "[200]\tvalidation_0-rmse:507697952.00000\tvalidation_0-mae:115626160.00000\tvalidation_1-rmse:35093524480.00000\tvalidation_1-mae:15480985600.00000\n",
      "[201]\tvalidation_0-rmse:505844480.00000\tvalidation_0-mae:113922120.00000\tvalidation_1-rmse:35094614016.00000\tvalidation_1-mae:15481890816.00000\n",
      "[202]\tvalidation_0-rmse:504648480.00000\tvalidation_0-mae:112341752.00000\tvalidation_1-rmse:35095429120.00000\tvalidation_1-mae:15482271744.00000\n",
      "[203]\tvalidation_0-rmse:503390304.00000\tvalidation_0-mae:110823888.00000\tvalidation_1-rmse:35096031232.00000\tvalidation_1-mae:15482736640.00000\n",
      "[204]\tvalidation_0-rmse:502481440.00000\tvalidation_0-mae:109145608.00000\tvalidation_1-rmse:35096616960.00000\tvalidation_1-mae:15482906624.00000\n",
      "[205]\tvalidation_0-rmse:502403936.00000\tvalidation_0-mae:107657984.00000\tvalidation_1-rmse:35097587712.00000\tvalidation_1-mae:15483665408.00000\n",
      "[206]\tvalidation_0-rmse:501740864.00000\tvalidation_0-mae:106173216.00000\tvalidation_1-rmse:35098624000.00000\tvalidation_1-mae:15484122112.00000\n",
      "[207]\tvalidation_0-rmse:500821376.00000\tvalidation_0-mae:104705544.00000\tvalidation_1-rmse:35099525120.00000\tvalidation_1-mae:15484628992.00000\n",
      "[208]\tvalidation_0-rmse:499489344.00000\tvalidation_0-mae:103344752.00000\tvalidation_1-rmse:35100360704.00000\tvalidation_1-mae:15485179904.00000\n",
      "[209]\tvalidation_0-rmse:499310304.00000\tvalidation_0-mae:101868672.00000\tvalidation_1-rmse:35101130752.00000\tvalidation_1-mae:15485529088.00000\n",
      "[210]\tvalidation_0-rmse:497860448.00000\tvalidation_0-mae:100531120.00000\tvalidation_1-rmse:35101765632.00000\tvalidation_1-mae:15486026752.00000\n",
      "[211]\tvalidation_0-rmse:496291232.00000\tvalidation_0-mae:99227504.00000\tvalidation_1-rmse:35102343168.00000\tvalidation_1-mae:15486369792.00000\n",
      "[212]\tvalidation_0-rmse:496011008.00000\tvalidation_0-mae:98034792.00000\tvalidation_1-rmse:35102953472.00000\tvalidation_1-mae:15486858240.00000\n",
      "[213]\tvalidation_0-rmse:495544640.00000\tvalidation_0-mae:96811312.00000\tvalidation_1-rmse:35103694848.00000\tvalidation_1-mae:15487236096.00000\n",
      "[214]\tvalidation_0-rmse:494439840.00000\tvalidation_0-mae:95545552.00000\tvalidation_1-rmse:35104120832.00000\tvalidation_1-mae:15487666176.00000\n",
      "[215]\tvalidation_0-rmse:493957632.00000\tvalidation_0-mae:94439864.00000\tvalidation_1-rmse:35104878592.00000\tvalidation_1-mae:15488023552.00000\n",
      "[216]\tvalidation_0-rmse:493363872.00000\tvalidation_0-mae:93195000.00000\tvalidation_1-rmse:35105542144.00000\tvalidation_1-mae:15488425984.00000\n",
      "[217]\tvalidation_0-rmse:492741600.00000\tvalidation_0-mae:92010408.00000\tvalidation_1-rmse:35106099200.00000\tvalidation_1-mae:15488753664.00000\n",
      "[218]\tvalidation_0-rmse:492421088.00000\tvalidation_0-mae:90898520.00000\tvalidation_1-rmse:35106619392.00000\tvalidation_1-mae:15488986112.00000\n",
      "[219]\tvalidation_0-rmse:493005216.00000\tvalidation_0-mae:89834216.00000\tvalidation_1-rmse:35107041280.00000\tvalidation_1-mae:15489193984.00000\n",
      "[220]\tvalidation_0-rmse:492234944.00000\tvalidation_0-mae:88739208.00000\tvalidation_1-rmse:35107610624.00000\tvalidation_1-mae:15489512448.00000\n",
      "[221]\tvalidation_0-rmse:491538688.00000\tvalidation_0-mae:87734048.00000\tvalidation_1-rmse:35108044800.00000\tvalidation_1-mae:15489768448.00000\n",
      "[222]\tvalidation_0-rmse:491544672.00000\tvalidation_0-mae:86747672.00000\tvalidation_1-rmse:35108311040.00000\tvalidation_1-mae:15490052096.00000\n",
      "[223]\tvalidation_0-rmse:490934368.00000\tvalidation_0-mae:85762544.00000\tvalidation_1-rmse:35108642816.00000\tvalidation_1-mae:15490364416.00000\n",
      "[224]\tvalidation_0-rmse:490147328.00000\tvalidation_0-mae:84753864.00000\tvalidation_1-rmse:35108954112.00000\tvalidation_1-mae:15490565120.00000\n",
      "[225]\tvalidation_0-rmse:489720704.00000\tvalidation_0-mae:83903328.00000\tvalidation_1-rmse:35109175296.00000\tvalidation_1-mae:15490581504.00000\n",
      "[226]\tvalidation_0-rmse:489208640.00000\tvalidation_0-mae:82961736.00000\tvalidation_1-rmse:35109486592.00000\tvalidation_1-mae:15490844672.00000\n",
      "[227]\tvalidation_0-rmse:488592032.00000\tvalidation_0-mae:82106880.00000\tvalidation_1-rmse:35109900288.00000\tvalidation_1-mae:15491197952.00000\n",
      "[228]\tvalidation_0-rmse:488448672.00000\tvalidation_0-mae:81369152.00000\tvalidation_1-rmse:35110252544.00000\tvalidation_1-mae:15491395584.00000\n",
      "[229]\tvalidation_0-rmse:488497248.00000\tvalidation_0-mae:80552592.00000\tvalidation_1-rmse:35110498304.00000\tvalidation_1-mae:15491584000.00000\n",
      "[230]\tvalidation_0-rmse:488793728.00000\tvalidation_0-mae:79808672.00000\tvalidation_1-rmse:35110891520.00000\tvalidation_1-mae:15491732480.00000\n",
      "[231]\tvalidation_0-rmse:488926688.00000\tvalidation_0-mae:79100216.00000\tvalidation_1-rmse:35111161856.00000\tvalidation_1-mae:15491832832.00000\n",
      "[232]\tvalidation_0-rmse:488882912.00000\tvalidation_0-mae:78426168.00000\tvalidation_1-rmse:35111370752.00000\tvalidation_1-mae:15491883008.00000\n",
      "[233]\tvalidation_0-rmse:488293088.00000\tvalidation_0-mae:77657752.00000\tvalidation_1-rmse:35111759872.00000\tvalidation_1-mae:15492188160.00000\n",
      "[234]\tvalidation_0-rmse:488478240.00000\tvalidation_0-mae:76969872.00000\tvalidation_1-rmse:35112173568.00000\tvalidation_1-mae:15492338688.00000\n",
      "[235]\tvalidation_0-rmse:489038048.00000\tvalidation_0-mae:76296736.00000\tvalidation_1-rmse:35112452096.00000\tvalidation_1-mae:15492473856.00000\n",
      "[236]\tvalidation_0-rmse:489518944.00000\tvalidation_0-mae:75636872.00000\tvalidation_1-rmse:35112673280.00000\tvalidation_1-mae:15492675584.00000\n",
      "[237]\tvalidation_0-rmse:488500352.00000\tvalidation_0-mae:75003576.00000\tvalidation_1-rmse:35112988672.00000\tvalidation_1-mae:15493063680.00000\n",
      "[238]\tvalidation_0-rmse:487687424.00000\tvalidation_0-mae:74330304.00000\tvalidation_1-rmse:35113541632.00000\tvalidation_1-mae:15493596160.00000\n",
      "[239]\tvalidation_0-rmse:487897408.00000\tvalidation_0-mae:73653672.00000\tvalidation_1-rmse:35113811968.00000\tvalidation_1-mae:15493641216.00000\n",
      "[240]\tvalidation_0-rmse:487793664.00000\tvalidation_0-mae:73017184.00000\tvalidation_1-rmse:35114213376.00000\tvalidation_1-mae:15493947392.00000\n",
      "[241]\tvalidation_0-rmse:487352448.00000\tvalidation_0-mae:72337936.00000\tvalidation_1-rmse:35114475520.00000\tvalidation_1-mae:15494106112.00000\n",
      "[242]\tvalidation_0-rmse:488093792.00000\tvalidation_0-mae:71838992.00000\tvalidation_1-rmse:35114770432.00000\tvalidation_1-mae:15494343680.00000\n",
      "[243]\tvalidation_0-rmse:487291136.00000\tvalidation_0-mae:71251032.00000\tvalidation_1-rmse:35114864640.00000\tvalidation_1-mae:15494323200.00000\n",
      "[244]\tvalidation_0-rmse:487188416.00000\tvalidation_0-mae:70715752.00000\tvalidation_1-rmse:35115106304.00000\tvalidation_1-mae:15494584320.00000\n",
      "[245]\tvalidation_0-rmse:485961344.00000\tvalidation_0-mae:70240872.00000\tvalidation_1-rmse:35115343872.00000\tvalidation_1-mae:15494782976.00000\n",
      "[246]\tvalidation_0-rmse:486058272.00000\tvalidation_0-mae:69746520.00000\tvalidation_1-rmse:35115626496.00000\tvalidation_1-mae:15495047168.00000\n",
      "[247]\tvalidation_0-rmse:485891296.00000\tvalidation_0-mae:69231752.00000\tvalidation_1-rmse:35115610112.00000\tvalidation_1-mae:15495207936.00000\n",
      "[248]\tvalidation_0-rmse:486345280.00000\tvalidation_0-mae:68760896.00000\tvalidation_1-rmse:35115708416.00000\tvalidation_1-mae:15494975488.00000\n",
      "[249]\tvalidation_0-rmse:486773344.00000\tvalidation_0-mae:68313160.00000\tvalidation_1-rmse:35115802624.00000\tvalidation_1-mae:15494973440.00000\n",
      "[250]\tvalidation_0-rmse:486762016.00000\tvalidation_0-mae:67775720.00000\tvalidation_1-rmse:35115962368.00000\tvalidation_1-mae:15495142400.00000\n",
      "[251]\tvalidation_0-rmse:486777312.00000\tvalidation_0-mae:67275352.00000\tvalidation_1-rmse:35116298240.00000\tvalidation_1-mae:15495472128.00000\n",
      "[252]\tvalidation_0-rmse:486688640.00000\tvalidation_0-mae:66792132.00000\tvalidation_1-rmse:35116625920.00000\tvalidation_1-mae:15495642112.00000\n",
      "[253]\tvalidation_0-rmse:486362624.00000\tvalidation_0-mae:66281232.00000\tvalidation_1-rmse:35116789760.00000\tvalidation_1-mae:15495840768.00000\n",
      "[254]\tvalidation_0-rmse:486280128.00000\tvalidation_0-mae:65813216.00000\tvalidation_1-rmse:35116957696.00000\tvalidation_1-mae:15495954432.00000\n",
      "[255]\tvalidation_0-rmse:485678688.00000\tvalidation_0-mae:65459832.00000\tvalidation_1-rmse:35116929024.00000\tvalidation_1-mae:15496074240.00000\n",
      "[256]\tvalidation_0-rmse:486250496.00000\tvalidation_0-mae:65091036.00000\tvalidation_1-rmse:35117043712.00000\tvalidation_1-mae:15496235008.00000\n",
      "[257]\tvalidation_0-rmse:485014336.00000\tvalidation_0-mae:64677484.00000\tvalidation_1-rmse:35117301760.00000\tvalidation_1-mae:15496554496.00000\n",
      "[258]\tvalidation_0-rmse:484665664.00000\tvalidation_0-mae:64242888.00000\tvalidation_1-rmse:35117527040.00000\tvalidation_1-mae:15496725504.00000\n",
      "[259]\tvalidation_0-rmse:484734208.00000\tvalidation_0-mae:63856796.00000\tvalidation_1-rmse:35117682688.00000\tvalidation_1-mae:15496939520.00000\n",
      "[260]\tvalidation_0-rmse:485071936.00000\tvalidation_0-mae:63433624.00000\tvalidation_1-rmse:35117789184.00000\tvalidation_1-mae:15497015296.00000\n",
      "[261]\tvalidation_0-rmse:484364544.00000\tvalidation_0-mae:63066508.00000\tvalidation_1-rmse:35118039040.00000\tvalidation_1-mae:15497172992.00000\n",
      "[262]\tvalidation_0-rmse:484334208.00000\tvalidation_0-mae:62737600.00000\tvalidation_1-rmse:35118206976.00000\tvalidation_1-mae:15497096192.00000\n",
      "[263]\tvalidation_0-rmse:484825568.00000\tvalidation_0-mae:62366548.00000\tvalidation_1-rmse:35118346240.00000\tvalidation_1-mae:15497123840.00000\n",
      "[264]\tvalidation_0-rmse:484151584.00000\tvalidation_0-mae:62028828.00000\tvalidation_1-rmse:35118354432.00000\tvalidation_1-mae:15497254912.00000\n",
      "[265]\tvalidation_0-rmse:484036160.00000\tvalidation_0-mae:61741984.00000\tvalidation_1-rmse:35118481408.00000\tvalidation_1-mae:15497269248.00000\n",
      "[266]\tvalidation_0-rmse:483825056.00000\tvalidation_0-mae:61417864.00000\tvalidation_1-rmse:35118706688.00000\tvalidation_1-mae:15497443328.00000\n",
      "[267]\tvalidation_0-rmse:483058624.00000\tvalidation_0-mae:61125840.00000\tvalidation_1-rmse:35119022080.00000\tvalidation_1-mae:15497714688.00000\n",
      "[268]\tvalidation_0-rmse:483652768.00000\tvalidation_0-mae:60829672.00000\tvalidation_1-rmse:35119161344.00000\tvalidation_1-mae:15497984000.00000\n",
      "[269]\tvalidation_0-rmse:483799904.00000\tvalidation_0-mae:60545836.00000\tvalidation_1-rmse:35119325184.00000\tvalidation_1-mae:15498052608.00000\n",
      "[270]\tvalidation_0-rmse:483825920.00000\tvalidation_0-mae:60261908.00000\tvalidation_1-rmse:35119288320.00000\tvalidation_1-mae:15497875456.00000\n",
      "[271]\tvalidation_0-rmse:484479360.00000\tvalidation_0-mae:59957608.00000\tvalidation_1-rmse:35119460352.00000\tvalidation_1-mae:15497846784.00000\n",
      "[272]\tvalidation_0-rmse:484845120.00000\tvalidation_0-mae:59792720.00000\tvalidation_1-rmse:35119534080.00000\tvalidation_1-mae:15497821184.00000\n",
      "[273]\tvalidation_0-rmse:484516512.00000\tvalidation_0-mae:59571140.00000\tvalidation_1-rmse:35119706112.00000\tvalidation_1-mae:15498011648.00000\n",
      "[274]\tvalidation_0-rmse:485061664.00000\tvalidation_0-mae:59429736.00000\tvalidation_1-rmse:35119779840.00000\tvalidation_1-mae:15498150912.00000\n",
      "[275]\tvalidation_0-rmse:484793024.00000\tvalidation_0-mae:59203708.00000\tvalidation_1-rmse:35119906816.00000\tvalidation_1-mae:15498303488.00000\n",
      "[276]\tvalidation_0-rmse:485334592.00000\tvalidation_0-mae:58960188.00000\tvalidation_1-rmse:35120091136.00000\tvalidation_1-mae:15498369024.00000\n",
      "[277]\tvalidation_0-rmse:485554176.00000\tvalidation_0-mae:58766064.00000\tvalidation_1-rmse:35120238592.00000\tvalidation_1-mae:15498388480.00000\n",
      "[278]\tvalidation_0-rmse:485469760.00000\tvalidation_0-mae:58566232.00000\tvalidation_1-rmse:35120332800.00000\tvalidation_1-mae:15498426368.00000\n",
      "[279]\tvalidation_0-rmse:485698272.00000\tvalidation_0-mae:58370820.00000\tvalidation_1-rmse:35120463872.00000\tvalidation_1-mae:15498558464.00000\n",
      "[280]\tvalidation_0-rmse:484583040.00000\tvalidation_0-mae:58128100.00000\tvalidation_1-rmse:35120607232.00000\tvalidation_1-mae:15498668032.00000\n",
      "[281]\tvalidation_0-rmse:484366208.00000\tvalidation_0-mae:57866684.00000\tvalidation_1-rmse:35120775168.00000\tvalidation_1-mae:15498840064.00000\n",
      "[282]\tvalidation_0-rmse:483740608.00000\tvalidation_0-mae:57639616.00000\tvalidation_1-rmse:35120791552.00000\tvalidation_1-mae:15498825728.00000\n",
      "[283]\tvalidation_0-rmse:483922784.00000\tvalidation_0-mae:57412420.00000\tvalidation_1-rmse:35120820224.00000\tvalidation_1-mae:15498871808.00000\n",
      "[284]\tvalidation_0-rmse:484075200.00000\tvalidation_0-mae:57240684.00000\tvalidation_1-rmse:35120852992.00000\tvalidation_1-mae:15498909696.00000\n",
      "[285]\tvalidation_0-rmse:483556384.00000\tvalidation_0-mae:57034980.00000\tvalidation_1-rmse:35120963584.00000\tvalidation_1-mae:15498722304.00000\n",
      "[286]\tvalidation_0-rmse:483436256.00000\tvalidation_0-mae:56867180.00000\tvalidation_1-rmse:35121143808.00000\tvalidation_1-mae:15498775552.00000\n",
      "[287]\tvalidation_0-rmse:483810432.00000\tvalidation_0-mae:56650984.00000\tvalidation_1-rmse:35121246208.00000\tvalidation_1-mae:15499006976.00000\n",
      "[288]\tvalidation_0-rmse:483414208.00000\tvalidation_0-mae:56473796.00000\tvalidation_1-rmse:35121065984.00000\tvalidation_1-mae:15498895360.00000\n",
      "[289]\tvalidation_0-rmse:483660992.00000\tvalidation_0-mae:56348844.00000\tvalidation_1-rmse:35121160192.00000\tvalidation_1-mae:15498907648.00000\n",
      "[290]\tvalidation_0-rmse:483591520.00000\tvalidation_0-mae:56192652.00000\tvalidation_1-rmse:35121262592.00000\tvalidation_1-mae:15498764288.00000\n",
      "[291]\tvalidation_0-rmse:483726944.00000\tvalidation_0-mae:56057992.00000\tvalidation_1-rmse:35121364992.00000\tvalidation_1-mae:15498605568.00000\n",
      "[292]\tvalidation_0-rmse:484398560.00000\tvalidation_0-mae:55893164.00000\tvalidation_1-rmse:35121602560.00000\tvalidation_1-mae:15498849280.00000\n",
      "[293]\tvalidation_0-rmse:484725024.00000\tvalidation_0-mae:55698832.00000\tvalidation_1-rmse:35121655808.00000\tvalidation_1-mae:15498875904.00000\n",
      "[294]\tvalidation_0-rmse:483599104.00000\tvalidation_0-mae:55567620.00000\tvalidation_1-rmse:35121819648.00000\tvalidation_1-mae:15499068416.00000\n",
      "[295]\tvalidation_0-rmse:483269856.00000\tvalidation_0-mae:55377452.00000\tvalidation_1-rmse:35121938432.00000\tvalidation_1-mae:15499124736.00000\n",
      "[296]\tvalidation_0-rmse:483673408.00000\tvalidation_0-mae:55303028.00000\tvalidation_1-rmse:35122069504.00000\tvalidation_1-mae:15499348992.00000\n",
      "[297]\tvalidation_0-rmse:483626432.00000\tvalidation_0-mae:55158548.00000\tvalidation_1-rmse:35122040832.00000\tvalidation_1-mae:15499233280.00000\n",
      "[298]\tvalidation_0-rmse:483403392.00000\tvalidation_0-mae:55039928.00000\tvalidation_1-rmse:35122135040.00000\tvalidation_1-mae:15499458560.00000\n",
      "[299]\tvalidation_0-rmse:483143616.00000\tvalidation_0-mae:54956816.00000\tvalidation_1-rmse:35122208768.00000\tvalidation_1-mae:15499484160.00000\n",
      "[300]\tvalidation_0-rmse:482940800.00000\tvalidation_0-mae:54895056.00000\tvalidation_1-rmse:35122262016.00000\tvalidation_1-mae:15499458560.00000\n",
      "[301]\tvalidation_0-rmse:483063552.00000\tvalidation_0-mae:54907820.00000\tvalidation_1-rmse:35122286592.00000\tvalidation_1-mae:15499508736.00000\n",
      "[302]\tvalidation_0-rmse:483112736.00000\tvalidation_0-mae:54730392.00000\tvalidation_1-rmse:35122364416.00000\tvalidation_1-mae:15499563008.00000\n",
      "[303]\tvalidation_0-rmse:482880512.00000\tvalidation_0-mae:54552060.00000\tvalidation_1-rmse:35122556928.00000\tvalidation_1-mae:15499698176.00000\n",
      "[304]\tvalidation_0-rmse:482428288.00000\tvalidation_0-mae:54482244.00000\tvalidation_1-rmse:35122573312.00000\tvalidation_1-mae:15499811840.00000\n",
      "[305]\tvalidation_0-rmse:482693920.00000\tvalidation_0-mae:54330476.00000\tvalidation_1-rmse:35122700288.00000\tvalidation_1-mae:15499773952.00000\n",
      "[306]\tvalidation_0-rmse:483180352.00000\tvalidation_0-mae:54199260.00000\tvalidation_1-rmse:35122630656.00000\tvalidation_1-mae:15499787264.00000\n",
      "[307]\tvalidation_0-rmse:483450048.00000\tvalidation_0-mae:54156104.00000\tvalidation_1-rmse:35122479104.00000\tvalidation_1-mae:15499817984.00000\n",
      "[308]\tvalidation_0-rmse:482922176.00000\tvalidation_0-mae:54070424.00000\tvalidation_1-rmse:35122487296.00000\tvalidation_1-mae:15499663360.00000\n",
      "[309]\tvalidation_0-rmse:483298912.00000\tvalidation_0-mae:53897712.00000\tvalidation_1-rmse:35122610176.00000\tvalidation_1-mae:15499809792.00000\n",
      "[310]\tvalidation_0-rmse:482558304.00000\tvalidation_0-mae:53803396.00000\tvalidation_1-rmse:35122642944.00000\tvalidation_1-mae:15499660288.00000\n",
      "[311]\tvalidation_0-rmse:482414880.00000\tvalidation_0-mae:53669996.00000\tvalidation_1-rmse:35122716672.00000\tvalidation_1-mae:15499781120.00000\n",
      "[312]\tvalidation_0-rmse:482877408.00000\tvalidation_0-mae:53643224.00000\tvalidation_1-rmse:35122745344.00000\tvalidation_1-mae:15499845632.00000\n",
      "[313]\tvalidation_0-rmse:482622496.00000\tvalidation_0-mae:53541380.00000\tvalidation_1-rmse:35122745344.00000\tvalidation_1-mae:15499836416.00000\n",
      "[314]\tvalidation_0-rmse:482538560.00000\tvalidation_0-mae:53359676.00000\tvalidation_1-rmse:35122819072.00000\tvalidation_1-mae:15499977728.00000\n",
      "[315]\tvalidation_0-rmse:482316064.00000\tvalidation_0-mae:53297084.00000\tvalidation_1-rmse:35122876416.00000\tvalidation_1-mae:15500052480.00000\n",
      "[316]\tvalidation_0-rmse:482245920.00000\tvalidation_0-mae:53184356.00000\tvalidation_1-rmse:35122962432.00000\tvalidation_1-mae:15500050432.00000\n",
      "[317]\tvalidation_0-rmse:482277536.00000\tvalidation_0-mae:53134696.00000\tvalidation_1-rmse:35122970624.00000\tvalidation_1-mae:15499977728.00000\n",
      "[318]\tvalidation_0-rmse:482199136.00000\tvalidation_0-mae:52957960.00000\tvalidation_1-rmse:35122978816.00000\tvalidation_1-mae:15499974656.00000\n",
      "[319]\tvalidation_0-rmse:482216448.00000\tvalidation_0-mae:52920656.00000\tvalidation_1-rmse:35122995200.00000\tvalidation_1-mae:15499877376.00000\n",
      "[320]\tvalidation_0-rmse:482204064.00000\tvalidation_0-mae:52869144.00000\tvalidation_1-rmse:35123077120.00000\tvalidation_1-mae:15499783168.00000\n",
      "[321]\tvalidation_0-rmse:481850208.00000\tvalidation_0-mae:52859672.00000\tvalidation_1-rmse:35123187712.00000\tvalidation_1-mae:15499899904.00000\n",
      "[322]\tvalidation_0-rmse:481821472.00000\tvalidation_0-mae:52739400.00000\tvalidation_1-rmse:35123277824.00000\tvalidation_1-mae:15499839488.00000\n",
      "[323]\tvalidation_0-rmse:481838432.00000\tvalidation_0-mae:52617272.00000\tvalidation_1-rmse:35123359744.00000\tvalidation_1-mae:15499848704.00000\n",
      "[324]\tvalidation_0-rmse:481829632.00000\tvalidation_0-mae:52548088.00000\tvalidation_1-rmse:35123396608.00000\tvalidation_1-mae:15499754496.00000\n",
      "[325]\tvalidation_0-rmse:482099552.00000\tvalidation_0-mae:52492644.00000\tvalidation_1-rmse:35123474432.00000\tvalidation_1-mae:15499865088.00000\n",
      "[326]\tvalidation_0-rmse:481867904.00000\tvalidation_0-mae:52437344.00000\tvalidation_1-rmse:35123515392.00000\tvalidation_1-mae:15499768832.00000\n",
      "[327]\tvalidation_0-rmse:482113952.00000\tvalidation_0-mae:52333056.00000\tvalidation_1-rmse:35123544064.00000\tvalidation_1-mae:15499836416.00000\n",
      "[328]\tvalidation_0-rmse:482081696.00000\tvalidation_0-mae:52281280.00000\tvalidation_1-rmse:35123511296.00000\tvalidation_1-mae:15499786240.00000\n",
      "[329]\tvalidation_0-rmse:482214368.00000\tvalidation_0-mae:52183500.00000\tvalidation_1-rmse:35123367936.00000\tvalidation_1-mae:15499707392.00000\n",
      "[330]\tvalidation_0-rmse:482048288.00000\tvalidation_0-mae:52144104.00000\tvalidation_1-rmse:35123335168.00000\tvalidation_1-mae:15499778048.00000\n",
      "[331]\tvalidation_0-rmse:481888960.00000\tvalidation_0-mae:52102744.00000\tvalidation_1-rmse:35123298304.00000\tvalidation_1-mae:15499842560.00000\n",
      "[332]\tvalidation_0-rmse:482216448.00000\tvalidation_0-mae:52049136.00000\tvalidation_1-rmse:35123224576.00000\tvalidation_1-mae:15499833344.00000\n",
      "[333]\tvalidation_0-rmse:482307392.00000\tvalidation_0-mae:51946124.00000\tvalidation_1-rmse:35123347456.00000\tvalidation_1-mae:15499909120.00000\n",
      "[334]\tvalidation_0-rmse:482353856.00000\tvalidation_0-mae:51902228.00000\tvalidation_1-rmse:35123421184.00000\tvalidation_1-mae:15500097536.00000\n",
      "[335]\tvalidation_0-rmse:482080960.00000\tvalidation_0-mae:51859436.00000\tvalidation_1-rmse:35123511296.00000\tvalidation_1-mae:15500217344.00000\n",
      "[336]\tvalidation_0-rmse:482358048.00000\tvalidation_0-mae:51885372.00000\tvalidation_1-rmse:35123527680.00000\tvalidation_1-mae:15500178432.00000\n",
      "[337]\tvalidation_0-rmse:482454240.00000\tvalidation_0-mae:51823908.00000\tvalidation_1-rmse:35123761152.00000\tvalidation_1-mae:15500290048.00000\n",
      "[338]\tvalidation_0-rmse:482424480.00000\tvalidation_0-mae:51774444.00000\tvalidation_1-rmse:35123806208.00000\tvalidation_1-mae:15500331008.00000\n",
      "[339]\tvalidation_0-rmse:482160384.00000\tvalidation_0-mae:51688572.00000\tvalidation_1-rmse:35123777536.00000\tvalidation_1-mae:15500178432.00000\n",
      "[340]\tvalidation_0-rmse:482688992.00000\tvalidation_0-mae:51567648.00000\tvalidation_1-rmse:35123826688.00000\tvalidation_1-mae:15500172288.00000\n",
      "[341]\tvalidation_0-rmse:482541024.00000\tvalidation_0-mae:51525728.00000\tvalidation_1-rmse:35123855360.00000\tvalidation_1-mae:15500157952.00000\n",
      "[342]\tvalidation_0-rmse:482989376.00000\tvalidation_0-mae:51471896.00000\tvalidation_1-rmse:35123912704.00000\tvalidation_1-mae:15500144640.00000\n",
      "[343]\tvalidation_0-rmse:482506752.00000\tvalidation_0-mae:51478820.00000\tvalidation_1-rmse:35123916800.00000\tvalidation_1-mae:15500116992.00000\n",
      "[344]\tvalidation_0-rmse:482382272.00000\tvalidation_0-mae:51516580.00000\tvalidation_1-rmse:35123982336.00000\tvalidation_1-mae:15500321792.00000\n",
      "[345]\tvalidation_0-rmse:482755552.00000\tvalidation_0-mae:51449940.00000\tvalidation_1-rmse:35123998720.00000\tvalidation_1-mae:15500260352.00000\n",
      "[346]\tvalidation_0-rmse:482585376.00000\tvalidation_0-mae:51386620.00000\tvalidation_1-rmse:35123994624.00000\tvalidation_1-mae:15500258304.00000\n",
      "[347]\tvalidation_0-rmse:483188384.00000\tvalidation_0-mae:51341996.00000\tvalidation_1-rmse:35124023296.00000\tvalidation_1-mae:15500231680.00000\n",
      "[348]\tvalidation_0-rmse:483863552.00000\tvalidation_0-mae:51309860.00000\tvalidation_1-rmse:35124027392.00000\tvalidation_1-mae:15500208128.00000\n",
      "[349]\tvalidation_0-rmse:484166400.00000\tvalidation_0-mae:51253884.00000\tvalidation_1-rmse:35124142080.00000\tvalidation_1-mae:15500290048.00000\n",
      "[350]\tvalidation_0-rmse:483131488.00000\tvalidation_0-mae:51215848.00000\tvalidation_1-rmse:35124281344.00000\tvalidation_1-mae:15500542976.00000\n",
      "[351]\tvalidation_0-rmse:482629728.00000\tvalidation_0-mae:51110404.00000\tvalidation_1-rmse:35124187136.00000\tvalidation_1-mae:15500378112.00000\n",
      "[352]\tvalidation_0-rmse:482570880.00000\tvalidation_0-mae:51065296.00000\tvalidation_1-rmse:35124199424.00000\tvalidation_1-mae:15500378112.00000\n",
      "[353]\tvalidation_0-rmse:482606048.00000\tvalidation_0-mae:51074520.00000\tvalidation_1-rmse:35124236288.00000\tvalidation_1-mae:15500592128.00000\n",
      "[354]\tvalidation_0-rmse:482446784.00000\tvalidation_0-mae:51103720.00000\tvalidation_1-rmse:35124297728.00000\tvalidation_1-mae:15500647424.00000\n",
      "[355]\tvalidation_0-rmse:482444192.00000\tvalidation_0-mae:51117012.00000\tvalidation_1-rmse:35124289536.00000\tvalidation_1-mae:15500576768.00000\n",
      "[356]\tvalidation_0-rmse:482427392.00000\tvalidation_0-mae:51045448.00000\tvalidation_1-rmse:35124334592.00000\tvalidation_1-mae:15500614656.00000\n",
      "[357]\tvalidation_0-rmse:482961024.00000\tvalidation_0-mae:51070580.00000\tvalidation_1-rmse:35124359168.00000\tvalidation_1-mae:15500884992.00000\n",
      "[358]\tvalidation_0-rmse:483053728.00000\tvalidation_0-mae:51002724.00000\tvalidation_1-rmse:35124387840.00000\tvalidation_1-mae:15500820480.00000\n",
      "[359]\tvalidation_0-rmse:482872032.00000\tvalidation_0-mae:51000856.00000\tvalidation_1-rmse:35124416512.00000\tvalidation_1-mae:15500826624.00000\n",
      "[360]\tvalidation_0-rmse:482677856.00000\tvalidation_0-mae:50960108.00000\tvalidation_1-rmse:35124375552.00000\tvalidation_1-mae:15500611584.00000\n",
      "[361]\tvalidation_0-rmse:482571872.00000\tvalidation_0-mae:50938344.00000\tvalidation_1-rmse:35124228096.00000\tvalidation_1-mae:15500401664.00000\n",
      "[362]\tvalidation_0-rmse:482036704.00000\tvalidation_0-mae:50901872.00000\tvalidation_1-rmse:35124273152.00000\tvalidation_1-mae:15500522496.00000\n",
      "[363]\tvalidation_0-rmse:481822656.00000\tvalidation_0-mae:50946912.00000\tvalidation_1-rmse:35124445184.00000\tvalidation_1-mae:15500604416.00000\n",
      "[364]\tvalidation_0-rmse:481537216.00000\tvalidation_0-mae:50913784.00000\tvalidation_1-rmse:35124518912.00000\tvalidation_1-mae:15500601344.00000\n",
      "[365]\tvalidation_0-rmse:481567104.00000\tvalidation_0-mae:50893676.00000\tvalidation_1-rmse:35124510720.00000\tvalidation_1-mae:15500641280.00000\n",
      "[366]\tvalidation_0-rmse:481831136.00000\tvalidation_0-mae:50940952.00000\tvalidation_1-rmse:35124514816.00000\tvalidation_1-mae:15500755968.00000\n",
      "[367]\tvalidation_0-rmse:481709856.00000\tvalidation_0-mae:50927632.00000\tvalidation_1-rmse:35124531200.00000\tvalidation_1-mae:15500847104.00000\n",
      "[368]\tvalidation_0-rmse:482024544.00000\tvalidation_0-mae:50869688.00000\tvalidation_1-rmse:35124539392.00000\tvalidation_1-mae:15500957696.00000\n",
      "[369]\tvalidation_0-rmse:482437184.00000\tvalidation_0-mae:50883032.00000\tvalidation_1-rmse:35124736000.00000\tvalidation_1-mae:15501209600.00000\n",
      "[370]\tvalidation_0-rmse:482053408.00000\tvalidation_0-mae:50823136.00000\tvalidation_1-rmse:35124768768.00000\tvalidation_1-mae:15501154304.00000\n",
      "[371]\tvalidation_0-rmse:482543232.00000\tvalidation_0-mae:50736208.00000\tvalidation_1-rmse:35124801536.00000\tvalidation_1-mae:15501084672.00000\n",
      "[372]\tvalidation_0-rmse:482399616.00000\tvalidation_0-mae:50706700.00000\tvalidation_1-rmse:35124912128.00000\tvalidation_1-mae:15501481984.00000\n",
      "[373]\tvalidation_0-rmse:482578496.00000\tvalidation_0-mae:50654384.00000\tvalidation_1-rmse:35124817920.00000\tvalidation_1-mae:15501502464.00000\n",
      "[374]\tvalidation_0-rmse:482344928.00000\tvalidation_0-mae:50586656.00000\tvalidation_1-rmse:35124768768.00000\tvalidation_1-mae:15501278208.00000\n",
      "[375]\tvalidation_0-rmse:482275456.00000\tvalidation_0-mae:50680104.00000\tvalidation_1-rmse:35124682752.00000\tvalidation_1-mae:15501111296.00000\n",
      "[376]\tvalidation_0-rmse:482068992.00000\tvalidation_0-mae:50610100.00000\tvalidation_1-rmse:35124801536.00000\tvalidation_1-mae:15501099008.00000\n",
      "[377]\tvalidation_0-rmse:482489504.00000\tvalidation_0-mae:50674492.00000\tvalidation_1-rmse:35124789248.00000\tvalidation_1-mae:15501107200.00000\n",
      "[378]\tvalidation_0-rmse:482952928.00000\tvalidation_0-mae:50593708.00000\tvalidation_1-rmse:35124801536.00000\tvalidation_1-mae:15501036544.00000\n",
      "[379]\tvalidation_0-rmse:482548128.00000\tvalidation_0-mae:50538040.00000\tvalidation_1-rmse:35124756480.00000\tvalidation_1-mae:15501017088.00000\n",
      "[380]\tvalidation_0-rmse:482526688.00000\tvalidation_0-mae:50522308.00000\tvalidation_1-rmse:35124846592.00000\tvalidation_1-mae:15501230080.00000\n",
      "[381]\tvalidation_0-rmse:482136608.00000\tvalidation_0-mae:50469644.00000\tvalidation_1-rmse:35124920320.00000\tvalidation_1-mae:15501325312.00000\n",
      "[382]\tvalidation_0-rmse:482423712.00000\tvalidation_0-mae:50505232.00000\tvalidation_1-rmse:35124920320.00000\tvalidation_1-mae:15501360128.00000\n",
      "[383]\tvalidation_0-rmse:482191648.00000\tvalidation_0-mae:50515440.00000\tvalidation_1-rmse:35124985856.00000\tvalidation_1-mae:15501462528.00000\n",
      "[384]\tvalidation_0-rmse:481881088.00000\tvalidation_0-mae:50440344.00000\tvalidation_1-rmse:35124953088.00000\tvalidation_1-mae:15501574144.00000\n",
      "[385]\tvalidation_0-rmse:481979392.00000\tvalidation_0-mae:50485560.00000\tvalidation_1-rmse:35125022720.00000\tvalidation_1-mae:15501612032.00000\n",
      "[386]\tvalidation_0-rmse:481905952.00000\tvalidation_0-mae:50443464.00000\tvalidation_1-rmse:35125096448.00000\tvalidation_1-mae:15501496320.00000\n",
      "[387]\tvalidation_0-rmse:482014464.00000\tvalidation_0-mae:50484612.00000\tvalidation_1-rmse:35125100544.00000\tvalidation_1-mae:15501485056.00000\n",
      "[388]\tvalidation_0-rmse:482728032.00000\tvalidation_0-mae:50451492.00000\tvalidation_1-rmse:35125084160.00000\tvalidation_1-mae:15501448192.00000\n",
      "[389]\tvalidation_0-rmse:483052288.00000\tvalidation_0-mae:50478932.00000\tvalidation_1-rmse:35125125120.00000\tvalidation_1-mae:15501582336.00000\n",
      "[390]\tvalidation_0-rmse:483253568.00000\tvalidation_0-mae:50529916.00000\tvalidation_1-rmse:35125125120.00000\tvalidation_1-mae:15501602816.00000\n",
      "[391]\tvalidation_0-rmse:483814720.00000\tvalidation_0-mae:50565940.00000\tvalidation_1-rmse:35125141504.00000\tvalidation_1-mae:15501625344.00000\n",
      "[392]\tvalidation_0-rmse:483519232.00000\tvalidation_0-mae:50515972.00000\tvalidation_1-rmse:35125022720.00000\tvalidation_1-mae:15501438976.00000\n",
      "[393]\tvalidation_0-rmse:483862784.00000\tvalidation_0-mae:50453000.00000\tvalidation_1-rmse:35125059584.00000\tvalidation_1-mae:15501485056.00000\n",
      "[394]\tvalidation_0-rmse:483424096.00000\tvalidation_0-mae:50394076.00000\tvalidation_1-rmse:35125092352.00000\tvalidation_1-mae:15501265920.00000\n",
      "[395]\tvalidation_0-rmse:483142784.00000\tvalidation_0-mae:50341892.00000\tvalidation_1-rmse:35125133312.00000\tvalidation_1-mae:15501350912.00000\n",
      "[396]\tvalidation_0-rmse:483223456.00000\tvalidation_0-mae:50519240.00000\tvalidation_1-rmse:35125166080.00000\tvalidation_1-mae:15501228032.00000\n",
      "[397]\tvalidation_0-rmse:482924384.00000\tvalidation_0-mae:50537440.00000\tvalidation_1-rmse:35125174272.00000\tvalidation_1-mae:15501376512.00000\n",
      "[398]\tvalidation_0-rmse:482498272.00000\tvalidation_0-mae:50472652.00000\tvalidation_1-rmse:35125194752.00000\tvalidation_1-mae:15501401088.00000\n",
      "[399]\tvalidation_0-rmse:482129216.00000\tvalidation_0-mae:50484296.00000\tvalidation_1-rmse:35125211136.00000\tvalidation_1-mae:15501332480.00000\n",
      "[400]\tvalidation_0-rmse:482298912.00000\tvalidation_0-mae:50525104.00000\tvalidation_1-rmse:35125256192.00000\tvalidation_1-mae:15501473792.00000\n",
      "[401]\tvalidation_0-rmse:482433344.00000\tvalidation_0-mae:50517272.00000\tvalidation_1-rmse:35125170176.00000\tvalidation_1-mae:15501275136.00000\n",
      "[402]\tvalidation_0-rmse:481935872.00000\tvalidation_0-mae:50467040.00000\tvalidation_1-rmse:35125166080.00000\tvalidation_1-mae:15501244416.00000\n",
      "[403]\tvalidation_0-rmse:482444800.00000\tvalidation_0-mae:50494520.00000\tvalidation_1-rmse:35125354496.00000\tvalidation_1-mae:15501555712.00000\n",
      "[404]\tvalidation_0-rmse:482601792.00000\tvalidation_0-mae:50515908.00000\tvalidation_1-rmse:35125239808.00000\tvalidation_1-mae:15501737984.00000\n",
      "[405]\tvalidation_0-rmse:482518400.00000\tvalidation_0-mae:50477716.00000\tvalidation_1-rmse:35125276672.00000\tvalidation_1-mae:15501780992.00000\n",
      "[406]\tvalidation_0-rmse:482323904.00000\tvalidation_0-mae:50439436.00000\tvalidation_1-rmse:35125260288.00000\tvalidation_1-mae:15501734912.00000\n",
      "[407]\tvalidation_0-rmse:482424224.00000\tvalidation_0-mae:50392356.00000\tvalidation_1-rmse:35125219328.00000\tvalidation_1-mae:15501587456.00000\n",
      "[408]\tvalidation_0-rmse:482034496.00000\tvalidation_0-mae:50366032.00000\tvalidation_1-rmse:35125186560.00000\tvalidation_1-mae:15501464576.00000\n",
      "[409]\tvalidation_0-rmse:481857760.00000\tvalidation_0-mae:50310188.00000\tvalidation_1-rmse:35125100544.00000\tvalidation_1-mae:15501499392.00000\n",
      "[410]\tvalidation_0-rmse:481908640.00000\tvalidation_0-mae:50248056.00000\tvalidation_1-rmse:35125067776.00000\tvalidation_1-mae:15501533184.00000\n",
      "[411]\tvalidation_0-rmse:482037536.00000\tvalidation_0-mae:50220804.00000\tvalidation_1-rmse:35125116928.00000\tvalidation_1-mae:15501499392.00000\n",
      "[412]\tvalidation_0-rmse:482115360.00000\tvalidation_0-mae:50175320.00000\tvalidation_1-rmse:35125125120.00000\tvalidation_1-mae:15501544448.00000\n",
      "[413]\tvalidation_0-rmse:481841472.00000\tvalidation_0-mae:50094824.00000\tvalidation_1-rmse:35125051392.00000\tvalidation_1-mae:15501410304.00000\n",
      "[414]\tvalidation_0-rmse:481902624.00000\tvalidation_0-mae:50040640.00000\tvalidation_1-rmse:35125088256.00000\tvalidation_1-mae:15501393920.00000\n",
      "[415]\tvalidation_0-rmse:481669920.00000\tvalidation_0-mae:49947220.00000\tvalidation_1-rmse:35125051392.00000\tvalidation_1-mae:15501380608.00000\n",
      "[416]\tvalidation_0-rmse:481564064.00000\tvalidation_0-mae:49959592.00000\tvalidation_1-rmse:35125071872.00000\tvalidation_1-mae:15501350912.00000\n",
      "[417]\tvalidation_0-rmse:481949728.00000\tvalidation_0-mae:50060396.00000\tvalidation_1-rmse:35125149696.00000\tvalidation_1-mae:15501500416.00000\n",
      "[418]\tvalidation_0-rmse:481974816.00000\tvalidation_0-mae:50014668.00000\tvalidation_1-rmse:35125153792.00000\tvalidation_1-mae:15501462528.00000\n",
      "[419]\tvalidation_0-rmse:481940448.00000\tvalidation_0-mae:50109784.00000\tvalidation_1-rmse:35125116928.00000\tvalidation_1-mae:15501366272.00000\n",
      "[420]\tvalidation_0-rmse:482227744.00000\tvalidation_0-mae:50054604.00000\tvalidation_1-rmse:35125088256.00000\tvalidation_1-mae:15501262848.00000\n",
      "[421]\tvalidation_0-rmse:482602368.00000\tvalidation_0-mae:50148680.00000\tvalidation_1-rmse:35125157888.00000\tvalidation_1-mae:15501456384.00000\n",
      "[422]\tvalidation_0-rmse:482796608.00000\tvalidation_0-mae:50125152.00000\tvalidation_1-rmse:35125141504.00000\tvalidation_1-mae:15501508608.00000\n",
      "[423]\tvalidation_0-rmse:482768128.00000\tvalidation_0-mae:50155432.00000\tvalidation_1-rmse:35125145600.00000\tvalidation_1-mae:15501622272.00000\n",
      "[424]\tvalidation_0-rmse:482700512.00000\tvalidation_0-mae:50096448.00000\tvalidation_1-rmse:35125166080.00000\tvalidation_1-mae:15501625344.00000\n",
      "[425]\tvalidation_0-rmse:482171104.00000\tvalidation_0-mae:50144608.00000\tvalidation_1-rmse:35125116928.00000\tvalidation_1-mae:15501522944.00000\n",
      "[426]\tvalidation_0-rmse:482153696.00000\tvalidation_0-mae:50176536.00000\tvalidation_1-rmse:35125248000.00000\tvalidation_1-mae:15501485056.00000\n",
      "[427]\tvalidation_0-rmse:482814944.00000\tvalidation_0-mae:50190708.00000\tvalidation_1-rmse:35125350400.00000\tvalidation_1-mae:15501700096.00000\n",
      "[428]\tvalidation_0-rmse:482864512.00000\tvalidation_0-mae:50214540.00000\tvalidation_1-rmse:35125309440.00000\tvalidation_1-mae:15501544448.00000\n",
      "[429]\tvalidation_0-rmse:483075040.00000\tvalidation_0-mae:50174644.00000\tvalidation_1-rmse:35125317632.00000\tvalidation_1-mae:15501682688.00000\n",
      "[430]\tvalidation_0-rmse:483597344.00000\tvalidation_0-mae:50134536.00000\tvalidation_1-rmse:35125321728.00000\tvalidation_1-mae:15501826048.00000\n",
      "[431]\tvalidation_0-rmse:483493664.00000\tvalidation_0-mae:50159700.00000\tvalidation_1-rmse:35125231616.00000\tvalidation_1-mae:15501746176.00000\n",
      "[432]\tvalidation_0-rmse:484030496.00000\tvalidation_0-mae:50252740.00000\tvalidation_1-rmse:35125084160.00000\tvalidation_1-mae:15501494272.00000\n",
      "[433]\tvalidation_0-rmse:483427136.00000\tvalidation_0-mae:50283416.00000\tvalidation_1-rmse:35125112832.00000\tvalidation_1-mae:15501412352.00000\n",
      "[434]\tvalidation_0-rmse:483426560.00000\tvalidation_0-mae:50235768.00000\tvalidation_1-rmse:35125268480.00000\tvalidation_1-mae:15501593600.00000\n",
      "[435]\tvalidation_0-rmse:484125728.00000\tvalidation_0-mae:50231948.00000\tvalidation_1-rmse:35125293056.00000\tvalidation_1-mae:15501568000.00000\n",
      "[436]\tvalidation_0-rmse:484899104.00000\tvalidation_0-mae:50321180.00000\tvalidation_1-rmse:35125256192.00000\tvalidation_1-mae:15501801472.00000\n",
      "[437]\tvalidation_0-rmse:484416384.00000\tvalidation_0-mae:50319204.00000\tvalidation_1-rmse:35125280768.00000\tvalidation_1-mae:15501880320.00000\n",
      "[438]\tvalidation_0-rmse:484301984.00000\tvalidation_0-mae:50308916.00000\tvalidation_1-rmse:35125260288.00000\tvalidation_1-mae:15501754368.00000\n",
      "[439]\tvalidation_0-rmse:484466528.00000\tvalidation_0-mae:50281604.00000\tvalidation_1-rmse:35125223424.00000\tvalidation_1-mae:15501746176.00000\n",
      "[440]\tvalidation_0-rmse:483568192.00000\tvalidation_0-mae:50221616.00000\tvalidation_1-rmse:35125182464.00000\tvalidation_1-mae:15501672448.00000\n",
      "[441]\tvalidation_0-rmse:483080384.00000\tvalidation_0-mae:50244480.00000\tvalidation_1-rmse:35125186560.00000\tvalidation_1-mae:15501584384.00000\n",
      "[442]\tvalidation_0-rmse:482930464.00000\tvalidation_0-mae:50235020.00000\tvalidation_1-rmse:35124985856.00000\tvalidation_1-mae:15501622272.00000\n",
      "[443]\tvalidation_0-rmse:483143776.00000\tvalidation_0-mae:50162628.00000\tvalidation_1-rmse:35124961280.00000\tvalidation_1-mae:15501564928.00000\n",
      "[444]\tvalidation_0-rmse:483103456.00000\tvalidation_0-mae:50124620.00000\tvalidation_1-rmse:35124912128.00000\tvalidation_1-mae:15501104128.00000\n",
      "[445]\tvalidation_0-rmse:482766784.00000\tvalidation_0-mae:50233136.00000\tvalidation_1-rmse:35124854784.00000\tvalidation_1-mae:15500929024.00000\n",
      "[446]\tvalidation_0-rmse:483249248.00000\tvalidation_0-mae:50205152.00000\tvalidation_1-rmse:35124891648.00000\tvalidation_1-mae:15500985344.00000\n",
      "[447]\tvalidation_0-rmse:483009760.00000\tvalidation_0-mae:50163160.00000\tvalidation_1-rmse:35124871168.00000\tvalidation_1-mae:15500828672.00000\n",
      "[448]\tvalidation_0-rmse:482750592.00000\tvalidation_0-mae:50129340.00000\tvalidation_1-rmse:35124867072.00000\tvalidation_1-mae:15500917760.00000\n",
      "[449]\tvalidation_0-rmse:483293376.00000\tvalidation_0-mae:50205496.00000\tvalidation_1-rmse:35124887552.00000\tvalidation_1-mae:15501122560.00000\n",
      "[450]\tvalidation_0-rmse:483802528.00000\tvalidation_0-mae:50158176.00000\tvalidation_1-rmse:35124854784.00000\tvalidation_1-mae:15500985344.00000\n",
      "[451]\tvalidation_0-rmse:483690752.00000\tvalidation_0-mae:50166108.00000\tvalidation_1-rmse:35124994048.00000\tvalidation_1-mae:15500988416.00000\n",
      "[452]\tvalidation_0-rmse:483319040.00000\tvalidation_0-mae:50186888.00000\tvalidation_1-rmse:35124977664.00000\tvalidation_1-mae:15500881920.00000\n",
      "[453]\tvalidation_0-rmse:483187616.00000\tvalidation_0-mae:50181708.00000\tvalidation_1-rmse:35125075968.00000\tvalidation_1-mae:15501008896.00000\n",
      "[454]\tvalidation_0-rmse:482828736.00000\tvalidation_0-mae:50148764.00000\tvalidation_1-rmse:35125080064.00000\tvalidation_1-mae:15500752896.00000\n",
      "[455]\tvalidation_0-rmse:483165952.00000\tvalidation_0-mae:50132208.00000\tvalidation_1-rmse:35125198848.00000\tvalidation_1-mae:15500929024.00000\n",
      "[456]\tvalidation_0-rmse:483264064.00000\tvalidation_0-mae:50073628.00000\tvalidation_1-rmse:35125202944.00000\tvalidation_1-mae:15500938240.00000\n",
      "[457]\tvalidation_0-rmse:482921024.00000\tvalidation_0-mae:50085320.00000\tvalidation_1-rmse:35125239808.00000\tvalidation_1-mae:15500973056.00000\n",
      "[458]\tvalidation_0-rmse:482515264.00000\tvalidation_0-mae:50066928.00000\tvalidation_1-rmse:35125248000.00000\tvalidation_1-mae:15501087744.00000\n",
      "[459]\tvalidation_0-rmse:482314304.00000\tvalidation_0-mae:50110028.00000\tvalidation_1-rmse:35125276672.00000\tvalidation_1-mae:15501262848.00000\n",
      "[460]\tvalidation_0-rmse:482296288.00000\tvalidation_0-mae:50149856.00000\tvalidation_1-rmse:35125284864.00000\tvalidation_1-mae:15501451264.00000\n",
      "[461]\tvalidation_0-rmse:482552704.00000\tvalidation_0-mae:50115704.00000\tvalidation_1-rmse:35125272576.00000\tvalidation_1-mae:15501410304.00000\n",
      "[462]\tvalidation_0-rmse:482349536.00000\tvalidation_0-mae:50136536.00000\tvalidation_1-rmse:35125301248.00000\tvalidation_1-mae:15501470720.00000\n",
      "[463]\tvalidation_0-rmse:482400512.00000\tvalidation_0-mae:50042488.00000\tvalidation_1-rmse:35125260288.00000\tvalidation_1-mae:15501330432.00000\n",
      "[464]\tvalidation_0-rmse:482300800.00000\tvalidation_0-mae:50039936.00000\tvalidation_1-rmse:35125202944.00000\tvalidation_1-mae:15501350912.00000\n",
      "[465]\tvalidation_0-rmse:482525536.00000\tvalidation_0-mae:50025136.00000\tvalidation_1-rmse:35125108736.00000\tvalidation_1-mae:15501247488.00000\n",
      "[466]\tvalidation_0-rmse:482317952.00000\tvalidation_0-mae:50033740.00000\tvalidation_1-rmse:35125051392.00000\tvalidation_1-mae:15501114368.00000\n",
      "[467]\tvalidation_0-rmse:481982944.00000\tvalidation_0-mae:50050636.00000\tvalidation_1-rmse:35125014528.00000\tvalidation_1-mae:15501257728.00000\n",
      "[468]\tvalidation_0-rmse:482385280.00000\tvalidation_0-mae:50112220.00000\tvalidation_1-rmse:35125080064.00000\tvalidation_1-mae:15501353984.00000\n",
      "[469]\tvalidation_0-rmse:482587520.00000\tvalidation_0-mae:50115976.00000\tvalidation_1-rmse:35125100544.00000\tvalidation_1-mae:15501379584.00000\n",
      "[470]\tvalidation_0-rmse:482705536.00000\tvalidation_0-mae:50077848.00000\tvalidation_1-rmse:35125051392.00000\tvalidation_1-mae:15501404160.00000\n",
      "[471]\tvalidation_0-rmse:482756704.00000\tvalidation_0-mae:50100524.00000\tvalidation_1-rmse:35125026816.00000\tvalidation_1-mae:15501420544.00000\n",
      "[472]\tvalidation_0-rmse:482420608.00000\tvalidation_0-mae:50061324.00000\tvalidation_1-rmse:35124998144.00000\tvalidation_1-mae:15501418496.00000\n",
      "[473]\tvalidation_0-rmse:482424352.00000\tvalidation_0-mae:50078484.00000\tvalidation_1-rmse:35124858880.00000\tvalidation_1-mae:15501470720.00000\n",
      "[474]\tvalidation_0-rmse:482905248.00000\tvalidation_0-mae:50080600.00000\tvalidation_1-rmse:35124891648.00000\tvalidation_1-mae:15501675520.00000\n",
      "[475]\tvalidation_0-rmse:483239360.00000\tvalidation_0-mae:50136372.00000\tvalidation_1-rmse:35124891648.00000\tvalidation_1-mae:15501564928.00000\n",
      "[476]\tvalidation_0-rmse:482843776.00000\tvalidation_0-mae:50104528.00000\tvalidation_1-rmse:35124895744.00000\tvalidation_1-mae:15501612032.00000\n",
      "[477]\tvalidation_0-rmse:483287200.00000\tvalidation_0-mae:50018424.00000\tvalidation_1-rmse:35124928512.00000\tvalidation_1-mae:15501401088.00000\n",
      "[478]\tvalidation_0-rmse:483485184.00000\tvalidation_0-mae:49981032.00000\tvalidation_1-rmse:35125002240.00000\tvalidation_1-mae:15501646848.00000\n",
      "[479]\tvalidation_0-rmse:483319296.00000\tvalidation_0-mae:49969448.00000\tvalidation_1-rmse:35124924416.00000\tvalidation_1-mae:15501526016.00000\n",
      "[480]\tvalidation_0-rmse:483120800.00000\tvalidation_0-mae:50050148.00000\tvalidation_1-rmse:35124932608.00000\tvalidation_1-mae:15501632512.00000\n",
      "[481]\tvalidation_0-rmse:483530784.00000\tvalidation_0-mae:50069572.00000\tvalidation_1-rmse:35124985856.00000\tvalidation_1-mae:15501666304.00000\n",
      "[482]\tvalidation_0-rmse:483417376.00000\tvalidation_0-mae:50061496.00000\tvalidation_1-rmse:35125002240.00000\tvalidation_1-mae:15501448192.00000\n",
      "[483]\tvalidation_0-rmse:483520576.00000\tvalidation_0-mae:50038292.00000\tvalidation_1-rmse:35124985856.00000\tvalidation_1-mae:15501345792.00000\n",
      "[484]\tvalidation_0-rmse:483409952.00000\tvalidation_0-mae:50186076.00000\tvalidation_1-rmse:35125067776.00000\tvalidation_1-mae:15501426688.00000\n",
      "[485]\tvalidation_0-rmse:483561248.00000\tvalidation_0-mae:50133760.00000\tvalidation_1-rmse:35125067776.00000\tvalidation_1-mae:15501415424.00000\n",
      "[486]\tvalidation_0-rmse:483810368.00000\tvalidation_0-mae:50152508.00000\tvalidation_1-rmse:35125125120.00000\tvalidation_1-mae:15501618176.00000\n",
      "[487]\tvalidation_0-rmse:483472320.00000\tvalidation_0-mae:50226084.00000\tvalidation_1-rmse:35125108736.00000\tvalidation_1-mae:15501662208.00000\n",
      "[488]\tvalidation_0-rmse:483233600.00000\tvalidation_0-mae:50212116.00000\tvalidation_1-rmse:35125084160.00000\tvalidation_1-mae:15501581312.00000\n",
      "[489]\tvalidation_0-rmse:483089888.00000\tvalidation_0-mae:50166320.00000\tvalidation_1-rmse:35125096448.00000\tvalidation_1-mae:15501634560.00000\n",
      "[490]\tvalidation_0-rmse:482326016.00000\tvalidation_0-mae:50187600.00000\tvalidation_1-rmse:35125170176.00000\tvalidation_1-mae:15501615104.00000\n",
      "[491]\tvalidation_0-rmse:482296448.00000\tvalidation_0-mae:50168196.00000\tvalidation_1-rmse:35125067776.00000\tvalidation_1-mae:15501385728.00000\n",
      "[492]\tvalidation_0-rmse:482467296.00000\tvalidation_0-mae:50113288.00000\tvalidation_1-rmse:35125194752.00000\tvalidation_1-mae:15501522944.00000\n",
      "[493]\tvalidation_0-rmse:482193024.00000\tvalidation_0-mae:50084052.00000\tvalidation_1-rmse:35125186560.00000\tvalidation_1-mae:15501426688.00000\n",
      "[494]\tvalidation_0-rmse:482377856.00000\tvalidation_0-mae:50149396.00000\tvalidation_1-rmse:35125149696.00000\tvalidation_1-mae:15501344768.00000\n",
      "[495]\tvalidation_0-rmse:482459968.00000\tvalidation_0-mae:50156920.00000\tvalidation_1-rmse:35125207040.00000\tvalidation_1-mae:15501429760.00000\n",
      "[496]\tvalidation_0-rmse:482611008.00000\tvalidation_0-mae:50129052.00000\tvalidation_1-rmse:35125157888.00000\tvalidation_1-mae:15501476864.00000\n",
      "[497]\tvalidation_0-rmse:482761280.00000\tvalidation_0-mae:50100420.00000\tvalidation_1-rmse:35125190656.00000\tvalidation_1-mae:15501576192.00000\n",
      "[498]\tvalidation_0-rmse:482538624.00000\tvalidation_0-mae:50076632.00000\tvalidation_1-rmse:35125137408.00000\tvalidation_1-mae:15501526016.00000\n",
      "[499]\tvalidation_0-rmse:482663232.00000\tvalidation_0-mae:50101544.00000\tvalidation_1-rmse:35125149696.00000\tvalidation_1-mae:15501566976.00000\n",
      "[500]\tvalidation_0-rmse:482744864.00000\tvalidation_0-mae:50105572.00000\tvalidation_1-rmse:35125145600.00000\tvalidation_1-mae:15501604864.00000\n",
      "[501]\tvalidation_0-rmse:482603008.00000\tvalidation_0-mae:50159760.00000\tvalidation_1-rmse:35125248000.00000\tvalidation_1-mae:15501769728.00000\n",
      "[502]\tvalidation_0-rmse:482186144.00000\tvalidation_0-mae:50150416.00000\tvalidation_1-rmse:35125305344.00000\tvalidation_1-mae:15501914112.00000\n",
      "[503]\tvalidation_0-rmse:482361984.00000\tvalidation_0-mae:50153208.00000\tvalidation_1-rmse:35125358592.00000\tvalidation_1-mae:15502045184.00000\n",
      "[504]\tvalidation_0-rmse:482452416.00000\tvalidation_0-mae:50219448.00000\tvalidation_1-rmse:35125264384.00000\tvalidation_1-mae:15501873152.00000\n",
      "[505]\tvalidation_0-rmse:482559072.00000\tvalidation_0-mae:50296364.00000\tvalidation_1-rmse:35125383168.00000\tvalidation_1-mae:15501890560.00000\n",
      "[506]\tvalidation_0-rmse:483136640.00000\tvalidation_0-mae:50293756.00000\tvalidation_1-rmse:35125370880.00000\tvalidation_1-mae:15501854720.00000\n",
      "[507]\tvalidation_0-rmse:482831136.00000\tvalidation_0-mae:50234648.00000\tvalidation_1-rmse:35125395456.00000\tvalidation_1-mae:15501919232.00000\n",
      "[508]\tvalidation_0-rmse:482945824.00000\tvalidation_0-mae:50273556.00000\tvalidation_1-rmse:35125370880.00000\tvalidation_1-mae:15501785088.00000\n",
      "[509]\tvalidation_0-rmse:482998336.00000\tvalidation_0-mae:50247372.00000\tvalidation_1-rmse:35125506048.00000\tvalidation_1-mae:15501992960.00000\n",
      "[510]\tvalidation_0-rmse:483203776.00000\tvalidation_0-mae:50296692.00000\tvalidation_1-rmse:35125555200.00000\tvalidation_1-mae:15501968384.00000\n",
      "[511]\tvalidation_0-rmse:482641440.00000\tvalidation_0-mae:50280268.00000\tvalidation_1-rmse:35125563392.00000\tvalidation_1-mae:15502039040.00000\n",
      "[512]\tvalidation_0-rmse:482492192.00000\tvalidation_0-mae:50252100.00000\tvalidation_1-rmse:35125616640.00000\tvalidation_1-mae:15502030848.00000\n",
      "[513]\tvalidation_0-rmse:482941600.00000\tvalidation_0-mae:50222476.00000\tvalidation_1-rmse:35125678080.00000\tvalidation_1-mae:15501989888.00000\n",
      "[514]\tvalidation_0-rmse:483008960.00000\tvalidation_0-mae:50190060.00000\tvalidation_1-rmse:35125665792.00000\tvalidation_1-mae:15501927424.00000\n",
      "[515]\tvalidation_0-rmse:482800768.00000\tvalidation_0-mae:50137256.00000\tvalidation_1-rmse:35125493760.00000\tvalidation_1-mae:15501822976.00000\n",
      "[516]\tvalidation_0-rmse:482748960.00000\tvalidation_0-mae:50106344.00000\tvalidation_1-rmse:35125473280.00000\tvalidation_1-mae:15501728768.00000\n",
      "[517]\tvalidation_0-rmse:482509504.00000\tvalidation_0-mae:50034820.00000\tvalidation_1-rmse:35125436416.00000\tvalidation_1-mae:15501573120.00000\n",
      "[518]\tvalidation_0-rmse:482893856.00000\tvalidation_0-mae:50044796.00000\tvalidation_1-rmse:35125493760.00000\tvalidation_1-mae:15501540352.00000\n",
      "[519]\tvalidation_0-rmse:483080832.00000\tvalidation_0-mae:50073000.00000\tvalidation_1-rmse:35125583872.00000\tvalidation_1-mae:15501634560.00000\n",
      "[520]\tvalidation_0-rmse:482733472.00000\tvalidation_0-mae:50063148.00000\tvalidation_1-rmse:35125538816.00000\tvalidation_1-mae:15501670400.00000\n",
      "[521]\tvalidation_0-rmse:483554368.00000\tvalidation_0-mae:50133248.00000\tvalidation_1-rmse:35125592064.00000\tvalidation_1-mae:15501772800.00000\n",
      "[522]\tvalidation_0-rmse:483418624.00000\tvalidation_0-mae:50112552.00000\tvalidation_1-rmse:35125620736.00000\tvalidation_1-mae:15501881344.00000\n",
      "[523]\tvalidation_0-rmse:483992128.00000\tvalidation_0-mae:50191020.00000\tvalidation_1-rmse:35125649408.00000\tvalidation_1-mae:15502191616.00000\n",
      "[524]\tvalidation_0-rmse:483961056.00000\tvalidation_0-mae:50233268.00000\tvalidation_1-rmse:35125637120.00000\tvalidation_1-mae:15502121984.00000\n",
      "[525]\tvalidation_0-rmse:483702848.00000\tvalidation_0-mae:50229960.00000\tvalidation_1-rmse:35125673984.00000\tvalidation_1-mae:15502153728.00000\n",
      "[526]\tvalidation_0-rmse:484185856.00000\tvalidation_0-mae:50215112.00000\tvalidation_1-rmse:35125682176.00000\tvalidation_1-mae:15501969408.00000\n",
      "[527]\tvalidation_0-rmse:484472320.00000\tvalidation_0-mae:50241760.00000\tvalidation_1-rmse:35125792768.00000\tvalidation_1-mae:15501950976.00000\n",
      "[528]\tvalidation_0-rmse:483601728.00000\tvalidation_0-mae:50191984.00000\tvalidation_1-rmse:35125829632.00000\tvalidation_1-mae:15502065664.00000\n",
      "[529]\tvalidation_0-rmse:483442976.00000\tvalidation_0-mae:50222188.00000\tvalidation_1-rmse:35125719040.00000\tvalidation_1-mae:15502044160.00000\n",
      "[530]\tvalidation_0-rmse:483489568.00000\tvalidation_0-mae:50156012.00000\tvalidation_1-rmse:35125739520.00000\tvalidation_1-mae:15502103552.00000\n",
      "[531]\tvalidation_0-rmse:483508160.00000\tvalidation_0-mae:50073940.00000\tvalidation_1-rmse:35125772288.00000\tvalidation_1-mae:15502155776.00000\n",
      "[532]\tvalidation_0-rmse:483760992.00000\tvalidation_0-mae:50086464.00000\tvalidation_1-rmse:35125743616.00000\tvalidation_1-mae:15502127104.00000\n",
      "[533]\tvalidation_0-rmse:483463008.00000\tvalidation_0-mae:50072744.00000\tvalidation_1-rmse:35125776384.00000\tvalidation_1-mae:15502326784.00000\n",
      "[534]\tvalidation_0-rmse:483915200.00000\tvalidation_0-mae:50042448.00000\tvalidation_1-rmse:35125874688.00000\tvalidation_1-mae:15502264320.00000\n",
      "[535]\tvalidation_0-rmse:483976608.00000\tvalidation_0-mae:50046368.00000\tvalidation_1-rmse:35125837824.00000\tvalidation_1-mae:15502191616.00000\n",
      "[536]\tvalidation_0-rmse:483894048.00000\tvalidation_0-mae:49949536.00000\tvalidation_1-rmse:35125837824.00000\tvalidation_1-mae:15502261248.00000\n",
      "[537]\tvalidation_0-rmse:483811872.00000\tvalidation_0-mae:50004192.00000\tvalidation_1-rmse:35125850112.00000\tvalidation_1-mae:15502352384.00000\n",
      "[538]\tvalidation_0-rmse:482833024.00000\tvalidation_0-mae:49992040.00000\tvalidation_1-rmse:35125768192.00000\tvalidation_1-mae:15502174208.00000\n",
      "[539]\tvalidation_0-rmse:483844512.00000\tvalidation_0-mae:50102272.00000\tvalidation_1-rmse:35125821440.00000\tvalidation_1-mae:15502258176.00000\n",
      "[540]\tvalidation_0-rmse:483879168.00000\tvalidation_0-mae:50071484.00000\tvalidation_1-rmse:35125805056.00000\tvalidation_1-mae:15502443520.00000\n",
      "[541]\tvalidation_0-rmse:483955744.00000\tvalidation_0-mae:50093272.00000\tvalidation_1-rmse:35125825536.00000\tvalidation_1-mae:15502671872.00000\n",
      "[542]\tvalidation_0-rmse:484056576.00000\tvalidation_0-mae:50123096.00000\tvalidation_1-rmse:35125915648.00000\tvalidation_1-mae:15502751744.00000\n",
      "[543]\tvalidation_0-rmse:483201952.00000\tvalidation_0-mae:50185632.00000\tvalidation_1-rmse:35125919744.00000\tvalidation_1-mae:15502809088.00000\n",
      "[544]\tvalidation_0-rmse:483151200.00000\tvalidation_0-mae:50163272.00000\tvalidation_1-rmse:35125858304.00000\tvalidation_1-mae:15502654464.00000\n",
      "[545]\tvalidation_0-rmse:483582976.00000\tvalidation_0-mae:50086908.00000\tvalidation_1-rmse:35126104064.00000\tvalidation_1-mae:15502839808.00000\n",
      "[546]\tvalidation_0-rmse:483358784.00000\tvalidation_0-mae:50103080.00000\tvalidation_1-rmse:35126169600.00000\tvalidation_1-mae:15502874624.00000\n",
      "[547]\tvalidation_0-rmse:482791904.00000\tvalidation_0-mae:50103396.00000\tvalidation_1-rmse:35126185984.00000\tvalidation_1-mae:15503029248.00000\n",
      "[548]\tvalidation_0-rmse:483574784.00000\tvalidation_0-mae:50179392.00000\tvalidation_1-rmse:35126132736.00000\tvalidation_1-mae:15502929920.00000\n",
      "[549]\tvalidation_0-rmse:483400064.00000\tvalidation_0-mae:50103348.00000\tvalidation_1-rmse:35126018048.00000\tvalidation_1-mae:15502733312.00000\n",
      "[550]\tvalidation_0-rmse:482978592.00000\tvalidation_0-mae:50039036.00000\tvalidation_1-rmse:35126026240.00000\tvalidation_1-mae:15502798848.00000\n",
      "[551]\tvalidation_0-rmse:483381248.00000\tvalidation_0-mae:50082392.00000\tvalidation_1-rmse:35125874688.00000\tvalidation_1-mae:15502417920.00000\n",
      "[552]\tvalidation_0-rmse:483685088.00000\tvalidation_0-mae:50106736.00000\tvalidation_1-rmse:35125886976.00000\tvalidation_1-mae:15502593024.00000\n",
      "[553]\tvalidation_0-rmse:483315424.00000\tvalidation_0-mae:50117344.00000\tvalidation_1-rmse:35125821440.00000\tvalidation_1-mae:15502346240.00000\n",
      "[554]\tvalidation_0-rmse:483484704.00000\tvalidation_0-mae:50117232.00000\tvalidation_1-rmse:35125907456.00000\tvalidation_1-mae:15502578688.00000\n",
      "[555]\tvalidation_0-rmse:482909120.00000\tvalidation_0-mae:50211080.00000\tvalidation_1-rmse:35125817344.00000\tvalidation_1-mae:15502443520.00000\n",
      "[556]\tvalidation_0-rmse:482550176.00000\tvalidation_0-mae:50169636.00000\tvalidation_1-rmse:35125760000.00000\tvalidation_1-mae:15502382080.00000\n",
      "[557]\tvalidation_0-rmse:482846368.00000\tvalidation_0-mae:50144944.00000\tvalidation_1-rmse:35125743616.00000\tvalidation_1-mae:15502472192.00000\n",
      "[558]\tvalidation_0-rmse:482649056.00000\tvalidation_0-mae:50071168.00000\tvalidation_1-rmse:35125788672.00000\tvalidation_1-mae:15502475264.00000\n",
      "[559]\tvalidation_0-rmse:482235008.00000\tvalidation_0-mae:50015512.00000\tvalidation_1-rmse:35125653504.00000\tvalidation_1-mae:15502458880.00000\n",
      "[560]\tvalidation_0-rmse:482494720.00000\tvalidation_0-mae:50054232.00000\tvalidation_1-rmse:35125637120.00000\tvalidation_1-mae:15502519296.00000\n",
      "[561]\tvalidation_0-rmse:482421600.00000\tvalidation_0-mae:49995820.00000\tvalidation_1-rmse:35125542912.00000\tvalidation_1-mae:15502410752.00000\n",
      "[562]\tvalidation_0-rmse:482828512.00000\tvalidation_0-mae:50066152.00000\tvalidation_1-rmse:35125690368.00000\tvalidation_1-mae:15502707712.00000\n",
      "[563]\tvalidation_0-rmse:483761216.00000\tvalidation_0-mae:50033052.00000\tvalidation_1-rmse:35125612544.00000\tvalidation_1-mae:15502470144.00000\n",
      "[564]\tvalidation_0-rmse:482918176.00000\tvalidation_0-mae:49981344.00000\tvalidation_1-rmse:35125563392.00000\tvalidation_1-mae:15502493696.00000\n",
      "[565]\tvalidation_0-rmse:482526464.00000\tvalidation_0-mae:49902764.00000\tvalidation_1-rmse:35125559296.00000\tvalidation_1-mae:15502706688.00000\n",
      "[566]\tvalidation_0-rmse:482420416.00000\tvalidation_0-mae:49897612.00000\tvalidation_1-rmse:35125551104.00000\tvalidation_1-mae:15502666752.00000\n",
      "[567]\tvalidation_0-rmse:482665728.00000\tvalidation_0-mae:49866992.00000\tvalidation_1-rmse:35125542912.00000\tvalidation_1-mae:15502653440.00000\n",
      "[568]\tvalidation_0-rmse:483341664.00000\tvalidation_0-mae:49851328.00000\tvalidation_1-rmse:35125452800.00000\tvalidation_1-mae:15502651392.00000\n",
      "[569]\tvalidation_0-rmse:483714400.00000\tvalidation_0-mae:50021636.00000\tvalidation_1-rmse:35125596160.00000\tvalidation_1-mae:15502874624.00000\n",
      "[570]\tvalidation_0-rmse:483455968.00000\tvalidation_0-mae:50070172.00000\tvalidation_1-rmse:35125624832.00000\tvalidation_1-mae:15502976000.00000\n",
      "[571]\tvalidation_0-rmse:483186464.00000\tvalidation_0-mae:50041972.00000\tvalidation_1-rmse:35125596160.00000\tvalidation_1-mae:15502942208.00000\n",
      "[572]\tvalidation_0-rmse:482657152.00000\tvalidation_0-mae:50027264.00000\tvalidation_1-rmse:35125628928.00000\tvalidation_1-mae:15503035392.00000\n",
      "[573]\tvalidation_0-rmse:482782880.00000\tvalidation_0-mae:50002500.00000\tvalidation_1-rmse:35125673984.00000\tvalidation_1-mae:15503129600.00000\n",
      "[574]\tvalidation_0-rmse:482515808.00000\tvalidation_0-mae:50064956.00000\tvalidation_1-rmse:35125743616.00000\tvalidation_1-mae:15503173632.00000\n",
      "[575]\tvalidation_0-rmse:482478304.00000\tvalidation_0-mae:50033372.00000\tvalidation_1-rmse:35125714944.00000\tvalidation_1-mae:15503167488.00000\n",
      "[576]\tvalidation_0-rmse:483277440.00000\tvalidation_0-mae:50092480.00000\tvalidation_1-rmse:35125780480.00000\tvalidation_1-mae:15503184896.00000\n",
      "[577]\tvalidation_0-rmse:483422912.00000\tvalidation_0-mae:50065084.00000\tvalidation_1-rmse:35125743616.00000\tvalidation_1-mae:15503135744.00000\n",
      "[578]\tvalidation_0-rmse:484116128.00000\tvalidation_0-mae:50029488.00000\tvalidation_1-rmse:35125747712.00000\tvalidation_1-mae:15503142912.00000\n",
      "[579]\tvalidation_0-rmse:484116096.00000\tvalidation_0-mae:50044008.00000\tvalidation_1-rmse:35125719040.00000\tvalidation_1-mae:15503240192.00000\n",
      "[580]\tvalidation_0-rmse:483849312.00000\tvalidation_0-mae:50000840.00000\tvalidation_1-rmse:35125563392.00000\tvalidation_1-mae:15503284224.00000\n",
      "[581]\tvalidation_0-rmse:484063392.00000\tvalidation_0-mae:50097060.00000\tvalidation_1-rmse:35125456896.00000\tvalidation_1-mae:15503187968.00000\n",
      "[582]\tvalidation_0-rmse:483678912.00000\tvalidation_0-mae:50088632.00000\tvalidation_1-rmse:35125477376.00000\tvalidation_1-mae:15503190016.00000\n",
      "[583]\tvalidation_0-rmse:483738720.00000\tvalidation_0-mae:49983456.00000\tvalidation_1-rmse:35125415936.00000\tvalidation_1-mae:15503135744.00000\n",
      "[584]\tvalidation_0-rmse:483263872.00000\tvalidation_0-mae:49952892.00000\tvalidation_1-rmse:35125321728.00000\tvalidation_1-mae:15502947328.00000\n",
      "[585]\tvalidation_0-rmse:483721728.00000\tvalidation_0-mae:49988368.00000\tvalidation_1-rmse:35125260288.00000\tvalidation_1-mae:15502904320.00000\n",
      "[586]\tvalidation_0-rmse:484662112.00000\tvalidation_0-mae:49935288.00000\tvalidation_1-rmse:35125260288.00000\tvalidation_1-mae:15502848000.00000\n",
      "[587]\tvalidation_0-rmse:483877568.00000\tvalidation_0-mae:50022872.00000\tvalidation_1-rmse:35125211136.00000\tvalidation_1-mae:15502736384.00000\n",
      "[588]\tvalidation_0-rmse:483774464.00000\tvalidation_0-mae:50035716.00000\tvalidation_1-rmse:35125207040.00000\tvalidation_1-mae:15502683136.00000\n",
      "[589]\tvalidation_0-rmse:483364640.00000\tvalidation_0-mae:49998652.00000\tvalidation_1-rmse:35125227520.00000\tvalidation_1-mae:15502493696.00000\n",
      "[590]\tvalidation_0-rmse:483221248.00000\tvalidation_0-mae:49975164.00000\tvalidation_1-rmse:35125235712.00000\tvalidation_1-mae:15502560256.00000\n",
      "[591]\tvalidation_0-rmse:483772736.00000\tvalidation_0-mae:49921496.00000\tvalidation_1-rmse:35125301248.00000\tvalidation_1-mae:15502648320.00000\n",
      "[592]\tvalidation_0-rmse:484202400.00000\tvalidation_0-mae:49902208.00000\tvalidation_1-rmse:35125346304.00000\tvalidation_1-mae:15502680064.00000\n",
      "[593]\tvalidation_0-rmse:483955136.00000\tvalidation_0-mae:49879944.00000\tvalidation_1-rmse:35125391360.00000\tvalidation_1-mae:15502745600.00000\n",
      "[594]\tvalidation_0-rmse:483618400.00000\tvalidation_0-mae:49867636.00000\tvalidation_1-rmse:35125407744.00000\tvalidation_1-mae:15502944256.00000\n",
      "[595]\tvalidation_0-rmse:483530720.00000\tvalidation_0-mae:49944188.00000\tvalidation_1-rmse:35125379072.00000\tvalidation_1-mae:15502584832.00000\n",
      "[596]\tvalidation_0-rmse:483891808.00000\tvalidation_0-mae:49981200.00000\tvalidation_1-rmse:35125354496.00000\tvalidation_1-mae:15502769152.00000\n",
      "[597]\tvalidation_0-rmse:483848768.00000\tvalidation_0-mae:49933060.00000\tvalidation_1-rmse:35125190656.00000\tvalidation_1-mae:15502540800.00000\n",
      "[598]\tvalidation_0-rmse:483461920.00000\tvalidation_0-mae:49895568.00000\tvalidation_1-rmse:35125161984.00000\tvalidation_1-mae:15502610432.00000\n",
      "[599]\tvalidation_0-rmse:483611264.00000\tvalidation_0-mae:49930972.00000\tvalidation_1-rmse:35125141504.00000\tvalidation_1-mae:15502564352.00000\n",
      "[600]\tvalidation_0-rmse:483108096.00000\tvalidation_0-mae:49992688.00000\tvalidation_1-rmse:35125145600.00000\tvalidation_1-mae:15502627840.00000\n",
      "[601]\tvalidation_0-rmse:483088512.00000\tvalidation_0-mae:49967244.00000\tvalidation_1-rmse:35125153792.00000\tvalidation_1-mae:15502636032.00000\n",
      "[602]\tvalidation_0-rmse:483330048.00000\tvalidation_0-mae:49929676.00000\tvalidation_1-rmse:35125182464.00000\tvalidation_1-mae:15502613504.00000\n",
      "[603]\tvalidation_0-rmse:483763648.00000\tvalidation_0-mae:49893252.00000\tvalidation_1-rmse:35125186560.00000\tvalidation_1-mae:15502663680.00000\n",
      "[604]\tvalidation_0-rmse:484253344.00000\tvalidation_0-mae:49928144.00000\tvalidation_1-rmse:35125170176.00000\tvalidation_1-mae:15502557184.00000\n",
      "[605]\tvalidation_0-rmse:484511040.00000\tvalidation_0-mae:49976976.00000\tvalidation_1-rmse:35125133312.00000\tvalidation_1-mae:15502566400.00000\n",
      "[606]\tvalidation_0-rmse:483744320.00000\tvalidation_0-mae:49997756.00000\tvalidation_1-rmse:35125227520.00000\tvalidation_1-mae:15502527488.00000\n",
      "[607]\tvalidation_0-rmse:483206208.00000\tvalidation_0-mae:50031264.00000\tvalidation_1-rmse:35124965376.00000\tvalidation_1-mae:15502610432.00000\n",
      "[608]\tvalidation_0-rmse:482778272.00000\tvalidation_0-mae:50003396.00000\tvalidation_1-rmse:35124969472.00000\tvalidation_1-mae:15502701568.00000\n",
      "[609]\tvalidation_0-rmse:482239264.00000\tvalidation_0-mae:49967036.00000\tvalidation_1-rmse:35125022720.00000\tvalidation_1-mae:15502598144.00000\n",
      "[610]\tvalidation_0-rmse:482374848.00000\tvalidation_0-mae:49955404.00000\tvalidation_1-rmse:35124965376.00000\tvalidation_1-mae:15502493696.00000\n",
      "[611]\tvalidation_0-rmse:482255744.00000\tvalidation_0-mae:49930076.00000\tvalidation_1-rmse:35124932608.00000\tvalidation_1-mae:15502414848.00000\n",
      "[612]\tvalidation_0-rmse:482146592.00000\tvalidation_0-mae:49980008.00000\tvalidation_1-rmse:35124944896.00000\tvalidation_1-mae:15502449664.00000\n",
      "[613]\tvalidation_0-rmse:481926720.00000\tvalidation_0-mae:49969128.00000\tvalidation_1-rmse:35124916224.00000\tvalidation_1-mae:15502366720.00000\n",
      "[614]\tvalidation_0-rmse:481870464.00000\tvalidation_0-mae:49875176.00000\tvalidation_1-rmse:35124994048.00000\tvalidation_1-mae:15502514176.00000\n",
      "[615]\tvalidation_0-rmse:481891712.00000\tvalidation_0-mae:49876264.00000\tvalidation_1-rmse:35124916224.00000\tvalidation_1-mae:15502454784.00000\n",
      "[616]\tvalidation_0-rmse:481593888.00000\tvalidation_0-mae:49851732.00000\tvalidation_1-rmse:35124924416.00000\tvalidation_1-mae:15502443520.00000\n",
      "[617]\tvalidation_0-rmse:482024160.00000\tvalidation_0-mae:49988396.00000\tvalidation_1-rmse:35124858880.00000\tvalidation_1-mae:15502329856.00000\n",
      "[618]\tvalidation_0-rmse:482167424.00000\tvalidation_0-mae:50016416.00000\tvalidation_1-rmse:35124826112.00000\tvalidation_1-mae:15502460928.00000\n",
      "[619]\tvalidation_0-rmse:482125504.00000\tvalidation_0-mae:49992400.00000\tvalidation_1-rmse:35124846592.00000\tvalidation_1-mae:15502569472.00000\n",
      "[620]\tvalidation_0-rmse:482545056.00000\tvalidation_0-mae:50057400.00000\tvalidation_1-rmse:35124887552.00000\tvalidation_1-mae:15502516224.00000\n",
      "[621]\tvalidation_0-rmse:482641664.00000\tvalidation_0-mae:49978540.00000\tvalidation_1-rmse:35124883456.00000\tvalidation_1-mae:15502472192.00000\n",
      "[622]\tvalidation_0-rmse:482639008.00000\tvalidation_0-mae:49973900.00000\tvalidation_1-rmse:35124875264.00000\tvalidation_1-mae:15502662656.00000\n",
      "[623]\tvalidation_0-rmse:482998784.00000\tvalidation_0-mae:49982436.00000\tvalidation_1-rmse:35124858880.00000\tvalidation_1-mae:15502707712.00000\n",
      "[624]\tvalidation_0-rmse:482907520.00000\tvalidation_0-mae:49981048.00000\tvalidation_1-rmse:35125170176.00000\tvalidation_1-mae:15502627840.00000\n",
      "[625]\tvalidation_0-rmse:483134208.00000\tvalidation_0-mae:49922960.00000\tvalidation_1-rmse:35125243904.00000\tvalidation_1-mae:15502540800.00000\n",
      "[626]\tvalidation_0-rmse:483786048.00000\tvalidation_0-mae:49996064.00000\tvalidation_1-rmse:35125268480.00000\tvalidation_1-mae:15502690304.00000\n",
      "[627]\tvalidation_0-rmse:483252832.00000\tvalidation_0-mae:49956072.00000\tvalidation_1-rmse:35125309440.00000\tvalidation_1-mae:15502736384.00000\n",
      "[628]\tvalidation_0-rmse:483087680.00000\tvalidation_0-mae:49962436.00000\tvalidation_1-rmse:35125317632.00000\tvalidation_1-mae:15502653440.00000\n",
      "[629]\tvalidation_0-rmse:483131616.00000\tvalidation_0-mae:49968680.00000\tvalidation_1-rmse:35125297152.00000\tvalidation_1-mae:15502589952.00000\n",
      "[630]\tvalidation_0-rmse:483124832.00000\tvalidation_0-mae:49871224.00000\tvalidation_1-rmse:35125305344.00000\tvalidation_1-mae:15502630912.00000\n",
      "[631]\tvalidation_0-rmse:483463040.00000\tvalidation_0-mae:49905260.00000\tvalidation_1-rmse:35125223424.00000\tvalidation_1-mae:15502519296.00000\n",
      "[632]\tvalidation_0-rmse:483452640.00000\tvalidation_0-mae:49847832.00000\tvalidation_1-rmse:35125207040.00000\tvalidation_1-mae:15502575616.00000\n",
      "[633]\tvalidation_0-rmse:483277888.00000\tvalidation_0-mae:49830924.00000\tvalidation_1-rmse:35125260288.00000\tvalidation_1-mae:15502604288.00000\n",
      "[634]\tvalidation_0-rmse:483000384.00000\tvalidation_0-mae:49820472.00000\tvalidation_1-rmse:35125223424.00000\tvalidation_1-mae:15502522368.00000\n",
      "[635]\tvalidation_0-rmse:483334688.00000\tvalidation_0-mae:49956340.00000\tvalidation_1-rmse:35125137408.00000\tvalidation_1-mae:15502302208.00000\n",
      "[636]\tvalidation_0-rmse:483521504.00000\tvalidation_0-mae:49902196.00000\tvalidation_1-rmse:35125166080.00000\tvalidation_1-mae:15502326784.00000\n",
      "[637]\tvalidation_0-rmse:483103072.00000\tvalidation_0-mae:49852320.00000\tvalidation_1-rmse:35125133312.00000\tvalidation_1-mae:15502316544.00000\n",
      "[638]\tvalidation_0-rmse:483392704.00000\tvalidation_0-mae:49904692.00000\tvalidation_1-rmse:35125219328.00000\tvalidation_1-mae:15502428160.00000\n",
      "[639]\tvalidation_0-rmse:482665728.00000\tvalidation_0-mae:49905220.00000\tvalidation_1-rmse:35125317632.00000\tvalidation_1-mae:15502523392.00000\n",
      "[640]\tvalidation_0-rmse:482698176.00000\tvalidation_0-mae:49882216.00000\tvalidation_1-rmse:35125305344.00000\tvalidation_1-mae:15502558208.00000\n",
      "[641]\tvalidation_0-rmse:482898880.00000\tvalidation_0-mae:49985376.00000\tvalidation_1-rmse:35125260288.00000\tvalidation_1-mae:15502461952.00000\n",
      "[642]\tvalidation_0-rmse:482355296.00000\tvalidation_0-mae:49953352.00000\tvalidation_1-rmse:35125313536.00000\tvalidation_1-mae:15502507008.00000\n",
      "[643]\tvalidation_0-rmse:481844480.00000\tvalidation_0-mae:49928064.00000\tvalidation_1-rmse:35125313536.00000\tvalidation_1-mae:15502698496.00000\n",
      "[644]\tvalidation_0-rmse:482472992.00000\tvalidation_0-mae:49981552.00000\tvalidation_1-rmse:35125358592.00000\tvalidation_1-mae:15502765056.00000\n",
      "[645]\tvalidation_0-rmse:483195264.00000\tvalidation_0-mae:49970264.00000\tvalidation_1-rmse:35125518336.00000\tvalidation_1-mae:15502892032.00000\n",
      "[646]\tvalidation_0-rmse:483012896.00000\tvalidation_0-mae:49923740.00000\tvalidation_1-rmse:35125374976.00000\tvalidation_1-mae:15502965760.00000\n",
      "[647]\tvalidation_0-rmse:483057312.00000\tvalidation_0-mae:49881868.00000\tvalidation_1-rmse:35125379072.00000\tvalidation_1-mae:15502944256.00000\n",
      "[648]\tvalidation_0-rmse:483047104.00000\tvalidation_0-mae:49913288.00000\tvalidation_1-rmse:35125395456.00000\tvalidation_1-mae:15503060992.00000\n",
      "[649]\tvalidation_0-rmse:482662720.00000\tvalidation_0-mae:49941536.00000\tvalidation_1-rmse:35125448704.00000\tvalidation_1-mae:15503098880.00000\n",
      "[650]\tvalidation_0-rmse:482740768.00000\tvalidation_0-mae:49979484.00000\tvalidation_1-rmse:35125473280.00000\tvalidation_1-mae:15503353856.00000\n",
      "[651]\tvalidation_0-rmse:482992512.00000\tvalidation_0-mae:49943824.00000\tvalidation_1-rmse:35125436416.00000\tvalidation_1-mae:15503328256.00000\n",
      "[652]\tvalidation_0-rmse:482973024.00000\tvalidation_0-mae:50046448.00000\tvalidation_1-rmse:35125592064.00000\tvalidation_1-mae:15503322112.00000\n",
      "[653]\tvalidation_0-rmse:483294176.00000\tvalidation_0-mae:50113164.00000\tvalidation_1-rmse:35125637120.00000\tvalidation_1-mae:15503343616.00000\n",
      "[654]\tvalidation_0-rmse:484000672.00000\tvalidation_0-mae:50049448.00000\tvalidation_1-rmse:35125637120.00000\tvalidation_1-mae:15503476736.00000\n",
      "[655]\tvalidation_0-rmse:483808992.00000\tvalidation_0-mae:49995148.00000\tvalidation_1-rmse:35125665792.00000\tvalidation_1-mae:15503435776.00000\n",
      "[656]\tvalidation_0-rmse:484422368.00000\tvalidation_0-mae:49943844.00000\tvalidation_1-rmse:35125686272.00000\tvalidation_1-mae:15503378432.00000\n",
      "[657]\tvalidation_0-rmse:484672544.00000\tvalidation_0-mae:49951672.00000\tvalidation_1-rmse:35125690368.00000\tvalidation_1-mae:15503523840.00000\n",
      "[658]\tvalidation_0-rmse:484595552.00000\tvalidation_0-mae:50001536.00000\tvalidation_1-rmse:35125723136.00000\tvalidation_1-mae:15503394816.00000\n",
      "[659]\tvalidation_0-rmse:484619648.00000\tvalidation_0-mae:50021296.00000\tvalidation_1-rmse:35125633024.00000\tvalidation_1-mae:15503372288.00000\n",
      "[660]\tvalidation_0-rmse:483890720.00000\tvalidation_0-mae:50016460.00000\tvalidation_1-rmse:35125587968.00000\tvalidation_1-mae:15503271936.00000\n",
      "[661]\tvalidation_0-rmse:483642240.00000\tvalidation_0-mae:50013176.00000\tvalidation_1-rmse:35125567488.00000\tvalidation_1-mae:15503214592.00000\n",
      "[662]\tvalidation_0-rmse:484249984.00000\tvalidation_0-mae:50036568.00000\tvalidation_1-rmse:35125542912.00000\tvalidation_1-mae:15502991360.00000\n",
      "[663]\tvalidation_0-rmse:484108960.00000\tvalidation_0-mae:50008844.00000\tvalidation_1-rmse:35125567488.00000\tvalidation_1-mae:15503046656.00000\n",
      "[664]\tvalidation_0-rmse:483985888.00000\tvalidation_0-mae:49992784.00000\tvalidation_1-rmse:35125518336.00000\tvalidation_1-mae:15503098880.00000\n",
      "[665]\tvalidation_0-rmse:483835744.00000\tvalidation_0-mae:50034720.00000\tvalidation_1-rmse:35125538816.00000\tvalidation_1-mae:15503088640.00000\n",
      "[666]\tvalidation_0-rmse:484134976.00000\tvalidation_0-mae:50135992.00000\tvalidation_1-rmse:35125600256.00000\tvalidation_1-mae:15503139840.00000\n",
      "[667]\tvalidation_0-rmse:483689664.00000\tvalidation_0-mae:50101708.00000\tvalidation_1-rmse:35125604352.00000\tvalidation_1-mae:15503258624.00000\n",
      "[668]\tvalidation_0-rmse:483014240.00000\tvalidation_0-mae:50073528.00000\tvalidation_1-rmse:35125608448.00000\tvalidation_1-mae:15503224832.00000\n",
      "[669]\tvalidation_0-rmse:482908768.00000\tvalidation_0-mae:50011828.00000\tvalidation_1-rmse:35125616640.00000\tvalidation_1-mae:15503306752.00000\n",
      "[670]\tvalidation_0-rmse:482409984.00000\tvalidation_0-mae:49966004.00000\tvalidation_1-rmse:35125698560.00000\tvalidation_1-mae:15503438848.00000\n",
      "[671]\tvalidation_0-rmse:482893472.00000\tvalidation_0-mae:49970084.00000\tvalidation_1-rmse:35125628928.00000\tvalidation_1-mae:15503372288.00000\n",
      "[672]\tvalidation_0-rmse:483009600.00000\tvalidation_0-mae:49921016.00000\tvalidation_1-rmse:35125587968.00000\tvalidation_1-mae:15503381504.00000\n",
      "[673]\tvalidation_0-rmse:483106240.00000\tvalidation_0-mae:49973236.00000\tvalidation_1-rmse:35125477376.00000\tvalidation_1-mae:15503287296.00000\n",
      "[674]\tvalidation_0-rmse:483765088.00000\tvalidation_0-mae:49979284.00000\tvalidation_1-rmse:35125534720.00000\tvalidation_1-mae:15503446016.00000\n",
      "[675]\tvalidation_0-rmse:483858176.00000\tvalidation_0-mae:50001164.00000\tvalidation_1-rmse:35125510144.00000\tvalidation_1-mae:15503416320.00000\n",
      "[676]\tvalidation_0-rmse:483055072.00000\tvalidation_0-mae:50103556.00000\tvalidation_1-rmse:35125538816.00000\tvalidation_1-mae:15503372288.00000\n",
      "[677]\tvalidation_0-rmse:482689344.00000\tvalidation_0-mae:50117188.00000\tvalidation_1-rmse:35125305344.00000\tvalidation_1-mae:15503345664.00000\n",
      "[678]\tvalidation_0-rmse:481756512.00000\tvalidation_0-mae:50101376.00000\tvalidation_1-rmse:35125313536.00000\tvalidation_1-mae:15503371264.00000\n",
      "[679]\tvalidation_0-rmse:481540320.00000\tvalidation_0-mae:50052452.00000\tvalidation_1-rmse:35125276672.00000\tvalidation_1-mae:15503278080.00000\n",
      "[680]\tvalidation_0-rmse:481863520.00000\tvalidation_0-mae:50006104.00000\tvalidation_1-rmse:35125280768.00000\tvalidation_1-mae:15503323136.00000\n",
      "[681]\tvalidation_0-rmse:481741056.00000\tvalidation_0-mae:50002328.00000\tvalidation_1-rmse:35125334016.00000\tvalidation_1-mae:15503310848.00000\n",
      "[682]\tvalidation_0-rmse:481697248.00000\tvalidation_0-mae:50057332.00000\tvalidation_1-rmse:35125338112.00000\tvalidation_1-mae:15503268864.00000\n",
      "[683]\tvalidation_0-rmse:481472832.00000\tvalidation_0-mae:50040140.00000\tvalidation_1-rmse:35125293056.00000\tvalidation_1-mae:15503161344.00000\n",
      "[684]\tvalidation_0-rmse:482025664.00000\tvalidation_0-mae:50041456.00000\tvalidation_1-rmse:35125264384.00000\tvalidation_1-mae:15503240192.00000\n",
      "[685]\tvalidation_0-rmse:482026272.00000\tvalidation_0-mae:50033192.00000\tvalidation_1-rmse:35125268480.00000\tvalidation_1-mae:15503245312.00000\n",
      "[686]\tvalidation_0-rmse:482241920.00000\tvalidation_0-mae:50003084.00000\tvalidation_1-rmse:35125186560.00000\tvalidation_1-mae:15503057920.00000\n",
      "[687]\tvalidation_0-rmse:481916864.00000\tvalidation_0-mae:50050524.00000\tvalidation_1-rmse:35125198848.00000\tvalidation_1-mae:15503076352.00000\n",
      "[688]\tvalidation_0-rmse:482004608.00000\tvalidation_0-mae:50066916.00000\tvalidation_1-rmse:35125227520.00000\tvalidation_1-mae:15503129600.00000\n",
      "[689]\tvalidation_0-rmse:481963552.00000\tvalidation_0-mae:49978820.00000\tvalidation_1-rmse:35125284864.00000\tvalidation_1-mae:15503132672.00000\n",
      "[690]\tvalidation_0-rmse:482211680.00000\tvalidation_0-mae:49925400.00000\tvalidation_1-rmse:35125243904.00000\tvalidation_1-mae:15503091712.00000\n",
      "[691]\tvalidation_0-rmse:482502304.00000\tvalidation_0-mae:49907344.00000\tvalidation_1-rmse:35125305344.00000\tvalidation_1-mae:15503211520.00000\n",
      "[692]\tvalidation_0-rmse:482531808.00000\tvalidation_0-mae:49943716.00000\tvalidation_1-rmse:35125374976.00000\tvalidation_1-mae:15503287296.00000\n",
      "[693]\tvalidation_0-rmse:482611904.00000\tvalidation_0-mae:49910144.00000\tvalidation_1-rmse:35125489664.00000\tvalidation_1-mae:15503252480.00000\n",
      "[694]\tvalidation_0-rmse:482446080.00000\tvalidation_0-mae:49875616.00000\tvalidation_1-rmse:35125452800.00000\tvalidation_1-mae:15503211520.00000\n",
      "[695]\tvalidation_0-rmse:482567296.00000\tvalidation_0-mae:49857724.00000\tvalidation_1-rmse:35125469184.00000\tvalidation_1-mae:15503202304.00000\n",
      "[696]\tvalidation_0-rmse:482768608.00000\tvalidation_0-mae:49802920.00000\tvalidation_1-rmse:35125465088.00000\tvalidation_1-mae:15503197184.00000\n",
      "[697]\tvalidation_0-rmse:483278912.00000\tvalidation_0-mae:49756132.00000\tvalidation_1-rmse:35125383168.00000\tvalidation_1-mae:15503176704.00000\n",
      "[698]\tvalidation_0-rmse:483504384.00000\tvalidation_0-mae:49749088.00000\tvalidation_1-rmse:35125383168.00000\tvalidation_1-mae:15503194112.00000\n",
      "[699]\tvalidation_0-rmse:483605472.00000\tvalidation_0-mae:49831176.00000\tvalidation_1-rmse:35125415936.00000\tvalidation_1-mae:15503265792.00000\n",
      "[700]\tvalidation_0-rmse:484067520.00000\tvalidation_0-mae:49818416.00000\tvalidation_1-rmse:35125399552.00000\tvalidation_1-mae:15503156224.00000\n",
      "[701]\tvalidation_0-rmse:483533696.00000\tvalidation_0-mae:49747192.00000\tvalidation_1-rmse:35125391360.00000\tvalidation_1-mae:15503169536.00000\n",
      "[702]\tvalidation_0-rmse:482875840.00000\tvalidation_0-mae:49751424.00000\tvalidation_1-rmse:35125379072.00000\tvalidation_1-mae:15503175680.00000\n",
      "[703]\tvalidation_0-rmse:483063392.00000\tvalidation_0-mae:49797164.00000\tvalidation_1-rmse:35125338112.00000\tvalidation_1-mae:15503227904.00000\n",
      "[704]\tvalidation_0-rmse:482981376.00000\tvalidation_0-mae:49807616.00000\tvalidation_1-rmse:35125387264.00000\tvalidation_1-mae:15503309824.00000\n",
      "[705]\tvalidation_0-rmse:482693088.00000\tvalidation_0-mae:49825480.00000\tvalidation_1-rmse:35125399552.00000\tvalidation_1-mae:15503313920.00000\n",
      "[706]\tvalidation_0-rmse:483542944.00000\tvalidation_0-mae:49774484.00000\tvalidation_1-rmse:35125329920.00000\tvalidation_1-mae:15503170560.00000\n",
      "[707]\tvalidation_0-rmse:483159264.00000\tvalidation_0-mae:49806568.00000\tvalidation_1-rmse:35125284864.00000\tvalidation_1-mae:15503013888.00000\n",
      "[708]\tvalidation_0-rmse:483347744.00000\tvalidation_0-mae:49797664.00000\tvalidation_1-rmse:35125321728.00000\tvalidation_1-mae:15503115264.00000\n",
      "[709]\tvalidation_0-rmse:483921824.00000\tvalidation_0-mae:49773020.00000\tvalidation_1-rmse:35125354496.00000\tvalidation_1-mae:15503064064.00000\n",
      "[710]\tvalidation_0-rmse:484033504.00000\tvalidation_0-mae:49770876.00000\tvalidation_1-rmse:35125391360.00000\tvalidation_1-mae:15503145984.00000\n",
      "[711]\tvalidation_0-rmse:484202240.00000\tvalidation_0-mae:49798440.00000\tvalidation_1-rmse:35125428224.00000\tvalidation_1-mae:15503287296.00000\n",
      "[712]\tvalidation_0-rmse:483615296.00000\tvalidation_0-mae:49826136.00000\tvalidation_1-rmse:35125473280.00000\tvalidation_1-mae:15503348736.00000\n",
      "[713]\tvalidation_0-rmse:483672480.00000\tvalidation_0-mae:49788996.00000\tvalidation_1-rmse:35125424128.00000\tvalidation_1-mae:15503271936.00000\n",
      "[714]\tvalidation_0-rmse:484083840.00000\tvalidation_0-mae:49734276.00000\tvalidation_1-rmse:35125338112.00000\tvalidation_1-mae:15503186944.00000\n",
      "[715]\tvalidation_0-rmse:483729568.00000\tvalidation_0-mae:49779792.00000\tvalidation_1-rmse:35125342208.00000\tvalidation_1-mae:15503258624.00000\n",
      "[716]\tvalidation_0-rmse:484131968.00000\tvalidation_0-mae:49886384.00000\tvalidation_1-rmse:35125362688.00000\tvalidation_1-mae:15503287296.00000\n",
      "[717]\tvalidation_0-rmse:483973632.00000\tvalidation_0-mae:49968148.00000\tvalidation_1-rmse:35125325824.00000\tvalidation_1-mae:15503495168.00000\n",
      "[718]\tvalidation_0-rmse:484129152.00000\tvalidation_0-mae:49951184.00000\tvalidation_1-rmse:35125366784.00000\tvalidation_1-mae:15503724544.00000\n",
      "[719]\tvalidation_0-rmse:484781248.00000\tvalidation_0-mae:50030540.00000\tvalidation_1-rmse:35125489664.00000\tvalidation_1-mae:15503935488.00000\n",
      "[720]\tvalidation_0-rmse:484440544.00000\tvalidation_0-mae:49970952.00000\tvalidation_1-rmse:35125575680.00000\tvalidation_1-mae:15503794176.00000\n",
      "[721]\tvalidation_0-rmse:483848064.00000\tvalidation_0-mae:50046832.00000\tvalidation_1-rmse:35125583872.00000\tvalidation_1-mae:15503797248.00000\n",
      "[722]\tvalidation_0-rmse:484240224.00000\tvalidation_0-mae:49976800.00000\tvalidation_1-rmse:35125604352.00000\tvalidation_1-mae:15503838208.00000\n",
      "[723]\tvalidation_0-rmse:483947808.00000\tvalidation_0-mae:49962924.00000\tvalidation_1-rmse:35125501952.00000\tvalidation_1-mae:15503533056.00000\n",
      "[724]\tvalidation_0-rmse:484054624.00000\tvalidation_0-mae:49948968.00000\tvalidation_1-rmse:35125534720.00000\tvalidation_1-mae:15503315968.00000\n",
      "[725]\tvalidation_0-rmse:483783808.00000\tvalidation_0-mae:49989176.00000\tvalidation_1-rmse:35125497856.00000\tvalidation_1-mae:15503320064.00000\n",
      "[726]\tvalidation_0-rmse:483928448.00000\tvalidation_0-mae:50020976.00000\tvalidation_1-rmse:35125477376.00000\tvalidation_1-mae:15503375360.00000\n",
      "[727]\tvalidation_0-rmse:484420480.00000\tvalidation_0-mae:50101888.00000\tvalidation_1-rmse:35125526528.00000\tvalidation_1-mae:15503469568.00000\n",
      "[728]\tvalidation_0-rmse:484597024.00000\tvalidation_0-mae:50108924.00000\tvalidation_1-rmse:35125489664.00000\tvalidation_1-mae:15503668224.00000\n",
      "[729]\tvalidation_0-rmse:484854336.00000\tvalidation_0-mae:50147372.00000\tvalidation_1-rmse:35125497856.00000\tvalidation_1-mae:15503740928.00000\n",
      "[730]\tvalidation_0-rmse:484637856.00000\tvalidation_0-mae:50149580.00000\tvalidation_1-rmse:35125411840.00000\tvalidation_1-mae:15503759360.00000\n",
      "[731]\tvalidation_0-rmse:484697152.00000\tvalidation_0-mae:50092780.00000\tvalidation_1-rmse:35125506048.00000\tvalidation_1-mae:15503791104.00000\n",
      "[732]\tvalidation_0-rmse:484164704.00000\tvalidation_0-mae:50027768.00000\tvalidation_1-rmse:35125452800.00000\tvalidation_1-mae:15503753216.00000\n",
      "[733]\tvalidation_0-rmse:484465952.00000\tvalidation_0-mae:50036316.00000\tvalidation_1-rmse:35125379072.00000\tvalidation_1-mae:15503608832.00000\n",
      "[734]\tvalidation_0-rmse:484400672.00000\tvalidation_0-mae:50009756.00000\tvalidation_1-rmse:35125280768.00000\tvalidation_1-mae:15503568896.00000\n",
      "[735]\tvalidation_0-rmse:484199104.00000\tvalidation_0-mae:50013984.00000\tvalidation_1-rmse:35125243904.00000\tvalidation_1-mae:15503583232.00000\n",
      "[736]\tvalidation_0-rmse:484480128.00000\tvalidation_0-mae:50020096.00000\tvalidation_1-rmse:35125145600.00000\tvalidation_1-mae:15503526912.00000\n",
      "[737]\tvalidation_0-rmse:484235456.00000\tvalidation_0-mae:50088084.00000\tvalidation_1-rmse:35125104640.00000\tvalidation_1-mae:15503460352.00000\n",
      "[738]\tvalidation_0-rmse:483551968.00000\tvalidation_0-mae:50029372.00000\tvalidation_1-rmse:35125047296.00000\tvalidation_1-mae:15503436800.00000\n",
      "[739]\tvalidation_0-rmse:483485696.00000\tvalidation_0-mae:49984412.00000\tvalidation_1-rmse:35125055488.00000\tvalidation_1-mae:15503392768.00000\n",
      "[740]\tvalidation_0-rmse:483650592.00000\tvalidation_0-mae:50014396.00000\tvalidation_1-rmse:35125104640.00000\tvalidation_1-mae:15503386624.00000\n",
      "[741]\tvalidation_0-rmse:484224704.00000\tvalidation_0-mae:49995140.00000\tvalidation_1-rmse:35125080064.00000\tvalidation_1-mae:15503586304.00000\n",
      "[742]\tvalidation_0-rmse:484171392.00000\tvalidation_0-mae:49969296.00000\tvalidation_1-rmse:35125096448.00000\tvalidation_1-mae:15503662080.00000\n",
      "[743]\tvalidation_0-rmse:483676768.00000\tvalidation_0-mae:49951596.00000\tvalidation_1-rmse:35125174272.00000\tvalidation_1-mae:15503797248.00000\n",
      "[744]\tvalidation_0-rmse:483749792.00000\tvalidation_0-mae:49967948.00000\tvalidation_1-rmse:35125211136.00000\tvalidation_1-mae:15503954944.00000\n",
      "[745]\tvalidation_0-rmse:483299040.00000\tvalidation_0-mae:50020580.00000\tvalidation_1-rmse:35125125120.00000\tvalidation_1-mae:15503759360.00000\n",
      "[746]\tvalidation_0-rmse:483276608.00000\tvalidation_0-mae:50006000.00000\tvalidation_1-rmse:35124989952.00000\tvalidation_1-mae:15503570944.00000\n",
      "[747]\tvalidation_0-rmse:483764480.00000\tvalidation_0-mae:49935956.00000\tvalidation_1-rmse:35125071872.00000\tvalidation_1-mae:15503597568.00000\n",
      "[748]\tvalidation_0-rmse:483979104.00000\tvalidation_0-mae:49997112.00000\tvalidation_1-rmse:35125096448.00000\tvalidation_1-mae:15503706112.00000\n",
      "[749]\tvalidation_0-rmse:483114880.00000\tvalidation_0-mae:49966768.00000\tvalidation_1-rmse:35125121024.00000\tvalidation_1-mae:15503636480.00000\n",
      "[750]\tvalidation_0-rmse:482802816.00000\tvalidation_0-mae:49971924.00000\tvalidation_1-rmse:35125112832.00000\tvalidation_1-mae:15503570944.00000\n",
      "[751]\tvalidation_0-rmse:482991072.00000\tvalidation_0-mae:50044204.00000\tvalidation_1-rmse:35125084160.00000\tvalidation_1-mae:15503463424.00000\n",
      "[752]\tvalidation_0-rmse:482749696.00000\tvalidation_0-mae:50001308.00000\tvalidation_1-rmse:35125030912.00000\tvalidation_1-mae:15503375360.00000\n",
      "[753]\tvalidation_0-rmse:482652288.00000\tvalidation_0-mae:49970704.00000\tvalidation_1-rmse:35124965376.00000\tvalidation_1-mae:15503319040.00000\n",
      "[754]\tvalidation_0-rmse:482920128.00000\tvalidation_0-mae:50025112.00000\tvalidation_1-rmse:35125006336.00000\tvalidation_1-mae:15503407104.00000\n",
      "[755]\tvalidation_0-rmse:483190912.00000\tvalidation_0-mae:50004784.00000\tvalidation_1-rmse:35125006336.00000\tvalidation_1-mae:15503449088.00000\n",
      "[756]\tvalidation_0-rmse:483008960.00000\tvalidation_0-mae:50030752.00000\tvalidation_1-rmse:35125071872.00000\tvalidation_1-mae:15503539200.00000\n",
      "[757]\tvalidation_0-rmse:483240768.00000\tvalidation_0-mae:50119484.00000\tvalidation_1-rmse:35125096448.00000\tvalidation_1-mae:15503574016.00000\n",
      "[758]\tvalidation_0-rmse:483125248.00000\tvalidation_0-mae:50057084.00000\tvalidation_1-rmse:35125063680.00000\tvalidation_1-mae:15503791104.00000\n",
      "[759]\tvalidation_0-rmse:484218368.00000\tvalidation_0-mae:50159640.00000\tvalidation_1-rmse:35125157888.00000\tvalidation_1-mae:15503752192.00000\n",
      "[760]\tvalidation_0-rmse:484100672.00000\tvalidation_0-mae:50125648.00000\tvalidation_1-rmse:35125161984.00000\tvalidation_1-mae:15503895552.00000\n",
      "[761]\tvalidation_0-rmse:483909280.00000\tvalidation_0-mae:50137780.00000\tvalidation_1-rmse:35125248000.00000\tvalidation_1-mae:15504034816.00000\n",
      "[762]\tvalidation_0-rmse:483794304.00000\tvalidation_0-mae:50094696.00000\tvalidation_1-rmse:35125100544.00000\tvalidation_1-mae:15504148480.00000\n",
      "[763]\tvalidation_0-rmse:483836576.00000\tvalidation_0-mae:50024584.00000\tvalidation_1-rmse:35125112832.00000\tvalidation_1-mae:15504219136.00000\n",
      "[764]\tvalidation_0-rmse:482996576.00000\tvalidation_0-mae:50050560.00000\tvalidation_1-rmse:35125182464.00000\tvalidation_1-mae:15504301056.00000\n",
      "[765]\tvalidation_0-rmse:482723616.00000\tvalidation_0-mae:50012052.00000\tvalidation_1-rmse:35125112832.00000\tvalidation_1-mae:15504351232.00000\n",
      "[766]\tvalidation_0-rmse:483004928.00000\tvalidation_0-mae:50034880.00000\tvalidation_1-rmse:35125080064.00000\tvalidation_1-mae:15504317440.00000\n",
      "[767]\tvalidation_0-rmse:483505568.00000\tvalidation_0-mae:50048696.00000\tvalidation_1-rmse:35125035008.00000\tvalidation_1-mae:15504411648.00000\n",
      "[768]\tvalidation_0-rmse:483723776.00000\tvalidation_0-mae:50006672.00000\tvalidation_1-rmse:35125121024.00000\tvalidation_1-mae:15504425984.00000\n",
      "[769]\tvalidation_0-rmse:483907104.00000\tvalidation_0-mae:50025488.00000\tvalidation_1-rmse:35125063680.00000\tvalidation_1-mae:15504253952.00000\n",
      "[770]\tvalidation_0-rmse:483292416.00000\tvalidation_0-mae:49941096.00000\tvalidation_1-rmse:35125059584.00000\tvalidation_1-mae:15504225280.00000\n",
      "[771]\tvalidation_0-rmse:483893088.00000\tvalidation_0-mae:49962100.00000\tvalidation_1-rmse:35124998144.00000\tvalidation_1-mae:15504197632.00000\n",
      "[772]\tvalidation_0-rmse:483787840.00000\tvalidation_0-mae:50018412.00000\tvalidation_1-rmse:35125059584.00000\tvalidation_1-mae:15504036864.00000\n",
      "[773]\tvalidation_0-rmse:483883968.00000\tvalidation_0-mae:50030384.00000\tvalidation_1-rmse:35125075968.00000\tvalidation_1-mae:15504039936.00000\n",
      "[774]\tvalidation_0-rmse:483025760.00000\tvalidation_0-mae:50010328.00000\tvalidation_1-rmse:35125075968.00000\tvalidation_1-mae:15504072704.00000\n",
      "[775]\tvalidation_0-rmse:482574016.00000\tvalidation_0-mae:49984364.00000\tvalidation_1-rmse:35125104640.00000\tvalidation_1-mae:15504036864.00000\n",
      "[776]\tvalidation_0-rmse:482586656.00000\tvalidation_0-mae:50014628.00000\tvalidation_1-rmse:35125026816.00000\tvalidation_1-mae:15504087040.00000\n",
      "[777]\tvalidation_0-rmse:482747936.00000\tvalidation_0-mae:49963468.00000\tvalidation_1-rmse:35125055488.00000\tvalidation_1-mae:15504087040.00000\n",
      "[778]\tvalidation_0-rmse:482644480.00000\tvalidation_0-mae:50004352.00000\tvalidation_1-rmse:35125071872.00000\tvalidation_1-mae:15503983616.00000\n",
      "[779]\tvalidation_0-rmse:482609120.00000\tvalidation_0-mae:50004088.00000\tvalidation_1-rmse:35124944896.00000\tvalidation_1-mae:15503881216.00000\n",
      "[780]\tvalidation_0-rmse:482565440.00000\tvalidation_0-mae:49996460.00000\tvalidation_1-rmse:35125211136.00000\tvalidation_1-mae:15504313344.00000\n",
      "[781]\tvalidation_0-rmse:482297344.00000\tvalidation_0-mae:49982780.00000\tvalidation_1-rmse:35125219328.00000\tvalidation_1-mae:15504326656.00000\n",
      "[782]\tvalidation_0-rmse:482831904.00000\tvalidation_0-mae:49988012.00000\tvalidation_1-rmse:35125227520.00000\tvalidation_1-mae:15504323584.00000\n",
      "[783]\tvalidation_0-rmse:483375360.00000\tvalidation_0-mae:50035124.00000\tvalidation_1-rmse:35125252096.00000\tvalidation_1-mae:15504327680.00000\n",
      "[784]\tvalidation_0-rmse:482612064.00000\tvalidation_0-mae:50001072.00000\tvalidation_1-rmse:35125215232.00000\tvalidation_1-mae:15504289792.00000\n",
      "[785]\tvalidation_0-rmse:482515360.00000\tvalidation_0-mae:49968384.00000\tvalidation_1-rmse:35125153792.00000\tvalidation_1-mae:15504307200.00000\n",
      "[786]\tvalidation_0-rmse:482252576.00000\tvalidation_0-mae:50077864.00000\tvalidation_1-rmse:35125194752.00000\tvalidation_1-mae:15504422912.00000\n",
      "[787]\tvalidation_0-rmse:481875776.00000\tvalidation_0-mae:50070164.00000\tvalidation_1-rmse:35125223424.00000\tvalidation_1-mae:15504452608.00000\n",
      "[788]\tvalidation_0-rmse:482176320.00000\tvalidation_0-mae:50041728.00000\tvalidation_1-rmse:35125223424.00000\tvalidation_1-mae:15504411648.00000\n",
      "[789]\tvalidation_0-rmse:482432448.00000\tvalidation_0-mae:49995952.00000\tvalidation_1-rmse:35125145600.00000\tvalidation_1-mae:15504262144.00000\n",
      "[790]\tvalidation_0-rmse:482396096.00000\tvalidation_0-mae:50091036.00000\tvalidation_1-rmse:35125174272.00000\tvalidation_1-mae:15504439296.00000\n",
      "[791]\tvalidation_0-rmse:482383712.00000\tvalidation_0-mae:50092104.00000\tvalidation_1-rmse:35125141504.00000\tvalidation_1-mae:15504414720.00000\n",
      "[792]\tvalidation_0-rmse:483398528.00000\tvalidation_0-mae:50093860.00000\tvalidation_1-rmse:35124973568.00000\tvalidation_1-mae:15504620544.00000\n",
      "[793]\tvalidation_0-rmse:483031040.00000\tvalidation_0-mae:50080516.00000\tvalidation_1-rmse:35124957184.00000\tvalidation_1-mae:15504499712.00000\n",
      "[794]\tvalidation_0-rmse:482506848.00000\tvalidation_0-mae:50082888.00000\tvalidation_1-rmse:35124912128.00000\tvalidation_1-mae:15504291840.00000\n",
      "[795]\tvalidation_0-rmse:482279264.00000\tvalidation_0-mae:50012164.00000\tvalidation_1-rmse:35124944896.00000\tvalidation_1-mae:15504394240.00000\n",
      "[796]\tvalidation_0-rmse:482191712.00000\tvalidation_0-mae:49963428.00000\tvalidation_1-rmse:35124940800.00000\tvalidation_1-mae:15504405504.00000\n",
      "[797]\tvalidation_0-rmse:482101088.00000\tvalidation_0-mae:49946800.00000\tvalidation_1-rmse:35124985856.00000\tvalidation_1-mae:15504575488.00000\n",
      "[798]\tvalidation_0-rmse:481739200.00000\tvalidation_0-mae:49945504.00000\tvalidation_1-rmse:35124994048.00000\tvalidation_1-mae:15504537600.00000\n",
      "[799]\tvalidation_0-rmse:481818496.00000\tvalidation_0-mae:49971828.00000\tvalidation_1-rmse:35124903936.00000\tvalidation_1-mae:15504367616.00000\n",
      "[800]\tvalidation_0-rmse:482176384.00000\tvalidation_0-mae:49960364.00000\tvalidation_1-rmse:35124948992.00000\tvalidation_1-mae:15504479232.00000\n",
      "[801]\tvalidation_0-rmse:482144416.00000\tvalidation_0-mae:49934580.00000\tvalidation_1-rmse:35124662272.00000\tvalidation_1-mae:15504537600.00000\n",
      "[802]\tvalidation_0-rmse:482026784.00000\tvalidation_0-mae:49954668.00000\tvalidation_1-rmse:35124740096.00000\tvalidation_1-mae:15504669696.00000\n",
      "[803]\tvalidation_0-rmse:481851840.00000\tvalidation_0-mae:49938676.00000\tvalidation_1-rmse:35124633600.00000\tvalidation_1-mae:15504787456.00000\n",
      "[804]\tvalidation_0-rmse:481606464.00000\tvalidation_0-mae:49915732.00000\tvalidation_1-rmse:35124674560.00000\tvalidation_1-mae:15504722944.00000\n",
      "[805]\tvalidation_0-rmse:481690272.00000\tvalidation_0-mae:49943944.00000\tvalidation_1-rmse:35124662272.00000\tvalidation_1-mae:15504800768.00000\n",
      "[806]\tvalidation_0-rmse:481831552.00000\tvalidation_0-mae:49909140.00000\tvalidation_1-rmse:35124719616.00000\tvalidation_1-mae:15504933888.00000\n",
      "[807]\tvalidation_0-rmse:481789824.00000\tvalidation_0-mae:49831756.00000\tvalidation_1-rmse:35124686848.00000\tvalidation_1-mae:15504796672.00000\n",
      "[808]\tvalidation_0-rmse:481684768.00000\tvalidation_0-mae:49772064.00000\tvalidation_1-rmse:35124715520.00000\tvalidation_1-mae:15504739328.00000\n",
      "[809]\tvalidation_0-rmse:482131456.00000\tvalidation_0-mae:49881300.00000\tvalidation_1-rmse:35124772864.00000\tvalidation_1-mae:15504820224.00000\n",
      "[810]\tvalidation_0-rmse:482032832.00000\tvalidation_0-mae:49875300.00000\tvalidation_1-rmse:35124715520.00000\tvalidation_1-mae:15504769024.00000\n",
      "[811]\tvalidation_0-rmse:481976608.00000\tvalidation_0-mae:49860096.00000\tvalidation_1-rmse:35124736000.00000\tvalidation_1-mae:15504763904.00000\n",
      "[812]\tvalidation_0-rmse:481848096.00000\tvalidation_0-mae:49879708.00000\tvalidation_1-rmse:35124686848.00000\tvalidation_1-mae:15504666624.00000\n",
      "[813]\tvalidation_0-rmse:482223808.00000\tvalidation_0-mae:49879628.00000\tvalidation_1-rmse:35124699136.00000\tvalidation_1-mae:15504608256.00000\n",
      "[814]\tvalidation_0-rmse:482231296.00000\tvalidation_0-mae:49886480.00000\tvalidation_1-rmse:35124719616.00000\tvalidation_1-mae:15504587776.00000\n",
      "[815]\tvalidation_0-rmse:482298752.00000\tvalidation_0-mae:49875224.00000\tvalidation_1-rmse:35124641792.00000\tvalidation_1-mae:15504417792.00000\n",
      "[816]\tvalidation_0-rmse:482785760.00000\tvalidation_0-mae:49913332.00000\tvalidation_1-rmse:35124600832.00000\tvalidation_1-mae:15504272384.00000\n",
      "[817]\tvalidation_0-rmse:482926528.00000\tvalidation_0-mae:50000592.00000\tvalidation_1-rmse:35124625408.00000\tvalidation_1-mae:15504300032.00000\n",
      "[818]\tvalidation_0-rmse:482507072.00000\tvalidation_0-mae:49989920.00000\tvalidation_1-rmse:35124633600.00000\tvalidation_1-mae:15504367616.00000\n",
      "[819]\tvalidation_0-rmse:482942752.00000\tvalidation_0-mae:49925172.00000\tvalidation_1-rmse:35124670464.00000\tvalidation_1-mae:15504260096.00000\n",
      "[820]\tvalidation_0-rmse:483487104.00000\tvalidation_0-mae:49920144.00000\tvalidation_1-rmse:35124699136.00000\tvalidation_1-mae:15504455680.00000\n",
      "[821]\tvalidation_0-rmse:483728576.00000\tvalidation_0-mae:49886388.00000\tvalidation_1-rmse:35124686848.00000\tvalidation_1-mae:15504497664.00000\n",
      "[822]\tvalidation_0-rmse:483941280.00000\tvalidation_0-mae:49908196.00000\tvalidation_1-rmse:35124744192.00000\tvalidation_1-mae:15504463872.00000\n",
      "[823]\tvalidation_0-rmse:484472928.00000\tvalidation_0-mae:49981752.00000\tvalidation_1-rmse:35124510720.00000\tvalidation_1-mae:15504420864.00000\n",
      "[824]\tvalidation_0-rmse:484146688.00000\tvalidation_0-mae:49951372.00000\tvalidation_1-rmse:35124473856.00000\tvalidation_1-mae:15504392192.00000\n",
      "[825]\tvalidation_0-rmse:484069408.00000\tvalidation_0-mae:49958016.00000\tvalidation_1-rmse:35124494336.00000\tvalidation_1-mae:15504420864.00000\n",
      "[826]\tvalidation_0-rmse:484789920.00000\tvalidation_0-mae:49952796.00000\tvalidation_1-rmse:35124416512.00000\tvalidation_1-mae:15504562176.00000\n",
      "[827]\tvalidation_0-rmse:484225024.00000\tvalidation_0-mae:49962584.00000\tvalidation_1-rmse:35124387840.00000\tvalidation_1-mae:15504452608.00000\n",
      "[828]\tvalidation_0-rmse:483690336.00000\tvalidation_0-mae:49987916.00000\tvalidation_1-rmse:35124346880.00000\tvalidation_1-mae:15504417792.00000\n",
      "[829]\tvalidation_0-rmse:483290752.00000\tvalidation_0-mae:49912640.00000\tvalidation_1-rmse:35124453376.00000\tvalidation_1-mae:15504503808.00000\n",
      "[830]\tvalidation_0-rmse:483522048.00000\tvalidation_0-mae:49918560.00000\tvalidation_1-rmse:35124576256.00000\tvalidation_1-mae:15504833536.00000\n",
      "[831]\tvalidation_0-rmse:483754304.00000\tvalidation_0-mae:49888920.00000\tvalidation_1-rmse:35124555776.00000\tvalidation_1-mae:15504710656.00000\n",
      "[832]\tvalidation_0-rmse:483143616.00000\tvalidation_0-mae:49881668.00000\tvalidation_1-rmse:35124584448.00000\tvalidation_1-mae:15504698368.00000\n",
      "[833]\tvalidation_0-rmse:483410848.00000\tvalidation_0-mae:49850712.00000\tvalidation_1-rmse:35124527104.00000\tvalidation_1-mae:15504496640.00000\n",
      "[834]\tvalidation_0-rmse:483720320.00000\tvalidation_0-mae:49831472.00000\tvalidation_1-rmse:35124441088.00000\tvalidation_1-mae:15504337920.00000\n",
      "[835]\tvalidation_0-rmse:484080128.00000\tvalidation_0-mae:49795644.00000\tvalidation_1-rmse:35124371456.00000\tvalidation_1-mae:15504228352.00000\n",
      "[836]\tvalidation_0-rmse:484152320.00000\tvalidation_0-mae:49827912.00000\tvalidation_1-rmse:35124346880.00000\tvalidation_1-mae:15504093184.00000\n",
      "[837]\tvalidation_0-rmse:484902112.00000\tvalidation_0-mae:49814208.00000\tvalidation_1-rmse:35124322304.00000\tvalidation_1-mae:15503966208.00000\n",
      "[838]\tvalidation_0-rmse:485118336.00000\tvalidation_0-mae:49831784.00000\tvalidation_1-rmse:35124375552.00000\tvalidation_1-mae:15504087040.00000\n",
      "[839]\tvalidation_0-rmse:485798496.00000\tvalidation_0-mae:49880180.00000\tvalidation_1-rmse:35124318208.00000\tvalidation_1-mae:15503910912.00000\n",
      "[840]\tvalidation_0-rmse:485330624.00000\tvalidation_0-mae:49839352.00000\tvalidation_1-rmse:35124342784.00000\tvalidation_1-mae:15504090112.00000\n",
      "[841]\tvalidation_0-rmse:485001056.00000\tvalidation_0-mae:49769300.00000\tvalidation_1-rmse:35124248576.00000\tvalidation_1-mae:15504017408.00000\n",
      "[842]\tvalidation_0-rmse:484590496.00000\tvalidation_0-mae:49853696.00000\tvalidation_1-rmse:35124203520.00000\tvalidation_1-mae:15503987712.00000\n",
      "[843]\tvalidation_0-rmse:484705600.00000\tvalidation_0-mae:49870888.00000\tvalidation_1-rmse:35124142080.00000\tvalidation_1-mae:15503888384.00000\n",
      "[844]\tvalidation_0-rmse:484494496.00000\tvalidation_0-mae:49953224.00000\tvalidation_1-rmse:35124137984.00000\tvalidation_1-mae:15503784960.00000\n",
      "[845]\tvalidation_0-rmse:484024928.00000\tvalidation_0-mae:49970632.00000\tvalidation_1-rmse:35124195328.00000\tvalidation_1-mae:15503753216.00000\n",
      "[846]\tvalidation_0-rmse:483789728.00000\tvalidation_0-mae:49971216.00000\tvalidation_1-rmse:35124178944.00000\tvalidation_1-mae:15503847424.00000\n",
      "[847]\tvalidation_0-rmse:483981152.00000\tvalidation_0-mae:50004084.00000\tvalidation_1-rmse:35124264960.00000\tvalidation_1-mae:15503885312.00000\n",
      "[848]\tvalidation_0-rmse:484343360.00000\tvalidation_0-mae:50000064.00000\tvalidation_1-rmse:35124232192.00000\tvalidation_1-mae:15503929344.00000\n",
      "[849]\tvalidation_0-rmse:483549632.00000\tvalidation_0-mae:49996456.00000\tvalidation_1-rmse:35124318208.00000\tvalidation_1-mae:15503888384.00000\n",
      "[850]\tvalidation_0-rmse:482981952.00000\tvalidation_0-mae:49962108.00000\tvalidation_1-rmse:35124121600.00000\tvalidation_1-mae:15503797248.00000\n",
      "[851]\tvalidation_0-rmse:483039424.00000\tvalidation_0-mae:49982780.00000\tvalidation_1-rmse:35124133888.00000\tvalidation_1-mae:15503813632.00000\n",
      "[852]\tvalidation_0-rmse:483301472.00000\tvalidation_0-mae:49957584.00000\tvalidation_1-rmse:35124211712.00000\tvalidation_1-mae:15503992832.00000\n",
      "[853]\tvalidation_0-rmse:482831936.00000\tvalidation_0-mae:49974096.00000\tvalidation_1-rmse:35124228096.00000\tvalidation_1-mae:15504095232.00000\n",
      "[854]\tvalidation_0-rmse:482391552.00000\tvalidation_0-mae:49941096.00000\tvalidation_1-rmse:35124301824.00000\tvalidation_1-mae:15503929344.00000\n",
      "[855]\tvalidation_0-rmse:482646784.00000\tvalidation_0-mae:49940112.00000\tvalidation_1-rmse:35124281344.00000\tvalidation_1-mae:15503846400.00000\n",
      "[856]\tvalidation_0-rmse:482108960.00000\tvalidation_0-mae:49932724.00000\tvalidation_1-rmse:35124322304.00000\tvalidation_1-mae:15503844352.00000\n",
      "[857]\tvalidation_0-rmse:482503136.00000\tvalidation_0-mae:49948920.00000\tvalidation_1-rmse:35124350976.00000\tvalidation_1-mae:15503861760.00000\n",
      "[858]\tvalidation_0-rmse:482735040.00000\tvalidation_0-mae:49944036.00000\tvalidation_1-rmse:35124346880.00000\tvalidation_1-mae:15503819776.00000\n",
      "[859]\tvalidation_0-rmse:482604000.00000\tvalidation_0-mae:49932516.00000\tvalidation_1-rmse:35124260864.00000\tvalidation_1-mae:15503800320.00000\n",
      "[860]\tvalidation_0-rmse:482478624.00000\tvalidation_0-mae:49890876.00000\tvalidation_1-rmse:35124187136.00000\tvalidation_1-mae:15503778816.00000\n",
      "[861]\tvalidation_0-rmse:482833344.00000\tvalidation_0-mae:49862692.00000\tvalidation_1-rmse:35124162560.00000\tvalidation_1-mae:15503805440.00000\n",
      "[862]\tvalidation_0-rmse:483280992.00000\tvalidation_0-mae:49891116.00000\tvalidation_1-rmse:35124068352.00000\tvalidation_1-mae:15503588352.00000\n",
      "[863]\tvalidation_0-rmse:483000768.00000\tvalidation_0-mae:49917380.00000\tvalidation_1-rmse:35124129792.00000\tvalidation_1-mae:15503797248.00000\n",
      "[864]\tvalidation_0-rmse:483706912.00000\tvalidation_0-mae:49957352.00000\tvalidation_1-rmse:35124097024.00000\tvalidation_1-mae:15503935488.00000\n",
      "[865]\tvalidation_0-rmse:482922048.00000\tvalidation_0-mae:49981232.00000\tvalidation_1-rmse:35124113408.00000\tvalidation_1-mae:15503948800.00000\n",
      "[866]\tvalidation_0-rmse:483368192.00000\tvalidation_0-mae:49956972.00000\tvalidation_1-rmse:35124117504.00000\tvalidation_1-mae:15503823872.00000\n",
      "[867]\tvalidation_0-rmse:482976480.00000\tvalidation_0-mae:49879872.00000\tvalidation_1-rmse:35124125696.00000\tvalidation_1-mae:15503775744.00000\n",
      "[868]\tvalidation_0-rmse:483211680.00000\tvalidation_0-mae:49850560.00000\tvalidation_1-rmse:35124224000.00000\tvalidation_1-mae:15503636480.00000\n",
      "[869]\tvalidation_0-rmse:483649152.00000\tvalidation_0-mae:49859996.00000\tvalidation_1-rmse:35124211712.00000\tvalidation_1-mae:15503653888.00000\n",
      "[870]\tvalidation_0-rmse:484375808.00000\tvalidation_0-mae:49845440.00000\tvalidation_1-rmse:35124207616.00000\tvalidation_1-mae:15503904768.00000\n",
      "[871]\tvalidation_0-rmse:483671392.00000\tvalidation_0-mae:49868480.00000\tvalidation_1-rmse:35124187136.00000\tvalidation_1-mae:15503981568.00000\n",
      "[872]\tvalidation_0-rmse:483514848.00000\tvalidation_0-mae:49874424.00000\tvalidation_1-rmse:35124199424.00000\tvalidation_1-mae:15504007168.00000\n",
      "[873]\tvalidation_0-rmse:483719904.00000\tvalidation_0-mae:49918456.00000\tvalidation_1-rmse:35124162560.00000\tvalidation_1-mae:15503986688.00000\n",
      "[874]\tvalidation_0-rmse:483876896.00000\tvalidation_0-mae:49926284.00000\tvalidation_1-rmse:35124240384.00000\tvalidation_1-mae:15504113664.00000\n",
      "[875]\tvalidation_0-rmse:484071488.00000\tvalidation_0-mae:49949188.00000\tvalidation_1-rmse:35124289536.00000\tvalidation_1-mae:15504260096.00000\n",
      "[876]\tvalidation_0-rmse:483814976.00000\tvalidation_0-mae:49898676.00000\tvalidation_1-rmse:35124301824.00000\tvalidation_1-mae:15504329728.00000\n",
      "[877]\tvalidation_0-rmse:483891360.00000\tvalidation_0-mae:49874120.00000\tvalidation_1-rmse:35124301824.00000\tvalidation_1-mae:15504212992.00000\n",
      "[878]\tvalidation_0-rmse:483851968.00000\tvalidation_0-mae:49905744.00000\tvalidation_1-rmse:35124277248.00000\tvalidation_1-mae:15504162816.00000\n",
      "[879]\tvalidation_0-rmse:483763872.00000\tvalidation_0-mae:49898368.00000\tvalidation_1-rmse:35124318208.00000\tvalidation_1-mae:15504453632.00000\n",
      "[880]\tvalidation_0-rmse:483939040.00000\tvalidation_0-mae:49888600.00000\tvalidation_1-rmse:35124326400.00000\tvalidation_1-mae:15504405504.00000\n",
      "[881]\tvalidation_0-rmse:484356672.00000\tvalidation_0-mae:49921236.00000\tvalidation_1-rmse:35124277248.00000\tvalidation_1-mae:15504297984.00000\n",
      "[882]\tvalidation_0-rmse:484900864.00000\tvalidation_0-mae:50013016.00000\tvalidation_1-rmse:35124281344.00000\tvalidation_1-mae:15504222208.00000\n",
      "[883]\tvalidation_0-rmse:485102368.00000\tvalidation_0-mae:50083212.00000\tvalidation_1-rmse:35124133888.00000\tvalidation_1-mae:15504020480.00000\n",
      "[884]\tvalidation_0-rmse:485068384.00000\tvalidation_0-mae:50014684.00000\tvalidation_1-rmse:35124273152.00000\tvalidation_1-mae:15503834112.00000\n",
      "[885]\tvalidation_0-rmse:484905152.00000\tvalidation_0-mae:49953632.00000\tvalidation_1-rmse:35124326400.00000\tvalidation_1-mae:15503835136.00000\n",
      "[886]\tvalidation_0-rmse:484450912.00000\tvalidation_0-mae:50117328.00000\tvalidation_1-rmse:35124338688.00000\tvalidation_1-mae:15503908864.00000\n",
      "[887]\tvalidation_0-rmse:483630144.00000\tvalidation_0-mae:50070056.00000\tvalidation_1-rmse:35124391936.00000\tvalidation_1-mae:15503864832.00000\n",
      "[888]\tvalidation_0-rmse:483445600.00000\tvalidation_0-mae:50116944.00000\tvalidation_1-rmse:35124322304.00000\tvalidation_1-mae:15503888384.00000\n",
      "[889]\tvalidation_0-rmse:483811296.00000\tvalidation_0-mae:50117728.00000\tvalidation_1-rmse:35124195328.00000\tvalidation_1-mae:15503781888.00000\n",
      "[890]\tvalidation_0-rmse:484138144.00000\tvalidation_0-mae:50124788.00000\tvalidation_1-rmse:35124244480.00000\tvalidation_1-mae:15503796224.00000\n",
      "[891]\tvalidation_0-rmse:484492512.00000\tvalidation_0-mae:50117700.00000\tvalidation_1-rmse:35123871744.00000\tvalidation_1-mae:15503641600.00000\n",
      "[892]\tvalidation_0-rmse:484526656.00000\tvalidation_0-mae:50129704.00000\tvalidation_1-rmse:35123896320.00000\tvalidation_1-mae:15503819776.00000\n",
      "[893]\tvalidation_0-rmse:484505024.00000\tvalidation_0-mae:50224200.00000\tvalidation_1-rmse:35123937280.00000\tvalidation_1-mae:15504055296.00000\n",
      "[894]\tvalidation_0-rmse:484660704.00000\tvalidation_0-mae:50266960.00000\tvalidation_1-rmse:35123736576.00000\tvalidation_1-mae:15504285696.00000\n",
      "[895]\tvalidation_0-rmse:484956704.00000\tvalidation_0-mae:50259000.00000\tvalidation_1-rmse:35123748864.00000\tvalidation_1-mae:15504354304.00000\n",
      "[896]\tvalidation_0-rmse:484323008.00000\tvalidation_0-mae:50257528.00000\tvalidation_1-rmse:35123793920.00000\tvalidation_1-mae:15504443392.00000\n",
      "[897]\tvalidation_0-rmse:484307072.00000\tvalidation_0-mae:50231004.00000\tvalidation_1-rmse:35123945472.00000\tvalidation_1-mae:15504534528.00000\n",
      "[898]\tvalidation_0-rmse:483927520.00000\tvalidation_0-mae:50190836.00000\tvalidation_1-rmse:35123945472.00000\tvalidation_1-mae:15504487424.00000\n",
      "[899]\tvalidation_0-rmse:484035616.00000\tvalidation_0-mae:50128916.00000\tvalidation_1-rmse:35124015104.00000\tvalidation_1-mae:15504628736.00000\n",
      "[900]\tvalidation_0-rmse:484037984.00000\tvalidation_0-mae:50130708.00000\tvalidation_1-rmse:35124015104.00000\tvalidation_1-mae:15504636928.00000\n",
      "[901]\tvalidation_0-rmse:483652032.00000\tvalidation_0-mae:50098156.00000\tvalidation_1-rmse:35124101120.00000\tvalidation_1-mae:15504906240.00000\n",
      "[902]\tvalidation_0-rmse:483193568.00000\tvalidation_0-mae:50035608.00000\tvalidation_1-rmse:35124097024.00000\tvalidation_1-mae:15504800768.00000\n",
      "[903]\tvalidation_0-rmse:483336480.00000\tvalidation_0-mae:50007224.00000\tvalidation_1-rmse:35124121600.00000\tvalidation_1-mae:15504865280.00000\n",
      "[904]\tvalidation_0-rmse:482871040.00000\tvalidation_0-mae:49928128.00000\tvalidation_1-rmse:35124142080.00000\tvalidation_1-mae:15504678912.00000\n",
      "[905]\tvalidation_0-rmse:482773856.00000\tvalidation_0-mae:49901688.00000\tvalidation_1-rmse:35124125696.00000\tvalidation_1-mae:15504637952.00000\n",
      "[906]\tvalidation_0-rmse:482676736.00000\tvalidation_0-mae:49964668.00000\tvalidation_1-rmse:35124170752.00000\tvalidation_1-mae:15504894976.00000\n",
      "[907]\tvalidation_0-rmse:482366432.00000\tvalidation_0-mae:49938604.00000\tvalidation_1-rmse:35124133888.00000\tvalidation_1-mae:15504921600.00000\n",
      "[908]\tvalidation_0-rmse:482433536.00000\tvalidation_0-mae:49992220.00000\tvalidation_1-rmse:35124228096.00000\tvalidation_1-mae:15505015808.00000\n",
      "[909]\tvalidation_0-rmse:482306624.00000\tvalidation_0-mae:49959740.00000\tvalidation_1-rmse:35124187136.00000\tvalidation_1-mae:15504798720.00000\n",
      "[910]\tvalidation_0-rmse:482640768.00000\tvalidation_0-mae:49985416.00000\tvalidation_1-rmse:35124097024.00000\tvalidation_1-mae:15504613376.00000\n",
      "[911]\tvalidation_0-rmse:482360256.00000\tvalidation_0-mae:49957424.00000\tvalidation_1-rmse:35123933184.00000\tvalidation_1-mae:15504433152.00000\n",
      "[912]\tvalidation_0-rmse:482395648.00000\tvalidation_0-mae:49934268.00000\tvalidation_1-rmse:35123953664.00000\tvalidation_1-mae:15504497664.00000\n",
      "[913]\tvalidation_0-rmse:482667680.00000\tvalidation_0-mae:49963048.00000\tvalidation_1-rmse:35123970048.00000\tvalidation_1-mae:15504625664.00000\n",
      "[914]\tvalidation_0-rmse:482645088.00000\tvalidation_0-mae:50012876.00000\tvalidation_1-rmse:35123970048.00000\tvalidation_1-mae:15504681984.00000\n",
      "[915]\tvalidation_0-rmse:482372416.00000\tvalidation_0-mae:50094528.00000\tvalidation_1-rmse:35124137984.00000\tvalidation_1-mae:15504732160.00000\n",
      "[916]\tvalidation_0-rmse:482609280.00000\tvalidation_0-mae:50076752.00000\tvalidation_1-rmse:35124158464.00000\tvalidation_1-mae:15504732160.00000\n",
      "[917]\tvalidation_0-rmse:483044864.00000\tvalidation_0-mae:49984376.00000\tvalidation_1-rmse:35124150272.00000\tvalidation_1-mae:15504622592.00000\n",
      "[918]\tvalidation_0-rmse:482497600.00000\tvalidation_0-mae:49982356.00000\tvalidation_1-rmse:35124133888.00000\tvalidation_1-mae:15504617472.00000\n",
      "[919]\tvalidation_0-rmse:482451616.00000\tvalidation_0-mae:49977200.00000\tvalidation_1-rmse:35124154368.00000\tvalidation_1-mae:15504549888.00000\n",
      "[920]\tvalidation_0-rmse:482705728.00000\tvalidation_0-mae:49955876.00000\tvalidation_1-rmse:35124154368.00000\tvalidation_1-mae:15504600064.00000\n",
      "[921]\tvalidation_0-rmse:482629920.00000\tvalidation_0-mae:49968732.00000\tvalidation_1-rmse:35124314112.00000\tvalidation_1-mae:15504844800.00000\n",
      "[922]\tvalidation_0-rmse:482683680.00000\tvalidation_0-mae:50071160.00000\tvalidation_1-rmse:35124150272.00000\tvalidation_1-mae:15504585728.00000\n",
      "[923]\tvalidation_0-rmse:482339360.00000\tvalidation_0-mae:50045532.00000\tvalidation_1-rmse:35124133888.00000\tvalidation_1-mae:15504603136.00000\n",
      "[924]\tvalidation_0-rmse:482319584.00000\tvalidation_0-mae:50054116.00000\tvalidation_1-rmse:35124191232.00000\tvalidation_1-mae:15504641024.00000\n",
      "[925]\tvalidation_0-rmse:482913216.00000\tvalidation_0-mae:50109096.00000\tvalidation_1-rmse:35124092928.00000\tvalidation_1-mae:15504310272.00000\n",
      "[926]\tvalidation_0-rmse:482911360.00000\tvalidation_0-mae:50047824.00000\tvalidation_1-rmse:35124080640.00000\tvalidation_1-mae:15504191488.00000\n",
      "[927]\tvalidation_0-rmse:482766080.00000\tvalidation_0-mae:50124352.00000\tvalidation_1-rmse:35124068352.00000\tvalidation_1-mae:15504068608.00000\n",
      "[928]\tvalidation_0-rmse:483111648.00000\tvalidation_0-mae:50160608.00000\tvalidation_1-rmse:35123998720.00000\tvalidation_1-mae:15503873024.00000\n",
      "[929]\tvalidation_0-rmse:483539680.00000\tvalidation_0-mae:50151328.00000\tvalidation_1-rmse:35123949568.00000\tvalidation_1-mae:15503809536.00000\n",
      "[930]\tvalidation_0-rmse:483143904.00000\tvalidation_0-mae:50187920.00000\tvalidation_1-rmse:35123929088.00000\tvalidation_1-mae:15503677440.00000\n",
      "[931]\tvalidation_0-rmse:482781952.00000\tvalidation_0-mae:50176024.00000\tvalidation_1-rmse:35123978240.00000\tvalidation_1-mae:15503765504.00000\n",
      "[932]\tvalidation_0-rmse:482758048.00000\tvalidation_0-mae:50130204.00000\tvalidation_1-rmse:35123957760.00000\tvalidation_1-mae:15503863808.00000\n",
      "[933]\tvalidation_0-rmse:483496032.00000\tvalidation_0-mae:50125624.00000\tvalidation_1-rmse:35123978240.00000\tvalidation_1-mae:15504039936.00000\n",
      "[934]\tvalidation_0-rmse:483119616.00000\tvalidation_0-mae:50111320.00000\tvalidation_1-rmse:35124006912.00000\tvalidation_1-mae:15504157696.00000\n",
      "[935]\tvalidation_0-rmse:483653952.00000\tvalidation_0-mae:50110860.00000\tvalidation_1-rmse:35124064256.00000\tvalidation_1-mae:15504266240.00000\n",
      "[936]\tvalidation_0-rmse:483309888.00000\tvalidation_0-mae:50056716.00000\tvalidation_1-rmse:35124129792.00000\tvalidation_1-mae:15504235520.00000\n",
      "[937]\tvalidation_0-rmse:483999392.00000\tvalidation_0-mae:50040600.00000\tvalidation_1-rmse:35123924992.00000\tvalidation_1-mae:15503989760.00000\n",
      "[938]\tvalidation_0-rmse:484390816.00000\tvalidation_0-mae:50024344.00000\tvalidation_1-rmse:35123802112.00000\tvalidation_1-mae:15503724544.00000\n",
      "[939]\tvalidation_0-rmse:485062752.00000\tvalidation_0-mae:49988076.00000\tvalidation_1-rmse:35123802112.00000\tvalidation_1-mae:15503740928.00000\n",
      "[940]\tvalidation_0-rmse:484953344.00000\tvalidation_0-mae:49895184.00000\tvalidation_1-rmse:35123740672.00000\tvalidation_1-mae:15503558656.00000\n",
      "[941]\tvalidation_0-rmse:484252320.00000\tvalidation_0-mae:49981648.00000\tvalidation_1-rmse:35123572736.00000\tvalidation_1-mae:15503646720.00000\n",
      "[942]\tvalidation_0-rmse:484423520.00000\tvalidation_0-mae:49946176.00000\tvalidation_1-rmse:35123593216.00000\tvalidation_1-mae:15503588352.00000\n",
      "[943]\tvalidation_0-rmse:484403200.00000\tvalidation_0-mae:49982956.00000\tvalidation_1-rmse:35123589120.00000\tvalidation_1-mae:15503497216.00000\n",
      "[944]\tvalidation_0-rmse:484083648.00000\tvalidation_0-mae:49934580.00000\tvalidation_1-rmse:35123703808.00000\tvalidation_1-mae:15503715328.00000\n",
      "[945]\tvalidation_0-rmse:483390752.00000\tvalidation_0-mae:49873252.00000\tvalidation_1-rmse:35123699712.00000\tvalidation_1-mae:15503762432.00000\n",
      "[946]\tvalidation_0-rmse:483035808.00000\tvalidation_0-mae:50036612.00000\tvalidation_1-rmse:35123793920.00000\tvalidation_1-mae:15503882240.00000\n",
      "[947]\tvalidation_0-rmse:482265888.00000\tvalidation_0-mae:50072372.00000\tvalidation_1-rmse:35123802112.00000\tvalidation_1-mae:15503837184.00000\n",
      "[948]\tvalidation_0-rmse:482636608.00000\tvalidation_0-mae:50037768.00000\tvalidation_1-rmse:35123789824.00000\tvalidation_1-mae:15503714304.00000\n",
      "[949]\tvalidation_0-rmse:482837696.00000\tvalidation_0-mae:49976868.00000\tvalidation_1-rmse:35123757056.00000\tvalidation_1-mae:15503624192.00000\n",
      "[950]\tvalidation_0-rmse:482255552.00000\tvalidation_0-mae:49952704.00000\tvalidation_1-rmse:35123834880.00000\tvalidation_1-mae:15503567872.00000\n",
      "[951]\tvalidation_0-rmse:482972928.00000\tvalidation_0-mae:49932760.00000\tvalidation_1-rmse:35123851264.00000\tvalidation_1-mae:15503504384.00000\n",
      "[952]\tvalidation_0-rmse:482454016.00000\tvalidation_0-mae:50017008.00000\tvalidation_1-rmse:35123965952.00000\tvalidation_1-mae:15503454208.00000\n",
      "[953]\tvalidation_0-rmse:482135424.00000\tvalidation_0-mae:49979384.00000\tvalidation_1-rmse:35123998720.00000\tvalidation_1-mae:15503451136.00000\n",
      "[954]\tvalidation_0-rmse:482245984.00000\tvalidation_0-mae:50005268.00000\tvalidation_1-rmse:35123920896.00000\tvalidation_1-mae:15503432704.00000\n",
      "[955]\tvalidation_0-rmse:482220896.00000\tvalidation_0-mae:49993084.00000\tvalidation_1-rmse:35123826688.00000\tvalidation_1-mae:15503432704.00000\n",
      "[956]\tvalidation_0-rmse:482056768.00000\tvalidation_0-mae:49933992.00000\tvalidation_1-rmse:35123900416.00000\tvalidation_1-mae:15503350784.00000\n",
      "[957]\tvalidation_0-rmse:481945280.00000\tvalidation_0-mae:49913236.00000\tvalidation_1-rmse:35123904512.00000\tvalidation_1-mae:15503479808.00000\n",
      "[958]\tvalidation_0-rmse:482196992.00000\tvalidation_0-mae:49940940.00000\tvalidation_1-rmse:35123912704.00000\tvalidation_1-mae:15503394816.00000\n",
      "[959]\tvalidation_0-rmse:482525728.00000\tvalidation_0-mae:49951144.00000\tvalidation_1-rmse:35124035584.00000\tvalidation_1-mae:15503479808.00000\n",
      "[960]\tvalidation_0-rmse:483008800.00000\tvalidation_0-mae:49867848.00000\tvalidation_1-rmse:35124056064.00000\tvalidation_1-mae:15503639552.00000\n",
      "[961]\tvalidation_0-rmse:482753440.00000\tvalidation_0-mae:49844324.00000\tvalidation_1-rmse:35124133888.00000\tvalidation_1-mae:15503594496.00000\n",
      "[962]\tvalidation_0-rmse:483083200.00000\tvalidation_0-mae:49805732.00000\tvalidation_1-rmse:35124252672.00000\tvalidation_1-mae:15503624192.00000\n",
      "[963]\tvalidation_0-rmse:483259872.00000\tvalidation_0-mae:49872400.00000\tvalidation_1-rmse:35124326400.00000\tvalidation_1-mae:15503428608.00000\n",
      "[964]\tvalidation_0-rmse:482581728.00000\tvalidation_0-mae:49842876.00000\tvalidation_1-rmse:35124367360.00000\tvalidation_1-mae:15503630336.00000\n",
      "[965]\tvalidation_0-rmse:482788352.00000\tvalidation_0-mae:49805980.00000\tvalidation_1-rmse:35124400128.00000\tvalidation_1-mae:15503712256.00000\n",
      "[966]\tvalidation_0-rmse:482701664.00000\tvalidation_0-mae:49787108.00000\tvalidation_1-rmse:35124404224.00000\tvalidation_1-mae:15503693824.00000\n",
      "[967]\tvalidation_0-rmse:482822912.00000\tvalidation_0-mae:49796964.00000\tvalidation_1-rmse:35124355072.00000\tvalidation_1-mae:15503731712.00000\n",
      "[968]\tvalidation_0-rmse:482827104.00000\tvalidation_0-mae:49807264.00000\tvalidation_1-rmse:35124412416.00000\tvalidation_1-mae:15503935488.00000\n",
      "[969]\tvalidation_0-rmse:482892288.00000\tvalidation_0-mae:49889092.00000\tvalidation_1-rmse:35124486144.00000\tvalidation_1-mae:15503954944.00000\n",
      "[970]\tvalidation_0-rmse:482861184.00000\tvalidation_0-mae:49891428.00000\tvalidation_1-rmse:35124551680.00000\tvalidation_1-mae:15504187392.00000\n",
      "[971]\tvalidation_0-rmse:483205024.00000\tvalidation_0-mae:49793176.00000\tvalidation_1-rmse:35124498432.00000\tvalidation_1-mae:15503976448.00000\n",
      "[972]\tvalidation_0-rmse:482786048.00000\tvalidation_0-mae:49881408.00000\tvalidation_1-rmse:35124322304.00000\tvalidation_1-mae:15503923200.00000\n",
      "[973]\tvalidation_0-rmse:482580352.00000\tvalidation_0-mae:49832432.00000\tvalidation_1-rmse:35124293632.00000\tvalidation_1-mae:15503828992.00000\n",
      "[974]\tvalidation_0-rmse:482847040.00000\tvalidation_0-mae:49958292.00000\tvalidation_1-rmse:35124162560.00000\tvalidation_1-mae:15503621120.00000\n",
      "[975]\tvalidation_0-rmse:483882080.00000\tvalidation_0-mae:49994360.00000\tvalidation_1-rmse:35124215808.00000\tvalidation_1-mae:15503711232.00000\n",
      "[976]\tvalidation_0-rmse:484126176.00000\tvalidation_0-mae:49983476.00000\tvalidation_1-rmse:35124215808.00000\tvalidation_1-mae:15503828992.00000\n",
      "[977]\tvalidation_0-rmse:483211840.00000\tvalidation_0-mae:49951444.00000\tvalidation_1-rmse:35124080640.00000\tvalidation_1-mae:15503835136.00000\n",
      "[978]\tvalidation_0-rmse:483631520.00000\tvalidation_0-mae:49943740.00000\tvalidation_1-rmse:35124056064.00000\tvalidation_1-mae:15503791104.00000\n",
      "[979]\tvalidation_0-rmse:483264256.00000\tvalidation_0-mae:49985120.00000\tvalidation_1-rmse:35123920896.00000\tvalidation_1-mae:15503769600.00000\n",
      "[980]\tvalidation_0-rmse:483261792.00000\tvalidation_0-mae:49957688.00000\tvalidation_1-rmse:35124019200.00000\tvalidation_1-mae:15503902720.00000\n",
      "[981]\tvalidation_0-rmse:483021952.00000\tvalidation_0-mae:50068700.00000\tvalidation_1-rmse:35124006912.00000\tvalidation_1-mae:15503869952.00000\n",
      "[982]\tvalidation_0-rmse:483650656.00000\tvalidation_0-mae:50232620.00000\tvalidation_1-rmse:35123941376.00000\tvalidation_1-mae:15503841280.00000\n",
      "[983]\tvalidation_0-rmse:484282368.00000\tvalidation_0-mae:50235788.00000\tvalidation_1-rmse:35123818496.00000\tvalidation_1-mae:15503767552.00000\n",
      "[984]\tvalidation_0-rmse:482986528.00000\tvalidation_0-mae:50156044.00000\tvalidation_1-rmse:35123793920.00000\tvalidation_1-mae:15503740928.00000\n",
      "[985]\tvalidation_0-rmse:483002976.00000\tvalidation_0-mae:50104772.00000\tvalidation_1-rmse:35123863552.00000\tvalidation_1-mae:15503794176.00000\n",
      "[986]\tvalidation_0-rmse:483120448.00000\tvalidation_0-mae:50090376.00000\tvalidation_1-rmse:35123933184.00000\tvalidation_1-mae:15503854592.00000\n",
      "[987]\tvalidation_0-rmse:482932960.00000\tvalidation_0-mae:50085372.00000\tvalidation_1-rmse:35123933184.00000\tvalidation_1-mae:15503907840.00000\n",
      "[988]\tvalidation_0-rmse:482889984.00000\tvalidation_0-mae:50100680.00000\tvalidation_1-rmse:35124084736.00000\tvalidation_1-mae:15504259072.00000\n",
      "[989]\tvalidation_0-rmse:483166912.00000\tvalidation_0-mae:50173828.00000\tvalidation_1-rmse:35124113408.00000\tvalidation_1-mae:15504276480.00000\n",
      "[990]\tvalidation_0-rmse:483638848.00000\tvalidation_0-mae:50265244.00000\tvalidation_1-rmse:35124109312.00000\tvalidation_1-mae:15504367616.00000\n",
      "[991]\tvalidation_0-rmse:483243200.00000\tvalidation_0-mae:50241376.00000\tvalidation_1-rmse:35124072448.00000\tvalidation_1-mae:15504490496.00000\n",
      "[992]\tvalidation_0-rmse:482396064.00000\tvalidation_0-mae:50284896.00000\tvalidation_1-rmse:35124064256.00000\tvalidation_1-mae:15504438272.00000\n",
      "[993]\tvalidation_0-rmse:482109696.00000\tvalidation_0-mae:50282320.00000\tvalidation_1-rmse:35123961856.00000\tvalidation_1-mae:15504291840.00000\n",
      "[994]\tvalidation_0-rmse:482001344.00000\tvalidation_0-mae:50271708.00000\tvalidation_1-rmse:35123937280.00000\tvalidation_1-mae:15504209920.00000\n",
      "[995]\tvalidation_0-rmse:482070016.00000\tvalidation_0-mae:50202928.00000\tvalidation_1-rmse:35123896320.00000\tvalidation_1-mae:15504191488.00000\n",
      "[996]\tvalidation_0-rmse:481883808.00000\tvalidation_0-mae:50206612.00000\tvalidation_1-rmse:35123867648.00000\tvalidation_1-mae:15504024576.00000\n",
      "[997]\tvalidation_0-rmse:482093504.00000\tvalidation_0-mae:50206452.00000\tvalidation_1-rmse:35123834880.00000\tvalidation_1-mae:15504055296.00000\n",
      "[998]\tvalidation_0-rmse:482443456.00000\tvalidation_0-mae:50193208.00000\tvalidation_1-rmse:35123814400.00000\tvalidation_1-mae:15504294912.00000\n",
      "[999]\tvalidation_0-rmse:482897280.00000\tvalidation_0-mae:50208960.00000\tvalidation_1-rmse:35123671040.00000\tvalidation_1-mae:15504071680.00000\n"
     ]
    },
    {
     "data": {
      "text/plain": [
       "XGBRegressor(base_score=0.5, booster='gbtree', colsample_bylevel=1,\n",
       "             colsample_bynode=1, colsample_bytree=0.8, eta=0.1, gamma=0,\n",
       "             gpu_id=-1, importance_type='gain', interaction_constraints='',\n",
       "             learning_rate=0.100000001, max_delta_step=0, max_depth=150,\n",
       "             min_child_weight=1, missing=nan, monotone_constraints='()',\n",
       "             n_estimators=1000, n_jobs=8, num_parallel_tree=1, random_state=0,\n",
       "             reg_alpha=0, reg_lambda=1, scale_pos_weight=1, subsample=0.7,\n",
       "             tree_method='exact', validate_parameters=1, verbosity=None)"
      ]
     },
     "execution_count": 117,
     "metadata": {},
     "output_type": "execute_result"
    }
   ],
   "source": [
    "# Split the data for training\n",
    "(\n",
    "    X_train, X_test,\n",
    "    y_train, y_test,\n",
    "    #data_index_train, data_index_test,\n",
    "    #target_index_train, target_index_test\n",
    ") = train_test_split(\n",
    "    data,\n",
    "    target,\n",
    "    random_state=42,\n",
    "    test_size=.33\n",
    ")\n",
    "model = xgb.XGBRegressor(n_estimators=1000, max_depth=150, eta=0.1, subsample=0.7, colsample_bytree=0.8)\n",
    "eval_set = [(X_train, y_train), (X_test, y_test)]\n",
    "model.fit(X_train, y_train, eval_metric=[\"rmse\", \"mae\"], eval_set=eval_set, verbose=True)"
   ]
  },
  {
   "cell_type": "code",
   "execution_count": 118,
   "metadata": {},
   "outputs": [
    {
     "name": "stdout",
     "output_type": "stream",
     "text": [
      "Mean Absolute Error: 14.44\n"
     ]
    }
   ],
   "source": [
    "y_test_predict = model.predict(X_test)\n",
    "errors = abs(y_test_predict - y_test)/1024/1024/1024\n",
    "mean_error = round(np.mean(errors),2)\n",
    "print('Mean Absolute Error:', round(np.mean(errors),2))"
   ]
  },
  {
   "cell_type": "code",
   "execution_count": 119,
   "metadata": {},
   "outputs": [
    {
     "data": {
      "image/png": "[encoded data removed]",
      "text/plain": [
       "<Figure size 432x288 with 1 Axes>"
      ]
     },
     "metadata": {
      "needs_background": "light"
     },
     "output_type": "display_data"
    }
   ],
   "source": [
    "xgb.plot_importance(model)\n",
    "plt.title(\"xgboost.plot_importance(model)\")\n",
    "plt.show()"
   ]
  },
  {
   "cell_type": "code",
   "execution_count": 120,
   "metadata": {},
   "outputs": [],
   "source": [
    "yptest_gb = y_test_predict/1024/1024/1024\n",
    "ytest_gb = y_test/1024/1024/1024\n"
   ]
  },
  {
   "cell_type": "code",
   "execution_count": 122,
   "metadata": {},
   "outputs": [
    {
     "name": "stdout",
     "output_type": "stream",
     "text": [
      "R2 Score 0.9868406738434874\n"
     ]
    },
    {
     "data": {
      "image/png": "[encoded data removed]",
      "text/plain": [
       "<Figure size 432x288 with 1 Axes>"
      ]
     },
     "metadata": {
      "needs_background": "light"
     },
     "output_type": "display_data"
    }
   ],
   "source": [
    "plt.plot(ytest_gb, yptest_gb,'.')\n",
    "plt.xlabel('V100 Throughput')\n",
    "plt.ylabel('V100 Throughput Prediction')\n",
    "plt.title('7 Features - MAE: ' + str(mean_error))\n",
    "print(\"R2 Score\", r2_score(ytest_gb,yptest_gb))"
   ]
  },
  {
   "cell_type": "code",
   "execution_count": 41,
   "metadata": {},
   "outputs": [],
   "source": [
    "from sklearn.model_selection import RepeatedKFold\n",
    "from sklearn.model_selection import cross_val_score\n",
    "X,y = data,target\n",
    "cv = RepeatedKFold(n_splits=4, n_repeats=2, random_state=1)\n",
    "scores = cross_val_score(model,X,y,scoring='neg_mean_absolute_error', cv=cv, n_jobs=-1)"
   ]
  },
  {
   "cell_type": "code",
   "execution_count": 42,
   "metadata": {},
   "outputs": [
    {
     "name": "stdout",
     "output_type": "stream",
     "text": [
      "Mean MAE: 13658094306.261 (287125745.317)\n"
     ]
    }
   ],
   "source": [
    "# force scores to be positive\n",
    "scores = abs(scores)\n",
    "print('Mean MAE: %.3f (%.3f)' % (scores.mean(), scores.std()) )"
   ]
  },
  {
   "cell_type": "code",
   "execution_count": 212,
   "metadata": {},
   "outputs": [
    {
     "name": "stdout",
     "output_type": "stream",
     "text": [
      "Accuracy: -inf %.\n"
     ]
    },
    {
     "name": "stderr",
     "output_type": "stream",
     "text": [
      "/Users/yzamora/miniconda3/lib/python3.6/site-packages/ipykernel_launcher.py:1: RuntimeWarning: divide by zero encountered in true_divide\n",
      "  \"\"\"Entry point for launching an IPython kernel.\n"
     ]
    }
   ],
   "source": [
    "mape = 100 * (errors/y_test)\n",
    "accuracy = 100 - np.mean(mape)\n",
    "print('Accuracy:', round(accuracy, 2), '%.')\n"
   ]
  },
  {
   "cell_type": "code",
   "execution_count": 56,
   "metadata": {},
   "outputs": [],
   "source": [
    "true_indices = []\n",
    "for i, (ind0, ind1) in enumerate(zip(data_index, target_index)):\n",
    "    if all_prediction[i] == 1:\n",
    "        true_indices.append(ind0)\n",
    "        true_indices.append(ind1)\n",
    "true_indices = np.array(true_indices)\n",
    "\n",
    "\n",
    "# Save true_indices to 'predicted_v100_memory_bound_indices.npy'\n",
    "np.save('predicted_v100_memory_bound_indices.npy', true_indices)"
   ]
  },
  {
   "cell_type": "code",
   "execution_count": 67,
   "metadata": {},
   "outputs": [
    {
     "ename": "NameError",
     "evalue": "name 'true_indices' is not defined",
     "output_type": "error",
     "traceback": [
      "\u001b[0;31m---------------------------------------------------------------------------\u001b[0m",
      "\u001b[0;31mNameError\u001b[0m                                 Traceback (most recent call last)",
      "\u001b[0;32m<ipython-input-67-8ddf219982d8>\u001b[0m in \u001b[0;36m<module>\u001b[0;34m\u001b[0m\n\u001b[0;32m----> 1\u001b[0;31m \u001b[0mtrue_indices\u001b[0m\u001b[0;34m\u001b[0m\u001b[0;34m\u001b[0m\u001b[0m\n\u001b[0m",
      "\u001b[0;31mNameError\u001b[0m: name 'true_indices' is not defined"
     ]
    }
   ],
   "source": [
    "true_indices"
   ]
  },
  {
   "cell_type": "markdown",
   "metadata": {},
   "source": [
    "# Generate \"Predicted\" Dataframe\n",
    "\n",
    "Let's create a dataframe of Cases with V100 memory-bound predictions."
   ]
  },
  {
   "cell_type": "code",
   "execution_count": 210,
   "metadata": {},
   "outputs": [],
   "source": [
    "real_index = []\n",
    "for i, val in enumerate(df_master['master_index']):\n",
    "    if val in true_indices:\n",
    "        real_index.append(i)\n",
    "        \n",
    "df_predicted = df_master.iloc[real_index].copy()\n",
    "df_write = df_predicted.drop(['master_index', 'memory_bound'], axis=1).copy()\n",
    "df_write[df_write['architecture'] == 'V100'].to_csv('predicted_true_v100.csv', index=False)\n",
    "df_write[df_write['architecture'] == 'P100'].to_csv('predicted_true_p100.csv', index=False)"
   ]
  },
  {
   "cell_type": "code",
   "execution_count": 222,
   "metadata": {},
   "outputs": [
    {
     "data": {
      "text/plain": [
       "(3168, 120)"
      ]
     },
     "execution_count": 222,
     "metadata": {},
     "output_type": "execute_result"
    }
   ],
   "source": [
    "df_test_p100 = pd.read_csv('predicted_true_p100.csv')\n",
    "df_test_v100 = pd.read_csv('predicted_true_v100.csv')\n",
    "df_test_v100.shape"
   ]
  },
  {
   "cell_type": "code",
   "execution_count": 224,
   "metadata": {},
   "outputs": [
    {
     "data": {
      "text/plain": [
       "(3168, 2)"
      ]
     },
     "execution_count": 224,
     "metadata": {},
     "output_type": "execute_result"
    }
   ],
   "source": [
    "p100_dram_only = df_test_p100[['dram_read_throughput','dram_write_throughput']]\n",
    "v100_dram_only = df_test_p100[['dram_read_throughput','dram_write_throughput']]\n",
    "p100_dram_only.shape"
   ]
  },
  {
   "cell_type": "code",
   "execution_count": 212,
   "metadata": {},
   "outputs": [],
   "source": [
    "backprop_ind_p100 = df_test_p100[df_test_p100['application_name']=='backprop'].index.values\n",
    "\n",
    "# Use random 10%\n",
    "fraction_include = 0.1\n",
    "n_backprop = len(backprop_ind_p100)\n",
    "backprop_ind_p100 = backprop_ind_p100[np.random.permutation(n_backprop)][:int(n_backprop*fraction_include)]\n",
    "other_ind_p100 = df_test_p100[df_test_p100['application_name']!='backprop'].index.values\n",
    "use_ind_p100 = np.sort( np.concatenate( (backprop_ind_p100, other_ind_p100) ) )\n",
    "\n",
    "df_test_p100 = df_test_p100.loc[use_ind_p100]"
   ]
  },
  {
   "cell_type": "code",
   "execution_count": 213,
   "metadata": {},
   "outputs": [],
   "source": [
    "backprop_ind_v100 = df_test_v100[df_test_v100['application_name']=='backprop'].index.values\n",
    "\n",
    "# Use random 10%\n",
    "fraction_include = 0.1\n",
    "n_backprop = len(backprop_ind_v100)\n",
    "backprop_ind_v100 = backprop_ind_v100[np.random.permutation(n_backprop)][:int(n_backprop*fraction_include)]\n",
    "other_ind_v100 = df_test_v100[df_test_v100['application_name']!='backprop'].index.values\n",
    "use_ind_v100 = np.sort( np.concatenate( (backprop_ind_v100, other_ind_v100) ) )\n",
    "\n",
    "df_test_v100 = df_test_v100.loc[use_ind_v100]"
   ]
  },
  {
   "cell_type": "code",
   "execution_count": 214,
   "metadata": {},
   "outputs": [
    {
     "data": {
      "text/plain": [
       "252"
      ]
     },
     "execution_count": 214,
     "metadata": {},
     "output_type": "execute_result"
    }
   ],
   "source": [
    "int(n_backprop*fraction_include)"
   ]
  },
  {
   "cell_type": "code",
   "execution_count": 215,
   "metadata": {},
   "outputs": [],
   "source": [
    "# acquiring 20% from each\n",
    "##df_test_p100 = df_test_p100.drop(['architecture','input','application_name','kernelname'],axis=1)\n",
    "##df_test_v100 = df_test_v100.drop(['architecture','input','application_name','kernelname'],axis=1)"
   ]
  },
  {
   "cell_type": "code",
   "execution_count": 216,
   "metadata": {},
   "outputs": [],
   "source": [
    "rand_ind = np.random.permutation(len(df_test_v100.index))"
   ]
  },
  {
   "cell_type": "code",
   "execution_count": 217,
   "metadata": {
    "scrolled": true
   },
   "outputs": [
    {
     "name": "stdout",
     "output_type": "stream",
     "text": [
      "(715,)\n",
      "(179,)\n",
      "(715,)\n",
      "(179,)\n"
     ]
    }
   ],
   "source": [
    "n_train_v100 = int(0.2*len(df_test_v100.index))\n",
    "test_ind_v100 = rand_ind[:n_train_v100+1]\n",
    "train_ind_v100 = rand_ind[n_train_v100+1:]\n",
    "\n",
    "n_train_p100 = int(0.2*len(df_test_p100.index))\n",
    "test_ind_p100 = rand_ind[:n_train_p100+1]\n",
    "train_ind_p100 = rand_ind[n_train_p100+1:]\n",
    "\n",
    "print(train_ind_v100.shape)\n",
    "print(test_ind_v100.shape)\n",
    "\n",
    "print(train_ind_p100.shape)\n",
    "print(test_ind_p100.shape)"
   ]
  },
  {
   "cell_type": "code",
   "execution_count": 218,
   "metadata": {},
   "outputs": [],
   "source": [
    "X_test_v100 = df_test_v100.iloc[test_ind_v100].values\n",
    "X_test_p100 = df_test_p100.iloc[test_ind_p100].values\n",
    "\n",
    "X_train_v100 = df_test_v100.iloc[train_ind_v100]\n",
    "X_train_p100 = df_test_p100.iloc[train_ind_p100]"
   ]
  },
  {
   "cell_type": "code",
   "execution_count": 219,
   "metadata": {},
   "outputs": [],
   "source": [
    "X_train_v100.to_csv('train_predicted_true_v100.csv', index=False)\n",
    "X_train_p100.to_csv('train_predicted_true_p100.csv', index=False)\n",
    "\n",
    "#X_test_v100.to_csv('test_predicted_true_v100.csv', index=False)\n",
    "#X_test_p100.to_csv('test_predicted_true_p100.csv', index=False)"
   ]
  },
  {
   "cell_type": "code",
   "execution_count": 209,
   "metadata": {},
   "outputs": [],
   "source": [
    "np.save('X_predicted_test_v100',X_test_v100)\n",
    "np.save('X_predicted_test_p100',X_test_p100)\n",
    "\n",
    "#np.save('X_predicted_train_v100',X_train_v100)\n",
    "#np.save('X_predicted_train_p100',X_train_p100)"
   ]
  },
  {
   "cell_type": "code",
   "execution_count": null,
   "metadata": {},
   "outputs": [],
   "source": []
  }
 ],
 "metadata": {
  "kernelspec": {
   "display_name": "Python 3",
   "language": "python",
   "name": "python3"
  },
  "language_info": {
   "codemirror_mode": {
    "name": "ipython",
    "version": 3
   },
   "file_extension": ".py",
   "mimetype": "text/x-python",
   "name": "python",
   "nbconvert_exporter": "python",
   "pygments_lexer": "ipython3",
   "version": "3.6.8"
  }
 },
 "nbformat": 4,
 "nbformat_minor": 4
}
