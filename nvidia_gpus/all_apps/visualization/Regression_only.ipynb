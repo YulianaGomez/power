{
 "cells": [
  {
   "cell_type": "code",
   "execution_count": 69,
   "id": "c934ad26-e780-4f5e-a23d-ced9a2e039c5",
   "metadata": {},
   "outputs": [
    {
     "data": {
      "text/html": [
       "<style>.container { width:100% !important; }</style>"
      ],
      "text/plain": [
       "<IPython.core.display.HTML object>"
      ]
     },
     "metadata": {},
     "output_type": "display_data"
    }
   ],
   "source": [
    "import pandas as pd\n",
    "import numpy as np\n",
    "import matplotlib.pyplot as plt\n",
    "from sklearn.metrics import r2_score\n",
    "from sklearn.metrics import mean_squared_error\n",
    "from sklearn.model_selection import train_test_split\n",
    "from sklearn.ensemble import RandomForestClassifier\n",
    "from sklearn.ensemble import RandomForestRegressor\n",
    "from sklearn.metrics import mean_absolute_percentage_error\n",
    "from sklearn.tree import export_graphviz\n",
    "from sklearn.metrics import accuracy_score\n",
    "plt.rc('pdf', fonttype=42)\n",
    "\n",
    "from IPython.core.display import display, HTML\n",
    "display(HTML('<style>.container { width:100% !important; }</style>'))\n",
    "\n",
    "BIG    = 22\n",
    "MEDIUM = 20\n",
    "FIGWIDTH= 12\n",
    "WIDTH = 0.25  # the width of the bars\n",
    "NARROW=0.2\n",
    "\n",
    "XLINE  = 523.21\n",
    "YLINE  = 0.002\n",
    "\n",
    "colors = ['#E27100', '#1b85b8', '#559e83', '#b26167']\n",
    "\n",
    "# Starting to define standardized colors\n",
    "MAE_COLOR =colors[1]\n",
    "TIME_COLOR=colors[0]"
   ]
  },
  {
   "cell_type": "code",
   "execution_count": 70,
   "id": "9e736242-b18d-46fc-b195-bb65bad49afb",
   "metadata": {},
   "outputs": [
    {
     "data": {
      "text/plain": [
       "(78330, 116)"
      ]
     },
     "execution_count": 70,
     "metadata": {},
     "output_type": "execute_result"
    }
   ],
   "source": [
    "# Combining V100 and P100 on same row for same run\n",
    "# We are deleting cases where there is no run for either of the architectures\n",
    "# Every column name is appended with the name of the architecture (e.g. \"_V100\");\n",
    "# This includes the `master_index` (e.g `master_index_V100`)\n",
    "\n",
    "df_joined = pd.read_parquet('../df_master_joined.parquet')\n",
    "df_joined.master_index_P100 = df_joined.master_index_P100.astype('int64') # Make sure index is integer\n",
    "df_joined.master_index_V100 = df_joined.master_index_V100.astype('int64') # Make sure index is integer\n",
    "df_joined.shape\n",
    "\n",
    "\n",
    "# This is an \"empty\" dataframe (meaning no rows), containing\n",
    "# column names for numerical data only.\n",
    "# The column nmaes can be used to index the columns of the\n",
    "# scaled data (in master_scaled_data.npy)\n",
    "\n",
    "df_columns_only = pd.read_parquet('../df_column_reference.parquet')\n",
    "\n",
    "\n",
    "# This is a 2-D numpy array corresponding to the numerical data in 'df_master.parquet'\n",
    "# The data has been scaled using the StandardScaler in scikitlearn\n",
    "\n",
    "# Notes: \n",
    "#   - The row indices correspond to the `master_index` column of 'df_master.parquet'\n",
    "#   - The columns correspond to the columns in 'df_column_reference.parquet'.\n",
    "#     (e.g. can use `df.get_loc(column-name)` to get the column index)\n",
    "\n",
    "master_data_scaled = np.load('../master_scaled_data.npy')\n",
    "master_data_scaled.shape"
   ]
  },
  {
   "cell_type": "code",
   "execution_count": 71,
   "id": "c6c7193a-cb71-4aa2-8146-1f9349436afd",
   "metadata": {},
   "outputs": [],
   "source": [
    "temp_col = df_joined['dram_write_throughput_P100'] + df_joined['dram_read_throughput_P100']\n",
    "\"\"\"temp_col3 = df_joined['dram_write_throughput_V100'] + df_joined['dram_read_throughput_V100']\n",
    "temp_col = df_joined['dram_write_throughput_P100']\n",
    "temp_col2 = df_joined['dram_read_throughput_P100']\n",
    "temp_col4 = df_joined['dram_write_throughput_V100']\n",
    "temp_col5 = df_joined['dram_read_throughput_V100']\n",
    "df_joined =df_joined[temp_col>1e9]\n",
    "df_joined =df_joined[temp_col2>1e9]\n",
    "df_joined =df_joined[temp_col4>1e9]\n",
    "df_joined =df_joined[temp_col5>1e9]\"\"\"\n",
    "#df_joined = df_joined[temp_col3>1e9]\n",
    "\n",
    "df_joined =df_joined[temp_col>1e9]\n",
    "#df_joined =df_joined[temp_col2>10e9]\n",
    "#df_joined= df_joined[temp_col2>10e9]\n",
    "#df_joined= df_joined[temp_col2>10e9]"
   ]
  },
  {
   "cell_type": "code",
   "execution_count": 72,
   "id": "3cffd4f8-31db-4d6f-b1e5-bf1dce5fbdfd",
   "metadata": {},
   "outputs": [],
   "source": [
    "\n",
    "df = df_joined.copy()  # Start with all of df_joined\n",
    "\n",
    "# Target index and values (values are NOT in master_data_scaled)\n",
    "target_index = df['master_index_V100'].values\n",
    "target = df['memory_bound_V100'].values\n",
    "\n",
    "# Training data index and values (values ARE in master_data_scaled)\n",
    "data_index = df['master_index_P100'].values\n",
    "data = master_data_scaled[ data_index ]\n",
    "\n",
    "# Need to drop 'dram_read_throughput' and 'dram_write_throughput'\n",
    "indices = []\n",
    "for i, col in enumerate(df_columns_only.columns):\n",
    "    if col not in ['dram_read_throughput', 'dram_write_throughput','dram_write_transactions','dram_read_transactions']:\n",
    "    #if col not in not_import:\n",
    "        indices.append(i)       \n",
    "data = data[:,indices]"
   ]
  },
  {
   "cell_type": "code",
   "execution_count": 73,
   "id": "b2414ddb-31ce-4917-b85f-8f2e1abe9f13",
   "metadata": {},
   "outputs": [],
   "source": [
    "# Training data index and values (values ARE in master_data_scaled)\n",
    "data_index = df['master_index_P100'].values\n",
    "data = master_data_scaled[ data_index ]\n",
    "\n",
    "top_features = ['gld_transactions', 'l2_write_transactions', 'l2_tex_write_transactions','tex_cache_transactions','gst_transactions']\n",
    "# Need to drop 'dram_read_throughput' and 'dram_write_throughput'\n",
    "indices = []\n",
    "for i, col in enumerate(df_columns_only.columns):\n",
    "    if col not in ['dram_read_throughput', 'dram_write_throughput','dram_write_transactions','dram_read_transactions']:\n",
    "    #if col in top_features:\n",
    "        indices.append(i)       \n",
    "data = data[:,indices]"
   ]
  },
  {
   "cell_type": "code",
   "execution_count": 74,
   "id": "33131141-8134-438a-bbfe-ee9ac0fd6d5b",
   "metadata": {},
   "outputs": [],
   "source": [
    "df_target = (df_joined['dram_read_throughput_V100'] + df_joined['dram_write_throughput_V100']).values\n",
    "# Split the data for training\n",
    "(\n",
    "    X_train, X_test,\n",
    "    y_train, y_test,\n",
    "    #data_index_train, data_index_test,\n",
    "    #target_index_train, target_index_test\n",
    ") = train_test_split(\n",
    "    data,\n",
    "    df_target,\n",
    "    #data_index,\n",
    "    #target_index,\n",
    "    random_state=42,\n",
    "    test_size=.33\n",
    ")"
   ]
  },
  {
   "cell_type": "code",
   "execution_count": 75,
   "id": "56599e6d-f6fc-4155-a77c-dbe0f3d097c9",
   "metadata": {},
   "outputs": [
    {
     "data": {
      "text/plain": [
       "(27105, 112)"
      ]
     },
     "execution_count": 75,
     "metadata": {},
     "output_type": "execute_result"
    }
   ],
   "source": [
    "data.shape"
   ]
  },
  {
   "cell_type": "code",
   "execution_count": 76,
   "id": "bd28c063-b836-4c10-a20b-5cc127861883",
   "metadata": {},
   "outputs": [],
   "source": [
    "clf = RandomForestRegressor(n_jobs=2, n_estimators=200, max_depth=100)\n",
    "reg_model = clf.fit(X_train, y_train)\n",
    "y_test_predict = clf.predict(X_test)"
   ]
  },
  {
   "cell_type": "code",
   "execution_count": 77,
   "id": "006ad6e3-6d88-40f0-b8b9-077c45843a31",
   "metadata": {},
   "outputs": [
    {
     "name": "stdout",
     "output_type": "stream",
     "text": [
      "Mean Absolute Error: 14.06\n",
      "Mean absolute percentage error: 357.5644574092967\n"
     ]
    }
   ],
   "source": [
    "clf = RandomForestRegressor(n_jobs=2, n_estimators=200, max_depth=100)\n",
    "reg_model = clf.fit(X_train, y_train)\n",
    "y_test_predict = clf.predict(X_test)errors = abs(y_test_predict - y_test)/1024/1024/1024\n",
    "y_test_predict_gb = y_test_predict/1024/1024/1024\n",
    "y_test_gb = y_test/1024/1024/1024\n",
    "mean_error = round(np.mean(errors),2)\n",
    "print('Mean Absolute Error:', round(np.mean(errors),2))\n",
    "print(\"Mean absolute percentage error:\",mean_absolute_percentage_error(y_test_gb,y_test_predict_gb)*100)"
   ]
  },
  {
   "cell_type": "code",
   "execution_count": 78,
   "id": "881811fb-3843-4698-9a90-c9e90129f14a",
   "metadata": {},
   "outputs": [
    {
     "data": {
      "text/plain": [
       "Text(0,0.5,'Predicted')"
      ]
     },
     "execution_count": 78,
     "metadata": {},
     "output_type": "execute_result"
    },
    {
     "data": {
      "image/png": "[encoded data removed]",
      "text/plain": [
       "<Figure size 432x288 with 1 Axes>"
      ]
     },
     "metadata": {
      "needs_background": "light"
     },
     "output_type": "display_data"
    }
   ],
   "source": [
    "plt.plot(y_test/1024/1024/1024, y_test_predict/1024/1024/1024,'.')\n",
    "plt.xlabel('True')\n",
    "plt.ylabel('Predicted')"
   ]
  },
  {
   "cell_type": "code",
   "execution_count": null,
   "id": "46a7d57b-9f4f-49e8-b356-0de95d19d23f",
   "metadata": {},
   "outputs": [],
   "source": []
  },
  {
   "cell_type": "code",
   "execution_count": null,
   "id": "b2de153f-5094-489f-9f62-26a5c337cfef",
   "metadata": {},
   "outputs": [],
   "source": []
  }
 ],
 "metadata": {
  "kernelspec": {
   "display_name": "Python 3",
   "language": "python",
   "name": "python3"
  },
  "language_info": {
   "codemirror_mode": {
    "name": "ipython",
    "version": 3
   },
   "file_extension": ".py",
   "mimetype": "text/x-python",
   "name": "python",
   "nbconvert_exporter": "python",
   "pygments_lexer": "ipython3",
   "version": "3.6.8"
  }
 },
 "nbformat": 4,
 "nbformat_minor": 5
}
