{
 "cells": [
  {
   "cell_type": "code",
   "execution_count": 97,
   "id": "8b17620a",
   "metadata": {},
   "outputs": [
    {
     "data": {
      "text/html": [
       "<style>.container { width:100% !important; }</style>"
      ],
      "text/plain": [
       "<IPython.core.display.HTML object>"
      ]
     },
     "metadata": {},
     "output_type": "display_data"
    }
   ],
   "source": [
    "import pandas as pd\n",
    "import numpy as np\n",
    "import matplotlib.pyplot as plt\n",
    "from sklearn.metrics import r2_score\n",
    "from sklearn.metrics import mean_squared_error\n",
    "from sklearn.model_selection import train_test_split\n",
    "from sklearn.ensemble import RandomForestClassifier\n",
    "from sklearn.ensemble import RandomForestRegressor\n",
    "from sklearn.metrics import mean_absolute_percentage_error\n",
    "from sklearn.tree import export_graphviz\n",
    "from sklearn.metrics import accuracy_score\n",
    "plt.rc('pdf', fonttype=42)\n",
    "\n",
    "from IPython.core.display import display, HTML\n",
    "display(HTML('<style>.container { width:100% !important; }</style>'))\n",
    "\n",
    "BIG    = 22\n",
    "MEDIUM = 20\n",
    "FIGWIDTH= 12\n",
    "WIDTH = 0.25  # the width of the bars\n",
    "NARROW=0.2\n",
    "\n",
    "XLINE  = 523.21\n",
    "YLINE  = 0.002\n",
    "\n",
    "colors = ['#E27100', '#1b85b8', '#559e83', '#b26167']\n",
    "\n",
    "# Starting to define standardized colors\n",
    "MAE_COLOR =colors[1]\n",
    "TIME_COLOR=colors[0]"
   ]
  },
  {
   "cell_type": "code",
   "execution_count": 98,
   "id": "88e04c46",
   "metadata": {},
   "outputs": [
    {
     "data": {
      "text/plain": [
       "(78330, 116)"
      ]
     },
     "execution_count": 98,
     "metadata": {},
     "output_type": "execute_result"
    }
   ],
   "source": [
    "# Combining V100 and P100 on same row for same run\n",
    "# We are deleting cases where there is no run for either of the architectures\n",
    "# Every column name is appended with the name of the architecture (e.g. \"_V100\");\n",
    "# This includes the `master_index` (e.g `master_index_V100`)\n",
    "\n",
    "df_joined = pd.read_parquet('../df_master_joined.parquet')\n",
    "df_joined.master_index_P100 = df_joined.master_index_P100.astype('int64') # Make sure index is integer\n",
    "df_joined.master_index_V100 = df_joined.master_index_V100.astype('int64') # Make sure index is integer\n",
    "df_joined.shape\n",
    "\n",
    "\n",
    "# This is an \"empty\" dataframe (meaning no rows), containing\n",
    "# column names for numerical data only.\n",
    "# The column nmaes can be used to index the columns of the\n",
    "# scaled data (in master_scaled_data.npy)\n",
    "\n",
    "df_columns_only = pd.read_parquet('../df_column_reference.parquet')\n",
    "\n",
    "\n",
    "# This is a 2-D numpy array corresponding to the numerical data in 'df_master.parquet'\n",
    "# The data has been scaled using the StandardScaler in scikitlearn\n",
    "\n",
    "# Notes: \n",
    "#   - The row indices correspond to the `master_index` column of 'df_master.parquet'\n",
    "#   - The columns correspond to the columns in 'df_column_reference.parquet'.\n",
    "#     (e.g. can use `df.get_loc(column-name)` to get the column index)\n",
    "\n",
    "master_data_scaled = np.load('../master_scaled_data.npy')\n",
    "master_data_scaled.shape"
   ]
  },
  {
   "cell_type": "code",
   "execution_count": 99,
   "id": "e4f66345",
   "metadata": {},
   "outputs": [
    {
     "data": {
      "text/plain": [
       "(6935, 244)"
      ]
     },
     "execution_count": 99,
     "metadata": {},
     "output_type": "execute_result"
    }
   ],
   "source": [
    "temp_col = df_joined['dram_write_throughput_P100'] + df_joined['dram_read_throughput_P100']\n",
    "df_joined= df_joined[temp_col<10e9]\n",
    "df_joined.shape"
   ]
  },
  {
   "cell_type": "code",
   "execution_count": 101,
   "id": "9e6cfe65-183a-4cd4-8f25-ff75ffbf5699",
   "metadata": {},
   "outputs": [
    {
     "name": "stdout",
     "output_type": "stream",
     "text": [
      "0.0 0.3185908203125\n",
      "0.0 9.304160000000001\n",
      "0.0 611.089\n",
      "0.0 541.389\n"
     ]
    }
   ],
   "source": [
    "df = df_joined['dram_read_throughput_P100']; print(df.min(), df.max()/1024/1024/1024)\n",
    "df = df_joined['dram_write_throughput_P100']; print(df.min(), df.max()/1024/1024/1024)\n",
    "df = df_joined['dram_read_throughput_V100']; print(df.min(), df.max()/1024/1024/1024)\n",
    "df = df_joined['dram_write_throughput_V100']; print(df.min(), df.max()/1024/1024/1024)"
   ]
  },
  {
   "cell_type": "code",
   "execution_count": 102,
   "id": "fee69f43",
   "metadata": {},
   "outputs": [],
   "source": [
    "\n",
    "df = df_joined.copy()  # Start with all of df_joined\n",
    "\n",
    "# Target index and values (values are NOT in master_data_scaled)\n",
    "target_index = df['master_index_V100'].values\n",
    "target = df['memory_bound_V100'].values\n",
    "\n",
    "# Training data index and values (values ARE in master_data_scaled)\n",
    "data_index = df['master_index_P100'].values\n",
    "data = master_data_scaled[ data_index ]\n",
    "\n",
    "# Need to drop 'dram_read_throughput' and 'dram_write_throughput'\n",
    "indices = []\n",
    "for i, col in enumerate(df_columns_only.columns):\n",
    "    if col not in ['dram_read_throughput', 'dram_write_throughput','dram_write_transactions','dram_read_transactions']:\n",
    "    #if col not in not_import:\n",
    "        indices.append(i)       \n",
    "data = data[:,indices]"
   ]
  },
  {
   "cell_type": "code",
   "execution_count": 103,
   "id": "1d87568a",
   "metadata": {},
   "outputs": [
    {
     "data": {
      "text/plain": [
       "['backprop', 'gaussian', 'hybridsort', 'kmeans', 'leukocyte', 'srad', 'stream']"
      ]
     },
     "execution_count": 103,
     "metadata": {},
     "output_type": "execute_result"
    }
   ],
   "source": [
    "kernels = []\n",
    "for i in df_joined['application_name_V100']:\n",
    "    if i not in kernels:\n",
    "        kernels.append(i)\n",
    "        \n",
    "kernels"
   ]
  },
  {
   "cell_type": "markdown",
   "id": "7fe9d371",
   "metadata": {},
   "source": [
    "## Baseline"
   ]
  },
  {
   "cell_type": "code",
   "execution_count": 104,
   "id": "7f4224bb",
   "metadata": {},
   "outputs": [
    {
     "name": "stdout",
     "output_type": "stream",
     "text": [
      "Mean Absolute Error: 3.54\n",
      "Mean Absolute Percentage Error: 18217943711781.4\n",
      "R2 Score -0.009669801767939301\n"
     ]
    },
    {
     "data": {
      "text/plain": [
       "Text(0.5,1,'Baseline Memory Throughput - MAE: 3.54')"
      ]
     },
     "execution_count": 104,
     "metadata": {},
     "output_type": "execute_result"
    },
    {
     "data": {
      "image/png": "[encoded data removed]",
      "text/plain": [
       "<Figure size 432x288 with 1 Axes>"
      ]
     },
     "metadata": {
      "needs_background": "light"
     },
     "output_type": "display_data"
    }
   ],
   "source": [
    "V100_throughput = (df_joined['dram_read_throughput_V100'] + df_joined['dram_write_throughput_V100']).values\n",
    "P100_throughput = (df_joined['dram_read_throughput_P100'] + df_joined['dram_write_throughput_P100']).values\n",
    "plt.plot(P100_throughput/1024/1024/1024, V100_throughput/1024/1024/1024,'.')\n",
    "plt.xlabel('P100 Memory Throughput (GB/s)')\n",
    "plt.ylabel('V100 Memory Throughput (GB/s)')\n",
    "errors = abs(V100_throughput - P100_throughput)/1024/1024/1024\n",
    "mean_error = round(np.mean(errors),2)\n",
    "print('Mean Absolute Error:', round(np.mean(errors),2))\n",
    "print('Mean Absolute Percentage Error:',mean_absolute_percentage_error(P100_throughput/1024/1024/1024, V100_throughput/1024/1024/1024))\n",
    "print(\"R2 Score\", r2_score(V100_throughput,P100_throughput))\n",
    "plt.title('Baseline Memory Throughput - MAE: ' + str(mean_error))\n",
    "\n",
    "#plt.savefig('Throughput_Prediction_Figures/predict_result.pdf')"
   ]
  },
  {
   "cell_type": "code",
   "execution_count": 90,
   "id": "106cc636-b979-4174-8023-4c07fb951efc",
   "metadata": {},
   "outputs": [
    {
     "data": {
      "text/plain": [
       "(10804,)"
      ]
     },
     "execution_count": 90,
     "metadata": {},
     "output_type": "execute_result"
    }
   ],
   "source": [
    "V100_throughput.shape"
   ]
  },
  {
   "cell_type": "code",
   "execution_count": 91,
   "id": "b6332ea8-4a74-408f-b595-19469c3ca5f8",
   "metadata": {},
   "outputs": [
    {
     "data": {
      "text/plain": [
       "177.26930000000002"
      ]
     },
     "execution_count": 91,
     "metadata": {},
     "output_type": "execute_result"
    }
   ],
   "source": [
    "max(P100_throughput/1024/1024/1024)"
   ]
  },
  {
   "cell_type": "code",
   "execution_count": 92,
   "id": "c69bc183-fc89-4cc7-9996-f7335e5423fd",
   "metadata": {},
   "outputs": [
    {
     "data": {
      "text/plain": [
       "10804"
      ]
     },
     "execution_count": 92,
     "metadata": {},
     "output_type": "execute_result"
    }
   ],
   "source": [
    "len(V100_throughput)"
   ]
  },
  {
   "cell_type": "code",
   "execution_count": 93,
   "id": "87e1f1fd-b9a4-45fb-924b-f1a66a274508",
   "metadata": {},
   "outputs": [
    {
     "data": {
      "text/plain": [
       "10804"
      ]
     },
     "execution_count": 93,
     "metadata": {},
     "output_type": "execute_result"
    }
   ],
   "source": [
    "len(P100_throughput)"
   ]
  },
  {
   "cell_type": "code",
   "execution_count": 94,
   "id": "125b014d-3ab8-4b76-9b2c-06dc59e6964f",
   "metadata": {},
   "outputs": [],
   "source": [
    "for i in V100_throughput:\n",
    "    if 100 < i/1024/1024/1024:\n",
    "        print(i/1024/1024/1024)"
   ]
  },
  {
   "cell_type": "code",
   "execution_count": null,
   "id": "b7be3fe5-2e6c-4e23-888c-333ab859c9ff",
   "metadata": {},
   "outputs": [],
   "source": []
  },
  {
   "cell_type": "code",
   "execution_count": 96,
   "id": "683715e4-8aa9-4940-b918-2bdb7620a419",
   "metadata": {},
   "outputs": [
    {
     "name": "stdout",
     "output_type": "stream",
     "text": [
      "107.6164033203125\n",
      "101.972755859375\n",
      "103.73364375\n",
      "131.4620087890625\n",
      "149.27013\n",
      "151.94975\n",
      "158.56817\n",
      "100.26440000000001\n",
      "105.0994\n",
      "115.0295\n",
      "169.7061\n",
      "130.3098\n",
      "104.76396000000001\n",
      "171.3648\n",
      "129.0594\n",
      "177.26930000000002\n",
      "121.7788\n",
      "100.25174\n",
      "100.19005\n",
      "101.81983\n",
      "101.17308\n",
      "100.77004\n",
      "100.32767\n",
      "101.26862\n",
      "100.36183000000001\n",
      "100.51920000000001\n",
      "100.74651\n",
      "103.13669\n",
      "102.4901\n",
      "103.69879999999999\n",
      "104.35068\n",
      "103.9961\n",
      "102.11631\n",
      "103.2954\n",
      "104.30499999999999\n",
      "105.15530000000001\n",
      "102.18364\n",
      "106.9132\n",
      "105.6828\n",
      "108.48570000000001\n",
      "104.0816\n",
      "103.20349999999999\n",
      "103.83690999999999\n",
      "108.975\n",
      "108.5469\n",
      "112.2877\n",
      "113.2069\n",
      "112.64489999999999\n",
      "112.36090000000002\n",
      "114.25380000000001\n",
      "114.38400000000001\n",
      "112.9771\n",
      "111.62440000000001\n",
      "116.31920000000001\n",
      "117.3722\n",
      "118.1743\n",
      "113.70770000000002\n",
      "121.61219999999999\n",
      "119.72680000000001\n",
      "118.3895\n",
      "118.9215\n",
      "117.5255\n",
      "120.72919999999999\n",
      "121.36800000000001\n",
      "123.09190000000001\n",
      "124.86\n",
      "124.4654\n",
      "123.8506\n",
      "124.6225\n",
      "128.3708\n",
      "128.107\n",
      "124.3382\n",
      "129.928\n",
      "128.2623\n",
      "132.05800000000002\n",
      "131.8579\n",
      "132.351\n",
      "133.7501\n",
      "132.6257\n",
      "133.8798\n",
      "136.8629\n",
      "139.53470000000002\n",
      "106.4053\n",
      "101.7077\n",
      "103.87691210937498\n",
      "103.8766953125\n",
      "102.297957421875\n",
      "119.85270703124999\n",
      "102.5403642578125\n",
      "103.539708984375\n",
      "105.5237119140625\n",
      "101.27209570312499\n",
      "102.6786103515625\n",
      "105.80743066406251\n",
      "102.4649873046875\n",
      "105.77006933593749\n",
      "106.786978515625\n",
      "103.8030634765625\n",
      "102.118587890625\n",
      "101.24275048828125\n",
      "113.6177880859375\n",
      "101.97408203124999\n",
      "104.2155341796875\n",
      "109.72427373046875\n",
      "111.06648828125\n",
      "101.381884765625\n",
      "108.31764951171874\n",
      "105.505544921875\n",
      "111.79119140625001\n",
      "115.54831708984375\n",
      "107.29590458984374\n",
      "105.78477421875\n",
      "102.73569248046874\n",
      "100.81923056640625\n",
      "105.2752783203125\n",
      "109.7693322265625\n",
      "105.7289501953125\n",
      "114.96306347656251\n",
      "113.87408486328125\n",
      "112.18598134765627\n",
      "104.29888740234374\n",
      "121.30481044921876\n",
      "112.5356978515625\n",
      "113.63481279296875\n",
      "107.69068583984375\n",
      "114.23418749999999\n",
      "111.50668564453123\n",
      "112.98051464843749\n",
      "113.6594748046875\n",
      "119.1304404296875\n",
      "111.709623046875\n",
      "113.076486328125\n",
      "122.97404296875001\n",
      "115.3095421875\n",
      "116.7738505859375\n",
      "116.254876953125\n",
      "121.32715742187499\n",
      "120.5680859375\n",
      "116.86454785156249\n",
      "121.98600205078125\n",
      "124.84416083984374\n",
      "110.3907279296875\n",
      "125.392087890625\n",
      "113.54212695312499\n",
      "130.27682421875\n",
      "117.9542396484375\n",
      "115.00713281249999\n",
      "118.27424316406251\n",
      "117.50726240234374\n",
      "123.60242382812498\n",
      "120.4484951171875\n",
      "121.5788228515625\n",
      "127.43044140625\n",
      "123.25432978515624\n",
      "120.39771679687502\n",
      "122.65375458984374\n",
      "125.99124042968751\n",
      "130.0366357421875\n",
      "123.30007646484376\n",
      "118.67271679687501\n",
      "123.1874423828125\n",
      "118.37354462890625\n",
      "127.92779501953126\n",
      "121.75773339843751\n",
      "124.76225390625001\n",
      "121.68554931640625\n",
      "119.00582314453125\n",
      "123.82012988281251\n",
      "119.63436708984375\n",
      "129.430634765625\n",
      "129.7446181640625\n",
      "124.65980693359376\n",
      "123.130966796875\n",
      "128.06799755859376\n",
      "123.86856025390625\n",
      "131.491478515625\n",
      "121.85788085937502\n",
      "130.7981826171875\n",
      "128.38314746093752\n",
      "122.56743095703126\n",
      "125.90049462890624\n",
      "133.71510351562497\n",
      "132.2850087890625\n",
      "129.75416992187502\n",
      "101.0224\n",
      "130.69091796875\n",
      "123.53834697265624\n",
      "101.14939999999999\n",
      "127.6140060546875\n",
      "133.933923828125\n",
      "127.76953417968751\n",
      "107.0573\n",
      "134.05491601562497\n",
      "123.28771171875\n",
      "119.68149921875\n",
      "129.65408300781252\n",
      "131.111405078125\n",
      "124.28071279296874\n",
      "121.045099609375\n",
      "130.95577861328124\n",
      "134.39611904296876\n",
      "130.93678583984374\n",
      "127.6397380859375\n",
      "110.7322\n",
      "133.42852636718752\n",
      "120.90371425781251\n",
      "133.5089384765625\n",
      "126.12773828125\n",
      "129.38404355468748\n",
      "128.26268154296875\n",
      "131.12608115234374\n",
      "133.62510253906248\n",
      "130.7953\n",
      "133.82046025390625\n",
      "134.6990908203125\n",
      "135.2224\n",
      "104.2646\n",
      "110.0497\n",
      "104.356\n",
      "103.5617\n",
      "110.889\n",
      "110.49340000000001\n",
      "108.2008\n",
      "111.3692\n",
      "111.0641\n",
      "125.06970000000001\n",
      "114.7005\n"
     ]
    }
   ],
   "source": [
    "for i in P100_throughput:\n",
    "    if 100 < i/1024/1024/1024:\n",
    "        print(i/1024/1024/1024)"
   ]
  },
  {
   "cell_type": "code",
   "execution_count": 52,
   "id": "2bf001ff-a448-4071-ba5f-5ca2d8823b97",
   "metadata": {},
   "outputs": [
    {
     "data": {
      "text/plain": [
       "[<matplotlib.lines.Line2D at 0x7fb8242bba90>]"
      ]
     },
     "execution_count": 52,
     "metadata": {},
     "output_type": "execute_result"
    },
    {
     "data": {
      "image/png": "[encoded data removed]",
      "text/plain": [
       "<Figure size 432x288 with 1 Axes>"
      ]
     },
     "metadata": {
      "needs_background": "light"
     },
     "output_type": "display_data"
    }
   ],
   "source": [
    "plt.plot(P100_throughput/1024/1024/1024, P100_throughput/1024/1024/1024,'.')"
   ]
  },
  {
   "cell_type": "code",
   "execution_count": 35,
   "id": "450cae6d-9c68-423f-8b77-1052686af429",
   "metadata": {},
   "outputs": [
    {
     "data": {
      "text/plain": [
       "[<matplotlib.lines.Line2D at 0x7fb80e763860>]"
      ]
     },
     "execution_count": 35,
     "metadata": {},
     "output_type": "execute_result"
    },
    {
     "data": {
      "image/png": "[encoded data removed]",
      "text/plain": [
       "<Figure size 432x288 with 1 Axes>"
      ]
     },
     "metadata": {
      "needs_background": "light"
     },
     "output_type": "display_data"
    }
   ],
   "source": [
    "plt.plot(V100_throughput/1024/1024/1024, V100_throughput/1024/1024/1024,'.')"
   ]
  },
  {
   "cell_type": "code",
   "execution_count": 26,
   "id": "7f164989-22fe-4f4c-89fd-741fb07f4c88",
   "metadata": {},
   "outputs": [
    {
     "data": {
      "text/plain": [
       "121"
      ]
     },
     "execution_count": 26,
     "metadata": {},
     "output_type": "execute_result"
    }
   ],
   "source": [
    "max(V100_throughput/1024/1024/1024)\n",
    "v1 = V100_throughput/1024/1024/1024\n",
    "count = 0\n",
    "for i in v1:\n",
    "    if 0 == i:\n",
    "        count +=1\n",
    "count"
   ]
  },
  {
   "cell_type": "code",
   "execution_count": 28,
   "id": "b3b522d4-5c02-4cfc-8240-fb44958ba3f1",
   "metadata": {},
   "outputs": [
    {
     "data": {
      "text/plain": [
       "5065"
      ]
     },
     "execution_count": 28,
     "metadata": {},
     "output_type": "execute_result"
    }
   ],
   "source": [
    "count = 0\n",
    "for i in v1:\n",
    "    if 0 != i:\n",
    "        #print(i)\n",
    "        count +=1\n",
    "count"
   ]
  },
  {
   "cell_type": "code",
   "execution_count": 12,
   "id": "c204738e-9b2b-4f54-b5e3-0c38641c95ab",
   "metadata": {},
   "outputs": [
    {
     "data": {
      "text/plain": [
       "0.9275595703125"
      ]
     },
     "execution_count": 12,
     "metadata": {},
     "output_type": "execute_result"
    }
   ],
   "source": [
    "max(P100_throughput/1024/1024/1024)"
   ]
  },
  {
   "cell_type": "markdown",
   "id": "c6f68c62",
   "metadata": {},
   "source": [
    "## Regression"
   ]
  },
  {
   "cell_type": "code",
   "execution_count": 44,
   "id": "9d239356",
   "metadata": {},
   "outputs": [],
   "source": [
    "df_target = (df_joined['dram_read_throughput_V100'] + df_joined['dram_write_throughput_V100']).values\n",
    "# Split the data for training\n",
    "(\n",
    "    X_train, X_test,\n",
    "    y_train, y_test,\n",
    "    #data_index_train, data_index_test,\n",
    "    #target_index_train, target_index_test\n",
    ") = train_test_split(\n",
    "    1000*data,\n",
    "    df_target,\n",
    "    #data_index,\n",
    "    #target_index,\n",
    "    random_state=42,\n",
    "    test_size=.33\n",
    ")"
   ]
  },
  {
   "cell_type": "code",
   "execution_count": 45,
   "id": "4691103e",
   "metadata": {},
   "outputs": [
    {
     "data": {
      "text/plain": [
       "array([ 0.61720703,  0.35669043, 36.40237402, ...,  2.75958695,\n",
       "        3.23506721,  0.19139453])"
      ]
     },
     "execution_count": 45,
     "metadata": {},
     "output_type": "execute_result"
    }
   ],
   "source": [
    "df_target/1024/1024/1024"
   ]
  },
  {
   "cell_type": "code",
   "execution_count": 46,
   "id": "0c5d08d3",
   "metadata": {},
   "outputs": [],
   "source": [
    "clf = RandomForestRegressor(n_jobs=2, n_estimators=200, max_depth=100)\n",
    "reg_model = clf.fit(X_train, y_train)"
   ]
  },
  {
   "cell_type": "code",
   "execution_count": 47,
   "id": "dca3af01",
   "metadata": {},
   "outputs": [],
   "source": [
    "y_test_predict = clf.predict(X_test)\n",
    "\n"
   ]
  },
  {
   "cell_type": "code",
   "execution_count": 48,
   "id": "67e7696d",
   "metadata": {},
   "outputs": [
    {
     "name": "stdout",
     "output_type": "stream",
     "text": [
      "Mean Absolute Error: 2.26\n",
      "Mean absolute percentage error: 126568385435838.88\n"
     ]
    }
   ],
   "source": [
    "y_test_predict = clf.predict(X_test)\n",
    "errors = abs(y_test_predict - y_test)/1024/1024/1024\n",
    "y_test_predict_gb = y_test_predict/1024/1024/1024\n",
    "y_test_gb = y_test/1024/1024/1024\n",
    "mean_error = round(np.mean(errors),2)\n",
    "print('Mean Absolute Error:', round(np.mean(errors),2))\n",
    "print(\"Mean absolute percentage error:\",mean_absolute_percentage_error(y_test_gb,y_test_predict_gb))"
   ]
  },
  {
   "cell_type": "code",
   "execution_count": 49,
   "id": "a1a96580",
   "metadata": {},
   "outputs": [
    {
     "data": {
      "text/plain": [
       "Text(0,0.5,'Predicted')"
      ]
     },
     "execution_count": 49,
     "metadata": {},
     "output_type": "execute_result"
    },
    {
     "data": {
      "image/png": "[encoded data removed]",
      "text/plain": [
       "<Figure size 432x288 with 1 Axes>"
      ]
     },
     "metadata": {
      "needs_background": "light"
     },
     "output_type": "display_data"
    }
   ],
   "source": [
    "plt.plot(y_test/1024/1024/1024, y_test_predict/1024/1024/1024,'.')\n",
    "plt.xlim(0,100)\n",
    "plt.xlabel('True')\n",
    "plt.ylabel('Predicted')\n",
    "\n"
   ]
  },
  {
   "cell_type": "code",
   "execution_count": 50,
   "id": "fa0beb80",
   "metadata": {},
   "outputs": [
    {
     "data": {
      "text/plain": [
       "Text(0,0.5,'Predicted')"
      ]
     },
     "execution_count": 50,
     "metadata": {},
     "output_type": "execute_result"
    },
    {
     "data": {
      "image/png": "[encoded data removed]",
      "text/plain": [
       "<Figure size 432x288 with 1 Axes>"
      ]
     },
     "metadata": {
      "needs_background": "light"
     },
     "output_type": "display_data"
    }
   ],
   "source": [
    "plt.plot(y_test, y_test_predict,'.')\n",
    "plt.xlim(0,100)\n",
    "plt.xlabel('True')\n",
    "plt.ylabel('Predicted')"
   ]
  },
  {
   "cell_type": "code",
   "execution_count": 34,
   "id": "744834e4",
   "metadata": {},
   "outputs": [
    {
     "data": {
      "text/plain": [
       "array([0.24184277, 0.06330791, 1.19785   , ..., 4.26144764, 0.15665611,\n",
       "       0.28125781])"
      ]
     },
     "execution_count": 34,
     "metadata": {},
     "output_type": "execute_result"
    }
   ],
   "source": [
    "y_test/1024/1024/1024"
   ]
  },
  {
   "cell_type": "code",
   "execution_count": 35,
   "id": "f8a85701",
   "metadata": {},
   "outputs": [
    {
     "data": {
      "text/plain": [
       "array([0.57578376, 0.07483773, 2.47754891, ..., 2.38492788, 0.14823678,\n",
       "       5.98618464])"
      ]
     },
     "execution_count": 35,
     "metadata": {},
     "output_type": "execute_result"
    }
   ],
   "source": [
    "y_test_predict/1024/1024/1024"
   ]
  },
  {
   "cell_type": "code",
   "execution_count": 38,
   "id": "ff7b568b",
   "metadata": {},
   "outputs": [],
   "source": [
    "error = abs(y_test/1024/1024/1024 - y_test_predict/1024/1024/1024)"
   ]
  },
  {
   "cell_type": "code",
   "execution_count": 40,
   "id": "63424020",
   "metadata": {},
   "outputs": [
    {
     "data": {
      "text/plain": [
       "98.06751842783203"
      ]
     },
     "execution_count": 40,
     "metadata": {},
     "output_type": "execute_result"
    }
   ],
   "source": [
    "max(error)"
   ]
  },
  {
   "cell_type": "code",
   "execution_count": 41,
   "id": "1f7f5dc1",
   "metadata": {},
   "outputs": [
    {
     "data": {
      "text/plain": [
       "2.570470924376407e-05"
      ]
     },
     "execution_count": 41,
     "metadata": {},
     "output_type": "execute_result"
    }
   ],
   "source": [
    "min(error)"
   ]
  },
  {
   "cell_type": "code",
   "execution_count": 43,
   "id": "746060e7",
   "metadata": {},
   "outputs": [
    {
     "data": {
      "text/plain": [
       "2.2827033370596364"
      ]
     },
     "execution_count": 43,
     "metadata": {},
     "output_type": "execute_result"
    }
   ],
   "source": [
    "np.mean(error)"
   ]
  },
  {
   "cell_type": "code",
   "execution_count": 44,
   "id": "c4f1d5af",
   "metadata": {},
   "outputs": [
    {
     "data": {
      "text/plain": [
       "unique_index\n",
       "bpnn_layerforward_CUDA_-10000_bpnn_layerforward_CUDA        2.050312e+08\n",
       "bpnn_adjust_weights_cuda_-10032_bpnn_adjust_weights_cuda    3.005156e+08\n",
       "bpnn_layerforward_CUDA_-10032_bpnn_layerforward_CUDA        2.182223e+08\n",
       "bpnn_adjust_weights_cuda_-10048_bpnn_adjust_weights_cuda    4.380143e+08\n",
       "bpnn_layerforward_CUDA_-10048_bpnn_layerforward_CUDA        1.922994e+08\n",
       "                                                                ...     \n",
       "STREAM_Scale_N9984_STREAM_Scale                             0.000000e+00\n",
       "STREAM_Triad_N9984_STREAM_Triad                             8.912057e+07\n",
       "set_array_N9984_set_array                                   1.140526e+08\n",
       "STREAM_Scale_N99968_STREAM_Scale                            2.695040e+08\n",
       "set_array_N99968_set_array                                  1.575569e+08\n",
       "Name: dram_write_throughput_P100, Length: 5186, dtype: float64"
      ]
     },
     "execution_count": 44,
     "metadata": {},
     "output_type": "execute_result"
    }
   ],
   "source": [
    "df_joined['dram_write_throughput_P100']"
   ]
  },
  {
   "cell_type": "code",
   "execution_count": 47,
   "id": "511d4175",
   "metadata": {},
   "outputs": [
    {
     "data": {
      "text/plain": [
       "0.2154541015625"
      ]
     },
     "execution_count": 47,
     "metadata": {},
     "output_type": "execute_result"
    }
   ],
   "source": [
    "max(df_joined['dram_read_throughput_P100'])/1024/1024/1024"
   ]
  },
  {
   "cell_type": "code",
   "execution_count": 48,
   "id": "a7391661",
   "metadata": {},
   "outputs": [
    {
     "data": {
      "text/plain": [
       "324.249"
      ]
     },
     "execution_count": 48,
     "metadata": {},
     "output_type": "execute_result"
    }
   ],
   "source": [
    "max(df_joined['dram_read_throughput_V100'])/1024/1024/1024"
   ]
  },
  {
   "cell_type": "code",
   "execution_count": 51,
   "id": "9e3d26ef",
   "metadata": {},
   "outputs": [
    {
     "name": "stderr",
     "output_type": "stream",
     "text": [
      "/Users/yzamora/miniconda3/envs/python_work/lib/python3.6/site-packages/sklearn/neural_network/_multilayer_perceptron.py:617: ConvergenceWarning: Stochastic Optimizer: Maximum iterations (50000) reached and the optimization hasn't converged yet.\n",
      "  % self.max_iter, ConvergenceWarning)\n"
     ]
    }
   ],
   "source": [
    "from sklearn.neural_network import MLPRegressor\n",
    "regr = MLPRegressor(random_state=1, max_iter=50000).fit(X_train, y_train)"
   ]
  },
  {
   "cell_type": "code",
   "execution_count": null,
   "id": "ba59d3f4",
   "metadata": {},
   "outputs": [],
   "source": []
  }
 ],
 "metadata": {
  "kernelspec": {
   "display_name": "Python 3",
   "language": "python",
   "name": "python3"
  },
  "language_info": {
   "codemirror_mode": {
    "name": "ipython",
    "version": 3
   },
   "file_extension": ".py",
   "mimetype": "text/x-python",
   "name": "python",
   "nbconvert_exporter": "python",
   "pygments_lexer": "ipython3",
   "version": "3.6.8"
  }
 },
 "nbformat": 4,
 "nbformat_minor": 5
}
