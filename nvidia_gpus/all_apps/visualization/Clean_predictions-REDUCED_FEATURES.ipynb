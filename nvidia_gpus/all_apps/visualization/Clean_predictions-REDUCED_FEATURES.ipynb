{
 "cells": [
  {
   "cell_type": "code",
   "execution_count": 1,
   "id": "5fe1b61d-a836-44b7-bb47-09e0b4d36692",
   "metadata": {},
   "outputs": [
    {
     "data": {
      "text/html": [
       "<style>.container { width:100% !important; }</style>"
      ],
      "text/plain": [
       "<IPython.core.display.HTML object>"
      ]
     },
     "metadata": {},
     "output_type": "display_data"
    }
   ],
   "source": [
    "import pandas as pd\n",
    "import numpy as np\n",
    "\n",
    "from sklearn.model_selection import train_test_split\n",
    "from sklearn.ensemble import RandomForestRegressor\n",
    "from sklearn.metrics import mean_absolute_percentage_error\n",
    "from sklearn.preprocessing import StandardScaler\n",
    "from sklearn.metrics import mean_absolute_error\n",
    "from sklearn.metrics import mean_squared_log_error\n",
    "from sklearn.linear_model import LinearRegression\n",
    "from sklearn.metrics import median_absolute_error\n",
    "\n",
    "\n",
    "import operator\n",
    "import matplotlib.pyplot as plt\n",
    "plt.rc('pdf', fonttype=42)\n",
    "from IPython.core.display import display, HTML\n",
    "display(HTML('<style>.container { width:100% !important; }</style>'))\n",
    "\n",
    "BIG    = 22\n",
    "MEDIUM = 20\n",
    "FIGWIDTH = 12\n",
    "WIDTH = 0.25  # the width of the bars\n",
    "NARROW = 0.2\n",
    "XLINE  = 523.21\n",
    "YLINE  = 0.002\n",
    "#colors = ['#E27100', '#1b85b8', '#559e83', '#b26167']\n",
    "colors = ['b','b']\n",
    "# Starting to define standardized colors\n",
    "MAE_COLOR =colors[1]\n",
    "TIME_COLOR=colors[0]\n",
    "markersize=20"
   ]
  },
  {
   "cell_type": "code",
   "execution_count": 2,
   "id": "96c864c1-2bb7-435f-baf0-dcf92c746281",
   "metadata": {},
   "outputs": [],
   "source": [
    "def get_joined_data():\n",
    "    \"\"\"Returns single (joined) dataframe\"\"\"\n",
    "    \n",
    "    # Combining V100 and P100 on same row for same run\n",
    "    # We are deleting cases where there is no run for either of the architectures\n",
    "    # Every column name is appended with the name of the architecture (e.g. \"_V100\");\n",
    "    # This includes the `master_index` (e.g `master_index_V100`)\n",
    "\n",
    "    df_joined = pd.read_parquet('../df_master_joined.parquet')\n",
    "    df_joined.master_index_P100 = df_joined.master_index_P100.astype('int64') # Make sure index is integer\n",
    "    df_joined.master_index_V100 = df_joined.master_index_V100.astype('int64') # Make sure index is integer\n",
    "    #import pdb; pdb.set_trace()\n",
    "    return df_joined\n",
    "\n",
    "def filter_lt_val(df, val=1e9):\n",
    "    ##temp_col = df['dram_write_throughput_V100'] + df['dram_read_throughput_V100']\n",
    "    #temp_col3 = df_joined['dram_write_throughput_V100'] + df_joined['dram_read_throughput_V100']\n",
    "    #temp_col = df['dram_write_throughput_P100']\n",
    "    #temp_col2 = df['dram_read_throughput_P100']\n",
    "    temp_col4 = df['dram_write_throughput_V100']\n",
    "    temp_col5 = df['dram_read_throughput_V100'] ## trouble predicting read throughput MAPE=.55 with dram read< 1e9\n",
    "    #df =df[temp_col>val]\n",
    "    #df =df[temp_col2>val]\n",
    "    return df,operator.and_(temp_col4>val,temp_col5>val).values\n",
    "    import pdb; pdb.set_trace()\n",
    "    df =df[temp_col4>val]\n",
    "    df =df[temp_col5>val]\n",
    "    #df_joined = df_joined[temp_col3>1e9]\n",
    "    #return df[temp_col > val]\n",
    "    return df\n",
    "\n",
    "_columns = None\n",
    "def get_columns():\n",
    "    global _columns\n",
    "    # This is an \"empty\" dataframe (meaning no rows), containing\n",
    "    # column names for numerical data only.\n",
    "    # The column nmaes can be used to index the columns of the\n",
    "    # scaled data (in master_scaled_data.npy)\n",
    "    if _columns is None:\n",
    "        _columns = tuple(pd.read_parquet('../df_column_reference.parquet').columns)\n",
    "    return _columns\n",
    "\n",
    "\n",
    "_scaled_data = None\n",
    "def get_scaled_data(row_index):\n",
    "    global _scaled_data\n",
    "    # This is a 2-D numpy array corresponding to the numerical data in 'df_master.parquet'\n",
    "    # The data has been scaled using the StandardScaler in scikitlearn\n",
    "\n",
    "    # Notes: \n",
    "    #   - The row indices correspond to the `master_index` column of 'df_master.parquet'\n",
    "    #   - The columns correspond to the columns in 'df_column_reference.parquet'.\n",
    "    #     (e.g. can use `df.get_loc(column-name)` to get the column index)\n",
    "\n",
    "    if _scaled_data is None:\n",
    "        _scaled_data = np.load('../master_scaled_data.npy')\n",
    "    return _scaled_data[row_index]\n",
    "\n",
    "def get_data(filter_val=10e9):\n",
    "    \"\"\"Returns full data and target vector\"\"\"\n",
    "    \n",
    "    df = get_joined_data()  # Start with all of df_joined\n",
    "    \n",
    "    df,filtered = filter_lt_val(df, filter_val)  # Filter throughput < 1e9\n",
    "    \n",
    "    # Training data index and values (values ARE in master_data_scaled)\n",
    "    data_row_index = df['master_index_P100'].values\n",
    "    data = get_scaled_data(data_row_index)\n",
    "    col_indices = []\n",
    "    for i, col in enumerate(get_columns()):\n",
    "        if col not in ['dram_read_throughput', 'dram_write_throughput','dram_write_transactions','dram_read_transactions']:\n",
    "            col_indices.append(i)\n",
    "    data = data[:, col_indices]\n",
    "\n",
    "    #target_row_index = df['master_index_V100'].values\n",
    "    #target = get_scaled_data(target_row_index)      \n",
    "    #target_col_indices = []\n",
    "    #for i, col in enumerate(get_columns()):\n",
    "    #    if col in ['dram_read_throughput', 'dram_write_throughput']:\n",
    "    #        target_col_indices.append(i)\n",
    "    #target = target[:, target_col_indices[0]] + target[:, target_col_indices[1]]\n",
    "    ref = (df['dram_read_throughput_V100'] + df['dram_write_throughput_V100']).values\n",
    "    p100_total_throughput = (df['dram_read_throughput_P100'] + df['dram_write_throughput_P100']).values\n",
    "    scaler = StandardScaler()\n",
    "    scaler.fit(ref.reshape(-1, 1))\n",
    "    target = scaler.transform(ref.reshape(-1, 1)).reshape(ref.shape)\n",
    "\n",
    "    return data, target, scaler,filtered,p100_total_throughput,ref\n",
    "\n",
    "def get_data_feature(filter_val=10e9,no_features=['dram_read_throughput','dram_write_throughput']):\n",
    "    \"\"\"Returns full data and target vector\"\"\"\n",
    "    \n",
    "    df = get_joined_data()  # Start with all of df_joined\n",
    "    \n",
    "    df,filtered = filter_lt_val(df, filter_val)  # Filter throughput < 1e9\n",
    "    \n",
    "    # Training data index and values (values ARE in master_data_scaled)\n",
    "    import pdb;\n",
    "    try:\n",
    "        data_row_index = df['master_index_P100'].values\n",
    "    except:\n",
    "        pdb.set_trace()\n",
    "    data = get_scaled_data(data_row_index)\n",
    "    col_indices = []\n",
    "    print(len(no_features))\n",
    "    for i, col in enumerate(get_columns()):\n",
    "        if col not in no_features:\n",
    "            col_indices.append(i)\n",
    "            print(col)\n",
    "    data = data[:, col_indices]\n",
    "\n",
    "    #target_row_index = df['master_index_V100'].values\n",
    "    #target = get_scaled_data(target_row_index)      \n",
    "    #target_col_indices = []\n",
    "    #for i, col in enumerate(get_columns()):\n",
    "    #    if col in ['dram_read_throughput', 'dram_write_throughput']:\n",
    "    #        target_col_indices.append(i)\n",
    "    #target = target[:, target_col_indices[0]] + target[:, target_col_indices[1]]\n",
    "    ref = (df['dram_read_throughput_V100'] + df['dram_write_throughput_V100']).values\n",
    "    scaler = StandardScaler()\n",
    "    scaler.fit(ref.reshape(-1, 1))\n",
    "    target = scaler.transform(ref.reshape(-1, 1)).reshape(ref.shape)\n",
    "\n",
    "    return data, target, scaler\n",
    "\n",
    "\n",
    "def graph_data(x,y,xlabel,ylabel,title,file,num_features=False):\n",
    "    plt.plot(x, y,'.',color='b',markersize=5)\n",
    "    plt.xlabel(xlabel)\n",
    "    plt.ylabel(ylabel)\n",
    "    if num_features:\n",
    "        plt.title(title + \" - \" + num_features + \" Features\")\n",
    "    else:\n",
    "        plt.title(title)\n",
    "    plt.savefig(\"Clean_figures/\" + file + \".pdf\")"
   ]
  },
  {
   "cell_type": "markdown",
   "id": "a9edbb66-9959-4a52-bd8a-c683227cb042",
   "metadata": {},
   "source": [
    "## Getting data"
   ]
  },
  {
   "cell_type": "code",
   "execution_count": 3,
   "id": "4c0996ae-fc15-4feb-8aee-43b022a97eb1",
   "metadata": {},
   "outputs": [],
   "source": [
    "data, target, scaler,filtered,p100_tt, v100_tt = get_data(filter_val=0)\n",
    "df_columns_only = pd.read_parquet('../df_column_reference.parquet')"
   ]
  },
  {
   "cell_type": "markdown",
   "id": "9a43ca6c-15a3-4737-ad6b-c0e3d4a1a3d5",
   "metadata": {},
   "source": [
    "## Splitting data "
   ]
  },
  {
   "cell_type": "code",
   "execution_count": 4,
   "id": "9ccaba5c-7b6e-4012-bc36-a22078fc7ab5",
   "metadata": {},
   "outputs": [
    {
     "data": {
      "text/plain": [
       "(32291, 112)"
      ]
     },
     "execution_count": 4,
     "metadata": {},
     "output_type": "execute_result"
    }
   ],
   "source": [
    "(\n",
    "    X_train, X_test,\n",
    "    y_train, y_test,\n",
    "    filtered_train,\n",
    "    filtered_test,\n",
    ") = train_test_split(\n",
    "    data,\n",
    "    target,\n",
    "    filtered,\n",
    "    random_state=42,\n",
    "    test_size=.33\n",
    ")\n",
    "data.shape"
   ]
  },
  {
   "cell_type": "code",
   "execution_count": 5,
   "id": "f3c947af-3d66-40a4-a5db-ebf617d23fac",
   "metadata": {},
   "outputs": [],
   "source": [
    "filtering = True # Removing target values of 0 \n",
    "if filtering:\n",
    "    y_test_filtered = y_test[filtered_test]\n",
    "    X_test_filtered = X_test[filtered_test]"
   ]
  },
  {
   "cell_type": "markdown",
   "id": "7de90f16-13b1-4ef6-afaa-45a82888d7ff",
   "metadata": {},
   "source": [
    "## Train & Predict with RF model"
   ]
  },
  {
   "cell_type": "code",
   "execution_count": 10,
   "id": "0e6f6e61-daf8-482b-83fe-bd4fd34adf41",
   "metadata": {},
   "outputs": [],
   "source": [
    "import pickle\n",
    "train_new = False\n",
    "filename = 'RF_reg_model.sav'\n",
    "if train_new:\n",
    "    clf = RandomForestRegressor(n_jobs=2, n_estimators=200, max_depth=100)\n",
    "    reg_model = clf.fit(X_train, y_train)\n",
    "    pickle.dump(reg_model, open(filename, 'wb'))\n",
    "else:\n",
    "   clf = pickle.load(open(filename, 'rb'))\n",
    "   reg_model = pickle.load(open(filename, 'rb'))"
   ]
  },
  {
   "cell_type": "code",
   "execution_count": 11,
   "id": "ee811920-cda8-4839-9ca9-1d0648fe7d6f",
   "metadata": {},
   "outputs": [],
   "source": [
    "if filtering:\n",
    "    y_test_predict = clf.predict(X_test_filtered)\n",
    "else:\n",
    "    y_test_predict = clf.predict(X_test)"
   ]
  },
  {
   "cell_type": "markdown",
   "id": "37032815-c35e-4e84-9520-69d3796671f1",
   "metadata": {},
   "source": [
    "## FEATURE IMPORTANCE"
   ]
  },
  {
   "cell_type": "code",
   "execution_count": 13,
   "id": "9e641c04-3d1d-4340-964e-1fff7cd0df04",
   "metadata": {
    "collapsed": true,
    "jupyter": {
     "outputs_hidden": true
    },
    "tags": []
   },
   "outputs": [
    {
     "name": "stdout",
     "output_type": "stream",
     "text": [
      "114\n",
      "Variable: l2_atomic_throughput Importance: 0.618\n",
      "Variable: l2_read_transactions Importance: 0.2716\n",
      "Variable: gld_transactions     Importance: 0.0586\n",
      "Variable: inst_executed        Importance: 0.0115\n",
      "Variable: l2_write_transactions Importance: 0.009\n",
      "Variable: stall_memory_throttle Importance: 0.0068\n",
      "Variable: gst_transactions     Importance: 0.0065\n",
      "Variable: l2_write_throughput  Importance: 0.0016\n",
      "Variable: local_memory_overhead Importance: 0.0015\n",
      "Variable: shared_store_throughput Importance: 0.0014\n",
      "Variable: local_hit_rate       Importance: 0.0008\n",
      "Variable: l2_tex_read_throughput Importance: 0.0008\n",
      "Variable: l2_tex_write_throughput Importance: 0.0008\n",
      "Variable: l2_atomic_transactions Importance: 0.0008\n",
      "Variable: gst_requested_throughput Importance: 0.0006\n",
      "Variable: tex_cache_throughput Importance: 0.0006\n",
      "Variable: issue_slot_utilization Importance: 0.0006\n",
      "Variable: l2_tex_write_hit_rate Importance: 0.0005\n",
      "Variable: stall_inst_fetch     Importance: 0.0005\n",
      "Variable: sysmem_utilization   Importance: 0.0004\n",
      "Variable: inst_replay_overhead Importance: 0.0003\n",
      "Variable: gst_transactions_per_request Importance: 0.0003\n",
      "Variable: dram_utilization     Importance: 0.0003\n",
      "Variable: stall_memory_dependency Importance: 0.0003\n",
      "Variable: stall_texture        Importance: 0.0003\n",
      "Variable: stall_sync           Importance: 0.0003\n",
      "Variable: stall_other          Importance: 0.0003\n",
      "Variable: inst_misc            Importance: 0.0003\n",
      "Variable: flop_count_hp_fma    Importance: 0.0003\n",
      "Variable: issued_ipc           Importance: 0.0003\n",
      "Variable: sm_efficiency        Importance: 0.0003\n",
      "Variable: dram_read_transactions Importance: 0.0002\n",
      "Variable: gld_requested_throughput Importance: 0.0002\n",
      "Variable: l2_tex_read_hit_rate Importance: 0.0002\n",
      "Variable: flop_count_sp_special Importance: 0.0002\n",
      "Variable: inst_integer         Importance: 0.0002\n",
      "Variable: l2_tex_read_transactions Importance: 0.0002\n",
      "Variable: inst_fp_16           Importance: 0.0002\n",
      "Variable: ipc                  Importance: 0.0002\n",
      "Variable: double_precision_fu_utilization Importance: 0.0002\n",
      "Variable: warp_execution_efficiency Importance: 0.0001\n",
      "Variable: gld_transactions_per_request Importance: 0.0001\n",
      "Variable: global_hit_rate      Importance: 0.0001\n",
      "Variable: gst_throughput       Importance: 0.0001\n",
      "Variable: tex_cache_hit_rate   Importance: 0.0001\n",
      "Variable: local_load_throughput Importance: 0.0001\n",
      "Variable: local_store_throughput Importance: 0.0001\n",
      "Variable: tex_cache_transactions Importance: 0.0001\n",
      "Variable: flop_count_sp_mul    Importance: 0.0001\n",
      "Variable: stall_exec_dependency Importance: 0.0001\n",
      "Variable: inst_fp_32           Importance: 0.0001\n",
      "Variable: inst_bit_convert     Importance: 0.0001\n",
      "Variable: inst_control         Importance: 0.0001\n",
      "Variable: inst_inter_thread_communication Importance: 0.0001\n",
      "Variable: issue_slots          Importance: 0.0001\n",
      "Variable: cf_issued            Importance: 0.0001\n",
      "Variable: cf_executed          Importance: 0.0001\n",
      "Variable: flop_hp_efficiency   Importance: 0.0001\n",
      "Variable: inst_per_warp        Importance: 0.0\n",
      "Variable: branch_efficiency    Importance: 0.0\n",
      "Variable: warp_nonpred_execution_efficiency Importance: 0.0\n",
      "Variable: shared_load_transactions_per_request Importance: 0.0\n",
      "Variable: shared_store_transactions_per_request Importance: 0.0\n",
      "Variable: local_load_transactions_per_request Importance: 0.0\n",
      "Variable: local_store_transactions_per_request Importance: 0.0\n",
      "Variable: shared_store_transactions Importance: 0.0\n",
      "Variable: shared_load_transactions Importance: 0.0\n",
      "Variable: local_load_transactions Importance: 0.0\n",
      "Variable: local_store_transactions Importance: 0.0\n",
      "Variable: sysmem_read_transactions Importance: 0.0\n",
      "Variable: sysmem_write_transactions Importance: 0.0\n",
      "Variable: dram_write_transactions Importance: 0.0\n",
      "Variable: gld_throughput       Importance: 0.0\n",
      "Variable: l2_read_throughput   Importance: 0.0\n",
      "Variable: sysmem_read_throughput Importance: 0.0\n",
      "Variable: sysmem_write_throughput Importance: 0.0\n",
      "Variable: shared_load_throughput Importance: 0.0\n",
      "Variable: gst_efficiency       Importance: 0.0\n",
      "Variable: flop_count_dp        Importance: 0.0\n",
      "Variable: flop_count_dp_add    Importance: 0.0\n",
      "Variable: flop_count_dp_fma    Importance: 0.0\n",
      "Variable: flop_count_dp_mul    Importance: 0.0\n",
      "Variable: flop_count_sp        Importance: 0.0\n",
      "Variable: flop_count_sp_add    Importance: 0.0\n",
      "Variable: flop_count_sp_fma    Importance: 0.0\n",
      "Variable: inst_issued          Importance: 0.0\n",
      "Variable: stall_constant_memory_dependency Importance: 0.0\n",
      "Variable: stall_pipe_busy      Importance: 0.0\n",
      "Variable: shared_efficiency    Importance: 0.0\n",
      "Variable: inst_fp_64           Importance: 0.0\n",
      "Variable: inst_compute_ld_st   Importance: 0.0\n",
      "Variable: ldst_issued          Importance: 0.0\n",
      "Variable: ldst_executed        Importance: 0.0\n",
      "Variable: atomic_transactions  Importance: 0.0\n",
      "Variable: atomic_transactions_per_request Importance: 0.0\n",
      "Variable: stall_not_selected   Importance: 0.0\n",
      "Variable: l2_tex_write_transactions Importance: 0.0\n",
      "Variable: flop_count_hp        Importance: 0.0\n",
      "Variable: flop_count_hp_add    Importance: 0.0\n",
      "Variable: flop_count_hp_mul    Importance: 0.0\n",
      "Variable: achieved_occupancy   Importance: 0.0\n",
      "Variable: eligible_warps_per_cycle Importance: 0.0\n",
      "Variable: shared_utilization   Importance: 0.0\n",
      "Variable: l2_utilization       Importance: 0.0\n",
      "Variable: tex_utilization      Importance: 0.0\n",
      "Variable: ldst_fu_utilization  Importance: 0.0\n",
      "Variable: cf_fu_utilization    Importance: 0.0\n",
      "Variable: special_fu_utilization Importance: 0.0\n",
      "Variable: half_precision_fu_utilization Importance: 0.0\n",
      "Variable: single_precision_fu_utilization Importance: 0.0\n",
      "Variable: flop_sp_efficiency   Importance: 0.0\n",
      "Variable: flop_dp_efficiency   Importance: 0.0\n"
     ]
    },
    {
     "data": {
      "text/plain": [
       "[None, None, None, None, None]"
      ]
     },
     "execution_count": 13,
     "metadata": {},
     "output_type": "execute_result"
    }
   ],
   "source": [
    "\"\"\"\n",
    "1. Variable: l2_atomic_throughput Importance: 0.6166\n",
    "2. Variable: gld_transactions     Importance: 0.2018\n",
    "3. Variable: l2_read_transactions Importance: 0.0948\n",
    "4. Variable: l2_write_throughput  Importance: 0.0091\n",
    "5. Variable: shared_store_throughput Importance: 0.0087\n",
    "6. Variable: l2_tex_write_hit_rate Importance: 0.0069\n",
    "7. Variable: issue_slot_utilization Importance: 0.0066\n",
    "8. Variable: l2_tex_read_throughput Importance: 0.0044\n",
    "9. Variable: stall_other          Importance: 0.0035\n",
    "\"\"\"\n",
    "importances = list(reg_model.feature_importances_)\n",
    "feature_list = [c for c in df_columns_only.columns \n",
    "                if c not in ['dram_read_throughput', 'dram_write_throughput']]\n",
    "#feature_list = df_columns_only.columns\n",
    "print(len(feature_list))\n",
    "feature_importances = [(feature, round(importance, 4)) \n",
    "                       for feature, importance in zip(feature_list, importances)]\\\n",
    "# Sort the feature importances by most important first\n",
    "feature_importances = sorted(feature_importances, key = lambda x: x[1], reverse = True)\n",
    "# Print out the feature and importances \n",
    "[print('Variable: {:20} Importance: {}'.format(*pair)) for pair in feature_importances][:5]"
   ]
  },
  {
   "cell_type": "code",
   "execution_count": 20,
   "id": "db76252f-82e4-4074-b27d-9f01a295ae26",
   "metadata": {},
   "outputs": [
    {
     "data": {
      "text/plain": [
       "2"
      ]
     },
     "execution_count": 20,
     "metadata": {},
     "output_type": "execute_result"
    }
   ],
   "source": [
    "not_import = []\n",
    "for x in feature_importances:\n",
    "    #print(x)\n",
    "    if 0 in x or x[1] < 0.0016:\n",
    "        #print(x[0])\n",
    "        not_import.append(x[0])\n",
    "not_import.append('dram_read_throughput')\n",
    "not_import.append('dram_write_throughput')\n",
    "not_import.append('dram_write_transactions')\n",
    "not_import.append('dram_read_transactions')\n",
    "not_import.append('sysmem_read_utilization')\n",
    "not_import.append('sysmem_write_utilization')\n",
    "len(feature_importances)-len(not_import)"
   ]
  },
  {
   "cell_type": "code",
   "execution_count": 21,
   "id": "756329bc-8030-4184-99ae-870874ab9855",
   "metadata": {},
   "outputs": [
    {
     "name": "stdout",
     "output_type": "stream",
     "text": [
      "Len of not important:  110\n"
     ]
    }
   ],
   "source": [
    "print(\"Len of not important: \", len(not_import))"
   ]
  },
  {
   "cell_type": "code",
   "execution_count": 22,
   "id": "96e6ca75-b3aa-44b7-864f-ff256037dbe2",
   "metadata": {},
   "outputs": [
    {
     "name": "stdout",
     "output_type": "stream",
     "text": [
      "110\n",
      "gld_transactions\n",
      "gst_transactions\n",
      "l2_read_transactions\n",
      "l2_write_transactions\n",
      "l2_write_throughput\n",
      "inst_executed\n",
      "l2_atomic_throughput\n",
      "stall_memory_throttle\n"
     ]
    }
   ],
   "source": [
    "data, target, scaler = get_data_feature(filter_val=0, no_features=not_import)\n",
    "\"\"\"\n",
    "Important features:\n",
    "gld_transactions\n",
    "gst_transactions\n",
    "l2_read_transactions\n",
    "l2_write_transactions\n",
    "l2_write_throughput\n",
    "inst_executed\n",
    "l2_atomic_throughput\n",
    "stall_memory_throttle\n",
    "\"\"\"\n",
    "# Split the data for training\n",
    "(\n",
    "    X_train, X_test,\n",
    "    y_train, y_test,\n",
    ") = train_test_split(\n",
    "    data,\n",
    "    target,\n",
    "    random_state=42,\n",
    "    test_size=.33\n",
    ")"
   ]
  },
  {
   "cell_type": "code",
   "execution_count": 34,
   "id": "6369c3d1-213b-44d4-86b1-2542cc2f63cb",
   "metadata": {},
   "outputs": [],
   "source": [
    "filtering = True # Removing target values of 0 \n",
    "if filtering:\n",
    "    y_test_filtered = y_test[filtered_test]\n",
    "    X_test_filtered = X_test[filtered_test]"
   ]
  },
  {
   "cell_type": "markdown",
   "id": "288240d4-857c-46ef-8966-0772d0f4c686",
   "metadata": {},
   "source": [
    "## Random Forest Trained on Reduced Features"
   ]
  },
  {
   "cell_type": "code",
   "execution_count": 35,
   "id": "c0306bfc-42e7-433c-bc39-85b342ea9a20",
   "metadata": {},
   "outputs": [],
   "source": [
    "clf = RandomForestRegressor(n_jobs=2, n_estimators=200, max_depth=100)\n",
    "filename = \"reducefeature_model.sav\"\n",
    "train_new = False\n",
    "if train_new:\n",
    "    reg_model = clf.fit(X_train, y_train)\n",
    "    pickle.dump(reg_model, open(filename, 'wb'))\n",
    "else:\n",
    "   clf = pickle.load(open(filename, 'rb'))\n",
    "   reg_model = pickle.load(open(filename, 'rb'))"
   ]
  },
  {
   "cell_type": "code",
   "execution_count": 36,
   "id": "5427a06c-7d49-41b1-bed6-5c775f694b63",
   "metadata": {},
   "outputs": [],
   "source": [
    "if filtering:\n",
    "    y_test_predict = clf.predict(X_test_filtered)\n",
    "else:\n",
    "    y_test_predict = clf.predict(X_test)"
   ]
  },
  {
   "cell_type": "code",
   "execution_count": 38,
   "id": "81fc14f4-a04e-41a3-9354-061db9850eee",
   "metadata": {},
   "outputs": [],
   "source": [
    "errors = abs(y_test_predict - y_test_filtered)"
   ]
  },
  {
   "cell_type": "code",
   "execution_count": 40,
   "id": "1e292847-18b0-4f7c-9fc9-4c4fd3bdf60b",
   "metadata": {},
   "outputs": [
    {
     "name": "stdout",
     "output_type": "stream",
     "text": [
      "Mean Absolute Error: 15.43\n",
      "Mean absolute percentage error: 1.0231478397144658\n"
     ]
    }
   ],
   "source": [
    "y_test_bytes =  scaler.inverse_transform(y_test_filtered)/1e9\n",
    "y_test_predict_bytes =  scaler.inverse_transform(y_test_predict)/1e9\n",
    "errors = abs(y_test_predict_bytes - y_test_bytes)\n",
    "print('Mean Absolute Error:', round(np.mean(errors),2))\n",
    "print(\"Mean absolute percentage error:\", mean_absolute_percentage_error(y_test_bytes, y_test_predict_bytes))"
   ]
  },
  {
   "cell_type": "code",
   "execution_count": 41,
   "id": "eaf0daa1-e33b-4348-a27b-92924c59fcc8",
   "metadata": {},
   "outputs": [
    {
     "data": {
      "image/png": "[encoded data removed]",
      "text/plain": [
       "<Figure size 432x288 with 1 Axes>"
      ]
     },
     "metadata": {
      "needs_background": "light"
     },
     "output_type": "display_data"
    }
   ],
   "source": [
    "plt.plot(y_test_bytes, y_test_predict_bytes,'.',color='b')\n",
    "plt.xlabel('V100 Total True Throughput')\n",
    "plt.ylabel('V100 Total Predicted Throughput')\n",
    "plt.title('Total Throughput Prediction (GB/s) - 8 Features')\n",
    "plt.savefig('Throughput_Prediction_Figures/scaled_prediction_8features_reduced_6.80mape.pdf')"
   ]
  },
  {
   "cell_type": "code",
   "execution_count": 42,
   "id": "90729460-ddd5-4340-8fc4-b8d0ed2cde4b",
   "metadata": {},
   "outputs": [
    {
     "data": {
      "image/png": "[encoded data removed]",
      "text/plain": [
       "<Figure size 432x288 with 1 Axes>"
      ]
     },
     "metadata": {
      "needs_background": "light"
     },
     "output_type": "display_data"
    }
   ],
   "source": [
    "plt.plot(y_test_bytes, (errors/y_test_bytes)*100,'.',color='b')\n",
    "plt.yscale(\"log\")\n",
    "plt.axhline(y=6.7, color='r', linestyle='-')\n",
    "plt.xlabel('V100 Total True Throughput')\n",
    "plt.ylabel('Absolute Precent Error')\n",
    "plt.title('Absolute Precent Error Across Total Throughput - 8 Features')\n",
    "plt.savefig('Throughput_Prediction_Figures/absolute_error_8features_reduced.pdf')"
   ]
  },
  {
   "cell_type": "code",
   "execution_count": null,
   "id": "06889f2d-cb94-481d-bbc5-c7e33286de15",
   "metadata": {},
   "outputs": [],
   "source": []
  }
 ],
 "metadata": {
  "kernelspec": {
   "display_name": "Python 3",
   "language": "python",
   "name": "python3"
  },
  "language_info": {
   "codemirror_mode": {
    "name": "ipython",
    "version": 3
   },
   "file_extension": ".py",
   "mimetype": "text/x-python",
   "name": "python",
   "nbconvert_exporter": "python",
   "pygments_lexer": "ipython3",
   "version": "3.6.8"
  }
 },
 "nbformat": 4,
 "nbformat_minor": 5
}
