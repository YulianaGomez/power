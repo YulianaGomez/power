{
 "cells": [
  {
   "cell_type": "code",
   "execution_count": 218,
   "metadata": {},
   "outputs": [
    {
     "data": {
      "text/html": [
       "<style>.container { width:100% !important; }</style>"
      ],
      "text/plain": [
       "<IPython.core.display.HTML object>"
      ]
     },
     "metadata": {},
     "output_type": "display_data"
    }
   ],
   "source": [
    "import pandas as pd\n",
    "import numpy as np\n",
    "import matplotlib.pyplot as plt\n",
    "from sklearn.metrics import r2_score\n",
    "from sklearn.metrics import mean_squared_error\n",
    "from sklearn.model_selection import train_test_split\n",
    "from sklearn.ensemble import RandomForestClassifier\n",
    "from sklearn.ensemble import RandomForestRegressor\n",
    "from sklearn.metrics import mean_absolute_percentage_error\n",
    "from sklearn.tree import export_graphviz\n",
    "from sklearn.metrics import accuracy_score\n",
    "plt.rc('pdf', fonttype=42)\n",
    "\n",
    "from IPython.core.display import display, HTML\n",
    "display(HTML('<style>.container { width:100% !important; }</style>'))\n",
    "\n",
    "BIG    = 22\n",
    "MEDIUM = 20\n",
    "FIGWIDTH= 12\n",
    "WIDTH = 0.25  # the width of the bars\n",
    "NARROW=0.2\n",
    "\n",
    "XLINE  = 523.21\n",
    "YLINE  = 0.002\n",
    "\n",
    "colors = ['#E27100', '#1b85b8', '#559e83', '#b26167']\n",
    "\n",
    "# Starting to define standardized colors\n",
    "MAE_COLOR =colors[1]\n",
    "TIME_COLOR=colors[0]"
   ]
  },
  {
   "cell_type": "code",
   "execution_count": 242,
   "metadata": {},
   "outputs": [
    {
     "data": {
      "text/plain": [
       "(78330, 116)"
      ]
     },
     "execution_count": 242,
     "metadata": {},
     "output_type": "execute_result"
    }
   ],
   "source": [
    "# Combining V100 and P100 on same row for same run\n",
    "# We are deleting cases where there is no run for either of the architectures\n",
    "# Every column name is appended with the name of the architecture (e.g. \"_V100\");\n",
    "# This includes the `master_index` (e.g `master_index_V100`)\n",
    "\n",
    "df_joined = pd.read_parquet('../df_master_joined.parquet')\n",
    "df_joined.master_index_P100 = df_joined.master_index_P100.astype('int64') # Make sure index is integer\n",
    "df_joined.master_index_V100 = df_joined.master_index_V100.astype('int64') # Make sure index is integer\n",
    "df_joined.shape\n",
    "\n",
    "\n",
    "# This is an \"empty\" dataframe (meaning no rows), containing\n",
    "# column names for numerical data only.\n",
    "# The column nmaes can be used to index the columns of the\n",
    "# scaled data (in master_scaled_data.npy)\n",
    "\n",
    "df_columns_only = pd.read_parquet('../df_column_reference.parquet')\n",
    "\n",
    "\n",
    "# This is a 2-D numpy array corresponding to the numerical data in 'df_master.parquet'\n",
    "# The data has been scaled using the StandardScaler in scikitlearn\n",
    "\n",
    "# Notes: \n",
    "#   - The row indices correspond to the `master_index` column of 'df_master.parquet'\n",
    "#   - The columns correspond to the columns in 'df_column_reference.parquet'.\n",
    "#     (e.g. can use `df.get_loc(column-name)` to get the column index)\n",
    "\n",
    "master_data_scaled = np.load('../master_scaled_data.npy')\n",
    "master_data_scaled.shape"
   ]
  },
  {
   "cell_type": "code",
   "execution_count": 243,
   "metadata": {},
   "outputs": [
    {
     "data": {
      "text/plain": [
       "Index(['inst_per_warp', 'branch_efficiency', 'warp_execution_efficiency',\n",
       "       'warp_nonpred_execution_efficiency', 'inst_replay_overhead',\n",
       "       'shared_load_transactions_per_request',\n",
       "       'shared_store_transactions_per_request',\n",
       "       'local_load_transactions_per_request',\n",
       "       'local_store_transactions_per_request', 'gld_transactions_per_request',\n",
       "       ...\n",
       "       'cf_fu_utilization', 'special_fu_utilization',\n",
       "       'half_precision_fu_utilization', 'single_precision_fu_utilization',\n",
       "       'double_precision_fu_utilization', 'flop_hp_efficiency',\n",
       "       'flop_sp_efficiency', 'flop_dp_efficiency', 'sysmem_read_utilization',\n",
       "       'sysmem_write_utilization'],\n",
       "      dtype='object', length=116)"
      ]
     },
     "execution_count": 243,
     "metadata": {},
     "output_type": "execute_result"
    }
   ],
   "source": [
    "df_columns_only.columns"
   ]
  },
  {
   "cell_type": "code",
   "execution_count": 244,
   "metadata": {},
   "outputs": [],
   "source": [
    "temp_col = df_joined['dram_write_throughput_V100'] + df_joined['dram_read_throughput_V100']\n",
    "temp_col2 = df_joined['dram_write_throughput_V100'] + df_joined['dram_read_throughput_V100']\n",
    "#df_joined =df_joined[temp_col2>10e9]\n",
    "\n",
    "df_joined= df_joined[temp_col>10e9]"
   ]
  },
  {
   "cell_type": "code",
   "execution_count": 245,
   "metadata": {},
   "outputs": [],
   "source": [
    "\n",
    "df = df_joined.copy()  # Start with all of df_joined\n",
    "\n",
    "# Target index and values (values are NOT in master_data_scaled)\n",
    "target_index = df['master_index_V100'].values\n",
    "target = df['memory_bound_V100'].values\n",
    "\n",
    "# Training data index and values (values ARE in master_data_scaled)\n",
    "data_index = df['master_index_P100'].values\n",
    "data = master_data_scaled[ data_index ]\n",
    "\n",
    "# Need to drop 'dram_read_throughput' and 'dram_write_throughput'\n",
    "indices = []\n",
    "for i, col in enumerate(df_columns_only.columns):\n",
    "    if col not in ['dram_read_throughput', 'dram_write_throughput','dram_write_transactions','dram_read_transactions']:\n",
    "    #if col not in not_import:\n",
    "        indices.append(i)       \n",
    "data = data[:,indices]"
   ]
  },
  {
   "cell_type": "markdown",
   "metadata": {},
   "source": [
    "## Kernels Profiled"
   ]
  },
  {
   "cell_type": "code",
   "execution_count": 246,
   "metadata": {},
   "outputs": [
    {
     "data": {
      "text/plain": [
       "['backprop', 'gaussian', 'hybridsort', 'kmeans', 'srad', 'stream']"
      ]
     },
     "execution_count": 246,
     "metadata": {},
     "output_type": "execute_result"
    }
   ],
   "source": [
    "kernels = []\n",
    "for i in df_joined['application_name_V100']:\n",
    "    if i not in kernels:\n",
    "        kernels.append(i)\n",
    "        \n",
    "kernels"
   ]
  },
  {
   "cell_type": "markdown",
   "metadata": {},
   "source": [
    "## Baseline Comparison"
   ]
  },
  {
   "cell_type": "code",
   "execution_count": 247,
   "metadata": {},
   "outputs": [
    {
     "name": "stdout",
     "output_type": "stream",
     "text": [
      "Mean Absolute Error: 216.44\n",
      "Mean Absolute Percentage Error: 284.38398656551936\n",
      "R2 Score -0.06439818627230554\n"
     ]
    },
    {
     "data": {
      "text/plain": [
       "Text(0.5,1,'Baseline Memory Throughput - MAE: 216.44')"
      ]
     },
     "execution_count": 247,
     "metadata": {},
     "output_type": "execute_result"
    },
    {
     "data": {
      "image/png": "[encoded data removed]",
      "text/plain": [
       "<Figure size 432x288 with 1 Axes>"
      ]
     },
     "metadata": {
      "needs_background": "light"
     },
     "output_type": "display_data"
    }
   ],
   "source": [
    "V100_throughput = (df_joined['dram_read_throughput_V100'] + df_joined['dram_write_throughput_V100']).values\n",
    "P100_throughput = (df_joined['dram_read_throughput_P100'] + df_joined['dram_write_throughput_P100']).values\n",
    "plt.plot(P100_throughput/1024/1024/1024, V100_throughput/1024/1024/1024,'.')\n",
    "plt.xlabel('P100 Memory Throughput (GB/s)')\n",
    "plt.ylabel('V100 Memory Throughput (GB/s)')\n",
    "errors = abs(V100_throughput - P100_throughput)/1024/1024/1024\n",
    "mean_error = round(np.mean(errors),2)\n",
    "print('Mean Absolute Error:', round(np.mean(errors),2))\n",
    "print('Mean Absolute Percentage Error:',mean_absolute_percentage_error(P100_throughput/1024/1024/1024, V100_throughput/1024/1024/1024))\n",
    "print(\"R2 Score\", r2_score(V100_throughput,P100_throughput))\n",
    "plt.title('Baseline Memory Throughput - MAE: ' + str(mean_error))\n",
    "\n",
    "#plt.savefig('Throughput_Prediction_Figures/predict_result.pdf')"
   ]
  },
  {
   "cell_type": "markdown",
   "metadata": {},
   "source": [
    "## Splitting and Loading data for ML models"
   ]
  },
  {
   "cell_type": "code",
   "execution_count": 282,
   "metadata": {},
   "outputs": [],
   "source": [
    "df = df_joined.copy() \n",
    "\n",
    "# Target index and values (values are NOT in master_data_scaled)\n",
    "target_index = df['master_index_V100'].values\n",
    "target = df['memory_bound_V100'].values\n",
    "\n",
    "# Training data index and values (values ARE in master_data_scaled)\n",
    "data_index = df['master_index_P100'].values\n",
    "data = master_data_scaled[ data_index ]\n",
    "\n",
    "top_features = ['gld_transactions', 'l2_write_transactions', 'l2_tex_write_transactions','tex_cache_transactions','gst_transactions']\n",
    "# Need to drop 'dram_read_throughput' and 'dram_write_throughput'\n",
    "indices = []\n",
    "for i, col in enumerate(df_columns_only.columns):\n",
    "    #if col not in ['dram_read_throughput', 'dram_write_throughput','dram_write_transactions','dram_read_transactions']:\n",
    "    if col in top_features:\n",
    "        indices.append(i)       \n",
    "data = data[:,indices]"
   ]
  },
  {
   "cell_type": "code",
   "execution_count": 283,
   "metadata": {},
   "outputs": [
    {
     "data": {
      "text/plain": [
       "(21487,)"
      ]
     },
     "execution_count": 283,
     "metadata": {},
     "output_type": "execute_result"
    }
   ],
   "source": [
    "df['master_index_V100'].shape"
   ]
  },
  {
   "cell_type": "code",
   "execution_count": 284,
   "metadata": {},
   "outputs": [],
   "source": [
    "# Split the data for training\n",
    "(\n",
    "    X_train, X_test,\n",
    "    y_train, y_test,\n",
    "    #data_index_train, data_index_test,\n",
    "    #target_index_train, target_index_test\n",
    ") = train_test_split(\n",
    "    data,\n",
    "    target,\n",
    "    #data_index,\n",
    "    #target_index,\n",
    "    random_state=42,\n",
    "    test_size=.33\n",
    ")"
   ]
  },
  {
   "cell_type": "markdown",
   "metadata": {},
   "source": [
    "## Classification"
   ]
  },
  {
   "cell_type": "code",
   "execution_count": 285,
   "metadata": {},
   "outputs": [
    {
     "name": "stdout",
     "output_type": "stream",
     "text": [
      "Accuracy: 0.9486673247778875\n"
     ]
    }
   ],
   "source": [
    "clf = RandomForestClassifier(n_jobs=2, n_estimators=1000,max_depth=2)\n",
    "model = clf.fit(X_train, y_train)\n",
    "#model = clf.fit(data,target)\n",
    "y_test_predict = clf.predict(X_test)\n",
    "print(\"Accuracy:\", accuracy_score(y_test,y_test_predict))\n"
   ]
  },
  {
   "cell_type": "markdown",
   "metadata": {},
   "source": [
    "## Regression"
   ]
  },
  {
   "cell_type": "code",
   "execution_count": 286,
   "metadata": {},
   "outputs": [
    {
     "data": {
      "text/plain": [
       "(21487, 5)"
      ]
     },
     "execution_count": 286,
     "metadata": {},
     "output_type": "execute_result"
    }
   ],
   "source": [
    "data.shape"
   ]
  },
  {
   "cell_type": "code",
   "execution_count": 287,
   "metadata": {},
   "outputs": [],
   "source": [
    "df_target = (df_joined['dram_read_throughput_V100'] + df_joined['dram_write_throughput_V100']).values\n",
    "# Split the data for training\n",
    "(\n",
    "    X_train, X_test,\n",
    "    y_train, y_test,\n",
    "    #data_index_train, data_index_test,\n",
    "    #target_index_train, target_index_test\n",
    ") = train_test_split(\n",
    "    data,\n",
    "    df_target,\n",
    "    #data_index,\n",
    "    #target_index,\n",
    "    random_state=42,\n",
    "    test_size=.33\n",
    ")"
   ]
  },
  {
   "cell_type": "code",
   "execution_count": 288,
   "metadata": {},
   "outputs": [
    {
     "data": {
      "text/plain": [
       "(21487, 5)"
      ]
     },
     "execution_count": 288,
     "metadata": {},
     "output_type": "execute_result"
    }
   ],
   "source": [
    "data.shape"
   ]
  },
  {
   "cell_type": "code",
   "execution_count": 289,
   "metadata": {},
   "outputs": [
    {
     "data": {
      "text/plain": [
       "'y_train = y_train.reshape(-1,1)\\ny_test = y_test.reshape(-1,1)'"
      ]
     },
     "execution_count": 289,
     "metadata": {},
     "output_type": "execute_result"
    }
   ],
   "source": [
    "data.shape\n",
    "\"\"\"y_train = y_train.reshape(-1,1)\n",
    "y_test = y_test.reshape(-1,1)\"\"\""
   ]
  },
  {
   "cell_type": "code",
   "execution_count": 290,
   "metadata": {},
   "outputs": [],
   "source": [
    "clf = RandomForestRegressor(n_jobs=2, n_estimators=200, max_depth=100)\n",
    "reg_model = clf.fit(X_train, y_train)"
   ]
  },
  {
   "cell_type": "code",
   "execution_count": 291,
   "metadata": {},
   "outputs": [],
   "source": [
    "y_test_predict = clf.predict(X_test)\n"
   ]
  },
  {
   "cell_type": "code",
   "execution_count": 292,
   "metadata": {},
   "outputs": [],
   "source": [
    "import numpy as np\n",
    "\n",
    "def mean_absolute_percentage_error(y_true, y_pred): \n",
    "    y_true = y_true\n",
    "    y_true, y_pred = np.array(y_true), np.array(y_pred)\n",
    "    return np.mean(np.abs((y_true - y_pred) / y_true)) * 100"
   ]
  },
  {
   "cell_type": "code",
   "execution_count": 293,
   "metadata": {},
   "outputs": [],
   "source": [
    "# Calculate mean absolute percentage error (MAPE)\n",
    "#mape = np.mean(100 * (errors /( y_test_gb+.00000001)))\n",
    "# Compare to baseline\n",
    "#improvement_baseline = 100 * abs(mape - baseline_mape) / baseline_mape\n",
    "#print('Improvement over baseline:', round(improvement_baseline, 2), '%.')\n",
    "# Calculate and display accuracy\n",
    "#accuracy = 100 - mape\n",
    "#print('Accuracy:', round(accuracy, 2), '%.')\n"
   ]
  },
  {
   "cell_type": "code",
   "execution_count": 294,
   "metadata": {
    "tags": []
   },
   "outputs": [],
   "source": [
    "raw_error = y_test_predict-y_test\n"
   ]
  },
  {
   "cell_type": "code",
   "execution_count": 295,
   "metadata": {},
   "outputs": [
    {
     "data": {
      "text/plain": [
       "445.2421822807302"
      ]
     },
     "execution_count": 295,
     "metadata": {},
     "output_type": "execute_result"
    }
   ],
   "source": [
    "raw_error.min()/1024/1024/1024\n",
    "raw_error.max()/1024/1024/1024"
   ]
  },
  {
   "cell_type": "code",
   "execution_count": 296,
   "metadata": {},
   "outputs": [
    {
     "name": "stdout",
     "output_type": "stream",
     "text": [
      "Mean Absolute Error: 18.93\n",
      "Mean absolute percentage error: 13.296347266090836\n"
     ]
    }
   ],
   "source": [
    "errors = abs(y_test_predict - y_test)/1024/1024/1024\n",
    "y_test_predict_gb = y_test_predict/1024/1024/1024\n",
    "y_test_gb = y_test/1024/1024/1024\n",
    "mean_error = round(np.mean(errors),2)\n",
    "print('Mean Absolute Error:', round(np.mean(errors),2))\n",
    "print(\"Mean absolute percentage error:\",mean_absolute_percentage_error(y_test_gb,y_test_predict_gb))"
   ]
  },
  {
   "cell_type": "code",
   "execution_count": 297,
   "metadata": {},
   "outputs": [
    {
     "data": {
      "text/plain": [
       "35.657360798568504"
      ]
     },
     "execution_count": 297,
     "metadata": {},
     "output_type": "execute_result"
    }
   ],
   "source": [
    "from sklearn.metrics import mean_squared_error\n",
    "mean_squared_error(y_test_gb,y_test_predict_gb,squared=False)"
   ]
  },
  {
   "cell_type": "code",
   "execution_count": 298,
   "metadata": {},
   "outputs": [
    {
     "data": {
      "text/plain": [
       "Text(0,0.5,'Predicted')"
      ]
     },
     "execution_count": 298,
     "metadata": {},
     "output_type": "execute_result"
    },
    {
     "data": {
      "image/png": "[encoded data removed]",
      "text/plain": [
       "<Figure size 432x288 with 1 Axes>"
      ]
     },
     "metadata": {
      "needs_background": "light"
     },
     "output_type": "display_data"
    }
   ],
   "source": [
    "plt.plot(y_test/1024/1024/1024, y_test_predict/1024/1024/1024,'.')\n",
    "plt.xlabel('True')\n",
    "plt.ylabel('Predicted')\n"
   ]
  },
  {
   "cell_type": "code",
   "execution_count": 189,
   "metadata": {
    "collapsed": true,
    "jupyter": {
     "outputs_hidden": true
    },
    "tags": []
   },
   "outputs": [
    {
     "name": "stdout",
     "output_type": "stream",
     "text": [
      "[0]\tvalidation_0-rmse:457231138816.00000\tvalidation_0-mae:377592217600.00000\tvalidation_1-rmse:458517741568.00000\tvalidation_1-mae:378788052992.00000\n",
      "[1]\tvalidation_0-rmse:411743092736.00000\tvalidation_0-mae:339940540416.00000\tvalidation_1-rmse:412919955456.00000\tvalidation_1-mae:341056028672.00000\n",
      "[2]\tvalidation_0-rmse:370833096704.00000\tvalidation_0-mae:306087854080.00000\tvalidation_1-rmse:371935019008.00000\tvalidation_1-mae:307143376896.00000\n",
      "[3]\tvalidation_0-rmse:334021885952.00000\tvalidation_0-mae:275603685376.00000\tvalidation_1-rmse:335054307328.00000\tvalidation_1-mae:276620902400.00000\n",
      "[4]\tvalidation_0-rmse:300918571008.00000\tvalidation_0-mae:248209293312.00000\tvalidation_1-rmse:301914390528.00000\tvalidation_1-mae:249212092416.00000\n",
      "[5]\tvalidation_0-rmse:271117352960.00000\tvalidation_0-mae:223516311552.00000\tvalidation_1-rmse:272097525760.00000\tvalidation_1-mae:224524468224.00000\n",
      "[6]\tvalidation_0-rmse:244301037568.00000\tvalidation_0-mae:201287204864.00000\tvalidation_1-rmse:245261090816.00000\tvalidation_1-mae:202278109184.00000\n",
      "[7]\tvalidation_0-rmse:220200140800.00000\tvalidation_0-mae:181328707584.00000\tvalidation_1-rmse:221190717440.00000\tvalidation_1-mae:182338486272.00000\n",
      "[8]\tvalidation_0-rmse:198498811904.00000\tvalidation_0-mae:163333324800.00000\tvalidation_1-rmse:199568195584.00000\tvalidation_1-mae:164408377344.00000\n",
      "[9]\tvalidation_0-rmse:178995118080.00000\tvalidation_0-mae:147140853760.00000\tvalidation_1-rmse:180164509696.00000\tvalidation_1-mae:148298055680.00000\n",
      "[10]\tvalidation_0-rmse:161442824192.00000\tvalidation_0-mae:132551180288.00000\tvalidation_1-rmse:162705768448.00000\tvalidation_1-mae:133770321920.00000\n",
      "[11]\tvalidation_0-rmse:145684463616.00000\tvalidation_0-mae:119470899200.00000\tvalidation_1-rmse:147120324608.00000\tvalidation_1-mae:120806457344.00000\n",
      "[12]\tvalidation_0-rmse:131527720960.00000\tvalidation_0-mae:107691597824.00000\tvalidation_1-rmse:133169725440.00000\tvalidation_1-mae:109187178496.00000\n",
      "[13]\tvalidation_0-rmse:118785490944.00000\tvalidation_0-mae:97080385536.00000\tvalidation_1-rmse:120666693632.00000\tvalidation_1-mae:98727337984.00000\n",
      "[14]\tvalidation_0-rmse:107324440576.00000\tvalidation_0-mae:87533371392.00000\tvalidation_1-rmse:109492117504.00000\tvalidation_1-mae:89363652608.00000\n",
      "[15]\tvalidation_0-rmse:97023860736.00000\tvalidation_0-mae:78942363648.00000\tvalidation_1-rmse:99501703168.00000\tvalidation_1-mae:80947003392.00000\n",
      "[16]\tvalidation_0-rmse:87787454464.00000\tvalidation_0-mae:71253286912.00000\tvalidation_1-rmse:90671112192.00000\tvalidation_1-mae:73466576896.00000\n",
      "[17]\tvalidation_0-rmse:79496355840.00000\tvalidation_0-mae:64313221120.00000\tvalidation_1-rmse:82795864064.00000\tvalidation_1-mae:66749362176.00000\n",
      "[18]\tvalidation_0-rmse:72014774272.00000\tvalidation_0-mae:58074050560.00000\tvalidation_1-rmse:75794833408.00000\tvalidation_1-mae:60719501312.00000\n",
      "[19]\tvalidation_0-rmse:65287798784.00000\tvalidation_0-mae:52480872448.00000\tvalidation_1-rmse:69662597120.00000\tvalidation_1-mae:55430815744.00000\n",
      "[20]\tvalidation_0-rmse:59242381312.00000\tvalidation_0-mae:47434481664.00000\tvalidation_1-rmse:64255012864.00000\tvalidation_1-mae:50721333248.00000\n",
      "[21]\tvalidation_0-rmse:53773889536.00000\tvalidation_0-mae:42874486784.00000\tvalidation_1-rmse:59426119680.00000\tvalidation_1-mae:46488076288.00000\n",
      "[22]\tvalidation_0-rmse:48898170880.00000\tvalidation_0-mae:38789357568.00000\tvalidation_1-rmse:55219232768.00000\tvalidation_1-mae:42742829056.00000\n",
      "[23]\tvalidation_0-rmse:44489584640.00000\tvalidation_0-mae:35101114368.00000\tvalidation_1-rmse:51564482560.00000\tvalidation_1-mae:39441661952.00000\n",
      "[24]\tvalidation_0-rmse:40514428928.00000\tvalidation_0-mae:31786504192.00000\tvalidation_1-rmse:48387698688.00000\tvalidation_1-mae:36520083456.00000\n",
      "[25]\tvalidation_0-rmse:36927504384.00000\tvalidation_0-mae:28804392960.00000\tvalidation_1-rmse:45607858176.00000\tvalidation_1-mae:33924483072.00000\n",
      "[26]\tvalidation_0-rmse:33706752000.00000\tvalidation_0-mae:26118045696.00000\tvalidation_1-rmse:43257167872.00000\tvalidation_1-mae:31650078720.00000\n",
      "[27]\tvalidation_0-rmse:30810277888.00000\tvalidation_0-mae:23683260416.00000\tvalidation_1-rmse:41225818112.00000\tvalidation_1-mae:29616599040.00000\n",
      "[28]\tvalidation_0-rmse:28222631936.00000\tvalidation_0-mae:21511088128.00000\tvalidation_1-rmse:39523610624.00000\tvalidation_1-mae:27854092288.00000\n",
      "[29]\tvalidation_0-rmse:25871933440.00000\tvalidation_0-mae:19549769728.00000\tvalidation_1-rmse:38083280896.00000\tvalidation_1-mae:26294333440.00000\n",
      "[30]\tvalidation_0-rmse:23733893120.00000\tvalidation_0-mae:17775790080.00000\tvalidation_1-rmse:36872749056.00000\tvalidation_1-mae:24908818432.00000\n",
      "[31]\tvalidation_0-rmse:21825433600.00000\tvalidation_0-mae:16180452352.00000\tvalidation_1-rmse:35857510400.00000\tvalidation_1-mae:23700455424.00000\n",
      "[32]\tvalidation_0-rmse:20104740864.00000\tvalidation_0-mae:14759482368.00000\tvalidation_1-rmse:35002265600.00000\tvalidation_1-mae:22628532224.00000\n",
      "[33]\tvalidation_0-rmse:18546749440.00000\tvalidation_0-mae:13465311232.00000\tvalidation_1-rmse:34292592640.00000\tvalidation_1-mae:21662527488.00000\n",
      "[34]\tvalidation_0-rmse:17160968192.00000\tvalidation_0-mae:12317805568.00000\tvalidation_1-rmse:33713518592.00000\tvalidation_1-mae:20832448512.00000\n",
      "[35]\tvalidation_0-rmse:15902274560.00000\tvalidation_0-mae:11275741184.00000\tvalidation_1-rmse:33221140480.00000\tvalidation_1-mae:20106313728.00000\n",
      "[36]\tvalidation_0-rmse:14725526528.00000\tvalidation_0-mae:10330156032.00000\tvalidation_1-rmse:32822437888.00000\tvalidation_1-mae:19491770368.00000\n",
      "[37]\tvalidation_0-rmse:13676539904.00000\tvalidation_0-mae:9477726208.00000\tvalidation_1-rmse:32483737600.00000\tvalidation_1-mae:18955700224.00000\n",
      "[38]\tvalidation_0-rmse:12702064640.00000\tvalidation_0-mae:8700806144.00000\tvalidation_1-rmse:32197019648.00000\tvalidation_1-mae:18497232896.00000\n",
      "[39]\tvalidation_0-rmse:11841685504.00000\tvalidation_0-mae:8006226432.00000\tvalidation_1-rmse:31967225856.00000\tvalidation_1-mae:18100803584.00000\n",
      "[40]\tvalidation_0-rmse:11046388736.00000\tvalidation_0-mae:7371601920.00000\tvalidation_1-rmse:31757246464.00000\tvalidation_1-mae:17755172864.00000\n",
      "[41]\tvalidation_0-rmse:10306371584.00000\tvalidation_0-mae:6795068416.00000\tvalidation_1-rmse:31572105216.00000\tvalidation_1-mae:17457719296.00000\n",
      "[42]\tvalidation_0-rmse:9638870016.00000\tvalidation_0-mae:6276089344.00000\tvalidation_1-rmse:31445422080.00000\tvalidation_1-mae:17223641088.00000\n",
      "[43]\tvalidation_0-rmse:9026519040.00000\tvalidation_0-mae:5798289408.00000\tvalidation_1-rmse:31332526080.00000\tvalidation_1-mae:17017515008.00000\n",
      "[44]\tvalidation_0-rmse:8475790336.00000\tvalidation_0-mae:5365676032.00000\tvalidation_1-rmse:31245320192.00000\tvalidation_1-mae:16851894272.00000\n",
      "[45]\tvalidation_0-rmse:7953281536.00000\tvalidation_0-mae:4970988544.00000\tvalidation_1-rmse:31171543040.00000\tvalidation_1-mae:16724414464.00000\n",
      "[46]\tvalidation_0-rmse:7473054208.00000\tvalidation_0-mae:4616985600.00000\tvalidation_1-rmse:31103971328.00000\tvalidation_1-mae:16607198208.00000\n",
      "[47]\tvalidation_0-rmse:7027769344.00000\tvalidation_0-mae:4289717504.00000\tvalidation_1-rmse:31044632576.00000\tvalidation_1-mae:16518980608.00000\n",
      "[48]\tvalidation_0-rmse:6631608832.00000\tvalidation_0-mae:3996418816.00000\tvalidation_1-rmse:31010648064.00000\tvalidation_1-mae:16448559104.00000\n",
      "[49]\tvalidation_0-rmse:6253425664.00000\tvalidation_0-mae:3724511744.00000\tvalidation_1-rmse:30963898368.00000\tvalidation_1-mae:16386203648.00000\n",
      "[50]\tvalidation_0-rmse:5890242560.00000\tvalidation_0-mae:3474718464.00000\tvalidation_1-rmse:30943940608.00000\tvalidation_1-mae:16338103296.00000\n",
      "[51]\tvalidation_0-rmse:5555754496.00000\tvalidation_0-mae:3243044608.00000\tvalidation_1-rmse:30911211520.00000\tvalidation_1-mae:16296559616.00000\n",
      "[52]\tvalidation_0-rmse:5248133120.00000\tvalidation_0-mae:3032800768.00000\tvalidation_1-rmse:30893238272.00000\tvalidation_1-mae:16268992512.00000\n",
      "[53]\tvalidation_0-rmse:4960199168.00000\tvalidation_0-mae:2838094848.00000\tvalidation_1-rmse:30879207424.00000\tvalidation_1-mae:16245741568.00000\n",
      "[54]\tvalidation_0-rmse:4689085952.00000\tvalidation_0-mae:2655169024.00000\tvalidation_1-rmse:30858921984.00000\tvalidation_1-mae:16220183552.00000\n",
      "[55]\tvalidation_0-rmse:4447971840.00000\tvalidation_0-mae:2489984512.00000\tvalidation_1-rmse:30846715904.00000\tvalidation_1-mae:16195179520.00000\n",
      "[56]\tvalidation_0-rmse:4218054400.00000\tvalidation_0-mae:2336363264.00000\tvalidation_1-rmse:30839545856.00000\tvalidation_1-mae:16184660992.00000\n",
      "[57]\tvalidation_0-rmse:3998885632.00000\tvalidation_0-mae:2191508736.00000\tvalidation_1-rmse:30827923456.00000\tvalidation_1-mae:16168982528.00000\n",
      "[58]\tvalidation_0-rmse:3799672064.00000\tvalidation_0-mae:2060133504.00000\tvalidation_1-rmse:30811564032.00000\tvalidation_1-mae:16157358080.00000\n",
      "[59]\tvalidation_0-rmse:3605731584.00000\tvalidation_0-mae:1936626560.00000\tvalidation_1-rmse:30809509888.00000\tvalidation_1-mae:16155801600.00000\n",
      "[60]\tvalidation_0-rmse:3431868160.00000\tvalidation_0-mae:1822876544.00000\tvalidation_1-rmse:30810517504.00000\tvalidation_1-mae:16151076864.00000\n",
      "[61]\tvalidation_0-rmse:3262723584.00000\tvalidation_0-mae:1715592448.00000\tvalidation_1-rmse:30802358272.00000\tvalidation_1-mae:16140069888.00000\n",
      "[62]\tvalidation_0-rmse:3109360896.00000\tvalidation_0-mae:1618559872.00000\tvalidation_1-rmse:30801987584.00000\tvalidation_1-mae:16136089600.00000\n",
      "[63]\tvalidation_0-rmse:2960775936.00000\tvalidation_0-mae:1528294016.00000\tvalidation_1-rmse:30806757376.00000\tvalidation_1-mae:16135603200.00000\n",
      "[64]\tvalidation_0-rmse:2815808512.00000\tvalidation_0-mae:1443957760.00000\tvalidation_1-rmse:30810609664.00000\tvalidation_1-mae:16134127616.00000\n",
      "[65]\tvalidation_0-rmse:2676568064.00000\tvalidation_0-mae:1364664832.00000\tvalidation_1-rmse:30815401984.00000\tvalidation_1-mae:16139088896.00000\n",
      "[66]\tvalidation_0-rmse:2553231616.00000\tvalidation_0-mae:1289422336.00000\tvalidation_1-rmse:30816581632.00000\tvalidation_1-mae:16139827200.00000\n",
      "[67]\tvalidation_0-rmse:2432049920.00000\tvalidation_0-mae:1220359040.00000\tvalidation_1-rmse:30817691648.00000\tvalidation_1-mae:16140605440.00000\n",
      "[68]\tvalidation_0-rmse:2315684096.00000\tvalidation_0-mae:1155448320.00000\tvalidation_1-rmse:30815457280.00000\tvalidation_1-mae:16140323840.00000\n",
      "[69]\tvalidation_0-rmse:2211456768.00000\tvalidation_0-mae:1094620544.00000\tvalidation_1-rmse:30815412224.00000\tvalidation_1-mae:16140478464.00000\n",
      "[70]\tvalidation_0-rmse:2112226944.00000\tvalidation_0-mae:1037393792.00000\tvalidation_1-rmse:30811799552.00000\tvalidation_1-mae:16139274240.00000\n",
      "[71]\tvalidation_0-rmse:2016266624.00000\tvalidation_0-mae:983208256.00000\tvalidation_1-rmse:30813261824.00000\tvalidation_1-mae:16141131776.00000\n",
      "[72]\tvalidation_0-rmse:1927221760.00000\tvalidation_0-mae:933174080.00000\tvalidation_1-rmse:30813734912.00000\tvalidation_1-mae:16142895104.00000\n",
      "[73]\tvalidation_0-rmse:1845935616.00000\tvalidation_0-mae:886589440.00000\tvalidation_1-rmse:30816425984.00000\tvalidation_1-mae:16144719872.00000\n",
      "[74]\tvalidation_0-rmse:1770591744.00000\tvalidation_0-mae:843457472.00000\tvalidation_1-rmse:30817767424.00000\tvalidation_1-mae:16145878016.00000\n",
      "[75]\tvalidation_0-rmse:1697292544.00000\tvalidation_0-mae:801818944.00000\tvalidation_1-rmse:30821322752.00000\tvalidation_1-mae:16147405824.00000\n",
      "[76]\tvalidation_0-rmse:1627974656.00000\tvalidation_0-mae:762234304.00000\tvalidation_1-rmse:30821193728.00000\tvalidation_1-mae:16148539392.00000\n",
      "[77]\tvalidation_0-rmse:1553837952.00000\tvalidation_0-mae:724032128.00000\tvalidation_1-rmse:30820620288.00000\tvalidation_1-mae:16148423680.00000\n",
      "[78]\tvalidation_0-rmse:1495681664.00000\tvalidation_0-mae:689166656.00000\tvalidation_1-rmse:30821849088.00000\tvalidation_1-mae:16148784128.00000\n",
      "[79]\tvalidation_0-rmse:1433284224.00000\tvalidation_0-mae:655664384.00000\tvalidation_1-rmse:30819135488.00000\tvalidation_1-mae:16148377600.00000\n",
      "[80]\tvalidation_0-rmse:1369715200.00000\tvalidation_0-mae:623223424.00000\tvalidation_1-rmse:30821171200.00000\tvalidation_1-mae:16150180864.00000\n",
      "[81]\tvalidation_0-rmse:1312538880.00000\tvalidation_0-mae:592801920.00000\tvalidation_1-rmse:30819127296.00000\tvalidation_1-mae:16149182464.00000\n",
      "[82]\tvalidation_0-rmse:1256839168.00000\tvalidation_0-mae:564880512.00000\tvalidation_1-rmse:30819584000.00000\tvalidation_1-mae:16149986304.00000\n",
      "[83]\tvalidation_0-rmse:1206250880.00000\tvalidation_0-mae:538447936.00000\tvalidation_1-rmse:30822592512.00000\tvalidation_1-mae:16151370752.00000\n",
      "[84]\tvalidation_0-rmse:1156292480.00000\tvalidation_0-mae:512583136.00000\tvalidation_1-rmse:30822834176.00000\tvalidation_1-mae:16151669760.00000\n",
      "[85]\tvalidation_0-rmse:1110842752.00000\tvalidation_0-mae:488500320.00000\tvalidation_1-rmse:30823602176.00000\tvalidation_1-mae:16152981504.00000\n",
      "[86]\tvalidation_0-rmse:1065707200.00000\tvalidation_0-mae:465608160.00000\tvalidation_1-rmse:30824927232.00000\tvalidation_1-mae:16154319872.00000\n",
      "[87]\tvalidation_0-rmse:1022067392.00000\tvalidation_0-mae:443461568.00000\tvalidation_1-rmse:30826348544.00000\tvalidation_1-mae:16154455040.00000\n",
      "[88]\tvalidation_0-rmse:978984448.00000\tvalidation_0-mae:422670752.00000\tvalidation_1-rmse:30825725952.00000\tvalidation_1-mae:16154382336.00000\n",
      "[89]\tvalidation_0-rmse:938332672.00000\tvalidation_0-mae:402959456.00000\tvalidation_1-rmse:30824452096.00000\tvalidation_1-mae:16153899008.00000\n",
      "[90]\tvalidation_0-rmse:899140480.00000\tvalidation_0-mae:384180224.00000\tvalidation_1-rmse:30825420800.00000\tvalidation_1-mae:16154379264.00000\n",
      "[91]\tvalidation_0-rmse:863175296.00000\tvalidation_0-mae:366794016.00000\tvalidation_1-rmse:30826844160.00000\tvalidation_1-mae:16156571648.00000\n",
      "[92]\tvalidation_0-rmse:825418944.00000\tvalidation_0-mae:349522112.00000\tvalidation_1-rmse:30827173888.00000\tvalidation_1-mae:16157591552.00000\n",
      "[93]\tvalidation_0-rmse:794569152.00000\tvalidation_0-mae:334058528.00000\tvalidation_1-rmse:30828752896.00000\tvalidation_1-mae:16157952000.00000\n",
      "[94]\tvalidation_0-rmse:762242880.00000\tvalidation_0-mae:319009536.00000\tvalidation_1-rmse:30829195264.00000\tvalidation_1-mae:16158269440.00000\n",
      "[95]\tvalidation_0-rmse:730212480.00000\tvalidation_0-mae:304767744.00000\tvalidation_1-rmse:30829578240.00000\tvalidation_1-mae:16159339520.00000\n",
      "[96]\tvalidation_0-rmse:703447872.00000\tvalidation_0-mae:291333184.00000\tvalidation_1-rmse:30830589952.00000\tvalidation_1-mae:16160745472.00000\n",
      "[97]\tvalidation_0-rmse:673690176.00000\tvalidation_0-mae:278154912.00000\tvalidation_1-rmse:30830071808.00000\tvalidation_1-mae:16160350208.00000\n",
      "[98]\tvalidation_0-rmse:649009344.00000\tvalidation_0-mae:265723504.00000\tvalidation_1-rmse:30829416448.00000\tvalidation_1-mae:16159946752.00000\n",
      "[99]\tvalidation_0-rmse:622794176.00000\tvalidation_0-mae:254179408.00000\tvalidation_1-rmse:30830268416.00000\tvalidation_1-mae:16161093632.00000\n",
      "[100]\tvalidation_0-rmse:597667904.00000\tvalidation_0-mae:242941088.00000\tvalidation_1-rmse:30831581184.00000\tvalidation_1-mae:16161543168.00000\n",
      "[101]\tvalidation_0-rmse:574190976.00000\tvalidation_0-mae:232260896.00000\tvalidation_1-rmse:30830817280.00000\tvalidation_1-mae:16161723392.00000\n",
      "[102]\tvalidation_0-rmse:552276224.00000\tvalidation_0-mae:221976240.00000\tvalidation_1-rmse:30830903296.00000\tvalidation_1-mae:16162297856.00000\n",
      "[103]\tvalidation_0-rmse:529815744.00000\tvalidation_0-mae:211969968.00000\tvalidation_1-rmse:30831142912.00000\tvalidation_1-mae:16162081792.00000\n",
      "[104]\tvalidation_0-rmse:510768192.00000\tvalidation_0-mae:202785280.00000\tvalidation_1-rmse:30831915008.00000\tvalidation_1-mae:16162330624.00000\n",
      "[105]\tvalidation_0-rmse:490052672.00000\tvalidation_0-mae:193864032.00000\tvalidation_1-rmse:30831138816.00000\tvalidation_1-mae:16161961984.00000\n",
      "[106]\tvalidation_0-rmse:470373408.00000\tvalidation_0-mae:185486480.00000\tvalidation_1-rmse:30831167488.00000\tvalidation_1-mae:16162023424.00000\n",
      "[107]\tvalidation_0-rmse:451765536.00000\tvalidation_0-mae:177460528.00000\tvalidation_1-rmse:30832197632.00000\tvalidation_1-mae:16163033088.00000\n",
      "[108]\tvalidation_0-rmse:434029376.00000\tvalidation_0-mae:169728576.00000\tvalidation_1-rmse:30832359424.00000\tvalidation_1-mae:16163135488.00000\n",
      "[109]\tvalidation_0-rmse:418925312.00000\tvalidation_0-mae:162541664.00000\tvalidation_1-rmse:30832998400.00000\tvalidation_1-mae:16163556352.00000\n",
      "[110]\tvalidation_0-rmse:403163648.00000\tvalidation_0-mae:155576944.00000\tvalidation_1-rmse:30832896000.00000\tvalidation_1-mae:16163281920.00000\n",
      "[111]\tvalidation_0-rmse:387470336.00000\tvalidation_0-mae:148994096.00000\tvalidation_1-rmse:30833084416.00000\tvalidation_1-mae:16163667968.00000\n",
      "[112]\tvalidation_0-rmse:372175072.00000\tvalidation_0-mae:142599920.00000\tvalidation_1-rmse:30832771072.00000\tvalidation_1-mae:16163571712.00000\n",
      "[113]\tvalidation_0-rmse:356591136.00000\tvalidation_0-mae:136277648.00000\tvalidation_1-rmse:30833100800.00000\tvalidation_1-mae:16163548160.00000\n",
      "[114]\tvalidation_0-rmse:342819520.00000\tvalidation_0-mae:130474672.00000\tvalidation_1-rmse:30833620992.00000\tvalidation_1-mae:16164009984.00000\n",
      "[115]\tvalidation_0-rmse:330270112.00000\tvalidation_0-mae:124858232.00000\tvalidation_1-rmse:30834458624.00000\tvalidation_1-mae:16164302848.00000\n",
      "[116]\tvalidation_0-rmse:316972896.00000\tvalidation_0-mae:119495440.00000\tvalidation_1-rmse:30834378752.00000\tvalidation_1-mae:16164368384.00000\n",
      "[117]\tvalidation_0-rmse:306112896.00000\tvalidation_0-mae:114414528.00000\tvalidation_1-rmse:30834333696.00000\tvalidation_1-mae:16164272128.00000\n",
      "[118]\tvalidation_0-rmse:294107616.00000\tvalidation_0-mae:109693176.00000\tvalidation_1-rmse:30834601984.00000\tvalidation_1-mae:16164632576.00000\n",
      "[119]\tvalidation_0-rmse:283304928.00000\tvalidation_0-mae:105049504.00000\tvalidation_1-rmse:30834925568.00000\tvalidation_1-mae:16164883456.00000\n",
      "[120]\tvalidation_0-rmse:271956512.00000\tvalidation_0-mae:100533568.00000\tvalidation_1-rmse:30835230720.00000\tvalidation_1-mae:16165003264.00000\n",
      "[121]\tvalidation_0-rmse:261328240.00000\tvalidation_0-mae:96162152.00000\tvalidation_1-rmse:30835150848.00000\tvalidation_1-mae:16164985856.00000\n",
      "[122]\tvalidation_0-rmse:251664496.00000\tvalidation_0-mae:92039768.00000\tvalidation_1-rmse:30835193856.00000\tvalidation_1-mae:16165051392.00000\n",
      "[123]\tvalidation_0-rmse:243362720.00000\tvalidation_0-mae:88225200.00000\tvalidation_1-rmse:30834669568.00000\tvalidation_1-mae:16164875264.00000\n",
      "[124]\tvalidation_0-rmse:233977056.00000\tvalidation_0-mae:84383568.00000\tvalidation_1-rmse:30834737152.00000\tvalidation_1-mae:16164782080.00000\n",
      "[125]\tvalidation_0-rmse:226240000.00000\tvalidation_0-mae:80874920.00000\tvalidation_1-rmse:30834939904.00000\tvalidation_1-mae:16164653056.00000\n",
      "[126]\tvalidation_0-rmse:217555728.00000\tvalidation_0-mae:77472904.00000\tvalidation_1-rmse:30834987008.00000\tvalidation_1-mae:16164661248.00000\n",
      "[127]\tvalidation_0-rmse:209339648.00000\tvalidation_0-mae:74281552.00000\tvalidation_1-rmse:30834345984.00000\tvalidation_1-mae:16164626432.00000\n",
      "[128]\tvalidation_0-rmse:201818816.00000\tvalidation_0-mae:71211472.00000\tvalidation_1-rmse:30834384896.00000\tvalidation_1-mae:16164651008.00000\n",
      "[129]\tvalidation_0-rmse:194870640.00000\tvalidation_0-mae:68299312.00000\tvalidation_1-rmse:30834778112.00000\tvalidation_1-mae:16164804608.00000\n",
      "[130]\tvalidation_0-rmse:186931072.00000\tvalidation_0-mae:65429888.00000\tvalidation_1-rmse:30834384896.00000\tvalidation_1-mae:16164538368.00000\n",
      "[131]\tvalidation_0-rmse:180418544.00000\tvalidation_0-mae:62658084.00000\tvalidation_1-rmse:30834173952.00000\tvalidation_1-mae:16164587520.00000\n",
      "[132]\tvalidation_0-rmse:173975152.00000\tvalidation_0-mae:60098428.00000\tvalidation_1-rmse:30834151424.00000\tvalidation_1-mae:16164545536.00000\n",
      "[133]\tvalidation_0-rmse:167066944.00000\tvalidation_0-mae:57499216.00000\tvalidation_1-rmse:30834659328.00000\tvalidation_1-mae:16164732928.00000\n",
      "[134]\tvalidation_0-rmse:161322880.00000\tvalidation_0-mae:55145516.00000\tvalidation_1-rmse:30834432000.00000\tvalidation_1-mae:16164715520.00000\n",
      "[135]\tvalidation_0-rmse:155366192.00000\tvalidation_0-mae:52873576.00000\tvalidation_1-rmse:30834311168.00000\tvalidation_1-mae:16164824064.00000\n",
      "[136]\tvalidation_0-rmse:149710672.00000\tvalidation_0-mae:50682008.00000\tvalidation_1-rmse:30834259968.00000\tvalidation_1-mae:16164841472.00000\n",
      "[137]\tvalidation_0-rmse:145472240.00000\tvalidation_0-mae:48751360.00000\tvalidation_1-rmse:30834581504.00000\tvalidation_1-mae:16164898816.00000\n",
      "[138]\tvalidation_0-rmse:140427984.00000\tvalidation_0-mae:46833512.00000\tvalidation_1-rmse:30834692096.00000\tvalidation_1-mae:16164879360.00000\n",
      "[139]\tvalidation_0-rmse:134861808.00000\tvalidation_0-mae:44892748.00000\tvalidation_1-rmse:30834886656.00000\tvalidation_1-mae:16164904960.00000\n",
      "[140]\tvalidation_0-rmse:129533072.00000\tvalidation_0-mae:43004824.00000\tvalidation_1-rmse:30834956288.00000\tvalidation_1-mae:16164896768.00000\n",
      "[141]\tvalidation_0-rmse:125020616.00000\tvalidation_0-mae:41268836.00000\tvalidation_1-rmse:30834843648.00000\tvalidation_1-mae:16164783104.00000\n",
      "[142]\tvalidation_0-rmse:119875544.00000\tvalidation_0-mae:39568572.00000\tvalidation_1-rmse:30835126272.00000\tvalidation_1-mae:16164907008.00000\n",
      "[143]\tvalidation_0-rmse:115481856.00000\tvalidation_0-mae:37934100.00000\tvalidation_1-rmse:30835060736.00000\tvalidation_1-mae:16164901888.00000\n",
      "[144]\tvalidation_0-rmse:111520896.00000\tvalidation_0-mae:36376792.00000\tvalidation_1-rmse:30835298304.00000\tvalidation_1-mae:16165022720.00000\n",
      "[145]\tvalidation_0-rmse:107928976.00000\tvalidation_0-mae:34910800.00000\tvalidation_1-rmse:30835306496.00000\tvalidation_1-mae:16164955136.00000\n",
      "[146]\tvalidation_0-rmse:103700752.00000\tvalidation_0-mae:33494470.00000\tvalidation_1-rmse:30835206144.00000\tvalidation_1-mae:16164908032.00000\n",
      "[147]\tvalidation_0-rmse:99856320.00000\tvalidation_0-mae:32130750.00000\tvalidation_1-rmse:30835318784.00000\tvalidation_1-mae:16164875264.00000\n",
      "[148]\tvalidation_0-rmse:95789392.00000\tvalidation_0-mae:30765246.00000\tvalidation_1-rmse:30835185664.00000\tvalidation_1-mae:16164829184.00000\n",
      "[149]\tvalidation_0-rmse:92314000.00000\tvalidation_0-mae:29519308.00000\tvalidation_1-rmse:30835148800.00000\tvalidation_1-mae:16164801536.00000\n",
      "[150]\tvalidation_0-rmse:88948552.00000\tvalidation_0-mae:28320336.00000\tvalidation_1-rmse:30835070976.00000\tvalidation_1-mae:16164724736.00000\n",
      "[151]\tvalidation_0-rmse:85774736.00000\tvalidation_0-mae:27205754.00000\tvalidation_1-rmse:30835066880.00000\tvalidation_1-mae:16164675584.00000\n",
      "[152]\tvalidation_0-rmse:82854904.00000\tvalidation_0-mae:26089130.00000\tvalidation_1-rmse:30835038208.00000\tvalidation_1-mae:16164632576.00000\n",
      "[153]\tvalidation_0-rmse:79428552.00000\tvalidation_0-mae:25017202.00000\tvalidation_1-rmse:30835169280.00000\tvalidation_1-mae:16164685824.00000\n",
      "[154]\tvalidation_0-rmse:76241056.00000\tvalidation_0-mae:23993712.00000\tvalidation_1-rmse:30834974720.00000\tvalidation_1-mae:16164697088.00000\n",
      "[155]\tvalidation_0-rmse:73225248.00000\tvalidation_0-mae:22988096.00000\tvalidation_1-rmse:30834903040.00000\tvalidation_1-mae:16164667392.00000\n",
      "[156]\tvalidation_0-rmse:70679504.00000\tvalidation_0-mae:22081966.00000\tvalidation_1-rmse:30834991104.00000\tvalidation_1-mae:16164667392.00000\n",
      "[157]\tvalidation_0-rmse:68443896.00000\tvalidation_0-mae:21234420.00000\tvalidation_1-rmse:30834855936.00000\tvalidation_1-mae:16164638720.00000\n",
      "[158]\tvalidation_0-rmse:66631172.00000\tvalidation_0-mae:20423548.00000\tvalidation_1-rmse:30834948096.00000\tvalidation_1-mae:16164641792.00000\n",
      "[159]\tvalidation_0-rmse:64125448.00000\tvalidation_0-mae:19609234.00000\tvalidation_1-rmse:30834913280.00000\tvalidation_1-mae:16164628480.00000\n",
      "[160]\tvalidation_0-rmse:61828116.00000\tvalidation_0-mae:18826102.00000\tvalidation_1-rmse:30834948096.00000\tvalidation_1-mae:16164692992.00000\n",
      "[161]\tvalidation_0-rmse:59678820.00000\tvalidation_0-mae:18098090.00000\tvalidation_1-rmse:30834896896.00000\tvalidation_1-mae:16164676608.00000\n",
      "[162]\tvalidation_0-rmse:57418516.00000\tvalidation_0-mae:17380208.00000\tvalidation_1-rmse:30834814976.00000\tvalidation_1-mae:16164624384.00000\n",
      "[163]\tvalidation_0-rmse:55678676.00000\tvalidation_0-mae:16712582.00000\tvalidation_1-rmse:30834718720.00000\tvalidation_1-mae:16164580352.00000\n",
      "[164]\tvalidation_0-rmse:53566968.00000\tvalidation_0-mae:16046295.00000\tvalidation_1-rmse:30834626560.00000\tvalidation_1-mae:16164544512.00000\n",
      "[165]\tvalidation_0-rmse:51503960.00000\tvalidation_0-mae:15413177.00000\tvalidation_1-rmse:30834561024.00000\tvalidation_1-mae:16164532224.00000\n",
      "[166]\tvalidation_0-rmse:49547672.00000\tvalidation_0-mae:14833504.00000\tvalidation_1-rmse:30834573312.00000\tvalidation_1-mae:16164542464.00000\n",
      "[167]\tvalidation_0-rmse:47678984.00000\tvalidation_0-mae:14257260.00000\tvalidation_1-rmse:30834651136.00000\tvalidation_1-mae:16164572160.00000\n",
      "[168]\tvalidation_0-rmse:45838772.00000\tvalidation_0-mae:13714098.00000\tvalidation_1-rmse:30834653184.00000\tvalidation_1-mae:16164624384.00000\n",
      "[169]\tvalidation_0-rmse:44385312.00000\tvalidation_0-mae:13167576.00000\tvalidation_1-rmse:30834747392.00000\tvalidation_1-mae:16164660224.00000\n",
      "[170]\tvalidation_0-rmse:42777624.00000\tvalidation_0-mae:12650438.00000\tvalidation_1-rmse:30834663424.00000\tvalidation_1-mae:16164632576.00000\n",
      "[171]\tvalidation_0-rmse:41136232.00000\tvalidation_0-mae:12117272.00000\tvalidation_1-rmse:30834837504.00000\tvalidation_1-mae:16164725760.00000\n",
      "[172]\tvalidation_0-rmse:39724356.00000\tvalidation_0-mae:11661041.00000\tvalidation_1-rmse:30834874368.00000\tvalidation_1-mae:16164726784.00000\n",
      "[173]\tvalidation_0-rmse:38330904.00000\tvalidation_0-mae:11226639.00000\tvalidation_1-rmse:30834792448.00000\tvalidation_1-mae:16164669440.00000\n",
      "[174]\tvalidation_0-rmse:36956592.00000\tvalidation_0-mae:10800794.00000\tvalidation_1-rmse:30834747392.00000\tvalidation_1-mae:16164640768.00000\n",
      "[175]\tvalidation_0-rmse:35638284.00000\tvalidation_0-mae:10377946.00000\tvalidation_1-rmse:30834749440.00000\tvalidation_1-mae:16164663296.00000\n",
      "[176]\tvalidation_0-rmse:34487432.00000\tvalidation_0-mae:9992611.00000\tvalidation_1-rmse:30834710528.00000\tvalidation_1-mae:16164619264.00000\n",
      "[177]\tvalidation_0-rmse:33141648.00000\tvalidation_0-mae:9577038.00000\tvalidation_1-rmse:30834780160.00000\tvalidation_1-mae:16164642816.00000\n",
      "[178]\tvalidation_0-rmse:31871274.00000\tvalidation_0-mae:9203476.00000\tvalidation_1-rmse:30834757632.00000\tvalidation_1-mae:16164623360.00000\n",
      "[179]\tvalidation_0-rmse:30711980.00000\tvalidation_0-mae:8851153.00000\tvalidation_1-rmse:30834698240.00000\tvalidation_1-mae:16164595712.00000\n",
      "[180]\tvalidation_0-rmse:29733424.00000\tvalidation_0-mae:8514801.00000\tvalidation_1-rmse:30834661376.00000\tvalidation_1-mae:16164586496.00000\n",
      "[181]\tvalidation_0-rmse:28913744.00000\tvalidation_0-mae:8209274.00000\tvalidation_1-rmse:30834690048.00000\tvalidation_1-mae:16164587520.00000\n",
      "[182]\tvalidation_0-rmse:27778496.00000\tvalidation_0-mae:7889150.00000\tvalidation_1-rmse:30834669568.00000\tvalidation_1-mae:16164611072.00000\n",
      "[183]\tvalidation_0-rmse:26771962.00000\tvalidation_0-mae:7581986.00000\tvalidation_1-rmse:30834681856.00000\tvalidation_1-mae:16164608000.00000\n",
      "[184]\tvalidation_0-rmse:25810142.00000\tvalidation_0-mae:7284248.00000\tvalidation_1-rmse:30834653184.00000\tvalidation_1-mae:16164606976.00000\n",
      "[185]\tvalidation_0-rmse:25032326.00000\tvalidation_0-mae:7013244.50000\tvalidation_1-rmse:30834661376.00000\tvalidation_1-mae:16164616192.00000\n",
      "[186]\tvalidation_0-rmse:24300088.00000\tvalidation_0-mae:6746502.50000\tvalidation_1-rmse:30834671616.00000\tvalidation_1-mae:16164642816.00000\n",
      "[187]\tvalidation_0-rmse:23532960.00000\tvalidation_0-mae:6500579.50000\tvalidation_1-rmse:30834675712.00000\tvalidation_1-mae:16164633600.00000\n",
      "[188]\tvalidation_0-rmse:22660620.00000\tvalidation_0-mae:6247091.00000\tvalidation_1-rmse:30834694144.00000\tvalidation_1-mae:16164623360.00000\n",
      "[189]\tvalidation_0-rmse:21809498.00000\tvalidation_0-mae:6010294.50000\tvalidation_1-rmse:30834743296.00000\tvalidation_1-mae:16164659200.00000\n",
      "[190]\tvalidation_0-rmse:21094314.00000\tvalidation_0-mae:5773387.00000\tvalidation_1-rmse:30834769920.00000\tvalidation_1-mae:16164681728.00000\n",
      "[191]\tvalidation_0-rmse:20414016.00000\tvalidation_0-mae:5557948.50000\tvalidation_1-rmse:30834788352.00000\tvalidation_1-mae:16164699136.00000\n",
      "[192]\tvalidation_0-rmse:19860488.00000\tvalidation_0-mae:5349762.00000\tvalidation_1-rmse:30834821120.00000\tvalidation_1-mae:16164707328.00000\n",
      "[193]\tvalidation_0-rmse:19227636.00000\tvalidation_0-mae:5138837.50000\tvalidation_1-rmse:30834829312.00000\tvalidation_1-mae:16164703232.00000\n",
      "[194]\tvalidation_0-rmse:18618920.00000\tvalidation_0-mae:4946767.00000\tvalidation_1-rmse:30834868224.00000\tvalidation_1-mae:16164749312.00000\n",
      "[195]\tvalidation_0-rmse:18121892.00000\tvalidation_0-mae:4757359.00000\tvalidation_1-rmse:30834872320.00000\tvalidation_1-mae:16164749312.00000\n",
      "[196]\tvalidation_0-rmse:17345030.00000\tvalidation_0-mae:4571285.50000\tvalidation_1-rmse:30834888704.00000\tvalidation_1-mae:16164757504.00000\n",
      "[197]\tvalidation_0-rmse:16735863.00000\tvalidation_0-mae:4395253.00000\tvalidation_1-rmse:30834921472.00000\tvalidation_1-mae:16164772864.00000\n",
      "[198]\tvalidation_0-rmse:16157017.00000\tvalidation_0-mae:4221092.50000\tvalidation_1-rmse:30834925568.00000\tvalidation_1-mae:16164782080.00000\n",
      "[199]\tvalidation_0-rmse:15647415.00000\tvalidation_0-mae:4068788.75000\tvalidation_1-rmse:30834958336.00000\tvalidation_1-mae:16164798464.00000\n",
      "[200]\tvalidation_0-rmse:15066547.00000\tvalidation_0-mae:3916117.25000\tvalidation_1-rmse:30834976768.00000\tvalidation_1-mae:16164809728.00000\n",
      "[201]\tvalidation_0-rmse:14459360.00000\tvalidation_0-mae:3770582.00000\tvalidation_1-rmse:30834970624.00000\tvalidation_1-mae:16164808704.00000\n",
      "[202]\tvalidation_0-rmse:13947498.00000\tvalidation_0-mae:3627136.50000\tvalidation_1-rmse:30834989056.00000\tvalidation_1-mae:16164815872.00000\n",
      "[203]\tvalidation_0-rmse:13433212.00000\tvalidation_0-mae:3485232.00000\tvalidation_1-rmse:30835005440.00000\tvalidation_1-mae:16164817920.00000\n",
      "[204]\tvalidation_0-rmse:13031733.00000\tvalidation_0-mae:3362514.50000\tvalidation_1-rmse:30834999296.00000\tvalidation_1-mae:16164808704.00000\n",
      "[205]\tvalidation_0-rmse:12626780.00000\tvalidation_0-mae:3244411.00000\tvalidation_1-rmse:30835003392.00000\tvalidation_1-mae:16164804608.00000\n",
      "[206]\tvalidation_0-rmse:12231216.00000\tvalidation_0-mae:3116928.75000\tvalidation_1-rmse:30834989056.00000\tvalidation_1-mae:16164795392.00000\n",
      "[207]\tvalidation_0-rmse:11775195.00000\tvalidation_0-mae:2997197.00000\tvalidation_1-rmse:30834991104.00000\tvalidation_1-mae:16164798464.00000\n",
      "[208]\tvalidation_0-rmse:11392305.00000\tvalidation_0-mae:2884909.50000\tvalidation_1-rmse:30834987008.00000\tvalidation_1-mae:16164790272.00000\n",
      "[209]\tvalidation_0-rmse:11021210.00000\tvalidation_0-mae:2781429.25000\tvalidation_1-rmse:30834974720.00000\tvalidation_1-mae:16164790272.00000\n",
      "[210]\tvalidation_0-rmse:10689925.00000\tvalidation_0-mae:2676207.75000\tvalidation_1-rmse:30834980864.00000\tvalidation_1-mae:16164798464.00000\n",
      "[211]\tvalidation_0-rmse:10349874.00000\tvalidation_0-mae:2578397.00000\tvalidation_1-rmse:30834974720.00000\tvalidation_1-mae:16164785152.00000\n",
      "[212]\tvalidation_0-rmse:9993929.00000\tvalidation_0-mae:2481192.75000\tvalidation_1-rmse:30834962432.00000\tvalidation_1-mae:16164784128.00000\n",
      "[213]\tvalidation_0-rmse:9648814.00000\tvalidation_0-mae:2387749.50000\tvalidation_1-rmse:30834970624.00000\tvalidation_1-mae:16164783104.00000\n",
      "[214]\tvalidation_0-rmse:9315042.00000\tvalidation_0-mae:2298838.25000\tvalidation_1-rmse:30834974720.00000\tvalidation_1-mae:16164786176.00000\n",
      "[215]\tvalidation_0-rmse:9057798.00000\tvalidation_0-mae:2221353.50000\tvalidation_1-rmse:30834980864.00000\tvalidation_1-mae:16164789248.00000\n",
      "[216]\tvalidation_0-rmse:8728662.00000\tvalidation_0-mae:2140999.50000\tvalidation_1-rmse:30834997248.00000\tvalidation_1-mae:16164798464.00000\n",
      "[217]\tvalidation_0-rmse:8399911.00000\tvalidation_0-mae:2061042.87500\tvalidation_1-rmse:30834972672.00000\tvalidation_1-mae:16164794368.00000\n",
      "[218]\tvalidation_0-rmse:8097288.00000\tvalidation_0-mae:1987625.25000\tvalidation_1-rmse:30834954240.00000\tvalidation_1-mae:16164792320.00000\n",
      "[219]\tvalidation_0-rmse:7794344.00000\tvalidation_0-mae:1914350.12500\tvalidation_1-rmse:30834937856.00000\tvalidation_1-mae:16164782080.00000\n",
      "[220]\tvalidation_0-rmse:7501640.50000\tvalidation_0-mae:1839694.50000\tvalidation_1-rmse:30834931712.00000\tvalidation_1-mae:16164777984.00000\n",
      "[221]\tvalidation_0-rmse:7231414.00000\tvalidation_0-mae:1772568.50000\tvalidation_1-rmse:30834944000.00000\tvalidation_1-mae:16164782080.00000\n",
      "[222]\tvalidation_0-rmse:6954648.50000\tvalidation_0-mae:1708400.87500\tvalidation_1-rmse:30834939904.00000\tvalidation_1-mae:16164773888.00000\n",
      "[223]\tvalidation_0-rmse:6736947.50000\tvalidation_0-mae:1645599.37500\tvalidation_1-rmse:30834937856.00000\tvalidation_1-mae:16164780032.00000\n",
      "[224]\tvalidation_0-rmse:6473805.50000\tvalidation_0-mae:1588034.62500\tvalidation_1-rmse:30834927616.00000\tvalidation_1-mae:16164769792.00000\n",
      "[225]\tvalidation_0-rmse:6222412.50000\tvalidation_0-mae:1531278.12500\tvalidation_1-rmse:30834911232.00000\tvalidation_1-mae:16164759552.00000\n",
      "[226]\tvalidation_0-rmse:6032267.50000\tvalidation_0-mae:1477048.62500\tvalidation_1-rmse:30834917376.00000\tvalidation_1-mae:16164760576.00000\n",
      "[227]\tvalidation_0-rmse:5806919.00000\tvalidation_0-mae:1425137.62500\tvalidation_1-rmse:30834907136.00000\tvalidation_1-mae:16164757504.00000\n",
      "[228]\tvalidation_0-rmse:5645779.00000\tvalidation_0-mae:1374595.12500\tvalidation_1-rmse:30834919424.00000\tvalidation_1-mae:16164757504.00000\n",
      "[229]\tvalidation_0-rmse:5451670.50000\tvalidation_0-mae:1325366.87500\tvalidation_1-rmse:30834919424.00000\tvalidation_1-mae:16164759552.00000\n",
      "[230]\tvalidation_0-rmse:5296847.50000\tvalidation_0-mae:1277590.75000\tvalidation_1-rmse:30834921472.00000\tvalidation_1-mae:16164761600.00000\n",
      "[231]\tvalidation_0-rmse:5103497.00000\tvalidation_0-mae:1230349.50000\tvalidation_1-rmse:30834921472.00000\tvalidation_1-mae:16164758528.00000\n",
      "[232]\tvalidation_0-rmse:4931894.00000\tvalidation_0-mae:1186354.75000\tvalidation_1-rmse:30834919424.00000\tvalidation_1-mae:16164757504.00000\n",
      "[233]\tvalidation_0-rmse:4771795.50000\tvalidation_0-mae:1145050.62500\tvalidation_1-rmse:30834927616.00000\tvalidation_1-mae:16164755456.00000\n",
      "[234]\tvalidation_0-rmse:4613882.00000\tvalidation_0-mae:1106460.50000\tvalidation_1-rmse:30834911232.00000\tvalidation_1-mae:16164753408.00000\n",
      "[235]\tvalidation_0-rmse:4459104.50000\tvalidation_0-mae:1064996.12500\tvalidation_1-rmse:30834909184.00000\tvalidation_1-mae:16164757504.00000\n",
      "[236]\tvalidation_0-rmse:4313254.50000\tvalidation_0-mae:1029261.43750\tvalidation_1-rmse:30834905088.00000\tvalidation_1-mae:16164753408.00000\n",
      "[237]\tvalidation_0-rmse:4169263.50000\tvalidation_0-mae:994732.81250\tvalidation_1-rmse:30834911232.00000\tvalidation_1-mae:16164750336.00000\n",
      "[238]\tvalidation_0-rmse:4026207.75000\tvalidation_0-mae:961371.87500\tvalidation_1-rmse:30834909184.00000\tvalidation_1-mae:16164744192.00000\n",
      "[239]\tvalidation_0-rmse:3875257.50000\tvalidation_0-mae:928162.25000\tvalidation_1-rmse:30834907136.00000\tvalidation_1-mae:16164744192.00000\n",
      "[240]\tvalidation_0-rmse:3763555.50000\tvalidation_0-mae:896957.12500\tvalidation_1-rmse:30834903040.00000\tvalidation_1-mae:16164742144.00000\n",
      "[241]\tvalidation_0-rmse:3642801.50000\tvalidation_0-mae:867421.43750\tvalidation_1-rmse:30834903040.00000\tvalidation_1-mae:16164739072.00000\n",
      "[242]\tvalidation_0-rmse:3540624.50000\tvalidation_0-mae:839031.25000\tvalidation_1-rmse:30834917376.00000\tvalidation_1-mae:16164742144.00000\n",
      "[243]\tvalidation_0-rmse:3439991.25000\tvalidation_0-mae:813187.31250\tvalidation_1-rmse:30834913280.00000\tvalidation_1-mae:16164738048.00000\n",
      "[244]\tvalidation_0-rmse:3338058.00000\tvalidation_0-mae:785556.18750\tvalidation_1-rmse:30834913280.00000\tvalidation_1-mae:16164736000.00000\n",
      "[245]\tvalidation_0-rmse:3237104.00000\tvalidation_0-mae:759073.56250\tvalidation_1-rmse:30834907136.00000\tvalidation_1-mae:16164734976.00000\n",
      "[246]\tvalidation_0-rmse:3130338.00000\tvalidation_0-mae:734245.43750\tvalidation_1-rmse:30834909184.00000\tvalidation_1-mae:16164736000.00000\n",
      "[247]\tvalidation_0-rmse:3018910.50000\tvalidation_0-mae:709429.50000\tvalidation_1-rmse:30834913280.00000\tvalidation_1-mae:16164740096.00000\n",
      "[248]\tvalidation_0-rmse:2930319.75000\tvalidation_0-mae:686057.06250\tvalidation_1-rmse:30834917376.00000\tvalidation_1-mae:16164742144.00000\n",
      "[249]\tvalidation_0-rmse:2816162.25000\tvalidation_0-mae:663437.56250\tvalidation_1-rmse:30834917376.00000\tvalidation_1-mae:16164744192.00000\n",
      "[250]\tvalidation_0-rmse:2716728.75000\tvalidation_0-mae:640198.18750\tvalidation_1-rmse:30834913280.00000\tvalidation_1-mae:16164742144.00000\n",
      "[251]\tvalidation_0-rmse:2618524.00000\tvalidation_0-mae:618804.50000\tvalidation_1-rmse:30834911232.00000\tvalidation_1-mae:16164740096.00000\n",
      "[252]\tvalidation_0-rmse:2531640.25000\tvalidation_0-mae:599993.75000\tvalidation_1-rmse:30834917376.00000\tvalidation_1-mae:16164740096.00000\n",
      "[253]\tvalidation_0-rmse:2447336.00000\tvalidation_0-mae:581165.62500\tvalidation_1-rmse:30834919424.00000\tvalidation_1-mae:16164742144.00000\n",
      "[254]\tvalidation_0-rmse:2369320.75000\tvalidation_0-mae:562788.75000\tvalidation_1-rmse:30834923520.00000\tvalidation_1-mae:16164744192.00000\n",
      "[255]\tvalidation_0-rmse:2293529.25000\tvalidation_0-mae:545432.81250\tvalidation_1-rmse:30834923520.00000\tvalidation_1-mae:16164743168.00000\n",
      "[256]\tvalidation_0-rmse:2227866.75000\tvalidation_0-mae:528014.81250\tvalidation_1-rmse:30834923520.00000\tvalidation_1-mae:16164746240.00000\n",
      "[257]\tvalidation_0-rmse:2155298.25000\tvalidation_0-mae:511440.62500\tvalidation_1-rmse:30834929664.00000\tvalidation_1-mae:16164748288.00000\n",
      "[258]\tvalidation_0-rmse:2082450.37500\tvalidation_0-mae:495868.15625\tvalidation_1-rmse:30834929664.00000\tvalidation_1-mae:16164748288.00000\n",
      "[259]\tvalidation_0-rmse:2005261.62500\tvalidation_0-mae:481627.96875\tvalidation_1-rmse:30834927616.00000\tvalidation_1-mae:16164746240.00000\n",
      "[260]\tvalidation_0-rmse:1969517.62500\tvalidation_0-mae:468722.71875\tvalidation_1-rmse:30834929664.00000\tvalidation_1-mae:16164748288.00000\n",
      "[261]\tvalidation_0-rmse:1915208.00000\tvalidation_0-mae:454885.50000\tvalidation_1-rmse:30834929664.00000\tvalidation_1-mae:16164744192.00000\n",
      "[262]\tvalidation_0-rmse:1863191.50000\tvalidation_0-mae:442167.59375\tvalidation_1-rmse:30834929664.00000\tvalidation_1-mae:16164743168.00000\n",
      "[263]\tvalidation_0-rmse:1796783.12500\tvalidation_0-mae:429185.21875\tvalidation_1-rmse:30834927616.00000\tvalidation_1-mae:16164739072.00000\n",
      "[264]\tvalidation_0-rmse:1754535.12500\tvalidation_0-mae:416789.21875\tvalidation_1-rmse:30834927616.00000\tvalidation_1-mae:16164741120.00000\n",
      "[265]\tvalidation_0-rmse:1705802.87500\tvalidation_0-mae:404895.40625\tvalidation_1-rmse:30834927616.00000\tvalidation_1-mae:16164740096.00000\n",
      "[266]\tvalidation_0-rmse:1644140.62500\tvalidation_0-mae:392945.56250\tvalidation_1-rmse:30834929664.00000\tvalidation_1-mae:16164740096.00000\n",
      "[267]\tvalidation_0-rmse:1592950.37500\tvalidation_0-mae:381977.21875\tvalidation_1-rmse:30834927616.00000\tvalidation_1-mae:16164739072.00000\n",
      "[268]\tvalidation_0-rmse:1544625.12500\tvalidation_0-mae:371223.87500\tvalidation_1-rmse:30834929664.00000\tvalidation_1-mae:16164739072.00000\n",
      "[269]\tvalidation_0-rmse:1495090.37500\tvalidation_0-mae:360942.21875\tvalidation_1-rmse:30834927616.00000\tvalidation_1-mae:16164740096.00000\n",
      "[270]\tvalidation_0-rmse:1443734.62500\tvalidation_0-mae:350764.12500\tvalidation_1-rmse:30834929664.00000\tvalidation_1-mae:16164739072.00000\n",
      "[271]\tvalidation_0-rmse:1407637.37500\tvalidation_0-mae:341595.37500\tvalidation_1-rmse:30834929664.00000\tvalidation_1-mae:16164740096.00000\n",
      "[272]\tvalidation_0-rmse:1349964.75000\tvalidation_0-mae:332047.15625\tvalidation_1-rmse:30834929664.00000\tvalidation_1-mae:16164742144.00000\n",
      "[273]\tvalidation_0-rmse:1305760.37500\tvalidation_0-mae:322574.50000\tvalidation_1-rmse:30834929664.00000\tvalidation_1-mae:16164742144.00000\n",
      "[274]\tvalidation_0-rmse:1258295.12500\tvalidation_0-mae:314699.71875\tvalidation_1-rmse:30834931712.00000\tvalidation_1-mae:16164744192.00000\n",
      "[275]\tvalidation_0-rmse:1224128.00000\tvalidation_0-mae:306657.71875\tvalidation_1-rmse:30834931712.00000\tvalidation_1-mae:16164743168.00000\n",
      "[276]\tvalidation_0-rmse:1180927.25000\tvalidation_0-mae:299339.12500\tvalidation_1-rmse:30834933760.00000\tvalidation_1-mae:16164744192.00000\n",
      "[277]\tvalidation_0-rmse:1143396.12500\tvalidation_0-mae:292341.15625\tvalidation_1-rmse:30834933760.00000\tvalidation_1-mae:16164744192.00000\n",
      "[278]\tvalidation_0-rmse:1105976.50000\tvalidation_0-mae:285791.28125\tvalidation_1-rmse:30834933760.00000\tvalidation_1-mae:16164742144.00000\n",
      "[279]\tvalidation_0-rmse:1073642.37500\tvalidation_0-mae:278833.03125\tvalidation_1-rmse:30834933760.00000\tvalidation_1-mae:16164742144.00000\n",
      "[280]\tvalidation_0-rmse:1036329.31250\tvalidation_0-mae:271954.28125\tvalidation_1-rmse:30834935808.00000\tvalidation_1-mae:16164742144.00000\n",
      "[281]\tvalidation_0-rmse:1002630.12500\tvalidation_0-mae:265533.50000\tvalidation_1-rmse:30834937856.00000\tvalidation_1-mae:16164741120.00000\n",
      "[282]\tvalidation_0-rmse:970577.50000\tvalidation_0-mae:260035.51562\tvalidation_1-rmse:30834935808.00000\tvalidation_1-mae:16164742144.00000\n",
      "[283]\tvalidation_0-rmse:931011.75000\tvalidation_0-mae:253496.75000\tvalidation_1-rmse:30834937856.00000\tvalidation_1-mae:16164740096.00000\n",
      "[284]\tvalidation_0-rmse:898689.62500\tvalidation_0-mae:247049.20312\tvalidation_1-rmse:30834937856.00000\tvalidation_1-mae:16164740096.00000\n",
      "[285]\tvalidation_0-rmse:869327.81250\tvalidation_0-mae:241415.15625\tvalidation_1-rmse:30834939904.00000\tvalidation_1-mae:16164742144.00000\n",
      "[286]\tvalidation_0-rmse:841017.81250\tvalidation_0-mae:236119.39062\tvalidation_1-rmse:30834939904.00000\tvalidation_1-mae:16164743168.00000\n",
      "[287]\tvalidation_0-rmse:815008.25000\tvalidation_0-mae:231210.84375\tvalidation_1-rmse:30834941952.00000\tvalidation_1-mae:16164744192.00000\n",
      "[288]\tvalidation_0-rmse:790374.25000\tvalidation_0-mae:226817.50000\tvalidation_1-rmse:30834941952.00000\tvalidation_1-mae:16164743168.00000\n",
      "[289]\tvalidation_0-rmse:767512.75000\tvalidation_0-mae:222194.60938\tvalidation_1-rmse:30834939904.00000\tvalidation_1-mae:16164742144.00000\n",
      "[290]\tvalidation_0-rmse:747308.43750\tvalidation_0-mae:218033.15625\tvalidation_1-rmse:30834941952.00000\tvalidation_1-mae:16164742144.00000\n",
      "[291]\tvalidation_0-rmse:726788.06250\tvalidation_0-mae:213986.45312\tvalidation_1-rmse:30834941952.00000\tvalidation_1-mae:16164742144.00000\n",
      "[292]\tvalidation_0-rmse:698878.75000\tvalidation_0-mae:209642.06250\tvalidation_1-rmse:30834939904.00000\tvalidation_1-mae:16164741120.00000\n",
      "[293]\tvalidation_0-rmse:671788.31250\tvalidation_0-mae:205224.51562\tvalidation_1-rmse:30834941952.00000\tvalidation_1-mae:16164739072.00000\n",
      "[294]\tvalidation_0-rmse:656160.81250\tvalidation_0-mae:201668.51562\tvalidation_1-rmse:30834941952.00000\tvalidation_1-mae:16164740096.00000\n",
      "[295]\tvalidation_0-rmse:641059.25000\tvalidation_0-mae:198431.03125\tvalidation_1-rmse:30834941952.00000\tvalidation_1-mae:16164740096.00000\n",
      "[296]\tvalidation_0-rmse:623969.93750\tvalidation_0-mae:195262.71875\tvalidation_1-rmse:30834941952.00000\tvalidation_1-mae:16164740096.00000\n",
      "[297]\tvalidation_0-rmse:607312.62500\tvalidation_0-mae:191877.95312\tvalidation_1-rmse:30834941952.00000\tvalidation_1-mae:16164740096.00000\n",
      "[298]\tvalidation_0-rmse:593646.31250\tvalidation_0-mae:188717.31250\tvalidation_1-rmse:30834944000.00000\tvalidation_1-mae:16164742144.00000\n",
      "[299]\tvalidation_0-rmse:577077.93750\tvalidation_0-mae:185700.54688\tvalidation_1-rmse:30834944000.00000\tvalidation_1-mae:16164743168.00000\n",
      "[300]\tvalidation_0-rmse:558597.37500\tvalidation_0-mae:182457.82812\tvalidation_1-rmse:30834944000.00000\tvalidation_1-mae:16164742144.00000\n",
      "[301]\tvalidation_0-rmse:542254.50000\tvalidation_0-mae:179895.37500\tvalidation_1-rmse:30834944000.00000\tvalidation_1-mae:16164742144.00000\n",
      "[302]\tvalidation_0-rmse:529172.93750\tvalidation_0-mae:177087.51562\tvalidation_1-rmse:30834944000.00000\tvalidation_1-mae:16164742144.00000\n",
      "[303]\tvalidation_0-rmse:511921.12500\tvalidation_0-mae:174398.71875\tvalidation_1-rmse:30834944000.00000\tvalidation_1-mae:16164743168.00000\n",
      "[304]\tvalidation_0-rmse:495243.87500\tvalidation_0-mae:172028.90625\tvalidation_1-rmse:30834946048.00000\tvalidation_1-mae:16164742144.00000\n",
      "[305]\tvalidation_0-rmse:481072.03125\tvalidation_0-mae:169350.35938\tvalidation_1-rmse:30834948096.00000\tvalidation_1-mae:16164742144.00000\n",
      "[306]\tvalidation_0-rmse:464713.65625\tvalidation_0-mae:166835.92188\tvalidation_1-rmse:30834948096.00000\tvalidation_1-mae:16164743168.00000\n",
      "[307]\tvalidation_0-rmse:450439.25000\tvalidation_0-mae:164560.32812\tvalidation_1-rmse:30834948096.00000\tvalidation_1-mae:16164743168.00000\n",
      "[308]\tvalidation_0-rmse:435514.71875\tvalidation_0-mae:162567.15625\tvalidation_1-rmse:30834948096.00000\tvalidation_1-mae:16164742144.00000\n",
      "[309]\tvalidation_0-rmse:423188.62500\tvalidation_0-mae:160361.42188\tvalidation_1-rmse:30834948096.00000\tvalidation_1-mae:16164743168.00000\n",
      "[310]\tvalidation_0-rmse:413201.65625\tvalidation_0-mae:158381.43750\tvalidation_1-rmse:30834948096.00000\tvalidation_1-mae:16164740096.00000\n",
      "[311]\tvalidation_0-rmse:403901.65625\tvalidation_0-mae:156451.46875\tvalidation_1-rmse:30834948096.00000\tvalidation_1-mae:16164741120.00000\n",
      "[312]\tvalidation_0-rmse:394730.15625\tvalidation_0-mae:154599.28125\tvalidation_1-rmse:30834948096.00000\tvalidation_1-mae:16164742144.00000\n",
      "[313]\tvalidation_0-rmse:384724.90625\tvalidation_0-mae:152657.46875\tvalidation_1-rmse:30834948096.00000\tvalidation_1-mae:16164743168.00000\n",
      "[314]\tvalidation_0-rmse:373350.71875\tvalidation_0-mae:150817.59375\tvalidation_1-rmse:30834948096.00000\tvalidation_1-mae:16164742144.00000\n",
      "[315]\tvalidation_0-rmse:362787.12500\tvalidation_0-mae:149068.70312\tvalidation_1-rmse:30834948096.00000\tvalidation_1-mae:16164742144.00000\n",
      "[316]\tvalidation_0-rmse:355573.06250\tvalidation_0-mae:147560.84375\tvalidation_1-rmse:30834948096.00000\tvalidation_1-mae:16164742144.00000\n",
      "[317]\tvalidation_0-rmse:346656.81250\tvalidation_0-mae:145959.10938\tvalidation_1-rmse:30834948096.00000\tvalidation_1-mae:16164742144.00000\n",
      "[318]\tvalidation_0-rmse:339098.03125\tvalidation_0-mae:144583.73438\tvalidation_1-rmse:30834948096.00000\tvalidation_1-mae:16164742144.00000\n",
      "[319]\tvalidation_0-rmse:333386.71875\tvalidation_0-mae:143300.40625\tvalidation_1-rmse:30834950144.00000\tvalidation_1-mae:16164742144.00000\n",
      "[320]\tvalidation_0-rmse:325449.46875\tvalidation_0-mae:141886.00000\tvalidation_1-rmse:30834948096.00000\tvalidation_1-mae:16164743168.00000\n",
      "[321]\tvalidation_0-rmse:318746.90625\tvalidation_0-mae:140545.90625\tvalidation_1-rmse:30834948096.00000\tvalidation_1-mae:16164744192.00000\n",
      "[322]\tvalidation_0-rmse:309897.81250\tvalidation_0-mae:139358.17188\tvalidation_1-rmse:30834950144.00000\tvalidation_1-mae:16164742144.00000\n",
      "[323]\tvalidation_0-rmse:302115.71875\tvalidation_0-mae:138084.21875\tvalidation_1-rmse:30834950144.00000\tvalidation_1-mae:16164743168.00000\n",
      "[324]\tvalidation_0-rmse:296882.03125\tvalidation_0-mae:136973.51562\tvalidation_1-rmse:30834950144.00000\tvalidation_1-mae:16164743168.00000\n",
      "[325]\tvalidation_0-rmse:289103.28125\tvalidation_0-mae:135874.79688\tvalidation_1-rmse:30834950144.00000\tvalidation_1-mae:16164744192.00000\n",
      "[326]\tvalidation_0-rmse:283001.65625\tvalidation_0-mae:134956.81250\tvalidation_1-rmse:30834950144.00000\tvalidation_1-mae:16164744192.00000\n",
      "[327]\tvalidation_0-rmse:276216.75000\tvalidation_0-mae:133933.46875\tvalidation_1-rmse:30834950144.00000\tvalidation_1-mae:16164744192.00000\n",
      "[328]\tvalidation_0-rmse:271508.75000\tvalidation_0-mae:133005.68750\tvalidation_1-rmse:30834950144.00000\tvalidation_1-mae:16164743168.00000\n",
      "[329]\tvalidation_0-rmse:264748.75000\tvalidation_0-mae:132078.73438\tvalidation_1-rmse:30834950144.00000\tvalidation_1-mae:16164743168.00000\n",
      "[330]\tvalidation_0-rmse:259882.64062\tvalidation_0-mae:131215.34375\tvalidation_1-rmse:30834950144.00000\tvalidation_1-mae:16164744192.00000\n",
      "[331]\tvalidation_0-rmse:256694.87500\tvalidation_0-mae:130383.47656\tvalidation_1-rmse:30834950144.00000\tvalidation_1-mae:16164743168.00000\n",
      "[332]\tvalidation_0-rmse:251924.50000\tvalidation_0-mae:129575.75000\tvalidation_1-rmse:30834950144.00000\tvalidation_1-mae:16164744192.00000\n",
      "[333]\tvalidation_0-rmse:245814.51562\tvalidation_0-mae:128720.41406\tvalidation_1-rmse:30834950144.00000\tvalidation_1-mae:16164744192.00000\n",
      "[334]\tvalidation_0-rmse:240834.26562\tvalidation_0-mae:127856.00000\tvalidation_1-rmse:30834950144.00000\tvalidation_1-mae:16164743168.00000\n",
      "[335]\tvalidation_0-rmse:237353.53125\tvalidation_0-mae:127244.16406\tvalidation_1-rmse:30834950144.00000\tvalidation_1-mae:16164744192.00000\n",
      "[336]\tvalidation_0-rmse:234345.87500\tvalidation_0-mae:126518.90625\tvalidation_1-rmse:30834950144.00000\tvalidation_1-mae:16164744192.00000\n",
      "[337]\tvalidation_0-rmse:230997.64062\tvalidation_0-mae:126024.03906\tvalidation_1-rmse:30834950144.00000\tvalidation_1-mae:16164744192.00000\n",
      "[338]\tvalidation_0-rmse:228372.95312\tvalidation_0-mae:125434.78125\tvalidation_1-rmse:30834950144.00000\tvalidation_1-mae:16164744192.00000\n",
      "[339]\tvalidation_0-rmse:224250.07812\tvalidation_0-mae:124680.95312\tvalidation_1-rmse:30834950144.00000\tvalidation_1-mae:16164744192.00000\n",
      "[340]\tvalidation_0-rmse:220322.00000\tvalidation_0-mae:124119.63281\tvalidation_1-rmse:30834950144.00000\tvalidation_1-mae:16164744192.00000\n",
      "[341]\tvalidation_0-rmse:217649.07812\tvalidation_0-mae:123613.69531\tvalidation_1-rmse:30834950144.00000\tvalidation_1-mae:16164744192.00000\n",
      "[342]\tvalidation_0-rmse:214223.78125\tvalidation_0-mae:123125.75000\tvalidation_1-rmse:30834948096.00000\tvalidation_1-mae:16164743168.00000\n",
      "[343]\tvalidation_0-rmse:210958.06250\tvalidation_0-mae:122652.28125\tvalidation_1-rmse:30834948096.00000\tvalidation_1-mae:16164744192.00000\n",
      "[344]\tvalidation_0-rmse:207941.31250\tvalidation_0-mae:122095.33594\tvalidation_1-rmse:30834950144.00000\tvalidation_1-mae:16164744192.00000\n",
      "[345]\tvalidation_0-rmse:205733.17188\tvalidation_0-mae:121591.92188\tvalidation_1-rmse:30834950144.00000\tvalidation_1-mae:16164744192.00000\n",
      "[346]\tvalidation_0-rmse:204042.54688\tvalidation_0-mae:121206.36719\tvalidation_1-rmse:30834950144.00000\tvalidation_1-mae:16164744192.00000\n",
      "[347]\tvalidation_0-rmse:201577.82812\tvalidation_0-mae:120719.50000\tvalidation_1-rmse:30834950144.00000\tvalidation_1-mae:16164744192.00000\n",
      "[348]\tvalidation_0-rmse:199174.00000\tvalidation_0-mae:120269.16406\tvalidation_1-rmse:30834950144.00000\tvalidation_1-mae:16164745216.00000\n",
      "[349]\tvalidation_0-rmse:197844.39062\tvalidation_0-mae:119976.46875\tvalidation_1-rmse:30834950144.00000\tvalidation_1-mae:16164746240.00000\n",
      "[350]\tvalidation_0-rmse:195367.01562\tvalidation_0-mae:119571.25000\tvalidation_1-rmse:30834950144.00000\tvalidation_1-mae:16164746240.00000\n",
      "[351]\tvalidation_0-rmse:192297.96875\tvalidation_0-mae:119146.71094\tvalidation_1-rmse:30834950144.00000\tvalidation_1-mae:16164745216.00000\n",
      "[352]\tvalidation_0-rmse:190268.54688\tvalidation_0-mae:118762.64062\tvalidation_1-rmse:30834950144.00000\tvalidation_1-mae:16164746240.00000\n",
      "[353]\tvalidation_0-rmse:188495.25000\tvalidation_0-mae:118459.60156\tvalidation_1-rmse:30834950144.00000\tvalidation_1-mae:16164745216.00000\n",
      "[354]\tvalidation_0-rmse:186573.59375\tvalidation_0-mae:118106.79688\tvalidation_1-rmse:30834950144.00000\tvalidation_1-mae:16164744192.00000\n",
      "[355]\tvalidation_0-rmse:184513.10938\tvalidation_0-mae:117684.35938\tvalidation_1-rmse:30834950144.00000\tvalidation_1-mae:16164744192.00000\n",
      "[356]\tvalidation_0-rmse:182624.54688\tvalidation_0-mae:117340.49219\tvalidation_1-rmse:30834950144.00000\tvalidation_1-mae:16164744192.00000\n",
      "[357]\tvalidation_0-rmse:181037.75000\tvalidation_0-mae:117048.23438\tvalidation_1-rmse:30834950144.00000\tvalidation_1-mae:16164746240.00000\n",
      "[358]\tvalidation_0-rmse:179886.06250\tvalidation_0-mae:116793.31250\tvalidation_1-rmse:30834950144.00000\tvalidation_1-mae:16164745216.00000\n",
      "[359]\tvalidation_0-rmse:178887.31250\tvalidation_0-mae:116570.70312\tvalidation_1-rmse:30834950144.00000\tvalidation_1-mae:16164746240.00000\n",
      "[360]\tvalidation_0-rmse:178132.15625\tvalidation_0-mae:116309.53906\tvalidation_1-rmse:30834950144.00000\tvalidation_1-mae:16164744192.00000\n",
      "[361]\tvalidation_0-rmse:176768.32812\tvalidation_0-mae:116009.51562\tvalidation_1-rmse:30834950144.00000\tvalidation_1-mae:16164745216.00000\n",
      "[362]\tvalidation_0-rmse:175215.01562\tvalidation_0-mae:115784.28125\tvalidation_1-rmse:30834950144.00000\tvalidation_1-mae:16164744192.00000\n",
      "[363]\tvalidation_0-rmse:174180.89062\tvalidation_0-mae:115563.08594\tvalidation_1-rmse:30834950144.00000\tvalidation_1-mae:16164745216.00000\n",
      "[364]\tvalidation_0-rmse:173654.03125\tvalidation_0-mae:115318.72656\tvalidation_1-rmse:30834950144.00000\tvalidation_1-mae:16164745216.00000\n",
      "[365]\tvalidation_0-rmse:173083.60938\tvalidation_0-mae:115164.80469\tvalidation_1-rmse:30834952192.00000\tvalidation_1-mae:16164746240.00000\n",
      "[366]\tvalidation_0-rmse:172183.71875\tvalidation_0-mae:114976.44531\tvalidation_1-rmse:30834952192.00000\tvalidation_1-mae:16164746240.00000\n",
      "[367]\tvalidation_0-rmse:170696.92188\tvalidation_0-mae:114698.44531\tvalidation_1-rmse:30834952192.00000\tvalidation_1-mae:16164746240.00000\n",
      "[368]\tvalidation_0-rmse:170083.87500\tvalidation_0-mae:114552.84375\tvalidation_1-rmse:30834952192.00000\tvalidation_1-mae:16164746240.00000\n",
      "[369]\tvalidation_0-rmse:169596.09375\tvalidation_0-mae:114394.99219\tvalidation_1-rmse:30834950144.00000\tvalidation_1-mae:16164746240.00000\n",
      "[370]\tvalidation_0-rmse:168632.17188\tvalidation_0-mae:114210.15625\tvalidation_1-rmse:30834950144.00000\tvalidation_1-mae:16164747264.00000\n",
      "[371]\tvalidation_0-rmse:168234.67188\tvalidation_0-mae:114063.34375\tvalidation_1-rmse:30834950144.00000\tvalidation_1-mae:16164746240.00000\n",
      "[372]\tvalidation_0-rmse:167703.50000\tvalidation_0-mae:113921.79688\tvalidation_1-rmse:30834950144.00000\tvalidation_1-mae:16164747264.00000\n",
      "[373]\tvalidation_0-rmse:166850.17188\tvalidation_0-mae:113706.25000\tvalidation_1-rmse:30834950144.00000\tvalidation_1-mae:16164747264.00000\n",
      "[374]\tvalidation_0-rmse:165971.07812\tvalidation_0-mae:113549.16406\tvalidation_1-rmse:30834950144.00000\tvalidation_1-mae:16164747264.00000\n",
      "[375]\tvalidation_0-rmse:165137.82812\tvalidation_0-mae:113432.50000\tvalidation_1-rmse:30834950144.00000\tvalidation_1-mae:16164747264.00000\n",
      "[376]\tvalidation_0-rmse:164280.28125\tvalidation_0-mae:113264.54688\tvalidation_1-rmse:30834952192.00000\tvalidation_1-mae:16164747264.00000\n",
      "[377]\tvalidation_0-rmse:163668.84375\tvalidation_0-mae:113191.67969\tvalidation_1-rmse:30834950144.00000\tvalidation_1-mae:16164747264.00000\n",
      "[378]\tvalidation_0-rmse:163147.53125\tvalidation_0-mae:113024.57812\tvalidation_1-rmse:30834950144.00000\tvalidation_1-mae:16164747264.00000\n",
      "[379]\tvalidation_0-rmse:162749.21875\tvalidation_0-mae:112889.45312\tvalidation_1-rmse:30834950144.00000\tvalidation_1-mae:16164747264.00000\n",
      "[380]\tvalidation_0-rmse:162318.12500\tvalidation_0-mae:112777.62500\tvalidation_1-rmse:30834950144.00000\tvalidation_1-mae:16164747264.00000\n",
      "[381]\tvalidation_0-rmse:162033.84375\tvalidation_0-mae:112696.52344\tvalidation_1-rmse:30834950144.00000\tvalidation_1-mae:16164747264.00000\n",
      "[382]\tvalidation_0-rmse:161326.37500\tvalidation_0-mae:112590.17188\tvalidation_1-rmse:30834950144.00000\tvalidation_1-mae:16164747264.00000\n",
      "[383]\tvalidation_0-rmse:160984.37500\tvalidation_0-mae:112438.71875\tvalidation_1-rmse:30834950144.00000\tvalidation_1-mae:16164747264.00000\n"
     ]
    },
    {
     "ename": "KeyboardInterrupt",
     "evalue": "",
     "output_type": "error",
     "traceback": [
      "\u001b[0;31m---------------------------------------------------------------------------\u001b[0m",
      "\u001b[0;31mKeyboardInterrupt\u001b[0m                         Traceback (most recent call last)",
      "\u001b[0;32m<ipython-input-189-288aa75546f4>\u001b[0m in \u001b[0;36m<module>\u001b[0;34m\u001b[0m\n\u001b[1;32m     14\u001b[0m \u001b[0mmodel\u001b[0m \u001b[0;34m=\u001b[0m \u001b[0mxgb\u001b[0m\u001b[0;34m.\u001b[0m\u001b[0mXGBRegressor\u001b[0m\u001b[0;34m(\u001b[0m\u001b[0mn_estimators\u001b[0m\u001b[0;34m=\u001b[0m\u001b[0;36m1000\u001b[0m\u001b[0;34m,\u001b[0m \u001b[0mmax_depth\u001b[0m\u001b[0;34m=\u001b[0m\u001b[0;36m150\u001b[0m\u001b[0;34m,\u001b[0m \u001b[0meta\u001b[0m\u001b[0;34m=\u001b[0m\u001b[0;36m0.1\u001b[0m\u001b[0;34m,\u001b[0m \u001b[0msubsample\u001b[0m\u001b[0;34m=\u001b[0m\u001b[0;36m0.7\u001b[0m\u001b[0;34m,\u001b[0m \u001b[0mcolsample_bytree\u001b[0m\u001b[0;34m=\u001b[0m\u001b[0;36m0.8\u001b[0m\u001b[0;34m)\u001b[0m\u001b[0;34m\u001b[0m\u001b[0;34m\u001b[0m\u001b[0m\n\u001b[1;32m     15\u001b[0m \u001b[0meval_set\u001b[0m \u001b[0;34m=\u001b[0m \u001b[0;34m[\u001b[0m\u001b[0;34m(\u001b[0m\u001b[0mX_train\u001b[0m\u001b[0;34m,\u001b[0m \u001b[0my_train\u001b[0m\u001b[0;34m)\u001b[0m\u001b[0;34m,\u001b[0m \u001b[0;34m(\u001b[0m\u001b[0mX_test\u001b[0m\u001b[0;34m,\u001b[0m \u001b[0my_test\u001b[0m\u001b[0;34m)\u001b[0m\u001b[0;34m]\u001b[0m\u001b[0;34m\u001b[0m\u001b[0;34m\u001b[0m\u001b[0m\n\u001b[0;32m---> 16\u001b[0;31m \u001b[0mmodel\u001b[0m\u001b[0;34m.\u001b[0m\u001b[0mfit\u001b[0m\u001b[0;34m(\u001b[0m\u001b[0mX_train\u001b[0m\u001b[0;34m,\u001b[0m \u001b[0my_train\u001b[0m\u001b[0;34m,\u001b[0m \u001b[0meval_metric\u001b[0m\u001b[0;34m=\u001b[0m\u001b[0;34m[\u001b[0m\u001b[0;34m\"rmse\"\u001b[0m\u001b[0;34m,\u001b[0m \u001b[0;34m\"mae\"\u001b[0m\u001b[0;34m]\u001b[0m\u001b[0;34m,\u001b[0m \u001b[0meval_set\u001b[0m\u001b[0;34m=\u001b[0m\u001b[0meval_set\u001b[0m\u001b[0;34m,\u001b[0m \u001b[0mverbose\u001b[0m\u001b[0;34m=\u001b[0m\u001b[0;32mTrue\u001b[0m\u001b[0;34m)\u001b[0m\u001b[0;34m\u001b[0m\u001b[0;34m\u001b[0m\u001b[0m\n\u001b[0m",
      "\u001b[0;32m~/miniconda3/envs/python_work/lib/python3.6/site-packages/xgboost/core.py\u001b[0m in \u001b[0;36minner_f\u001b[0;34m(*args, **kwargs)\u001b[0m\n\u001b[1;32m    434\u001b[0m         \u001b[0;32mfor\u001b[0m \u001b[0mk\u001b[0m\u001b[0;34m,\u001b[0m \u001b[0marg\u001b[0m \u001b[0;32min\u001b[0m \u001b[0mzip\u001b[0m\u001b[0;34m(\u001b[0m\u001b[0msig\u001b[0m\u001b[0;34m.\u001b[0m\u001b[0mparameters\u001b[0m\u001b[0;34m,\u001b[0m \u001b[0margs\u001b[0m\u001b[0;34m)\u001b[0m\u001b[0;34m:\u001b[0m\u001b[0;34m\u001b[0m\u001b[0;34m\u001b[0m\u001b[0m\n\u001b[1;32m    435\u001b[0m             \u001b[0mkwargs\u001b[0m\u001b[0;34m[\u001b[0m\u001b[0mk\u001b[0m\u001b[0;34m]\u001b[0m \u001b[0;34m=\u001b[0m \u001b[0marg\u001b[0m\u001b[0;34m\u001b[0m\u001b[0;34m\u001b[0m\u001b[0m\n\u001b[0;32m--> 436\u001b[0;31m         \u001b[0;32mreturn\u001b[0m \u001b[0mf\u001b[0m\u001b[0;34m(\u001b[0m\u001b[0;34m**\u001b[0m\u001b[0mkwargs\u001b[0m\u001b[0;34m)\u001b[0m\u001b[0;34m\u001b[0m\u001b[0;34m\u001b[0m\u001b[0m\n\u001b[0m\u001b[1;32m    437\u001b[0m \u001b[0;34m\u001b[0m\u001b[0m\n\u001b[1;32m    438\u001b[0m     \u001b[0;32mreturn\u001b[0m \u001b[0minner_f\u001b[0m\u001b[0;34m\u001b[0m\u001b[0;34m\u001b[0m\u001b[0m\n",
      "\u001b[0;32m~/miniconda3/envs/python_work/lib/python3.6/site-packages/xgboost/sklearn.py\u001b[0m in \u001b[0;36mfit\u001b[0;34m(self, X, y, sample_weight, base_margin, eval_set, eval_metric, early_stopping_rounds, verbose, xgb_model, sample_weight_eval_set, base_margin_eval_set, feature_weights, callbacks)\u001b[0m\n\u001b[1;32m    745\u001b[0m             \u001b[0mverbose_eval\u001b[0m\u001b[0;34m=\u001b[0m\u001b[0mverbose\u001b[0m\u001b[0;34m,\u001b[0m\u001b[0;34m\u001b[0m\u001b[0;34m\u001b[0m\u001b[0m\n\u001b[1;32m    746\u001b[0m             \u001b[0mxgb_model\u001b[0m\u001b[0;34m=\u001b[0m\u001b[0mmodel\u001b[0m\u001b[0;34m,\u001b[0m\u001b[0;34m\u001b[0m\u001b[0;34m\u001b[0m\u001b[0m\n\u001b[0;32m--> 747\u001b[0;31m             \u001b[0mcallbacks\u001b[0m\u001b[0;34m=\u001b[0m\u001b[0mcallbacks\u001b[0m\u001b[0;34m,\u001b[0m\u001b[0;34m\u001b[0m\u001b[0;34m\u001b[0m\u001b[0m\n\u001b[0m\u001b[1;32m    748\u001b[0m         )\n\u001b[1;32m    749\u001b[0m \u001b[0;34m\u001b[0m\u001b[0m\n",
      "\u001b[0;32m~/miniconda3/envs/python_work/lib/python3.6/site-packages/xgboost/training.py\u001b[0m in \u001b[0;36mtrain\u001b[0;34m(params, dtrain, num_boost_round, evals, obj, feval, maximize, early_stopping_rounds, evals_result, verbose_eval, xgb_model, callbacks)\u001b[0m\n\u001b[1;32m    195\u001b[0m                           \u001b[0mevals_result\u001b[0m\u001b[0;34m=\u001b[0m\u001b[0mevals_result\u001b[0m\u001b[0;34m,\u001b[0m\u001b[0;34m\u001b[0m\u001b[0;34m\u001b[0m\u001b[0m\n\u001b[1;32m    196\u001b[0m                           \u001b[0mmaximize\u001b[0m\u001b[0;34m=\u001b[0m\u001b[0mmaximize\u001b[0m\u001b[0;34m,\u001b[0m\u001b[0;34m\u001b[0m\u001b[0;34m\u001b[0m\u001b[0m\n\u001b[0;32m--> 197\u001b[0;31m                           early_stopping_rounds=early_stopping_rounds)\n\u001b[0m\u001b[1;32m    198\u001b[0m     \u001b[0;32mreturn\u001b[0m \u001b[0mbst\u001b[0m\u001b[0;34m\u001b[0m\u001b[0;34m\u001b[0m\u001b[0m\n\u001b[1;32m    199\u001b[0m \u001b[0;34m\u001b[0m\u001b[0m\n",
      "\u001b[0;32m~/miniconda3/envs/python_work/lib/python3.6/site-packages/xgboost/training.py\u001b[0m in \u001b[0;36m_train_internal\u001b[0;34m(params, dtrain, num_boost_round, evals, obj, feval, xgb_model, callbacks, evals_result, maximize, verbose_eval, early_stopping_rounds)\u001b[0m\n\u001b[1;32m     79\u001b[0m         \u001b[0;32mif\u001b[0m \u001b[0mcallbacks\u001b[0m\u001b[0;34m.\u001b[0m\u001b[0mbefore_iteration\u001b[0m\u001b[0;34m(\u001b[0m\u001b[0mbst\u001b[0m\u001b[0;34m,\u001b[0m \u001b[0mi\u001b[0m\u001b[0;34m,\u001b[0m \u001b[0mdtrain\u001b[0m\u001b[0;34m,\u001b[0m \u001b[0mevals\u001b[0m\u001b[0;34m)\u001b[0m\u001b[0;34m:\u001b[0m\u001b[0;34m\u001b[0m\u001b[0;34m\u001b[0m\u001b[0m\n\u001b[1;32m     80\u001b[0m             \u001b[0;32mbreak\u001b[0m\u001b[0;34m\u001b[0m\u001b[0;34m\u001b[0m\u001b[0m\n\u001b[0;32m---> 81\u001b[0;31m         \u001b[0mbst\u001b[0m\u001b[0;34m.\u001b[0m\u001b[0mupdate\u001b[0m\u001b[0;34m(\u001b[0m\u001b[0mdtrain\u001b[0m\u001b[0;34m,\u001b[0m \u001b[0mi\u001b[0m\u001b[0;34m,\u001b[0m \u001b[0mobj\u001b[0m\u001b[0;34m)\u001b[0m\u001b[0;34m\u001b[0m\u001b[0;34m\u001b[0m\u001b[0m\n\u001b[0m\u001b[1;32m     82\u001b[0m         \u001b[0;32mif\u001b[0m \u001b[0mcallbacks\u001b[0m\u001b[0;34m.\u001b[0m\u001b[0mafter_iteration\u001b[0m\u001b[0;34m(\u001b[0m\u001b[0mbst\u001b[0m\u001b[0;34m,\u001b[0m \u001b[0mi\u001b[0m\u001b[0;34m,\u001b[0m \u001b[0mdtrain\u001b[0m\u001b[0;34m,\u001b[0m \u001b[0mevals\u001b[0m\u001b[0;34m)\u001b[0m\u001b[0;34m:\u001b[0m\u001b[0;34m\u001b[0m\u001b[0;34m\u001b[0m\u001b[0m\n\u001b[1;32m     83\u001b[0m             \u001b[0;32mbreak\u001b[0m\u001b[0;34m\u001b[0m\u001b[0;34m\u001b[0m\u001b[0m\n",
      "\u001b[0;32m~/miniconda3/envs/python_work/lib/python3.6/site-packages/xgboost/core.py\u001b[0m in \u001b[0;36mupdate\u001b[0;34m(self, dtrain, iteration, fobj)\u001b[0m\n\u001b[1;32m   1499\u001b[0m             _check_call(_LIB.XGBoosterUpdateOneIter(self.handle,\n\u001b[1;32m   1500\u001b[0m                                                     \u001b[0mctypes\u001b[0m\u001b[0;34m.\u001b[0m\u001b[0mc_int\u001b[0m\u001b[0;34m(\u001b[0m\u001b[0miteration\u001b[0m\u001b[0;34m)\u001b[0m\u001b[0;34m,\u001b[0m\u001b[0;34m\u001b[0m\u001b[0;34m\u001b[0m\u001b[0m\n\u001b[0;32m-> 1501\u001b[0;31m                                                     dtrain.handle))\n\u001b[0m\u001b[1;32m   1502\u001b[0m         \u001b[0;32melse\u001b[0m\u001b[0;34m:\u001b[0m\u001b[0;34m\u001b[0m\u001b[0;34m\u001b[0m\u001b[0m\n\u001b[1;32m   1503\u001b[0m             \u001b[0mpred\u001b[0m \u001b[0;34m=\u001b[0m \u001b[0mself\u001b[0m\u001b[0;34m.\u001b[0m\u001b[0mpredict\u001b[0m\u001b[0;34m(\u001b[0m\u001b[0mdtrain\u001b[0m\u001b[0;34m,\u001b[0m \u001b[0moutput_margin\u001b[0m\u001b[0;34m=\u001b[0m\u001b[0;32mTrue\u001b[0m\u001b[0;34m,\u001b[0m \u001b[0mtraining\u001b[0m\u001b[0;34m=\u001b[0m\u001b[0;32mTrue\u001b[0m\u001b[0;34m)\u001b[0m\u001b[0;34m\u001b[0m\u001b[0;34m\u001b[0m\u001b[0m\n",
      "\u001b[0;31mKeyboardInterrupt\u001b[0m: "
     ]
    }
   ],
   "source": [
    "# Split the data for training\n",
    "import xgboost as xgb\n",
    "(\n",
    "    X_train, X_test,\n",
    "    y_train, y_test,\n",
    "    #data_index_train, data_index_test,\n",
    "    #target_index_train, target_index_test\n",
    ") = train_test_split(\n",
    "    data,\n",
    "    df_target,\n",
    "    random_state=42,\n",
    "    test_size=.33\n",
    ")\n",
    "model = xgb.XGBRegressor(n_estimators=1000, max_depth=150, eta=0.1, subsample=0.7, colsample_bytree=0.8)\n",
    "eval_set = [(X_train, y_train), (X_test, y_test)]\n",
    "model.fit(X_train, y_train, eval_metric=[\"rmse\", \"mae\"], eval_set=eval_set, verbose=True)"
   ]
  },
  {
   "cell_type": "code",
   "execution_count": null,
   "metadata": {},
   "outputs": [],
   "source": [
    "y_test_predict = model.predict(X_test)\n",
    "errors = abs(y_test_predict - y_test)/1024/1024/1024\n",
    "mean_error = round(np.mean(errors),2)\n",
    "print('Mean Absolute Error:', round(np.mean(errors),2))"
   ]
  },
  {
   "cell_type": "code",
   "execution_count": null,
   "metadata": {},
   "outputs": [],
   "source": [
    "plt.plot(y_test, y_test_predict,'.')\n",
    "plt.xlabel('V100 Throughput')\n",
    "plt.ylabel('V100 Throughput Prediction')\n",
    "plt.title('9 Features - MAE: ' + str(mean_error))\n",
    "print(\"R2 Score\", r2_score(y_test,y_test_predict))"
   ]
  },
  {
   "cell_type": "code",
   "execution_count": 64,
   "metadata": {},
   "outputs": [
    {
     "name": "stdout",
     "output_type": "stream",
     "text": [
      "Mean absolute percentage error: 271.46210302250853\n"
     ]
    }
   ],
   "source": [
    "print(\"Mean absolute percentage error:\",mean_absolute_percentage_error(y_test,y_test_predict))"
   ]
  },
  {
   "cell_type": "markdown",
   "metadata": {},
   "source": [
    "## Feature Importance and Reduced feature regression results\n",
    "Similar erors "
   ]
  },
  {
   "cell_type": "code",
   "execution_count": 222,
   "metadata": {},
   "outputs": [],
   "source": [
    "#[print('Variable: {:20} Importance: {}'.format(*pair)) for pair in feature_importances]"
   ]
  },
  {
   "cell_type": "code",
   "execution_count": 331,
   "metadata": {
    "tags": []
   },
   "outputs": [
    {
     "name": "stdout",
     "output_type": "stream",
     "text": [
      "114\n",
      "Variable: warp_execution_efficiency Importance: 0.8943\n",
      "Variable: inst_per_warp        Importance: 0.063\n",
      "Variable: warp_nonpred_execution_efficiency Importance: 0.0127\n",
      "Variable: local_store_transactions_per_request Importance: 0.0124\n",
      "Variable: branch_efficiency    Importance: 0.0105\n",
      "Variable: inst_replay_overhead Importance: 0.0051\n",
      "Variable: shared_store_transactions_per_request Importance: 0.0013\n",
      "Variable: shared_load_transactions_per_request Importance: 0.0006\n",
      "Variable: local_load_transactions_per_request Importance: 0.0\n"
     ]
    },
    {
     "data": {
      "text/plain": [
       "[None, None, None, None, None, None, None, None, None]"
      ]
     },
     "execution_count": 331,
     "metadata": {},
     "output_type": "execute_result"
    }
   ],
   "source": [
    "\"\"\"\n",
    "Variable: l2_atomic_throughput Importance: 0.6087\n",
    "Variable: l2_read_transactions Importance: 0.281\n",
    "Variable: gld_transactions     Importance: 0.0587\n",
    "Variable: inst_executed        Importance: 0.0117\n",
    "Variable: gst_transactions     Importance: 0.0081\n",
    "Variable: l2_write_transactions Importance: 0.0075\n",
    "Variable: stall_memory_throttle Importance: 0.0067\n",
    "Variable: l2_write_throughput  Importance: 0.0018\n",
    "Variable: shared_store_throughput Importance: 0.0013\n",
    "\n",
    "\"\"\"\n",
    "importances = list(reg_model.feature_importances_)\n",
    "feature_list = [c for c in df_columns_only.columns if c not in ['dram_read_throughput', 'dram_write_throughput']]\n",
    "#feature_list = df_columns_only.columns\n",
    "print(len(feature_list))\n",
    "feature_importances = [(feature, round(importance, 4)) for feature, importance in zip(feature_list, importances)]\\\n",
    "# Sort the feature importances by most important first\n",
    "feature_importances = sorted(feature_importances, key = lambda x: x[1], reverse = True)\n",
    "# Print out the feature and importances \n",
    "[print('Variable: {:20} Importance: {}'.format(*pair)) for pair in feature_importances]\n"
   ]
  },
  {
   "cell_type": "code",
   "execution_count": 332,
   "metadata": {},
   "outputs": [
    {
     "data": {
      "text/plain": [
       "4"
      ]
     },
     "execution_count": 332,
     "metadata": {},
     "output_type": "execute_result"
    }
   ],
   "source": [
    "not_import = []\n",
    "for x in feature_importances:\n",
    "    #print(x)\n",
    "    if 0 in x or x[1] < 0.009:\n",
    "        #print(x[0])\n",
    "        not_import.append(x[0])\n",
    "len(not_import)"
   ]
  },
  {
   "cell_type": "code",
   "execution_count": 333,
   "metadata": {},
   "outputs": [
    {
     "data": {
      "text/plain": [
       "Series([], Name: l2_atomic_throughput, dtype: float64)"
      ]
     },
     "execution_count": 333,
     "metadata": {},
     "output_type": "execute_result"
    }
   ],
   "source": [
    "df_columns_only['l2_atomic_throughput']"
   ]
  },
  {
   "cell_type": "code",
   "execution_count": 334,
   "metadata": {},
   "outputs": [
    {
     "name": "stdout",
     "output_type": "stream",
     "text": [
      "gld_transactions\n",
      "gst_transactions\n",
      "l2_read_transactions\n",
      "l2_write_transactions\n",
      "l2_write_throughput\n",
      "shared_store_throughput\n",
      "inst_executed\n",
      "l2_atomic_throughput\n",
      "stall_memory_throttle\n"
     ]
    }
   ],
   "source": [
    "\n",
    "df = df_joined.copy()  # Start with all of df_joined\n",
    "\n",
    "df_target = (df_joined['dram_read_throughput_V100'] + df_joined['dram_write_throughput_V100']).values\n",
    "\n",
    "not_import.append('dram_read_throughput')\n",
    "not_import.append('dram_write_throughput')\n",
    "not_import.append('dram_write_transactions')\n",
    "not_import.append('dram_read_transactions')\n",
    "\n",
    "important_features = ['l2_atomic_throughput', 'l2_read_transactions','shared_store_throughput','gld_transactions','inst_executed','gst_transactions','l2_write_transactions','stall_memory_throttle','l2_write_throughput']\n",
    "# Training data index and values (values ARE in master_data_scaled)\n",
    "data_index = df['master_index_P100'].values\n",
    "data = master_data_scaled[ data_index ]\n",
    "\n",
    "# Need to drop 'dram_read_throughput' and 'dram_write_throughput'\n",
    "indices = []\n",
    "for i, col in enumerate(df_columns_only.columns):\n",
    "    #if col not in ['dram_read_throughput', 'dram_write_throughput','dram_write_transactions','dram_read_transactions']:\n",
    "    #if col not in not_import:\n",
    "    #print(col)\n",
    "    if col in important_features:\n",
    "        print(col)\n",
    "        indices.append(i)       \n",
    "data = data[:,indices]"
   ]
  },
  {
   "cell_type": "code",
   "execution_count": 335,
   "metadata": {},
   "outputs": [],
   "source": [
    "# Split the data for training\n",
    "(\n",
    "    X_train, X_test,\n",
    "    y_train, y_test,\n",
    "    #data_index_train, data_index_test,\n",
    "    #target_index_train, target_index_test\n",
    ") = train_test_split(\n",
    "    data,\n",
    "    df_target,\n",
    "    #data_index,\n",
    "    #target_index,\n",
    "    random_state=42,\n",
    "    test_size=.33\n",
    ")"
   ]
  },
  {
   "cell_type": "code",
   "execution_count": 336,
   "metadata": {},
   "outputs": [
    {
     "data": {
      "text/plain": [
       "(21634, 9)"
      ]
     },
     "execution_count": 336,
     "metadata": {},
     "output_type": "execute_result"
    }
   ],
   "source": [
    "X_train.shape"
   ]
  },
  {
   "cell_type": "code",
   "execution_count": 337,
   "metadata": {},
   "outputs": [],
   "source": [
    "clf = RandomForestRegressor(n_jobs=2, n_estimators=200, max_depth=100)\n",
    "reg_model = clf.fit(X_train, y_train)"
   ]
  },
  {
   "cell_type": "code",
   "execution_count": 338,
   "metadata": {},
   "outputs": [
    {
     "name": "stdout",
     "output_type": "stream",
     "text": [
      "Mean Absolute Error: 12.57\n",
      "Mean absolute percentage error: 504915450.48913145\n"
     ]
    }
   ],
   "source": [
    "y_test_predict = clf.predict(X_test)\n",
    "errors = abs(y_test_predict - y_test)/1024/1024/1024\n",
    "y_test_predict_gb = y_test_predict/1024/1024/1024\n",
    "y_test_gb = y_test/1024/1024/1024\n",
    "mean_error = round(np.mean(errors),2)\n",
    "print('Mean Absolute Error:', round(np.mean(errors),2))\n",
    "print(\"Mean absolute percentage error:\",mean_absolute_percentage_error(y_test_gb,y_test_predict_gb))"
   ]
  },
  {
   "cell_type": "code",
   "execution_count": 339,
   "metadata": {},
   "outputs": [
    {
     "name": "stdout",
     "output_type": "stream",
     "text": [
      "Average absolute error: 13.498968482 GB/s\n",
      "Accuracy: -54214842891809.65 %.\n"
     ]
    }
   ],
   "source": [
    "# Performance metrics\n",
    "errors = abs(y_test_predict - y_test)\n",
    "print('Average absolute error:', round(np.mean(errors), 2)/1000/1000/1000, 'GB/s')\n",
    "# Calculate mean absolute percentage error (MAPE)\n",
    "mape = 100 * (errors / (y_test+.00001))\n",
    "# Calculate and display accuracy\n",
    "accuracy = 100 - np.mean(mape)\n",
    "print('Accuracy:', round(accuracy, 2), '%.')"
   ]
  },
  {
   "cell_type": "code",
   "execution_count": 340,
   "metadata": {
    "collapsed": true,
    "jupyter": {
     "outputs_hidden": true
    },
    "tags": []
   },
   "outputs": [
    {
     "data": {
      "text/plain": [
       "['inst_per_warp',\n",
       " 'branch_efficiency',\n",
       " 'warp_execution_efficiency',\n",
       " 'warp_nonpred_execution_efficiency',\n",
       " 'local_store_transactions_per_request',\n",
       " 'gld_transactions_per_request',\n",
       " 'gst_transactions_per_request',\n",
       " 'shared_store_transactions',\n",
       " 'shared_load_transactions',\n",
       " 'local_load_transactions',\n",
       " 'local_store_transactions',\n",
       " 'gld_transactions',\n",
       " 'gst_transactions',\n",
       " 'sysmem_read_transactions',\n",
       " 'sysmem_write_transactions',\n",
       " 'l2_read_transactions',\n",
       " 'l2_write_transactions',\n",
       " 'global_hit_rate',\n",
       " 'local_hit_rate',\n",
       " 'gld_requested_throughput',\n",
       " 'gst_requested_throughput',\n",
       " 'gld_throughput',\n",
       " 'gst_throughput',\n",
       " 'local_memory_overhead',\n",
       " 'tex_cache_hit_rate',\n",
       " 'l2_tex_read_hit_rate',\n",
       " 'l2_tex_write_hit_rate',\n",
       " 'tex_cache_throughput',\n",
       " 'l2_tex_read_throughput',\n",
       " 'l2_tex_write_throughput',\n",
       " 'l2_read_throughput',\n",
       " 'l2_write_throughput',\n",
       " 'sysmem_read_throughput',\n",
       " 'sysmem_write_throughput',\n",
       " 'local_load_throughput',\n",
       " 'local_store_throughput',\n",
       " 'shared_load_throughput',\n",
       " 'shared_store_throughput',\n",
       " 'gst_efficiency',\n",
       " 'tex_cache_transactions',\n",
       " 'flop_count_dp',\n",
       " 'flop_count_dp_add',\n",
       " 'flop_count_dp_fma',\n",
       " 'flop_count_dp_mul',\n",
       " 'flop_count_sp',\n",
       " 'flop_count_sp_add',\n",
       " 'flop_count_sp_fma',\n",
       " 'flop_count_sp_mul',\n",
       " 'flop_count_sp_special',\n",
       " 'inst_executed',\n",
       " 'inst_issued',\n",
       " 'dram_utilization',\n",
       " 'sysmem_utilization',\n",
       " 'stall_inst_fetch',\n",
       " 'stall_exec_dependency',\n",
       " 'stall_memory_dependency',\n",
       " 'stall_texture',\n",
       " 'stall_sync',\n",
       " 'stall_other',\n",
       " 'stall_constant_memory_dependency',\n",
       " 'stall_pipe_busy',\n",
       " 'shared_efficiency',\n",
       " 'inst_fp_32',\n",
       " 'inst_fp_64',\n",
       " 'inst_integer',\n",
       " 'inst_bit_convert',\n",
       " 'inst_control',\n",
       " 'inst_compute_ld_st',\n",
       " 'inst_misc',\n",
       " 'inst_inter_thread_communication',\n",
       " 'issue_slots',\n",
       " 'cf_issued',\n",
       " 'cf_executed',\n",
       " 'ldst_issued',\n",
       " 'ldst_executed',\n",
       " 'atomic_transactions',\n",
       " 'atomic_transactions_per_request',\n",
       " 'l2_atomic_throughput',\n",
       " 'l2_atomic_transactions',\n",
       " 'l2_tex_read_transactions',\n",
       " 'stall_memory_throttle',\n",
       " 'stall_not_selected',\n",
       " 'l2_tex_write_transactions',\n",
       " 'flop_count_hp',\n",
       " 'flop_count_hp_add',\n",
       " 'flop_count_hp_mul',\n",
       " 'flop_count_hp_fma',\n",
       " 'inst_fp_16',\n",
       " 'ipc',\n",
       " 'issued_ipc',\n",
       " 'issue_slot_utilization',\n",
       " 'sm_efficiency',\n",
       " 'achieved_occupancy',\n",
       " 'eligible_warps_per_cycle',\n",
       " 'shared_utilization',\n",
       " 'l2_utilization',\n",
       " 'tex_utilization',\n",
       " 'ldst_fu_utilization',\n",
       " 'cf_fu_utilization',\n",
       " 'special_fu_utilization',\n",
       " 'half_precision_fu_utilization',\n",
       " 'single_precision_fu_utilization',\n",
       " 'double_precision_fu_utilization',\n",
       " 'flop_hp_efficiency',\n",
       " 'flop_sp_efficiency',\n",
       " 'flop_dp_efficiency',\n",
       " 'sysmem_read_utilization',\n",
       " 'sysmem_write_utilization']"
      ]
     },
     "execution_count": 340,
     "metadata": {},
     "output_type": "execute_result"
    }
   ],
   "source": [
    "#creating list of features that are used\n",
    "new_columns = []\n",
    "not_import.append('dram_write_throughput')\n",
    "not_import.append('dram_read_throughput')\n",
    "for i, col in enumerate(df_columns_only.columns):\n",
    "    if col not in not_import:\n",
    "        new_columns.append(col)       \n",
    "new_columns\n"
   ]
  },
  {
   "cell_type": "code",
   "execution_count": 341,
   "metadata": {},
   "outputs": [
    {
     "name": "stdout",
     "output_type": "stream",
     "text": [
      "10\n",
      "108\n"
     ]
    }
   ],
   "source": [
    "importances = list(reg_model.feature_importances_)\n",
    "print(len(not_import))\n",
    "feature_list = [c for c in df_columns_only.columns if c not in not_import]\n",
    "#feature_list = df_columns_only.columns\n",
    "print(len(feature_list))\n",
    "feature_importances = [(feature, round(importance, 4)) for feature, importance in zip(feature_list, importances)]\\\n",
    "# Sort the feature importances by most important first\n",
    "feature_importances = sorted(feature_importances, key = lambda x: x[1], reverse = True)"
   ]
  },
  {
   "cell_type": "code",
   "execution_count": 342,
   "metadata": {},
   "outputs": [
    {
     "data": {
      "text/plain": [
       "[0, 1, 2, 3, 4, 5, 6, 7, 8]"
      ]
     },
     "execution_count": 342,
     "metadata": {},
     "output_type": "execute_result"
    }
   ],
   "source": [
    "x_values = list(range(len(importances)))\n",
    "x_values"
   ]
  },
  {
   "cell_type": "code",
   "execution_count": 343,
   "metadata": {},
   "outputs": [
    {
     "data": {
      "text/plain": [
       "Text(0.5,1,'Cumulative Importances')"
      ]
     },
     "execution_count": 343,
     "metadata": {},
     "output_type": "execute_result"
    },
    {
     "data": {
      "image/png": "[encoded data removed]",
      "text/plain": [
       "<Figure size 432x288 with 1 Axes>"
      ]
     },
     "metadata": {
      "needs_background": "light"
     },
     "output_type": "display_data"
    }
   ],
   "source": [
    "x_values = list(range(len(importances)))\n",
    "# List of features sorted from most to least important\n",
    "sorted_importances = [importance[1] for importance in feature_importances]\n",
    "sorted_features = [importance[0] for importance in feature_importances]\n",
    "# Cumulative importances\n",
    "cumulative_importances = np.cumsum(sorted_importances)\n",
    "# Make a line graph\n",
    "plt.plot(x_values, cumulative_importances, 'g-')\n",
    "# Draw line at 95% of importance retained\n",
    "plt.hlines(y = 0.95, xmin=0, xmax=len(sorted_importances), color = 'r', linestyles = 'dashed')\n",
    "# Format x ticks and labels\n",
    "plt.xticks(x_values, sorted_features, rotation = 'vertical')\n",
    "# Axis labels and title\n",
    "plt.xlabel('Variable'); plt.ylabel('Cumulative Importance'); plt.title('Cumulative Importances')"
   ]
  },
  {
   "cell_type": "code",
   "execution_count": 344,
   "metadata": {},
   "outputs": [
    {
     "data": {
      "image/png": "[encoded data removed]",
      "text/plain": [
       "<Figure size 432x432 with 1 Axes>"
      ]
     },
     "metadata": {
      "needs_background": "light"
     },
     "output_type": "display_data"
    }
   ],
   "source": [
    "from sklearn import ensemble\n",
    "from sklearn.metrics import mean_squared_error\n",
    "\n",
    "params = {\n",
    "    \"n_estimators\": 500,\n",
    "    \"max_depth\": 4,\n",
    "    \"min_samples_split\": 5,\n",
    "    \"learning_rate\": 0.01,\n",
    "}\n",
    "reg = ensemble.GradientBoostingRegressor(**params)\n",
    "reg.fit(X_train, y_train)\n",
    "test_score = np.zeros((params[\"n_estimators\"],), dtype=np.float64)\n",
    "for i, y_pred in enumerate(reg.staged_predict(X_test)):\n",
    "    test_score[i] = reg.loss_(y_test, y_test_predict)\n",
    "\n",
    "fig = plt.figure(figsize=(6, 6))\n",
    "plt.subplot(1, 1, 1)\n",
    "plt.title(\"Deviance\")\n",
    "plt.plot(\n",
    "    np.arange(params[\"n_estimators\"]) + 1,\n",
    "    reg.train_score_,\n",
    "    \"b-\",\n",
    "    label=\"Training Set Deviance\",\n",
    ")\n",
    "plt.plot(\n",
    "    np.arange(params[\"n_estimators\"]) + 1, test_score, \"r-\", label=\"Test Set Deviance\"\n",
    ")\n",
    "plt.legend(loc=\"upper right\")\n",
    "plt.xlabel(\"Boosting Iterations\")\n",
    "plt.ylabel(\"Deviance\")\n",
    "fig.tight_layout()\n",
    "plt.show()"
   ]
  },
  {
   "cell_type": "code",
   "execution_count": 345,
   "metadata": {},
   "outputs": [
    {
     "name": "stdout",
     "output_type": "stream",
     "text": [
      "R2 Score 0.9903461977658342\n"
     ]
    },
    {
     "data": {
      "image/png": "[encoded data removed]",
      "text/plain": [
       "<Figure size 432x288 with 1 Axes>"
      ]
     },
     "metadata": {
      "needs_background": "light"
     },
     "output_type": "display_data"
    }
   ],
   "source": [
    "#y_test_predict_gb = y_test_predict/1024/1024/1024\n",
    "#y_test_gb = y_test/1024/1024/1024\n",
    "plt.plot(y_test_gb, y_test_predict_gb,'.')\n",
    "plt.xlabel('V100 Throughput')\n",
    "plt.ylabel('V100 Throughput Prediction')\n",
    "#plt.title('4 Features - MAE: ' + str(mean_error))\n",
    "print(\"R2 Score\", r2_score(y_test_gb,y_test_predict_gb))"
   ]
  },
  {
   "cell_type": "code",
   "execution_count": 177,
   "metadata": {},
   "outputs": [
    {
     "ename": "NameError",
     "evalue": "name 'important_train_features' is not defined",
     "output_type": "error",
     "traceback": [
      "\u001b[0;31m---------------------------------------------------------------------------\u001b[0m",
      "\u001b[0;31mNameError\u001b[0m                                 Traceback (most recent call last)",
      "\u001b[0;32m<ipython-input-177-0b9e555ef306>\u001b[0m in \u001b[0;36m<module>\u001b[0;34m\u001b[0m\n\u001b[1;32m      1\u001b[0m \u001b[0;31m# Train the expanded model on only the important features\u001b[0m\u001b[0;34m\u001b[0m\u001b[0;34m\u001b[0m\u001b[0;34m\u001b[0m\u001b[0m\n\u001b[0;32m----> 2\u001b[0;31m \u001b[0mreg_model\u001b[0m\u001b[0;34m.\u001b[0m\u001b[0mfit\u001b[0m\u001b[0;34m(\u001b[0m\u001b[0mimportant_train_features\u001b[0m\u001b[0;34m,\u001b[0m \u001b[0mtrain_labels\u001b[0m\u001b[0;34m)\u001b[0m\u001b[0;34m;\u001b[0m\u001b[0;34m\u001b[0m\u001b[0;34m\u001b[0m\u001b[0m\n\u001b[0m\u001b[1;32m      3\u001b[0m \u001b[0;31m# Make predictions on test data\u001b[0m\u001b[0;34m\u001b[0m\u001b[0;34m\u001b[0m\u001b[0;34m\u001b[0m\u001b[0m\n\u001b[1;32m      4\u001b[0m \u001b[0mpredictions\u001b[0m \u001b[0;34m=\u001b[0m \u001b[0mrf_exp\u001b[0m\u001b[0;34m.\u001b[0m\u001b[0mpredict\u001b[0m\u001b[0;34m(\u001b[0m\u001b[0mimportant_test_features\u001b[0m\u001b[0;34m)\u001b[0m\u001b[0;34m\u001b[0m\u001b[0;34m\u001b[0m\u001b[0m\n\u001b[1;32m      5\u001b[0m \u001b[0;31m# Performance metrics\u001b[0m\u001b[0;34m\u001b[0m\u001b[0;34m\u001b[0m\u001b[0;34m\u001b[0m\u001b[0m\n",
      "\u001b[0;31mNameError\u001b[0m: name 'important_train_features' is not defined"
     ]
    }
   ],
   "source": [
    "\n",
    "# Performance metrics\n",
    "errors = abs(predict - test_labels)\n",
    "print('Average absolute error:', round(np.mean(errors), 2), 'degrees.')\n",
    "# Calculate mean absolute percentage error (MAPE)\n",
    "mape = 100 * (errors / test_labels)\n",
    "# Calculate and display accuracy\n",
    "accuracy = 100 - np.mean(mape)\n",
    "print('Accuracy:', round(accuracy, 2), '%.')"
   ]
  },
  {
   "cell_type": "code",
   "execution_count": null,
   "metadata": {},
   "outputs": [],
   "source": []
  }
 ],
 "metadata": {
  "kernelspec": {
   "display_name": "Python 3",
   "language": "python",
   "name": "python3"
  },
  "language_info": {
   "codemirror_mode": {
    "name": "ipython",
    "version": 3
   },
   "file_extension": ".py",
   "mimetype": "text/x-python",
   "name": "python",
   "nbconvert_exporter": "python",
   "pygments_lexer": "ipython3",
   "version": "3.6.8"
  }
 },
 "nbformat": 4,
 "nbformat_minor": 4
}
