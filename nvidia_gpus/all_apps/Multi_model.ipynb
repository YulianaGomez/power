{
 "cells": [
  {
   "cell_type": "code",
   "execution_count": 1,
   "metadata": {},
   "outputs": [],
   "source": [
    "#Need to get X and Y\n",
    "#Going through metrics\n",
    "import numbers\n",
    "import glob\n",
    "import os\n",
    "import csv\n",
    "\n",
    "if True:\n",
    "    combined_data_ = {}\n",
    "    target_kernels = []\n",
    "    \n",
    "metric_targets = []\n",
    "all_sig_metrics = []\n",
    "#bench_targets = [ \"gaussianP\" , \"gaussianV\", \"gemm\", \"stream\", \"kmeans_cudaV\", \"kmeans_cudaP\" ]\n",
    "#for filen_ in glob.glob(\"/home/yzamora/power/nvidia_gpus/all_apps/mixed_results/*.csv\"):\n",
    "#for filen_ in glob.glob(\"/home/yzamora/power/nvidia_gpus/all_apps/gaussian_results/*.csv\"):\n",
    "#for filen_ in glob.glob(\"/gpfs/jlse-fs0/users/yzamora/v100_testing/v100_p100_results/*.csv\"):\n",
    "for filen_ in glob.glob(\"/gpfs/jlse-fs0/users/yzamora/p100_testing/five_apps/*.csv\"):\n",
    "    filen = os.path.basename(filen_)\n",
    "    #print (filen)\n",
    "    filen_split = filen.split('.')[0].split('_')\n",
    "    bench_name = filen_split[0]\n",
    "    size = filen_split[1]\n",
    "    \n",
    "    #Run if applications contain kmeans in name\n",
    "    if False: \n",
    "        if 'kmeans' in filen_split[0]:\n",
    "            size = (filen.split('.')[0].split('N')[1])\n",
    "        else:\n",
    "            size = filen_split[1].split('N')[1]\n",
    "    \n",
    "    #metric_name = filen_split[1]\n",
    "    #print(filen_split[0][-1]) #gives you p or v\n",
    "    #size_str = filen_split[1].split('N')[1]\n",
    "    \n",
    "    #if not (metric_name in metric_targets): continue\n",
    "    #if not (bench_name in bench_targets): continue\n",
    "    \n",
    "    key_root = bench_name\n",
    "    #print(key_root)\n",
    "    levels = [\"Idle\", \"Low\",\"High\", \"Max\"]\n",
    "    bw_units = [\"GB\", \"MB\", \"KB\" ,\"0B\"]\n",
    "    # Now open the file and look for the data\n",
    "    with open(filen_ ,'r') as file_handle:\n",
    "        #print (file_handle)\n",
    "        data_found = False\n",
    "        ncols = 1\n",
    "        fdata = csv.reader(file_handle)\n",
    "        index_lookup = {}\n",
    "        #print(filen_)\n",
    "        for line_split in fdata:\n",
    "            #print (line_split)\n",
    "            lsplt = (len(line_split) > 0)\n",
    "      \n",
    "            if data_found:\n",
    "                #print(\"data found\")\n",
    "                if lsplt and len(line_split) == ncols:\n",
    "                    #percent - strip off end\n",
    "                    # Get metric name here\n",
    "                    #mname_index = index_lookup['Metric Name']\n",
    "                    #metric_name = line_split[ mname_index ]\n",
    "                    #if not (metric_name in metric_targets): continue\n",
    "                    \n",
    "                    # Read in desired value for the current metric\n",
    "                    target_index = index_lookup['Avg']; value = 0\n",
    "                    metric_name = line_split[index_lookup['Metric Name']]\n",
    "                    #print (line_split[target_index].isdecimal())\n",
    "                    if line_split[target_index].isdecimal():\n",
    "                        if line_split[target_index]!= '0':\n",
    "                            #print(line_split[target_index])\n",
    "                            all_sig_metrics.append(metric_name)\n",
    "                            value = int(line_split[ target_index ])\n",
    "                        \n",
    "                        # Labeled with percentage\n",
    "                    elif \"%\" == line_split[target_index][-1]:\n",
    "                        #print (\"percentage loop\")\n",
    "                        all_sig_metrics.append(metric_name)\n",
    "                        value = float(line_split[ target_index ][0:7]) / 100.0\n",
    "                        \n",
    "                    # Labeled with bandwidth units\n",
    "                    elif line_split[ target_index ][-4:-2] in bw_units:\n",
    "                        # Just take the first \n",
    "                        units = line_split[ target_index ][-4:-2]\n",
    "                        all_sig_metrics.append(metric_name)\n",
    "                        mfact = 1.0\n",
    "                        if   units == \"KB\": mfact = 1024\n",
    "                        elif units == \"MB\": mfact = 1024*1024\n",
    "                        elif units == \"GB\": mfact = 1024*1024*1024\n",
    "                        elif units == \"0B\":  mfact = 1\n",
    "                        value = float(line_split[ target_index ][0:7]) * mfact\n",
    "                    \n",
    "                    # idle, low, max\n",
    "                    elif line_split[ target_index ][-1] == \")\":\n",
    "                        #print (\"low\")\n",
    "                        all_sig_metrics.append(metric_name)\n",
    "                        value = int(line_split[ target_index].split('(')[1].split(\")\")[0])\n",
    "                        \n",
    "                    # otherwise, float\n",
    "                    #elif not(float(line_split[ target_index ]).is_integer()):\n",
    "                    else:\n",
    "                        #print(line_split[ target_index ].split('(')[0])\n",
    "                        #print(\"in float\")\n",
    "                        #print(line_split[ target_index ].split('(')[0])\n",
    "                        value = float(line_split[ target_index ])\n",
    "                    \n",
    "                    \n",
    "                    \n",
    "                     # Parse name of kernel\n",
    "                    kernel_name = line_split[ index_lookup['Kernel'] ].split('(')[0]\n",
    "                    # Define kernel-specific key\n",
    "                    key = key_root + size + \"_\" + kernel_name \n",
    "                    \n",
    "                    # Initialize dict for this key, if it is new\n",
    "                    if not (key in combined_data_): \n",
    "                        combined_data_ [ key ] = {}\n",
    "                    if not (kernel_name in target_kernels):\n",
    "                        target_kernels.append(kernel_name)\n",
    "                        #combined_data_ [ key ][ 'size' ] = int( size_str )\n",
    "                        \n",
    "                    # Store value for the metric being read right now\n",
    "                    combined_data_ [key][ metric_name ] = value\n",
    "                    combined_data_[key][\"kernelname\"] = kernel_name\n",
    "                    \n",
    "                else: data_found = False\n",
    "\n",
    "\n",
    "            elif lsplt and line_split[0] == 'Device' and line_split[1] == 'Kernel':\n",
    "                # Set flag that we are at the data:\n",
    "                data_found = True\n",
    "                # Set number of columns in table:\n",
    "                ncols = len(line_split)\n",
    "                # Generate an index lookup table:\n",
    "                idx = 0\n",
    "                for term in line_split:\n",
    "                    index_lookup[term] = idx\n",
    "                    idx += 1\n",
    "                #print(index_lookup)\n",
    "\n"
   ]
  },
  {
   "cell_type": "code",
   "execution_count": 2,
   "metadata": {},
   "outputs": [
    {
     "name": "stdout",
     "output_type": "stream",
     "text": [
      "dict_keys(['inst_per_warp', 'kernelname', 'branch_efficiency', 'warp_execution_efficiency', 'warp_nonpred_execution_efficiency', 'inst_replay_overhead', 'shared_load_transactions_per_request', 'shared_store_transactions_per_request', 'local_load_transactions_per_request', 'local_store_transactions_per_request', 'gld_transactions_per_request', 'gst_transactions_per_request', 'shared_store_transactions', 'shared_load_transactions', 'local_load_transactions', 'local_store_transactions', 'gld_transactions', 'gst_transactions', 'sysmem_read_transactions', 'sysmem_write_transactions', 'l2_read_transactions', 'l2_write_transactions', 'dram_read_transactions', 'dram_write_transactions', 'global_hit_rate', 'local_hit_rate', 'gld_requested_throughput', 'gst_requested_throughput', 'gld_throughput', 'gst_throughput', 'local_memory_overhead', 'tex_cache_hit_rate', 'l2_tex_read_hit_rate', 'l2_tex_write_hit_rate', 'dram_read_throughput', 'dram_write_throughput', 'tex_cache_throughput', 'l2_tex_read_throughput', 'l2_tex_write_throughput', 'l2_read_throughput', 'l2_write_throughput', 'sysmem_read_throughput', 'sysmem_write_throughput', 'local_load_throughput', 'local_store_throughput', 'shared_load_throughput', 'shared_store_throughput', 'gld_efficiency', 'gst_efficiency', 'tex_cache_transactions', 'flop_count_dp', 'flop_count_dp_add', 'flop_count_dp_fma', 'flop_count_dp_mul', 'flop_count_sp', 'flop_count_sp_add', 'flop_count_sp_fma', 'flop_count_sp_mul', 'flop_count_sp_special', 'inst_executed', 'inst_issued', 'dram_utilization', 'sysmem_utilization', 'stall_inst_fetch', 'stall_exec_dependency', 'stall_memory_dependency', 'stall_texture', 'stall_sync', 'stall_other', 'stall_constant_memory_dependency', 'stall_pipe_busy', 'shared_efficiency', 'inst_fp_32', 'inst_fp_64', 'inst_integer', 'inst_bit_convert', 'inst_control', 'inst_compute_ld_st', 'inst_misc', 'inst_inter_thread_communication', 'issue_slots', 'cf_issued', 'cf_executed', 'ldst_issued', 'ldst_executed', 'atomic_transactions', 'atomic_transactions_per_request', 'l2_atomic_throughput', 'l2_atomic_transactions', 'l2_tex_read_transactions', 'stall_memory_throttle', 'stall_not_selected', 'l2_tex_write_transactions', 'flop_count_hp', 'flop_count_hp_add', 'flop_count_hp_mul', 'flop_count_hp_fma', 'inst_fp_16', 'ipc', 'issued_ipc', 'issue_slot_utilization', 'sm_efficiency', 'achieved_occupancy', 'eligible_warps_per_cycle', 'shared_utilization', 'l2_utilization', 'tex_utilization', 'ldst_fu_utilization', 'cf_fu_utilization', 'tex_fu_utilization', 'special_fu_utilization', 'half_precision_fu_utilization', 'single_precision_fu_utilization', 'double_precision_fu_utilization', 'flop_hp_efficiency', 'flop_sp_efficiency', 'flop_dp_efficiency', 'sysmem_read_utilization', 'sysmem_write_utilization'])\n"
     ]
    }
   ],
   "source": [
    "print(combined_data_['gemmN5216_sgemm_128x128x8_NN_vec'].keys())"
   ]
  },
  {
   "cell_type": "code",
   "execution_count": 3,
   "metadata": {},
   "outputs": [
    {
     "name": "stdout",
     "output_type": "stream",
     "text": [
      "(958,)\n"
     ]
    }
   ],
   "source": [
    "#Obtaining y vector\n",
    "import numpy as np\n",
    "Y = []\n",
    "for key, value in combined_data_.items():\n",
    "    Y.append(combined_data_[key]['ipc'])\n",
    "    \n",
    "print(np.array(Y).shape)"
   ]
  },
  {
   "cell_type": "code",
   "execution_count": 4,
   "metadata": {},
   "outputs": [
    {
     "name": "stdout",
     "output_type": "stream",
     "text": [
      "958 118\n"
     ]
    },
    {
     "name": "stderr",
     "output_type": "stream",
     "text": [
      "/home/yzamora/miniconda3/lib/python3.6/site-packages/sklearn/preprocessing/data.py:164: UserWarning: Numerical issues were encountered when centering the data and might not be solved. Dataset may contain too large values. You may need to prescale your features.\n",
      "  warnings.warn(\"Numerical issues were encountered \"\n"
     ]
    }
   ],
   "source": [
    "#Obtaining X vector\n",
    "import os\n",
    "import sys\n",
    "import pandas as pd\n",
    "from sklearn.preprocessing import scale\n",
    "#print(combined_data_.keys())\n",
    "df = pd.DataFrame.from_dict(combined_data_,orient='index')\n",
    "df = df.dropna(axis=1,how='any')\n",
    "#print(df.shape)\n",
    "#print(df)\n",
    "labels = df['kernelname'].tolist()\n",
    "df2 = df.drop(columns=['kernelname'])\n",
    "df2_values = df2.values\n",
    "data = scale(df2.values)\n",
    "n_samples, n_features = data.shape\n",
    "print(n_samples, n_features)\n",
    "X = data"
   ]
  },
  {
   "cell_type": "code",
   "execution_count": 34,
   "metadata": {},
   "outputs": [],
   "source": [
    "#Scaling X\n",
    "from sklearn.preprocessing import StandardScaler\n",
    "X = StandardScaler().fit_transform(X)"
   ]
  },
  {
   "cell_type": "code",
   "execution_count": 46,
   "metadata": {},
   "outputs": [
    {
     "name": "stdout",
     "output_type": "stream",
     "text": [
      "BR: Mean squared error: -0.619408 (+/- 0.076589) \n",
      "KNN: Mean squared error: -0.737759 (+/- 0.114930) \n",
      "SVM: Mean squared error: -0.774578 (+/- 0.149959) \n",
      "RF: Mean squared error: -0.626301 (+/- 0.077045) \n"
     ]
    },
    {
     "data": {
      "image/png": "[encoded data removed]",
      "text/plain": [
       "<Figure size 432x288 with 1 Axes>"
      ]
     },
     "metadata": {},
     "output_type": "display_data"
    }
   ],
   "source": [
    "# Compare Algorithms\n",
    "import pandas\n",
    "import matplotlib.pyplot as plt\n",
    "from sklearn import model_selection\n",
    "from sklearn.linear_model import LogisticRegression\n",
    "from sklearn.linear_model import BayesianRidge\n",
    "#from sklearn.tree import DecisionTreeClassifier\n",
    "from sklearn.ensemble import RandomForestRegressor\n",
    "from sklearn.neighbors import KNeighborsRegressor\n",
    "from sklearn.discriminant_analysis import LinearDiscriminantAnalysis\n",
    "from sklearn.naive_bayes import GaussianNB\n",
    "from sklearn import svm\n",
    "from sklearn.gaussian_process.kernels import RBF\n",
    "\n",
    "# load dataset\n",
    "#url = \"https://raw.githubusercontent.com/jbrownlee/Datasets/master/pima-indians-diabetes.data.csv\"\n",
    "#names = ['preg', 'plas', 'pres', 'skin', 'test', 'mass', 'pedi', 'age', 'class']\n",
    "#dataframe = pandas.read_csv(url, names=names)\n",
    "#array = dataframe.values\n",
    "#X = array[:,0:8]\n",
    "#Y = array[:,8]\n",
    "# prepare configuration for cross validation test harness\n",
    "seed = 7\n",
    "# prepare models\n",
    "models = []\n",
    "#models.append(('LR', LogisticRegression()))\n",
    "#models.append(('LDA', LinearDiscriminantAnalysis()))\n",
    "#models.append(('CART', DecisionTreeClassifier()))\n",
    "#models.append(('NB', GaussianNB()))\n",
    "models.append(('BR', BayesianRidge(compute_score=True)))\n",
    "models.append(('KNN', KNeighborsRegressor()))\n",
    "models.append(('SVM', SVR()))\n",
    "models.append(('RF', RandomForestRegressor(max_depth=2, random_state=0,n_estimators=100)))\n",
    "# evaluate each model in turn\n",
    "results = []\n",
    "names = []\n",
    "scoring = 'accuracy'\n",
    "for name, model in models:\n",
    "    kfold = model_selection.KFold(n_splits=10, random_state=seed)\n",
    "    #cv = KFold(len(y), nfolds)\n",
    "    #cv_results = model_selection.cross_val_score(model, X, Y, cv=kfold, scoring=scoring)\n",
    "    cv_results = model_selection.cross_val_score(model, X, Y, cv=kfold, scoring=\"neg_mean_squared_error\")\n",
    "    results.append(cv_results)\n",
    "    names.append(name)\n",
    "    msg = \"%s: Mean squared error: %f (+/- %f) \" % (name, cv_results.mean(), cv_results.std())\n",
    "    print(msg)\n",
    "\n",
    "\n",
    "\n",
    "# boxplot algorithm comparison\n",
    "fig = plt.figure()\n",
    "fig.suptitle('Algorithm Comparison')\n",
    "ax = fig.add_subplot(111)\n",
    "plt.boxplot(results)\n",
    "ax.set_xticklabels(names)\n",
    "plt.show()"
   ]
  },
  {
   "cell_type": "code",
   "execution_count": null,
   "metadata": {},
   "outputs": [],
   "source": []
  }
 ],
 "metadata": {
  "kernelspec": {
   "display_name": "Python 3",
   "language": "python",
   "name": "python3"
  },
  "language_info": {
   "codemirror_mode": {
    "name": "ipython",
    "version": 3
   },
   "file_extension": ".py",
   "mimetype": "text/x-python",
   "name": "python",
   "nbconvert_exporter": "python",
   "pygments_lexer": "ipython3",
   "version": "3.6.5"
  }
 },
 "nbformat": 4,
 "nbformat_minor": 2
}
