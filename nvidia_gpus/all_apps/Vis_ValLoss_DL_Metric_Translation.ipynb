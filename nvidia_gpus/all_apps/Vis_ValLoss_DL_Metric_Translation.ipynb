{
 "cells": [
  {
   "cell_type": "code",
   "execution_count": 5,
   "metadata": {},
   "outputs": [],
   "source": [
    "#Step 1\n",
    "import os\n",
    "import time\n",
    "import json\n",
    "import pickle\n",
    "import numpy as np\n",
    "import pandas as pd\n",
    "import matplotlib.pyplot as plt\n",
    "import matplotlib.mlab as mlab\n",
    "from scipy import stats\n",
    "from pylab import rcParams\n",
    "from sklearn.utils import check_random_state\n",
    "from sklearn.datasets import load_digits\n",
    "from sklearn.datasets import fetch_mldata\n",
    "from sklearn.decomposition import PCA\n",
    "from sklearn.preprocessing import scale\n",
    "from sklearn.preprocessing import MinMaxScaler\n",
    "from sklearn.cluster import KMeans\n",
    "from sklearn.mixture import GaussianMixture\n",
    "from sklearn.svm import LinearSVC, SVC\n",
    "from sklearn.linear_model import LinearRegression\n",
    "from sklearn.linear_model import LogisticRegression\n",
    "from sklearn import metrics\n",
    "from sklearn.metrics import pairwise_distances_argmin_min\n",
    "from sklearn.metrics import confusion_matrix\n",
    "from sklearn.metrics import precision_recall_curve\n",
    "from sklearn.metrics import average_precision_score\n",
    "from sklearn.model_selection import cross_val_score\n",
    "from sklearn.model_selection import train_test_split\n",
    "from sklearn.ensemble import RandomForestRegressor, \\\n",
    "    GradientBoostingRegressor\n",
    "from sklearn.metrics import mean_squared_error\n",
    "\n",
    "# Importing random forest model and libraries\n",
    "from sklearn.model_selection import train_test_split, GridSearchCV, ShuffleSplit\n",
    "from sklearn.model_selection import cross_val_score\n",
    "import scipy as sp\n",
    "import pickle as pkl\n",
    "%matplotlib inline"
   ]
  },
  {
   "cell_type": "code",
   "execution_count": 6,
   "metadata": {},
   "outputs": [
    {
     "data": {
      "text/html": [
       "<style>.container {width:100% !important; }</style>"
      ],
      "text/plain": [
       "<IPython.core.display.HTML object>"
      ]
     },
     "metadata": {},
     "output_type": "display_data"
    }
   ],
   "source": [
    "from IPython.core.display import display, HTML\n",
    "display(HTML(\"<style>.container {width:100% !important; }</style>\"))"
   ]
  },
  {
   "cell_type": "code",
   "execution_count": null,
   "metadata": {},
   "outputs": [],
   "source": []
  },
  {
   "cell_type": "code",
   "execution_count": 9,
   "metadata": {},
   "outputs": [],
   "source": [
    "import pandas as pd\n",
    "if True:\n",
    "    df_P100 = pd.read_csv('p100_all_data.csv', index_col = 0)\n",
    "    df_V100 = pd.read_csv('v100_all_data.csv', index_col = 0)\n",
    "    new_df = pd.read_csv('new_df.csv', index_col = 0)\n",
    "    all_data = pd.read_csv('all_data.csv', index_col = 0)\n",
    "if True:\n",
    "    all_data = all_data.dropna(axis=1,how='any')"
   ]
  },
  {
   "cell_type": "code",
   "execution_count": 15,
   "metadata": {},
   "outputs": [
    {
     "data": {
      "text/plain": [
       "(30622, 120)"
      ]
     },
     "execution_count": 15,
     "metadata": {},
     "output_type": "execute_result"
    }
   ],
   "source": [
    "all_data.shape\n",
    "new_df.shape"
   ]
  },
  {
   "cell_type": "code",
   "execution_count": 11,
   "metadata": {},
   "outputs": [],
   "source": [
    "#all_data['dram_through']"
   ]
  },
  {
   "cell_type": "code",
   "execution_count": 12,
   "metadata": {},
   "outputs": [],
   "source": [
    "## new_df = P100 Metrics with V100 IPC\n",
    "df_new = new_df\n",
    "\n",
    "#grabbing IPC values\n",
    "newdf_ipc = df_new.drop(columns=['shared_utilization','stall_other','single_precision_fu_utilization','architecture','input','application_name','kernelname'])\n",
    "newdf_ipc = newdf_ipc['ipc']\n",
    "new_ipc_values = newdf_ipc.values\n",
    "\n",
    "df_new_norm = df_new.drop(columns=['shared_utilization','stall_other','single_precision_fu_utilization','architecture','input','application_name','kernelname','ipc'])\n",
    "df_new_norm = df_new_norm.values\n",
    "df_new_norm = MinMaxScaler().fit_transform(df_new_norm)\n",
    "\n",
    "# Import `train_test_split` from `sklearn.model_selection`\n",
    "from sklearn.model_selection import train_test_split\n",
    "X_new = df_new_norm\n",
    "Y_new = new_ipc_values\n",
    "\n",
    "# Split the data up in train and test sets\n",
    "X_trainnew, X_testnew, y_trainnew, y_testnew = train_test_split(X_new, Y_new, test_size=0.33, random_state=42)\n",
    "\n"
   ]
  },
  {
   "cell_type": "code",
   "execution_count": 13,
   "metadata": {},
   "outputs": [],
   "source": [
    "#Step 2\n",
    "from sklearn.preprocessing import StandardScaler\n",
    "from sklearn.preprocessing import MinMaxScaler\n",
    "# Creates array of ipc values and array of metrics \n",
    "def process(new_df,test_size):\n",
    "    ipc_values = new_df['ipc'].values\n",
    "    new_def_norm = new_df.drop(columns=['shared_utilization','stall_other','single_precision_fu_utilization','architecture','input','ipc','application_name','kernelname'])\n",
    "\n",
    "    #v100+p100 combined\n",
    "    new_def_norm_values = new_def_norm.values\n",
    "    new_def_norm = MinMaxScaler().fit_transform(new_def_norm_values)\n",
    "\n",
    "    ###!!!!!!!!!!!!!!!!!!!!!!!!!!!!!!!!!!!!!####\n",
    "    X_VP = new_def_norm \n",
    "    Y_VP = ipc_values\n",
    "\n",
    "    # Split the data up in train and test sets\n",
    "    X_trainVP, X_testVP, y_trainVP, y_testVP = train_test_split(X_VP, Y_VP, test_size=test_size, random_state=42)\n",
    "\n",
    "    # Import `StandardScaler` from `sklearn.preprocessing`\n",
    "    from sklearn.preprocessing import StandardScaler\n",
    "\n",
    "    # Define the scaler \n",
    "    #scalerVP = StandardScaler().fit(X_trainVP)\n",
    "    scalerVP = StandardScaler().fit(X_trainVP)\n",
    "\n",
    "    # Scale the train set\n",
    "    X_trainVP = scalerVP.transform(X_trainVP)\n",
    "\n",
    "    # Scale the test set\n",
    "    X_testVP = scalerVP.transform(X_testVP)\n",
    "    \n",
    "    return X_trainVP, X_testVP, y_trainVP, y_testVP, X_VP, Y_VP\n",
    "\n"
   ]
  },
  {
   "cell_type": "code",
   "execution_count": 164,
   "metadata": {},
   "outputs": [],
   "source": [
    "from sklearn.preprocessing import StandardScaler\n",
    "from sklearn.preprocessing import MinMaxScaler\n",
    "# Creates array of ipc values and array of metrics \n",
    "def process_keep(new_df):\n",
    "    #new_def_norm = new_df.drop(columns=['shared_utilization','stall_other','single_precision_fu_utilization','architecture','input','ipc','application_name','kernelname'])\n",
    "    new_def_norm = new_df.drop(columns=['architecture','input','application_name','kernelname'])\n",
    "\n",
    "    #v100+p100 combined\n",
    "    new_def_norm_values = new_def_norm.values\n",
    "    ##new_def_norm = MinMaxScaler().fit_transform(new_def_norm_values)\n",
    "\n",
    "    ###!!!!!!!!!!!!!!!!!!!!!!!!!!!!!!!!!!!!!####\n",
    "    ##X_VP = new_def_norm \n",
    "\n",
    "    # NOT SPLITTING HERE - Split the data up in train and test sets\n",
    "    ##X_trainVP, X_testVP, y_trainVP, y_testVP = train_test_split(X_VP, Y_VP, test_size=test_size, random_state=42)\n",
    "\n",
    "    # Import `StandardScaler` from `sklearn.preprocessing`\n",
    "    from sklearn.preprocessing import StandardScaler\n",
    "\n",
    "    # Define the scaler \n",
    "    #scalerVP = StandardScaler().fit(X_trainVP)\n",
    "    ##scalerVP = StandardScaler().fit(X_VP)\n",
    "    scalerVP = StandardScaler().fit(new_def_norm_values)\n",
    "\n",
    "    # Scale the train set\n",
    "    ##X_trainVP = scalerVP.transform(X_VP)\n",
    "    X_trainVP = scalerVP.transform(new_def_norm_values)\n",
    "\n",
    "    # Scale the test set\n",
    "    #X_testVP = scalerVP.transform(X_testVP)\n",
    "    \n",
    "    return X_trainVP\n"
   ]
  },
  {
   "cell_type": "code",
   "execution_count": 71,
   "metadata": {},
   "outputs": [],
   "source": [
    "#Creating two data sets \n",
    "from_scratch = False\n",
    "df = pd.read_csv('all_data.csv', index_col = 0)\n",
    "df = df.dropna(axis=1,how='any')\n",
    "if from_scratch:\n",
    "    df_check = None\n",
    "    frames = []\n",
    "    frame2 = []\n",
    "    df_v = []\n",
    "    df_p = []\n",
    "    for name, item in df.groupby(['kernelname', 'input']):\n",
    "        df_1 = df[ df['kernelname'] == name[0] ]\n",
    "        df_2 = df_1[ df_1['input'] == name[1] ]\n",
    "        if len(df_2) == 2:\n",
    "            df_v = df_2[df_2['architecture'] == 'V100']\n",
    "            df_p = df_2[df_2['architecture'] == 'P100']\n",
    "            #df_p['ipc'][0] = df_v.iloc[0]['ipc']\n",
    "            frames.append(df_p)\n",
    "            frame2.append(df_v)\n",
    "\n",
    "    new_df = pd.concat(frames)\n",
    "    new_v = pd.concat(frame2)"
   ]
  },
  {
   "cell_type": "code",
   "execution_count": 72,
   "metadata": {},
   "outputs": [],
   "source": [
    "#print(new_df.shape)\n",
    "#print(new_v.shape)"
   ]
  },
  {
   "cell_type": "code",
   "execution_count": 17,
   "metadata": {},
   "outputs": [],
   "source": [
    "## START HERE\n",
    "from_scratch = False\n",
    "#####!!!!! start here !!! new data analysis!!!####"
   ]
  },
  {
   "cell_type": "code",
   "execution_count": 21,
   "metadata": {},
   "outputs": [],
   "source": [
    "\n",
    "if from_scratch:\n",
    "    new_df.to_csv('cor_p100.csv')\n",
    "    new_v.to_csv('cor_v100.csv')\n",
    "else:\n",
    "    #new_p = pd.read_csv('cor_p100.csv', index_col = 0)\n",
    "    #new_v = pd.read_csv('cor_v100.csv', index_col = 0)\n",
    "    #new_p = pd.read_csv('/Users/yzamora/Desktop/ActiveLearningFrameworkTutorial/spec_p100.csv', index_col = 0) #using specified kernels\n",
    "    #new_v = pd.read_csv('/Users/yzamora/Desktop/ActiveLearningFrameworkTutorial/spec_v100.csv', index_col = 0) #using specified kernels\n",
    "    new_p = pd.read_csv('/Users/yzamora/Desktop/ActiveLearningFrameworkTutorial/with_same_base_P100/AM_AL_spec_P100_10Per.csv', index_col = 0)\n",
    "    new_p = pd.read_csv('/Users/yzamora/Desktop/ActiveLearningFrameworkTutorial/with_same_base_P100/AM_AL_spec_V100_10Per.csv', index_col = 0)\n",
    "    \n",
    "  "
   ]
  },
  {
   "cell_type": "code",
   "execution_count": 22,
   "metadata": {},
   "outputs": [],
   "source": [
    "#print(new_p.shape)\n",
    "#print(new_v.shape)\n",
    "# Need to get correct data shape + set from v100_spec_dataset "
   ]
  },
  {
   "cell_type": "code",
   "execution_count": 23,
   "metadata": {},
   "outputs": [],
   "source": [
    "#X_trainP, X_testP, y_trainP, y_testP, X_P, Y_P = process(new_p,.2)\n",
    "#X_trainV, X_testV, y_trainV, y_testV, X_V, Y_V = process(new_v,.2)"
   ]
  },
  {
   "cell_type": "code",
   "execution_count": 165,
   "metadata": {},
   "outputs": [],
   "source": [
    "##weighted mse\n",
    "import keras.backend as K\n",
    "def weighted_mse(loss_weight):\n",
    "    def loss(y_true, y_pred):\n",
    "        #import pdb; pdb.set_trace()\n",
    "        #y_true = K.variable(y_true)\n",
    "        #y_pred = K.variable(y_pred)\n",
    "        #loss = K.mean(K.dot(K.square(y_true - y_pred),loss_weight))\n",
    "        loss = K.mean(K.square(y_true - y_pred)*loss_weight)\n",
    "        return loss\n",
    "\n",
    "    return loss\n",
    "\n",
    "#in model.compile: loss=weighted_mse(loss_weight) instead of loss='mean_squared_error'"
   ]
  },
  {
   "cell_type": "code",
   "execution_count": 166,
   "metadata": {},
   "outputs": [],
   "source": [
    "#ipc = 96, dram_read_throughput = 33,dram_write_throughput = 34,  ldst_fu_utilization=105\n",
    "#cf_fu_utilization = 106, \n",
    "#loss_weight = np.ones((116,1)) ##setting model to zero on those two items and see how it changes\n",
    "loss_weight = np.zeros(116)\n",
    "loss_weight[96] = 0#17\n",
    "loss_weight[33] = 100#15 ## increasing dram write and read weights\n",
    "loss_weight[34] = 100#14\n",
    "loss_weight[105] = 0#13\n",
    "loss_weight[106] = 0#10\n",
    "#print(loss_weight)"
   ]
  },
  {
   "cell_type": "code",
   "execution_count": 167,
   "metadata": {},
   "outputs": [
    {
     "data": {
      "text/plain": [
       "'\\n1. how does p100 ipc to predict v100 ipc (fit a line)\\n\\n'"
      ]
     },
     "execution_count": 167,
     "metadata": {},
     "output_type": "execute_result"
    }
   ],
   "source": [
    "#need baselines\n",
    "\"\"\"\n",
    "1. how does p100 ipc to predict v100 ipc (fit a line)\n",
    "\n",
    "\"\"\""
   ]
  },
  {
   "cell_type": "code",
   "execution_count": 168,
   "metadata": {},
   "outputs": [],
   "source": [
    "#step 3\n",
    "import numpy\n",
    "import pandas\n",
    "from keras.models import Sequential\n",
    "from keras.layers import Dense\n",
    "from keras.wrappers.scikit_learn import KerasRegressor\n",
    "from sklearn.model_selection import cross_val_score\n",
    "from sklearn.model_selection import KFold\n",
    "from sklearn.preprocessing import StandardScaler\n",
    "from sklearn.pipeline import Pipeline\n",
    "from keras import regularizers\n",
    "\n",
    "# Create your first MLP in Keras\n",
    "from keras.models import Sequential\n",
    "from keras.layers import Dense\n",
    "import numpy\n",
    "# fix random seed for reproducibility\n",
    "numpy.random.seed(7)\n",
    "# load pima indians dataset\n",
    "#dataset = pd.read_csv(\"p100_only.csv\", delimiter=\",\").values\n",
    "# split into input (X) and output (Y) variables\n",
    "#X = dataset[:,0:8]\n",
    "#Y = dataset[:,8]\n",
    "# create model\n",
    "def my_model(l2_weight):\n",
    "    model = Sequential()\n",
    "    \"\"\"\n",
    "    #original simple dl model\n",
    "    model.add(Dense(12, input_dim=112, kernel_initializer='normal',activation='relu'))\n",
    "    model.add(Dense(8, activation='relu'))\n",
    "    model.add(Dense(8, activation='relu'))\n",
    "    model.add(Dense(6, activation='relu'))\n",
    "    model.add(Dense(1, activation='relu'))\"\"\"\n",
    "    #early stopping, smaller layers, less layers\n",
    "    model.add(Dense(130, input_dim=116, kernel_initializer='normal',activation='relu', kernel_regularizer=regularizers.l2(l2_weight)))\n",
    "    model.add(Dense(125, activation='relu',kernel_regularizer=regularizers.l2(l2_weight)))\n",
    "    #model.add(Dense(100, activation='relu'))\n",
    "    #model.add(Dense(90, activation='relu'))\n",
    "    #model.add(Dense(100, activation='relu'))\n",
    "    #model.add(Dense(110, activation='relu'))\n",
    "    #rerun and check everything is normalized correctly\n",
    "    model.add(Dense(125, activation='relu', kernel_regularizer=regularizers.l2(l2_weight)))\n",
    "    model.add(Dense(116, activation='sigmoid', kernel_regularizer=regularizers.l2(l2_weight)))\n",
    "    # Compile model\n",
    "    #mean absolute percentage error - indicating that we seek to minimize the mean percentage difference between \n",
    "    #predicted ipc and the actual ipc\n",
    "    #loss_weight = vector of weights \n",
    "    #model.compile(loss='mse', optimizer='adam', metrics=['mse','mae'])\n",
    "    model.compile(loss=weighted_mse(loss_weight),optimizer='adam',metrics=['mse','mae'])\n",
    "    # Fit the model\n",
    "    ## model.fit(X, Y, epochs=10, batch_size=10) ##works\n",
    "    #look at weighted mean square error - putting more weight on certain metrics \n",
    "    \"\"\"\n",
    "    # evaluate the model\n",
    "    scores = model.evaluate(X, Y)\n",
    "    print(\"\\n%s: %.2f%%\" % (model.metrics_names[1], scores[1]*100))\"\"\"\n",
    "    return model"
   ]
  },
  {
   "cell_type": "code",
   "execution_count": 169,
   "metadata": {},
   "outputs": [
    {
     "data": {
      "text/plain": [
       "\"\\nNvidia gives a rough classifier - below and above threshold\\n- which applications would change class - 'from memory bound to compute bound'\\n- tool where to focus benchmarking applications\\n- make sure to get baseline\\n\""
      ]
     },
     "execution_count": 169,
     "metadata": {},
     "output_type": "execute_result"
    }
   ],
   "source": [
    "###NOTES\n",
    "\"\"\"\n",
    "Nvidia gives a rough classifier - below and above threshold\n",
    "- which applications would change class - 'from memory bound to compute bound'\n",
    "- tool where to focus benchmarking applications\n",
    "- make sure to get baseline\n",
    "\"\"\""
   ]
  },
  {
   "cell_type": "code",
   "execution_count": null,
   "metadata": {},
   "outputs": [],
   "source": []
  },
  {
   "cell_type": "code",
   "execution_count": 170,
   "metadata": {},
   "outputs": [
    {
     "data": {
      "text/plain": [
       "\"\\nfrom keras.callbacks import EarlyStopping\\nfrom keras.callbacks import ModelCheckpoint\\n\\n#early stopping - once validation error stops improving, cut it off\\nearlystop = EarlyStopping(monitor='val_loss', min_delta=0.00001, patience=100, verbose=1, mode='min')\\ncallbacks=earlystop\\np_model = my_model()\\nmc = ModelCheckpoint('filename.h5', monitor='val_loss', mode='min', verbose=1,save_best_only=True)\\n#callbacks_list = [earlystop, mc]\\np_model.fit(X_trainP, X_trainV, epochs=2000, batch_size=10000, verbose=1,validation_split=0.7,callbacks=[earlystop,mc])\\n\\n\""
      ]
     },
     "execution_count": 170,
     "metadata": {},
     "output_type": "execute_result"
    }
   ],
   "source": [
    "\"\"\"\n",
    "from keras.callbacks import EarlyStopping\n",
    "from keras.callbacks import ModelCheckpoint\n",
    "\n",
    "#early stopping - once validation error stops improving, cut it off\n",
    "earlystop = EarlyStopping(monitor='val_loss', min_delta=0.00001, patience=100, verbose=1, mode='min')\n",
    "callbacks=earlystop\n",
    "p_model = my_model()\n",
    "mc = ModelCheckpoint('filename.h5', monitor='val_loss', mode='min', verbose=1,save_best_only=True)\n",
    "#callbacks_list = [earlystop, mc]\n",
    "p_model.fit(X_trainP, X_trainV, epochs=2000, batch_size=10000, verbose=1,validation_split=0.7,callbacks=[earlystop,mc])\n",
    "\n",
    "\"\"\""
   ]
  },
  {
   "cell_type": "code",
   "execution_count": 171,
   "metadata": {},
   "outputs": [],
   "source": [
    "#Specified validation sets\n",
    "XV_val = np.load('XV_val_data_all_metrics.npy')\n",
    "XP_val = np.load('XP_val_data_all_metrics.npy')"
   ]
  },
  {
   "cell_type": "code",
   "execution_count": 156,
   "metadata": {},
   "outputs": [],
   "source": [
    "#opening columns\n",
    "XP_column_names = np.load('column_names.npy')\n",
    "column_name_dict = {}\n",
    "for i,name in enumerate(XP_column_names):\n",
    "    column_name_dict[name] = i"
   ]
  },
  {
   "cell_type": "code",
   "execution_count": 157,
   "metadata": {},
   "outputs": [
    {
     "name": "stdout",
     "output_type": "stream",
     "text": [
      "(116,)\n",
      "34\n",
      "33\n"
     ]
    }
   ],
   "source": [
    "print(XP_column_names.shape)\n",
    "#print(XP_column_names)\n",
    "print(column_name_dict['dram_write_throughput'])\n",
    "print(column_name_dict['dram_read_throughput'])\n",
    "\n",
    "#XP_val[:,23]\n",
    "#ipc = 96, dram_read_throughput = 33,dram_write_throughput = 34,  ldst_fu_utilization=105\n",
    "#cf_fu_utilization = 106, "
   ]
  },
  {
   "cell_type": "code",
   "execution_count": 178,
   "metadata": {},
   "outputs": [],
   "source": [
    "# Returns a list of weights for the specified dataset\n",
    "# indices (`indices`), given the parent dataframe (`df`)\n",
    "# and a dictionary of weights to apply. Application names\n",
    "# that are not included in `weights` will be set to 1.0\n",
    "# does my model put the points in the right region in comparison to the truth values\n",
    "# you know will be higher for these applications on V100 than P100 - can identify which applications this happens\n",
    "# !!!!!is there a point where it becomes accurate enough to be useful?   AM_AL_spec_P100_10Per.csv\n",
    "##new_p = pd.read_csv('/Users/yzamora/Desktop/ActiveLearningFrameworkTutorial/with_same_base_P100/AM_AL_spec_P100_20per.csv', index_col = 0) #using specified kernels\n",
    "new_p = pd.read_csv('/Users/yzamora/power/nvidia_gpus/all_apps/predicted_true_p100.csv')\n",
    "    \n",
    "def get_w_vec(df, weights, indices=None):\n",
    "    w = []\n",
    "    indices = indices or [i for i in range(len(df))]\n",
    "    for ind in indices:\n",
    "        default = 1.0\n",
    "        name = df.iloc[ind][\"application_name\"]\n",
    "        w.append(weights.get(name, default))\n",
    "    return w\n",
    "\n",
    "train_weights = get_w_vec(\n",
    "    new_p,\n",
    "    {\n",
    "        \"backprop\": 1, #-20.0,\n",
    "        \"stream\": 1, #10000.0,\n",
    "        \"leuokocyte\": 1, #10000.0,\n",
    "        \"hybridsort\": 1000, #10000.0,\n",
    "        \"kmeans\": 1.0\n",
    "    },\n",
    ")  \n",
    "\n",
    "#len(new_p)\n",
    "#train_weights"
   ]
  },
  {
   "cell_type": "code",
   "execution_count": 179,
   "metadata": {},
   "outputs": [],
   "source": [
    "new_p = pd.read_csv('/Users/yzamora/Desktop/ActiveLearningFrameworkTutorial/with_same_base_P100/AM_AL_spec_P100_20per.csv', index_col = 0) #\n",
    "#new_p['kernelname']\n",
    "#new_p"
   ]
  },
  {
   "cell_type": "markdown",
   "metadata": {},
   "source": [
    "## Running model with various training data sizes"
   ]
  },
  {
   "cell_type": "code",
   "execution_count": 180,
   "metadata": {},
   "outputs": [],
   "source": [
    "#step 4\n",
    "from keras.callbacks import EarlyStopping\n",
    "from keras.callbacks import ModelCheckpoint\n",
    "all_data = False\n",
    "p100_p100 = False\n",
    "p100_v100 = True\n",
    "def testing_training_size(regularization):\n",
    "    #training size decreases\n",
    "    if all_data:\n",
    "        new_p = pd.read_csv('cor_p100.csv', index_col = 0)\n",
    "        new_v = pd.read_csv('cor_v100.csv', index_col = 0)\n",
    "    else: \n",
    "        ##new_p = pd.read_csv('/Users/yzamora/Desktop/ActiveLearningFrameworkTutorial/with_same_base_P100/AM_AL_spec_P100_20per.csv', index_col = 0) #using specified kernels\n",
    "        ##new_v = pd.read_csv('/Users/yzamora/Desktop/ActiveLearningFrameworkTutorial/with_same_base_P100/AM_AL_spec_V100_20per.csv', index_col = 0)\n",
    "        new_p = pd.read_csv('/Users/yzamora/power/nvidia_gpus/all_apps/predicted_true_p100.csv') #using specified kernels\n",
    "        new_v = pd.read_csv('/Users/yzamora/power/nvidia_gpus/all_apps/predicted_true_v100.csv')\n",
    "        \n",
    "        #X_trainP, X_testP, y_trainP, y_testP, X_P, Y_P = process(new_p,test_size)\n",
    "        #X_trainV, X_testV, y_trainV, y_testV, X_V, Y_V = process(new_v,test_size)\n",
    "        #import pdb; pdb.set_trace()\n",
    "        #need to preprocess data with splitting it\n",
    "        X_trainP = process_keep(new_p)\n",
    "        X_trainV = process_keep(new_v)\n",
    "\n",
    "        h_model = my_model(regularization)\n",
    "        #pass in validation data - remove validation split, do not split training set again\n",
    "        #history = h_model.fit(X_trainP, X_trainV, epochs=100, batch_size=500,  verbose=1, validation_split=0.2)\n",
    "        earlystop = EarlyStopping(monitor='val_loss', min_delta=0.00001, patience=100, verbose=1, mode='min')\n",
    "        mc = ModelCheckpoint('membounds_dram_kmeans_zerobias.h5', monitor='val_loss', mode='min', verbose=1,save_best_only=True)\n",
    "        #h_model.save('wsame_PV_dl_10per_woutbias' + str(int(regularization)) +'.h5')\n",
    "        #create a separate vector with a weight for the applications - put this vector into sample weight, after callbacks\n",
    "        #sample_weight = \n",
    "        history = h_model.fit(X_trainP, X_trainV, epochs=1000, batch_size=50,  verbose=1, validation_data=(XP_val,XV_val),callbacks=[earlystop,mc],sample_weight=np.array(train_weights))\n",
    "        #h_model.save('wAsame_PV_dl_10per_woutbias' + str(int(regularization)) +'.h5')\n",
    "        return history.history['val_loss']\n",
    "   \n",
    "        \n"
   ]
  },
  {
   "cell_type": "code",
   "execution_count": 181,
   "metadata": {},
   "outputs": [
    {
     "data": {
      "text/plain": [
       "(2534, 120)"
      ]
     },
     "execution_count": 181,
     "metadata": {},
     "output_type": "execute_result"
    }
   ],
   "source": [
    "#new_p = pd.read_csv('/Users/yzamora/Desktop/ActiveLearningFrameworkTutorial/with_same_base_P100/AM_AL_spec_P100_10per.csv', index_col = 0)\n",
    "#new_p['dram_utilization']\n",
    "new_v = pd.read_csv('/Users/yzamora/power/nvidia_gpus/all_apps/predicted_true_v100.csv')\n",
    "new_v.shape"
   ]
  },
  {
   "cell_type": "code",
   "execution_count": 182,
   "metadata": {},
   "outputs": [],
   "source": [
    "#over sampling certain datapoints "
   ]
  },
  {
   "cell_type": "code",
   "execution_count": 183,
   "metadata": {},
   "outputs": [
    {
     "name": "stdout",
     "output_type": "stream",
     "text": [
      "Train on 2534 samples, validate on 4116 samples\n",
      "Epoch 1/1000\n",
      "2534/2534 [==============================] - 4s 2ms/step - loss: 1.8563 - mean_squared_error: 0.9634 - mean_absolute_error: 0.5744 - val_loss: 0.3022 - val_mean_squared_error: 0.2159 - val_mean_absolute_error: 0.4071\n",
      "\n",
      "Epoch 00001: val_loss improved from inf to 0.30220, saving model to membounds_dram_kmeans_zerobias.h5\n",
      "Epoch 2/1000\n",
      "2534/2534 [==============================] - 0s 142us/step - loss: 1.7135 - mean_squared_error: 0.9729 - mean_absolute_error: 0.5736 - val_loss: 0.3020 - val_mean_squared_error: 0.1983 - val_mean_absolute_error: 0.4024\n",
      "\n",
      "Epoch 00002: val_loss improved from 0.30220 to 0.30198, saving model to membounds_dram_kmeans_zerobias.h5\n",
      "Epoch 3/1000\n",
      "2534/2534 [==============================] - 0s 148us/step - loss: 1.6557 - mean_squared_error: 0.9634 - mean_absolute_error: 0.5708 - val_loss: 0.3034 - val_mean_squared_error: 0.1932 - val_mean_absolute_error: 0.4004\n",
      "\n",
      "Epoch 00003: val_loss did not improve from 0.30198\n",
      "Epoch 4/1000\n",
      "2534/2534 [==============================] - 0s 152us/step - loss: 1.6278 - mean_squared_error: 0.9554 - mean_absolute_error: 0.5692 - val_loss: 0.3036 - val_mean_squared_error: 0.1878 - val_mean_absolute_error: 0.4001\n",
      "\n",
      "Epoch 00004: val_loss did not improve from 0.30198\n",
      "Epoch 5/1000\n",
      "2534/2534 [==============================] - 0s 146us/step - loss: 1.6313 - mean_squared_error: 0.9523 - mean_absolute_error: 0.5691 - val_loss: 0.3038 - val_mean_squared_error: 0.1853 - val_mean_absolute_error: 0.4010\n",
      "\n",
      "Epoch 00005: val_loss did not improve from 0.30198\n",
      "Epoch 6/1000\n",
      "2534/2534 [==============================] - 0s 150us/step - loss: 1.6284 - mean_squared_error: 0.9511 - mean_absolute_error: 0.5691 - val_loss: 0.3038 - val_mean_squared_error: 0.1846 - val_mean_absolute_error: 0.4022\n",
      "\n",
      "Epoch 00006: val_loss did not improve from 0.30198\n",
      "Epoch 7/1000\n",
      "2534/2534 [==============================] - 0s 151us/step - loss: 1.6272 - mean_squared_error: 0.9508 - mean_absolute_error: 0.5694 - val_loss: 0.3038 - val_mean_squared_error: 0.1847 - val_mean_absolute_error: 0.4030\n",
      "\n",
      "Epoch 00007: val_loss did not improve from 0.30198\n",
      "Epoch 8/1000\n",
      "2534/2534 [==============================] - 0s 157us/step - loss: 1.6270 - mean_squared_error: 0.9509 - mean_absolute_error: 0.5697 - val_loss: 0.3040 - val_mean_squared_error: 0.1850 - val_mean_absolute_error: 0.4035\n",
      "\n",
      "Epoch 00008: val_loss did not improve from 0.30198\n",
      "Epoch 9/1000\n",
      "2534/2534 [==============================] - 1s 216us/step - loss: 1.6160 - mean_squared_error: 0.9511 - mean_absolute_error: 0.5699 - val_loss: 0.3039 - val_mean_squared_error: 0.1852 - val_mean_absolute_error: 0.4038\n",
      "\n",
      "Epoch 00009: val_loss did not improve from 0.30198\n",
      "Epoch 10/1000\n",
      "2534/2534 [==============================] - 1s 239us/step - loss: 1.6159 - mean_squared_error: 0.9513 - mean_absolute_error: 0.5701 - val_loss: 0.3039 - val_mean_squared_error: 0.1854 - val_mean_absolute_error: 0.4040\n",
      "\n",
      "Epoch 00010: val_loss did not improve from 0.30198\n",
      "Epoch 11/1000\n",
      "2534/2534 [==============================] - 0s 180us/step - loss: 1.6157 - mean_squared_error: 0.9514 - mean_absolute_error: 0.5701 - val_loss: 0.3037 - val_mean_squared_error: 0.1854 - val_mean_absolute_error: 0.4040\n",
      "\n",
      "Epoch 00011: val_loss did not improve from 0.30198\n",
      "Epoch 12/1000\n",
      "2534/2534 [==============================] - 0s 178us/step - loss: 1.6156 - mean_squared_error: 0.9514 - mean_absolute_error: 0.5702 - val_loss: 0.3037 - val_mean_squared_error: 0.1855 - val_mean_absolute_error: 0.4041\n",
      "\n",
      "Epoch 00012: val_loss did not improve from 0.30198\n",
      "Epoch 13/1000\n",
      "2534/2534 [==============================] - 1s 228us/step - loss: 1.6156 - mean_squared_error: 0.9515 - mean_absolute_error: 0.5702 - val_loss: 0.3037 - val_mean_squared_error: 0.1855 - val_mean_absolute_error: 0.4041\n",
      "\n",
      "Epoch 00013: val_loss did not improve from 0.30198\n",
      "Epoch 14/1000\n",
      "2534/2534 [==============================] - 0s 193us/step - loss: 1.6155 - mean_squared_error: 0.9515 - mean_absolute_error: 0.5702 - val_loss: 0.3037 - val_mean_squared_error: 0.1855 - val_mean_absolute_error: 0.4041\n",
      "\n",
      "Epoch 00014: val_loss did not improve from 0.30198\n",
      "Epoch 15/1000\n",
      "2534/2534 [==============================] - 0s 142us/step - loss: 1.6155 - mean_squared_error: 0.9515 - mean_absolute_error: 0.5702 - val_loss: 0.3036 - val_mean_squared_error: 0.1855 - val_mean_absolute_error: 0.4041\n",
      "\n",
      "Epoch 00015: val_loss did not improve from 0.30198\n",
      "Epoch 16/1000\n",
      "2534/2534 [==============================] - 0s 151us/step - loss: 1.6157 - mean_squared_error: 0.9515 - mean_absolute_error: 0.5702 - val_loss: 0.3037 - val_mean_squared_error: 0.1855 - val_mean_absolute_error: 0.4041\n",
      "\n",
      "Epoch 00016: val_loss did not improve from 0.30198\n",
      "Epoch 17/1000\n",
      "2534/2534 [==============================] - 0s 137us/step - loss: 1.6154 - mean_squared_error: 0.9515 - mean_absolute_error: 0.5702 - val_loss: 0.3037 - val_mean_squared_error: 0.1855 - val_mean_absolute_error: 0.4041\n",
      "\n",
      "Epoch 00017: val_loss did not improve from 0.30198\n",
      "Epoch 18/1000\n",
      "2534/2534 [==============================] - 0s 141us/step - loss: 1.6156 - mean_squared_error: 0.9515 - mean_absolute_error: 0.5702 - val_loss: 0.3037 - val_mean_squared_error: 0.1855 - val_mean_absolute_error: 0.4041\n",
      "\n",
      "Epoch 00018: val_loss did not improve from 0.30198\n",
      "Epoch 19/1000\n",
      "2534/2534 [==============================] - 0s 144us/step - loss: 1.6153 - mean_squared_error: 0.9515 - mean_absolute_error: 0.5702 - val_loss: 0.3037 - val_mean_squared_error: 0.1855 - val_mean_absolute_error: 0.4041\n",
      "\n",
      "Epoch 00019: val_loss did not improve from 0.30198\n",
      "Epoch 20/1000\n",
      "2534/2534 [==============================] - 0s 143us/step - loss: 1.6154 - mean_squared_error: 0.9515 - mean_absolute_error: 0.5702 - val_loss: 0.3038 - val_mean_squared_error: 0.1855 - val_mean_absolute_error: 0.4041\n",
      "\n",
      "Epoch 00020: val_loss did not improve from 0.30198\n",
      "Epoch 21/1000\n",
      "2534/2534 [==============================] - 0s 144us/step - loss: 1.6157 - mean_squared_error: 0.9515 - mean_absolute_error: 0.5702 - val_loss: 0.3037 - val_mean_squared_error: 0.1855 - val_mean_absolute_error: 0.4041\n",
      "\n",
      "Epoch 00021: val_loss did not improve from 0.30198\n",
      "Epoch 22/1000\n",
      "2534/2534 [==============================] - 0s 155us/step - loss: 1.6154 - mean_squared_error: 0.9515 - mean_absolute_error: 0.5702 - val_loss: 0.3036 - val_mean_squared_error: 0.1855 - val_mean_absolute_error: 0.4041\n",
      "\n",
      "Epoch 00022: val_loss did not improve from 0.30198\n",
      "Epoch 23/1000\n",
      "2534/2534 [==============================] - 0s 159us/step - loss: 1.6154 - mean_squared_error: 0.9515 - mean_absolute_error: 0.5702 - val_loss: 0.3036 - val_mean_squared_error: 0.1855 - val_mean_absolute_error: 0.4041\n",
      "\n",
      "Epoch 00023: val_loss did not improve from 0.30198\n",
      "Epoch 24/1000\n",
      "2534/2534 [==============================] - 0s 135us/step - loss: 1.6152 - mean_squared_error: 0.9515 - mean_absolute_error: 0.5702 - val_loss: 0.3038 - val_mean_squared_error: 0.1855 - val_mean_absolute_error: 0.4041\n",
      "\n",
      "Epoch 00024: val_loss did not improve from 0.30198\n",
      "Epoch 25/1000\n",
      "2534/2534 [==============================] - 0s 136us/step - loss: 1.6153 - mean_squared_error: 0.9515 - mean_absolute_error: 0.5702 - val_loss: 0.3036 - val_mean_squared_error: 0.1855 - val_mean_absolute_error: 0.4041\n",
      "\n",
      "Epoch 00025: val_loss did not improve from 0.30198\n",
      "Epoch 26/1000\n",
      "2534/2534 [==============================] - 0s 137us/step - loss: 1.6152 - mean_squared_error: 0.9515 - mean_absolute_error: 0.5702 - val_loss: 0.3036 - val_mean_squared_error: 0.1855 - val_mean_absolute_error: 0.4041\n",
      "\n",
      "Epoch 00026: val_loss did not improve from 0.30198\n",
      "Epoch 27/1000\n",
      "2534/2534 [==============================] - 0s 139us/step - loss: 1.6152 - mean_squared_error: 0.9515 - mean_absolute_error: 0.5702 - val_loss: 0.3035 - val_mean_squared_error: 0.1855 - val_mean_absolute_error: 0.4041\n",
      "\n",
      "Epoch 00027: val_loss did not improve from 0.30198\n",
      "Epoch 28/1000\n",
      "2534/2534 [==============================] - 0s 172us/step - loss: 1.6151 - mean_squared_error: 0.9515 - mean_absolute_error: 0.5702 - val_loss: 0.3036 - val_mean_squared_error: 0.1855 - val_mean_absolute_error: 0.4041\n",
      "\n",
      "Epoch 00028: val_loss did not improve from 0.30198\n",
      "Epoch 29/1000\n"
     ]
    },
    {
     "name": "stdout",
     "output_type": "stream",
     "text": [
      "2534/2534 [==============================] - 1s 227us/step - loss: 1.6152 - mean_squared_error: 0.9515 - mean_absolute_error: 0.5702 - val_loss: 0.3035 - val_mean_squared_error: 0.1855 - val_mean_absolute_error: 0.4041\n",
      "\n",
      "Epoch 00029: val_loss did not improve from 0.30198\n",
      "Epoch 30/1000\n",
      "2534/2534 [==============================] - 0s 147us/step - loss: 1.6150 - mean_squared_error: 0.9515 - mean_absolute_error: 0.5702 - val_loss: 0.3036 - val_mean_squared_error: 0.1855 - val_mean_absolute_error: 0.4041\n",
      "\n",
      "Epoch 00030: val_loss did not improve from 0.30198\n",
      "Epoch 31/1000\n",
      "2534/2534 [==============================] - 0s 196us/step - loss: 1.6150 - mean_squared_error: 0.9515 - mean_absolute_error: 0.5702 - val_loss: 0.3033 - val_mean_squared_error: 0.1855 - val_mean_absolute_error: 0.4041\n",
      "\n",
      "Epoch 00031: val_loss did not improve from 0.30198\n",
      "Epoch 32/1000\n",
      "2534/2534 [==============================] - 1s 207us/step - loss: 1.6153 - mean_squared_error: 0.9515 - mean_absolute_error: 0.5702 - val_loss: 0.3034 - val_mean_squared_error: 0.1855 - val_mean_absolute_error: 0.4041\n",
      "\n",
      "Epoch 00032: val_loss did not improve from 0.30198\n",
      "Epoch 33/1000\n",
      "2534/2534 [==============================] - 1s 215us/step - loss: 1.6150 - mean_squared_error: 0.9515 - mean_absolute_error: 0.5702 - val_loss: 0.3035 - val_mean_squared_error: 0.1855 - val_mean_absolute_error: 0.4041\n",
      "\n",
      "Epoch 00033: val_loss did not improve from 0.30198\n",
      "Epoch 34/1000\n",
      "2534/2534 [==============================] - 0s 152us/step - loss: 1.6150 - mean_squared_error: 0.9515 - mean_absolute_error: 0.5702 - val_loss: 0.3036 - val_mean_squared_error: 0.1855 - val_mean_absolute_error: 0.4041\n",
      "\n",
      "Epoch 00034: val_loss did not improve from 0.30198\n",
      "Epoch 35/1000\n",
      "2534/2534 [==============================] - 0s 168us/step - loss: 1.6150 - mean_squared_error: 0.9515 - mean_absolute_error: 0.5702 - val_loss: 0.3034 - val_mean_squared_error: 0.1855 - val_mean_absolute_error: 0.4041\n",
      "\n",
      "Epoch 00035: val_loss did not improve from 0.30198\n",
      "Epoch 36/1000\n",
      "2534/2534 [==============================] - 0s 151us/step - loss: 1.6150 - mean_squared_error: 0.9515 - mean_absolute_error: 0.5702 - val_loss: 0.3033 - val_mean_squared_error: 0.1855 - val_mean_absolute_error: 0.4041\n",
      "\n",
      "Epoch 00036: val_loss did not improve from 0.30198\n",
      "Epoch 37/1000\n",
      "2534/2534 [==============================] - 0s 145us/step - loss: 1.6152 - mean_squared_error: 0.9515 - mean_absolute_error: 0.5702 - val_loss: 0.3035 - val_mean_squared_error: 0.1855 - val_mean_absolute_error: 0.4041\n",
      "\n",
      "Epoch 00037: val_loss did not improve from 0.30198\n",
      "Epoch 38/1000\n",
      "2534/2534 [==============================] - 0s 146us/step - loss: 1.6151 - mean_squared_error: 0.9515 - mean_absolute_error: 0.5702 - val_loss: 0.3034 - val_mean_squared_error: 0.1855 - val_mean_absolute_error: 0.4041\n",
      "\n",
      "Epoch 00038: val_loss did not improve from 0.30198\n",
      "Epoch 39/1000\n",
      "2534/2534 [==============================] - 0s 153us/step - loss: 1.6149 - mean_squared_error: 0.9515 - mean_absolute_error: 0.5702 - val_loss: 0.3035 - val_mean_squared_error: 0.1855 - val_mean_absolute_error: 0.4041\n",
      "\n",
      "Epoch 00039: val_loss did not improve from 0.30198\n",
      "Epoch 40/1000\n",
      "2534/2534 [==============================] - 0s 150us/step - loss: 1.6147 - mean_squared_error: 0.9515 - mean_absolute_error: 0.5702 - val_loss: 0.3035 - val_mean_squared_error: 0.1855 - val_mean_absolute_error: 0.4041\n",
      "\n",
      "Epoch 00040: val_loss did not improve from 0.30198\n",
      "Epoch 41/1000\n",
      "2534/2534 [==============================] - 0s 146us/step - loss: 1.6147 - mean_squared_error: 0.9515 - mean_absolute_error: 0.5702 - val_loss: 0.3035 - val_mean_squared_error: 0.1855 - val_mean_absolute_error: 0.4041\n",
      "\n",
      "Epoch 00041: val_loss did not improve from 0.30198\n",
      "Epoch 42/1000\n",
      "2534/2534 [==============================] - 0s 147us/step - loss: 1.6148 - mean_squared_error: 0.9515 - mean_absolute_error: 0.5702 - val_loss: 0.3034 - val_mean_squared_error: 0.1855 - val_mean_absolute_error: 0.4041\n",
      "\n",
      "Epoch 00042: val_loss did not improve from 0.30198\n",
      "Epoch 43/1000\n",
      "2534/2534 [==============================] - 0s 147us/step - loss: 1.6148 - mean_squared_error: 0.9515 - mean_absolute_error: 0.5702 - val_loss: 0.3034 - val_mean_squared_error: 0.1855 - val_mean_absolute_error: 0.4041\n",
      "\n",
      "Epoch 00043: val_loss did not improve from 0.30198\n",
      "Epoch 44/1000\n",
      "2534/2534 [==============================] - 0s 150us/step - loss: 1.6148 - mean_squared_error: 0.9515 - mean_absolute_error: 0.5702 - val_loss: 0.3035 - val_mean_squared_error: 0.1855 - val_mean_absolute_error: 0.4041\n",
      "\n",
      "Epoch 00044: val_loss did not improve from 0.30198\n",
      "Epoch 45/1000\n",
      "2534/2534 [==============================] - 0s 147us/step - loss: 1.6149 - mean_squared_error: 0.9515 - mean_absolute_error: 0.5702 - val_loss: 0.3036 - val_mean_squared_error: 0.1855 - val_mean_absolute_error: 0.4041\n",
      "\n",
      "Epoch 00045: val_loss did not improve from 0.30198\n",
      "Epoch 46/1000\n",
      "2534/2534 [==============================] - 0s 149us/step - loss: 1.6147 - mean_squared_error: 0.9515 - mean_absolute_error: 0.5702 - val_loss: 0.3036 - val_mean_squared_error: 0.1855 - val_mean_absolute_error: 0.4041\n",
      "\n",
      "Epoch 00046: val_loss did not improve from 0.30198\n",
      "Epoch 47/1000\n",
      "2534/2534 [==============================] - 0s 147us/step - loss: 1.6148 - mean_squared_error: 0.9515 - mean_absolute_error: 0.5702 - val_loss: 0.3035 - val_mean_squared_error: 0.1855 - val_mean_absolute_error: 0.4041\n",
      "\n",
      "Epoch 00047: val_loss did not improve from 0.30198\n",
      "Epoch 48/1000\n",
      "2534/2534 [==============================] - 0s 149us/step - loss: 1.6146 - mean_squared_error: 0.9515 - mean_absolute_error: 0.5702 - val_loss: 0.3034 - val_mean_squared_error: 0.1855 - val_mean_absolute_error: 0.4041\n",
      "\n",
      "Epoch 00048: val_loss did not improve from 0.30198\n",
      "Epoch 49/1000\n",
      "2534/2534 [==============================] - 0s 146us/step - loss: 1.6146 - mean_squared_error: 0.9515 - mean_absolute_error: 0.5702 - val_loss: 0.3035 - val_mean_squared_error: 0.1855 - val_mean_absolute_error: 0.4041\n",
      "\n",
      "Epoch 00049: val_loss did not improve from 0.30198\n",
      "Epoch 50/1000\n",
      "2534/2534 [==============================] - 0s 147us/step - loss: 1.6147 - mean_squared_error: 0.9515 - mean_absolute_error: 0.5702 - val_loss: 0.3035 - val_mean_squared_error: 0.1855 - val_mean_absolute_error: 0.4041\n",
      "\n",
      "Epoch 00050: val_loss did not improve from 0.30198\n",
      "Epoch 51/1000\n",
      "2534/2534 [==============================] - 0s 147us/step - loss: 1.6146 - mean_squared_error: 0.9515 - mean_absolute_error: 0.5702 - val_loss: 0.3034 - val_mean_squared_error: 0.1855 - val_mean_absolute_error: 0.4041\n",
      "\n",
      "Epoch 00051: val_loss did not improve from 0.30198\n",
      "Epoch 52/1000\n",
      "2534/2534 [==============================] - 0s 164us/step - loss: 1.6144 - mean_squared_error: 0.9515 - mean_absolute_error: 0.5702 - val_loss: 0.3034 - val_mean_squared_error: 0.1855 - val_mean_absolute_error: 0.4041\n",
      "\n",
      "Epoch 00052: val_loss did not improve from 0.30198\n",
      "Epoch 53/1000\n",
      "2534/2534 [==============================] - 0s 164us/step - loss: 1.6145 - mean_squared_error: 0.9515 - mean_absolute_error: 0.5702 - val_loss: 0.3033 - val_mean_squared_error: 0.1855 - val_mean_absolute_error: 0.4041\n",
      "\n",
      "Epoch 00053: val_loss did not improve from 0.30198\n",
      "Epoch 54/1000\n",
      "2534/2534 [==============================] - 0s 171us/step - loss: 1.6144 - mean_squared_error: 0.9515 - mean_absolute_error: 0.5702 - val_loss: 0.3033 - val_mean_squared_error: 0.1855 - val_mean_absolute_error: 0.4041\n",
      "\n",
      "Epoch 00054: val_loss did not improve from 0.30198\n",
      "Epoch 55/1000\n",
      "2534/2534 [==============================] - 1s 237us/step - loss: 1.6144 - mean_squared_error: 0.9515 - mean_absolute_error: 0.5702 - val_loss: 0.3035 - val_mean_squared_error: 0.1855 - val_mean_absolute_error: 0.4041\n",
      "\n",
      "Epoch 00055: val_loss did not improve from 0.30198\n",
      "Epoch 56/1000\n",
      "2534/2534 [==============================] - 0s 182us/step - loss: 1.6143 - mean_squared_error: 0.9515 - mean_absolute_error: 0.5702 - val_loss: 0.3035 - val_mean_squared_error: 0.1855 - val_mean_absolute_error: 0.4041\n",
      "\n",
      "Epoch 00056: val_loss did not improve from 0.30198\n",
      "Epoch 57/1000\n",
      "2534/2534 [==============================] - 1s 228us/step - loss: 1.6144 - mean_squared_error: 0.9515 - mean_absolute_error: 0.5702 - val_loss: 0.3032 - val_mean_squared_error: 0.1855 - val_mean_absolute_error: 0.4041\n"
     ]
    },
    {
     "name": "stdout",
     "output_type": "stream",
     "text": [
      "\n",
      "Epoch 00057: val_loss did not improve from 0.30198\n",
      "Epoch 58/1000\n",
      "2534/2534 [==============================] - 1s 234us/step - loss: 1.6143 - mean_squared_error: 0.9515 - mean_absolute_error: 0.5702 - val_loss: 0.3034 - val_mean_squared_error: 0.1855 - val_mean_absolute_error: 0.4041\n",
      "\n",
      "Epoch 00058: val_loss did not improve from 0.30198\n",
      "Epoch 59/1000\n",
      "2534/2534 [==============================] - 0s 161us/step - loss: 1.6142 - mean_squared_error: 0.9515 - mean_absolute_error: 0.5702 - val_loss: 0.3031 - val_mean_squared_error: 0.1855 - val_mean_absolute_error: 0.4041\n",
      "\n",
      "Epoch 00059: val_loss did not improve from 0.30198\n",
      "Epoch 60/1000\n",
      "2534/2534 [==============================] - 1s 219us/step - loss: 1.6143 - mean_squared_error: 0.9515 - mean_absolute_error: 0.5702 - val_loss: 0.3033 - val_mean_squared_error: 0.1855 - val_mean_absolute_error: 0.4041\n",
      "\n",
      "Epoch 00060: val_loss did not improve from 0.30198\n",
      "Epoch 61/1000\n",
      "2534/2534 [==============================] - 0s 195us/step - loss: 1.6142 - mean_squared_error: 0.9515 - mean_absolute_error: 0.5702 - val_loss: 0.3032 - val_mean_squared_error: 0.1855 - val_mean_absolute_error: 0.4041\n",
      "\n",
      "Epoch 00061: val_loss did not improve from 0.30198\n",
      "Epoch 62/1000\n",
      "2534/2534 [==============================] - 1s 226us/step - loss: 1.6141 - mean_squared_error: 0.9515 - mean_absolute_error: 0.5702 - val_loss: 0.3031 - val_mean_squared_error: 0.1855 - val_mean_absolute_error: 0.4041\n",
      "\n",
      "Epoch 00062: val_loss did not improve from 0.30198\n",
      "Epoch 63/1000\n",
      "2534/2534 [==============================] - 1s 236us/step - loss: 1.6142 - mean_squared_error: 0.9515 - mean_absolute_error: 0.5702 - val_loss: 0.3031 - val_mean_squared_error: 0.1855 - val_mean_absolute_error: 0.4041\n",
      "\n",
      "Epoch 00063: val_loss did not improve from 0.30198\n",
      "Epoch 64/1000\n",
      "2534/2534 [==============================] - 1s 204us/step - loss: 1.6139 - mean_squared_error: 0.9515 - mean_absolute_error: 0.5702 - val_loss: 0.3032 - val_mean_squared_error: 0.1855 - val_mean_absolute_error: 0.4041\n",
      "\n",
      "Epoch 00064: val_loss did not improve from 0.30198\n",
      "Epoch 65/1000\n",
      "2534/2534 [==============================] - 0s 179us/step - loss: 1.6140 - mean_squared_error: 0.9515 - mean_absolute_error: 0.5702 - val_loss: 0.3032 - val_mean_squared_error: 0.1855 - val_mean_absolute_error: 0.4041\n",
      "\n",
      "Epoch 00065: val_loss did not improve from 0.30198\n",
      "Epoch 66/1000\n",
      "2534/2534 [==============================] - 0s 189us/step - loss: 1.6139 - mean_squared_error: 0.9515 - mean_absolute_error: 0.5702 - val_loss: 0.3031 - val_mean_squared_error: 0.1855 - val_mean_absolute_error: 0.4041\n",
      "\n",
      "Epoch 00066: val_loss did not improve from 0.30198\n",
      "Epoch 67/1000\n",
      "2534/2534 [==============================] - 0s 194us/step - loss: 1.6139 - mean_squared_error: 0.9515 - mean_absolute_error: 0.5702 - val_loss: 0.3033 - val_mean_squared_error: 0.1855 - val_mean_absolute_error: 0.4041\n",
      "\n",
      "Epoch 00067: val_loss did not improve from 0.30198\n",
      "Epoch 68/1000\n",
      "2534/2534 [==============================] - 0s 130us/step - loss: 1.6142 - mean_squared_error: 0.9515 - mean_absolute_error: 0.5702 - val_loss: 0.3030 - val_mean_squared_error: 0.1855 - val_mean_absolute_error: 0.4041\n",
      "\n",
      "Epoch 00068: val_loss did not improve from 0.30198\n",
      "Epoch 69/1000\n",
      "2534/2534 [==============================] - 0s 128us/step - loss: 1.6139 - mean_squared_error: 0.9515 - mean_absolute_error: 0.5702 - val_loss: 0.3031 - val_mean_squared_error: 0.1855 - val_mean_absolute_error: 0.4041\n",
      "\n",
      "Epoch 00069: val_loss did not improve from 0.30198\n",
      "Epoch 70/1000\n",
      "2534/2534 [==============================] - 0s 174us/step - loss: 1.6136 - mean_squared_error: 0.9515 - mean_absolute_error: 0.5702 - val_loss: 0.3031 - val_mean_squared_error: 0.1855 - val_mean_absolute_error: 0.4041\n",
      "\n",
      "Epoch 00070: val_loss did not improve from 0.30198\n",
      "Epoch 71/1000\n",
      "2534/2534 [==============================] - 0s 125us/step - loss: 1.6137 - mean_squared_error: 0.9515 - mean_absolute_error: 0.5702 - val_loss: 0.3029 - val_mean_squared_error: 0.1855 - val_mean_absolute_error: 0.4041\n",
      "\n",
      "Epoch 00071: val_loss did not improve from 0.30198\n",
      "Epoch 72/1000\n",
      "2534/2534 [==============================] - 0s 128us/step - loss: 1.6138 - mean_squared_error: 0.9515 - mean_absolute_error: 0.5702 - val_loss: 0.3030 - val_mean_squared_error: 0.1855 - val_mean_absolute_error: 0.4041\n",
      "\n",
      "Epoch 00072: val_loss did not improve from 0.30198\n",
      "Epoch 73/1000\n",
      "2534/2534 [==============================] - 0s 158us/step - loss: 1.6135 - mean_squared_error: 0.9515 - mean_absolute_error: 0.5701 - val_loss: 0.3030 - val_mean_squared_error: 0.1855 - val_mean_absolute_error: 0.4041\n",
      "\n",
      "Epoch 00073: val_loss did not improve from 0.30198\n",
      "Epoch 74/1000\n",
      "2534/2534 [==============================] - 0s 175us/step - loss: 1.6136 - mean_squared_error: 0.9515 - mean_absolute_error: 0.5702 - val_loss: 0.3030 - val_mean_squared_error: 0.1855 - val_mean_absolute_error: 0.4041\n",
      "\n",
      "Epoch 00074: val_loss did not improve from 0.30198\n",
      "Epoch 75/1000\n",
      "2534/2534 [==============================] - 0s 110us/step - loss: 1.6136 - mean_squared_error: 0.9515 - mean_absolute_error: 0.5701 - val_loss: 0.3032 - val_mean_squared_error: 0.1855 - val_mean_absolute_error: 0.4041\n",
      "\n",
      "Epoch 00075: val_loss did not improve from 0.30198\n",
      "Epoch 76/1000\n",
      "2534/2534 [==============================] - 0s 149us/step - loss: 1.6134 - mean_squared_error: 0.9515 - mean_absolute_error: 0.5701 - val_loss: 0.3034 - val_mean_squared_error: 0.1855 - val_mean_absolute_error: 0.4041\n",
      "\n",
      "Epoch 00076: val_loss did not improve from 0.30198\n",
      "Epoch 77/1000\n",
      "2534/2534 [==============================] - 0s 143us/step - loss: 1.6137 - mean_squared_error: 0.9515 - mean_absolute_error: 0.5702 - val_loss: 0.3029 - val_mean_squared_error: 0.1855 - val_mean_absolute_error: 0.4041\n",
      "\n",
      "Epoch 00077: val_loss did not improve from 0.30198\n",
      "Epoch 78/1000\n",
      "2534/2534 [==============================] - 0s 163us/step - loss: 1.6135 - mean_squared_error: 0.9515 - mean_absolute_error: 0.5701 - val_loss: 0.3030 - val_mean_squared_error: 0.1855 - val_mean_absolute_error: 0.4041\n",
      "\n",
      "Epoch 00078: val_loss did not improve from 0.30198\n",
      "Epoch 79/1000\n",
      "2534/2534 [==============================] - 0s 135us/step - loss: 1.6134 - mean_squared_error: 0.9515 - mean_absolute_error: 0.5701 - val_loss: 0.3029 - val_mean_squared_error: 0.1855 - val_mean_absolute_error: 0.4041\n",
      "\n",
      "Epoch 00079: val_loss did not improve from 0.30198\n",
      "Epoch 80/1000\n",
      "2534/2534 [==============================] - 0s 119us/step - loss: 1.6131 - mean_squared_error: 0.9515 - mean_absolute_error: 0.5701 - val_loss: 0.3028 - val_mean_squared_error: 0.1855 - val_mean_absolute_error: 0.4041\n",
      "\n",
      "Epoch 00080: val_loss did not improve from 0.30198\n",
      "Epoch 81/1000\n",
      "2534/2534 [==============================] - 0s 161us/step - loss: 1.6132 - mean_squared_error: 0.9515 - mean_absolute_error: 0.5701 - val_loss: 0.3029 - val_mean_squared_error: 0.1855 - val_mean_absolute_error: 0.4041\n",
      "\n",
      "Epoch 00081: val_loss did not improve from 0.30198\n",
      "Epoch 82/1000\n",
      "2534/2534 [==============================] - 0s 190us/step - loss: 1.6133 - mean_squared_error: 0.9515 - mean_absolute_error: 0.5701 - val_loss: 0.3030 - val_mean_squared_error: 0.1855 - val_mean_absolute_error: 0.4041\n",
      "\n",
      "Epoch 00082: val_loss did not improve from 0.30198\n",
      "Epoch 83/1000\n",
      "2534/2534 [==============================] - 0s 183us/step - loss: 1.6132 - mean_squared_error: 0.9515 - mean_absolute_error: 0.5701 - val_loss: 0.3030 - val_mean_squared_error: 0.1855 - val_mean_absolute_error: 0.4041\n",
      "\n",
      "Epoch 00083: val_loss did not improve from 0.30198\n",
      "Epoch 84/1000\n",
      "2534/2534 [==============================] - 0s 182us/step - loss: 1.6129 - mean_squared_error: 0.9515 - mean_absolute_error: 0.5701 - val_loss: 0.3031 - val_mean_squared_error: 0.1855 - val_mean_absolute_error: 0.4041\n",
      "\n",
      "Epoch 00084: val_loss did not improve from 0.30198\n",
      "Epoch 85/1000\n",
      "2534/2534 [==============================] - 0s 146us/step - loss: 1.6127 - mean_squared_error: 0.9515 - mean_absolute_error: 0.5701 - val_loss: 0.3030 - val_mean_squared_error: 0.1855 - val_mean_absolute_error: 0.4041\n",
      "\n",
      "Epoch 00085: val_loss did not improve from 0.30198\n",
      "Epoch 86/1000\n",
      "2534/2534 [==============================] - 0s 116us/step - loss: 1.6126 - mean_squared_error: 0.9515 - mean_absolute_error: 0.5701 - val_loss: 0.3030 - val_mean_squared_error: 0.1855 - val_mean_absolute_error: 0.4041\n"
     ]
    },
    {
     "name": "stdout",
     "output_type": "stream",
     "text": [
      "\n",
      "Epoch 00086: val_loss did not improve from 0.30198\n",
      "Epoch 87/1000\n",
      "2534/2534 [==============================] - 0s 151us/step - loss: 1.6127 - mean_squared_error: 0.9515 - mean_absolute_error: 0.5701 - val_loss: 0.3028 - val_mean_squared_error: 0.1855 - val_mean_absolute_error: 0.4041\n",
      "\n",
      "Epoch 00087: val_loss did not improve from 0.30198\n",
      "Epoch 88/1000\n",
      "2534/2534 [==============================] - 0s 164us/step - loss: 1.6129 - mean_squared_error: 0.9515 - mean_absolute_error: 0.5701 - val_loss: 0.3030 - val_mean_squared_error: 0.1855 - val_mean_absolute_error: 0.4041\n",
      "\n",
      "Epoch 00088: val_loss did not improve from 0.30198\n",
      "Epoch 89/1000\n",
      "2534/2534 [==============================] - 0s 120us/step - loss: 1.6128 - mean_squared_error: 0.9515 - mean_absolute_error: 0.5701 - val_loss: 0.3030 - val_mean_squared_error: 0.1855 - val_mean_absolute_error: 0.4041\n",
      "\n",
      "Epoch 00089: val_loss did not improve from 0.30198\n",
      "Epoch 90/1000\n",
      "2534/2534 [==============================] - 0s 141us/step - loss: 1.6125 - mean_squared_error: 0.9515 - mean_absolute_error: 0.5701 - val_loss: 0.3029 - val_mean_squared_error: 0.1855 - val_mean_absolute_error: 0.4041\n",
      "\n",
      "Epoch 00090: val_loss did not improve from 0.30198\n",
      "Epoch 91/1000\n",
      "2534/2534 [==============================] - 0s 116us/step - loss: 1.6124 - mean_squared_error: 0.9515 - mean_absolute_error: 0.5701 - val_loss: 0.3029 - val_mean_squared_error: 0.1855 - val_mean_absolute_error: 0.4041\n",
      "\n",
      "Epoch 00091: val_loss did not improve from 0.30198\n",
      "Epoch 92/1000\n",
      "2534/2534 [==============================] - 0s 141us/step - loss: 1.6129 - mean_squared_error: 0.9515 - mean_absolute_error: 0.5701 - val_loss: 0.3028 - val_mean_squared_error: 0.1855 - val_mean_absolute_error: 0.4041\n",
      "\n",
      "Epoch 00092: val_loss did not improve from 0.30198\n",
      "Epoch 93/1000\n",
      "2534/2534 [==============================] - 0s 153us/step - loss: 1.6124 - mean_squared_error: 0.9515 - mean_absolute_error: 0.5701 - val_loss: 0.3028 - val_mean_squared_error: 0.1855 - val_mean_absolute_error: 0.4041\n",
      "\n",
      "Epoch 00093: val_loss did not improve from 0.30198\n",
      "Epoch 94/1000\n",
      "2534/2534 [==============================] - 0s 103us/step - loss: 1.6124 - mean_squared_error: 0.9515 - mean_absolute_error: 0.5701 - val_loss: 0.3028 - val_mean_squared_error: 0.1855 - val_mean_absolute_error: 0.4041\n",
      "\n",
      "Epoch 00094: val_loss did not improve from 0.30198\n",
      "Epoch 95/1000\n",
      "2534/2534 [==============================] - 0s 131us/step - loss: 1.6122 - mean_squared_error: 0.9515 - mean_absolute_error: 0.5701 - val_loss: 0.3028 - val_mean_squared_error: 0.1855 - val_mean_absolute_error: 0.4041\n",
      "\n",
      "Epoch 00095: val_loss did not improve from 0.30198\n",
      "Epoch 96/1000\n",
      "2534/2534 [==============================] - 0s 122us/step - loss: 1.6121 - mean_squared_error: 0.9515 - mean_absolute_error: 0.5701 - val_loss: 0.3030 - val_mean_squared_error: 0.1855 - val_mean_absolute_error: 0.4041\n",
      "\n",
      "Epoch 00096: val_loss did not improve from 0.30198\n",
      "Epoch 97/1000\n",
      "2534/2534 [==============================] - 0s 115us/step - loss: 1.6119 - mean_squared_error: 0.9515 - mean_absolute_error: 0.5701 - val_loss: 0.3028 - val_mean_squared_error: 0.1855 - val_mean_absolute_error: 0.4041\n",
      "\n",
      "Epoch 00097: val_loss did not improve from 0.30198\n",
      "Epoch 98/1000\n",
      "2534/2534 [==============================] - 0s 109us/step - loss: 1.6124 - mean_squared_error: 0.9515 - mean_absolute_error: 0.5701 - val_loss: 0.3030 - val_mean_squared_error: 0.1855 - val_mean_absolute_error: 0.4041\n",
      "\n",
      "Epoch 00098: val_loss did not improve from 0.30198\n",
      "Epoch 99/1000\n",
      "2534/2534 [==============================] - 0s 117us/step - loss: 1.6121 - mean_squared_error: 0.9515 - mean_absolute_error: 0.5701 - val_loss: 0.3028 - val_mean_squared_error: 0.1855 - val_mean_absolute_error: 0.4041\n",
      "\n",
      "Epoch 00099: val_loss did not improve from 0.30198\n",
      "Epoch 100/1000\n",
      "2534/2534 [==============================] - 0s 111us/step - loss: 1.6120 - mean_squared_error: 0.9515 - mean_absolute_error: 0.5701 - val_loss: 0.3031 - val_mean_squared_error: 0.1855 - val_mean_absolute_error: 0.4041\n",
      "\n",
      "Epoch 00100: val_loss did not improve from 0.30198\n",
      "Epoch 101/1000\n",
      "2534/2534 [==============================] - 0s 109us/step - loss: 1.6116 - mean_squared_error: 0.9515 - mean_absolute_error: 0.5701 - val_loss: 0.3030 - val_mean_squared_error: 0.1855 - val_mean_absolute_error: 0.4041\n",
      "\n",
      "Epoch 00101: val_loss did not improve from 0.30198\n",
      "Epoch 102/1000\n",
      "2534/2534 [==============================] - 0s 111us/step - loss: 1.6116 - mean_squared_error: 0.9515 - mean_absolute_error: 0.5701 - val_loss: 0.3028 - val_mean_squared_error: 0.1855 - val_mean_absolute_error: 0.4041\n",
      "\n",
      "Epoch 00102: val_loss did not improve from 0.30198\n",
      "Epoch 00102: early stopping\n"
     ]
    }
   ],
   "source": [
    "#step 5\n",
    "import numpy as np\n",
    "#Going through 10 different training set sizes and saving results to val_testsize\n",
    "val_testsize = {}\n",
    "\n",
    "#for exponent in np.linspace(-8,-3,10,endpoint=True):\n",
    "#keep for loop to run across all exponents\n",
    "##for exponent in np.linspace(.5,5,20,endpoint=True):\n",
    "    #print(test_size)\n",
    "    ##val_testsize[exponent] = testing_training_size(exponent*10**-6)\n",
    "    \n",
    "#testing one size - 4.289473684210526\n",
    "val_testsize[4.289] = testing_training_size(4.289473684210526*10**-6)\n",
    "#val_testsize[.2] = testing_training_size(.2)"
   ]
  },
  {
   "cell_type": "markdown",
   "metadata": {},
   "source": [
    "## skip if only using one exponent"
   ]
  },
  {
   "cell_type": "code",
   "execution_count": 374,
   "metadata": {
    "scrolled": true
   },
   "outputs": [
    {
     "name": "stdout",
     "output_type": "stream",
     "text": [
      "Exponent:  4.289\n",
      "Final Val loss:  0.15978504206163427\n",
      "\n",
      "\n"
     ]
    }
   ],
   "source": [
    "#print(\"Runs:\", len(val_testsize))\n",
    "#print(\"Test size:\", val_testsize.keys())\n",
    "#print(val_testsize[-8.0][-1])\n",
    "for key,val in val_testsize.items():\n",
    "    print(\"Exponent: \", key)\n",
    "    print(\"Final Val loss: \", val_testsize[key][-1])\n",
    "    print(\"\\n\")"
   ]
  },
  {
   "cell_type": "markdown",
   "metadata": {},
   "source": [
    "## Saving results"
   ]
  },
  {
   "cell_type": "code",
   "execution_count": 375,
   "metadata": {},
   "outputs": [],
   "source": [
    "finalloss_size = {}\n",
    "finalloss_size[6] = val_testsize[4.289]\n",
    "df_fl = pd.DataFrame.from_dict(finalloss_size, orient='index')\n",
    "#df_fl.reset_index().to_csv('ActiveLearn_Loss',index='index')\n",
    "##df_fl.to_csv('w_both_AL_500_Loss.csv')"
   ]
  },
  {
   "cell_type": "markdown",
   "metadata": {},
   "source": [
    "## Looking at prediction loss on validation"
   ]
  },
  {
   "cell_type": "code",
   "execution_count": 185,
   "metadata": {},
   "outputs": [
    {
     "name": "stdout",
     "output_type": "stream",
     "text": [
      "(4116, 116)\n",
      "(4116, 116)\n",
      "(51,)\n"
     ]
    }
   ],
   "source": [
    "print(XV_val.shape)\n",
    "print(XP_val.shape)\n",
    "gaus_indices = np.load('hybridsort_saved_indices.npy')\n",
    "print(gaus_indices.shape)"
   ]
  },
  {
   "cell_type": "code",
   "execution_count": 186,
   "metadata": {},
   "outputs": [
    {
     "data": {
      "text/plain": [
       "'\\nNumber of applications in validations:\\n## Total 4116 ##\\nbackprop 4002\\nkmeans 4\\nsrad 1 \\nleukocyte 36\\nhybridsort 51\\ngaussian 15\\nstream 7\\n\\n'"
      ]
     },
     "execution_count": 186,
     "metadata": {},
     "output_type": "execute_result"
    }
   ],
   "source": [
    "\"\"\"\n",
    "Number of applications in validations:\n",
    "## Total 4116 ##\n",
    "backprop 4002\n",
    "kmeans 4\n",
    "srad 1 \n",
    "leukocyte 36\n",
    "hybridsort 51\n",
    "gaussian 15\n",
    "stream 7\n",
    "\n",
    "\"\"\""
   ]
  },
  {
   "cell_type": "code",
   "execution_count": null,
   "metadata": {},
   "outputs": [],
   "source": []
  },
  {
   "cell_type": "code",
   "execution_count": 187,
   "metadata": {},
   "outputs": [],
   "source": [
    "from keras.models import load_model\n",
    "#model_10 = load_model('10perdata_dram_bias.h5',custom_objects={'loss': weighted_mse(loss_weight)})\n",
    "##model_10 = load_model('20perdata_dram_kmeans_zerobias.h5', custom_objects={'loss':weighted_mse(loss_weight)})\n",
    "model_10 = load_model('membounds_dram_kmeans_zerobias.h5', custom_objects={'loss':weighted_mse(loss_weight)})\n",
    "#model_10 = load_model('wsame_PV_dl_10per_woutbias0.h5')\n",
    "#model_10 = load_model('same_PV_dl_20percmodel116.h5')\n",
    "#model_10 = load_model('wsame_PV_dl_10per_400.h5',custom_objects={'loss': weighted_mse(loss_weight)})\n",
    "y_pred = model_10.predict(XP_val)\n",
    "X_testV = XV_val\n",
    "#y_pred = y_pred[gaus_indices][:,96] #96 = ipc\n",
    "#X_testV = X_testV[gaus_indices][:,96] #96 = ipc\n",
    "y_pred = y_pred[gaus_indices][:,34] #34 = dram_write_throughput\n",
    "X_testV = X_testV[gaus_indices][:,34] #34 = dram_write_throughput"
   ]
  },
  {
   "cell_type": "code",
   "execution_count": 188,
   "metadata": {},
   "outputs": [
    {
     "name": "stdout",
     "output_type": "stream",
     "text": [
      "34\n"
     ]
    }
   ],
   "source": [
    "print(column_name_dict['dram_write_throughput'])\n"
   ]
  },
  {
   "cell_type": "code",
   "execution_count": 189,
   "metadata": {},
   "outputs": [
    {
     "data": {
      "text/plain": [
       "(51,)"
      ]
     },
     "execution_count": 189,
     "metadata": {},
     "output_type": "execute_result"
    }
   ],
   "source": [
    "y_pred.shape\n",
    "#y_pred[:,96].shape"
   ]
  },
  {
   "cell_type": "code",
   "execution_count": 190,
   "metadata": {},
   "outputs": [
    {
     "name": "stdout",
     "output_type": "stream",
     "text": [
      "R: -0.17474171916660441\n",
      "MAE: 0.0141403093903449\n",
      "RMSE: 0.026044769368398998\n"
     ]
    },
    {
     "data": {
      "image/png": "[encoded data removed]",
      "text/plain": [
       "<Figure size 252x252 with 1 Axes>"
      ]
     },
     "metadata": {
      "needs_background": "light"
     },
     "output_type": "display_data"
    }
   ],
   "source": [
    "\n",
    "\n",
    "#Averaging down the columns first (metrics), which converts it to 1 error per metric, then averages that (one row)\n",
    "mse = np.mean(np.mean(np.square(y_pred-X_testV),axis=0))\n",
    "rmse = np.sqrt(mse)\n",
    "\n",
    "normX_testV = np.mean(np.mean(np.square(X_testV),axis=0))\n",
    "#relative to the full scale of all the test data - 3x bigger because it's one number scaling across all metrics\n",
    "mse_relative = np.mean(np.mean(np.square(y_pred-X_testV),axis=0))/normX_testV\n",
    "mspe = np.mean(np.mean(np.square(y_pred - X_testV),axis=0))/normX_testV ## ask bethany\n",
    "rmse_relative = np.sqrt(mspe)\n",
    "\n",
    "\"\"\"\"\"\"\n",
    "print (\"R:\",  sp.stats.pearsonr(X_testV.flatten(), y_pred.flatten())[0])\n",
    "print (\"MAE:\", np.mean(np.abs(y_pred.flatten() - X_testV.flatten())))\n",
    "print (\"RMSE:\", np.sqrt(np.power(X_testV.flatten()- y_pred.flatten(), 2).mean()))\n",
    "\n",
    "#left out the mean, i would get the error rate for each metric\n",
    "#first show val error decreasings as training data increases\n",
    "#second show that val error can decreases earlier with active learning implementation\n",
    "\n",
    "#print(\"MSE:\", mse)\n",
    "#print(\"RMSE:\", rmse)\n",
    "#print(\"MSPE:\", mspe)\n",
    "\n",
    "fig, ax = plt.subplots()\n",
    "\n",
    "# Make the plot\n",
    "ax.scatter(X_testV, y_pred, alpha=0.5)\n",
    "\n",
    "# Make it pretty\n",
    "ax.set_xlim(ax.get_xlim())\n",
    "ax.set_ylim(ax.get_xlim())\n",
    "\n",
    "ax.set_xlabel('True Metrics')\n",
    "ax.set_ylabel('Pred. Metrics')\n",
    "#ax.set_ylim([-10,30])\n",
    "#ax.set_xlim([-10,30])\n",
    "ax.axis('equal')\n",
    "fig.set_size_inches(3.5, 3.5)\n",
    "plt.title('Results for hybridsort - weighted at 100 only - DRAM')\n",
    "# Add in the goal line\n",
    "ax.plot(ax.get_xlim(), ax.get_ylim(), 'k--');\n",
    "#plt.savefig('intra_arch_pred.png', bbox_inches='tight')\n",
    "#not being penalized from predicting value outside of the range"
   ]
  },
  {
   "cell_type": "code",
   "execution_count": null,
   "metadata": {},
   "outputs": [],
   "source": [
    "### dram_Write(x)read(y) for predict and true "
   ]
  },
  {
   "cell_type": "code",
   "execution_count": 230,
   "metadata": {},
   "outputs": [
    {
     "name": "stdout",
     "output_type": "stream",
     "text": [
      "(2, 3)\n",
      "[[2]\n",
      " [4]]\n"
     ]
    }
   ],
   "source": [
    "#print(y_pred.shape)\n",
    "x = np.array([[1,2,3],[1,4,5]])\n",
    "print(x.shape)\n",
    "print(x[:,[1]])"
   ]
  },
  {
   "cell_type": "markdown",
   "metadata": {},
   "source": [
    "## Model Prediction analysis on test data"
   ]
  },
  {
   "cell_type": "code",
   "execution_count": 231,
   "metadata": {},
   "outputs": [
    {
     "name": "stdout",
     "output_type": "stream",
     "text": [
      "(2059, 116)\n",
      "(2059,)\n",
      "(2059, 116)\n"
     ]
    }
   ],
   "source": [
    "#step 6 : need to make sure test data imported is correct or \n",
    "# if it's validation data set that needs to be imported?\n",
    "import numpy as np\n",
    "X_testV = np.load('XV_test_data_all_metrics.npy')\n",
    "X_testP = np.load('XP_test_data_all_metrics.npy')\n",
    "y_testV = np.load('y_test_data_all_metrics.npy')\n",
    "print(X_testV.shape)\n",
    "print(y_testV.shape)\n",
    "print(X_testP.shape)\n",
    "#need to import X_Test from V_100 metrics\n",
    "#need to compare predictions with true output"
   ]
  },
  {
   "cell_type": "code",
   "execution_count": 232,
   "metadata": {},
   "outputs": [
    {
     "name": "stdout",
     "output_type": "stream",
     "text": [
      "R: 0.5312856394746882\n",
      "MAE: 0.18932281641601806\n",
      "RMSE: 0.2909430530667074\n"
     ]
    },
    {
     "data": {
      "image/png": "[encoded data removed]",
      "text/plain": [
       "<Figure size 252x252 with 1 Axes>"
      ]
     },
     "metadata": {
      "needs_background": "light"
     },
     "output_type": "display_data"
    }
   ],
   "source": [
    "#step 7: analysis of model performance\n",
    "from keras.models import load_model\n",
    "\n",
    "#p_model = load_model('PV_dl_20percmodel11620.0.h5')\n",
    "p_model = load_model('PV_dl_20percmodel1161_92.h5')\n",
    "y_pred = p_model.predict(X_testP)\n",
    "\n",
    "\n",
    "#Averaging down the columns first (metrics), which converts it to 1 error per metric, then averages that (one row)\n",
    "mse = np.mean(np.mean(np.square(y_pred-X_testV),axis=0))\n",
    "rmse = np.sqrt(mse)\n",
    "\n",
    "normX_testV = np.mean(np.mean(np.square(X_testV),axis=0))\n",
    "#relative to the full scale of all the test data - 3x bigger because it's one number scaling across all metrics\n",
    "mse_relative = np.mean(np.mean(np.square(y_pred-X_testV),axis=0))/normX_testV\n",
    "mspe = np.mean(np.mean(np.square(y_pred - X_testV),axis=0))/normX_testV ## ask bethany\n",
    "rmse_relative = np.sqrt(mspe)\n",
    "\n",
    "\"\"\"\"\"\"\n",
    "print (\"R:\",  sp.stats.pearsonr(X_testV.flatten(), y_pred.flatten())[0])\n",
    "print (\"MAE:\", np.mean(np.abs(y_pred.flatten() - X_testV.flatten())))\n",
    "print (\"RMSE:\", np.sqrt(np.power(X_testV.flatten()- y_pred.flatten(), 2).mean()))\n",
    "\n",
    "#left out the mean, i would get the error rate for each metric\n",
    "#first show val error decreasings as training data increases\n",
    "#second show that val error can decreases earlier with active learning implementation\n",
    "\n",
    "#print(\"MSE:\", mse)\n",
    "#print(\"RMSE:\", rmse)\n",
    "#print(\"MSPE:\", mspe)\n",
    "\n",
    "fig, ax = plt.subplots()\n",
    "\n",
    "# Make the plot\n",
    "ax.scatter(X_testV, y_pred, alpha=0.5)\n",
    "\n",
    "# Make it pretty\n",
    "ax.set_xlim(ax.get_xlim())\n",
    "ax.set_ylim(ax.get_xlim())\n",
    "\n",
    "ax.set_xlabel('True Metrics')\n",
    "ax.set_ylabel('Pred. Metrics')\n",
    "#ax.set_ylim([-10,30])\n",
    "#ax.set_xlim([-10,30])\n",
    "ax.axis('equal')\n",
    "fig.set_size_inches(3.5, 3.5)\n",
    "\n",
    "# Add in the goal line\n",
    "ax.plot(ax.get_xlim(), ax.get_ylim(), 'k--');\n",
    "#plt.savefig('intra_arch_pred.png', bbox_inches='tight')"
   ]
  },
  {
   "cell_type": "markdown",
   "metadata": {},
   "source": [
    "## Active learning analysis\n",
    "Active learning model chooses data set dependent on variance or by random selection. The kernel names are used to pick data points from both P100 and V100 data sets to create new corresponding data sets. These corresponding data points are used to train the deep learning model above to predict all V100 metrics given P100 metrics at different percentages of training data amount. "
   ]
  },
  {
   "cell_type": "code",
   "execution_count": null,
   "metadata": {},
   "outputs": [],
   "source": [
    "#Used when changing training dataset percentage\n",
    "#previous method - multiple sizes within DL model\n",
    "#Getting final val_loss\n",
    "\n",
    "bar_nam = [.99,.89,.79,.69,.59,.49,.39,.29,.19,.09]\n",
    "import matplotlib.pyplot as plt\n",
    "finalloss_size = {}\n",
    "for k,v in val_testsize.items():\n",
    "    # get final loss for each test size\n",
    "    finalloss_size[k] = val_testsize[k][-1]\n",
    "    #print(k)\n",
    "#saving data\n",
    "df_fl = pd.DataFrame.from_dict(finalloss_size, orient='index')\n",
    "#df_fl.reset_index().to_csv('ActiveLearn_Loss',index='index')\n",
    "df_fl.to_csv('AL3_Loss.csv')\n",
    "#print(finalloss_size.keys())\n",
    "#print(list(finalloss_size.values()))\n",
    "plt.bar(range(len(finalloss_size)), list(finalloss_size.values()), align='center')\n",
    "#plt.xticks(range(len(finalloss_size)), list(finalloss_size.keys()))\n",
    "plt.xticks(range(len(finalloss_size)), bar_nam)\n",
    "plt.xlabel('Percentage of data used in Training dataset')\n",
    "plt.ylabel('Final Loss')\n",
    "plt.title('Loss of data compared to size of training set: Variance Test 2')\n",
    "# # for python 2.x:\n",
    "# plt.bar(range(len(D)), D.values(), align='center')  # python 2.x\n",
    "# plt.xticks(range(len(D)), D.keys())  # in python 2.x\n",
    "plt.ylim((0.005,1.25))\n",
    "plt.savefig(\"AL3_PV_loss_trainsize_2678.png\")\n",
    "plt.show()"
   ]
  },
  {
   "cell_type": "code",
   "execution_count": null,
   "metadata": {},
   "outputs": [],
   "source": [
    "#Plotting loss vs epoch of different training set sizes\n",
    "import numpy as np\n",
    "import matplotlib.pyplot as plt\n",
    "%matplotlib inline\n",
    "\n",
    "#print(history.history.keys())\n",
    "# \"Loss\"\n",
    "#cycle through entire dataset\n",
    "\"\"\"\n",
    "for k, v in val_testsize.items():\n",
    "    #print(k)\n",
    "    plt.plot(val_testsize[k])\n",
    "\"\"\"\n",
    "#plot singular run\n",
    "plt.plot(val_testsize[4.289473684210526])\n",
    "#plt.plot(val_testsize[0.01])\n",
    "#plt.plot(val_testsize[0.51])\n",
    "plt.title('Training data percentage Model loss')\n",
    "plt.ylabel('loss')\n",
    "plt.xlabel('epoch')\n",
    "plt.legend(['.99', '.89', '.79','.69','.59','.49','.39','.29','.19','.09'], loc='upper right')\n",
    "plt.savefig(\"PV_lossepoch_trainsize_2678.png\")\n",
    "\n",
    "plt.show()\n",
    "\n"
   ]
  },
  {
   "cell_type": "markdown",
   "metadata": {},
   "source": [
    "## Prediction results of models created above on all data"
   ]
  },
  {
   "cell_type": "code",
   "execution_count": null,
   "metadata": {},
   "outputs": [],
   "source": [
    "from keras.models import load_model\n",
    "p_model = load_model('dl_model0.11.h5')\n",
    "new_p = pd.read_csv('cor_p100.csv', index_col = 0)\n",
    "new_v = pd.read_csv('cor_v100.csv', index_col = 0)\n",
    "print(new_p.shape)\n",
    "print(new_v.shape)"
   ]
  },
  {
   "cell_type": "code",
   "execution_count": null,
   "metadata": {},
   "outputs": [],
   "source": [
    "X_trainP, X_testP, y_trainP, y_testP, X_P, Y_P = process(new_p,test_size)\n",
    "X_trainV, X_testV, y_trainV, y_testV, X_V, Y_V = process(new_v,test_size)\n",
    "print(X_testP.shape)\n",
    "print(y_testV.shape)"
   ]
  },
  {
   "cell_type": "code",
   "execution_count": null,
   "metadata": {},
   "outputs": [],
   "source": [
    "\n",
    "\n",
    "y_pred = p_model.predict(X_testP)\n",
    "#print(y_pred[1])\n",
    "#print(X_testP[1])\n",
    "#give it a seed \n",
    "\n",
    "#Averaging down the columns first (metrics), which converts it to 1 error per metric, then averages that (one row)\n",
    "mse = np.mean(np.mean(np.square(y_pred-X_testV),axis=0))\n",
    "rmse = np.sqrt(mse)\n",
    "\n",
    "normX_testV = np.mean(np.mean(np.square(y_testV),axis=0))\n",
    "#relative to the full scale of all the test data - 3x bigger because it's one number scaling across all metrics\n",
    "mse_relative = np.mean(np.mean(np.square(y_pred-X_testV),axis=0))/normX_testV\n",
    "mspe = np.mean(np.mean(np.square(y_pred - X_testV),axis=0))/normX_testV ## ask bethany\n",
    "rmse_relative = np.sqrt(mspe)\n",
    "\n",
    "#left out the mean, i would get the error rate for each metric\n",
    "#first show val error decreasings as training data increases\n",
    "#second show that val error can decreases earlier with active learning implementation\n",
    "\n",
    "print(\"MSE:\", mse)\n",
    "print(\"RMSE:\", rmse)\n",
    "print(\"MSPE:\", mspe)\n",
    "\n",
    "fig, ax = plt.subplots()\n",
    "\n",
    "# Make the plot\n",
    "ax.scatter(X_testV, y_pred, alpha=0.5)\n",
    "\n",
    "# Make it pretty\n",
    "ax.set_xlim(ax.get_xlim())\n",
    "ax.set_ylim(ax.get_xlim())\n",
    "\n",
    "ax.set_xlabel('True Metrics')\n",
    "ax.set_ylabel('Pred. Metrics')\n",
    "#ax.set_ylim([-10,30])\n",
    "#ax.set_xlim([-10,30])\n",
    "ax.axis('equal')\n",
    "fig.set_size_inches(3.5, 3.5)\n",
    "\n",
    "# Add in the goal line\n",
    "ax.plot(ax.get_xlim(), ax.get_ylim(), 'k--');\n",
    "#plt.savefig('intra_arch_pred.png', bbox_inches='tight')"
   ]
  },
  {
   "cell_type": "code",
   "execution_count": null,
   "metadata": {},
   "outputs": [],
   "source": [
    "import scipy as sp\n",
    "import numpy as np\n",
    "import matplotlib.pyplot as plt\n",
    "%matplotlib inline\n",
    "# Plotting predicted vs true\n",
    "print (\"R:\",  sp.stats.pearsonr(X_testV.flatten(), y_pred.flatten())[0])\n",
    "print (\"MAE:\", np.abs(y_pred.flatten() - X_testV.flatten()) , 's')\n",
    "print (\"RMSE:\", np.sqrt(np.power(X_testV.flatten()- y_pred.flatten(), 2).mean()), 's')\n",
    "\n",
    "\n",
    "fig, ax = plt.subplots()\n",
    "\n",
    "# Make the plot\n",
    "ax.scatter(X_testV, y_pred, alpha=0.5)\n",
    "\n",
    "# Make it pretty\n",
    "ax.set_xlim(ax.get_xlim())\n",
    "ax.set_ylim(ax.get_xlim())\n",
    "\n",
    "ax.set_xlabel('True Metrics')\n",
    "ax.set_ylabel('Pred. Metrics')\n",
    "#ax.set_ylim([-10,30])\n",
    "#ax.set_xlim([-10,30])\n",
    "ax.axis('equal')\n",
    "fig.set_size_inches(3.5, 3.5)\n",
    "\n",
    "# Add in the goal line\n",
    "ax.plot(ax.get_xlim(), ax.get_ylim(), 'k--');\n",
    "plt.savefig(\"metric_predict.png\")"
   ]
  },
  {
   "cell_type": "markdown",
   "metadata": {},
   "source": [
    "## Showing RMSE for all Metrics"
   ]
  },
  {
   "cell_type": "code",
   "execution_count": 36,
   "metadata": {},
   "outputs": [
    {
     "data": {
      "image/png": "[encoded data removed]",
      "text/plain": [
       "<Figure size 432x288 with 1 Axes>"
      ]
     },
     "metadata": {
      "needs_background": "light"
     },
     "output_type": "display_data"
    }
   ],
   "source": [
    "import numpy as np\n",
    "import matplotlib.pyplot as plt\n",
    "\n",
    "\n",
    "N = 116\n",
    "ind = np.arange(N)    # the x locations for the groups\n",
    "width = 0.35       # the width of the bars: can also be len(x) sequence\n",
    "\n",
    "p1 = plt.bar(ind, np.sqrt(np.mean(np.square(y_pred -X_testV),axis=0)), width)\n",
    "\n",
    "#Showing which metrics are more difficult to acquire\n",
    "plt.ylabel('RMSE')\n",
    "plt.title('RMSE of 116 Metrics')\n",
    "\n",
    "plt.savefig('RMSE_metrics.png', bbox_inches='tight')\n",
    "plt.show()\n"
   ]
  },
  {
   "cell_type": "code",
   "execution_count": 60,
   "metadata": {},
   "outputs": [
    {
     "name": "stdout",
     "output_type": "stream",
     "text": [
      "[ 63   1  59 103  29  99  46  32   2 100]\n",
      "Top most difficult to predict metrics: ['stall_memory_dependency' 'branch_efficiency' 'dram_utilization'\n",
      " 'l2_utilization' 'local_memory_overhead' 'sm_efficiency' 'gst_efficiency'\n",
      " 'l2_tex_write_hit_rate' 'warp_execution_efficiency' 'achieved_occupancy']\n",
      "IPC metric number 96\n",
      "IPC RMSE value: 0.37079071177670936\n",
      "Stall memory dependency RMSE: 0.6104020683441777\n",
      "Memory Bandwidth 33\n",
      "RMSE Memory Bandwidth 0.28468231052347975\n",
      "0.9354361222246397\n",
      "l2_tex_write_hit_rate\n"
     ]
    }
   ],
   "source": [
    "metric_results = np.sqrt(np.mean(np.square(y_pred -X_testV),axis=0))\n",
    "ind = np.argpartition(metric_results, -10)[-10:]\n",
    "print(ind)\n",
    "print('Top most difficult to predict metrics:', XP_column_names[ind])\n",
    "print(\"IPC metric number\", column_name_dict['ipc'])\n",
    "print(\"IPC RMSE value:\", metric_results[96])\n",
    "print('Stall memory dependency RMSE:', metric_results[column_name_dict['stall_memory_dependency']])\n",
    "print(\"Memory Bandwidth\", column_name_dict['dram_read_throughput'])\n",
    "print(\"RMSE Memory Bandwidth\", metric_results[33])\n",
    "print(metric_results[32])\n",
    "print(XP_column_names[32])"
   ]
  },
  {
   "cell_type": "code",
   "execution_count": null,
   "metadata": {},
   "outputs": [],
   "source": [
    "rmse_vals = np.sqrt(np.mean(np.square(y_pred -X_testV),axis=0))"
   ]
  },
  {
   "cell_type": "code",
   "execution_count": null,
   "metadata": {},
   "outputs": [],
   "source": [
    "h_model = my_model()\n",
    "history = h_model.fit(X_trainP, X_trainV, epochs=200, batch_size=10000,  verbose=1, validation_split=0.2)\n"
   ]
  },
  {
   "cell_type": "code",
   "execution_count": null,
   "metadata": {},
   "outputs": [],
   "source": [
    "#histogram of different metrics\n",
    "#RMSE shows that there is around a 1% error in predicting V100 metrics from P100 data"
   ]
  },
  {
   "cell_type": "code",
   "execution_count": null,
   "metadata": {},
   "outputs": [],
   "source": [
    "print(history.history.keys())"
   ]
  },
  {
   "cell_type": "code",
   "execution_count": null,
   "metadata": {},
   "outputs": [],
   "source": [
    "import matplotlib.pyplot as plt\n",
    "%matplotlib inline\n",
    "print(history.history.keys())\n",
    "# \"Loss\"\n",
    "plt.plot(history.history['loss'])\n",
    "plt.plot(history.history['val_loss'])\n",
    "plt.title('model loss')\n",
    "plt.ylabel('loss')\n",
    "plt.xlabel('epoch')\n",
    "plt.legend(['train', 'validation'], loc='upper left')\n",
    "plt.show()"
   ]
  },
  {
   "cell_type": "code",
   "execution_count": null,
   "metadata": {},
   "outputs": [],
   "source": []
  },
  {
   "cell_type": "code",
   "execution_count": null,
   "metadata": {},
   "outputs": [],
   "source": []
  }
 ],
 "metadata": {
  "kernelspec": {
   "display_name": "Python 3",
   "language": "python",
   "name": "python3"
  },
  "language_info": {
   "codemirror_mode": {
    "name": "ipython",
    "version": 3
   },
   "file_extension": ".py",
   "mimetype": "text/x-python",
   "name": "python",
   "nbconvert_exporter": "python",
   "pygments_lexer": "ipython3",
   "version": "3.6.8"
  }
 },
 "nbformat": 4,
 "nbformat_minor": 2
}
